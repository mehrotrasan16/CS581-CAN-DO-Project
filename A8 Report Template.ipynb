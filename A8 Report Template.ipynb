{
 "cells": [
  {
   "cell_type": "markdown",
   "metadata": {},
   "source": [
    "<font size=7> Machine Learning in Vehicles </font>"
   ]
  },
  {
   "cell_type": "markdown",
   "metadata": {},
   "source": [
    "By _Sanket Mehrotra_"
   ]
  },
  {
   "cell_type": "markdown",
   "metadata": {
    "toc": true
   },
   "source": [
    "<h1>Table of Contents<span class=\"tocSkip\"></span></h1>\n",
    "<div class=\"toc\"><ul class=\"toc-item\"><li><span><a href=\"#Introduction\" data-toc-modified-id=\"Introduction-1\"><span class=\"toc-item-num\">1&nbsp;&nbsp;</span>Introduction</a></span></li><li><span><a href=\"#Why-do-we-need-it?\" data-toc-modified-id=\"Why-do-we-need-it?-2\"><span class=\"toc-item-num\">2&nbsp;&nbsp;</span>Why do we need it?</a></span><ul class=\"toc-item\"><li><span><a href=\"#The-in-car-network-:-the-CAN\" data-toc-modified-id=\"The-in-car-network-:-the-CAN-2.1\"><span class=\"toc-item-num\">2.1&nbsp;&nbsp;</span>The in-car network : the CAN</a></span></li><li><span><a href=\"#CAN-attacks\" data-toc-modified-id=\"CAN-attacks-2.2\"><span class=\"toc-item-num\">2.2&nbsp;&nbsp;</span>CAN attacks</a></span></li></ul></li><li><span><a href=\"#How-do-we-do-it?-:-different-approaches\" data-toc-modified-id=\"How-do-we-do-it?-:-different-approaches-3\"><span class=\"toc-item-num\">3&nbsp;&nbsp;</span>How do we do it? : different approaches</a></span><ul class=\"toc-item\"><li><span><a href=\"#Metric-Based\" data-toc-modified-id=\"Metric-Based-3.1\"><span class=\"toc-item-num\">3.1&nbsp;&nbsp;</span>Metric Based</a></span></li><li><span><a href=\"#Machine-Learning-Based\" data-toc-modified-id=\"Machine-Learning-Based-3.2\"><span class=\"toc-item-num\">3.2&nbsp;&nbsp;</span>Machine Learning Based</a></span></li><li><span><a href=\"#DNN-Based\" data-toc-modified-id=\"DNN-Based-3.3\"><span class=\"toc-item-num\">3.3&nbsp;&nbsp;</span>DNN Based</a></span></li></ul></li><li><span><a href=\"#Reference-Papers/-Bibliography\" data-toc-modified-id=\"Reference-Papers/-Bibliography-4\"><span class=\"toc-item-num\">4&nbsp;&nbsp;</span>Reference Papers/ Bibliography</a></span></li><li><span><a href=\"#Analysis-of-Papers\" data-toc-modified-id=\"Analysis-of-Papers-5\"><span class=\"toc-item-num\">5&nbsp;&nbsp;</span>Analysis of Papers</a></span></li><li><span><a href=\"#Issues-and-Challenges\" data-toc-modified-id=\"Issues-and-Challenges-6\"><span class=\"toc-item-num\">6&nbsp;&nbsp;</span>Issues and Challenges</a></span></li><li><span><a href=\"#Conclusion\" data-toc-modified-id=\"Conclusion-7\"><span class=\"toc-item-num\">7&nbsp;&nbsp;</span>Conclusion</a></span></li><li><span><a href=\"#References\" data-toc-modified-id=\"References-8\"><span class=\"toc-item-num\">8&nbsp;&nbsp;</span>References</a></span></li></ul></div>"
   ]
  },
  {
   "cell_type": "markdown",
   "metadata": {},
   "source": [
    "## Introduction\n",
    "\n",
    "IoT, rise of Autonomous Cars, cool features and devices present in cars today, "
   ]
  },
  {
   "cell_type": "markdown",
   "metadata": {},
   "source": [
    "## Why do we need it?\n",
    "need for communication, example 1, example 2\n",
    "\n",
    "### The in-car network : the CAN\n",
    "\n",
    "### CAN attacks\n",
    "\n",
    "## How do we do it? : different approaches\n",
    "\n",
    "### Metric Based\n",
    "\n",
    "### Machine Learning Based\n",
    "\n",
    "### DNN Based\n",
    "\n",
    "\n",
    "## Reference Papers/ Bibliography \n",
    "\n",
    "1. Zhou, A.; Li, Z.; Shen, Y. Anomaly Detection of CAN Bus Messages Using a Deep Neural Network for Autonomous Vehicles. Appl. Sci. 2019, 9, 3174.\n",
    "\n",
    "2. C. Wang, Z. Zhao, L. Gong, L. Zhu, Z. Liu and X. Cheng, \"A Distributed Anomaly Detection System for In-Vehicle Network Using HTM,\" in IEEE Access, vol. 6, pp. 9091-9098, 2018, doi: 10.1109/ACCESS.2018.2799210.\n",
    "\n",
    "3. V. K. Kukkala, S. V. Thiruloga and S. Pasricha, \"INDRA: Intrusion Detection Using Recurrent Autoencoders in Automotive Embedded Systems,\" in IEEE Transactions on Computer-Aided Design of Integrated Circuits and Systems, vol. 39, no. 11, pp. 3698-3710, Nov. 2020, doi: 10.1109/TCAD.2020.3012749.\n",
    "\n",
    "4. Tomlinson, Andrew & Bryans, Jeremy & Shaikh, Siraj. (2018). Using a one-class compound classifier to detect in-vehicle network attacks. 1926-1929. 10.1145/3205651.3208223. \n",
    "\n",
    "5. K. Zhu, Z. Chen, Y. Peng and L. Zhang, \"Mobile Edge Assisted Literal Multi-Dimensional Anomaly Detection of In-Vehicle Network Using LSTM,\" in IEEE Transactions on Vehicular Technology, vol. 68, no. 5, pp. 4275-4284, May 2019, doi: 10.1109/TVT.2019.2907269.\n",
    "\n",
    "6. M. Bozdal, M. Samie and I. Jennions, \"A Survey on CAN Bus Protocol: Attacks, Challenges, and Potential Solutions,\" 2018 International Conference on Computing, Electronics & Communications Engineering (iCCECE), Southend, United Kingdom, 2018, pp. 201-205, doi: 10.1109/iCCECOME.2018.8658720.\n",
    "\n",
    "6. H. Lee, S. H. Jeong and H. K. Kim, \"OTIDS: A Novel Intrusion Detection System for In-vehicle Network by Using Remote Frame,\" 2017 15th Annual Conference on Privacy, Security and Trust (PST), Calgary, AB, 2017, pp. 57-5709, doi: 10.1109/PST.2017.00017.\n"
   ]
  },
  {
   "cell_type": "markdown",
   "metadata": {},
   "source": [
    "Explicity mention the topic you chose. Add a brief discourse of why your chosen topic is of interest to you.\n",
    "Discuss what you perceive as the historical and future importance of the topic.\n",
    "\n",
    "You may choose one of the following topics, or a different topic of particular interest to you.\n",
    "\n",
    "* AI for predicting forest fires\n",
    "* Gender bias in machine learning datasets\n",
    "* Racial bias in hate speech detection models\n",
    "* Impact of AI on labor, such as how automation can replace human workers\n",
    "* AI for smart energy systems\n",
    "- AI in autonomous vehicles\n",
    "- AI in security and surveillance, such as object detection, event detection, face detection\n",
    "- AI in sports analytics, such as automated journalism, wearable tech, strategic game planning, injury management\n",
    "- AI in Healthcare and Medical Imaging Analysis, such as diagnosis of neurological conditions, cancer screening, identifying cardiovascular abnormalities\n",
    "- AI in agriculture, such as precision agriculture\n",
    "- AI in retail, such as virtual fitting rooms, prediction of demand\n",
    "\n",
    "\n",
    "Very briefly mention the **three papers** you selected and why.  Highlight the research questions posed in the papers, and the objective goals of the research. What is the impact of solving the research problems that are common across the papers?\n",
    "\n",
    "Here is an example of how to cite an item in your list of references that must appear at the end of this document:  The AI field includes a variety of search algorithms [Russell and Norvig, 2010].  Perhaps some of these search algorithms could be used to support critical decision makers [Trump, et al., 2020]."
   ]
  },
  {
   "cell_type": "markdown",
   "metadata": {},
   "source": [
    "## Analysis of Papers"
   ]
  },
  {
   "cell_type": "markdown",
   "metadata": {},
   "source": [
    "For each paper:\n",
    "\n",
    "- Explain your personal understanding of the methods and approaches used. Do not quote verbatim from the paper.\n",
    "- Discuss your opinion of how well the methods achieved the goals of the paper.\n",
    "- Describe which parts of the paper are the most difficult to understand and what aspects of the methods are not specified with sufficient detail to allow the reader to write their own implementation.\n",
    "\n",
    "Compare the papers by describing similarities and/or differences in the goals, methods, and results of the papers.  As an optional addition to this section, discuss which presented methods you think would be most easily combined and/or translated to real-world applications."
   ]
  },
  {
   "cell_type": "markdown",
   "metadata": {},
   "source": [
    "## Issues and Challenges"
   ]
  },
  {
   "cell_type": "markdown",
   "metadata": {},
   "source": [
    "What are the major issues and challenges present across all methods in the papers?\n",
    "When presenting an issue/challenge, give examples based on the methods which have those issues. Speculate on possible ways to deal with them."
   ]
  },
  {
   "cell_type": "markdown",
   "metadata": {},
   "source": [
    "## Conclusion"
   ]
  },
  {
   "cell_type": "markdown",
   "metadata": {},
   "source": [
    "Give your opinion of how well the work presented in the collection of papers have advanced the state-of-the-art in their field.  What remaining issues must be addressed in future work to make further significant advances?"
   ]
  },
  {
   "cell_type": "markdown",
   "metadata": {},
   "source": [
    "## References\n",
    "\n",
    "1. **[V. K. Kukkala, S. V. Thiruloga and S. Pasricha]**, *INDRA: Intrusion Detection Using Recurrent Autoencoders in Automotive Embedded Systems* in IEEE Transactions on Computer-Aided Design of Integrated Circuits and Systems, vol. 39, no. 11, pp. 3698-3710, Nov. 2020, doi: 10.1109/TCAD.2020.3012749.\n",
    "\n",
    "2. **[Zhou, A.; Li, Z.; Shen, Y.]**, *Anomaly Detection of CAN Bus Messages Using a Deep Neural Network for Autonomous Vehicles.* Appl. Sci. 2019, 9, 3174.\n",
    "\n",
    "3. **[K. Zhu, Z. Chen, Y. Peng and L. Zhang]**, *Mobile Edge Assisted Literal Multi-Dimensional Anomaly Detection of In-Vehicle Network Using LSTM* in IEEE Transactions on Vehicular Technology, vol. 68, no. 5, pp. 4275-4284, May 2019, doi: 10.1109/TVT.2019.2907269.\n",
    "\n",
    "4. **[C. Wang, Z. Zhao, L. Gong, L. Zhu, Z. Liu and X. Cheng]**, *A Distributed Anomaly Detection System for In-Vehicle Network Using HTM* in IEEE Access, vol. 6, pp. 9091-9098, 2018, doi: 10.1109/ACCESS.2018.2799210.\n",
    "\n",
    "5. **[Tomlinson, Andrew & Bryans, Jeremy & Shaikh, Siraj. (2018)]**, *Using a one-class compound classifier to detect in-vehicle network attacks.* 1926-1929. 10.1145/3205651.3208223. \n",
    "\n",
    "6. **[M. Bozdal, M. Samie and I. Jennions]**, \"A Survey on CAN Bus Protocol: Attacks, Challenges, and Potential Solutions,\" 2018 International Conference on Computing, Electronics & Communications Engineering (iCCECE), Southend, United Kingdom, 2018, pp. 201-205, doi: 10.1109/iCCECOME.2018.8658720.\n",
    "\n",
    "6. **[H. Lee, S. H. Jeong and H. K. Kim]**, *OTIDS: A Novel Intrusion Detection System for In-vehicle Network by Using Remote Frame* 2017 15th Annual Conference on Privacy, Security and Trust (PST), Calgary, AB, 2017, pp. 57-5709, doi: 10.1109/PST.2017.00017."
   ]
  },
  {
   "cell_type": "code",
   "execution_count": 15,
   "metadata": {
    "ExecuteTime": {
     "end_time": "2020-11-16T20:51:43.006980Z",
     "start_time": "2020-11-16T20:51:43.000508Z"
    }
   },
   "outputs": [
    {
     "name": "stdout",
     "output_type": "stream",
     "text": [
      "Word count for file 'A8 Report Template.ipynb' is 530.\n",
      "\n",
      "YOUR REPORT DOES NOT HAVE ENOUGH WORDS!\n"
     ]
    }
   ],
   "source": [
    "import io\n",
    "import nbformat\n",
    "import glob\n",
    "nbfile = glob.glob('A8 Report Template.ipynb')\n",
    "if len(nbfile) > 1:\n",
    "    print('More than one ipynb file. Using the first one.  nbfile=', nbfile)\n",
    "with io.open(nbfile[0], 'r', encoding='utf-8') as f:\n",
    "    nb = nbformat.read(f, as_version=4)\n",
    "word_count = 0\n",
    "for cell in nb['cells']:\n",
    "    if cell.cell_type == \"markdown\":\n",
    "        word_count += len(cell['source'].replace('#', '').lstrip().split(' '))\n",
    "        # print(cell['source'], word_count)\n",
    "\n",
    "print(f\"Word count for file '{nbfile[0]}' is {word_count}.\\n\")\n",
    "\n",
    "if word_count < 2000:\n",
    "    print('Your report does not have enough words!'.upper())\n",
    "elif word_count > 4000:\n",
    "    print('Your report has too many words.  Rewrite some sections more concisely.'.upper())\n",
    "else:\n",
    "    print('Your word count satifies the requirements.')"
   ]
  },
  {
   "cell_type": "markdown",
   "metadata": {},
   "source": [
    "**Grading:  (Remove this cell from your report.)**\n",
    "\n",
    "The above word count for your final report must be at least 2000 but not more than 4000.  Points will be taken off for misspellings, poor grammar, and poor organization.  Divide each section into multiple paragraphs, with one main topic per paragraph."
   ]
  }
 ],
 "metadata": {
  "kernelspec": {
   "display_name": "Python 3",
   "language": "python",
   "name": "python3"
  },
  "language_info": {
   "codemirror_mode": {
    "name": "ipython",
    "version": 3
   },
   "file_extension": ".py",
   "mimetype": "text/x-python",
   "name": "python",
   "nbconvert_exporter": "python",
   "pygments_lexer": "ipython3",
   "version": "3.7.6"
  },
  "toc": {
   "base_numbering": 1,
   "nav_menu": {},
   "number_sections": true,
   "sideBar": true,
   "skip_h1_title": false,
   "title_cell": "Table of Contents",
   "title_sidebar": "Contents",
   "toc_cell": true,
   "toc_position": {},
   "toc_section_display": true,
   "toc_window_display": true
  },
  "toc-autonumbering": false,
  "toc-showcode": false,
  "toc-showtags": false
 },
 "nbformat": 4,
 "nbformat_minor": 4
}
