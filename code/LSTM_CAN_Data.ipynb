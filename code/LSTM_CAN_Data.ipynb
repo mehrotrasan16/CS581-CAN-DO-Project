{
  "nbformat": 4,
  "nbformat_minor": 0,
  "metadata": {
    "colab": {
      "name": "LSTM - CAN Data.ipynb",
      "provenance": [],
      "collapsed_sections": [
        "33dLN5KJxEYr"
      ],
      "include_colab_link": true
    },
    "kernelspec": {
      "name": "python3",
      "display_name": "Python 3"
    },
    "accelerator": "GPU"
  },
  "cells": [
    {
      "cell_type": "markdown",
      "metadata": {
        "id": "view-in-github",
        "colab_type": "text"
      },
      "source": [
        "<a href=\"https://colab.research.google.com/github/mehrotrasan16/CS581-CAN-DO-Project/blob/sanketm-lstm-experiments/code/LSTM_CAN_Data.ipynb\" target=\"_parent\"><img src=\"https://colab.research.google.com/assets/colab-badge.svg\" alt=\"Open In Colab\"/></a>"
      ]
    },
    {
      "cell_type": "markdown",
      "metadata": {
        "id": "5DxZbIsBdr5Q"
      },
      "source": [
        "# Imports"
      ]
    },
    {
      "cell_type": "code",
      "metadata": {
        "colab": {
          "base_uri": "https://localhost:8080/"
        },
        "id": "GMuWAfna9QzQ",
        "outputId": "a0d22fb8-7847-492d-a4ce-7ca0e98c9638"
      },
      "source": [
        "from google.colab import drive\n",
        "drive.mount('/content/drive')"
      ],
      "execution_count": 1,
      "outputs": [
        {
          "output_type": "stream",
          "text": [
            "Drive already mounted at /content/drive; to attempt to forcibly remount, call drive.mount(\"/content/drive\", force_remount=True).\n"
          ],
          "name": "stdout"
        }
      ]
    },
    {
      "cell_type": "code",
      "metadata": {
        "id": "wQL7Rx7XEjRI"
      },
      "source": [
        "import sys\n",
        "import sklearn\n",
        "import tensorflow as tf\n",
        "from tensorflow import keras\n",
        "from sklearn.metrics import recall_score, f1_score\n",
        "\n",
        "import numpy as np\n",
        "import pandas as pd\n",
        "from numpy import load\n",
        "import os\n",
        "\n",
        "# to make this notebook's output stable across runs\n",
        "np.random.seed(42)\n",
        "tf.random.set_seed(42)\n",
        "\n",
        "# To plot pretty figures\n",
        "%matplotlib inline\n",
        "import matplotlib as mpl\n",
        "import matplotlib.pyplot as plt\n",
        "mpl.rc('axes', labelsize=14)\n",
        "mpl.rc('xtick', labelsize=12)\n",
        "mpl.rc('ytick', labelsize=12)\n",
        "\n",
        "\n",
        "def save_fig(fig_id, tight_layout=True, fig_extension=\"png\", resolution=300):\n",
        "    path = os.path.join(IMAGES_PATH, fig_id + \".\" + fig_extension)\n",
        "    print(\"Saving figure\", fig_id)\n",
        "    if tight_layout:\n",
        "        plt.tight_layout()\n",
        "    plt.savefig(path, format=fig_extension, dpi=resolution)\n",
        "\n",
        "def plot_learning_curves(loss, val_loss):\n",
        "    plt.plot(np.arange(len(loss)) + 0.5, loss, \"b.-\", label=\"Training loss\")\n",
        "    plt.plot(np.arange(len(val_loss)) + 1, val_loss, \"r.-\", label=\"Validation loss\")\n",
        "    plt.gca().xaxis.set_major_locator(mpl.ticker.MaxNLocator(integer=True))\n",
        "    plt.axis([1, 20, 0, 0.05])\n",
        "    plt.legend(fontsize=14)\n",
        "    plt.xlabel(\"Epochs\")\n",
        "    plt.ylabel(\"Loss\")\n",
        "    plt.grid(True)\n"
      ],
      "execution_count": 2,
      "outputs": []
    },
    {
      "cell_type": "markdown",
      "metadata": {
        "id": "2oIT-Y4fJ1N7"
      },
      "source": [
        "# Load Datasets"
      ]
    },
    {
      "cell_type": "markdown",
      "metadata": {
        "id": "7ghYyA3PF2xN"
      },
      "source": [
        "### Combining Attack-free + DoS datasets \r\n",
        " Here we work with the Attack-Free and DoS Datasets to get one less biased and slightly better distributed dataset to train and test on."
      ]
    },
    {
      "cell_type": "code",
      "metadata": {
        "colab": {
          "base_uri": "https://localhost:8080/",
          "height": 402
        },
        "id": "ZNfr3jRUF2xT",
        "outputId": "9a5783c9-4cfe-4269-fd29-157c184450de"
      },
      "source": [
        "dosdf = pd.read_csv('/content/drive/My Drive/Colab Notebooks/CS581/project-data/DoS_attack_dataset.csv')\n",
        "dosdf['label'] = np.where(dosdf['CAN ID'] == 0,1,0)\n",
        "dosdf = dosdf.drop(labels=['Timestamp'],axis=1)\n",
        "dosdf"
      ],
      "execution_count": 4,
      "outputs": [
        {
          "output_type": "execute_result",
          "data": {
            "text/html": [
              "<div>\n",
              "<style scoped>\n",
              "    .dataframe tbody tr th:only-of-type {\n",
              "        vertical-align: middle;\n",
              "    }\n",
              "\n",
              "    .dataframe tbody tr th {\n",
              "        vertical-align: top;\n",
              "    }\n",
              "\n",
              "    .dataframe thead th {\n",
              "        text-align: right;\n",
              "    }\n",
              "</style>\n",
              "<table border=\"1\" class=\"dataframe\">\n",
              "  <thead>\n",
              "    <tr style=\"text-align: right;\">\n",
              "      <th></th>\n",
              "      <th>CAN ID</th>\n",
              "      <th>RTR</th>\n",
              "      <th>DLC</th>\n",
              "      <th>Data1</th>\n",
              "      <th>Data2</th>\n",
              "      <th>Data3</th>\n",
              "      <th>Data4</th>\n",
              "      <th>Data5</th>\n",
              "      <th>Data6</th>\n",
              "      <th>Data7</th>\n",
              "      <th>Data8</th>\n",
              "      <th>label</th>\n",
              "    </tr>\n",
              "  </thead>\n",
              "  <tbody>\n",
              "    <tr>\n",
              "      <th>0</th>\n",
              "      <td>0</td>\n",
              "      <td>0</td>\n",
              "      <td>8</td>\n",
              "      <td>0</td>\n",
              "      <td>0</td>\n",
              "      <td>0</td>\n",
              "      <td>0</td>\n",
              "      <td>0</td>\n",
              "      <td>0</td>\n",
              "      <td>0</td>\n",
              "      <td>0</td>\n",
              "      <td>1</td>\n",
              "    </tr>\n",
              "    <tr>\n",
              "      <th>1</th>\n",
              "      <td>128</td>\n",
              "      <td>0</td>\n",
              "      <td>8</td>\n",
              "      <td>0</td>\n",
              "      <td>23</td>\n",
              "      <td>220</td>\n",
              "      <td>9</td>\n",
              "      <td>22</td>\n",
              "      <td>17</td>\n",
              "      <td>22</td>\n",
              "      <td>187</td>\n",
              "      <td>0</td>\n",
              "    </tr>\n",
              "    <tr>\n",
              "      <th>2</th>\n",
              "      <td>0</td>\n",
              "      <td>0</td>\n",
              "      <td>8</td>\n",
              "      <td>0</td>\n",
              "      <td>0</td>\n",
              "      <td>0</td>\n",
              "      <td>0</td>\n",
              "      <td>0</td>\n",
              "      <td>0</td>\n",
              "      <td>0</td>\n",
              "      <td>0</td>\n",
              "      <td>1</td>\n",
              "    </tr>\n",
              "    <tr>\n",
              "      <th>3</th>\n",
              "      <td>129</td>\n",
              "      <td>0</td>\n",
              "      <td>8</td>\n",
              "      <td>64</td>\n",
              "      <td>132</td>\n",
              "      <td>135</td>\n",
              "      <td>0</td>\n",
              "      <td>0</td>\n",
              "      <td>0</td>\n",
              "      <td>0</td>\n",
              "      <td>107</td>\n",
              "      <td>0</td>\n",
              "    </tr>\n",
              "    <tr>\n",
              "      <th>4</th>\n",
              "      <td>0</td>\n",
              "      <td>0</td>\n",
              "      <td>8</td>\n",
              "      <td>0</td>\n",
              "      <td>0</td>\n",
              "      <td>0</td>\n",
              "      <td>0</td>\n",
              "      <td>0</td>\n",
              "      <td>0</td>\n",
              "      <td>0</td>\n",
              "      <td>0</td>\n",
              "      <td>1</td>\n",
              "    </tr>\n",
              "    <tr>\n",
              "      <th>...</th>\n",
              "      <td>...</td>\n",
              "      <td>...</td>\n",
              "      <td>...</td>\n",
              "      <td>...</td>\n",
              "      <td>...</td>\n",
              "      <td>...</td>\n",
              "      <td>...</td>\n",
              "      <td>...</td>\n",
              "      <td>...</td>\n",
              "      <td>...</td>\n",
              "      <td>...</td>\n",
              "      <td>...</td>\n",
              "    </tr>\n",
              "    <tr>\n",
              "      <th>656574</th>\n",
              "      <td>0</td>\n",
              "      <td>0</td>\n",
              "      <td>8</td>\n",
              "      <td>0</td>\n",
              "      <td>0</td>\n",
              "      <td>0</td>\n",
              "      <td>0</td>\n",
              "      <td>0</td>\n",
              "      <td>0</td>\n",
              "      <td>0</td>\n",
              "      <td>0</td>\n",
              "      <td>1</td>\n",
              "    </tr>\n",
              "    <tr>\n",
              "      <th>656575</th>\n",
              "      <td>129</td>\n",
              "      <td>0</td>\n",
              "      <td>8</td>\n",
              "      <td>64</td>\n",
              "      <td>132</td>\n",
              "      <td>137</td>\n",
              "      <td>0</td>\n",
              "      <td>0</td>\n",
              "      <td>0</td>\n",
              "      <td>0</td>\n",
              "      <td>240</td>\n",
              "      <td>0</td>\n",
              "    </tr>\n",
              "    <tr>\n",
              "      <th>656576</th>\n",
              "      <td>0</td>\n",
              "      <td>0</td>\n",
              "      <td>8</td>\n",
              "      <td>0</td>\n",
              "      <td>0</td>\n",
              "      <td>0</td>\n",
              "      <td>0</td>\n",
              "      <td>0</td>\n",
              "      <td>0</td>\n",
              "      <td>0</td>\n",
              "      <td>0</td>\n",
              "      <td>1</td>\n",
              "    </tr>\n",
              "    <tr>\n",
              "      <th>656577</th>\n",
              "      <td>399</td>\n",
              "      <td>0</td>\n",
              "      <td>8</td>\n",
              "      <td>0</td>\n",
              "      <td>59</td>\n",
              "      <td>24</td>\n",
              "      <td>0</td>\n",
              "      <td>0</td>\n",
              "      <td>63</td>\n",
              "      <td>0</td>\n",
              "      <td>0</td>\n",
              "      <td>0</td>\n",
              "    </tr>\n",
              "    <tr>\n",
              "      <th>656578</th>\n",
              "      <td>0</td>\n",
              "      <td>0</td>\n",
              "      <td>8</td>\n",
              "      <td>0</td>\n",
              "      <td>0</td>\n",
              "      <td>0</td>\n",
              "      <td>0</td>\n",
              "      <td>0</td>\n",
              "      <td>0</td>\n",
              "      <td>0</td>\n",
              "      <td>0</td>\n",
              "      <td>1</td>\n",
              "    </tr>\n",
              "  </tbody>\n",
              "</table>\n",
              "<p>656579 rows × 12 columns</p>\n",
              "</div>"
            ],
            "text/plain": [
              "        CAN ID  RTR  DLC  Data1  Data2  ...  Data5  Data6  Data7  Data8  label\n",
              "0            0    0    8      0      0  ...      0      0      0      0      1\n",
              "1          128    0    8      0     23  ...     22     17     22    187      0\n",
              "2            0    0    8      0      0  ...      0      0      0      0      1\n",
              "3          129    0    8     64    132  ...      0      0      0    107      0\n",
              "4            0    0    8      0      0  ...      0      0      0      0      1\n",
              "...        ...  ...  ...    ...    ...  ...    ...    ...    ...    ...    ...\n",
              "656574       0    0    8      0      0  ...      0      0      0      0      1\n",
              "656575     129    0    8     64    132  ...      0      0      0    240      0\n",
              "656576       0    0    8      0      0  ...      0      0      0      0      1\n",
              "656577     399    0    8      0     59  ...      0     63      0      0      0\n",
              "656578       0    0    8      0      0  ...      0      0      0      0      1\n",
              "\n",
              "[656579 rows x 12 columns]"
            ]
          },
          "metadata": {
            "tags": []
          },
          "execution_count": 4
        }
      ]
    },
    {
      "cell_type": "code",
      "metadata": {
        "colab": {
          "base_uri": "https://localhost:8080/",
          "height": 402
        },
        "id": "kv0A9Gr9F2xT",
        "outputId": "910e8a99-8c7d-472c-fb48-98f07d6a1255"
      },
      "source": [
        "df = pd.read_csv('/content/drive/My Drive/Colab Notebooks/CS581/project-data/Attack_free_dataset.csv')\n",
        "df['label'] = 0\n",
        "df = df.drop(columns=['Timestamp'])\n",
        "df"
      ],
      "execution_count": 5,
      "outputs": [
        {
          "output_type": "execute_result",
          "data": {
            "text/html": [
              "<div>\n",
              "<style scoped>\n",
              "    .dataframe tbody tr th:only-of-type {\n",
              "        vertical-align: middle;\n",
              "    }\n",
              "\n",
              "    .dataframe tbody tr th {\n",
              "        vertical-align: top;\n",
              "    }\n",
              "\n",
              "    .dataframe thead th {\n",
              "        text-align: right;\n",
              "    }\n",
              "</style>\n",
              "<table border=\"1\" class=\"dataframe\">\n",
              "  <thead>\n",
              "    <tr style=\"text-align: right;\">\n",
              "      <th></th>\n",
              "      <th>CAN ID</th>\n",
              "      <th>RTR</th>\n",
              "      <th>DLC</th>\n",
              "      <th>Data1</th>\n",
              "      <th>Data2</th>\n",
              "      <th>Data3</th>\n",
              "      <th>Data4</th>\n",
              "      <th>Data5</th>\n",
              "      <th>Data6</th>\n",
              "      <th>Data7</th>\n",
              "      <th>Data8</th>\n",
              "      <th>label</th>\n",
              "    </tr>\n",
              "  </thead>\n",
              "  <tbody>\n",
              "    <tr>\n",
              "      <th>0</th>\n",
              "      <td>790</td>\n",
              "      <td>0</td>\n",
              "      <td>8</td>\n",
              "      <td>5</td>\n",
              "      <td>32</td>\n",
              "      <td>234</td>\n",
              "      <td>10</td>\n",
              "      <td>32</td>\n",
              "      <td>26</td>\n",
              "      <td>0</td>\n",
              "      <td>127</td>\n",
              "      <td>0</td>\n",
              "    </tr>\n",
              "    <tr>\n",
              "      <th>1</th>\n",
              "      <td>809</td>\n",
              "      <td>0</td>\n",
              "      <td>8</td>\n",
              "      <td>215</td>\n",
              "      <td>167</td>\n",
              "      <td>127</td>\n",
              "      <td>140</td>\n",
              "      <td>17</td>\n",
              "      <td>47</td>\n",
              "      <td>0</td>\n",
              "      <td>16</td>\n",
              "      <td>0</td>\n",
              "    </tr>\n",
              "    <tr>\n",
              "      <th>2</th>\n",
              "      <td>128</td>\n",
              "      <td>0</td>\n",
              "      <td>8</td>\n",
              "      <td>0</td>\n",
              "      <td>23</td>\n",
              "      <td>234</td>\n",
              "      <td>10</td>\n",
              "      <td>32</td>\n",
              "      <td>26</td>\n",
              "      <td>32</td>\n",
              "      <td>67</td>\n",
              "      <td>0</td>\n",
              "    </tr>\n",
              "    <tr>\n",
              "      <th>3</th>\n",
              "      <td>129</td>\n",
              "      <td>0</td>\n",
              "      <td>8</td>\n",
              "      <td>127</td>\n",
              "      <td>132</td>\n",
              "      <td>96</td>\n",
              "      <td>0</td>\n",
              "      <td>0</td>\n",
              "      <td>0</td>\n",
              "      <td>0</td>\n",
              "      <td>83</td>\n",
              "      <td>0</td>\n",
              "    </tr>\n",
              "    <tr>\n",
              "      <th>4</th>\n",
              "      <td>288</td>\n",
              "      <td>0</td>\n",
              "      <td>4</td>\n",
              "      <td>0</td>\n",
              "      <td>0</td>\n",
              "      <td>0</td>\n",
              "      <td>0</td>\n",
              "      <td>0</td>\n",
              "      <td>0</td>\n",
              "      <td>0</td>\n",
              "      <td>0</td>\n",
              "      <td>0</td>\n",
              "    </tr>\n",
              "    <tr>\n",
              "      <th>...</th>\n",
              "      <td>...</td>\n",
              "      <td>...</td>\n",
              "      <td>...</td>\n",
              "      <td>...</td>\n",
              "      <td>...</td>\n",
              "      <td>...</td>\n",
              "      <td>...</td>\n",
              "      <td>...</td>\n",
              "      <td>...</td>\n",
              "      <td>...</td>\n",
              "      <td>...</td>\n",
              "      <td>...</td>\n",
              "    </tr>\n",
              "    <tr>\n",
              "      <th>2369393</th>\n",
              "      <td>68</td>\n",
              "      <td>0</td>\n",
              "      <td>8</td>\n",
              "      <td>0</td>\n",
              "      <td>0</td>\n",
              "      <td>0</td>\n",
              "      <td>255</td>\n",
              "      <td>111</td>\n",
              "      <td>0</td>\n",
              "      <td>0</td>\n",
              "      <td>0</td>\n",
              "      <td>0</td>\n",
              "    </tr>\n",
              "    <tr>\n",
              "      <th>2369394</th>\n",
              "      <td>357</td>\n",
              "      <td>0</td>\n",
              "      <td>8</td>\n",
              "      <td>17</td>\n",
              "      <td>232</td>\n",
              "      <td>127</td>\n",
              "      <td>0</td>\n",
              "      <td>0</td>\n",
              "      <td>0</td>\n",
              "      <td>12</td>\n",
              "      <td>138</td>\n",
              "      <td>0</td>\n",
              "    </tr>\n",
              "    <tr>\n",
              "      <th>2369395</th>\n",
              "      <td>688</td>\n",
              "      <td>0</td>\n",
              "      <td>5</td>\n",
              "      <td>35</td>\n",
              "      <td>0</td>\n",
              "      <td>0</td>\n",
              "      <td>7</td>\n",
              "      <td>172</td>\n",
              "      <td>0</td>\n",
              "      <td>0</td>\n",
              "      <td>0</td>\n",
              "      <td>0</td>\n",
              "    </tr>\n",
              "    <tr>\n",
              "      <th>2369396</th>\n",
              "      <td>1200</td>\n",
              "      <td>0</td>\n",
              "      <td>8</td>\n",
              "      <td>0</td>\n",
              "      <td>0</td>\n",
              "      <td>0</td>\n",
              "      <td>0</td>\n",
              "      <td>0</td>\n",
              "      <td>0</td>\n",
              "      <td>0</td>\n",
              "      <td>0</td>\n",
              "      <td>0</td>\n",
              "    </tr>\n",
              "    <tr>\n",
              "      <th>2369397</th>\n",
              "      <td>356</td>\n",
              "      <td>0</td>\n",
              "      <td>8</td>\n",
              "      <td>0</td>\n",
              "      <td>8</td>\n",
              "      <td>0</td>\n",
              "      <td>0</td>\n",
              "      <td>0</td>\n",
              "      <td>0</td>\n",
              "      <td>8</td>\n",
              "      <td>0</td>\n",
              "      <td>0</td>\n",
              "    </tr>\n",
              "  </tbody>\n",
              "</table>\n",
              "<p>2369398 rows × 12 columns</p>\n",
              "</div>"
            ],
            "text/plain": [
              "         CAN ID  RTR  DLC  Data1  Data2  ...  Data5  Data6  Data7  Data8  label\n",
              "0           790    0    8      5     32  ...     32     26      0    127      0\n",
              "1           809    0    8    215    167  ...     17     47      0     16      0\n",
              "2           128    0    8      0     23  ...     32     26     32     67      0\n",
              "3           129    0    8    127    132  ...      0      0      0     83      0\n",
              "4           288    0    4      0      0  ...      0      0      0      0      0\n",
              "...         ...  ...  ...    ...    ...  ...    ...    ...    ...    ...    ...\n",
              "2369393      68    0    8      0      0  ...    111      0      0      0      0\n",
              "2369394     357    0    8     17    232  ...      0      0     12    138      0\n",
              "2369395     688    0    5     35      0  ...    172      0      0      0      0\n",
              "2369396    1200    0    8      0      0  ...      0      0      0      0      0\n",
              "2369397     356    0    8      0      8  ...      0      0      8      0      0\n",
              "\n",
              "[2369398 rows x 12 columns]"
            ]
          },
          "metadata": {
            "tags": []
          },
          "execution_count": 5
        }
      ]
    },
    {
      "cell_type": "markdown",
      "metadata": {
        "id": "JPvsmUOIF2xU"
      },
      "source": [
        "* Here we toss out the timestamp column as in this approach it is not informative about the nature of the outlier.\n",
        "* It also helps us balance out the problems encountered in the previous attack-free and Dos attack experiments.\n",
        "\n",
        "* in the attack free dataset - all the packets were normal data and so had to be labelled with only one value, training a model on single class data does not means it learns anything.\n",
        "\n",
        "* in the Dos Attack dataset, every second message is a dos attack message, leaving the dataset evenly split 50:50 on anomalies/normal network data, but there is not enough contiguous network data for it to learn normal state nor attack state, and as a result it's accuracy will average around 50%"
      ]
    },
    {
      "cell_type": "code",
      "metadata": {
        "colab": {
          "base_uri": "https://localhost:8080/",
          "height": 402
        },
        "id": "3SxgNfTpF2xU",
        "outputId": "1186efab-1dda-42d0-b142-8a52791ae72c"
      },
      "source": [
        "newdf = df.append(dosdf)\r\n",
        "newdf"
      ],
      "execution_count": 6,
      "outputs": [
        {
          "output_type": "execute_result",
          "data": {
            "text/html": [
              "<div>\n",
              "<style scoped>\n",
              "    .dataframe tbody tr th:only-of-type {\n",
              "        vertical-align: middle;\n",
              "    }\n",
              "\n",
              "    .dataframe tbody tr th {\n",
              "        vertical-align: top;\n",
              "    }\n",
              "\n",
              "    .dataframe thead th {\n",
              "        text-align: right;\n",
              "    }\n",
              "</style>\n",
              "<table border=\"1\" class=\"dataframe\">\n",
              "  <thead>\n",
              "    <tr style=\"text-align: right;\">\n",
              "      <th></th>\n",
              "      <th>CAN ID</th>\n",
              "      <th>RTR</th>\n",
              "      <th>DLC</th>\n",
              "      <th>Data1</th>\n",
              "      <th>Data2</th>\n",
              "      <th>Data3</th>\n",
              "      <th>Data4</th>\n",
              "      <th>Data5</th>\n",
              "      <th>Data6</th>\n",
              "      <th>Data7</th>\n",
              "      <th>Data8</th>\n",
              "      <th>label</th>\n",
              "    </tr>\n",
              "  </thead>\n",
              "  <tbody>\n",
              "    <tr>\n",
              "      <th>0</th>\n",
              "      <td>790</td>\n",
              "      <td>0</td>\n",
              "      <td>8</td>\n",
              "      <td>5</td>\n",
              "      <td>32</td>\n",
              "      <td>234</td>\n",
              "      <td>10</td>\n",
              "      <td>32</td>\n",
              "      <td>26</td>\n",
              "      <td>0</td>\n",
              "      <td>127</td>\n",
              "      <td>0</td>\n",
              "    </tr>\n",
              "    <tr>\n",
              "      <th>1</th>\n",
              "      <td>809</td>\n",
              "      <td>0</td>\n",
              "      <td>8</td>\n",
              "      <td>215</td>\n",
              "      <td>167</td>\n",
              "      <td>127</td>\n",
              "      <td>140</td>\n",
              "      <td>17</td>\n",
              "      <td>47</td>\n",
              "      <td>0</td>\n",
              "      <td>16</td>\n",
              "      <td>0</td>\n",
              "    </tr>\n",
              "    <tr>\n",
              "      <th>2</th>\n",
              "      <td>128</td>\n",
              "      <td>0</td>\n",
              "      <td>8</td>\n",
              "      <td>0</td>\n",
              "      <td>23</td>\n",
              "      <td>234</td>\n",
              "      <td>10</td>\n",
              "      <td>32</td>\n",
              "      <td>26</td>\n",
              "      <td>32</td>\n",
              "      <td>67</td>\n",
              "      <td>0</td>\n",
              "    </tr>\n",
              "    <tr>\n",
              "      <th>3</th>\n",
              "      <td>129</td>\n",
              "      <td>0</td>\n",
              "      <td>8</td>\n",
              "      <td>127</td>\n",
              "      <td>132</td>\n",
              "      <td>96</td>\n",
              "      <td>0</td>\n",
              "      <td>0</td>\n",
              "      <td>0</td>\n",
              "      <td>0</td>\n",
              "      <td>83</td>\n",
              "      <td>0</td>\n",
              "    </tr>\n",
              "    <tr>\n",
              "      <th>4</th>\n",
              "      <td>288</td>\n",
              "      <td>0</td>\n",
              "      <td>4</td>\n",
              "      <td>0</td>\n",
              "      <td>0</td>\n",
              "      <td>0</td>\n",
              "      <td>0</td>\n",
              "      <td>0</td>\n",
              "      <td>0</td>\n",
              "      <td>0</td>\n",
              "      <td>0</td>\n",
              "      <td>0</td>\n",
              "    </tr>\n",
              "    <tr>\n",
              "      <th>...</th>\n",
              "      <td>...</td>\n",
              "      <td>...</td>\n",
              "      <td>...</td>\n",
              "      <td>...</td>\n",
              "      <td>...</td>\n",
              "      <td>...</td>\n",
              "      <td>...</td>\n",
              "      <td>...</td>\n",
              "      <td>...</td>\n",
              "      <td>...</td>\n",
              "      <td>...</td>\n",
              "      <td>...</td>\n",
              "    </tr>\n",
              "    <tr>\n",
              "      <th>656574</th>\n",
              "      <td>0</td>\n",
              "      <td>0</td>\n",
              "      <td>8</td>\n",
              "      <td>0</td>\n",
              "      <td>0</td>\n",
              "      <td>0</td>\n",
              "      <td>0</td>\n",
              "      <td>0</td>\n",
              "      <td>0</td>\n",
              "      <td>0</td>\n",
              "      <td>0</td>\n",
              "      <td>1</td>\n",
              "    </tr>\n",
              "    <tr>\n",
              "      <th>656575</th>\n",
              "      <td>129</td>\n",
              "      <td>0</td>\n",
              "      <td>8</td>\n",
              "      <td>64</td>\n",
              "      <td>132</td>\n",
              "      <td>137</td>\n",
              "      <td>0</td>\n",
              "      <td>0</td>\n",
              "      <td>0</td>\n",
              "      <td>0</td>\n",
              "      <td>240</td>\n",
              "      <td>0</td>\n",
              "    </tr>\n",
              "    <tr>\n",
              "      <th>656576</th>\n",
              "      <td>0</td>\n",
              "      <td>0</td>\n",
              "      <td>8</td>\n",
              "      <td>0</td>\n",
              "      <td>0</td>\n",
              "      <td>0</td>\n",
              "      <td>0</td>\n",
              "      <td>0</td>\n",
              "      <td>0</td>\n",
              "      <td>0</td>\n",
              "      <td>0</td>\n",
              "      <td>1</td>\n",
              "    </tr>\n",
              "    <tr>\n",
              "      <th>656577</th>\n",
              "      <td>399</td>\n",
              "      <td>0</td>\n",
              "      <td>8</td>\n",
              "      <td>0</td>\n",
              "      <td>59</td>\n",
              "      <td>24</td>\n",
              "      <td>0</td>\n",
              "      <td>0</td>\n",
              "      <td>63</td>\n",
              "      <td>0</td>\n",
              "      <td>0</td>\n",
              "      <td>0</td>\n",
              "    </tr>\n",
              "    <tr>\n",
              "      <th>656578</th>\n",
              "      <td>0</td>\n",
              "      <td>0</td>\n",
              "      <td>8</td>\n",
              "      <td>0</td>\n",
              "      <td>0</td>\n",
              "      <td>0</td>\n",
              "      <td>0</td>\n",
              "      <td>0</td>\n",
              "      <td>0</td>\n",
              "      <td>0</td>\n",
              "      <td>0</td>\n",
              "      <td>1</td>\n",
              "    </tr>\n",
              "  </tbody>\n",
              "</table>\n",
              "<p>3025977 rows × 12 columns</p>\n",
              "</div>"
            ],
            "text/plain": [
              "        CAN ID  RTR  DLC  Data1  Data2  ...  Data5  Data6  Data7  Data8  label\n",
              "0          790    0    8      5     32  ...     32     26      0    127      0\n",
              "1          809    0    8    215    167  ...     17     47      0     16      0\n",
              "2          128    0    8      0     23  ...     32     26     32     67      0\n",
              "3          129    0    8    127    132  ...      0      0      0     83      0\n",
              "4          288    0    4      0      0  ...      0      0      0      0      0\n",
              "...        ...  ...  ...    ...    ...  ...    ...    ...    ...    ...    ...\n",
              "656574       0    0    8      0      0  ...      0      0      0      0      1\n",
              "656575     129    0    8     64    132  ...      0      0      0    240      0\n",
              "656576       0    0    8      0      0  ...      0      0      0      0      1\n",
              "656577     399    0    8      0     59  ...      0     63      0      0      0\n",
              "656578       0    0    8      0      0  ...      0      0      0      0      1\n",
              "\n",
              "[3025977 rows x 12 columns]"
            ]
          },
          "metadata": {
            "tags": []
          },
          "execution_count": 6
        }
      ]
    },
    {
      "cell_type": "code",
      "metadata": {
        "colab": {
          "base_uri": "https://localhost:8080/",
          "height": 136
        },
        "id": "dKvoq2gYF2xU",
        "outputId": "7cfe8f9e-e871-4165-aa07-2f6cdc1b2eaf"
      },
      "source": [
        "newdf.groupby('label').count()"
      ],
      "execution_count": 7,
      "outputs": [
        {
          "output_type": "execute_result",
          "data": {
            "text/html": [
              "<div>\n",
              "<style scoped>\n",
              "    .dataframe tbody tr th:only-of-type {\n",
              "        vertical-align: middle;\n",
              "    }\n",
              "\n",
              "    .dataframe tbody tr th {\n",
              "        vertical-align: top;\n",
              "    }\n",
              "\n",
              "    .dataframe thead th {\n",
              "        text-align: right;\n",
              "    }\n",
              "</style>\n",
              "<table border=\"1\" class=\"dataframe\">\n",
              "  <thead>\n",
              "    <tr style=\"text-align: right;\">\n",
              "      <th></th>\n",
              "      <th>CAN ID</th>\n",
              "      <th>RTR</th>\n",
              "      <th>DLC</th>\n",
              "      <th>Data1</th>\n",
              "      <th>Data2</th>\n",
              "      <th>Data3</th>\n",
              "      <th>Data4</th>\n",
              "      <th>Data5</th>\n",
              "      <th>Data6</th>\n",
              "      <th>Data7</th>\n",
              "      <th>Data8</th>\n",
              "    </tr>\n",
              "    <tr>\n",
              "      <th>label</th>\n",
              "      <th></th>\n",
              "      <th></th>\n",
              "      <th></th>\n",
              "      <th></th>\n",
              "      <th></th>\n",
              "      <th></th>\n",
              "      <th></th>\n",
              "      <th></th>\n",
              "      <th></th>\n",
              "      <th></th>\n",
              "      <th></th>\n",
              "    </tr>\n",
              "  </thead>\n",
              "  <tbody>\n",
              "    <tr>\n",
              "      <th>0</th>\n",
              "      <td>2690353</td>\n",
              "      <td>2690353</td>\n",
              "      <td>2690353</td>\n",
              "      <td>2690353</td>\n",
              "      <td>2690353</td>\n",
              "      <td>2690353</td>\n",
              "      <td>2690353</td>\n",
              "      <td>2690353</td>\n",
              "      <td>2690353</td>\n",
              "      <td>2690353</td>\n",
              "      <td>2690353</td>\n",
              "    </tr>\n",
              "    <tr>\n",
              "      <th>1</th>\n",
              "      <td>335624</td>\n",
              "      <td>335624</td>\n",
              "      <td>335624</td>\n",
              "      <td>335624</td>\n",
              "      <td>335624</td>\n",
              "      <td>335624</td>\n",
              "      <td>335624</td>\n",
              "      <td>335624</td>\n",
              "      <td>335624</td>\n",
              "      <td>335624</td>\n",
              "      <td>335624</td>\n",
              "    </tr>\n",
              "  </tbody>\n",
              "</table>\n",
              "</div>"
            ],
            "text/plain": [
              "        CAN ID      RTR      DLC    Data1  ...    Data5    Data6    Data7    Data8\n",
              "label                                      ...                                    \n",
              "0      2690353  2690353  2690353  2690353  ...  2690353  2690353  2690353  2690353\n",
              "1       335624   335624   335624   335624  ...   335624   335624   335624   335624\n",
              "\n",
              "[2 rows x 11 columns]"
            ]
          },
          "metadata": {
            "tags": []
          },
          "execution_count": 7
        }
      ]
    },
    {
      "cell_type": "code",
      "metadata": {
        "colab": {
          "base_uri": "https://localhost:8080/"
        },
        "id": "LJ0rNRynF2xU",
        "outputId": "4dabd57a-8141-433e-f64a-120b022d2020"
      },
      "source": [
        "335624/2690353"
      ],
      "execution_count": 8,
      "outputs": [
        {
          "output_type": "execute_result",
          "data": {
            "text/plain": [
              "0.1247509155861703"
            ]
          },
          "metadata": {
            "tags": []
          },
          "execution_count": 8
        }
      ]
    },
    {
      "cell_type": "markdown",
      "metadata": {
        "id": "Iyp6sZTnF_P3"
      },
      "source": [
        "## Baseline LSTM"
      ]
    },
    {
      "cell_type": "markdown",
      "metadata": {
        "id": "B_m80mpPBLmm"
      },
      "source": [
        "### Train-test-split\r\n",
        "\r\n"
      ]
    },
    {
      "cell_type": "code",
      "metadata": {
        "colab": {
          "base_uri": "https://localhost:8080/"
        },
        "id": "hOu1uoDEBQ90",
        "outputId": "70f00648-5fcc-429d-d5de-6bbb65ba8cdc"
      },
      "source": [
        "newdf=newdf.sample(frac=1,random_state=200) #random state is a seed value 200 \r\n",
        "\r\n",
        "series = newdf.to_numpy()\r\n",
        "series = series[ : , :, np.newaxis] \r\n",
        "print(series.shape)\r\n",
        "\r\n",
        "n_features = series.shape[1]\r\n",
        "train_split = int(series.shape[0]*0.7)\r\n",
        "print(f'train split : {train_split}')\r\n",
        "\r\n",
        "val_split = int(series.shape[0]*0.8)\r\n",
        "\r\n",
        "X_train, y_train = series[:train_split, :n_features-1], series[:train_split, -1] # -1 references the last column\r\n",
        "X_valid, y_valid = series[train_split:val_split, :n_features-1], series[train_split:val_split, -1]\r\n",
        "X_test, y_test = series[val_split:, :n_features-1], series[val_split:, -1]\r\n"
      ],
      "execution_count": 9,
      "outputs": [
        {
          "output_type": "stream",
          "text": [
            "(3025977, 12, 1)\n",
            "train split : 2118183\n"
          ],
          "name": "stdout"
        }
      ]
    },
    {
      "cell_type": "code",
      "metadata": {
        "colab": {
          "base_uri": "https://localhost:8080/",
          "height": 136
        },
        "id": "7Vcp8k7RCmv4",
        "outputId": "a784df38-0a77-4d0a-9b46-c4f28720c68d"
      },
      "source": [
        "#X_train stats\r\n",
        "newdf[:train_split].groupby('label').count()"
      ],
      "execution_count": 10,
      "outputs": [
        {
          "output_type": "execute_result",
          "data": {
            "text/html": [
              "<div>\n",
              "<style scoped>\n",
              "    .dataframe tbody tr th:only-of-type {\n",
              "        vertical-align: middle;\n",
              "    }\n",
              "\n",
              "    .dataframe tbody tr th {\n",
              "        vertical-align: top;\n",
              "    }\n",
              "\n",
              "    .dataframe thead th {\n",
              "        text-align: right;\n",
              "    }\n",
              "</style>\n",
              "<table border=\"1\" class=\"dataframe\">\n",
              "  <thead>\n",
              "    <tr style=\"text-align: right;\">\n",
              "      <th></th>\n",
              "      <th>CAN ID</th>\n",
              "      <th>RTR</th>\n",
              "      <th>DLC</th>\n",
              "      <th>Data1</th>\n",
              "      <th>Data2</th>\n",
              "      <th>Data3</th>\n",
              "      <th>Data4</th>\n",
              "      <th>Data5</th>\n",
              "      <th>Data6</th>\n",
              "      <th>Data7</th>\n",
              "      <th>Data8</th>\n",
              "    </tr>\n",
              "    <tr>\n",
              "      <th>label</th>\n",
              "      <th></th>\n",
              "      <th></th>\n",
              "      <th></th>\n",
              "      <th></th>\n",
              "      <th></th>\n",
              "      <th></th>\n",
              "      <th></th>\n",
              "      <th></th>\n",
              "      <th></th>\n",
              "      <th></th>\n",
              "      <th></th>\n",
              "    </tr>\n",
              "  </thead>\n",
              "  <tbody>\n",
              "    <tr>\n",
              "      <th>0</th>\n",
              "      <td>1883438</td>\n",
              "      <td>1883438</td>\n",
              "      <td>1883438</td>\n",
              "      <td>1883438</td>\n",
              "      <td>1883438</td>\n",
              "      <td>1883438</td>\n",
              "      <td>1883438</td>\n",
              "      <td>1883438</td>\n",
              "      <td>1883438</td>\n",
              "      <td>1883438</td>\n",
              "      <td>1883438</td>\n",
              "    </tr>\n",
              "    <tr>\n",
              "      <th>1</th>\n",
              "      <td>234745</td>\n",
              "      <td>234745</td>\n",
              "      <td>234745</td>\n",
              "      <td>234745</td>\n",
              "      <td>234745</td>\n",
              "      <td>234745</td>\n",
              "      <td>234745</td>\n",
              "      <td>234745</td>\n",
              "      <td>234745</td>\n",
              "      <td>234745</td>\n",
              "      <td>234745</td>\n",
              "    </tr>\n",
              "  </tbody>\n",
              "</table>\n",
              "</div>"
            ],
            "text/plain": [
              "        CAN ID      RTR      DLC    Data1  ...    Data5    Data6    Data7    Data8\n",
              "label                                      ...                                    \n",
              "0      1883438  1883438  1883438  1883438  ...  1883438  1883438  1883438  1883438\n",
              "1       234745   234745   234745   234745  ...   234745   234745   234745   234745\n",
              "\n",
              "[2 rows x 11 columns]"
            ]
          },
          "metadata": {
            "tags": []
          },
          "execution_count": 10
        }
      ]
    },
    {
      "cell_type": "code",
      "metadata": {
        "colab": {
          "base_uri": "https://localhost:8080/"
        },
        "id": "uXs4gXmyO_jL",
        "outputId": "35fc59fc-39e3-4666-dad9-5b05fa3e9232"
      },
      "source": [
        "1-(234533/1883650)"
      ],
      "execution_count": 11,
      "outputs": [
        {
          "output_type": "execute_result",
          "data": {
            "text/plain": [
              "0.8754901388262151"
            ]
          },
          "metadata": {
            "tags": []
          },
          "execution_count": 11
        }
      ]
    },
    {
      "cell_type": "code",
      "metadata": {
        "colab": {
          "base_uri": "https://localhost:8080/",
          "height": 136
        },
        "id": "4nfqMnmT832U",
        "outputId": "954687c4-e7c8-4b0d-a8fc-b45f48852a3b"
      },
      "source": [
        "#X_valid split\r\n",
        "newdf[train_split:val_split].groupby('label').count()"
      ],
      "execution_count": 12,
      "outputs": [
        {
          "output_type": "execute_result",
          "data": {
            "text/html": [
              "<div>\n",
              "<style scoped>\n",
              "    .dataframe tbody tr th:only-of-type {\n",
              "        vertical-align: middle;\n",
              "    }\n",
              "\n",
              "    .dataframe tbody tr th {\n",
              "        vertical-align: top;\n",
              "    }\n",
              "\n",
              "    .dataframe thead th {\n",
              "        text-align: right;\n",
              "    }\n",
              "</style>\n",
              "<table border=\"1\" class=\"dataframe\">\n",
              "  <thead>\n",
              "    <tr style=\"text-align: right;\">\n",
              "      <th></th>\n",
              "      <th>CAN ID</th>\n",
              "      <th>RTR</th>\n",
              "      <th>DLC</th>\n",
              "      <th>Data1</th>\n",
              "      <th>Data2</th>\n",
              "      <th>Data3</th>\n",
              "      <th>Data4</th>\n",
              "      <th>Data5</th>\n",
              "      <th>Data6</th>\n",
              "      <th>Data7</th>\n",
              "      <th>Data8</th>\n",
              "    </tr>\n",
              "    <tr>\n",
              "      <th>label</th>\n",
              "      <th></th>\n",
              "      <th></th>\n",
              "      <th></th>\n",
              "      <th></th>\n",
              "      <th></th>\n",
              "      <th></th>\n",
              "      <th></th>\n",
              "      <th></th>\n",
              "      <th></th>\n",
              "      <th></th>\n",
              "      <th></th>\n",
              "    </tr>\n",
              "  </thead>\n",
              "  <tbody>\n",
              "    <tr>\n",
              "      <th>0</th>\n",
              "      <td>269110</td>\n",
              "      <td>269110</td>\n",
              "      <td>269110</td>\n",
              "      <td>269110</td>\n",
              "      <td>269110</td>\n",
              "      <td>269110</td>\n",
              "      <td>269110</td>\n",
              "      <td>269110</td>\n",
              "      <td>269110</td>\n",
              "      <td>269110</td>\n",
              "      <td>269110</td>\n",
              "    </tr>\n",
              "    <tr>\n",
              "      <th>1</th>\n",
              "      <td>33488</td>\n",
              "      <td>33488</td>\n",
              "      <td>33488</td>\n",
              "      <td>33488</td>\n",
              "      <td>33488</td>\n",
              "      <td>33488</td>\n",
              "      <td>33488</td>\n",
              "      <td>33488</td>\n",
              "      <td>33488</td>\n",
              "      <td>33488</td>\n",
              "      <td>33488</td>\n",
              "    </tr>\n",
              "  </tbody>\n",
              "</table>\n",
              "</div>"
            ],
            "text/plain": [
              "       CAN ID     RTR     DLC   Data1  ...   Data5   Data6   Data7   Data8\n",
              "label                                  ...                                \n",
              "0      269110  269110  269110  269110  ...  269110  269110  269110  269110\n",
              "1       33488   33488   33488   33488  ...   33488   33488   33488   33488\n",
              "\n",
              "[2 rows x 11 columns]"
            ]
          },
          "metadata": {
            "tags": []
          },
          "execution_count": 12
        }
      ]
    },
    {
      "cell_type": "code",
      "metadata": {
        "colab": {
          "base_uri": "https://localhost:8080/"
        },
        "id": "4LnunVhhPF4Q",
        "outputId": "a0331435-ffc4-41ae-e9f6-6dd5b2828d56"
      },
      "source": [
        "1-(33852/268746)"
      ],
      "execution_count": 13,
      "outputs": [
        {
          "output_type": "execute_result",
          "data": {
            "text/plain": [
              "0.8740371949722042"
            ]
          },
          "metadata": {
            "tags": []
          },
          "execution_count": 13
        }
      ]
    },
    {
      "cell_type": "code",
      "metadata": {
        "colab": {
          "base_uri": "https://localhost:8080/",
          "height": 136
        },
        "id": "pCMxK-IjJdjf",
        "outputId": "ef5cff2d-02cb-4107-a328-8962b77fd647"
      },
      "source": [
        "#X_test\r\n",
        "newdf[val_split:].groupby('label').count()"
      ],
      "execution_count": 14,
      "outputs": [
        {
          "output_type": "execute_result",
          "data": {
            "text/html": [
              "<div>\n",
              "<style scoped>\n",
              "    .dataframe tbody tr th:only-of-type {\n",
              "        vertical-align: middle;\n",
              "    }\n",
              "\n",
              "    .dataframe tbody tr th {\n",
              "        vertical-align: top;\n",
              "    }\n",
              "\n",
              "    .dataframe thead th {\n",
              "        text-align: right;\n",
              "    }\n",
              "</style>\n",
              "<table border=\"1\" class=\"dataframe\">\n",
              "  <thead>\n",
              "    <tr style=\"text-align: right;\">\n",
              "      <th></th>\n",
              "      <th>CAN ID</th>\n",
              "      <th>RTR</th>\n",
              "      <th>DLC</th>\n",
              "      <th>Data1</th>\n",
              "      <th>Data2</th>\n",
              "      <th>Data3</th>\n",
              "      <th>Data4</th>\n",
              "      <th>Data5</th>\n",
              "      <th>Data6</th>\n",
              "      <th>Data7</th>\n",
              "      <th>Data8</th>\n",
              "    </tr>\n",
              "    <tr>\n",
              "      <th>label</th>\n",
              "      <th></th>\n",
              "      <th></th>\n",
              "      <th></th>\n",
              "      <th></th>\n",
              "      <th></th>\n",
              "      <th></th>\n",
              "      <th></th>\n",
              "      <th></th>\n",
              "      <th></th>\n",
              "      <th></th>\n",
              "      <th></th>\n",
              "    </tr>\n",
              "  </thead>\n",
              "  <tbody>\n",
              "    <tr>\n",
              "      <th>0</th>\n",
              "      <td>537805</td>\n",
              "      <td>537805</td>\n",
              "      <td>537805</td>\n",
              "      <td>537805</td>\n",
              "      <td>537805</td>\n",
              "      <td>537805</td>\n",
              "      <td>537805</td>\n",
              "      <td>537805</td>\n",
              "      <td>537805</td>\n",
              "      <td>537805</td>\n",
              "      <td>537805</td>\n",
              "    </tr>\n",
              "    <tr>\n",
              "      <th>1</th>\n",
              "      <td>67391</td>\n",
              "      <td>67391</td>\n",
              "      <td>67391</td>\n",
              "      <td>67391</td>\n",
              "      <td>67391</td>\n",
              "      <td>67391</td>\n",
              "      <td>67391</td>\n",
              "      <td>67391</td>\n",
              "      <td>67391</td>\n",
              "      <td>67391</td>\n",
              "      <td>67391</td>\n",
              "    </tr>\n",
              "  </tbody>\n",
              "</table>\n",
              "</div>"
            ],
            "text/plain": [
              "       CAN ID     RTR     DLC   Data1  ...   Data5   Data6   Data7   Data8\n",
              "label                                  ...                                \n",
              "0      537805  537805  537805  537805  ...  537805  537805  537805  537805\n",
              "1       67391   67391   67391   67391  ...   67391   67391   67391   67391\n",
              "\n",
              "[2 rows x 11 columns]"
            ]
          },
          "metadata": {
            "tags": []
          },
          "execution_count": 14
        }
      ]
    },
    {
      "cell_type": "code",
      "metadata": {
        "colab": {
          "base_uri": "https://localhost:8080/"
        },
        "id": "NP3lwXt_UHXG",
        "outputId": "6ea10a8c-8373-4bca-da0a-5a15914db646"
      },
      "source": [
        "1-(67239/537957)"
      ],
      "execution_count": 15,
      "outputs": [
        {
          "output_type": "execute_result",
          "data": {
            "text/plain": [
              "0.8750104562260552"
            ]
          },
          "metadata": {
            "tags": []
          },
          "execution_count": 15
        }
      ]
    },
    {
      "cell_type": "code",
      "metadata": {
        "colab": {
          "base_uri": "https://localhost:8080/"
        },
        "id": "0IWRneaKKefp",
        "outputId": "df51b75b-28ac-484d-abe3-081d40a025f3"
      },
      "source": [
        "X_train.shape, y_train.shape,X_valid.shape, y_valid.shape, X_test.shape, y_test.shape"
      ],
      "execution_count": 16,
      "outputs": [
        {
          "output_type": "execute_result",
          "data": {
            "text/plain": [
              "((2118183, 11, 1),\n",
              " (2118183, 1),\n",
              " (302598, 11, 1),\n",
              " (302598, 1),\n",
              " (605196, 11, 1),\n",
              " (605196, 1))"
            ]
          },
          "metadata": {
            "tags": []
          },
          "execution_count": 16
        }
      ]
    },
    {
      "cell_type": "markdown",
      "metadata": {
        "id": "p2lPIAP0KJnf"
      },
      "source": [
        "### Vanilla LSTM Model"
      ]
    },
    {
      "cell_type": "code",
      "metadata": {
        "id": "9FMOMxq_TUeq"
      },
      "source": [
        "tf.keras.backend.clear_session()"
      ],
      "execution_count": 60,
      "outputs": []
    },
    {
      "cell_type": "code",
      "metadata": {
        "colab": {
          "base_uri": "https://localhost:8080/"
        },
        "id": "CbQ3S0qvK3bz",
        "outputId": "a0bb73c5-065b-4dca-b98f-590c58b2dbd5"
      },
      "source": [
        "rnnmodel = keras.models.Sequential([\n",
        "    keras.layers.LSTM(10,input_shape=[X_train.shape[1],1]),\n",
        "    # keras.layers.Flatten(),\n",
        "    keras.layers.Dense(2, activation='sigmoid')\n",
        "])\n",
        "rnnmodel.compile(optimizer='adam',\n",
        "              loss=tf.keras.losses.SparseCategoricalCrossentropy(),\n",
        "              metrics=['accuracy'])\n",
        "print(rnnmodel.summary())"
      ],
      "execution_count": 61,
      "outputs": [
        {
          "output_type": "stream",
          "text": [
            "Model: \"sequential\"\n",
            "_________________________________________________________________\n",
            "Layer (type)                 Output Shape              Param #   \n",
            "=================================================================\n",
            "lstm (LSTM)                  (None, 10)                480       \n",
            "_________________________________________________________________\n",
            "dense (Dense)                (None, 2)                 22        \n",
            "=================================================================\n",
            "Total params: 502\n",
            "Trainable params: 502\n",
            "Non-trainable params: 0\n",
            "_________________________________________________________________\n",
            "None\n"
          ],
          "name": "stdout"
        }
      ]
    },
    {
      "cell_type": "code",
      "metadata": {
        "colab": {
          "base_uri": "https://localhost:8080/"
        },
        "id": "JfkF1nraZns6",
        "outputId": "399b1d7f-891b-441f-a18d-794b632996c2"
      },
      "source": [
        "rnnmodel.layers[0]"
      ],
      "execution_count": 62,
      "outputs": [
        {
          "output_type": "execute_result",
          "data": {
            "text/plain": [
              "<tensorflow.python.keras.layers.recurrent_v2.LSTM at 0x7f3a996d0b38>"
            ]
          },
          "metadata": {
            "tags": []
          },
          "execution_count": 62
        }
      ]
    },
    {
      "cell_type": "code",
      "metadata": {
        "colab": {
          "base_uri": "https://localhost:8080/",
          "height": 312
        },
        "id": "NeevQ4j1K3cC",
        "outputId": "adacd57a-4442-47d5-ef48-b4d72c83f59e"
      },
      "source": [
        " tf.keras.utils.plot_model(rnnmodel,show_shapes=True)"
      ],
      "execution_count": 63,
      "outputs": [
        {
          "output_type": "execute_result",
          "data": {
            "image/png": "[encoded data removed]",
            "text/plain": [
              "<IPython.core.display.Image object>"
            ]
          },
          "metadata": {
            "tags": []
          },
          "execution_count": 63
        }
      ]
    },
    {
      "cell_type": "code",
      "metadata": {
        "colab": {
          "base_uri": "https://localhost:8080/"
        },
        "id": "AswaA9urKHOy",
        "outputId": "a77cb0ca-c84c-4c84-aca2-1df71da32c99"
      },
      "source": [
        "early_stop=keras.callbacks.EarlyStopping(monitor='loss',patience=10)\r\n",
        "\r\n",
        "rnnhistory = rnnmodel.fit(X_train,y_train,\r\n",
        "                          epochs=1,\r\n",
        "                          batch_size=256,\r\n",
        "                          validation_data=(X_valid,y_valid),\r\n",
        "                          callbacks=[early_stop])"
      ],
      "execution_count": 64,
      "outputs": [
        {
          "output_type": "stream",
          "text": [
            "8275/8275 [==============================] - 39s 5ms/step - loss: 0.0211 - accuracy: 0.9930 - val_loss: 5.4212e-06 - val_accuracy: 1.0000\n"
          ],
          "name": "stdout"
        }
      ]
    },
    {
      "cell_type": "markdown",
      "metadata": {
        "id": "0g9wY-iOKHO4"
      },
      "source": [
        "### Evaluation and plotting\r\n"
      ]
    },
    {
      "cell_type": "code",
      "metadata": {
        "colab": {
          "base_uri": "https://localhost:8080/"
        },
        "id": "m8E0f4vZKHO4",
        "outputId": "b7aa3ca1-48c6-4c28-b2fa-817a6bcc7ab8"
      },
      "source": [
        "scores = rnnmodel.evaluate(X_test,y_test)\n",
        "print(f\"Loss, Accuracy: {scores}\")"
      ],
      "execution_count": 65,
      "outputs": [
        {
          "output_type": "stream",
          "text": [
            "18913/18913 [==============================] - 25s 1ms/step - loss: 5.4240e-06 - accuracy: 1.0000\n",
            "Loss, Accuracy: [5.4240481404121965e-06, 1.0]\n"
          ],
          "name": "stdout"
        }
      ]
    },
    {
      "cell_type": "code",
      "metadata": {
        "colab": {
          "base_uri": "https://localhost:8080/",
          "height": 323
        },
        "id": "4OrjJU4zKHO4",
        "outputId": "2da3c8b4-7a6c-499a-d536-8ba933d7b000"
      },
      "source": [
        "plt.subplot(1,2,1)\n",
        "plt.plot(rnnhistory.history[\"loss\"])\n",
        "plt.plot(rnnhistory.history[\"val_loss\"])\n",
        "plt.legend(('loss','val_loss'))\n",
        "plt.subplot(1,2,2)\n",
        "plt.plot(rnnhistory.history[\"accuracy\"])\n",
        "plt.plot(rnnhistory.history[\"val_accuracy\"])\n",
        "plt.legend(('acc','val_acc'))\n",
        "\n",
        "plt.gcf().set_size_inches((10,5))\n",
        "plt.show()"
      ],
      "execution_count": 66,
      "outputs": [
        {
          "output_type": "display_data",
          "data": {
            "image/png": "[encoded data removed]",
            "text/plain": [
              "<Figure size 720x360 with 2 Axes>"
            ]
          },
          "metadata": {
            "tags": [],
            "needs_background": "light"
          }
        }
      ]
    },
    {
      "cell_type": "code",
      "metadata": {
        "colab": {
          "base_uri": "https://localhost:8080/"
        },
        "id": "pyrI8_afKHO5",
        "outputId": "7ef37439-13b5-4a1d-f7a1-0179cfb611cc"
      },
      "source": [
        "y_pred = rnnmodel.predict(X_test)\r\n",
        "y_pred"
      ],
      "execution_count": 67,
      "outputs": [
        {
          "output_type": "execute_result",
          "data": {
            "text/plain": [
              "array([[0.9979372 , 0.00258917],\n",
              "       [0.99770004, 0.00287759],\n",
              "       [0.9979441 , 0.00258103],\n",
              "       ...,\n",
              "       [0.9988005 , 0.00148854],\n",
              "       [0.99877524, 0.00151962],\n",
              "       [0.9989199 , 0.00134608]], dtype=float32)"
            ]
          },
          "metadata": {
            "tags": []
          },
          "execution_count": 67
        }
      ]
    },
    {
      "cell_type": "code",
      "metadata": {
        "colab": {
          "base_uri": "https://localhost:8080/"
        },
        "id": "01B4JEqhR_6Y",
        "outputId": "0949d011-2925-4673-826c-fd20c603b49d"
      },
      "source": [
        "classes = np.array([np.argmax(i) for i in y_pred])\r\n",
        "classes[:20]"
      ],
      "execution_count": 68,
      "outputs": [
        {
          "output_type": "execute_result",
          "data": {
            "text/plain": [
              "array([0, 0, 0, 0, 1, 1, 0, 0, 0, 0, 0, 0, 0, 0, 0, 0, 1, 0, 0, 0])"
            ]
          },
          "metadata": {
            "tags": []
          },
          "execution_count": 68
        }
      ]
    },
    {
      "cell_type": "code",
      "metadata": {
        "colab": {
          "base_uri": "https://localhost:8080/"
        },
        "id": "hLX3ip-LS-J4",
        "outputId": "90c1d8c4-0b9a-4181-f23a-308c355ec676"
      },
      "source": [
        "np.unique(classes)"
      ],
      "execution_count": 69,
      "outputs": [
        {
          "output_type": "execute_result",
          "data": {
            "text/plain": [
              "array([0, 1])"
            ]
          },
          "metadata": {
            "tags": []
          },
          "execution_count": 69
        }
      ]
    },
    {
      "cell_type": "code",
      "metadata": {
        "colab": {
          "base_uri": "https://localhost:8080/"
        },
        "id": "XjhFqIKQKHO5",
        "outputId": "2fe5a578-9e1f-4057-95c2-b0eb4294fa27"
      },
      "source": [
        "X_test[30],y_test[30], np.argmax(y_pred[30])"
      ],
      "execution_count": 70,
      "outputs": [
        {
          "output_type": "execute_result",
          "data": {
            "text/plain": [
              "(array([[357],\n",
              "        [  0],\n",
              "        [  8],\n",
              "        [  8],\n",
              "        [  8],\n",
              "        [128],\n",
              "        [  0],\n",
              "        [  0],\n",
              "        [  0],\n",
              "        [  7],\n",
              "        [135]]), array([0]), 0)"
            ]
          },
          "metadata": {
            "tags": []
          },
          "execution_count": 70
        }
      ]
    },
    {
      "cell_type": "code",
      "metadata": {
        "colab": {
          "base_uri": "https://localhost:8080/"
        },
        "id": "O6lksornA4Ti",
        "outputId": "66ad9643-e675-4b13-c0bc-50b983625f83"
      },
      "source": [
        "recall_score(y_test,classes)"
      ],
      "execution_count": 71,
      "outputs": [
        {
          "output_type": "execute_result",
          "data": {
            "text/plain": [
              "1.0"
            ]
          },
          "metadata": {
            "tags": []
          },
          "execution_count": 71
        }
      ]
    },
    {
      "cell_type": "code",
      "metadata": {
        "colab": {
          "base_uri": "https://localhost:8080/"
        },
        "id": "bpMJ1V3CUsID",
        "outputId": "52dab76a-67e8-4f22-adf6-b02ab9edc6cc"
      },
      "source": [
        "predlist = classes.reshape((classes.shape[0],1))\r\n",
        "y_test.shape, y_pred.shape, predlist.shape"
      ],
      "execution_count": 72,
      "outputs": [
        {
          "output_type": "execute_result",
          "data": {
            "text/plain": [
              "((605196, 1), (605196, 2), (605196, 1))"
            ]
          },
          "metadata": {
            "tags": []
          },
          "execution_count": 72
        }
      ]
    },
    {
      "cell_type": "code",
      "metadata": {
        "colab": {
          "base_uri": "https://localhost:8080/",
          "height": 402
        },
        "id": "yJq6jKpNUu2h",
        "outputId": "62d5c644-e07a-4a3a-8a70-e7359c7a4f31"
      },
      "source": [
        "compdf = pd.DataFrame(predlist)\r\n",
        "compdf['real'] = y_test\r\n",
        "compdf = compdf.rename(columns={0:'pred'})\r\n",
        "compdf['T/F Prediction'] = np.where(compdf['pred'] == compdf['real'],True, False)\r\n",
        "compdf"
      ],
      "execution_count": 73,
      "outputs": [
        {
          "output_type": "execute_result",
          "data": {
            "text/html": [
              "<div>\n",
              "<style scoped>\n",
              "    .dataframe tbody tr th:only-of-type {\n",
              "        vertical-align: middle;\n",
              "    }\n",
              "\n",
              "    .dataframe tbody tr th {\n",
              "        vertical-align: top;\n",
              "    }\n",
              "\n",
              "    .dataframe thead th {\n",
              "        text-align: right;\n",
              "    }\n",
              "</style>\n",
              "<table border=\"1\" class=\"dataframe\">\n",
              "  <thead>\n",
              "    <tr style=\"text-align: right;\">\n",
              "      <th></th>\n",
              "      <th>pred</th>\n",
              "      <th>real</th>\n",
              "      <th>T/F Prediction</th>\n",
              "    </tr>\n",
              "  </thead>\n",
              "  <tbody>\n",
              "    <tr>\n",
              "      <th>0</th>\n",
              "      <td>0</td>\n",
              "      <td>0</td>\n",
              "      <td>True</td>\n",
              "    </tr>\n",
              "    <tr>\n",
              "      <th>1</th>\n",
              "      <td>0</td>\n",
              "      <td>0</td>\n",
              "      <td>True</td>\n",
              "    </tr>\n",
              "    <tr>\n",
              "      <th>2</th>\n",
              "      <td>0</td>\n",
              "      <td>0</td>\n",
              "      <td>True</td>\n",
              "    </tr>\n",
              "    <tr>\n",
              "      <th>3</th>\n",
              "      <td>0</td>\n",
              "      <td>0</td>\n",
              "      <td>True</td>\n",
              "    </tr>\n",
              "    <tr>\n",
              "      <th>4</th>\n",
              "      <td>1</td>\n",
              "      <td>1</td>\n",
              "      <td>True</td>\n",
              "    </tr>\n",
              "    <tr>\n",
              "      <th>...</th>\n",
              "      <td>...</td>\n",
              "      <td>...</td>\n",
              "      <td>...</td>\n",
              "    </tr>\n",
              "    <tr>\n",
              "      <th>605191</th>\n",
              "      <td>0</td>\n",
              "      <td>0</td>\n",
              "      <td>True</td>\n",
              "    </tr>\n",
              "    <tr>\n",
              "      <th>605192</th>\n",
              "      <td>1</td>\n",
              "      <td>1</td>\n",
              "      <td>True</td>\n",
              "    </tr>\n",
              "    <tr>\n",
              "      <th>605193</th>\n",
              "      <td>0</td>\n",
              "      <td>0</td>\n",
              "      <td>True</td>\n",
              "    </tr>\n",
              "    <tr>\n",
              "      <th>605194</th>\n",
              "      <td>0</td>\n",
              "      <td>0</td>\n",
              "      <td>True</td>\n",
              "    </tr>\n",
              "    <tr>\n",
              "      <th>605195</th>\n",
              "      <td>0</td>\n",
              "      <td>0</td>\n",
              "      <td>True</td>\n",
              "    </tr>\n",
              "  </tbody>\n",
              "</table>\n",
              "<p>605196 rows × 3 columns</p>\n",
              "</div>"
            ],
            "text/plain": [
              "        pred  real  T/F Prediction\n",
              "0          0     0            True\n",
              "1          0     0            True\n",
              "2          0     0            True\n",
              "3          0     0            True\n",
              "4          1     1            True\n",
              "...      ...   ...             ...\n",
              "605191     0     0            True\n",
              "605192     1     1            True\n",
              "605193     0     0            True\n",
              "605194     0     0            True\n",
              "605195     0     0            True\n",
              "\n",
              "[605196 rows x 3 columns]"
            ]
          },
          "metadata": {
            "tags": []
          },
          "execution_count": 73
        }
      ]
    },
    {
      "cell_type": "code",
      "metadata": {
        "colab": {
          "base_uri": "https://localhost:8080/"
        },
        "id": "Pm9mi9caUxWm",
        "outputId": "eb89e6fe-e270-4ad6-a312-67bcfd924275"
      },
      "source": [
        "np.unique(compdf.loc[compdf.real == 1]['T/F Prediction'])"
      ],
      "execution_count": 74,
      "outputs": [
        {
          "output_type": "execute_result",
          "data": {
            "text/plain": [
              "array([ True])"
            ]
          },
          "metadata": {
            "tags": []
          },
          "execution_count": 74
        }
      ]
    },
    {
      "cell_type": "code",
      "metadata": {
        "colab": {
          "base_uri": "https://localhost:8080/",
          "height": 582
        },
        "id": "_ZlgYM79Ul6m",
        "outputId": "d5a9cd74-0bd5-482a-f022-2e866586deb0"
      },
      "source": [
        "plot_min=60\r\n",
        "plot_max =120\r\n",
        "plt.scatter(range(plot_min,plot_max),y_test[plot_min:plot_max])\r\n",
        "plt.scatter(range(plot_min,plot_max),[y_pred[i].argmax()+0.009 for i in range(len(y_pred[plot_min:plot_max]))],c=['r'])\r\n",
        "plt.legend(('test class','predicted class'))\r\n",
        "plt.xlabel('timestamp index')\r\n",
        "plt.ylabel('class (0 = normal, 1 = anomaly)')\r\n",
        "plt.xticks(ticks=range(plot_min, plot_max))\r\n",
        "plt.gcf().set_size_inches((20,10))\r\n",
        "# plt.gcf().autofmt_xdate()\r\n",
        "plt.show()"
      ],
      "execution_count": 75,
      "outputs": [
        {
          "output_type": "display_data",
          "data": {
            "image/png": "[encoded data removed]",
            "text/plain": [
              "<Figure size 1440x720 with 1 Axes>"
            ]
          },
          "metadata": {
            "tags": [],
            "needs_background": "light"
          }
        }
      ]
    },
    {
      "cell_type": "markdown",
      "metadata": {
        "id": "5jCd8ZNpKHO5"
      },
      "source": [
        "### Saving and Checking the size of the Model"
      ]
    },
    {
      "cell_type": "code",
      "metadata": {
        "colab": {
          "base_uri": "https://localhost:8080/"
        },
        "id": "UjG-rFVRKHO5",
        "outputId": "bc546b14-f621-4dd1-8fac-4b31f011f9ac"
      },
      "source": [
        "saved_model_dir = '/content/drive/MyDrive/Colab Notebooks/CS581/project-data/'\r\n",
        "rnnmodel.save(saved_model_dir + \"lstm-combinedmodel.h5\",include_optimizer=False)\r\n",
        "print(f\"Saving Model to: {saved_model_dir}lstm-combinedmodel.h5\")"
      ],
      "execution_count": 53,
      "outputs": [
        {
          "output_type": "stream",
          "text": [
            "Saving Model to: /content/drive/MyDrive/Colab Notebooks/CS581/project-data/lstm-combinedmodel.h5\n"
          ],
          "name": "stdout"
        }
      ]
    },
    {
      "cell_type": "code",
      "metadata": {
        "colab": {
          "base_uri": "https://localhost:8080/"
        },
        "id": "2GlTD-CFKHO5",
        "outputId": "1cc49963-1a24-4c0c-e877-14e063cf3c2b"
      },
      "source": [
        "print(f'Size of the model without compression: {os.path.getsize(saved_model_dir + \"lstm-combinedmodel.h5\")/float(2**20)} Mb')"
      ],
      "execution_count": 54,
      "outputs": [
        {
          "output_type": "stream",
          "text": [
            "Size of the model without compression: 0.015869140625 Mb\n"
          ],
          "name": "stdout"
        }
      ]
    },
    {
      "cell_type": "markdown",
      "metadata": {
        "id": "M92_JFGElPyd"
      },
      "source": [
        "# Ablation study\r\n",
        "\r\n",
        "**Dataset chosen for these experiments:** Attack-free + Dos  dataset, wherever it is not explicitly mentioned otherwise."
      ]
    },
    {
      "cell_type": "markdown",
      "metadata": {
        "id": "FLwYzDg7laDI"
      },
      "source": [
        "# Effect of Model Size and Layers"
      ]
    },
    {
      "cell_type": "markdown",
      "metadata": {
        "id": "33dLN5KJxEYr"
      },
      "source": [
        "### Train-test-split\r\n",
        "\r\n"
      ]
    },
    {
      "cell_type": "code",
      "metadata": {
        "colab": {
          "base_uri": "https://localhost:8080/"
        },
        "id": "CDsPX5gIxEY_",
        "outputId": "70f00648-5fcc-429d-d5de-6bbb65ba8cdc"
      },
      "source": [
        "newdf=newdf.sample(frac=1,random_state=200) #random state is a seed value 200 \r\n",
        "\r\n",
        "series = newdf.to_numpy()\r\n",
        "series = series[ : , :, np.newaxis] \r\n",
        "print(series.shape)\r\n",
        "\r\n",
        "n_features = series.shape[1]\r\n",
        "train_split = int(series.shape[0]*0.7)\r\n",
        "print(f'train split : {train_split}')\r\n",
        "\r\n",
        "val_split = int(series.shape[0]*0.8)\r\n",
        "\r\n",
        "X_train, y_train = series[:train_split, :n_features-1], series[:train_split, -1] # -1 references the last column\r\n",
        "X_valid, y_valid = series[train_split:val_split, :n_features-1], series[train_split:val_split, -1]\r\n",
        "X_test, y_test = series[val_split:, :n_features-1], series[val_split:, -1]\r\n"
      ],
      "execution_count": null,
      "outputs": [
        {
          "output_type": "stream",
          "text": [
            "(3025977, 12, 1)\n",
            "train split : 2118183\n"
          ],
          "name": "stdout"
        }
      ]
    },
    {
      "cell_type": "code",
      "metadata": {
        "colab": {
          "base_uri": "https://localhost:8080/",
          "height": 136
        },
        "id": "s97rCYN1xEZB",
        "outputId": "a784df38-0a77-4d0a-9b46-c4f28720c68d"
      },
      "source": [
        "#X_train stats\r\n",
        "newdf[:train_split].groupby('label').count()"
      ],
      "execution_count": null,
      "outputs": [
        {
          "output_type": "execute_result",
          "data": {
            "text/html": [
              "<div>\n",
              "<style scoped>\n",
              "    .dataframe tbody tr th:only-of-type {\n",
              "        vertical-align: middle;\n",
              "    }\n",
              "\n",
              "    .dataframe tbody tr th {\n",
              "        vertical-align: top;\n",
              "    }\n",
              "\n",
              "    .dataframe thead th {\n",
              "        text-align: right;\n",
              "    }\n",
              "</style>\n",
              "<table border=\"1\" class=\"dataframe\">\n",
              "  <thead>\n",
              "    <tr style=\"text-align: right;\">\n",
              "      <th></th>\n",
              "      <th>CAN ID</th>\n",
              "      <th>RTR</th>\n",
              "      <th>DLC</th>\n",
              "      <th>Data1</th>\n",
              "      <th>Data2</th>\n",
              "      <th>Data3</th>\n",
              "      <th>Data4</th>\n",
              "      <th>Data5</th>\n",
              "      <th>Data6</th>\n",
              "      <th>Data7</th>\n",
              "      <th>Data8</th>\n",
              "    </tr>\n",
              "    <tr>\n",
              "      <th>label</th>\n",
              "      <th></th>\n",
              "      <th></th>\n",
              "      <th></th>\n",
              "      <th></th>\n",
              "      <th></th>\n",
              "      <th></th>\n",
              "      <th></th>\n",
              "      <th></th>\n",
              "      <th></th>\n",
              "      <th></th>\n",
              "      <th></th>\n",
              "    </tr>\n",
              "  </thead>\n",
              "  <tbody>\n",
              "    <tr>\n",
              "      <th>0</th>\n",
              "      <td>1883438</td>\n",
              "      <td>1883438</td>\n",
              "      <td>1883438</td>\n",
              "      <td>1883438</td>\n",
              "      <td>1883438</td>\n",
              "      <td>1883438</td>\n",
              "      <td>1883438</td>\n",
              "      <td>1883438</td>\n",
              "      <td>1883438</td>\n",
              "      <td>1883438</td>\n",
              "      <td>1883438</td>\n",
              "    </tr>\n",
              "    <tr>\n",
              "      <th>1</th>\n",
              "      <td>234745</td>\n",
              "      <td>234745</td>\n",
              "      <td>234745</td>\n",
              "      <td>234745</td>\n",
              "      <td>234745</td>\n",
              "      <td>234745</td>\n",
              "      <td>234745</td>\n",
              "      <td>234745</td>\n",
              "      <td>234745</td>\n",
              "      <td>234745</td>\n",
              "      <td>234745</td>\n",
              "    </tr>\n",
              "  </tbody>\n",
              "</table>\n",
              "</div>"
            ],
            "text/plain": [
              "        CAN ID      RTR      DLC    Data1  ...    Data5    Data6    Data7    Data8\n",
              "label                                      ...                                    \n",
              "0      1883438  1883438  1883438  1883438  ...  1883438  1883438  1883438  1883438\n",
              "1       234745   234745   234745   234745  ...   234745   234745   234745   234745\n",
              "\n",
              "[2 rows x 11 columns]"
            ]
          },
          "metadata": {
            "tags": []
          },
          "execution_count": 10
        }
      ]
    },
    {
      "cell_type": "code",
      "metadata": {
        "colab": {
          "base_uri": "https://localhost:8080/"
        },
        "id": "Gudw1I7BxEZC",
        "outputId": "35fc59fc-39e3-4666-dad9-5b05fa3e9232"
      },
      "source": [
        "1-(234533/1883650)"
      ],
      "execution_count": null,
      "outputs": [
        {
          "output_type": "execute_result",
          "data": {
            "text/plain": [
              "0.8754901388262151"
            ]
          },
          "metadata": {
            "tags": []
          },
          "execution_count": 11
        }
      ]
    },
    {
      "cell_type": "code",
      "metadata": {
        "colab": {
          "base_uri": "https://localhost:8080/",
          "height": 136
        },
        "id": "49EpfPxyxEZC",
        "outputId": "954687c4-e7c8-4b0d-a8fc-b45f48852a3b"
      },
      "source": [
        "#X_valid split\r\n",
        "newdf[train_split:val_split].groupby('label').count()"
      ],
      "execution_count": null,
      "outputs": [
        {
          "output_type": "execute_result",
          "data": {
            "text/html": [
              "<div>\n",
              "<style scoped>\n",
              "    .dataframe tbody tr th:only-of-type {\n",
              "        vertical-align: middle;\n",
              "    }\n",
              "\n",
              "    .dataframe tbody tr th {\n",
              "        vertical-align: top;\n",
              "    }\n",
              "\n",
              "    .dataframe thead th {\n",
              "        text-align: right;\n",
              "    }\n",
              "</style>\n",
              "<table border=\"1\" class=\"dataframe\">\n",
              "  <thead>\n",
              "    <tr style=\"text-align: right;\">\n",
              "      <th></th>\n",
              "      <th>CAN ID</th>\n",
              "      <th>RTR</th>\n",
              "      <th>DLC</th>\n",
              "      <th>Data1</th>\n",
              "      <th>Data2</th>\n",
              "      <th>Data3</th>\n",
              "      <th>Data4</th>\n",
              "      <th>Data5</th>\n",
              "      <th>Data6</th>\n",
              "      <th>Data7</th>\n",
              "      <th>Data8</th>\n",
              "    </tr>\n",
              "    <tr>\n",
              "      <th>label</th>\n",
              "      <th></th>\n",
              "      <th></th>\n",
              "      <th></th>\n",
              "      <th></th>\n",
              "      <th></th>\n",
              "      <th></th>\n",
              "      <th></th>\n",
              "      <th></th>\n",
              "      <th></th>\n",
              "      <th></th>\n",
              "      <th></th>\n",
              "    </tr>\n",
              "  </thead>\n",
              "  <tbody>\n",
              "    <tr>\n",
              "      <th>0</th>\n",
              "      <td>269110</td>\n",
              "      <td>269110</td>\n",
              "      <td>269110</td>\n",
              "      <td>269110</td>\n",
              "      <td>269110</td>\n",
              "      <td>269110</td>\n",
              "      <td>269110</td>\n",
              "      <td>269110</td>\n",
              "      <td>269110</td>\n",
              "      <td>269110</td>\n",
              "      <td>269110</td>\n",
              "    </tr>\n",
              "    <tr>\n",
              "      <th>1</th>\n",
              "      <td>33488</td>\n",
              "      <td>33488</td>\n",
              "      <td>33488</td>\n",
              "      <td>33488</td>\n",
              "      <td>33488</td>\n",
              "      <td>33488</td>\n",
              "      <td>33488</td>\n",
              "      <td>33488</td>\n",
              "      <td>33488</td>\n",
              "      <td>33488</td>\n",
              "      <td>33488</td>\n",
              "    </tr>\n",
              "  </tbody>\n",
              "</table>\n",
              "</div>"
            ],
            "text/plain": [
              "       CAN ID     RTR     DLC   Data1  ...   Data5   Data6   Data7   Data8\n",
              "label                                  ...                                \n",
              "0      269110  269110  269110  269110  ...  269110  269110  269110  269110\n",
              "1       33488   33488   33488   33488  ...   33488   33488   33488   33488\n",
              "\n",
              "[2 rows x 11 columns]"
            ]
          },
          "metadata": {
            "tags": []
          },
          "execution_count": 12
        }
      ]
    },
    {
      "cell_type": "code",
      "metadata": {
        "colab": {
          "base_uri": "https://localhost:8080/"
        },
        "id": "XPg3kBQXxEZD",
        "outputId": "a0331435-ffc4-41ae-e9f6-6dd5b2828d56"
      },
      "source": [
        "1-(33852/268746)"
      ],
      "execution_count": null,
      "outputs": [
        {
          "output_type": "execute_result",
          "data": {
            "text/plain": [
              "0.8740371949722042"
            ]
          },
          "metadata": {
            "tags": []
          },
          "execution_count": 13
        }
      ]
    },
    {
      "cell_type": "code",
      "metadata": {
        "colab": {
          "base_uri": "https://localhost:8080/",
          "height": 136
        },
        "id": "qmyoxuYjxEZD",
        "outputId": "ef5cff2d-02cb-4107-a328-8962b77fd647"
      },
      "source": [
        "#X_test\r\n",
        "newdf[val_split:].groupby('label').count()"
      ],
      "execution_count": null,
      "outputs": [
        {
          "output_type": "execute_result",
          "data": {
            "text/html": [
              "<div>\n",
              "<style scoped>\n",
              "    .dataframe tbody tr th:only-of-type {\n",
              "        vertical-align: middle;\n",
              "    }\n",
              "\n",
              "    .dataframe tbody tr th {\n",
              "        vertical-align: top;\n",
              "    }\n",
              "\n",
              "    .dataframe thead th {\n",
              "        text-align: right;\n",
              "    }\n",
              "</style>\n",
              "<table border=\"1\" class=\"dataframe\">\n",
              "  <thead>\n",
              "    <tr style=\"text-align: right;\">\n",
              "      <th></th>\n",
              "      <th>CAN ID</th>\n",
              "      <th>RTR</th>\n",
              "      <th>DLC</th>\n",
              "      <th>Data1</th>\n",
              "      <th>Data2</th>\n",
              "      <th>Data3</th>\n",
              "      <th>Data4</th>\n",
              "      <th>Data5</th>\n",
              "      <th>Data6</th>\n",
              "      <th>Data7</th>\n",
              "      <th>Data8</th>\n",
              "    </tr>\n",
              "    <tr>\n",
              "      <th>label</th>\n",
              "      <th></th>\n",
              "      <th></th>\n",
              "      <th></th>\n",
              "      <th></th>\n",
              "      <th></th>\n",
              "      <th></th>\n",
              "      <th></th>\n",
              "      <th></th>\n",
              "      <th></th>\n",
              "      <th></th>\n",
              "      <th></th>\n",
              "    </tr>\n",
              "  </thead>\n",
              "  <tbody>\n",
              "    <tr>\n",
              "      <th>0</th>\n",
              "      <td>537805</td>\n",
              "      <td>537805</td>\n",
              "      <td>537805</td>\n",
              "      <td>537805</td>\n",
              "      <td>537805</td>\n",
              "      <td>537805</td>\n",
              "      <td>537805</td>\n",
              "      <td>537805</td>\n",
              "      <td>537805</td>\n",
              "      <td>537805</td>\n",
              "      <td>537805</td>\n",
              "    </tr>\n",
              "    <tr>\n",
              "      <th>1</th>\n",
              "      <td>67391</td>\n",
              "      <td>67391</td>\n",
              "      <td>67391</td>\n",
              "      <td>67391</td>\n",
              "      <td>67391</td>\n",
              "      <td>67391</td>\n",
              "      <td>67391</td>\n",
              "      <td>67391</td>\n",
              "      <td>67391</td>\n",
              "      <td>67391</td>\n",
              "      <td>67391</td>\n",
              "    </tr>\n",
              "  </tbody>\n",
              "</table>\n",
              "</div>"
            ],
            "text/plain": [
              "       CAN ID     RTR     DLC   Data1  ...   Data5   Data6   Data7   Data8\n",
              "label                                  ...                                \n",
              "0      537805  537805  537805  537805  ...  537805  537805  537805  537805\n",
              "1       67391   67391   67391   67391  ...   67391   67391   67391   67391\n",
              "\n",
              "[2 rows x 11 columns]"
            ]
          },
          "metadata": {
            "tags": []
          },
          "execution_count": 14
        }
      ]
    },
    {
      "cell_type": "code",
      "metadata": {
        "colab": {
          "base_uri": "https://localhost:8080/"
        },
        "id": "wwzpLsi3xEZE",
        "outputId": "6ea10a8c-8373-4bca-da0a-5a15914db646"
      },
      "source": [
        "1-(67239/537957)"
      ],
      "execution_count": null,
      "outputs": [
        {
          "output_type": "execute_result",
          "data": {
            "text/plain": [
              "0.8750104562260552"
            ]
          },
          "metadata": {
            "tags": []
          },
          "execution_count": 15
        }
      ]
    },
    {
      "cell_type": "code",
      "metadata": {
        "colab": {
          "base_uri": "https://localhost:8080/"
        },
        "id": "P_qoN3FFxEZE",
        "outputId": "df51b75b-28ac-484d-abe3-081d40a025f3"
      },
      "source": [
        "X_train.shape, y_train.shape,X_valid.shape, y_valid.shape, X_test.shape, y_test.shape"
      ],
      "execution_count": null,
      "outputs": [
        {
          "output_type": "execute_result",
          "data": {
            "text/plain": [
              "((2118183, 11, 1),\n",
              " (2118183, 1),\n",
              " (302598, 11, 1),\n",
              " (302598, 1),\n",
              " (605196, 11, 1),\n",
              " (605196, 1))"
            ]
          },
          "metadata": {
            "tags": []
          },
          "execution_count": 16
        }
      ]
    },
    {
      "cell_type": "markdown",
      "metadata": {
        "id": "u2eszxCPl7Av"
      },
      "source": [
        "In this section we experiment with ranges of 4 values of different hyper parameters to see their effect on accuracy on the Impersonation Attack Dataset.\r\n",
        "\r\n",
        "## Number of cells\r\n"
      ]
    },
    {
      "cell_type": "code",
      "metadata": {
        "id": "qx-_fK_Dmr4B",
        "colab": {
          "base_uri": "https://localhost:8080/",
          "height": 1000
        },
        "outputId": "4483e7b9-e659-4f34-f91a-3bb08c2ac019"
      },
      "source": [
        "num_cells = [5,20,100]\r\n",
        "for cells in num_cells:\r\n",
        "    tf.keras.backend.clear_session()\r\n",
        "    rnnmodel = keras.models.Sequential([\r\n",
        "    keras.layers.LSTM(cells,input_shape=[X_train.shape[1],1]),\r\n",
        "    keras.layers.Flatten(),\r\n",
        "    keras.layers.Dense(2, activation='sigmoid')\r\n",
        "    ])\r\n",
        "    rnnmodel.compile(optimizer='adam',\r\n",
        "                loss=tf.keras.losses.SparseCategoricalCrossentropy(),\r\n",
        "                metrics=['accuracy'])\r\n",
        "    print(rnnmodel.summary())\r\n",
        "    tf.keras.utils.plot_model(rnnmodel,show_shapes=True)\r\n",
        "    early_stop=keras.callbacks.EarlyStopping(monitor='loss',patience=10)\r\n",
        "\r\n",
        "    rnnhistory = rnnmodel.fit(X_train,y_train,\r\n",
        "                            epochs=1,\r\n",
        "                            batch_size=256,\r\n",
        "                            validation_data=(X_valid,y_valid),\r\n",
        "                            callbacks=[early_stop])\r\n",
        "    scores = rnnmodel.evaluate(X_test,y_test)\r\n",
        "    print(f\"Loss, Accuracy: {scores}\")\r\n",
        "    plt.subplot(1,2,1)\r\n",
        "    plt.plot(rnnhistory.history[\"loss\"])\r\n",
        "    plt.plot(rnnhistory.history[\"val_loss\"])\r\n",
        "    plt.legend(('loss','val_loss'))\r\n",
        "    plt.subplot(1,2,2)\r\n",
        "    plt.plot(rnnhistory.history[\"accuracy\"])\r\n",
        "    plt.plot(rnnhistory.history[\"val_accuracy\"])\r\n",
        "    plt.legend(('acc','val_acc'))\r\n",
        "\r\n",
        "    plt.gcf().set_size_inches((10,5))\r\n",
        "    plt.show()\r\n",
        "\r\n",
        "    y_pred = rnnmodel.predict(X_test)\r\n",
        "\r\n",
        "    plot_min=60\r\n",
        "    plot_max =120\r\n",
        "    plt.scatter(range(plot_min,plot_max),y_test[plot_min:plot_max])\r\n",
        "    plt.scatter(range(plot_min,plot_max),[y_pred[i].argmax()+0.009 for i in range(len(y_pred[plot_min:plot_max]))],c=['r'])\r\n",
        "    plt.legend(('test class','predicted class'))\r\n",
        "    plt.xlabel('timestamp index')\r\n",
        "    plt.ylabel('class (0 = normal, 1 = anomaly)')\r\n",
        "    plt.xticks(ticks=range(plot_min, plot_max))\r\n",
        "    plt.gcf().set_size_inches((20,10))\r\n",
        "    # plt.gcf().autofmt_xdate()\r\n",
        "    plt.show()\r\n",
        "\r\n",
        "    saved_model_dir = '/content/drive/MyDrive/Colab Notebooks/CS581/project-data/'\r\n",
        "    rnnmodel.save(saved_model_dir + f\"lstm-{cells}cell.h5\",include_optimizer=False)\r\n",
        "    print(f\"Saving Model to: {saved_model_dir}lstm-{cells}cell.h5\")\r\n",
        "    print(f'Size of the {cells} cell model : {os.path.getsize(saved_model_dir + f\"lstm-{cells}cell.h5\")/float(2**20)} Mb')"
      ],
      "execution_count": 57,
      "outputs": [
        {
          "output_type": "stream",
          "text": [
            "Model: \"sequential\"\n",
            "_________________________________________________________________\n",
            "Layer (type)                 Output Shape              Param #   \n",
            "=================================================================\n",
            "lstm (LSTM)                  (None, 5)                 140       \n",
            "_________________________________________________________________\n",
            "flatten (Flatten)            (None, 5)                 0         \n",
            "_________________________________________________________________\n",
            "dense (Dense)                (None, 2)                 12        \n",
            "=================================================================\n",
            "Total params: 152\n",
            "Trainable params: 152\n",
            "Non-trainable params: 0\n",
            "_________________________________________________________________\n",
            "None\n",
            "8275/8275 [==============================] - 38s 4ms/step - loss: 0.0491 - accuracy: 0.9874 - val_loss: 2.4211e-05 - val_accuracy: 1.0000\n",
            "18913/18913 [==============================] - 24s 1ms/step - loss: 2.4287e-05 - accuracy: 1.0000\n",
            "Loss, Accuracy: [2.4287057385663502e-05, 1.0]\n"
          ],
          "name": "stdout"
        },
        {
          "output_type": "display_data",
          "data": {
            "image/png": "[encoded data removed]",
            "text/plain": [
              "<Figure size 720x360 with 2 Axes>"
            ]
          },
          "metadata": {
            "tags": [],
            "needs_background": "light"
          }
        },
        {
          "output_type": "display_data",
          "data": {
            "image/png": "[encoded data removed]",
            "text/plain": [
              "<Figure size 1440x720 with 1 Axes>"
            ]
          },
          "metadata": {
            "tags": [],
            "needs_background": "light"
          }
        },
        {
          "output_type": "stream",
          "text": [
            "Saving Model to: /content/drive/MyDrive/Colab Notebooks/CS581/project-data/lstm-5cell.h5\n",
            "Size of the 5 cell model : 0.015869140625 Mb\n",
            "Model: \"sequential\"\n",
            "_________________________________________________________________\n",
            "Layer (type)                 Output Shape              Param #   \n",
            "=================================================================\n",
            "lstm (LSTM)                  (None, 20)                1760      \n",
            "_________________________________________________________________\n",
            "flatten (Flatten)            (None, 20)                0         \n",
            "_________________________________________________________________\n",
            "dense (Dense)                (None, 2)                 42        \n",
            "=================================================================\n",
            "Total params: 1,802\n",
            "Trainable params: 1,802\n",
            "Non-trainable params: 0\n",
            "_________________________________________________________________\n",
            "None\n",
            "8275/8275 [==============================] - 51s 6ms/step - loss: 0.0292 - accuracy: 0.9842 - val_loss: 3.0324e-06 - val_accuracy: 1.0000\n",
            "18913/18913 [==============================] - 25s 1ms/step - loss: 3.0378e-06 - accuracy: 1.0000\n",
            "Loss, Accuracy: [3.0377689199667657e-06, 1.0]\n"
          ],
          "name": "stdout"
        },
        {
          "output_type": "display_data",
          "data": {
            "image/png": "[encoded data removed]",
            "text/plain": [
              "<Figure size 720x360 with 2 Axes>"
            ]
          },
          "metadata": {
            "tags": [],
            "needs_background": "light"
          }
        },
        {
          "output_type": "display_data",
          "data": {
            "image/png": "[encoded data removed]",
            "text/plain": [
              "<Figure size 1440x720 with 1 Axes>"
            ]
          },
          "metadata": {
            "tags": [],
            "needs_background": "light"
          }
        },
        {
          "output_type": "stream",
          "text": [
            "Saving Model to: /content/drive/MyDrive/Colab Notebooks/CS581/project-data/lstm-20cell.h5\n",
            "Size of the 20 cell model : 0.02197265625 Mb\n",
            "Model: \"sequential\"\n",
            "_________________________________________________________________\n",
            "Layer (type)                 Output Shape              Param #   \n",
            "=================================================================\n",
            "lstm (LSTM)                  (None, 100)               40800     \n",
            "_________________________________________________________________\n",
            "flatten (Flatten)            (None, 100)               0         \n",
            "_________________________________________________________________\n",
            "dense (Dense)                (None, 2)                 202       \n",
            "=================================================================\n",
            "Total params: 41,002\n",
            "Trainable params: 41,002\n",
            "Non-trainable params: 0\n",
            "_________________________________________________________________\n",
            "None\n",
            "8275/8275 [==============================] - 278s 33ms/step - loss: 0.0050 - accuracy: 0.9976 - val_loss: 6.8259e-08 - val_accuracy: 1.0000\n",
            "18913/18913 [==============================] - 49s 3ms/step - loss: 6.8575e-08 - accuracy: 1.0000\n",
            "Loss, Accuracy: [6.85747423290195e-08, 1.0]\n"
          ],
          "name": "stdout"
        },
        {
          "output_type": "display_data",
          "data": {
            "image/png": "[encoded data removed]",
            "text/plain": [
              "<Figure size 720x360 with 2 Axes>"
            ]
          },
          "metadata": {
            "tags": [],
            "needs_background": "light"
          }
        },
        {
          "output_type": "display_data",
          "data": {
            "image/png": "[encoded data removed]",
            "text/plain": [
              "<Figure size 1440x720 with 1 Axes>"
            ]
          },
          "metadata": {
            "tags": [],
            "needs_background": "light"
          }
        },
        {
          "output_type": "stream",
          "text": [
            "Saving Model to: /content/drive/MyDrive/Colab Notebooks/CS581/project-data/lstm-100cell.h5\n",
            "Size of the 100 cell model : 0.173370361328125 Mb\n"
          ],
          "name": "stdout"
        }
      ]
    },
    {
      "cell_type": "markdown",
      "metadata": {
        "id": "McF_Oo_KzkhH"
      },
      "source": [
        "### Comparison Table\r\n",
        "\r\n",
        "| Metric\\cells | 5 | 10 | 20 |100|\r\n",
        "|---|---|---|---|---|\r\n",
        "|Accuracy(%)|0.9858|0.9918|0.9874|0.9982|\r\n",
        "|Size(MB)|0.015|0.015|0.021|0.17|\r\n",
        "|Total Parameters|152|502|1802|41002|\r\n",
        "|Inference Time(sec)|22|66|25|48|"
      ]
    },
    {
      "cell_type": "markdown",
      "metadata": {
        "id": "clKHS4hBml_f"
      },
      "source": [
        "## Activation function"
      ]
    },
    {
      "cell_type": "code",
      "metadata": {
        "id": "O4xlcffBmliY",
        "colab": {
          "base_uri": "https://localhost:8080/",
          "height": 1000
        },
        "outputId": "17fe0349-f088-4995-ab4a-f5b446e4aa11"
      },
      "source": [
        "acts = ['relu','sigmoid','softmax']\r\n",
        "for act in acts:\r\n",
        "    tf.keras.backend.clear_session()\r\n",
        "    rnnmodel = keras.models.Sequential([\r\n",
        "    keras.layers.LSTM(10,input_shape=[X_train.shape[1],1]),\r\n",
        "    keras.layers.Flatten(),\r\n",
        "    keras.layers.Dense(2, activation=act)\r\n",
        "    ])\r\n",
        "    rnnmodel.compile(optimizer='adam',\r\n",
        "                loss=tf.keras.losses.SparseCategoricalCrossentropy(),\r\n",
        "                metrics=['accuracy'])\r\n",
        "    print(rnnmodel.summary())\r\n",
        "    tf.keras.utils.plot_model(rnnmodel,show_shapes=True)\r\n",
        "    early_stop=keras.callbacks.EarlyStopping(monitor='loss',patience=10)\r\n",
        "\r\n",
        "    rnnhistory = rnnmodel.fit(X_train,y_train,\r\n",
        "                            epochs=1,\r\n",
        "                            batch_size=256,\r\n",
        "                            validation_data=(X_valid,y_valid),\r\n",
        "                            callbacks=[early_stop])\r\n",
        "    scores = rnnmodel.evaluate(X_test,y_test)\r\n",
        "    print(f\"Loss, Accuracy: {scores}\")\r\n",
        "    plt.subplot(1,2,1)\r\n",
        "    plt.plot(rnnhistory.history[\"loss\"])\r\n",
        "    plt.plot(rnnhistory.history[\"val_loss\"])\r\n",
        "    plt.legend(('loss','val_loss'))\r\n",
        "    plt.subplot(1,2,2)\r\n",
        "    plt.plot(rnnhistory.history[\"accuracy\"])\r\n",
        "    plt.plot(rnnhistory.history[\"val_accuracy\"])\r\n",
        "    plt.legend(('acc','val_acc'))\r\n",
        "\r\n",
        "    plt.gcf().set_size_inches((10,5))\r\n",
        "    plt.show()\r\n",
        "\r\n",
        "    y_pred = rnnmodel.predict(X_test)\r\n",
        "\r\n",
        "    plot_min=60\r\n",
        "    plot_max =120\r\n",
        "    plt.scatter(range(plot_min,plot_max),y_test[plot_min:plot_max])\r\n",
        "    plt.scatter(range(plot_min,plot_max),[y_pred[i].argmax()+0.009 for i in range(len(y_pred[plot_min:plot_max]))],c=['r'])\r\n",
        "    plt.legend(('test class','predicted class'))\r\n",
        "    plt.xlabel('timestamp index')\r\n",
        "    plt.ylabel('class (0 = normal, 1 = anomaly)')\r\n",
        "    plt.xticks(ticks=range(plot_min, plot_max))\r\n",
        "    plt.gcf().set_size_inches((20,10))\r\n",
        "    # plt.gcf().autofmt_xdate()\r\n",
        "    plt.show()\r\n",
        "\r\n",
        "    saved_model_dir = '/content/drive/MyDrive/Colab Notebooks/CS581/project-data/'\r\n",
        "    rnnmodel.save(saved_model_dir + f\"lstm-{act}.h5\",include_optimizer=False)\r\n",
        "    print(f\"Saving Model to: {saved_model_dir}lstm-{act}.h5\")\r\n",
        "    print(f'Size of the {act} act model : {os.path.getsize(saved_model_dir + f\"lstm-{act}.h5\")/float(2**20)} Mb')"
      ],
      "execution_count": 58,
      "outputs": [
        {
          "output_type": "stream",
          "text": [
            "Model: \"sequential\"\n",
            "_________________________________________________________________\n",
            "Layer (type)                 Output Shape              Param #   \n",
            "=================================================================\n",
            "lstm (LSTM)                  (None, 10)                480       \n",
            "_________________________________________________________________\n",
            "flatten (Flatten)            (None, 10)                0         \n",
            "_________________________________________________________________\n",
            "dense (Dense)                (None, 2)                 22        \n",
            "=================================================================\n",
            "Total params: 502\n",
            "Trainable params: 502\n",
            "Non-trainable params: 0\n",
            "_________________________________________________________________\n",
            "None\n",
            "8275/8275 [==============================] - 40s 5ms/step - loss: 0.0290 - accuracy: 0.9860 - val_loss: 7.3608e-07 - val_accuracy: 1.0000\n",
            "18913/18913 [==============================] - 25s 1ms/step - loss: 7.3514e-07 - accuracy: 1.0000\n",
            "Loss, Accuracy: [7.351398494392924e-07, 1.0]\n"
          ],
          "name": "stdout"
        },
        {
          "output_type": "display_data",
          "data": {
            "image/png": "[encoded data removed]",
            "text/plain": [
              "<Figure size 720x360 with 2 Axes>"
            ]
          },
          "metadata": {
            "tags": [],
            "needs_background": "light"
          }
        },
        {
          "output_type": "display_data",
          "data": {
            "image/png": "[encoded data removed]",
            "text/plain": [
              "<Figure size 1440x720 with 1 Axes>"
            ]
          },
          "metadata": {
            "tags": [],
            "needs_background": "light"
          }
        },
        {
          "output_type": "stream",
          "text": [
            "Saving Model to: /content/drive/MyDrive/Colab Notebooks/CS581/project-data/lstm-relu.h5\n",
            "Size of the relu act model : 0.015869140625 Mb\n",
            "Model: \"sequential\"\n",
            "_________________________________________________________________\n",
            "Layer (type)                 Output Shape              Param #   \n",
            "=================================================================\n",
            "lstm (LSTM)                  (None, 10)                480       \n",
            "_________________________________________________________________\n",
            "flatten (Flatten)            (None, 10)                0         \n",
            "_________________________________________________________________\n",
            "dense (Dense)                (None, 2)                 22        \n",
            "=================================================================\n",
            "Total params: 502\n",
            "Trainable params: 502\n",
            "Non-trainable params: 0\n",
            "_________________________________________________________________\n",
            "None\n",
            "8275/8275 [==============================] - 38s 4ms/step - loss: 0.0252 - accuracy: 0.9918 - val_loss: 6.9241e-06 - val_accuracy: 1.0000\n",
            "18913/18913 [==============================] - 25s 1ms/step - loss: 6.9246e-06 - accuracy: 1.0000\n",
            "Loss, Accuracy: [6.924639365024632e-06, 1.0]\n"
          ],
          "name": "stdout"
        },
        {
          "output_type": "display_data",
          "data": {
            "image/png": "[encoded data removed]",
            "text/plain": [
              "<Figure size 720x360 with 2 Axes>"
            ]
          },
          "metadata": {
            "tags": [],
            "needs_background": "light"
          }
        },
        {
          "output_type": "display_data",
          "data": {
            "image/png": "[encoded data removed]",
            "text/plain": [
              "<Figure size 1440x720 with 1 Axes>"
            ]
          },
          "metadata": {
            "tags": [],
            "needs_background": "light"
          }
        },
        {
          "output_type": "stream",
          "text": [
            "Saving Model to: /content/drive/MyDrive/Colab Notebooks/CS581/project-data/lstm-sigmoid.h5\n",
            "Size of the sigmoid act model : 0.015869140625 Mb\n",
            "Model: \"sequential\"\n",
            "_________________________________________________________________\n",
            "Layer (type)                 Output Shape              Param #   \n",
            "=================================================================\n",
            "lstm (LSTM)                  (None, 10)                480       \n",
            "_________________________________________________________________\n",
            "flatten (Flatten)            (None, 10)                0         \n",
            "_________________________________________________________________\n",
            "dense (Dense)                (None, 2)                 22        \n",
            "=================================================================\n",
            "Total params: 502\n",
            "Trainable params: 502\n",
            "Non-trainable params: 0\n",
            "_________________________________________________________________\n",
            "None\n",
            "8275/8275 [==============================] - 38s 4ms/step - loss: 0.0383 - accuracy: 0.9813 - val_loss: 9.0830e-06 - val_accuracy: 1.0000\n",
            "18913/18913 [==============================] - 25s 1ms/step - loss: 9.0891e-06 - accuracy: 1.0000\n",
            "Loss, Accuracy: [9.089132618100848e-06, 1.0]\n"
          ],
          "name": "stdout"
        },
        {
          "output_type": "display_data",
          "data": {
            "image/png": "[encoded data removed]",
            "text/plain": [
              "<Figure size 720x360 with 2 Axes>"
            ]
          },
          "metadata": {
            "tags": [],
            "needs_background": "light"
          }
        },
        {
          "output_type": "display_data",
          "data": {
            "image/png": "[encoded data removed]",
            "text/plain": [
              "<Figure size 1440x720 with 1 Axes>"
            ]
          },
          "metadata": {
            "tags": [],
            "needs_background": "light"
          }
        },
        {
          "output_type": "stream",
          "text": [
            "Saving Model to: /content/drive/MyDrive/Colab Notebooks/CS581/project-data/lstm-softmax.h5\n",
            "Size of the softmax act model : 0.015869140625 Mb\n"
          ],
          "name": "stdout"
        }
      ]
    },
    {
      "cell_type": "markdown",
      "metadata": {
        "id": "-GBFlGKF6cvN"
      },
      "source": [
        "### Comparison Table\r\n",
        "\r\n",
        "| Metric\\Activation | relu | sigmoid | softmax |\r\n",
        "|---|---|---|---|\r\n",
        "|Accuracy(%)|0.9860|0.9918|0.9813|0.9982|\r\n",
        "|Size(MB)|0.015|0.015|0.015|0.17|\r\n",
        "|Total Parameters|502|502|502|41002|\r\n",
        "|Inference Time(sec)|25|25|25|48|"
      ]
    },
    {
      "cell_type": "markdown",
      "metadata": {
        "id": "12fs9HiBmqXx"
      },
      "source": [
        "## Learning Rate"
      ]
    },
    {
      "cell_type": "code",
      "metadata": {
        "id": "RVHhac9imsxB",
        "colab": {
          "base_uri": "https://localhost:8080/",
          "height": 1000
        },
        "outputId": "42314aa4-adb4-4783-db22-465f2dc67645"
      },
      "source": [
        "learning_rate = [0.01,0.025,0.1]\r\n",
        "for lr in learning_rate:\r\n",
        "    tf.keras.backend.clear_session()\r\n",
        "    rnnmodel = keras.models.Sequential([\r\n",
        "    keras.layers.LSTM(10,input_shape=[X_train.shape[1],1]),\r\n",
        "    keras.layers.Flatten(),\r\n",
        "    keras.layers.Dense(2, activation='sigmoid')\r\n",
        "    ])\r\n",
        "    rnnmodel.compile(optimizer=keras.optimizers.Adam(learning_rate=lr),\r\n",
        "                loss=tf.keras.losses.SparseCategoricalCrossentropy(),\r\n",
        "                metrics=['accuracy'])\r\n",
        "    print(rnnmodel.summary())\r\n",
        "    tf.keras.utils.plot_model(rnnmodel,show_shapes=True)\r\n",
        "    early_stop=keras.callbacks.EarlyStopping(monitor='loss',patience=10)\r\n",
        "\r\n",
        "    rnnhistory = rnnmodel.fit(X_train,y_train,\r\n",
        "                            epochs=1,\r\n",
        "                            batch_size=256,\r\n",
        "                            validation_data=(X_valid,y_valid),\r\n",
        "                            callbacks=[early_stop])\r\n",
        "    scores = rnnmodel.evaluate(X_test,y_test)\r\n",
        "    print(f\"Loss, Accuracy: {scores}\")\r\n",
        "    plt.subplot(1,2,1)\r\n",
        "    plt.plot(rnnhistory.history[\"loss\"])\r\n",
        "    plt.plot(rnnhistory.history[\"val_loss\"])\r\n",
        "    plt.legend(('loss','val_loss'))\r\n",
        "    plt.subplot(1,2,2)\r\n",
        "    plt.plot(rnnhistory.history[\"accuracy\"])\r\n",
        "    plt.plot(rnnhistory.history[\"val_accuracy\"])\r\n",
        "    plt.legend(('acc','val_acc'))\r\n",
        "\r\n",
        "    plt.gcf().set_size_inches((10,5))\r\n",
        "    plt.show()\r\n",
        "\r\n",
        "    y_pred = rnnmodel.predict(X_test)\r\n",
        "\r\n",
        "    plot_min=60\r\n",
        "    plot_max =120\r\n",
        "    plt.scatter(range(plot_min,plot_max),y_test[plot_min:plot_max])\r\n",
        "    plt.scatter(range(plot_min,plot_max),[y_pred[i].argmax()+0.009 for i in range(len(y_pred[plot_min:plot_max]))],c=['r'])\r\n",
        "    plt.legend(('test class','predicted class'))\r\n",
        "    plt.xlabel('timestamp index')\r\n",
        "    plt.ylabel('class (0 = normal, 1 = anomaly)')\r\n",
        "    plt.xticks(ticks=range(plot_min, plot_max))\r\n",
        "    plt.gcf().set_size_inches((20,10))\r\n",
        "    # plt.gcf().autofmt_xdate()\r\n",
        "    plt.show()\r\n",
        "\r\n",
        "    saved_model_dir = '/content/drive/MyDrive/Colab Notebooks/CS581/project-data/'\r\n",
        "    rnnmodel.save(saved_model_dir + f\"lstm-{lr}lr.h5\",include_optimizer=False)\r\n",
        "    print(f\"Saving Model to: {saved_model_dir}lstm-{lr}lr.h5\")\r\n",
        "    print(f'Size of the {lr} rate model : {os.path.getsize(saved_model_dir + f\"lstm-{lr}lr.h5\")/float(2**20)} Mb')"
      ],
      "execution_count": 59,
      "outputs": [
        {
          "output_type": "stream",
          "text": [
            "Model: \"sequential\"\n",
            "_________________________________________________________________\n",
            "Layer (type)                 Output Shape              Param #   \n",
            "=================================================================\n",
            "lstm (LSTM)                  (None, 10)                480       \n",
            "_________________________________________________________________\n",
            "flatten (Flatten)            (None, 10)                0         \n",
            "_________________________________________________________________\n",
            "dense (Dense)                (None, 2)                 22        \n",
            "=================================================================\n",
            "Total params: 502\n",
            "Trainable params: 502\n",
            "Non-trainable params: 0\n",
            "_________________________________________________________________\n",
            "None\n",
            "8275/8275 [==============================] - 39s 5ms/step - loss: 0.0120 - accuracy: 0.9946 - val_loss: 4.2398e-07 - val_accuracy: 1.0000\n",
            "18913/18913 [==============================] - 24s 1ms/step - loss: 4.2488e-07 - accuracy: 1.0000\n",
            "Loss, Accuracy: [4.2488400708862173e-07, 1.0]\n"
          ],
          "name": "stdout"
        },
        {
          "output_type": "display_data",
          "data": {
            "image/png": "[encoded data removed]",
            "text/plain": [
              "<Figure size 720x360 with 2 Axes>"
            ]
          },
          "metadata": {
            "tags": [],
            "needs_background": "light"
          }
        },
        {
          "output_type": "display_data",
          "data": {
            "image/png": "[encoded data removed]",
            "text/plain": [
              "<Figure size 1440x720 with 1 Axes>"
            ]
          },
          "metadata": {
            "tags": [],
            "needs_background": "light"
          }
        },
        {
          "output_type": "stream",
          "text": [
            "Saving Model to: /content/drive/MyDrive/Colab Notebooks/CS581/project-data/lstm-0.01lr.h5\n",
            "Size of the 0.01 rate model : 0.015869140625 Mb\n",
            "Model: \"sequential\"\n",
            "_________________________________________________________________\n",
            "Layer (type)                 Output Shape              Param #   \n",
            "=================================================================\n",
            "lstm (LSTM)                  (None, 10)                480       \n",
            "_________________________________________________________________\n",
            "flatten (Flatten)            (None, 10)                0         \n",
            "_________________________________________________________________\n",
            "dense (Dense)                (None, 2)                 22        \n",
            "=================================================================\n",
            "Total params: 502\n",
            "Trainable params: 502\n",
            "Non-trainable params: 0\n",
            "_________________________________________________________________\n",
            "None\n",
            "8275/8275 [==============================] - 38s 4ms/step - loss: 0.0030 - accuracy: 0.9990 - val_loss: 0.0000e+00 - val_accuracy: 1.0000\n",
            "18913/18913 [==============================] - 25s 1ms/step - loss: 0.0000e+00 - accuracy: 1.0000\n",
            "Loss, Accuracy: [0.0, 1.0]\n"
          ],
          "name": "stdout"
        },
        {
          "output_type": "display_data",
          "data": {
            "image/png": "[encoded data removed]",
            "text/plain": [
              "<Figure size 720x360 with 2 Axes>"
            ]
          },
          "metadata": {
            "tags": [],
            "needs_background": "light"
          }
        },
        {
          "output_type": "display_data",
          "data": {
            "image/png": "[encoded data removed]",
            "text/plain": [
              "<Figure size 1440x720 with 1 Axes>"
            ]
          },
          "metadata": {
            "tags": [],
            "needs_background": "light"
          }
        },
        {
          "output_type": "stream",
          "text": [
            "Saving Model to: /content/drive/MyDrive/Colab Notebooks/CS581/project-data/lstm-0.025lr.h5\n",
            "Size of the 0.025 rate model : 0.015869140625 Mb\n",
            "Model: \"sequential\"\n",
            "_________________________________________________________________\n",
            "Layer (type)                 Output Shape              Param #   \n",
            "=================================================================\n",
            "lstm (LSTM)                  (None, 10)                480       \n",
            "_________________________________________________________________\n",
            "flatten (Flatten)            (None, 10)                0         \n",
            "_________________________________________________________________\n",
            "dense (Dense)                (None, 2)                 22        \n",
            "=================================================================\n",
            "Total params: 502\n",
            "Trainable params: 502\n",
            "Non-trainable params: 0\n",
            "_________________________________________________________________\n",
            "None\n",
            "8275/8275 [==============================] - 39s 5ms/step - loss: 0.0027 - accuracy: 0.9987 - val_loss: 9.7665e-09 - val_accuracy: 1.0000\n",
            "18913/18913 [==============================] - 25s 1ms/step - loss: 9.6534e-09 - accuracy: 1.0000\n",
            "Loss, Accuracy: [9.653415844468327e-09, 1.0]\n"
          ],
          "name": "stdout"
        },
        {
          "output_type": "display_data",
          "data": {
            "image/png": "[encoded data removed]",
            "text/plain": [
              "<Figure size 720x360 with 2 Axes>"
            ]
          },
          "metadata": {
            "tags": [],
            "needs_background": "light"
          }
        },
        {
          "output_type": "display_data",
          "data": {
            "image/png": "[encoded data removed]",
            "text/plain": [
              "<Figure size 1440x720 with 1 Axes>"
            ]
          },
          "metadata": {
            "tags": [],
            "needs_background": "light"
          }
        },
        {
          "output_type": "stream",
          "text": [
            "Saving Model to: /content/drive/MyDrive/Colab Notebooks/CS581/project-data/lstm-0.1lr.h5\n",
            "Size of the 0.1 rate model : 0.015869140625 Mb\n"
          ],
          "name": "stdout"
        }
      ]
    },
    {
      "cell_type": "markdown",
      "metadata": {
        "id": "EGNISyCP9EIV"
      },
      "source": [
        "### Comparison Table\r\n",
        "\r\n",
        "| Metric\\Learning Rate | relu | sigmoid | 0.1 |\r\n",
        "|---|---|---|---|\r\n",
        "|Accuracy(%)|0.9946|0.9990|0.9987|0.9982|\r\n",
        "|Size(MB)|0.015|0.015|0.015|0.17|\r\n",
        "|Total Parameters|502|502|502|41002|\r\n",
        "|Inference Time(sec)|25|25|25|48|"
      ]
    },
    {
      "cell_type": "markdown",
      "metadata": {
        "id": "ayKeQP-klRVO"
      },
      "source": [
        "# Effect of features"
      ]
    },
    {
      "cell_type": "markdown",
      "metadata": {
        "id": "Eda4CAucY742"
      },
      "source": [
        "## Without timestamp feature\n",
        "\n",
        "giving this byte data to the network, it is an interesting experiment to see what the effect is."
      ]
    },
    {
      "cell_type": "code",
      "metadata": {
        "colab": {
          "base_uri": "https://localhost:8080/",
          "height": 402
        },
        "id": "1N2ND7IQZ6ci",
        "outputId": "877b9760-088d-4dcd-c711-745c19a01a68"
      },
      "source": [
        "newdf = df.drop(columns=['Timestamp'])\n",
        "newdf"
      ],
      "execution_count": null,
      "outputs": [
        {
          "output_type": "execute_result",
          "data": {
            "text/html": [
              "<div>\n",
              "<style scoped>\n",
              "    .dataframe tbody tr th:only-of-type {\n",
              "        vertical-align: middle;\n",
              "    }\n",
              "\n",
              "    .dataframe tbody tr th {\n",
              "        vertical-align: top;\n",
              "    }\n",
              "\n",
              "    .dataframe thead th {\n",
              "        text-align: right;\n",
              "    }\n",
              "</style>\n",
              "<table border=\"1\" class=\"dataframe\">\n",
              "  <thead>\n",
              "    <tr style=\"text-align: right;\">\n",
              "      <th></th>\n",
              "      <th>CAN ID</th>\n",
              "      <th>RTR</th>\n",
              "      <th>DLC</th>\n",
              "      <th>Data1</th>\n",
              "      <th>Data2</th>\n",
              "      <th>Data3</th>\n",
              "      <th>Data4</th>\n",
              "      <th>Data5</th>\n",
              "      <th>Data6</th>\n",
              "      <th>Data7</th>\n",
              "      <th>Data8</th>\n",
              "      <th>label</th>\n",
              "    </tr>\n",
              "  </thead>\n",
              "  <tbody>\n",
              "    <tr>\n",
              "      <th>0</th>\n",
              "      <td>790</td>\n",
              "      <td>0</td>\n",
              "      <td>8</td>\n",
              "      <td>5</td>\n",
              "      <td>32</td>\n",
              "      <td>234</td>\n",
              "      <td>10</td>\n",
              "      <td>32</td>\n",
              "      <td>26</td>\n",
              "      <td>0</td>\n",
              "      <td>127</td>\n",
              "      <td>1</td>\n",
              "    </tr>\n",
              "    <tr>\n",
              "      <th>1</th>\n",
              "      <td>809</td>\n",
              "      <td>0</td>\n",
              "      <td>8</td>\n",
              "      <td>215</td>\n",
              "      <td>167</td>\n",
              "      <td>127</td>\n",
              "      <td>140</td>\n",
              "      <td>17</td>\n",
              "      <td>47</td>\n",
              "      <td>0</td>\n",
              "      <td>16</td>\n",
              "      <td>1</td>\n",
              "    </tr>\n",
              "    <tr>\n",
              "      <th>2</th>\n",
              "      <td>128</td>\n",
              "      <td>0</td>\n",
              "      <td>8</td>\n",
              "      <td>0</td>\n",
              "      <td>23</td>\n",
              "      <td>234</td>\n",
              "      <td>10</td>\n",
              "      <td>32</td>\n",
              "      <td>26</td>\n",
              "      <td>32</td>\n",
              "      <td>67</td>\n",
              "      <td>1</td>\n",
              "    </tr>\n",
              "    <tr>\n",
              "      <th>3</th>\n",
              "      <td>129</td>\n",
              "      <td>0</td>\n",
              "      <td>8</td>\n",
              "      <td>127</td>\n",
              "      <td>132</td>\n",
              "      <td>96</td>\n",
              "      <td>0</td>\n",
              "      <td>0</td>\n",
              "      <td>0</td>\n",
              "      <td>0</td>\n",
              "      <td>83</td>\n",
              "      <td>1</td>\n",
              "    </tr>\n",
              "    <tr>\n",
              "      <th>4</th>\n",
              "      <td>288</td>\n",
              "      <td>0</td>\n",
              "      <td>4</td>\n",
              "      <td>0</td>\n",
              "      <td>0</td>\n",
              "      <td>0</td>\n",
              "      <td>0</td>\n",
              "      <td>0</td>\n",
              "      <td>0</td>\n",
              "      <td>0</td>\n",
              "      <td>0</td>\n",
              "      <td>1</td>\n",
              "    </tr>\n",
              "    <tr>\n",
              "      <th>...</th>\n",
              "      <td>...</td>\n",
              "      <td>...</td>\n",
              "      <td>...</td>\n",
              "      <td>...</td>\n",
              "      <td>...</td>\n",
              "      <td>...</td>\n",
              "      <td>...</td>\n",
              "      <td>...</td>\n",
              "      <td>...</td>\n",
              "      <td>...</td>\n",
              "      <td>...</td>\n",
              "      <td>...</td>\n",
              "    </tr>\n",
              "    <tr>\n",
              "      <th>2369393</th>\n",
              "      <td>68</td>\n",
              "      <td>0</td>\n",
              "      <td>8</td>\n",
              "      <td>0</td>\n",
              "      <td>0</td>\n",
              "      <td>0</td>\n",
              "      <td>255</td>\n",
              "      <td>111</td>\n",
              "      <td>0</td>\n",
              "      <td>0</td>\n",
              "      <td>0</td>\n",
              "      <td>1</td>\n",
              "    </tr>\n",
              "    <tr>\n",
              "      <th>2369394</th>\n",
              "      <td>357</td>\n",
              "      <td>0</td>\n",
              "      <td>8</td>\n",
              "      <td>17</td>\n",
              "      <td>232</td>\n",
              "      <td>127</td>\n",
              "      <td>0</td>\n",
              "      <td>0</td>\n",
              "      <td>0</td>\n",
              "      <td>12</td>\n",
              "      <td>138</td>\n",
              "      <td>1</td>\n",
              "    </tr>\n",
              "    <tr>\n",
              "      <th>2369395</th>\n",
              "      <td>688</td>\n",
              "      <td>0</td>\n",
              "      <td>5</td>\n",
              "      <td>35</td>\n",
              "      <td>0</td>\n",
              "      <td>0</td>\n",
              "      <td>7</td>\n",
              "      <td>172</td>\n",
              "      <td>0</td>\n",
              "      <td>0</td>\n",
              "      <td>0</td>\n",
              "      <td>1</td>\n",
              "    </tr>\n",
              "    <tr>\n",
              "      <th>2369396</th>\n",
              "      <td>1200</td>\n",
              "      <td>0</td>\n",
              "      <td>8</td>\n",
              "      <td>0</td>\n",
              "      <td>0</td>\n",
              "      <td>0</td>\n",
              "      <td>0</td>\n",
              "      <td>0</td>\n",
              "      <td>0</td>\n",
              "      <td>0</td>\n",
              "      <td>0</td>\n",
              "      <td>1</td>\n",
              "    </tr>\n",
              "    <tr>\n",
              "      <th>2369397</th>\n",
              "      <td>356</td>\n",
              "      <td>0</td>\n",
              "      <td>8</td>\n",
              "      <td>0</td>\n",
              "      <td>8</td>\n",
              "      <td>0</td>\n",
              "      <td>0</td>\n",
              "      <td>0</td>\n",
              "      <td>0</td>\n",
              "      <td>8</td>\n",
              "      <td>0</td>\n",
              "      <td>1</td>\n",
              "    </tr>\n",
              "  </tbody>\n",
              "</table>\n",
              "<p>2369398 rows × 12 columns</p>\n",
              "</div>"
            ],
            "text/plain": [
              "         CAN ID  RTR  DLC  Data1  Data2  ...  Data5  Data6  Data7  Data8  label\n",
              "0           790    0    8      5     32  ...     32     26      0    127      1\n",
              "1           809    0    8    215    167  ...     17     47      0     16      1\n",
              "2           128    0    8      0     23  ...     32     26     32     67      1\n",
              "3           129    0    8    127    132  ...      0      0      0     83      1\n",
              "4           288    0    4      0      0  ...      0      0      0      0      1\n",
              "...         ...  ...  ...    ...    ...  ...    ...    ...    ...    ...    ...\n",
              "2369393      68    0    8      0      0  ...    111      0      0      0      1\n",
              "2369394     357    0    8     17    232  ...      0      0     12    138      1\n",
              "2369395     688    0    5     35      0  ...    172      0      0      0      1\n",
              "2369396    1200    0    8      0      0  ...      0      0      0      0      1\n",
              "2369397     356    0    8      0      8  ...      0      0      8      0      1\n",
              "\n",
              "[2369398 rows x 12 columns]"
            ]
          },
          "metadata": {
            "tags": []
          },
          "execution_count": 52
        }
      ]
    },
    {
      "cell_type": "code",
      "metadata": {
        "id": "Dgtl9ZPTaQqh"
      },
      "source": [
        "noTimestamp_series = newdf.to_numpy()\n",
        "noTimestamp_series = noTimestamp_series[ : , :, np.newaxis] "
      ],
      "execution_count": null,
      "outputs": []
    },
    {
      "cell_type": "code",
      "metadata": {
        "colab": {
          "base_uri": "https://localhost:8080/"
        },
        "id": "9iGCp4SvaQqi",
        "outputId": "20dac54e-446f-49a7-adb9-9f038b9ae46c"
      },
      "source": [
        "n_features = noTimestamp_series.shape[1]\n",
        "train_split = int(noTimestamp_series.shape[0]*0.8)\n",
        "val_split = int(noTimestamp_series.shape[0]*0.1) + train_split\n",
        "print(f'train split : {train_split}, val split: {val_split}')\n",
        "\n",
        "X_train, y_train = noTimestamp_series[:train_split, :n_features-1], noTimestamp_series[:train_split, -1] # -1 references the last column\n",
        "X_valid, y_valid = noTimestamp_series[train_split:val_split, :n_features-1], noTimestamp_series[train_split:val_split, -1]\n",
        "X_test, y_test = noTimestamp_series[val_split:, :n_features-1], noTimestamp_series[val_split:, -1]\n"
      ],
      "execution_count": null,
      "outputs": [
        {
          "output_type": "stream",
          "text": [
            "train split : 1895518, val split: 2132457\n"
          ],
          "name": "stdout"
        }
      ]
    },
    {
      "cell_type": "code",
      "metadata": {
        "colab": {
          "base_uri": "https://localhost:8080/"
        },
        "id": "MJKoBcviruGO",
        "outputId": "3cfcf0ff-3529-4b48-9070-c66edcdf9985"
      },
      "source": [
        "X_train.shape, y_train.shape"
      ],
      "execution_count": null,
      "outputs": [
        {
          "output_type": "execute_result",
          "data": {
            "text/plain": [
              "((1895518, 11, 1), (1895518, 1))"
            ]
          },
          "metadata": {
            "tags": []
          },
          "execution_count": 59
        }
      ]
    },
    {
      "cell_type": "code",
      "metadata": {
        "colab": {
          "base_uri": "https://localhost:8080/"
        },
        "id": "Ut7wRepDruGO",
        "outputId": "cfadbb4c-73be-4469-8c8d-a6f0808fb6ee"
      },
      "source": [
        "X_valid.shape,y_valid.shape"
      ],
      "execution_count": null,
      "outputs": [
        {
          "output_type": "execute_result",
          "data": {
            "text/plain": [
              "((236939, 11, 1), (236939, 1))"
            ]
          },
          "metadata": {
            "tags": []
          },
          "execution_count": 60
        }
      ]
    },
    {
      "cell_type": "code",
      "metadata": {
        "colab": {
          "base_uri": "https://localhost:8080/"
        },
        "id": "01e0scyDruGP",
        "outputId": "880a18ce-7e89-4222-b35b-40359d8126d4"
      },
      "source": [
        "X_test.shape, y_test.shape"
      ],
      "execution_count": null,
      "outputs": [
        {
          "output_type": "execute_result",
          "data": {
            "text/plain": [
              "((236941, 11, 1), (236941, 1))"
            ]
          },
          "metadata": {
            "tags": []
          },
          "execution_count": 61
        }
      ]
    },
    {
      "cell_type": "code",
      "metadata": {
        "colab": {
          "base_uri": "https://localhost:8080/"
        },
        "id": "1rvw4cZuqPIv",
        "outputId": "e5e1bfde-d631-4ee8-96d3-6f5b94d35fd9"
      },
      "source": [
        "y_train"
      ],
      "execution_count": null,
      "outputs": [
        {
          "output_type": "execute_result",
          "data": {
            "text/plain": [
              "array([[1],\n",
              "       [1],\n",
              "       [1],\n",
              "       ...,\n",
              "       [1],\n",
              "       [1],\n",
              "       [1]])"
            ]
          },
          "metadata": {
            "tags": []
          },
          "execution_count": 62
        }
      ]
    },
    {
      "cell_type": "code",
      "metadata": {
        "colab": {
          "base_uri": "https://localhost:8080/"
        },
        "id": "FceU68oZaQqi",
        "outputId": "977ee4e2-4d62-4c70-e241-6cf783a462ac"
      },
      "source": [
        "noTimestamp_series.shape, X_train.shape, y_train.shape"
      ],
      "execution_count": null,
      "outputs": [
        {
          "output_type": "execute_result",
          "data": {
            "text/plain": [
              "((2369398, 12, 1), (1895518, 11, 1), (1895518, 1))"
            ]
          },
          "metadata": {
            "tags": []
          },
          "execution_count": 63
        }
      ]
    },
    {
      "cell_type": "code",
      "metadata": {
        "colab": {
          "base_uri": "https://localhost:8080/"
        },
        "id": "X1pR8aruanAO",
        "outputId": "9d7f625b-dc36-4b1f-f741-8f5ecd891178"
      },
      "source": [
        "noTimestamp_rnnmodel = keras.models.Sequential([\n",
        "    keras.layers.LSTM(100,input_shape=[X_train.shape[1],1]),\n",
        "    keras.layers.Flatten(),\n",
        "    keras.layers.Dense(2, activation='relu')\n",
        "])\n",
        "noTimestamp_rnnmodel.compile(optimizer='adam',\n",
        "              loss=tf.keras.losses.SparseCategoricalCrossentropy(),\n",
        "              metrics=['accuracy'])\n",
        "print(noTimestamp_rnnmodel.summary())"
      ],
      "execution_count": null,
      "outputs": [
        {
          "output_type": "stream",
          "text": [
            "Model: \"sequential_9\"\n",
            "_________________________________________________________________\n",
            "Layer (type)                 Output Shape              Param #   \n",
            "=================================================================\n",
            "lstm_9 (LSTM)                (None, 100)               40800     \n",
            "_________________________________________________________________\n",
            "flatten_9 (Flatten)          (None, 100)               0         \n",
            "_________________________________________________________________\n",
            "dense_9 (Dense)              (None, 2)                 202       \n",
            "=================================================================\n",
            "Total params: 41,002\n",
            "Trainable params: 41,002\n",
            "Non-trainable params: 0\n",
            "_________________________________________________________________\n",
            "None\n"
          ],
          "name": "stdout"
        }
      ]
    },
    {
      "cell_type": "code",
      "metadata": {
        "colab": {
          "base_uri": "https://localhost:8080/"
        },
        "id": "fI_Rz9uZanAO",
        "outputId": "2ffb5d8d-7e29-4fa2-e42e-bd506d2ac55e"
      },
      "source": [
        "noTimestamp_rnnhistory = noTimestamp_rnnmodel.fit(X_train,y_train,validation_data=(X_valid,y_valid),epochs=5, batch_size=1028)"
      ],
      "execution_count": null,
      "outputs": [
        {
          "output_type": "stream",
          "text": [
            "Epoch 1/5\n",
            "1844/1844 [==============================] - 9s 5ms/step - loss: 0.0020 - accuracy: 0.9988 - val_loss: 1.2025e-07 - val_accuracy: 1.0000\n",
            "Epoch 2/5\n",
            "1844/1844 [==============================] - 9s 5ms/step - loss: 1.2025e-07 - accuracy: 1.0000 - val_loss: 1.2025e-07 - val_accuracy: 1.0000\n",
            "Epoch 3/5\n",
            "1844/1844 [==============================] - 9s 5ms/step - loss: 1.2025e-07 - accuracy: 1.0000 - val_loss: 1.2025e-07 - val_accuracy: 1.0000\n",
            "Epoch 4/5\n",
            "1844/1844 [==============================] - 9s 5ms/step - loss: 1.1974e-07 - accuracy: 1.0000 - val_loss: 1.1973e-07 - val_accuracy: 1.0000\n",
            "Epoch 5/5\n",
            "1844/1844 [==============================] - 9s 5ms/step - loss: 1.1968e-07 - accuracy: 1.0000 - val_loss: 1.1947e-07 - val_accuracy: 1.0000\n"
          ],
          "name": "stdout"
        }
      ]
    },
    {
      "cell_type": "code",
      "metadata": {
        "colab": {
          "base_uri": "https://localhost:8080/"
        },
        "id": "MlQnJ3BBanAO",
        "outputId": "2de7c660-9205-40c2-8a3c-971c53871618"
      },
      "source": [
        "scores = noTimestamp_rnnmodel.evaluate(X_test,y_test)\n",
        "print(f\"Accuracy: {scores[1]}\")"
      ],
      "execution_count": null,
      "outputs": [
        {
          "output_type": "stream",
          "text": [
            "7405/7405 [==============================] - 16s 2ms/step - loss: 1.1947e-07 - accuracy: 1.0000\n",
            "Accuracy: 1.0\n"
          ],
          "name": "stdout"
        }
      ]
    },
    {
      "cell_type": "code",
      "metadata": {
        "colab": {
          "base_uri": "https://localhost:8080/",
          "height": 268
        },
        "id": "lWNDp8Q4anAO",
        "outputId": "50fab63f-dd00-451d-da4c-04ad9128eddb"
      },
      "source": [
        "plt.subplot(1,2,1)\n",
        "plt.plot(noTimestamp_rnnhistory.history[\"loss\"])\n",
        "plt.plot(noTimestamp_rnnhistory.history[\"val_loss\"])\n",
        "plt.legend(('loss','val_loss'))\n",
        "plt.subplot(1,2,2)\n",
        "plt.plot(noTimestamp_rnnhistory.history[\"accuracy\"])\n",
        "plt.plot(noTimestamp_rnnhistory.history[\"val_accuracy\"])\n",
        "plt.legend(('acc','val_acc'))\n",
        "\n",
        "\n",
        "plt.gcf().set_size_inches((10,5))\n",
        "plt.show()"
      ],
      "execution_count": null,
      "outputs": [
        {
          "output_type": "display_data",
          "data": {
            "image/png": "[encoded data removed]",
            "text/plain": [
              "<Figure size 432x288 with 1 Axes>"
            ]
          },
          "metadata": {
            "tags": [],
            "needs_background": "light"
          }
        }
      ]
    },
    {
      "cell_type": "code",
      "metadata": {
        "id": "YmPiL2zWanAO"
      },
      "source": [
        "y_pred = noTimestamp_rnnmodel.predict(X_test)\n",
        "# plot_series(X_test[15, :, 0], y_test[15, 0], y_pred[15, 0])\n",
        "# plt.show()"
      ],
      "execution_count": null,
      "outputs": []
    },
    {
      "cell_type": "code",
      "metadata": {
        "colab": {
          "base_uri": "https://localhost:8080/"
        },
        "id": "2ikXo7SSiZHt",
        "outputId": "fa473012-ce56-46a2-e2b8-3c3365dff4df"
      },
      "source": [
        "predlist = np.array([np.argmax(y_pred[i]) for i in range(len(y_pred))])\n",
        "predlist = predlist.reshape((predlist.shape[0],1))\n",
        "y_test.shape, y_pred.shape, predlist.shape"
      ],
      "execution_count": null,
      "outputs": [
        {
          "output_type": "execute_result",
          "data": {
            "text/plain": [
              "((236941, 1), (236941, 2), (236941, 1))"
            ]
          },
          "metadata": {
            "tags": []
          },
          "execution_count": 72
        }
      ]
    },
    {
      "cell_type": "code",
      "metadata": {
        "colab": {
          "base_uri": "https://localhost:8080/",
          "height": 402
        },
        "id": "lfSYLdIDj6Tg",
        "outputId": "cd0de240-938a-4cc6-aa22-20e7a9134dcf"
      },
      "source": [
        "compdf = pd.DataFrame(predlist)\n",
        "compdf['real'] = y_test\n",
        "compdf = compdf.rename(columns={0:'pred'})\n",
        "compdf['right label'] = np.where(compdf['pred'] == compdf['real'],True, False)\n",
        "compdf"
      ],
      "execution_count": null,
      "outputs": [
        {
          "output_type": "execute_result",
          "data": {
            "text/html": [
              "<div>\n",
              "<style scoped>\n",
              "    .dataframe tbody tr th:only-of-type {\n",
              "        vertical-align: middle;\n",
              "    }\n",
              "\n",
              "    .dataframe tbody tr th {\n",
              "        vertical-align: top;\n",
              "    }\n",
              "\n",
              "    .dataframe thead th {\n",
              "        text-align: right;\n",
              "    }\n",
              "</style>\n",
              "<table border=\"1\" class=\"dataframe\">\n",
              "  <thead>\n",
              "    <tr style=\"text-align: right;\">\n",
              "      <th></th>\n",
              "      <th>pred</th>\n",
              "      <th>real</th>\n",
              "      <th>right label</th>\n",
              "    </tr>\n",
              "  </thead>\n",
              "  <tbody>\n",
              "    <tr>\n",
              "      <th>0</th>\n",
              "      <td>1</td>\n",
              "      <td>1</td>\n",
              "      <td>True</td>\n",
              "    </tr>\n",
              "    <tr>\n",
              "      <th>1</th>\n",
              "      <td>1</td>\n",
              "      <td>1</td>\n",
              "      <td>True</td>\n",
              "    </tr>\n",
              "    <tr>\n",
              "      <th>2</th>\n",
              "      <td>1</td>\n",
              "      <td>1</td>\n",
              "      <td>True</td>\n",
              "    </tr>\n",
              "    <tr>\n",
              "      <th>3</th>\n",
              "      <td>1</td>\n",
              "      <td>1</td>\n",
              "      <td>True</td>\n",
              "    </tr>\n",
              "    <tr>\n",
              "      <th>4</th>\n",
              "      <td>1</td>\n",
              "      <td>1</td>\n",
              "      <td>True</td>\n",
              "    </tr>\n",
              "    <tr>\n",
              "      <th>...</th>\n",
              "      <td>...</td>\n",
              "      <td>...</td>\n",
              "      <td>...</td>\n",
              "    </tr>\n",
              "    <tr>\n",
              "      <th>236936</th>\n",
              "      <td>1</td>\n",
              "      <td>1</td>\n",
              "      <td>True</td>\n",
              "    </tr>\n",
              "    <tr>\n",
              "      <th>236937</th>\n",
              "      <td>1</td>\n",
              "      <td>1</td>\n",
              "      <td>True</td>\n",
              "    </tr>\n",
              "    <tr>\n",
              "      <th>236938</th>\n",
              "      <td>1</td>\n",
              "      <td>1</td>\n",
              "      <td>True</td>\n",
              "    </tr>\n",
              "    <tr>\n",
              "      <th>236939</th>\n",
              "      <td>1</td>\n",
              "      <td>1</td>\n",
              "      <td>True</td>\n",
              "    </tr>\n",
              "    <tr>\n",
              "      <th>236940</th>\n",
              "      <td>1</td>\n",
              "      <td>1</td>\n",
              "      <td>True</td>\n",
              "    </tr>\n",
              "  </tbody>\n",
              "</table>\n",
              "<p>236941 rows × 3 columns</p>\n",
              "</div>"
            ],
            "text/plain": [
              "        pred  real  right label\n",
              "0          1     1         True\n",
              "1          1     1         True\n",
              "2          1     1         True\n",
              "3          1     1         True\n",
              "4          1     1         True\n",
              "...      ...   ...          ...\n",
              "236936     1     1         True\n",
              "236937     1     1         True\n",
              "236938     1     1         True\n",
              "236939     1     1         True\n",
              "236940     1     1         True\n",
              "\n",
              "[236941 rows x 3 columns]"
            ]
          },
          "metadata": {
            "tags": []
          },
          "execution_count": 73
        }
      ]
    },
    {
      "cell_type": "markdown",
      "metadata": {
        "id": "MBsNbnHnO-uL"
      },
      "source": [
        "# END"
      ]
    },
    {
      "cell_type": "code",
      "metadata": {
        "id": "NxF0uhQlO_Xv"
      },
      "source": [
        ""
      ],
      "execution_count": null,
      "outputs": []
    }
  ]
}