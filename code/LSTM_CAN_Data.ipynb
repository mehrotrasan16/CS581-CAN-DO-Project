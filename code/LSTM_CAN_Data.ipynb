{
  "nbformat": 4,
  "nbformat_minor": 0,
  "metadata": {
    "colab": {
      "name": "LSTM - CAN Data.ipynb",
      "provenance": [],
      "collapsed_sections": [
        "2oIT-Y4fJ1N7"
      ],
      "include_colab_link": true
    },
    "kernelspec": {
      "name": "python3",
      "display_name": "Python 3"
    },
    "accelerator": "GPU"
  },
  "cells": [
    {
      "cell_type": "markdown",
      "metadata": {
        "id": "view-in-github",
        "colab_type": "text"
      },
      "source": [
        "<a href=\"https://colab.research.google.com/github/mehrotrasan16/CS581-CAN-DO-Project/blob/sanketm-lstm-experiments/code/LSTM_CAN_Data.ipynb\" target=\"_parent\"><img src=\"https://colab.research.google.com/assets/colab-badge.svg\" alt=\"Open In Colab\"/></a>"
      ]
    },
    {
      "cell_type": "markdown",
      "metadata": {
        "id": "5DxZbIsBdr5Q"
      },
      "source": [
        "# Imports"
      ]
    },
    {
      "cell_type": "code",
      "metadata": {
        "colab": {
          "base_uri": "https://localhost:8080/"
        },
        "id": "GMuWAfna9QzQ",
        "outputId": "05785eb0-8a47-4c82-a7cb-2593a52c5d2e"
      },
      "source": [
        "from google.colab import drive\n",
        "drive.mount('/content/drive')"
      ],
      "execution_count": 7,
      "outputs": [
        {
          "output_type": "stream",
          "text": [
            "Drive already mounted at /content/drive; to attempt to forcibly remount, call drive.mount(\"/content/drive\", force_remount=True).\n"
          ],
          "name": "stdout"
        }
      ]
    },
    {
      "cell_type": "code",
      "metadata": {
        "id": "wQL7Rx7XEjRI"
      },
      "source": [
        "import sys\n",
        "import sklearn\n",
        "import tensorflow as tf\n",
        "from tensorflow import keras\n",
        "\n",
        "import numpy as np\n",
        "import pandas as pd\n",
        "from numpy import load\n",
        "import os\n",
        "\n",
        "# to make this notebook's output stable across runs\n",
        "np.random.seed(42)\n",
        "tf.random.set_seed(42)\n",
        "\n",
        "# To plot pretty figures\n",
        "%matplotlib inline\n",
        "import matplotlib as mpl\n",
        "import matplotlib.pyplot as plt\n",
        "mpl.rc('axes', labelsize=14)\n",
        "mpl.rc('xtick', labelsize=12)\n",
        "mpl.rc('ytick', labelsize=12)\n",
        "\n",
        "\n",
        "def save_fig(fig_id, tight_layout=True, fig_extension=\"png\", resolution=300):\n",
        "    path = os.path.join(IMAGES_PATH, fig_id + \".\" + fig_extension)\n",
        "    print(\"Saving figure\", fig_id)\n",
        "    if tight_layout:\n",
        "        plt.tight_layout()\n",
        "    plt.savefig(path, format=fig_extension, dpi=resolution)\n",
        "\n",
        "def plot_learning_curves(loss, val_loss):\n",
        "    plt.plot(np.arange(len(loss)) + 0.5, loss, \"b.-\", label=\"Training loss\")\n",
        "    plt.plot(np.arange(len(val_loss)) + 1, val_loss, \"r.-\", label=\"Validation loss\")\n",
        "    plt.gca().xaxis.set_major_locator(mpl.ticker.MaxNLocator(integer=True))\n",
        "    plt.axis([1, 20, 0, 0.05])\n",
        "    plt.legend(fontsize=14)\n",
        "    plt.xlabel(\"Epochs\")\n",
        "    plt.ylabel(\"Loss\")\n",
        "    plt.grid(True)\n"
      ],
      "execution_count": 8,
      "outputs": []
    },
    {
      "cell_type": "markdown",
      "metadata": {
        "id": "2oIT-Y4fJ1N7"
      },
      "source": [
        "# Load Datasets"
      ]
    },
    {
      "cell_type": "code",
      "metadata": {
        "colab": {
          "base_uri": "https://localhost:8080/",
          "height": 402
        },
        "id": "NNzE1_NYJlYH",
        "outputId": "70620b8d-9604-4ec8-b9ee-2f2aac73e64b"
      },
      "source": [
        "freedf = pd.read_csv('/content/drive/My Drive/Colab Notebooks/CS581/project-data/Attack_free_dataset.csv')\r\n",
        "freedf['label'] = 1\r\n",
        "freedf"
      ],
      "execution_count": 10,
      "outputs": [
        {
          "output_type": "execute_result",
          "data": {
            "text/html": [
              "<div>\n",
              "<style scoped>\n",
              "    .dataframe tbody tr th:only-of-type {\n",
              "        vertical-align: middle;\n",
              "    }\n",
              "\n",
              "    .dataframe tbody tr th {\n",
              "        vertical-align: top;\n",
              "    }\n",
              "\n",
              "    .dataframe thead th {\n",
              "        text-align: right;\n",
              "    }\n",
              "</style>\n",
              "<table border=\"1\" class=\"dataframe\">\n",
              "  <thead>\n",
              "    <tr style=\"text-align: right;\">\n",
              "      <th></th>\n",
              "      <th>Timestamp</th>\n",
              "      <th>CAN ID</th>\n",
              "      <th>RTR</th>\n",
              "      <th>DLC</th>\n",
              "      <th>Data1</th>\n",
              "      <th>Data2</th>\n",
              "      <th>Data3</th>\n",
              "      <th>Data4</th>\n",
              "      <th>Data5</th>\n",
              "      <th>Data6</th>\n",
              "      <th>Data7</th>\n",
              "      <th>Data8</th>\n",
              "      <th>label</th>\n",
              "    </tr>\n",
              "  </thead>\n",
              "  <tbody>\n",
              "    <tr>\n",
              "      <th>0</th>\n",
              "      <td>0.000000</td>\n",
              "      <td>790</td>\n",
              "      <td>0</td>\n",
              "      <td>8</td>\n",
              "      <td>5</td>\n",
              "      <td>32</td>\n",
              "      <td>234</td>\n",
              "      <td>10</td>\n",
              "      <td>32</td>\n",
              "      <td>26</td>\n",
              "      <td>0</td>\n",
              "      <td>127</td>\n",
              "      <td>1</td>\n",
              "    </tr>\n",
              "    <tr>\n",
              "      <th>1</th>\n",
              "      <td>0.000224</td>\n",
              "      <td>809</td>\n",
              "      <td>0</td>\n",
              "      <td>8</td>\n",
              "      <td>215</td>\n",
              "      <td>167</td>\n",
              "      <td>127</td>\n",
              "      <td>140</td>\n",
              "      <td>17</td>\n",
              "      <td>47</td>\n",
              "      <td>0</td>\n",
              "      <td>16</td>\n",
              "      <td>1</td>\n",
              "    </tr>\n",
              "    <tr>\n",
              "      <th>2</th>\n",
              "      <td>0.000462</td>\n",
              "      <td>128</td>\n",
              "      <td>0</td>\n",
              "      <td>8</td>\n",
              "      <td>0</td>\n",
              "      <td>23</td>\n",
              "      <td>234</td>\n",
              "      <td>10</td>\n",
              "      <td>32</td>\n",
              "      <td>26</td>\n",
              "      <td>32</td>\n",
              "      <td>67</td>\n",
              "      <td>1</td>\n",
              "    </tr>\n",
              "    <tr>\n",
              "      <th>3</th>\n",
              "      <td>0.000704</td>\n",
              "      <td>129</td>\n",
              "      <td>0</td>\n",
              "      <td>8</td>\n",
              "      <td>127</td>\n",
              "      <td>132</td>\n",
              "      <td>96</td>\n",
              "      <td>0</td>\n",
              "      <td>0</td>\n",
              "      <td>0</td>\n",
              "      <td>0</td>\n",
              "      <td>83</td>\n",
              "      <td>1</td>\n",
              "    </tr>\n",
              "    <tr>\n",
              "      <th>4</th>\n",
              "      <td>0.000878</td>\n",
              "      <td>288</td>\n",
              "      <td>0</td>\n",
              "      <td>4</td>\n",
              "      <td>0</td>\n",
              "      <td>0</td>\n",
              "      <td>0</td>\n",
              "      <td>0</td>\n",
              "      <td>0</td>\n",
              "      <td>0</td>\n",
              "      <td>0</td>\n",
              "      <td>0</td>\n",
              "      <td>1</td>\n",
              "    </tr>\n",
              "    <tr>\n",
              "      <th>...</th>\n",
              "      <td>...</td>\n",
              "      <td>...</td>\n",
              "      <td>...</td>\n",
              "      <td>...</td>\n",
              "      <td>...</td>\n",
              "      <td>...</td>\n",
              "      <td>...</td>\n",
              "      <td>...</td>\n",
              "      <td>...</td>\n",
              "      <td>...</td>\n",
              "      <td>...</td>\n",
              "      <td>...</td>\n",
              "      <td>...</td>\n",
              "    </tr>\n",
              "    <tr>\n",
              "      <th>2369393</th>\n",
              "      <td>1037.589395</td>\n",
              "      <td>68</td>\n",
              "      <td>0</td>\n",
              "      <td>8</td>\n",
              "      <td>0</td>\n",
              "      <td>0</td>\n",
              "      <td>0</td>\n",
              "      <td>255</td>\n",
              "      <td>111</td>\n",
              "      <td>0</td>\n",
              "      <td>0</td>\n",
              "      <td>0</td>\n",
              "      <td>1</td>\n",
              "    </tr>\n",
              "    <tr>\n",
              "      <th>2369394</th>\n",
              "      <td>1037.589628</td>\n",
              "      <td>357</td>\n",
              "      <td>0</td>\n",
              "      <td>8</td>\n",
              "      <td>17</td>\n",
              "      <td>232</td>\n",
              "      <td>127</td>\n",
              "      <td>0</td>\n",
              "      <td>0</td>\n",
              "      <td>0</td>\n",
              "      <td>12</td>\n",
              "      <td>138</td>\n",
              "      <td>1</td>\n",
              "    </tr>\n",
              "    <tr>\n",
              "      <th>2369395</th>\n",
              "      <td>1037.589812</td>\n",
              "      <td>688</td>\n",
              "      <td>0</td>\n",
              "      <td>5</td>\n",
              "      <td>35</td>\n",
              "      <td>0</td>\n",
              "      <td>0</td>\n",
              "      <td>7</td>\n",
              "      <td>172</td>\n",
              "      <td>0</td>\n",
              "      <td>0</td>\n",
              "      <td>0</td>\n",
              "      <td>1</td>\n",
              "    </tr>\n",
              "    <tr>\n",
              "      <th>2369396</th>\n",
              "      <td>1037.590065</td>\n",
              "      <td>1200</td>\n",
              "      <td>0</td>\n",
              "      <td>8</td>\n",
              "      <td>0</td>\n",
              "      <td>0</td>\n",
              "      <td>0</td>\n",
              "      <td>0</td>\n",
              "      <td>0</td>\n",
              "      <td>0</td>\n",
              "      <td>0</td>\n",
              "      <td>0</td>\n",
              "      <td>1</td>\n",
              "    </tr>\n",
              "    <tr>\n",
              "      <th>2369397</th>\n",
              "      <td>1037.590316</td>\n",
              "      <td>356</td>\n",
              "      <td>0</td>\n",
              "      <td>8</td>\n",
              "      <td>0</td>\n",
              "      <td>8</td>\n",
              "      <td>0</td>\n",
              "      <td>0</td>\n",
              "      <td>0</td>\n",
              "      <td>0</td>\n",
              "      <td>8</td>\n",
              "      <td>0</td>\n",
              "      <td>1</td>\n",
              "    </tr>\n",
              "  </tbody>\n",
              "</table>\n",
              "<p>2369398 rows × 13 columns</p>\n",
              "</div>"
            ],
            "text/plain": [
              "           Timestamp  CAN ID  RTR  DLC  ...  Data6  Data7  Data8  label\n",
              "0           0.000000     790    0    8  ...     26      0    127      1\n",
              "1           0.000224     809    0    8  ...     47      0     16      1\n",
              "2           0.000462     128    0    8  ...     26     32     67      1\n",
              "3           0.000704     129    0    8  ...      0      0     83      1\n",
              "4           0.000878     288    0    4  ...      0      0      0      1\n",
              "...              ...     ...  ...  ...  ...    ...    ...    ...    ...\n",
              "2369393  1037.589395      68    0    8  ...      0      0      0      1\n",
              "2369394  1037.589628     357    0    8  ...      0     12    138      1\n",
              "2369395  1037.589812     688    0    5  ...      0      0      0      1\n",
              "2369396  1037.590065    1200    0    8  ...      0      0      0      1\n",
              "2369397  1037.590316     356    0    8  ...      0      8      0      1\n",
              "\n",
              "[2369398 rows x 13 columns]"
            ]
          },
          "metadata": {
            "tags": []
          },
          "execution_count": 10
        }
      ]
    },
    {
      "cell_type": "code",
      "metadata": {
        "colab": {
          "base_uri": "https://localhost:8080/",
          "height": 106
        },
        "id": "2oQWSOZVLiUF",
        "outputId": "de3cceff-50cb-4246-e156-6595d1b4e200"
      },
      "source": [
        "freedf.groupby('label').count()"
      ],
      "execution_count": 11,
      "outputs": [
        {
          "output_type": "execute_result",
          "data": {
            "text/html": [
              "<div>\n",
              "<style scoped>\n",
              "    .dataframe tbody tr th:only-of-type {\n",
              "        vertical-align: middle;\n",
              "    }\n",
              "\n",
              "    .dataframe tbody tr th {\n",
              "        vertical-align: top;\n",
              "    }\n",
              "\n",
              "    .dataframe thead th {\n",
              "        text-align: right;\n",
              "    }\n",
              "</style>\n",
              "<table border=\"1\" class=\"dataframe\">\n",
              "  <thead>\n",
              "    <tr style=\"text-align: right;\">\n",
              "      <th></th>\n",
              "      <th>Timestamp</th>\n",
              "      <th>CAN ID</th>\n",
              "      <th>RTR</th>\n",
              "      <th>DLC</th>\n",
              "      <th>Data1</th>\n",
              "      <th>Data2</th>\n",
              "      <th>Data3</th>\n",
              "      <th>Data4</th>\n",
              "      <th>Data5</th>\n",
              "      <th>Data6</th>\n",
              "      <th>Data7</th>\n",
              "      <th>Data8</th>\n",
              "    </tr>\n",
              "    <tr>\n",
              "      <th>label</th>\n",
              "      <th></th>\n",
              "      <th></th>\n",
              "      <th></th>\n",
              "      <th></th>\n",
              "      <th></th>\n",
              "      <th></th>\n",
              "      <th></th>\n",
              "      <th></th>\n",
              "      <th></th>\n",
              "      <th></th>\n",
              "      <th></th>\n",
              "      <th></th>\n",
              "    </tr>\n",
              "  </thead>\n",
              "  <tbody>\n",
              "    <tr>\n",
              "      <th>1</th>\n",
              "      <td>2369398</td>\n",
              "      <td>2369398</td>\n",
              "      <td>2369398</td>\n",
              "      <td>2369398</td>\n",
              "      <td>2369398</td>\n",
              "      <td>2369398</td>\n",
              "      <td>2369398</td>\n",
              "      <td>2369398</td>\n",
              "      <td>2369398</td>\n",
              "      <td>2369398</td>\n",
              "      <td>2369398</td>\n",
              "      <td>2369398</td>\n",
              "    </tr>\n",
              "  </tbody>\n",
              "</table>\n",
              "</div>"
            ],
            "text/plain": [
              "       Timestamp   CAN ID      RTR      DLC  ...    Data5    Data6    Data7    Data8\n",
              "label                                        ...                                    \n",
              "1        2369398  2369398  2369398  2369398  ...  2369398  2369398  2369398  2369398\n",
              "\n",
              "[1 rows x 12 columns]"
            ]
          },
          "metadata": {
            "tags": []
          },
          "execution_count": 11
        }
      ]
    },
    {
      "cell_type": "code",
      "metadata": {
        "colab": {
          "base_uri": "https://localhost:8080/",
          "height": 402
        },
        "id": "3JKhAGAeKJ7O",
        "outputId": "b0ffba51-01db-4a53-c6de-18915f2a828f"
      },
      "source": [
        "dosdf = pd.read_csv('/content/drive/My Drive/Colab Notebooks/CS581/project-data/DoS_attack_dataset.csv')\r\n",
        "dosdf['label'] = np.where(dosdf['CAN ID'] == 0,1,0)\r\n",
        "dosdf"
      ],
      "execution_count": 12,
      "outputs": [
        {
          "output_type": "execute_result",
          "data": {
            "text/html": [
              "<div>\n",
              "<style scoped>\n",
              "    .dataframe tbody tr th:only-of-type {\n",
              "        vertical-align: middle;\n",
              "    }\n",
              "\n",
              "    .dataframe tbody tr th {\n",
              "        vertical-align: top;\n",
              "    }\n",
              "\n",
              "    .dataframe thead th {\n",
              "        text-align: right;\n",
              "    }\n",
              "</style>\n",
              "<table border=\"1\" class=\"dataframe\">\n",
              "  <thead>\n",
              "    <tr style=\"text-align: right;\">\n",
              "      <th></th>\n",
              "      <th>Timestamp</th>\n",
              "      <th>CAN ID</th>\n",
              "      <th>RTR</th>\n",
              "      <th>DLC</th>\n",
              "      <th>Data1</th>\n",
              "      <th>Data2</th>\n",
              "      <th>Data3</th>\n",
              "      <th>Data4</th>\n",
              "      <th>Data5</th>\n",
              "      <th>Data6</th>\n",
              "      <th>Data7</th>\n",
              "      <th>Data8</th>\n",
              "      <th>label</th>\n",
              "    </tr>\n",
              "  </thead>\n",
              "  <tbody>\n",
              "    <tr>\n",
              "      <th>0</th>\n",
              "      <td>0.000000</td>\n",
              "      <td>0</td>\n",
              "      <td>0</td>\n",
              "      <td>8</td>\n",
              "      <td>0</td>\n",
              "      <td>0</td>\n",
              "      <td>0</td>\n",
              "      <td>0</td>\n",
              "      <td>0</td>\n",
              "      <td>0</td>\n",
              "      <td>0</td>\n",
              "      <td>0</td>\n",
              "      <td>1</td>\n",
              "    </tr>\n",
              "    <tr>\n",
              "      <th>1</th>\n",
              "      <td>0.000271</td>\n",
              "      <td>128</td>\n",
              "      <td>0</td>\n",
              "      <td>8</td>\n",
              "      <td>0</td>\n",
              "      <td>23</td>\n",
              "      <td>220</td>\n",
              "      <td>9</td>\n",
              "      <td>22</td>\n",
              "      <td>17</td>\n",
              "      <td>22</td>\n",
              "      <td>187</td>\n",
              "      <td>0</td>\n",
              "    </tr>\n",
              "    <tr>\n",
              "      <th>2</th>\n",
              "      <td>0.000495</td>\n",
              "      <td>0</td>\n",
              "      <td>0</td>\n",
              "      <td>8</td>\n",
              "      <td>0</td>\n",
              "      <td>0</td>\n",
              "      <td>0</td>\n",
              "      <td>0</td>\n",
              "      <td>0</td>\n",
              "      <td>0</td>\n",
              "      <td>0</td>\n",
              "      <td>0</td>\n",
              "      <td>1</td>\n",
              "    </tr>\n",
              "    <tr>\n",
              "      <th>3</th>\n",
              "      <td>0.000736</td>\n",
              "      <td>129</td>\n",
              "      <td>0</td>\n",
              "      <td>8</td>\n",
              "      <td>64</td>\n",
              "      <td>132</td>\n",
              "      <td>135</td>\n",
              "      <td>0</td>\n",
              "      <td>0</td>\n",
              "      <td>0</td>\n",
              "      <td>0</td>\n",
              "      <td>107</td>\n",
              "      <td>0</td>\n",
              "    </tr>\n",
              "    <tr>\n",
              "      <th>4</th>\n",
              "      <td>0.000983</td>\n",
              "      <td>0</td>\n",
              "      <td>0</td>\n",
              "      <td>8</td>\n",
              "      <td>0</td>\n",
              "      <td>0</td>\n",
              "      <td>0</td>\n",
              "      <td>0</td>\n",
              "      <td>0</td>\n",
              "      <td>0</td>\n",
              "      <td>0</td>\n",
              "      <td>0</td>\n",
              "      <td>1</td>\n",
              "    </tr>\n",
              "    <tr>\n",
              "      <th>...</th>\n",
              "      <td>...</td>\n",
              "      <td>...</td>\n",
              "      <td>...</td>\n",
              "      <td>...</td>\n",
              "      <td>...</td>\n",
              "      <td>...</td>\n",
              "      <td>...</td>\n",
              "      <td>...</td>\n",
              "      <td>...</td>\n",
              "      <td>...</td>\n",
              "      <td>...</td>\n",
              "      <td>...</td>\n",
              "      <td>...</td>\n",
              "    </tr>\n",
              "    <tr>\n",
              "      <th>656574</th>\n",
              "      <td>306.295869</td>\n",
              "      <td>0</td>\n",
              "      <td>0</td>\n",
              "      <td>8</td>\n",
              "      <td>0</td>\n",
              "      <td>0</td>\n",
              "      <td>0</td>\n",
              "      <td>0</td>\n",
              "      <td>0</td>\n",
              "      <td>0</td>\n",
              "      <td>0</td>\n",
              "      <td>0</td>\n",
              "      <td>1</td>\n",
              "    </tr>\n",
              "    <tr>\n",
              "      <th>656575</th>\n",
              "      <td>306.296118</td>\n",
              "      <td>129</td>\n",
              "      <td>0</td>\n",
              "      <td>8</td>\n",
              "      <td>64</td>\n",
              "      <td>132</td>\n",
              "      <td>137</td>\n",
              "      <td>0</td>\n",
              "      <td>0</td>\n",
              "      <td>0</td>\n",
              "      <td>0</td>\n",
              "      <td>240</td>\n",
              "      <td>0</td>\n",
              "    </tr>\n",
              "    <tr>\n",
              "      <th>656576</th>\n",
              "      <td>306.296365</td>\n",
              "      <td>0</td>\n",
              "      <td>0</td>\n",
              "      <td>8</td>\n",
              "      <td>0</td>\n",
              "      <td>0</td>\n",
              "      <td>0</td>\n",
              "      <td>0</td>\n",
              "      <td>0</td>\n",
              "      <td>0</td>\n",
              "      <td>0</td>\n",
              "      <td>0</td>\n",
              "      <td>1</td>\n",
              "    </tr>\n",
              "    <tr>\n",
              "      <th>656577</th>\n",
              "      <td>306.296624</td>\n",
              "      <td>399</td>\n",
              "      <td>0</td>\n",
              "      <td>8</td>\n",
              "      <td>0</td>\n",
              "      <td>59</td>\n",
              "      <td>24</td>\n",
              "      <td>0</td>\n",
              "      <td>0</td>\n",
              "      <td>63</td>\n",
              "      <td>0</td>\n",
              "      <td>0</td>\n",
              "      <td>0</td>\n",
              "    </tr>\n",
              "    <tr>\n",
              "      <th>656578</th>\n",
              "      <td>306.296857</td>\n",
              "      <td>0</td>\n",
              "      <td>0</td>\n",
              "      <td>8</td>\n",
              "      <td>0</td>\n",
              "      <td>0</td>\n",
              "      <td>0</td>\n",
              "      <td>0</td>\n",
              "      <td>0</td>\n",
              "      <td>0</td>\n",
              "      <td>0</td>\n",
              "      <td>0</td>\n",
              "      <td>1</td>\n",
              "    </tr>\n",
              "  </tbody>\n",
              "</table>\n",
              "<p>656579 rows × 13 columns</p>\n",
              "</div>"
            ],
            "text/plain": [
              "         Timestamp  CAN ID  RTR  DLC  Data1  ...  Data5  Data6  Data7  Data8  label\n",
              "0         0.000000       0    0    8      0  ...      0      0      0      0      1\n",
              "1         0.000271     128    0    8      0  ...     22     17     22    187      0\n",
              "2         0.000495       0    0    8      0  ...      0      0      0      0      1\n",
              "3         0.000736     129    0    8     64  ...      0      0      0    107      0\n",
              "4         0.000983       0    0    8      0  ...      0      0      0      0      1\n",
              "...            ...     ...  ...  ...    ...  ...    ...    ...    ...    ...    ...\n",
              "656574  306.295869       0    0    8      0  ...      0      0      0      0      1\n",
              "656575  306.296118     129    0    8     64  ...      0      0      0    240      0\n",
              "656576  306.296365       0    0    8      0  ...      0      0      0      0      1\n",
              "656577  306.296624     399    0    8      0  ...      0     63      0      0      0\n",
              "656578  306.296857       0    0    8      0  ...      0      0      0      0      1\n",
              "\n",
              "[656579 rows x 13 columns]"
            ]
          },
          "metadata": {
            "tags": []
          },
          "execution_count": 12
        }
      ]
    },
    {
      "cell_type": "code",
      "metadata": {
        "colab": {
          "base_uri": "https://localhost:8080/",
          "height": 136
        },
        "id": "SksUn46-LVpu",
        "outputId": "46ec7a55-ffeb-40dc-d0b6-ff9c2234ad47"
      },
      "source": [
        "dosdf.groupby('label').count()"
      ],
      "execution_count": 13,
      "outputs": [
        {
          "output_type": "execute_result",
          "data": {
            "text/html": [
              "<div>\n",
              "<style scoped>\n",
              "    .dataframe tbody tr th:only-of-type {\n",
              "        vertical-align: middle;\n",
              "    }\n",
              "\n",
              "    .dataframe tbody tr th {\n",
              "        vertical-align: top;\n",
              "    }\n",
              "\n",
              "    .dataframe thead th {\n",
              "        text-align: right;\n",
              "    }\n",
              "</style>\n",
              "<table border=\"1\" class=\"dataframe\">\n",
              "  <thead>\n",
              "    <tr style=\"text-align: right;\">\n",
              "      <th></th>\n",
              "      <th>Timestamp</th>\n",
              "      <th>CAN ID</th>\n",
              "      <th>RTR</th>\n",
              "      <th>DLC</th>\n",
              "      <th>Data1</th>\n",
              "      <th>Data2</th>\n",
              "      <th>Data3</th>\n",
              "      <th>Data4</th>\n",
              "      <th>Data5</th>\n",
              "      <th>Data6</th>\n",
              "      <th>Data7</th>\n",
              "      <th>Data8</th>\n",
              "    </tr>\n",
              "    <tr>\n",
              "      <th>label</th>\n",
              "      <th></th>\n",
              "      <th></th>\n",
              "      <th></th>\n",
              "      <th></th>\n",
              "      <th></th>\n",
              "      <th></th>\n",
              "      <th></th>\n",
              "      <th></th>\n",
              "      <th></th>\n",
              "      <th></th>\n",
              "      <th></th>\n",
              "      <th></th>\n",
              "    </tr>\n",
              "  </thead>\n",
              "  <tbody>\n",
              "    <tr>\n",
              "      <th>0</th>\n",
              "      <td>320955</td>\n",
              "      <td>320955</td>\n",
              "      <td>320955</td>\n",
              "      <td>320955</td>\n",
              "      <td>320955</td>\n",
              "      <td>320955</td>\n",
              "      <td>320955</td>\n",
              "      <td>320955</td>\n",
              "      <td>320955</td>\n",
              "      <td>320955</td>\n",
              "      <td>320955</td>\n",
              "      <td>320955</td>\n",
              "    </tr>\n",
              "    <tr>\n",
              "      <th>1</th>\n",
              "      <td>335624</td>\n",
              "      <td>335624</td>\n",
              "      <td>335624</td>\n",
              "      <td>335624</td>\n",
              "      <td>335624</td>\n",
              "      <td>335624</td>\n",
              "      <td>335624</td>\n",
              "      <td>335624</td>\n",
              "      <td>335624</td>\n",
              "      <td>335624</td>\n",
              "      <td>335624</td>\n",
              "      <td>335624</td>\n",
              "    </tr>\n",
              "  </tbody>\n",
              "</table>\n",
              "</div>"
            ],
            "text/plain": [
              "       Timestamp  CAN ID     RTR     DLC  ...   Data5   Data6   Data7   Data8\n",
              "label                                     ...                                \n",
              "0         320955  320955  320955  320955  ...  320955  320955  320955  320955\n",
              "1         335624  335624  335624  335624  ...  335624  335624  335624  335624\n",
              "\n",
              "[2 rows x 12 columns]"
            ]
          },
          "metadata": {
            "tags": []
          },
          "execution_count": 13
        }
      ]
    },
    {
      "cell_type": "code",
      "metadata": {
        "colab": {
          "base_uri": "https://localhost:8080/",
          "height": 402
        },
        "id": "ZQmTm4lFK_a9",
        "outputId": "8ce77e24-d9a9-47ba-8ede-e4f7ae327360"
      },
      "source": [
        "impersonatedf = pd.read_csv('/content/drive/My Drive/Colab Notebooks/CS581/project-data/Impersonation_attack_dataset.csv')\r\n",
        "start_time=impersonatedf['Timestamp'][0]\r\n",
        "impersonatedf['Timestamp'] = impersonatedf['Timestamp'] - start_time\r\n",
        "impersonatedf['label'] = np.where(impersonatedf['CAN ID'] == 356,1,0) \r\n",
        "impersonatedf"
      ],
      "execution_count": 14,
      "outputs": [
        {
          "output_type": "execute_result",
          "data": {
            "text/html": [
              "<div>\n",
              "<style scoped>\n",
              "    .dataframe tbody tr th:only-of-type {\n",
              "        vertical-align: middle;\n",
              "    }\n",
              "\n",
              "    .dataframe tbody tr th {\n",
              "        vertical-align: top;\n",
              "    }\n",
              "\n",
              "    .dataframe thead th {\n",
              "        text-align: right;\n",
              "    }\n",
              "</style>\n",
              "<table border=\"1\" class=\"dataframe\">\n",
              "  <thead>\n",
              "    <tr style=\"text-align: right;\">\n",
              "      <th></th>\n",
              "      <th>Timestamp</th>\n",
              "      <th>CAN ID</th>\n",
              "      <th>RTR</th>\n",
              "      <th>DLC</th>\n",
              "      <th>Data1</th>\n",
              "      <th>Data2</th>\n",
              "      <th>Data3</th>\n",
              "      <th>Data4</th>\n",
              "      <th>Data5</th>\n",
              "      <th>Data6</th>\n",
              "      <th>Data7</th>\n",
              "      <th>Data8</th>\n",
              "      <th>label</th>\n",
              "    </tr>\n",
              "  </thead>\n",
              "  <tbody>\n",
              "    <tr>\n",
              "      <th>0</th>\n",
              "      <td>0.000000</td>\n",
              "      <td>1415</td>\n",
              "      <td>0</td>\n",
              "      <td>8</td>\n",
              "      <td>0</td>\n",
              "      <td>0</td>\n",
              "      <td>0</td>\n",
              "      <td>0</td>\n",
              "      <td>0</td>\n",
              "      <td>0</td>\n",
              "      <td>0</td>\n",
              "      <td>1</td>\n",
              "      <td>0</td>\n",
              "    </tr>\n",
              "    <tr>\n",
              "      <th>1</th>\n",
              "      <td>0.000777</td>\n",
              "      <td>790</td>\n",
              "      <td>0</td>\n",
              "      <td>8</td>\n",
              "      <td>5</td>\n",
              "      <td>28</td>\n",
              "      <td>106</td>\n",
              "      <td>10</td>\n",
              "      <td>28</td>\n",
              "      <td>19</td>\n",
              "      <td>0</td>\n",
              "      <td>127</td>\n",
              "      <td>0</td>\n",
              "    </tr>\n",
              "    <tr>\n",
              "      <th>2</th>\n",
              "      <td>0.001015</td>\n",
              "      <td>399</td>\n",
              "      <td>0</td>\n",
              "      <td>8</td>\n",
              "      <td>0</td>\n",
              "      <td>33</td>\n",
              "      <td>28</td>\n",
              "      <td>0</td>\n",
              "      <td>0</td>\n",
              "      <td>67</td>\n",
              "      <td>0</td>\n",
              "      <td>0</td>\n",
              "      <td>0</td>\n",
              "    </tr>\n",
              "    <tr>\n",
              "      <th>3</th>\n",
              "      <td>0.001247</td>\n",
              "      <td>608</td>\n",
              "      <td>0</td>\n",
              "      <td>8</td>\n",
              "      <td>5</td>\n",
              "      <td>28</td>\n",
              "      <td>0</td>\n",
              "      <td>48</td>\n",
              "      <td>255</td>\n",
              "      <td>147</td>\n",
              "      <td>99</td>\n",
              "      <td>53</td>\n",
              "      <td>0</td>\n",
              "    </tr>\n",
              "    <tr>\n",
              "      <th>4</th>\n",
              "      <td>0.001487</td>\n",
              "      <td>128</td>\n",
              "      <td>0</td>\n",
              "      <td>8</td>\n",
              "      <td>0</td>\n",
              "      <td>23</td>\n",
              "      <td>106</td>\n",
              "      <td>10</td>\n",
              "      <td>28</td>\n",
              "      <td>19</td>\n",
              "      <td>28</td>\n",
              "      <td>31</td>\n",
              "      <td>0</td>\n",
              "    </tr>\n",
              "    <tr>\n",
              "      <th>...</th>\n",
              "      <td>...</td>\n",
              "      <td>...</td>\n",
              "      <td>...</td>\n",
              "      <td>...</td>\n",
              "      <td>...</td>\n",
              "      <td>...</td>\n",
              "      <td>...</td>\n",
              "      <td>...</td>\n",
              "      <td>...</td>\n",
              "      <td>...</td>\n",
              "      <td>...</td>\n",
              "      <td>...</td>\n",
              "      <td>...</td>\n",
              "    </tr>\n",
              "    <tr>\n",
              "      <th>995467</th>\n",
              "      <td>482.648772</td>\n",
              "      <td>1508</td>\n",
              "      <td>0</td>\n",
              "      <td>3</td>\n",
              "      <td>0</td>\n",
              "      <td>2</td>\n",
              "      <td>0</td>\n",
              "      <td>0</td>\n",
              "      <td>0</td>\n",
              "      <td>0</td>\n",
              "      <td>0</td>\n",
              "      <td>0</td>\n",
              "      <td>0</td>\n",
              "    </tr>\n",
              "    <tr>\n",
              "      <th>995468</th>\n",
              "      <td>482.648988</td>\n",
              "      <td>339</td>\n",
              "      <td>0</td>\n",
              "      <td>8</td>\n",
              "      <td>0</td>\n",
              "      <td>128</td>\n",
              "      <td>16</td>\n",
              "      <td>255</td>\n",
              "      <td>0</td>\n",
              "      <td>255</td>\n",
              "      <td>160</td>\n",
              "      <td>46</td>\n",
              "      <td>0</td>\n",
              "    </tr>\n",
              "    <tr>\n",
              "      <th>995469</th>\n",
              "      <td>482.649224</td>\n",
              "      <td>357</td>\n",
              "      <td>0</td>\n",
              "      <td>8</td>\n",
              "      <td>14</td>\n",
              "      <td>216</td>\n",
              "      <td>127</td>\n",
              "      <td>0</td>\n",
              "      <td>0</td>\n",
              "      <td>0</td>\n",
              "      <td>3</td>\n",
              "      <td>170</td>\n",
              "      <td>0</td>\n",
              "    </tr>\n",
              "    <tr>\n",
              "      <th>995470</th>\n",
              "      <td>482.649460</td>\n",
              "      <td>544</td>\n",
              "      <td>0</td>\n",
              "      <td>8</td>\n",
              "      <td>244</td>\n",
              "      <td>3</td>\n",
              "      <td>247</td>\n",
              "      <td>3</td>\n",
              "      <td>12</td>\n",
              "      <td>0</td>\n",
              "      <td>58</td>\n",
              "      <td>16</td>\n",
              "      <td>0</td>\n",
              "    </tr>\n",
              "    <tr>\n",
              "      <th>995471</th>\n",
              "      <td>482.649648</td>\n",
              "      <td>688</td>\n",
              "      <td>0</td>\n",
              "      <td>5</td>\n",
              "      <td>115</td>\n",
              "      <td>0</td>\n",
              "      <td>0</td>\n",
              "      <td>7</td>\n",
              "      <td>3</td>\n",
              "      <td>0</td>\n",
              "      <td>0</td>\n",
              "      <td>0</td>\n",
              "      <td>0</td>\n",
              "    </tr>\n",
              "  </tbody>\n",
              "</table>\n",
              "<p>995472 rows × 13 columns</p>\n",
              "</div>"
            ],
            "text/plain": [
              "         Timestamp  CAN ID  RTR  DLC  Data1  ...  Data5  Data6  Data7  Data8  label\n",
              "0         0.000000    1415    0    8      0  ...      0      0      0      1      0\n",
              "1         0.000777     790    0    8      5  ...     28     19      0    127      0\n",
              "2         0.001015     399    0    8      0  ...      0     67      0      0      0\n",
              "3         0.001247     608    0    8      5  ...    255    147     99     53      0\n",
              "4         0.001487     128    0    8      0  ...     28     19     28     31      0\n",
              "...            ...     ...  ...  ...    ...  ...    ...    ...    ...    ...    ...\n",
              "995467  482.648772    1508    0    3      0  ...      0      0      0      0      0\n",
              "995468  482.648988     339    0    8      0  ...      0    255    160     46      0\n",
              "995469  482.649224     357    0    8     14  ...      0      0      3    170      0\n",
              "995470  482.649460     544    0    8    244  ...     12      0     58     16      0\n",
              "995471  482.649648     688    0    5    115  ...      3      0      0      0      0\n",
              "\n",
              "[995472 rows x 13 columns]"
            ]
          },
          "metadata": {
            "tags": []
          },
          "execution_count": 14
        }
      ]
    },
    {
      "cell_type": "code",
      "metadata": {
        "colab": {
          "base_uri": "https://localhost:8080/",
          "height": 153
        },
        "id": "9JICe22SMbbV",
        "outputId": "75e8e579-e6d8-417a-ea62-bb4726015ebd"
      },
      "source": [
        "print(int('0x164',base=16))\r\n",
        "impersonatedf.groupby('label').count()"
      ],
      "execution_count": 15,
      "outputs": [
        {
          "output_type": "stream",
          "text": [
            "356\n"
          ],
          "name": "stdout"
        },
        {
          "output_type": "execute_result",
          "data": {
            "text/html": [
              "<div>\n",
              "<style scoped>\n",
              "    .dataframe tbody tr th:only-of-type {\n",
              "        vertical-align: middle;\n",
              "    }\n",
              "\n",
              "    .dataframe tbody tr th {\n",
              "        vertical-align: top;\n",
              "    }\n",
              "\n",
              "    .dataframe thead th {\n",
              "        text-align: right;\n",
              "    }\n",
              "</style>\n",
              "<table border=\"1\" class=\"dataframe\">\n",
              "  <thead>\n",
              "    <tr style=\"text-align: right;\">\n",
              "      <th></th>\n",
              "      <th>Timestamp</th>\n",
              "      <th>CAN ID</th>\n",
              "      <th>RTR</th>\n",
              "      <th>DLC</th>\n",
              "      <th>Data1</th>\n",
              "      <th>Data2</th>\n",
              "      <th>Data3</th>\n",
              "      <th>Data4</th>\n",
              "      <th>Data5</th>\n",
              "      <th>Data6</th>\n",
              "      <th>Data7</th>\n",
              "      <th>Data8</th>\n",
              "    </tr>\n",
              "    <tr>\n",
              "      <th>label</th>\n",
              "      <th></th>\n",
              "      <th></th>\n",
              "      <th></th>\n",
              "      <th></th>\n",
              "      <th></th>\n",
              "      <th></th>\n",
              "      <th></th>\n",
              "      <th></th>\n",
              "      <th></th>\n",
              "      <th></th>\n",
              "      <th></th>\n",
              "      <th></th>\n",
              "    </tr>\n",
              "  </thead>\n",
              "  <tbody>\n",
              "    <tr>\n",
              "      <th>0</th>\n",
              "      <td>938000</td>\n",
              "      <td>938000</td>\n",
              "      <td>938000</td>\n",
              "      <td>938000</td>\n",
              "      <td>938000</td>\n",
              "      <td>938000</td>\n",
              "      <td>938000</td>\n",
              "      <td>938000</td>\n",
              "      <td>938000</td>\n",
              "      <td>938000</td>\n",
              "      <td>938000</td>\n",
              "      <td>938000</td>\n",
              "    </tr>\n",
              "    <tr>\n",
              "      <th>1</th>\n",
              "      <td>57472</td>\n",
              "      <td>57472</td>\n",
              "      <td>57472</td>\n",
              "      <td>57472</td>\n",
              "      <td>57472</td>\n",
              "      <td>57472</td>\n",
              "      <td>57472</td>\n",
              "      <td>57472</td>\n",
              "      <td>57472</td>\n",
              "      <td>57472</td>\n",
              "      <td>57472</td>\n",
              "      <td>57472</td>\n",
              "    </tr>\n",
              "  </tbody>\n",
              "</table>\n",
              "</div>"
            ],
            "text/plain": [
              "       Timestamp  CAN ID     RTR     DLC  ...   Data5   Data6   Data7   Data8\n",
              "label                                     ...                                \n",
              "0         938000  938000  938000  938000  ...  938000  938000  938000  938000\n",
              "1          57472   57472   57472   57472  ...   57472   57472   57472   57472\n",
              "\n",
              "[2 rows x 12 columns]"
            ]
          },
          "metadata": {
            "tags": []
          },
          "execution_count": 15
        }
      ]
    },
    {
      "cell_type": "code",
      "metadata": {
        "colab": {
          "base_uri": "https://localhost:8080/",
          "height": 402
        },
        "id": "4k1hLHhhxHJd",
        "outputId": "676f9643-6783-4e4c-e23b-71d7505dd7d8"
      },
      "source": [
        "impersonatedf.loc[impersonatedf['Timestamp'] > impersonatedf['Timestamp'][0]  + 250].loc[impersonatedf['CAN ID'] == 356]"
      ],
      "execution_count": 16,
      "outputs": [
        {
          "output_type": "execute_result",
          "data": {
            "text/html": [
              "<div>\n",
              "<style scoped>\n",
              "    .dataframe tbody tr th:only-of-type {\n",
              "        vertical-align: middle;\n",
              "    }\n",
              "\n",
              "    .dataframe tbody tr th {\n",
              "        vertical-align: top;\n",
              "    }\n",
              "\n",
              "    .dataframe thead th {\n",
              "        text-align: right;\n",
              "    }\n",
              "</style>\n",
              "<table border=\"1\" class=\"dataframe\">\n",
              "  <thead>\n",
              "    <tr style=\"text-align: right;\">\n",
              "      <th></th>\n",
              "      <th>Timestamp</th>\n",
              "      <th>CAN ID</th>\n",
              "      <th>RTR</th>\n",
              "      <th>DLC</th>\n",
              "      <th>Data1</th>\n",
              "      <th>Data2</th>\n",
              "      <th>Data3</th>\n",
              "      <th>Data4</th>\n",
              "      <th>Data5</th>\n",
              "      <th>Data6</th>\n",
              "      <th>Data7</th>\n",
              "      <th>Data8</th>\n",
              "      <th>label</th>\n",
              "    </tr>\n",
              "  </thead>\n",
              "  <tbody>\n",
              "    <tr>\n",
              "      <th>515588</th>\n",
              "      <td>250.001543</td>\n",
              "      <td>356</td>\n",
              "      <td>100</td>\n",
              "      <td>8</td>\n",
              "      <td>1</td>\n",
              "      <td>2</td>\n",
              "      <td>3</td>\n",
              "      <td>4</td>\n",
              "      <td>5</td>\n",
              "      <td>6</td>\n",
              "      <td>7</td>\n",
              "      <td>8</td>\n",
              "      <td>1</td>\n",
              "    </tr>\n",
              "    <tr>\n",
              "      <th>515589</th>\n",
              "      <td>250.001798</td>\n",
              "      <td>356</td>\n",
              "      <td>0</td>\n",
              "      <td>8</td>\n",
              "      <td>0</td>\n",
              "      <td>8</td>\n",
              "      <td>0</td>\n",
              "      <td>0</td>\n",
              "      <td>0</td>\n",
              "      <td>0</td>\n",
              "      <td>10</td>\n",
              "      <td>2</td>\n",
              "      <td>1</td>\n",
              "    </tr>\n",
              "    <tr>\n",
              "      <th>515605</th>\n",
              "      <td>250.007007</td>\n",
              "      <td>356</td>\n",
              "      <td>0</td>\n",
              "      <td>8</td>\n",
              "      <td>0</td>\n",
              "      <td>8</td>\n",
              "      <td>0</td>\n",
              "      <td>0</td>\n",
              "      <td>0</td>\n",
              "      <td>0</td>\n",
              "      <td>11</td>\n",
              "      <td>3</td>\n",
              "      <td>1</td>\n",
              "    </tr>\n",
              "    <tr>\n",
              "      <th>515630</th>\n",
              "      <td>250.017030</td>\n",
              "      <td>356</td>\n",
              "      <td>0</td>\n",
              "      <td>8</td>\n",
              "      <td>0</td>\n",
              "      <td>8</td>\n",
              "      <td>0</td>\n",
              "      <td>0</td>\n",
              "      <td>0</td>\n",
              "      <td>0</td>\n",
              "      <td>12</td>\n",
              "      <td>4</td>\n",
              "      <td>1</td>\n",
              "    </tr>\n",
              "    <tr>\n",
              "      <th>515650</th>\n",
              "      <td>250.026953</td>\n",
              "      <td>356</td>\n",
              "      <td>0</td>\n",
              "      <td>8</td>\n",
              "      <td>0</td>\n",
              "      <td>8</td>\n",
              "      <td>0</td>\n",
              "      <td>0</td>\n",
              "      <td>0</td>\n",
              "      <td>0</td>\n",
              "      <td>13</td>\n",
              "      <td>5</td>\n",
              "      <td>1</td>\n",
              "    </tr>\n",
              "    <tr>\n",
              "      <th>...</th>\n",
              "      <td>...</td>\n",
              "      <td>...</td>\n",
              "      <td>...</td>\n",
              "      <td>...</td>\n",
              "      <td>...</td>\n",
              "      <td>...</td>\n",
              "      <td>...</td>\n",
              "      <td>...</td>\n",
              "      <td>...</td>\n",
              "      <td>...</td>\n",
              "      <td>...</td>\n",
              "      <td>...</td>\n",
              "      <td>...</td>\n",
              "    </tr>\n",
              "    <tr>\n",
              "      <th>995380</th>\n",
              "      <td>482.604350</td>\n",
              "      <td>356</td>\n",
              "      <td>0</td>\n",
              "      <td>8</td>\n",
              "      <td>0</td>\n",
              "      <td>8</td>\n",
              "      <td>0</td>\n",
              "      <td>0</td>\n",
              "      <td>0</td>\n",
              "      <td>0</td>\n",
              "      <td>0</td>\n",
              "      <td>8</td>\n",
              "      <td>1</td>\n",
              "    </tr>\n",
              "    <tr>\n",
              "      <th>995402</th>\n",
              "      <td>482.614275</td>\n",
              "      <td>356</td>\n",
              "      <td>0</td>\n",
              "      <td>8</td>\n",
              "      <td>0</td>\n",
              "      <td>8</td>\n",
              "      <td>0</td>\n",
              "      <td>0</td>\n",
              "      <td>0</td>\n",
              "      <td>0</td>\n",
              "      <td>1</td>\n",
              "      <td>9</td>\n",
              "      <td>1</td>\n",
              "    </tr>\n",
              "    <tr>\n",
              "      <th>995426</th>\n",
              "      <td>482.624298</td>\n",
              "      <td>356</td>\n",
              "      <td>0</td>\n",
              "      <td>8</td>\n",
              "      <td>0</td>\n",
              "      <td>8</td>\n",
              "      <td>0</td>\n",
              "      <td>0</td>\n",
              "      <td>0</td>\n",
              "      <td>0</td>\n",
              "      <td>2</td>\n",
              "      <td>10</td>\n",
              "      <td>1</td>\n",
              "    </tr>\n",
              "    <tr>\n",
              "      <th>995444</th>\n",
              "      <td>482.634225</td>\n",
              "      <td>356</td>\n",
              "      <td>0</td>\n",
              "      <td>8</td>\n",
              "      <td>0</td>\n",
              "      <td>8</td>\n",
              "      <td>0</td>\n",
              "      <td>0</td>\n",
              "      <td>0</td>\n",
              "      <td>0</td>\n",
              "      <td>3</td>\n",
              "      <td>11</td>\n",
              "      <td>1</td>\n",
              "    </tr>\n",
              "    <tr>\n",
              "      <th>995466</th>\n",
              "      <td>482.644254</td>\n",
              "      <td>356</td>\n",
              "      <td>0</td>\n",
              "      <td>8</td>\n",
              "      <td>0</td>\n",
              "      <td>8</td>\n",
              "      <td>0</td>\n",
              "      <td>0</td>\n",
              "      <td>0</td>\n",
              "      <td>0</td>\n",
              "      <td>4</td>\n",
              "      <td>12</td>\n",
              "      <td>1</td>\n",
              "    </tr>\n",
              "  </tbody>\n",
              "</table>\n",
              "<p>27673 rows × 13 columns</p>\n",
              "</div>"
            ],
            "text/plain": [
              "         Timestamp  CAN ID  RTR  DLC  Data1  ...  Data5  Data6  Data7  Data8  label\n",
              "515588  250.001543     356  100    8      1  ...      5      6      7      8      1\n",
              "515589  250.001798     356    0    8      0  ...      0      0     10      2      1\n",
              "515605  250.007007     356    0    8      0  ...      0      0     11      3      1\n",
              "515630  250.017030     356    0    8      0  ...      0      0     12      4      1\n",
              "515650  250.026953     356    0    8      0  ...      0      0     13      5      1\n",
              "...            ...     ...  ...  ...    ...  ...    ...    ...    ...    ...    ...\n",
              "995380  482.604350     356    0    8      0  ...      0      0      0      8      1\n",
              "995402  482.614275     356    0    8      0  ...      0      0      1      9      1\n",
              "995426  482.624298     356    0    8      0  ...      0      0      2     10      1\n",
              "995444  482.634225     356    0    8      0  ...      0      0      3     11      1\n",
              "995466  482.644254     356    0    8      0  ...      0      0      4     12      1\n",
              "\n",
              "[27673 rows x 13 columns]"
            ]
          },
          "metadata": {
            "tags": []
          },
          "execution_count": 16
        }
      ]
    },
    {
      "cell_type": "code",
      "metadata": {
        "colab": {
          "base_uri": "https://localhost:8080/"
        },
        "id": "gYVfWRB69JUP",
        "outputId": "f2834cee-e67f-4e03-b66d-54d5fb2f7e05"
      },
      "source": [
        "27673/995472"
      ],
      "execution_count": 17,
      "outputs": [
        {
          "output_type": "execute_result",
          "data": {
            "text/plain": [
              "0.02779887329829468"
            ]
          },
          "metadata": {
            "tags": []
          },
          "execution_count": 17
        }
      ]
    },
    {
      "cell_type": "markdown",
      "metadata": {
        "id": "H_CBQGv6JEr1"
      },
      "source": [
        "The above dataset is super biased, with anomalies making up for only 2% of the data. On merging this with the Attack-free dataset, this ratio will only get smaller, we will have "
      ]
    },
    {
      "cell_type": "code",
      "metadata": {
        "colab": {
          "base_uri": "https://localhost:8080/",
          "height": 402
        },
        "id": "Qt8NTR8aKt0b",
        "outputId": "942e80b2-f2cd-4c76-9b08-c3da7d81f68d"
      },
      "source": [
        "fuzzydf = pd.read_csv('/content/drive/My Drive/Colab Notebooks/CS581/project-data/Fuzzy_attack_dataset.csv')\r\n",
        "fuzzydf"
      ],
      "execution_count": 18,
      "outputs": [
        {
          "output_type": "execute_result",
          "data": {
            "text/html": [
              "<div>\n",
              "<style scoped>\n",
              "    .dataframe tbody tr th:only-of-type {\n",
              "        vertical-align: middle;\n",
              "    }\n",
              "\n",
              "    .dataframe tbody tr th {\n",
              "        vertical-align: top;\n",
              "    }\n",
              "\n",
              "    .dataframe thead th {\n",
              "        text-align: right;\n",
              "    }\n",
              "</style>\n",
              "<table border=\"1\" class=\"dataframe\">\n",
              "  <thead>\n",
              "    <tr style=\"text-align: right;\">\n",
              "      <th></th>\n",
              "      <th>Timestamp</th>\n",
              "      <th>CAN ID</th>\n",
              "      <th>RTR</th>\n",
              "      <th>DLC</th>\n",
              "      <th>Data1</th>\n",
              "      <th>Data2</th>\n",
              "      <th>Data3</th>\n",
              "      <th>Data4</th>\n",
              "      <th>Data5</th>\n",
              "      <th>Data6</th>\n",
              "      <th>Data7</th>\n",
              "      <th>Data8</th>\n",
              "    </tr>\n",
              "  </thead>\n",
              "  <tbody>\n",
              "    <tr>\n",
              "      <th>0</th>\n",
              "      <td>0.000000</td>\n",
              "      <td>544</td>\n",
              "      <td>0</td>\n",
              "      <td>8</td>\n",
              "      <td>41</td>\n",
              "      <td>197</td>\n",
              "      <td>38</td>\n",
              "      <td>85</td>\n",
              "      <td>106</td>\n",
              "      <td>103</td>\n",
              "      <td>2</td>\n",
              "      <td>93</td>\n",
              "    </tr>\n",
              "    <tr>\n",
              "      <th>1</th>\n",
              "      <td>0.000868</td>\n",
              "      <td>1201</td>\n",
              "      <td>0</td>\n",
              "      <td>8</td>\n",
              "      <td>94</td>\n",
              "      <td>81</td>\n",
              "      <td>207</td>\n",
              "      <td>183</td>\n",
              "      <td>76</td>\n",
              "      <td>153</td>\n",
              "      <td>170</td>\n",
              "      <td>151</td>\n",
              "    </tr>\n",
              "    <tr>\n",
              "      <th>2</th>\n",
              "      <td>0.001212</td>\n",
              "      <td>688</td>\n",
              "      <td>0</td>\n",
              "      <td>5</td>\n",
              "      <td>58</td>\n",
              "      <td>255</td>\n",
              "      <td>0</td>\n",
              "      <td>7</td>\n",
              "      <td>44</td>\n",
              "      <td>0</td>\n",
              "      <td>0</td>\n",
              "      <td>0</td>\n",
              "    </tr>\n",
              "    <tr>\n",
              "      <th>3</th>\n",
              "      <td>0.001452</td>\n",
              "      <td>357</td>\n",
              "      <td>0</td>\n",
              "      <td>8</td>\n",
              "      <td>0</td>\n",
              "      <td>8</td>\n",
              "      <td>128</td>\n",
              "      <td>2</td>\n",
              "      <td>0</td>\n",
              "      <td>0</td>\n",
              "      <td>12</td>\n",
              "      <td>134</td>\n",
              "    </tr>\n",
              "    <tr>\n",
              "      <th>4</th>\n",
              "      <td>0.001782</td>\n",
              "      <td>544</td>\n",
              "      <td>0</td>\n",
              "      <td>8</td>\n",
              "      <td>212</td>\n",
              "      <td>166</td>\n",
              "      <td>227</td>\n",
              "      <td>169</td>\n",
              "      <td>35</td>\n",
              "      <td>170</td>\n",
              "      <td>211</td>\n",
              "      <td>31</td>\n",
              "    </tr>\n",
              "    <tr>\n",
              "      <th>...</th>\n",
              "      <td>...</td>\n",
              "      <td>...</td>\n",
              "      <td>...</td>\n",
              "      <td>...</td>\n",
              "      <td>...</td>\n",
              "      <td>...</td>\n",
              "      <td>...</td>\n",
              "      <td>...</td>\n",
              "      <td>...</td>\n",
              "      <td>...</td>\n",
              "      <td>...</td>\n",
              "      <td>...</td>\n",
              "    </tr>\n",
              "    <tr>\n",
              "      <th>591985</th>\n",
              "      <td>347.330224</td>\n",
              "      <td>339</td>\n",
              "      <td>0</td>\n",
              "      <td>8</td>\n",
              "      <td>0</td>\n",
              "      <td>161</td>\n",
              "      <td>32</td>\n",
              "      <td>255</td>\n",
              "      <td>0</td>\n",
              "      <td>255</td>\n",
              "      <td>32</td>\n",
              "      <td>223</td>\n",
              "    </tr>\n",
              "    <tr>\n",
              "      <th>591986</th>\n",
              "      <td>347.330461</td>\n",
              "      <td>544</td>\n",
              "      <td>0</td>\n",
              "      <td>8</td>\n",
              "      <td>192</td>\n",
              "      <td>3</td>\n",
              "      <td>245</td>\n",
              "      <td>3</td>\n",
              "      <td>12</td>\n",
              "      <td>0</td>\n",
              "      <td>71</td>\n",
              "      <td>16</td>\n",
              "    </tr>\n",
              "    <tr>\n",
              "      <th>591987</th>\n",
              "      <td>347.330678</td>\n",
              "      <td>1440</td>\n",
              "      <td>0</td>\n",
              "      <td>8</td>\n",
              "      <td>166</td>\n",
              "      <td>32</td>\n",
              "      <td>82</td>\n",
              "      <td>109</td>\n",
              "      <td>167</td>\n",
              "      <td>238</td>\n",
              "      <td>124</td>\n",
              "      <td>226</td>\n",
              "    </tr>\n",
              "    <tr>\n",
              "      <th>591988</th>\n",
              "      <td>347.331050</td>\n",
              "      <td>1442</td>\n",
              "      <td>0</td>\n",
              "      <td>8</td>\n",
              "      <td>238</td>\n",
              "      <td>34</td>\n",
              "      <td>248</td>\n",
              "      <td>11</td>\n",
              "      <td>91</td>\n",
              "      <td>131</td>\n",
              "      <td>153</td>\n",
              "      <td>171</td>\n",
              "    </tr>\n",
              "    <tr>\n",
              "      <th>591989</th>\n",
              "      <td>347.331739</td>\n",
              "      <td>1440</td>\n",
              "      <td>0</td>\n",
              "      <td>8</td>\n",
              "      <td>171</td>\n",
              "      <td>143</td>\n",
              "      <td>126</td>\n",
              "      <td>105</td>\n",
              "      <td>152</td>\n",
              "      <td>85</td>\n",
              "      <td>122</td>\n",
              "      <td>144</td>\n",
              "    </tr>\n",
              "  </tbody>\n",
              "</table>\n",
              "<p>591990 rows × 12 columns</p>\n",
              "</div>"
            ],
            "text/plain": [
              "         Timestamp  CAN ID  RTR  DLC  Data1  ...  Data4  Data5  Data6  Data7  Data8\n",
              "0         0.000000     544    0    8     41  ...     85    106    103      2     93\n",
              "1         0.000868    1201    0    8     94  ...    183     76    153    170    151\n",
              "2         0.001212     688    0    5     58  ...      7     44      0      0      0\n",
              "3         0.001452     357    0    8      0  ...      2      0      0     12    134\n",
              "4         0.001782     544    0    8    212  ...    169     35    170    211     31\n",
              "...            ...     ...  ...  ...    ...  ...    ...    ...    ...    ...    ...\n",
              "591985  347.330224     339    0    8      0  ...    255      0    255     32    223\n",
              "591986  347.330461     544    0    8    192  ...      3     12      0     71     16\n",
              "591987  347.330678    1440    0    8    166  ...    109    167    238    124    226\n",
              "591988  347.331050    1442    0    8    238  ...     11     91    131    153    171\n",
              "591989  347.331739    1440    0    8    171  ...    105    152     85    122    144\n",
              "\n",
              "[591990 rows x 12 columns]"
            ]
          },
          "metadata": {
            "tags": []
          },
          "execution_count": 18
        }
      ]
    },
    {
      "cell_type": "code",
      "metadata": {
        "id": "iLACGEZxvYpF"
      },
      "source": [
        ""
      ],
      "execution_count": null,
      "outputs": []
    },
    {
      "cell_type": "markdown",
      "metadata": {
        "id": "QXEsTphkjw4r"
      },
      "source": [
        "IN the above datasets, we have also added labels where possible, to try a supervised learning experiment."
      ]
    },
    {
      "cell_type": "markdown",
      "metadata": {
        "id": "ZqynFsMjGmAA"
      },
      "source": [
        "# Attack - Free Dataset\n",
        "\n",
        "This is a trivial experiment being conducted on the attack-free state network dataset. All the labels in this dataset are set to 1.\n",
        "\n",
        "Think of this as a sort of pre-training model dataset. i.e. This dataset contains no attacks and a model can be trained on it to learn what normal network traffic looks like.\n",
        "\n"
      ]
    },
    {
      "cell_type": "markdown",
      "metadata": {
        "id": "livEnA9EceV7"
      },
      "source": [
        "## Vanilla LSTM"
      ]
    },
    {
      "cell_type": "markdown",
      "metadata": {
        "id": "yMWP5xaZq4qe"
      },
      "source": [
        "### Train-test split"
      ]
    },
    {
      "cell_type": "code",
      "metadata": {
        "id": "uhxob-h0fRtw"
      },
      "source": [
        "series = freedf.to_numpy()\n",
        "series = series[ : , :, np.newaxis] "
      ],
      "execution_count": null,
      "outputs": []
    },
    {
      "cell_type": "code",
      "metadata": {
        "id": "LBDYBkGmEjRW",
        "colab": {
          "base_uri": "https://localhost:8080/"
        },
        "outputId": "1f014c4c-2f61-4b6d-eb21-e2834d6628a5"
      },
      "source": [
        "series.shape"
      ],
      "execution_count": null,
      "outputs": [
        {
          "output_type": "execute_result",
          "data": {
            "text/plain": [
              "(2369398, 13, 1)"
            ]
          },
          "metadata": {
            "tags": []
          },
          "execution_count": 63
        }
      ]
    },
    {
      "cell_type": "code",
      "metadata": {
        "id": "JqqAkybMgY1C",
        "colab": {
          "base_uri": "https://localhost:8080/"
        },
        "outputId": "00f01b09-b041-4f62-d8f0-d8ac86a5d239"
      },
      "source": [
        "n_features = series.shape[1]\n",
        "train_split = int(series.shape[0]*0.7)\n",
        "print(f'train split : {train_split}')\n",
        "\n",
        "val_split = int(series.shape[0]*0.8)\n",
        "\n",
        "X_train, y_train = series[:train_split, :n_features-1], series[:train_split, -1] # -1 references the last column\n",
        "X_valid, y_valid = series[train_split:val_split, :n_features-1], series[train_split:val_split, -1]\n",
        "X_test, y_test = series[val_split:, :n_features-1], series[val_split:, -1]\n"
      ],
      "execution_count": null,
      "outputs": [
        {
          "output_type": "stream",
          "text": [
            "train split : 1658578\n"
          ],
          "name": "stdout"
        }
      ]
    },
    {
      "cell_type": "code",
      "metadata": {
        "colab": {
          "base_uri": "https://localhost:8080/"
        },
        "id": "G-SnHnppe_nz",
        "outputId": "dc31e268-9129-4652-c7c8-80a9b38fb9d6"
      },
      "source": [
        "X_train.shape, y_train.shape"
      ],
      "execution_count": null,
      "outputs": [
        {
          "output_type": "execute_result",
          "data": {
            "text/plain": [
              "((1658578, 12, 1), (1658578, 1))"
            ]
          },
          "metadata": {
            "tags": []
          },
          "execution_count": 65
        }
      ]
    },
    {
      "cell_type": "code",
      "metadata": {
        "colab": {
          "base_uri": "https://localhost:8080/"
        },
        "id": "tk3IWdyEredw",
        "outputId": "59faba21-bb1f-4c29-cff8-0d305819c13a"
      },
      "source": [
        "X_valid.shape,y_valid.shape"
      ],
      "execution_count": null,
      "outputs": [
        {
          "output_type": "execute_result",
          "data": {
            "text/plain": [
              "((236940, 12, 1), (236940, 1))"
            ]
          },
          "metadata": {
            "tags": []
          },
          "execution_count": 66
        }
      ]
    },
    {
      "cell_type": "code",
      "metadata": {
        "colab": {
          "base_uri": "https://localhost:8080/"
        },
        "id": "23FL-8JErnSY",
        "outputId": "90189064-71d7-43ee-fd9e-fe5aa3eeef57"
      },
      "source": [
        "X_test.shape, y_test.shape"
      ],
      "execution_count": null,
      "outputs": [
        {
          "output_type": "execute_result",
          "data": {
            "text/plain": [
              "((473880, 12, 1), (473880, 1))"
            ]
          },
          "metadata": {
            "tags": []
          },
          "execution_count": 67
        }
      ]
    },
    {
      "cell_type": "code",
      "metadata": {
        "colab": {
          "base_uri": "https://localhost:8080/"
        },
        "id": "Vo7So4PSsH3A",
        "outputId": "6da0d52f-53ed-4545-d47a-737c16733488"
      },
      "source": [
        "X_train[20],y_train[20]"
      ],
      "execution_count": null,
      "outputs": [
        {
          "output_type": "execute_result",
          "data": {
            "text/plain": [
              "(array([[5.713e-03],\n",
              "        [3.570e+02],\n",
              "        [0.000e+00],\n",
              "        [8.000e+00],\n",
              "        [1.500e+01],\n",
              "        [2.320e+02],\n",
              "        [1.270e+02],\n",
              "        [0.000e+00],\n",
              "        [0.000e+00],\n",
              "        [0.000e+00],\n",
              "        [0.000e+00],\n",
              "        [1.520e+02]]), array([1.]))"
            ]
          },
          "metadata": {
            "tags": []
          },
          "execution_count": 68
        }
      ]
    },
    {
      "cell_type": "markdown",
      "metadata": {
        "id": "gtA5RCTurBTn"
      },
      "source": [
        "### Vanilla LSTM Model"
      ]
    },
    {
      "cell_type": "code",
      "metadata": {
        "id": "xe8hCFKgF98z",
        "colab": {
          "base_uri": "https://localhost:8080/"
        },
        "outputId": "5f0aa05c-de46-4aea-9e55-b75898b5d690"
      },
      "source": [
        "rnnmodel = keras.models.Sequential([\n",
        "    keras.layers.LSTM(100,input_shape=[X_train.shape[1],1]),\n",
        "    keras.layers.Flatten(),\n",
        "    keras.layers.Dense(2, activation='relu')\n",
        "])\n",
        "rnnmodel.compile(optimizer='adam',\n",
        "              loss=tf.keras.losses.SparseCategoricalCrossentropy(),\n",
        "              metrics=['accuracy'])\n",
        "print(rnnmodel.summary())"
      ],
      "execution_count": null,
      "outputs": [
        {
          "output_type": "stream",
          "text": [
            "Model: \"sequential_2\"\n",
            "_________________________________________________________________\n",
            "Layer (type)                 Output Shape              Param #   \n",
            "=================================================================\n",
            "lstm_2 (LSTM)                (None, 100)               40800     \n",
            "_________________________________________________________________\n",
            "flatten_2 (Flatten)          (None, 100)               0         \n",
            "_________________________________________________________________\n",
            "dense_2 (Dense)              (None, 2)                 202       \n",
            "=================================================================\n",
            "Total params: 41,002\n",
            "Trainable params: 41,002\n",
            "Non-trainable params: 0\n",
            "_________________________________________________________________\n",
            "None\n"
          ],
          "name": "stdout"
        }
      ]
    },
    {
      "cell_type": "code",
      "metadata": {
        "colab": {
          "base_uri": "https://localhost:8080/",
          "height": 422
        },
        "id": "vnVryvOGY-5Y",
        "outputId": "75315510-c03c-4a9b-92a5-a10631708e29"
      },
      "source": [
        "tf.keras.utils.plot_model(rnnmodel,show_shapes=True)"
      ],
      "execution_count": null,
      "outputs": [
        {
          "output_type": "execute_result",
          "data": {
            "image/png": "[encoded data removed]",
            "text/plain": [
              "<IPython.core.display.Image object>"
            ]
          },
          "metadata": {
            "tags": []
          },
          "execution_count": 70
        }
      ]
    },
    {
      "cell_type": "code",
      "metadata": {
        "id": "gAeMoP02JlHp",
        "colab": {
          "base_uri": "https://localhost:8080/",
          "height": 387
        },
        "outputId": "1afc12da-06ba-4cac-8496-693e006eaf19"
      },
      "source": [
        "early_stop=keras.callbacks.EarlyStopping(monitor='val_loss',patience=10)\r\n",
        "\r\n",
        "rnnhistory = rnnmodel.fit(X_train,y_train,validation_data=(X_valid,y_valid),\r\n",
        "                          epochs=5,\r\n",
        "                          batch_size=1028,\r\n",
        "                          callbacks=[early_stop])"
      ],
      "execution_count": null,
      "outputs": [
        {
          "output_type": "stream",
          "text": [
            "Epoch 1/5\n",
            " 329/1614 [=====>........................] - ETA: 6s - loss: 0.0196 - accuracy: 0.9759"
          ],
          "name": "stdout"
        },
        {
          "output_type": "error",
          "ename": "KeyboardInterrupt",
          "evalue": "ignored",
          "traceback": [
            "\u001b[0;31m---------------------------------------------------------------------------\u001b[0m",
            "\u001b[0;31mKeyboardInterrupt\u001b[0m                         Traceback (most recent call last)",
            "\u001b[0;32m<ipython-input-71-9f69702cb809>\u001b[0m in \u001b[0;36m<module>\u001b[0;34m()\u001b[0m\n\u001b[1;32m      4\u001b[0m                           \u001b[0mepochs\u001b[0m\u001b[0;34m=\u001b[0m\u001b[0;36m5\u001b[0m\u001b[0;34m,\u001b[0m\u001b[0;34m\u001b[0m\u001b[0;34m\u001b[0m\u001b[0m\n\u001b[1;32m      5\u001b[0m                           \u001b[0mbatch_size\u001b[0m\u001b[0;34m=\u001b[0m\u001b[0;36m1028\u001b[0m\u001b[0;34m,\u001b[0m\u001b[0;34m\u001b[0m\u001b[0;34m\u001b[0m\u001b[0m\n\u001b[0;32m----> 6\u001b[0;31m                           callbacks=[early_stop])\n\u001b[0m",
            "\u001b[0;32m/usr/local/lib/python3.6/dist-packages/tensorflow/python/keras/engine/training.py\u001b[0m in \u001b[0;36m_method_wrapper\u001b[0;34m(self, *args, **kwargs)\u001b[0m\n\u001b[1;32m    106\u001b[0m   \u001b[0;32mdef\u001b[0m \u001b[0m_method_wrapper\u001b[0m\u001b[0;34m(\u001b[0m\u001b[0mself\u001b[0m\u001b[0;34m,\u001b[0m \u001b[0;34m*\u001b[0m\u001b[0margs\u001b[0m\u001b[0;34m,\u001b[0m \u001b[0;34m**\u001b[0m\u001b[0mkwargs\u001b[0m\u001b[0;34m)\u001b[0m\u001b[0;34m:\u001b[0m\u001b[0;34m\u001b[0m\u001b[0;34m\u001b[0m\u001b[0m\n\u001b[1;32m    107\u001b[0m     \u001b[0;32mif\u001b[0m \u001b[0;32mnot\u001b[0m \u001b[0mself\u001b[0m\u001b[0;34m.\u001b[0m\u001b[0m_in_multi_worker_mode\u001b[0m\u001b[0;34m(\u001b[0m\u001b[0;34m)\u001b[0m\u001b[0;34m:\u001b[0m  \u001b[0;31m# pylint: disable=protected-access\u001b[0m\u001b[0;34m\u001b[0m\u001b[0;34m\u001b[0m\u001b[0m\n\u001b[0;32m--> 108\u001b[0;31m       \u001b[0;32mreturn\u001b[0m \u001b[0mmethod\u001b[0m\u001b[0;34m(\u001b[0m\u001b[0mself\u001b[0m\u001b[0;34m,\u001b[0m \u001b[0;34m*\u001b[0m\u001b[0margs\u001b[0m\u001b[0;34m,\u001b[0m \u001b[0;34m**\u001b[0m\u001b[0mkwargs\u001b[0m\u001b[0;34m)\u001b[0m\u001b[0;34m\u001b[0m\u001b[0;34m\u001b[0m\u001b[0m\n\u001b[0m\u001b[1;32m    109\u001b[0m \u001b[0;34m\u001b[0m\u001b[0m\n\u001b[1;32m    110\u001b[0m     \u001b[0;31m# Running inside `run_distribute_coordinator` already.\u001b[0m\u001b[0;34m\u001b[0m\u001b[0;34m\u001b[0m\u001b[0;34m\u001b[0m\u001b[0m\n",
            "\u001b[0;32m/usr/local/lib/python3.6/dist-packages/tensorflow/python/keras/engine/training.py\u001b[0m in \u001b[0;36mfit\u001b[0;34m(self, x, y, batch_size, epochs, verbose, callbacks, validation_split, validation_data, shuffle, class_weight, sample_weight, initial_epoch, steps_per_epoch, validation_steps, validation_batch_size, validation_freq, max_queue_size, workers, use_multiprocessing)\u001b[0m\n\u001b[1;32m   1096\u001b[0m                 batch_size=batch_size):\n\u001b[1;32m   1097\u001b[0m               \u001b[0mcallbacks\u001b[0m\u001b[0;34m.\u001b[0m\u001b[0mon_train_batch_begin\u001b[0m\u001b[0;34m(\u001b[0m\u001b[0mstep\u001b[0m\u001b[0;34m)\u001b[0m\u001b[0;34m\u001b[0m\u001b[0;34m\u001b[0m\u001b[0m\n\u001b[0;32m-> 1098\u001b[0;31m               \u001b[0mtmp_logs\u001b[0m \u001b[0;34m=\u001b[0m \u001b[0mtrain_function\u001b[0m\u001b[0;34m(\u001b[0m\u001b[0miterator\u001b[0m\u001b[0;34m)\u001b[0m\u001b[0;34m\u001b[0m\u001b[0;34m\u001b[0m\u001b[0m\n\u001b[0m\u001b[1;32m   1099\u001b[0m               \u001b[0;32mif\u001b[0m \u001b[0mdata_handler\u001b[0m\u001b[0;34m.\u001b[0m\u001b[0mshould_sync\u001b[0m\u001b[0;34m:\u001b[0m\u001b[0;34m\u001b[0m\u001b[0;34m\u001b[0m\u001b[0m\n\u001b[1;32m   1100\u001b[0m                 \u001b[0mcontext\u001b[0m\u001b[0;34m.\u001b[0m\u001b[0masync_wait\u001b[0m\u001b[0;34m(\u001b[0m\u001b[0;34m)\u001b[0m\u001b[0;34m\u001b[0m\u001b[0;34m\u001b[0m\u001b[0m\n",
            "\u001b[0;32m/usr/local/lib/python3.6/dist-packages/tensorflow/python/eager/def_function.py\u001b[0m in \u001b[0;36m__call__\u001b[0;34m(self, *args, **kwds)\u001b[0m\n\u001b[1;32m    778\u001b[0m       \u001b[0;32melse\u001b[0m\u001b[0;34m:\u001b[0m\u001b[0;34m\u001b[0m\u001b[0;34m\u001b[0m\u001b[0m\n\u001b[1;32m    779\u001b[0m         \u001b[0mcompiler\u001b[0m \u001b[0;34m=\u001b[0m \u001b[0;34m\"nonXla\"\u001b[0m\u001b[0;34m\u001b[0m\u001b[0;34m\u001b[0m\u001b[0m\n\u001b[0;32m--> 780\u001b[0;31m         \u001b[0mresult\u001b[0m \u001b[0;34m=\u001b[0m \u001b[0mself\u001b[0m\u001b[0;34m.\u001b[0m\u001b[0m_call\u001b[0m\u001b[0;34m(\u001b[0m\u001b[0;34m*\u001b[0m\u001b[0margs\u001b[0m\u001b[0;34m,\u001b[0m \u001b[0;34m**\u001b[0m\u001b[0mkwds\u001b[0m\u001b[0;34m)\u001b[0m\u001b[0;34m\u001b[0m\u001b[0;34m\u001b[0m\u001b[0m\n\u001b[0m\u001b[1;32m    781\u001b[0m \u001b[0;34m\u001b[0m\u001b[0m\n\u001b[1;32m    782\u001b[0m       \u001b[0mnew_tracing_count\u001b[0m \u001b[0;34m=\u001b[0m \u001b[0mself\u001b[0m\u001b[0;34m.\u001b[0m\u001b[0m_get_tracing_count\u001b[0m\u001b[0;34m(\u001b[0m\u001b[0;34m)\u001b[0m\u001b[0;34m\u001b[0m\u001b[0;34m\u001b[0m\u001b[0m\n",
            "\u001b[0;32m/usr/local/lib/python3.6/dist-packages/tensorflow/python/eager/def_function.py\u001b[0m in \u001b[0;36m_call\u001b[0;34m(self, *args, **kwds)\u001b[0m\n\u001b[1;32m    805\u001b[0m       \u001b[0;31m# In this case we have created variables on the first call, so we run the\u001b[0m\u001b[0;34m\u001b[0m\u001b[0;34m\u001b[0m\u001b[0;34m\u001b[0m\u001b[0m\n\u001b[1;32m    806\u001b[0m       \u001b[0;31m# defunned version which is guaranteed to never create variables.\u001b[0m\u001b[0;34m\u001b[0m\u001b[0;34m\u001b[0m\u001b[0;34m\u001b[0m\u001b[0m\n\u001b[0;32m--> 807\u001b[0;31m       \u001b[0;32mreturn\u001b[0m \u001b[0mself\u001b[0m\u001b[0;34m.\u001b[0m\u001b[0m_stateless_fn\u001b[0m\u001b[0;34m(\u001b[0m\u001b[0;34m*\u001b[0m\u001b[0margs\u001b[0m\u001b[0;34m,\u001b[0m \u001b[0;34m**\u001b[0m\u001b[0mkwds\u001b[0m\u001b[0;34m)\u001b[0m  \u001b[0;31m# pylint: disable=not-callable\u001b[0m\u001b[0;34m\u001b[0m\u001b[0;34m\u001b[0m\u001b[0m\n\u001b[0m\u001b[1;32m    808\u001b[0m     \u001b[0;32melif\u001b[0m \u001b[0mself\u001b[0m\u001b[0;34m.\u001b[0m\u001b[0m_stateful_fn\u001b[0m \u001b[0;32mis\u001b[0m \u001b[0;32mnot\u001b[0m \u001b[0;32mNone\u001b[0m\u001b[0;34m:\u001b[0m\u001b[0;34m\u001b[0m\u001b[0;34m\u001b[0m\u001b[0m\n\u001b[1;32m    809\u001b[0m       \u001b[0;31m# Release the lock early so that multiple threads can perform the call\u001b[0m\u001b[0;34m\u001b[0m\u001b[0;34m\u001b[0m\u001b[0;34m\u001b[0m\u001b[0m\n",
            "\u001b[0;32m/usr/local/lib/python3.6/dist-packages/tensorflow/python/eager/function.py\u001b[0m in \u001b[0;36m__call__\u001b[0;34m(self, *args, **kwargs)\u001b[0m\n\u001b[1;32m   2827\u001b[0m     \u001b[0;32mwith\u001b[0m \u001b[0mself\u001b[0m\u001b[0;34m.\u001b[0m\u001b[0m_lock\u001b[0m\u001b[0;34m:\u001b[0m\u001b[0;34m\u001b[0m\u001b[0;34m\u001b[0m\u001b[0m\n\u001b[1;32m   2828\u001b[0m       \u001b[0mgraph_function\u001b[0m\u001b[0;34m,\u001b[0m \u001b[0margs\u001b[0m\u001b[0;34m,\u001b[0m \u001b[0mkwargs\u001b[0m \u001b[0;34m=\u001b[0m \u001b[0mself\u001b[0m\u001b[0;34m.\u001b[0m\u001b[0m_maybe_define_function\u001b[0m\u001b[0;34m(\u001b[0m\u001b[0margs\u001b[0m\u001b[0;34m,\u001b[0m \u001b[0mkwargs\u001b[0m\u001b[0;34m)\u001b[0m\u001b[0;34m\u001b[0m\u001b[0;34m\u001b[0m\u001b[0m\n\u001b[0;32m-> 2829\u001b[0;31m     \u001b[0;32mreturn\u001b[0m \u001b[0mgraph_function\u001b[0m\u001b[0;34m.\u001b[0m\u001b[0m_filtered_call\u001b[0m\u001b[0;34m(\u001b[0m\u001b[0margs\u001b[0m\u001b[0;34m,\u001b[0m \u001b[0mkwargs\u001b[0m\u001b[0;34m)\u001b[0m  \u001b[0;31m# pylint: disable=protected-access\u001b[0m\u001b[0;34m\u001b[0m\u001b[0;34m\u001b[0m\u001b[0m\n\u001b[0m\u001b[1;32m   2830\u001b[0m \u001b[0;34m\u001b[0m\u001b[0m\n\u001b[1;32m   2831\u001b[0m   \u001b[0;34m@\u001b[0m\u001b[0mproperty\u001b[0m\u001b[0;34m\u001b[0m\u001b[0;34m\u001b[0m\u001b[0m\n",
            "\u001b[0;32m/usr/local/lib/python3.6/dist-packages/tensorflow/python/eager/function.py\u001b[0m in \u001b[0;36m_filtered_call\u001b[0;34m(self, args, kwargs, cancellation_manager)\u001b[0m\n\u001b[1;32m   1846\u001b[0m                            resource_variable_ops.BaseResourceVariable))],\n\u001b[1;32m   1847\u001b[0m         \u001b[0mcaptured_inputs\u001b[0m\u001b[0;34m=\u001b[0m\u001b[0mself\u001b[0m\u001b[0;34m.\u001b[0m\u001b[0mcaptured_inputs\u001b[0m\u001b[0;34m,\u001b[0m\u001b[0;34m\u001b[0m\u001b[0;34m\u001b[0m\u001b[0m\n\u001b[0;32m-> 1848\u001b[0;31m         cancellation_manager=cancellation_manager)\n\u001b[0m\u001b[1;32m   1849\u001b[0m \u001b[0;34m\u001b[0m\u001b[0m\n\u001b[1;32m   1850\u001b[0m   \u001b[0;32mdef\u001b[0m \u001b[0m_call_flat\u001b[0m\u001b[0;34m(\u001b[0m\u001b[0mself\u001b[0m\u001b[0;34m,\u001b[0m \u001b[0margs\u001b[0m\u001b[0;34m,\u001b[0m \u001b[0mcaptured_inputs\u001b[0m\u001b[0;34m,\u001b[0m \u001b[0mcancellation_manager\u001b[0m\u001b[0;34m=\u001b[0m\u001b[0;32mNone\u001b[0m\u001b[0;34m)\u001b[0m\u001b[0;34m:\u001b[0m\u001b[0;34m\u001b[0m\u001b[0;34m\u001b[0m\u001b[0m\n",
            "\u001b[0;32m/usr/local/lib/python3.6/dist-packages/tensorflow/python/eager/function.py\u001b[0m in \u001b[0;36m_call_flat\u001b[0;34m(self, args, captured_inputs, cancellation_manager)\u001b[0m\n\u001b[1;32m   1922\u001b[0m       \u001b[0;31m# No tape is watching; skip to running the function.\u001b[0m\u001b[0;34m\u001b[0m\u001b[0;34m\u001b[0m\u001b[0;34m\u001b[0m\u001b[0m\n\u001b[1;32m   1923\u001b[0m       return self._build_call_outputs(self._inference_function.call(\n\u001b[0;32m-> 1924\u001b[0;31m           ctx, args, cancellation_manager=cancellation_manager))\n\u001b[0m\u001b[1;32m   1925\u001b[0m     forward_backward = self._select_forward_and_backward_functions(\n\u001b[1;32m   1926\u001b[0m         \u001b[0margs\u001b[0m\u001b[0;34m,\u001b[0m\u001b[0;34m\u001b[0m\u001b[0;34m\u001b[0m\u001b[0m\n",
            "\u001b[0;32m/usr/local/lib/python3.6/dist-packages/tensorflow/python/eager/function.py\u001b[0m in \u001b[0;36mcall\u001b[0;34m(self, ctx, args, cancellation_manager)\u001b[0m\n\u001b[1;32m    548\u001b[0m               \u001b[0minputs\u001b[0m\u001b[0;34m=\u001b[0m\u001b[0margs\u001b[0m\u001b[0;34m,\u001b[0m\u001b[0;34m\u001b[0m\u001b[0;34m\u001b[0m\u001b[0m\n\u001b[1;32m    549\u001b[0m               \u001b[0mattrs\u001b[0m\u001b[0;34m=\u001b[0m\u001b[0mattrs\u001b[0m\u001b[0;34m,\u001b[0m\u001b[0;34m\u001b[0m\u001b[0;34m\u001b[0m\u001b[0m\n\u001b[0;32m--> 550\u001b[0;31m               ctx=ctx)\n\u001b[0m\u001b[1;32m    551\u001b[0m         \u001b[0;32melse\u001b[0m\u001b[0;34m:\u001b[0m\u001b[0;34m\u001b[0m\u001b[0;34m\u001b[0m\u001b[0m\n\u001b[1;32m    552\u001b[0m           outputs = execute.execute_with_cancellation(\n",
            "\u001b[0;32m/usr/local/lib/python3.6/dist-packages/tensorflow/python/eager/execute.py\u001b[0m in \u001b[0;36mquick_execute\u001b[0;34m(op_name, num_outputs, inputs, attrs, ctx, name)\u001b[0m\n\u001b[1;32m     58\u001b[0m     \u001b[0mctx\u001b[0m\u001b[0;34m.\u001b[0m\u001b[0mensure_initialized\u001b[0m\u001b[0;34m(\u001b[0m\u001b[0;34m)\u001b[0m\u001b[0;34m\u001b[0m\u001b[0;34m\u001b[0m\u001b[0m\n\u001b[1;32m     59\u001b[0m     tensors = pywrap_tfe.TFE_Py_Execute(ctx._handle, device_name, op_name,\n\u001b[0;32m---> 60\u001b[0;31m                                         inputs, attrs, num_outputs)\n\u001b[0m\u001b[1;32m     61\u001b[0m   \u001b[0;32mexcept\u001b[0m \u001b[0mcore\u001b[0m\u001b[0;34m.\u001b[0m\u001b[0m_NotOkStatusException\u001b[0m \u001b[0;32mas\u001b[0m \u001b[0me\u001b[0m\u001b[0;34m:\u001b[0m\u001b[0;34m\u001b[0m\u001b[0;34m\u001b[0m\u001b[0m\n\u001b[1;32m     62\u001b[0m     \u001b[0;32mif\u001b[0m \u001b[0mname\u001b[0m \u001b[0;32mis\u001b[0m \u001b[0;32mnot\u001b[0m \u001b[0;32mNone\u001b[0m\u001b[0;34m:\u001b[0m\u001b[0;34m\u001b[0m\u001b[0;34m\u001b[0m\u001b[0m\n",
            "\u001b[0;31mKeyboardInterrupt\u001b[0m: "
          ]
        }
      ]
    },
    {
      "cell_type": "markdown",
      "metadata": {
        "id": "DFzAWjSkrF30"
      },
      "source": [
        "### Evaluation and plotting\r\n"
      ]
    },
    {
      "cell_type": "code",
      "metadata": {
        "id": "gX6XWvv4KbiU",
        "colab": {
          "base_uri": "https://localhost:8080/"
        },
        "outputId": "a53c61fd-f4a9-40e8-8034-df7aa898dd0b"
      },
      "source": [
        "scores = rnnmodel.evaluate(X_test,y_test)\n",
        "print(f\"Accuracy: {scores[1]}\")"
      ],
      "execution_count": null,
      "outputs": [
        {
          "output_type": "stream",
          "text": [
            "14809/14809 [==============================] - 35s 2ms/step - loss: 1.1921e-07 - accuracy: 1.0000\n",
            "Accuracy: 1.0\n"
          ],
          "name": "stdout"
        }
      ]
    },
    {
      "cell_type": "code",
      "metadata": {
        "id": "I-dz0b9mN3rd",
        "colab": {
          "base_uri": "https://localhost:8080/",
          "height": 336
        },
        "outputId": "de87ee6c-e2d3-4e50-b516-bb330cfab280"
      },
      "source": [
        "plt.subplot(1,2,1)\n",
        "plt.plot(rnnhistory.history[\"loss\"])\n",
        "plt.plot(rnnhistory.history[\"val_loss\"])\n",
        "plt.legend(('loss','val_loss'))\n",
        "plt.subplot(1,2,2)\n",
        "plt.plot(rnnhistory.history[\"accuracy\"])\n",
        "plt.plot(rnnhistory.history[\"val_accuracy\"])\n",
        "plt.legend(('acc','val_acc'))\n",
        "\n",
        "plt.gcf().set_size_inches((10,5))\n",
        "plt.show()"
      ],
      "execution_count": null,
      "outputs": [
        {
          "output_type": "display_data",
          "data": {
            "image/png": "[encoded data removed]",
            "text/plain": [
              "<Figure size 720x360 with 2 Axes>"
            ]
          },
          "metadata": {
            "tags": [],
            "needs_background": "light"
          }
        }
      ]
    },
    {
      "cell_type": "code",
      "metadata": {
        "id": "5kGktS-TDagM"
      },
      "source": [
        "y_pred = rnnmodel.predict(X_test)"
      ],
      "execution_count": null,
      "outputs": []
    },
    {
      "cell_type": "code",
      "metadata": {
        "colab": {
          "base_uri": "https://localhost:8080/"
        },
        "id": "pCJ9CsNzztQu",
        "outputId": "d2aaf2ca-c6a9-442f-9a4e-24bd8bf93bfb"
      },
      "source": [
        "X_test[30],y_test[30], np.argmax(y_pred[30])"
      ],
      "execution_count": null,
      "outputs": [
        {
          "output_type": "execute_result",
          "data": {
            "text/plain": [
              "(array([[830.082247],\n",
              "        [129.      ],\n",
              "        [  0.      ],\n",
              "        [  8.      ],\n",
              "        [127.      ],\n",
              "        [132.      ],\n",
              "        [109.      ],\n",
              "        [  0.      ],\n",
              "        [  0.      ],\n",
              "        [  0.      ],\n",
              "        [  0.      ],\n",
              "        [131.      ]]), array([1.]), 1)"
            ]
          },
          "metadata": {
            "tags": []
          },
          "execution_count": 28
        }
      ]
    },
    {
      "cell_type": "markdown",
      "metadata": {
        "id": "W3GQjdkNqwOI"
      },
      "source": [
        "### Saving and Checking the size of the Model"
      ]
    },
    {
      "cell_type": "code",
      "metadata": {
        "id": "goQpm6R7jVAb",
        "colab": {
          "base_uri": "https://localhost:8080/"
        },
        "outputId": "6c1b0bf0-f51c-457f-8d19-bfb4adf0b22d"
      },
      "source": [
        "saved_model_dir = '/content/drive/MyDrive/Colab Notebooks/CS581/project-data/'\r\n",
        "rnnmodel.save(saved_model_dir + \"lstm-attackfree.h5\",include_optimizer=False)\r\n",
        "print(f\"Saving Model to: {saved_model_dir}lstm-attackfree.h5\")"
      ],
      "execution_count": null,
      "outputs": [
        {
          "output_type": "stream",
          "text": [
            "Saving Model to: /content/drive/MyDrive/Colab Notebooks/CS581/project-data/lstm-attackfree.h5\n"
          ],
          "name": "stdout"
        }
      ]
    },
    {
      "cell_type": "code",
      "metadata": {
        "colab": {
          "base_uri": "https://localhost:8080/"
        },
        "id": "LlKmug6yphtL",
        "outputId": "0f65fcd0-b238-43aa-9246-b48fb639038e"
      },
      "source": [
        "print(f'Size of the model without compression: {os.path.getsize(saved_model_dir + \"lstm-attackfree.h5\")/float(2**20)} Mb')"
      ],
      "execution_count": null,
      "outputs": [
        {
          "output_type": "stream",
          "text": [
            "Size of the model without compression: 0.1733551025390625 Mb\n"
          ],
          "name": "stdout"
        }
      ]
    },
    {
      "cell_type": "markdown",
      "metadata": {
        "id": "izBfb_mye-GF"
      },
      "source": [
        "## Single Class LSTM Model\r\n",
        "\r\n",
        "This is a trivial experiment being conducted on the attack-free state network dataset. Again, All the labels in this dataset are set to 1 and the model that's trained on this data is saved and later we try to load it to as a pretrained model to test on DoS data."
      ]
    },
    {
      "cell_type": "code",
      "metadata": {
        "colab": {
          "base_uri": "https://localhost:8080/"
        },
        "id": "4IQJM237rsd2",
        "outputId": "3cdc2d1d-ad82-4f01-a45a-ff136d984daf"
      },
      "source": [
        "X_train.shape, y_train.shape"
      ],
      "execution_count": null,
      "outputs": [
        {
          "output_type": "execute_result",
          "data": {
            "text/plain": [
              "((1658578, 12, 1), (1658578, 1))"
            ]
          },
          "metadata": {
            "tags": []
          },
          "execution_count": 61
        }
      ]
    },
    {
      "cell_type": "code",
      "metadata": {
        "colab": {
          "base_uri": "https://localhost:8080/"
        },
        "id": "CNyQaLVGrsd2",
        "outputId": "a95e2da9-5ccb-4e3c-b7a0-4b11862979de"
      },
      "source": [
        "X_valid.shape,y_valid.shape"
      ],
      "execution_count": null,
      "outputs": [
        {
          "output_type": "execute_result",
          "data": {
            "text/plain": [
              "((236940, 12, 1), (236940, 1))"
            ]
          },
          "metadata": {
            "tags": []
          },
          "execution_count": 32
        }
      ]
    },
    {
      "cell_type": "code",
      "metadata": {
        "colab": {
          "base_uri": "https://localhost:8080/"
        },
        "id": "lKXHp82mrsd3",
        "outputId": "87505514-c2e4-4129-c7a9-d98908fa0e7a"
      },
      "source": [
        "X_test.shape, y_test.shape"
      ],
      "execution_count": null,
      "outputs": [
        {
          "output_type": "execute_result",
          "data": {
            "text/plain": [
              "((473880, 12, 1), (473880, 1))"
            ]
          },
          "metadata": {
            "tags": []
          },
          "execution_count": 33
        }
      ]
    },
    {
      "cell_type": "markdown",
      "metadata": {
        "id": "VLly0dN5vDJF"
      },
      "source": [
        "### Modifying the vanilla LSTM"
      ]
    },
    {
      "cell_type": "code",
      "metadata": {
        "colab": {
          "base_uri": "https://localhost:8080/"
        },
        "id": "fzCKi9AcfC9R",
        "outputId": "38feda5e-4dc8-4db3-a580-3afc513dbd97"
      },
      "source": [
        "rnnmodel_singleclass = keras.models.Sequential([\n",
        "    keras.layers.LSTM(100,input_shape=[X_train.shape[1],1]),\n",
        "    keras.layers.Flatten(),\n",
        "    keras.layers.Dense(1, activation='sigmoid')\n",
        "])\n",
        "rnnmodel_singleclass.compile(optimizer='adam',\n",
        "              loss=tf.keras.losses.BinaryCrossentropy(),\n",
        "              metrics=['accuracy'])\n",
        "print(rnnmodel_singleclass.summary())"
      ],
      "execution_count": null,
      "outputs": [
        {
          "output_type": "stream",
          "text": [
            "Model: \"sequential_1\"\n",
            "_________________________________________________________________\n",
            "Layer (type)                 Output Shape              Param #   \n",
            "=================================================================\n",
            "lstm_1 (LSTM)                (None, 100)               40800     \n",
            "_________________________________________________________________\n",
            "flatten_1 (Flatten)          (None, 100)               0         \n",
            "_________________________________________________________________\n",
            "dense_1 (Dense)              (None, 1)                 101       \n",
            "=================================================================\n",
            "Total params: 40,901\n",
            "Trainable params: 40,901\n",
            "Non-trainable params: 0\n",
            "_________________________________________________________________\n",
            "None\n"
          ],
          "name": "stdout"
        }
      ]
    },
    {
      "cell_type": "code",
      "metadata": {
        "colab": {
          "base_uri": "https://localhost:8080/",
          "height": 422
        },
        "id": "Z9Z2vrXMY7nK",
        "outputId": "8ea832c9-2098-4c1c-8122-01bf2e595f4a"
      },
      "source": [
        "tf.keras.utils.plot_model(rnnmodel_singleclass,show_shapes=True)"
      ],
      "execution_count": null,
      "outputs": [
        {
          "output_type": "execute_result",
          "data": {
            "image/png": "[encoded data removed]",
            "text/plain": [
              "<IPython.core.display.Image object>"
            ]
          },
          "metadata": {
            "tags": []
          },
          "execution_count": 35
        }
      ]
    },
    {
      "cell_type": "code",
      "metadata": {
        "colab": {
          "base_uri": "https://localhost:8080/"
        },
        "id": "SeBb2ZyxfC9S",
        "outputId": "cae09e5a-b03e-42d3-c7d5-1ec84b86ae6d"
      },
      "source": [
        "early_stop=keras.callbacks.EarlyStopping(monitor='val_loss',patience=10)\r\n",
        "rnnhistory_singleClass = rnnmodel_singleclass.fit(X_train,y_train,\r\n",
        "                                                  validation_data=(X_valid,y_valid),\r\n",
        "                                                  epochs=3,\r\n",
        "                                                  batch_size=1028,\r\n",
        "                                                  callbacks=[early_stop]\r\n",
        "                                                  )"
      ],
      "execution_count": null,
      "outputs": [
        {
          "output_type": "stream",
          "text": [
            "Epoch 1/3\n",
            "1614/1614 [==============================] - 8s 5ms/step - loss: 2.7672e-05 - accuracy: 1.0000 - val_loss: 7.9138e-06 - val_accuracy: 1.0000\n",
            "Epoch 2/3\n",
            "1614/1614 [==============================] - 8s 5ms/step - loss: 4.4195e-06 - accuracy: 1.0000 - val_loss: 2.1733e-06 - val_accuracy: 1.0000\n",
            "Epoch 3/3\n",
            "1614/1614 [==============================] - 8s 5ms/step - loss: 1.4402e-06 - accuracy: 1.0000 - val_loss: 8.8973e-07 - val_accuracy: 1.0000\n"
          ],
          "name": "stdout"
        }
      ]
    },
    {
      "cell_type": "markdown",
      "metadata": {
        "id": "lVS1aaTZunej"
      },
      "source": [
        "### Evaluation and plotting"
      ]
    },
    {
      "cell_type": "code",
      "metadata": {
        "colab": {
          "base_uri": "https://localhost:8080/"
        },
        "id": "7LqWD1fRfC9S",
        "outputId": "617b8e88-4677-474f-df96-fe44882076d4"
      },
      "source": [
        "scores = rnnmodel_singleclass.evaluate(X_test,y_test)\n",
        "print(f\"Accuracy: {scores[1]}\")"
      ],
      "execution_count": null,
      "outputs": [
        {
          "output_type": "stream",
          "text": [
            "14809/14809 [==============================] - 34s 2ms/step - loss: 9.0769e-07 - accuracy: 1.0000\n",
            "Accuracy: 1.0\n"
          ],
          "name": "stdout"
        }
      ]
    },
    {
      "cell_type": "code",
      "metadata": {
        "colab": {
          "base_uri": "https://localhost:8080/",
          "height": 336
        },
        "id": "YlK04g-JfC9S",
        "outputId": "98ec7402-4556-499a-e027-de424c9ad974"
      },
      "source": [
        "plt.subplot(1,2,1)\n",
        "plt.plot(rnnhistory_singleClass.history[\"loss\"])\n",
        "plt.plot(rnnhistory_singleClass.history[\"val_loss\"])\n",
        "plt.legend(('loss','val_loss'))\n",
        "plt.subplot(1,2,2)\n",
        "plt.plot(rnnhistory_singleClass.history[\"accuracy\"])\n",
        "plt.plot(rnnhistory_singleClass.history[\"val_accuracy\"])\n",
        "plt.legend(('acc','val_acc'))\n",
        "\n",
        "\n",
        "plt.gcf().set_size_inches((10,5))\n",
        "plt.show()"
      ],
      "execution_count": null,
      "outputs": [
        {
          "output_type": "display_data",
          "data": {
            "image/png": "[encoded data removed]",
            "text/plain": [
              "<Figure size 720x360 with 2 Axes>"
            ]
          },
          "metadata": {
            "tags": [],
            "needs_background": "light"
          }
        }
      ]
    },
    {
      "cell_type": "code",
      "metadata": {
        "id": "w_WwUiD4fC9S"
      },
      "source": [
        "y_pred = rnnmodel_singleclass.predict(X_test)\n",
        "# plot_series(X_test[15, :, 0], y_test[15, 0], y_pred[15, 0])\n",
        "# plt.show()"
      ],
      "execution_count": null,
      "outputs": []
    },
    {
      "cell_type": "code",
      "metadata": {
        "colab": {
          "base_uri": "https://localhost:8080/"
        },
        "id": "quL7esete__w",
        "outputId": "00cc5da2-9238-44c2-e5da-7b55760f2d45"
      },
      "source": [
        "y_pred"
      ],
      "execution_count": null,
      "outputs": [
        {
          "output_type": "execute_result",
          "data": {
            "text/plain": [
              "array([[0.99999833],\n",
              "       [0.9999994 ],\n",
              "       [0.99999964],\n",
              "       ...,\n",
              "       [0.99999964],\n",
              "       [0.99999964],\n",
              "       [0.99999964]], dtype=float32)"
            ]
          },
          "metadata": {
            "tags": []
          },
          "execution_count": 59
        }
      ]
    },
    {
      "cell_type": "code",
      "metadata": {
        "colab": {
          "base_uri": "https://localhost:8080/"
        },
        "id": "4ZgqL4qXq3M-",
        "outputId": "280c2090-02cb-469f-f6c2-270dc5a29bdf"
      },
      "source": [
        "y_test"
      ],
      "execution_count": null,
      "outputs": [
        {
          "output_type": "execute_result",
          "data": {
            "text/plain": [
              "array([[1.],\n",
              "       [1.],\n",
              "       [1.],\n",
              "       ...,\n",
              "       [1.],\n",
              "       [1.],\n",
              "       [1.]])"
            ]
          },
          "metadata": {
            "tags": []
          },
          "execution_count": 60
        }
      ]
    },
    {
      "cell_type": "markdown",
      "metadata": {
        "id": "o21ORst6uw1h"
      },
      "source": [
        "### Saving and Checking the size of the Model"
      ]
    },
    {
      "cell_type": "code",
      "metadata": {
        "colab": {
          "base_uri": "https://localhost:8080/"
        },
        "id": "8c7g01wXuw1o",
        "outputId": "84c1caef-407c-479a-a1bf-8dc6f6ef9ccd"
      },
      "source": [
        "saved_model_dir = '/content/drive/MyDrive/Colab Notebooks/CS581/project-data/'\r\n",
        "rnnmodel_singleclass.save(saved_model_dir  + 'lstm-attackfree-singleclass.h5',include_optimizer=False)\r\n",
        "print(f\"Saving Model to: {saved_model_dir}lstm-attackfree-singleclass.h5\")"
      ],
      "execution_count": null,
      "outputs": [
        {
          "output_type": "stream",
          "text": [
            "Saving Model to: /content/drive/MyDrive/Colab Notebooks/CS581/project-data/lstm-attackfree-singleclass.h5\n"
          ],
          "name": "stdout"
        }
      ]
    },
    {
      "cell_type": "code",
      "metadata": {
        "colab": {
          "base_uri": "https://localhost:8080/"
        },
        "id": "o-nrW3Vhuw1o",
        "outputId": "3c716706-ac22-4f6e-f076-cebb6d73da56"
      },
      "source": [
        "print(f'Size of the model without compression: {os.path.getsize(saved_model_dir + \"lstm-attackfree-singleclass.h5\")/float(2**20)} Mb')"
      ],
      "execution_count": null,
      "outputs": [
        {
          "output_type": "stream",
          "text": [
            "Size of the model without compression: 0.17166900634765625 Mb\n"
          ],
          "name": "stdout"
        }
      ]
    },
    {
      "cell_type": "code",
      "metadata": {
        "colab": {
          "base_uri": "https://localhost:8080/",
          "height": 402
        },
        "id": "Z3VQlnz2iyIH",
        "outputId": "6e3b0366-8b6d-4730-8c7d-c50a7dd41186"
      },
      "source": [
        "df = pd.read_csv('/content/drive/My Drive/Colab Notebooks/CS581/project-data/Attack_free_dataset.csv')\r\n",
        "df"
      ],
      "execution_count": null,
      "outputs": [
        {
          "output_type": "execute_result",
          "data": {
            "text/html": [
              "<div>\n",
              "<style scoped>\n",
              "    .dataframe tbody tr th:only-of-type {\n",
              "        vertical-align: middle;\n",
              "    }\n",
              "\n",
              "    .dataframe tbody tr th {\n",
              "        vertical-align: top;\n",
              "    }\n",
              "\n",
              "    .dataframe thead th {\n",
              "        text-align: right;\n",
              "    }\n",
              "</style>\n",
              "<table border=\"1\" class=\"dataframe\">\n",
              "  <thead>\n",
              "    <tr style=\"text-align: right;\">\n",
              "      <th></th>\n",
              "      <th>Timestamp</th>\n",
              "      <th>CAN ID</th>\n",
              "      <th>RTR</th>\n",
              "      <th>DLC</th>\n",
              "      <th>Data1</th>\n",
              "      <th>Data2</th>\n",
              "      <th>Data3</th>\n",
              "      <th>Data4</th>\n",
              "      <th>Data5</th>\n",
              "      <th>Data6</th>\n",
              "      <th>Data7</th>\n",
              "      <th>Data8</th>\n",
              "    </tr>\n",
              "  </thead>\n",
              "  <tbody>\n",
              "    <tr>\n",
              "      <th>0</th>\n",
              "      <td>0.000000</td>\n",
              "      <td>790</td>\n",
              "      <td>0</td>\n",
              "      <td>8</td>\n",
              "      <td>5</td>\n",
              "      <td>32</td>\n",
              "      <td>234</td>\n",
              "      <td>10</td>\n",
              "      <td>32</td>\n",
              "      <td>26</td>\n",
              "      <td>0</td>\n",
              "      <td>127</td>\n",
              "    </tr>\n",
              "    <tr>\n",
              "      <th>1</th>\n",
              "      <td>0.000224</td>\n",
              "      <td>809</td>\n",
              "      <td>0</td>\n",
              "      <td>8</td>\n",
              "      <td>215</td>\n",
              "      <td>167</td>\n",
              "      <td>127</td>\n",
              "      <td>140</td>\n",
              "      <td>17</td>\n",
              "      <td>47</td>\n",
              "      <td>0</td>\n",
              "      <td>16</td>\n",
              "    </tr>\n",
              "    <tr>\n",
              "      <th>2</th>\n",
              "      <td>0.000462</td>\n",
              "      <td>128</td>\n",
              "      <td>0</td>\n",
              "      <td>8</td>\n",
              "      <td>0</td>\n",
              "      <td>23</td>\n",
              "      <td>234</td>\n",
              "      <td>10</td>\n",
              "      <td>32</td>\n",
              "      <td>26</td>\n",
              "      <td>32</td>\n",
              "      <td>67</td>\n",
              "    </tr>\n",
              "    <tr>\n",
              "      <th>3</th>\n",
              "      <td>0.000704</td>\n",
              "      <td>129</td>\n",
              "      <td>0</td>\n",
              "      <td>8</td>\n",
              "      <td>127</td>\n",
              "      <td>132</td>\n",
              "      <td>96</td>\n",
              "      <td>0</td>\n",
              "      <td>0</td>\n",
              "      <td>0</td>\n",
              "      <td>0</td>\n",
              "      <td>83</td>\n",
              "    </tr>\n",
              "    <tr>\n",
              "      <th>4</th>\n",
              "      <td>0.000878</td>\n",
              "      <td>288</td>\n",
              "      <td>0</td>\n",
              "      <td>4</td>\n",
              "      <td>0</td>\n",
              "      <td>0</td>\n",
              "      <td>0</td>\n",
              "      <td>0</td>\n",
              "      <td>0</td>\n",
              "      <td>0</td>\n",
              "      <td>0</td>\n",
              "      <td>0</td>\n",
              "    </tr>\n",
              "    <tr>\n",
              "      <th>...</th>\n",
              "      <td>...</td>\n",
              "      <td>...</td>\n",
              "      <td>...</td>\n",
              "      <td>...</td>\n",
              "      <td>...</td>\n",
              "      <td>...</td>\n",
              "      <td>...</td>\n",
              "      <td>...</td>\n",
              "      <td>...</td>\n",
              "      <td>...</td>\n",
              "      <td>...</td>\n",
              "      <td>...</td>\n",
              "    </tr>\n",
              "    <tr>\n",
              "      <th>2369393</th>\n",
              "      <td>1037.589395</td>\n",
              "      <td>68</td>\n",
              "      <td>0</td>\n",
              "      <td>8</td>\n",
              "      <td>0</td>\n",
              "      <td>0</td>\n",
              "      <td>0</td>\n",
              "      <td>255</td>\n",
              "      <td>111</td>\n",
              "      <td>0</td>\n",
              "      <td>0</td>\n",
              "      <td>0</td>\n",
              "    </tr>\n",
              "    <tr>\n",
              "      <th>2369394</th>\n",
              "      <td>1037.589628</td>\n",
              "      <td>357</td>\n",
              "      <td>0</td>\n",
              "      <td>8</td>\n",
              "      <td>17</td>\n",
              "      <td>232</td>\n",
              "      <td>127</td>\n",
              "      <td>0</td>\n",
              "      <td>0</td>\n",
              "      <td>0</td>\n",
              "      <td>12</td>\n",
              "      <td>138</td>\n",
              "    </tr>\n",
              "    <tr>\n",
              "      <th>2369395</th>\n",
              "      <td>1037.589812</td>\n",
              "      <td>688</td>\n",
              "      <td>0</td>\n",
              "      <td>5</td>\n",
              "      <td>35</td>\n",
              "      <td>0</td>\n",
              "      <td>0</td>\n",
              "      <td>7</td>\n",
              "      <td>172</td>\n",
              "      <td>0</td>\n",
              "      <td>0</td>\n",
              "      <td>0</td>\n",
              "    </tr>\n",
              "    <tr>\n",
              "      <th>2369396</th>\n",
              "      <td>1037.590065</td>\n",
              "      <td>1200</td>\n",
              "      <td>0</td>\n",
              "      <td>8</td>\n",
              "      <td>0</td>\n",
              "      <td>0</td>\n",
              "      <td>0</td>\n",
              "      <td>0</td>\n",
              "      <td>0</td>\n",
              "      <td>0</td>\n",
              "      <td>0</td>\n",
              "      <td>0</td>\n",
              "    </tr>\n",
              "    <tr>\n",
              "      <th>2369397</th>\n",
              "      <td>1037.590316</td>\n",
              "      <td>356</td>\n",
              "      <td>0</td>\n",
              "      <td>8</td>\n",
              "      <td>0</td>\n",
              "      <td>8</td>\n",
              "      <td>0</td>\n",
              "      <td>0</td>\n",
              "      <td>0</td>\n",
              "      <td>0</td>\n",
              "      <td>8</td>\n",
              "      <td>0</td>\n",
              "    </tr>\n",
              "  </tbody>\n",
              "</table>\n",
              "<p>2369398 rows × 12 columns</p>\n",
              "</div>"
            ],
            "text/plain": [
              "           Timestamp  CAN ID  RTR  DLC  ...  Data5  Data6  Data7  Data8\n",
              "0           0.000000     790    0    8  ...     32     26      0    127\n",
              "1           0.000224     809    0    8  ...     17     47      0     16\n",
              "2           0.000462     128    0    8  ...     32     26     32     67\n",
              "3           0.000704     129    0    8  ...      0      0      0     83\n",
              "4           0.000878     288    0    4  ...      0      0      0      0\n",
              "...              ...     ...  ...  ...  ...    ...    ...    ...    ...\n",
              "2369393  1037.589395      68    0    8  ...    111      0      0      0\n",
              "2369394  1037.589628     357    0    8  ...      0      0     12    138\n",
              "2369395  1037.589812     688    0    5  ...    172      0      0      0\n",
              "2369396  1037.590065    1200    0    8  ...      0      0      0      0\n",
              "2369397  1037.590316     356    0    8  ...      0      0      8      0\n",
              "\n",
              "[2369398 rows x 12 columns]"
            ]
          },
          "metadata": {
            "tags": []
          },
          "execution_count": 3
        }
      ]
    },
    {
      "cell_type": "code",
      "metadata": {
        "id": "cXNsfUeDkcdx"
      },
      "source": [
        "from sklearn.preprocessing import StandardScaler\r\n",
        "\r\n",
        "df = pd.read_csv('data/JNJ.csv')\r\n",
        "df = df[['Date', 'Close']]\r\n",
        "df['Date'] = pd.to_datetime(df['Date'])\r\n",
        "df['Date'].min(), df['Date'].max()"
      ],
      "execution_count": null,
      "outputs": []
    },
    {
      "cell_type": "code",
      "metadata": {
        "id": "x99FSEe_j2xN"
      },
      "source": [
        "# series2 = df.to_numpy()\r\n",
        "# series2 = series2[ : , :, np.newaxis] "
      ],
      "execution_count": null,
      "outputs": []
    },
    {
      "cell_type": "code",
      "metadata": {
        "id": "JsNHURV4i7td"
      },
      "source": [
        "# X_train, y_train = series2[:train_split, :n_features-1], series2[:train_split, -1] # -1 references the last column\r\n",
        "# X_valid, y_valid = series2[train_split:val_split, :n_features-1], series2[train_split:val_split, -1]\r\n",
        "# X_test, y_test = series2[val_split:, :n_features-1], series2[val_split:, -1]"
      ],
      "execution_count": null,
      "outputs": []
    },
    {
      "cell_type": "code",
      "metadata": {
        "colab": {
          "base_uri": "https://localhost:8080/"
        },
        "id": "t3IxLxOEjbHD",
        "outputId": "eb986780-7d3d-4d65-be6d-5320d6cc3ca8"
      },
      "source": [
        "# X_train.shape, y_train.shape, X_valid.shape, y_valid.shape, X_test.shape, y_test.shape"
      ],
      "execution_count": null,
      "outputs": [
        {
          "output_type": "execute_result",
          "data": {
            "text/plain": [
              "((1658578, 12, 1),\n",
              " (1658578, 1),\n",
              " (236940, 12, 1),\n",
              " (236940, 1),\n",
              " (473880, 12, 1),\n",
              " (473880, 1))"
            ]
          },
          "metadata": {
            "tags": []
          },
          "execution_count": 16
        }
      ]
    },
    {
      "cell_type": "markdown",
      "metadata": {
        "id": "wWPNV3KUpYWL"
      },
      "source": [
        "# DoS attack Dataset"
      ]
    },
    {
      "cell_type": "code",
      "metadata": {
        "colab": {
          "base_uri": "https://localhost:8080/",
          "height": 402
        },
        "id": "0bv7ms9ivMLF",
        "outputId": "5b38d9ba-4475-4983-a383-285a0b92ee01"
      },
      "source": [
        "dosdf"
      ],
      "execution_count": null,
      "outputs": [
        {
          "output_type": "execute_result",
          "data": {
            "text/html": [
              "<div>\n",
              "<style scoped>\n",
              "    .dataframe tbody tr th:only-of-type {\n",
              "        vertical-align: middle;\n",
              "    }\n",
              "\n",
              "    .dataframe tbody tr th {\n",
              "        vertical-align: top;\n",
              "    }\n",
              "\n",
              "    .dataframe thead th {\n",
              "        text-align: right;\n",
              "    }\n",
              "</style>\n",
              "<table border=\"1\" class=\"dataframe\">\n",
              "  <thead>\n",
              "    <tr style=\"text-align: right;\">\n",
              "      <th></th>\n",
              "      <th>Timestamp</th>\n",
              "      <th>CAN ID</th>\n",
              "      <th>RTR</th>\n",
              "      <th>DLC</th>\n",
              "      <th>Data1</th>\n",
              "      <th>Data2</th>\n",
              "      <th>Data3</th>\n",
              "      <th>Data4</th>\n",
              "      <th>Data5</th>\n",
              "      <th>Data6</th>\n",
              "      <th>Data7</th>\n",
              "      <th>Data8</th>\n",
              "      <th>label</th>\n",
              "    </tr>\n",
              "  </thead>\n",
              "  <tbody>\n",
              "    <tr>\n",
              "      <th>0</th>\n",
              "      <td>0.000000</td>\n",
              "      <td>0</td>\n",
              "      <td>0</td>\n",
              "      <td>8</td>\n",
              "      <td>0</td>\n",
              "      <td>0</td>\n",
              "      <td>0</td>\n",
              "      <td>0</td>\n",
              "      <td>0</td>\n",
              "      <td>0</td>\n",
              "      <td>0</td>\n",
              "      <td>0</td>\n",
              "      <td>1</td>\n",
              "    </tr>\n",
              "    <tr>\n",
              "      <th>1</th>\n",
              "      <td>0.000271</td>\n",
              "      <td>128</td>\n",
              "      <td>0</td>\n",
              "      <td>8</td>\n",
              "      <td>0</td>\n",
              "      <td>23</td>\n",
              "      <td>220</td>\n",
              "      <td>9</td>\n",
              "      <td>22</td>\n",
              "      <td>17</td>\n",
              "      <td>22</td>\n",
              "      <td>187</td>\n",
              "      <td>0</td>\n",
              "    </tr>\n",
              "    <tr>\n",
              "      <th>2</th>\n",
              "      <td>0.000495</td>\n",
              "      <td>0</td>\n",
              "      <td>0</td>\n",
              "      <td>8</td>\n",
              "      <td>0</td>\n",
              "      <td>0</td>\n",
              "      <td>0</td>\n",
              "      <td>0</td>\n",
              "      <td>0</td>\n",
              "      <td>0</td>\n",
              "      <td>0</td>\n",
              "      <td>0</td>\n",
              "      <td>1</td>\n",
              "    </tr>\n",
              "    <tr>\n",
              "      <th>3</th>\n",
              "      <td>0.000736</td>\n",
              "      <td>129</td>\n",
              "      <td>0</td>\n",
              "      <td>8</td>\n",
              "      <td>64</td>\n",
              "      <td>132</td>\n",
              "      <td>135</td>\n",
              "      <td>0</td>\n",
              "      <td>0</td>\n",
              "      <td>0</td>\n",
              "      <td>0</td>\n",
              "      <td>107</td>\n",
              "      <td>0</td>\n",
              "    </tr>\n",
              "    <tr>\n",
              "      <th>4</th>\n",
              "      <td>0.000983</td>\n",
              "      <td>0</td>\n",
              "      <td>0</td>\n",
              "      <td>8</td>\n",
              "      <td>0</td>\n",
              "      <td>0</td>\n",
              "      <td>0</td>\n",
              "      <td>0</td>\n",
              "      <td>0</td>\n",
              "      <td>0</td>\n",
              "      <td>0</td>\n",
              "      <td>0</td>\n",
              "      <td>1</td>\n",
              "    </tr>\n",
              "    <tr>\n",
              "      <th>...</th>\n",
              "      <td>...</td>\n",
              "      <td>...</td>\n",
              "      <td>...</td>\n",
              "      <td>...</td>\n",
              "      <td>...</td>\n",
              "      <td>...</td>\n",
              "      <td>...</td>\n",
              "      <td>...</td>\n",
              "      <td>...</td>\n",
              "      <td>...</td>\n",
              "      <td>...</td>\n",
              "      <td>...</td>\n",
              "      <td>...</td>\n",
              "    </tr>\n",
              "    <tr>\n",
              "      <th>656574</th>\n",
              "      <td>306.295869</td>\n",
              "      <td>0</td>\n",
              "      <td>0</td>\n",
              "      <td>8</td>\n",
              "      <td>0</td>\n",
              "      <td>0</td>\n",
              "      <td>0</td>\n",
              "      <td>0</td>\n",
              "      <td>0</td>\n",
              "      <td>0</td>\n",
              "      <td>0</td>\n",
              "      <td>0</td>\n",
              "      <td>1</td>\n",
              "    </tr>\n",
              "    <tr>\n",
              "      <th>656575</th>\n",
              "      <td>306.296118</td>\n",
              "      <td>129</td>\n",
              "      <td>0</td>\n",
              "      <td>8</td>\n",
              "      <td>64</td>\n",
              "      <td>132</td>\n",
              "      <td>137</td>\n",
              "      <td>0</td>\n",
              "      <td>0</td>\n",
              "      <td>0</td>\n",
              "      <td>0</td>\n",
              "      <td>240</td>\n",
              "      <td>0</td>\n",
              "    </tr>\n",
              "    <tr>\n",
              "      <th>656576</th>\n",
              "      <td>306.296365</td>\n",
              "      <td>0</td>\n",
              "      <td>0</td>\n",
              "      <td>8</td>\n",
              "      <td>0</td>\n",
              "      <td>0</td>\n",
              "      <td>0</td>\n",
              "      <td>0</td>\n",
              "      <td>0</td>\n",
              "      <td>0</td>\n",
              "      <td>0</td>\n",
              "      <td>0</td>\n",
              "      <td>1</td>\n",
              "    </tr>\n",
              "    <tr>\n",
              "      <th>656577</th>\n",
              "      <td>306.296624</td>\n",
              "      <td>399</td>\n",
              "      <td>0</td>\n",
              "      <td>8</td>\n",
              "      <td>0</td>\n",
              "      <td>59</td>\n",
              "      <td>24</td>\n",
              "      <td>0</td>\n",
              "      <td>0</td>\n",
              "      <td>63</td>\n",
              "      <td>0</td>\n",
              "      <td>0</td>\n",
              "      <td>0</td>\n",
              "    </tr>\n",
              "    <tr>\n",
              "      <th>656578</th>\n",
              "      <td>306.296857</td>\n",
              "      <td>0</td>\n",
              "      <td>0</td>\n",
              "      <td>8</td>\n",
              "      <td>0</td>\n",
              "      <td>0</td>\n",
              "      <td>0</td>\n",
              "      <td>0</td>\n",
              "      <td>0</td>\n",
              "      <td>0</td>\n",
              "      <td>0</td>\n",
              "      <td>0</td>\n",
              "      <td>1</td>\n",
              "    </tr>\n",
              "  </tbody>\n",
              "</table>\n",
              "<p>656579 rows × 13 columns</p>\n",
              "</div>"
            ],
            "text/plain": [
              "         Timestamp  CAN ID  RTR  DLC  Data1  ...  Data5  Data6  Data7  Data8  label\n",
              "0         0.000000       0    0    8      0  ...      0      0      0      0      1\n",
              "1         0.000271     128    0    8      0  ...     22     17     22    187      0\n",
              "2         0.000495       0    0    8      0  ...      0      0      0      0      1\n",
              "3         0.000736     129    0    8     64  ...      0      0      0    107      0\n",
              "4         0.000983       0    0    8      0  ...      0      0      0      0      1\n",
              "...            ...     ...  ...  ...    ...  ...    ...    ...    ...    ...    ...\n",
              "656574  306.295869       0    0    8      0  ...      0      0      0      0      1\n",
              "656575  306.296118     129    0    8     64  ...      0      0      0    240      0\n",
              "656576  306.296365       0    0    8      0  ...      0      0      0      0      1\n",
              "656577  306.296624     399    0    8      0  ...      0     63      0      0      0\n",
              "656578  306.296857       0    0    8      0  ...      0      0      0      0      1\n",
              "\n",
              "[656579 rows x 13 columns]"
            ]
          },
          "metadata": {
            "tags": []
          },
          "execution_count": 93
        }
      ]
    },
    {
      "cell_type": "code",
      "metadata": {
        "id": "NWzVHW3GKeNI",
        "colab": {
          "base_uri": "https://localhost:8080/",
          "height": 136
        },
        "outputId": "eed59dac-c0b5-4f03-d0d6-570f81d1f94e"
      },
      "source": [
        "dosdf.groupby('label').count()"
      ],
      "execution_count": null,
      "outputs": [
        {
          "output_type": "execute_result",
          "data": {
            "text/html": [
              "<div>\n",
              "<style scoped>\n",
              "    .dataframe tbody tr th:only-of-type {\n",
              "        vertical-align: middle;\n",
              "    }\n",
              "\n",
              "    .dataframe tbody tr th {\n",
              "        vertical-align: top;\n",
              "    }\n",
              "\n",
              "    .dataframe thead th {\n",
              "        text-align: right;\n",
              "    }\n",
              "</style>\n",
              "<table border=\"1\" class=\"dataframe\">\n",
              "  <thead>\n",
              "    <tr style=\"text-align: right;\">\n",
              "      <th></th>\n",
              "      <th>Timestamp</th>\n",
              "      <th>CAN ID</th>\n",
              "      <th>RTR</th>\n",
              "      <th>DLC</th>\n",
              "      <th>Data1</th>\n",
              "      <th>Data2</th>\n",
              "      <th>Data3</th>\n",
              "      <th>Data4</th>\n",
              "      <th>Data5</th>\n",
              "      <th>Data6</th>\n",
              "      <th>Data7</th>\n",
              "      <th>Data8</th>\n",
              "    </tr>\n",
              "    <tr>\n",
              "      <th>label</th>\n",
              "      <th></th>\n",
              "      <th></th>\n",
              "      <th></th>\n",
              "      <th></th>\n",
              "      <th></th>\n",
              "      <th></th>\n",
              "      <th></th>\n",
              "      <th></th>\n",
              "      <th></th>\n",
              "      <th></th>\n",
              "      <th></th>\n",
              "      <th></th>\n",
              "    </tr>\n",
              "  </thead>\n",
              "  <tbody>\n",
              "    <tr>\n",
              "      <th>0</th>\n",
              "      <td>320955</td>\n",
              "      <td>320955</td>\n",
              "      <td>320955</td>\n",
              "      <td>320955</td>\n",
              "      <td>320955</td>\n",
              "      <td>320955</td>\n",
              "      <td>320955</td>\n",
              "      <td>320955</td>\n",
              "      <td>320955</td>\n",
              "      <td>320955</td>\n",
              "      <td>320955</td>\n",
              "      <td>320955</td>\n",
              "    </tr>\n",
              "    <tr>\n",
              "      <th>1</th>\n",
              "      <td>335624</td>\n",
              "      <td>335624</td>\n",
              "      <td>335624</td>\n",
              "      <td>335624</td>\n",
              "      <td>335624</td>\n",
              "      <td>335624</td>\n",
              "      <td>335624</td>\n",
              "      <td>335624</td>\n",
              "      <td>335624</td>\n",
              "      <td>335624</td>\n",
              "      <td>335624</td>\n",
              "      <td>335624</td>\n",
              "    </tr>\n",
              "  </tbody>\n",
              "</table>\n",
              "</div>"
            ],
            "text/plain": [
              "       Timestamp  CAN ID     RTR     DLC  ...   Data5   Data6   Data7   Data8\n",
              "label                                     ...                                \n",
              "0         320955  320955  320955  320955  ...  320955  320955  320955  320955\n",
              "1         335624  335624  335624  335624  ...  335624  335624  335624  335624\n",
              "\n",
              "[2 rows x 12 columns]"
            ]
          },
          "metadata": {
            "tags": []
          },
          "execution_count": 94
        }
      ]
    },
    {
      "cell_type": "markdown",
      "metadata": {
        "id": "ff_e_sy9jv5e"
      },
      "source": [
        "### Train-test split"
      ]
    },
    {
      "cell_type": "code",
      "metadata": {
        "id": "1A-zU5mbqC5A",
        "colab": {
          "base_uri": "https://localhost:8080/"
        },
        "outputId": "151ec96c-2f8a-4514-97d1-9b45cda34e94"
      },
      "source": [
        "dosdf.shape"
      ],
      "execution_count": null,
      "outputs": [
        {
          "output_type": "execute_result",
          "data": {
            "text/plain": [
              "(656579, 13)"
            ]
          },
          "metadata": {
            "tags": []
          },
          "execution_count": 95
        }
      ]
    },
    {
      "cell_type": "code",
      "metadata": {
        "id": "bnPnzn74qe9p",
        "colab": {
          "base_uri": "https://localhost:8080/"
        },
        "outputId": "3a5de345-7dc3-42c7-95e2-961ff25bedd5"
      },
      "source": [
        "train_split = int(dosdf.shape[0]*0.7)\n",
        "val_split = int(dosdf.shape[0]*0.1) + train_split\n",
        "#test is val_split: \n",
        "train_split, val_split"
      ],
      "execution_count": null,
      "outputs": [
        {
          "output_type": "execute_result",
          "data": {
            "text/plain": [
              "(459605, 525262)"
            ]
          },
          "metadata": {
            "tags": []
          },
          "execution_count": 96
        }
      ]
    },
    {
      "cell_type": "code",
      "metadata": {
        "id": "vxk6d7fYrI6G"
      },
      "source": [
        "dosseries = dosdf.to_numpy()\n",
        "dosseries = dosseries[ : , :, np.newaxis] "
      ],
      "execution_count": null,
      "outputs": []
    },
    {
      "cell_type": "code",
      "metadata": {
        "id": "2Mkq_6vNrI6G",
        "colab": {
          "base_uri": "https://localhost:8080/"
        },
        "outputId": "eb4589c3-b467-4e8a-a33b-8dd344c3a47a"
      },
      "source": [
        "dosseries.shape"
      ],
      "execution_count": null,
      "outputs": [
        {
          "output_type": "execute_result",
          "data": {
            "text/plain": [
              "(656579, 13, 1)"
            ]
          },
          "metadata": {
            "tags": []
          },
          "execution_count": 98
        }
      ]
    },
    {
      "cell_type": "code",
      "metadata": {
        "id": "4nCWEjbBrI6G"
      },
      "source": [
        "n_features = dosseries.shape[1]\n",
        "\n",
        "X_train, y_train = dosseries[:train_split, :n_features-1], dosseries[:train_split, -1] # -1 references the last column\n",
        "X_valid, y_valid = dosseries[train_split:val_split, :n_features-1], dosseries[train_split:val_split, -1]\n",
        "X_test, y_test = dosseries[val_split:, :n_features-1], dosseries[val_split:, -1]\n"
      ],
      "execution_count": null,
      "outputs": []
    },
    {
      "cell_type": "markdown",
      "metadata": {
        "id": "95Ieg3wOkUfE"
      },
      "source": [
        "### Vanilla LSTM Model"
      ]
    },
    {
      "cell_type": "code",
      "metadata": {
        "id": "EO_7car0C4ZN"
      },
      "source": [
        "tf.keras.backend.clear_session()"
      ],
      "execution_count": null,
      "outputs": []
    },
    {
      "cell_type": "code",
      "metadata": {
        "id": "9b-ChlAWJf7o",
        "colab": {
          "base_uri": "https://localhost:8080/"
        },
        "outputId": "6cf21760-d13f-44e6-d3f9-b73c00a64e11"
      },
      "source": [
        "rnnDosmodel = keras.models.Sequential([\n",
        "    keras.layers.LSTM(100,input_shape=[X_train.shape[1],1]),\n",
        "    keras.layers.Flatten(),\n",
        "    keras.layers.Dense(2, activation='relu')\n",
        "])\n",
        "rnnDosmodel.compile(optimizer='adam',\n",
        "              loss=tf.keras.losses.SparseCategoricalCrossentropy(),\n",
        "              metrics=['accuracy'])\n",
        "print(rnnDosmodel.summary())"
      ],
      "execution_count": null,
      "outputs": [
        {
          "output_type": "stream",
          "text": [
            "Model: \"sequential\"\n",
            "_________________________________________________________________\n",
            "Layer (type)                 Output Shape              Param #   \n",
            "=================================================================\n",
            "lstm (LSTM)                  (None, 100)               40800     \n",
            "_________________________________________________________________\n",
            "flatten (Flatten)            (None, 100)               0         \n",
            "_________________________________________________________________\n",
            "dense (Dense)                (None, 2)                 202       \n",
            "=================================================================\n",
            "Total params: 41,002\n",
            "Trainable params: 41,002\n",
            "Non-trainable params: 0\n",
            "_________________________________________________________________\n",
            "None\n"
          ],
          "name": "stdout"
        }
      ]
    },
    {
      "cell_type": "code",
      "metadata": {
        "colab": {
          "base_uri": "https://localhost:8080/",
          "height": 422
        },
        "id": "IrUJr-HvZL_U",
        "outputId": "577e93b2-708e-4c2d-c0ae-4b41106d75ed"
      },
      "source": [
        "tf.keras.utils.plot_model(rnnDosmodel,show_shapes=True)"
      ],
      "execution_count": null,
      "outputs": [
        {
          "output_type": "execute_result",
          "data": {
            "image/png": "[encoded data removed]",
            "text/plain": [
              "<IPython.core.display.Image object>"
            ]
          },
          "metadata": {
            "tags": []
          },
          "execution_count": 102
        }
      ]
    },
    {
      "cell_type": "code",
      "metadata": {
        "id": "GfCZX5AFso9t",
        "colab": {
          "base_uri": "https://localhost:8080/"
        },
        "outputId": "bc1bcbd4-682e-416d-f226-7ffe222653e8"
      },
      "source": [
        "rnnhistory = rnnDosmodel.fit(X_train,y_train,validation_data=(X_valid,y_valid),epochs=5, batch_size=1028)"
      ],
      "execution_count": null,
      "outputs": [
        {
          "output_type": "stream",
          "text": [
            "Epoch 1/5\n",
            "448/448 [==============================] - 3s 6ms/step - loss: 0.2781 - accuracy: 0.7518 - val_loss: 0.4296 - val_accuracy: 0.5079\n",
            "Epoch 2/5\n",
            "448/448 [==============================] - 2s 5ms/step - loss: 0.4351 - accuracy: 0.4868 - val_loss: 0.4240 - val_accuracy: 0.5079\n",
            "Epoch 3/5\n",
            "448/448 [==============================] - 2s 5ms/step - loss: 0.4308 - accuracy: 0.4868 - val_loss: 0.4201 - val_accuracy: 0.5079\n",
            "Epoch 4/5\n",
            "448/448 [==============================] - 2s 5ms/step - loss: 0.4253 - accuracy: 0.4868 - val_loss: 0.4152 - val_accuracy: 0.5079\n",
            "Epoch 5/5\n",
            "448/448 [==============================] - 2s 5ms/step - loss: 0.4226 - accuracy: 0.4868 - val_loss: 0.4062 - val_accuracy: 0.5079\n"
          ],
          "name": "stdout"
        }
      ]
    },
    {
      "cell_type": "markdown",
      "metadata": {
        "id": "SzDur8bTlILi"
      },
      "source": [
        "### Evaluation and plotting\r\n",
        "\r\n",
        "Here we evaluate the vanilla LSTM model on the test dataset and plot the error, evaluation and a subset of the predictions to try to interpret the output of the model corresponding to the dataset and hyperparameters."
      ]
    },
    {
      "cell_type": "code",
      "metadata": {
        "id": "EU0dxxW-so9u",
        "colab": {
          "base_uri": "https://localhost:8080/"
        },
        "outputId": "6cde3434-4407-46de-db57-79c55286dd05"
      },
      "source": [
        "scores = rnnDosmodel.evaluate(X_test,y_test)\n",
        "print(f\"Accuracy: {scores[1]}\")"
      ],
      "execution_count": null,
      "outputs": [
        {
          "output_type": "stream",
          "text": [
            "4104/4104 [==============================] - 10s 2ms/step - loss: 0.4155 - accuracy: 0.4864\n",
            "Accuracy: 0.4863879084587097\n"
          ],
          "name": "stdout"
        }
      ]
    },
    {
      "cell_type": "code",
      "metadata": {
        "colab": {
          "base_uri": "https://localhost:8080/"
        },
        "id": "aiXPlNnzfy4n",
        "outputId": "d51c28c1-049f-4565-ad84-73ff62d0966d"
      },
      "source": [
        "scores"
      ],
      "execution_count": null,
      "outputs": [
        {
          "output_type": "execute_result",
          "data": {
            "text/plain": [
              "[0.41554155945777893, 0.4863879084587097]"
            ]
          },
          "metadata": {
            "tags": []
          },
          "execution_count": 105
        }
      ]
    },
    {
      "cell_type": "code",
      "metadata": {
        "id": "xp_a3ii1sgRR",
        "colab": {
          "base_uri": "https://localhost:8080/"
        },
        "outputId": "0886d649-a297-41ff-8c3c-72cd966a9f5e"
      },
      "source": [
        "y_pred = rnnDosmodel.predict(X_test)\n",
        "y_pred"
      ],
      "execution_count": null,
      "outputs": [
        {
          "output_type": "execute_result",
          "data": {
            "text/plain": [
              "array([[1.6851553, 0.       ],\n",
              "       [0.       , 0.       ],\n",
              "       [2.290187 , 0.       ],\n",
              "       ...,\n",
              "       [0.       , 0.       ],\n",
              "       [1.1115589, 0.       ],\n",
              "       [0.       , 0.       ]], dtype=float32)"
            ]
          },
          "metadata": {
            "tags": []
          },
          "execution_count": 113
        }
      ]
    },
    {
      "cell_type": "code",
      "metadata": {
        "id": "y6oKdmZ2AQ73"
      },
      "source": [
        ""
      ],
      "execution_count": null,
      "outputs": []
    },
    {
      "cell_type": "code",
      "metadata": {
        "colab": {
          "base_uri": "https://localhost:8080/"
        },
        "id": "87FhN2dK_XAT",
        "outputId": "e6b15ce7-d030-4c61-81c9-b43f2a10cad7"
      },
      "source": [
        "from sklearn.metrics import f1_score\r\n",
        "f1_score(classes,y_test)"
      ],
      "execution_count": null,
      "outputs": [
        {
          "output_type": "execute_result",
          "data": {
            "text/plain": [
              "0.0"
            ]
          },
          "metadata": {
            "tags": []
          },
          "execution_count": 111
        }
      ]
    },
    {
      "cell_type": "code",
      "metadata": {
        "id": "9r0hfWNosgRR",
        "colab": {
          "base_uri": "https://localhost:8080/",
          "height": 323
        },
        "outputId": "1425e4b5-d760-4e87-a616-d61d02ef73c3"
      },
      "source": [
        "plt.subplot(1,2,1)\n",
        "plt.plot(rnnhistory.history[\"loss\"])\n",
        "plt.plot(rnnhistory.history[\"val_loss\"])\n",
        "plt.legend(('loss','val_loss'))\n",
        "plt.subplot(1,2,2)\n",
        "plt.plot(rnnhistory.history[\"accuracy\"])\n",
        "plt.plot(rnnhistory.history[\"val_accuracy\"])\n",
        "plt.legend(('acc','val_acc'))\n",
        "\n",
        "\n",
        "plt.gcf().set_size_inches((10,5))\n",
        "plt.show()"
      ],
      "execution_count": null,
      "outputs": [
        {
          "output_type": "display_data",
          "data": {
            "image/png": "[encoded data removed]",
            "text/plain": [
              "<Figure size 720x360 with 2 Axes>"
            ]
          },
          "metadata": {
            "tags": [],
            "needs_background": "light"
          }
        }
      ]
    },
    {
      "cell_type": "code",
      "metadata": {
        "id": "IDRfCExdtGAW",
        "colab": {
          "base_uri": "https://localhost:8080/"
        },
        "outputId": "4bcb0a05-8008-4846-854e-85bcedb1cdb0"
      },
      "source": [
        "rnnhistory.history"
      ],
      "execution_count": null,
      "outputs": [
        {
          "output_type": "execute_result",
          "data": {
            "text/plain": [
              "{'accuracy': [0.0, 0.0, 0.0, 0.0, 0.0],\n",
              " 'loss': [nan, nan, nan, nan, nan],\n",
              " 'val_accuracy': [0.0, 0.0, 0.0, 0.0, 0.0],\n",
              " 'val_loss': [nan, nan, nan, nan, nan]}"
            ]
          },
          "metadata": {
            "tags": []
          },
          "execution_count": 87
        }
      ]
    },
    {
      "cell_type": "code",
      "metadata": {
        "colab": {
          "base_uri": "https://localhost:8080/",
          "height": 514
        },
        "id": "NTGCRjRQEB_l",
        "outputId": "b6c6b910-7144-41f5-bfd5-e652501c87ad"
      },
      "source": [
        "plot_min=0\r\n",
        "plot_max =100\r\n",
        "plt.scatter(range(len(y_test[plot_min:plot_max])),y_test[plot_min:plot_max])\r\n",
        "plt.scatter(range(plot_max-plot_min),[y_pred[i].argmax()+0.02 for i in range(len(y_pred[plot_min:plot_max]))],c=['r'])\r\n",
        "plt.legend(('test val','predicted val'))\r\n",
        "plt.xlabel('timestamp index')\r\n",
        "plt.ylabel('class (1 = normal, 2 = anomaly)')\r\n",
        "plt.xticks(ticks=range(plot_min, plot_max))\r\n",
        "plt.gcf().set_size_inches((20,10))\r\n",
        "# plt.gcf().autofmt_xdate()\r\n",
        "plt.show()"
      ],
      "execution_count": null,
      "outputs": [
        {
          "output_type": "display_data",
          "data": {
            "image/png": "[encoded data removed]",
            "text/plain": [
              "<Figure size 1440x720 with 1 Axes>"
            ]
          },
          "metadata": {
            "tags": [],
            "needs_background": "light"
          }
        }
      ]
    },
    {
      "cell_type": "markdown",
      "metadata": {
        "id": "3yb-kHACZ8BZ"
      },
      "source": [
        "WE see that the LSTM based classifier provides results quite explainable to this evenly split dataset and the simplest 1 layer model gets a ~50% accuracy in just 5 epochs.\r\n",
        "We now test this dataset by finetuning it on both the models trained on the passive-state/attack-free data."
      ]
    },
    {
      "cell_type": "markdown",
      "metadata": {
        "id": "OlMaS0mnjhZR"
      },
      "source": [
        "# Impersonation attack Dataset"
      ]
    },
    {
      "cell_type": "code",
      "metadata": {
        "colab": {
          "base_uri": "https://localhost:8080/",
          "height": 402
        },
        "id": "H26Gz5DXjhDp",
        "outputId": "2eb94efa-90b0-46ae-e793-ecb4d97f4cc9"
      },
      "source": [
        "impersonatedf = pd.read_csv('/content/drive/My Drive/Colab Notebooks/CS581/project-data/Impersonation_attack_dataset.csv')\r\n",
        "impersonatedf['label'] = np.where(impersonatedf['CAN ID'] == 356,2,1) \r\n",
        "impersonatedf"
      ],
      "execution_count": null,
      "outputs": [
        {
          "output_type": "execute_result",
          "data": {
            "text/html": [
              "<div>\n",
              "<style scoped>\n",
              "    .dataframe tbody tr th:only-of-type {\n",
              "        vertical-align: middle;\n",
              "    }\n",
              "\n",
              "    .dataframe tbody tr th {\n",
              "        vertical-align: top;\n",
              "    }\n",
              "\n",
              "    .dataframe thead th {\n",
              "        text-align: right;\n",
              "    }\n",
              "</style>\n",
              "<table border=\"1\" class=\"dataframe\">\n",
              "  <thead>\n",
              "    <tr style=\"text-align: right;\">\n",
              "      <th></th>\n",
              "      <th>Timestamp</th>\n",
              "      <th>CAN ID</th>\n",
              "      <th>RTR</th>\n",
              "      <th>DLC</th>\n",
              "      <th>Data1</th>\n",
              "      <th>Data2</th>\n",
              "      <th>Data3</th>\n",
              "      <th>Data4</th>\n",
              "      <th>Data5</th>\n",
              "      <th>Data6</th>\n",
              "      <th>Data7</th>\n",
              "      <th>Data8</th>\n",
              "      <th>label</th>\n",
              "    </tr>\n",
              "  </thead>\n",
              "  <tbody>\n",
              "    <tr>\n",
              "      <th>0</th>\n",
              "      <td>1.481193e+09</td>\n",
              "      <td>1415</td>\n",
              "      <td>0</td>\n",
              "      <td>8</td>\n",
              "      <td>0</td>\n",
              "      <td>0</td>\n",
              "      <td>0</td>\n",
              "      <td>0</td>\n",
              "      <td>0</td>\n",
              "      <td>0</td>\n",
              "      <td>0</td>\n",
              "      <td>1</td>\n",
              "      <td>1</td>\n",
              "    </tr>\n",
              "    <tr>\n",
              "      <th>1</th>\n",
              "      <td>1.481193e+09</td>\n",
              "      <td>790</td>\n",
              "      <td>0</td>\n",
              "      <td>8</td>\n",
              "      <td>5</td>\n",
              "      <td>28</td>\n",
              "      <td>106</td>\n",
              "      <td>10</td>\n",
              "      <td>28</td>\n",
              "      <td>19</td>\n",
              "      <td>0</td>\n",
              "      <td>127</td>\n",
              "      <td>1</td>\n",
              "    </tr>\n",
              "    <tr>\n",
              "      <th>2</th>\n",
              "      <td>1.481193e+09</td>\n",
              "      <td>399</td>\n",
              "      <td>0</td>\n",
              "      <td>8</td>\n",
              "      <td>0</td>\n",
              "      <td>33</td>\n",
              "      <td>28</td>\n",
              "      <td>0</td>\n",
              "      <td>0</td>\n",
              "      <td>67</td>\n",
              "      <td>0</td>\n",
              "      <td>0</td>\n",
              "      <td>1</td>\n",
              "    </tr>\n",
              "    <tr>\n",
              "      <th>3</th>\n",
              "      <td>1.481193e+09</td>\n",
              "      <td>608</td>\n",
              "      <td>0</td>\n",
              "      <td>8</td>\n",
              "      <td>5</td>\n",
              "      <td>28</td>\n",
              "      <td>0</td>\n",
              "      <td>48</td>\n",
              "      <td>255</td>\n",
              "      <td>147</td>\n",
              "      <td>99</td>\n",
              "      <td>53</td>\n",
              "      <td>1</td>\n",
              "    </tr>\n",
              "    <tr>\n",
              "      <th>4</th>\n",
              "      <td>1.481193e+09</td>\n",
              "      <td>128</td>\n",
              "      <td>0</td>\n",
              "      <td>8</td>\n",
              "      <td>0</td>\n",
              "      <td>23</td>\n",
              "      <td>106</td>\n",
              "      <td>10</td>\n",
              "      <td>28</td>\n",
              "      <td>19</td>\n",
              "      <td>28</td>\n",
              "      <td>31</td>\n",
              "      <td>1</td>\n",
              "    </tr>\n",
              "    <tr>\n",
              "      <th>...</th>\n",
              "      <td>...</td>\n",
              "      <td>...</td>\n",
              "      <td>...</td>\n",
              "      <td>...</td>\n",
              "      <td>...</td>\n",
              "      <td>...</td>\n",
              "      <td>...</td>\n",
              "      <td>...</td>\n",
              "      <td>...</td>\n",
              "      <td>...</td>\n",
              "      <td>...</td>\n",
              "      <td>...</td>\n",
              "      <td>...</td>\n",
              "    </tr>\n",
              "    <tr>\n",
              "      <th>995467</th>\n",
              "      <td>1.481193e+09</td>\n",
              "      <td>1508</td>\n",
              "      <td>0</td>\n",
              "      <td>3</td>\n",
              "      <td>0</td>\n",
              "      <td>2</td>\n",
              "      <td>0</td>\n",
              "      <td>0</td>\n",
              "      <td>0</td>\n",
              "      <td>0</td>\n",
              "      <td>0</td>\n",
              "      <td>0</td>\n",
              "      <td>1</td>\n",
              "    </tr>\n",
              "    <tr>\n",
              "      <th>995468</th>\n",
              "      <td>1.481193e+09</td>\n",
              "      <td>339</td>\n",
              "      <td>0</td>\n",
              "      <td>8</td>\n",
              "      <td>0</td>\n",
              "      <td>128</td>\n",
              "      <td>16</td>\n",
              "      <td>255</td>\n",
              "      <td>0</td>\n",
              "      <td>255</td>\n",
              "      <td>160</td>\n",
              "      <td>46</td>\n",
              "      <td>1</td>\n",
              "    </tr>\n",
              "    <tr>\n",
              "      <th>995469</th>\n",
              "      <td>1.481193e+09</td>\n",
              "      <td>357</td>\n",
              "      <td>0</td>\n",
              "      <td>8</td>\n",
              "      <td>14</td>\n",
              "      <td>216</td>\n",
              "      <td>127</td>\n",
              "      <td>0</td>\n",
              "      <td>0</td>\n",
              "      <td>0</td>\n",
              "      <td>3</td>\n",
              "      <td>170</td>\n",
              "      <td>1</td>\n",
              "    </tr>\n",
              "    <tr>\n",
              "      <th>995470</th>\n",
              "      <td>1.481193e+09</td>\n",
              "      <td>544</td>\n",
              "      <td>0</td>\n",
              "      <td>8</td>\n",
              "      <td>244</td>\n",
              "      <td>3</td>\n",
              "      <td>247</td>\n",
              "      <td>3</td>\n",
              "      <td>12</td>\n",
              "      <td>0</td>\n",
              "      <td>58</td>\n",
              "      <td>16</td>\n",
              "      <td>1</td>\n",
              "    </tr>\n",
              "    <tr>\n",
              "      <th>995471</th>\n",
              "      <td>1.481193e+09</td>\n",
              "      <td>688</td>\n",
              "      <td>0</td>\n",
              "      <td>5</td>\n",
              "      <td>115</td>\n",
              "      <td>0</td>\n",
              "      <td>0</td>\n",
              "      <td>7</td>\n",
              "      <td>3</td>\n",
              "      <td>0</td>\n",
              "      <td>0</td>\n",
              "      <td>0</td>\n",
              "      <td>1</td>\n",
              "    </tr>\n",
              "  </tbody>\n",
              "</table>\n",
              "<p>995472 rows × 13 columns</p>\n",
              "</div>"
            ],
            "text/plain": [
              "           Timestamp  CAN ID  RTR  DLC  ...  Data6  Data7  Data8  label\n",
              "0       1.481193e+09    1415    0    8  ...      0      0      1      1\n",
              "1       1.481193e+09     790    0    8  ...     19      0    127      1\n",
              "2       1.481193e+09     399    0    8  ...     67      0      0      1\n",
              "3       1.481193e+09     608    0    8  ...    147     99     53      1\n",
              "4       1.481193e+09     128    0    8  ...     19     28     31      1\n",
              "...              ...     ...  ...  ...  ...    ...    ...    ...    ...\n",
              "995467  1.481193e+09    1508    0    3  ...      0      0      0      1\n",
              "995468  1.481193e+09     339    0    8  ...    255    160     46      1\n",
              "995469  1.481193e+09     357    0    8  ...      0      3    170      1\n",
              "995470  1.481193e+09     544    0    8  ...      0     58     16      1\n",
              "995471  1.481193e+09     688    0    5  ...      0      0      0      1\n",
              "\n",
              "[995472 rows x 13 columns]"
            ]
          },
          "metadata": {
            "tags": []
          },
          "execution_count": 30
        }
      ]
    },
    {
      "cell_type": "markdown",
      "metadata": {
        "id": "7y41wR5_j2fR"
      },
      "source": [
        "### Train-test split"
      ]
    },
    {
      "cell_type": "code",
      "metadata": {
        "colab": {
          "base_uri": "https://localhost:8080/"
        },
        "id": "HcSvvlR0j1Y6",
        "outputId": "84a8825b-9bce-407a-feff-d3fcca5fc835"
      },
      "source": [
        "impersonatedf.shape"
      ],
      "execution_count": null,
      "outputs": [
        {
          "output_type": "execute_result",
          "data": {
            "text/plain": [
              "(995472, 13)"
            ]
          },
          "metadata": {
            "tags": []
          },
          "execution_count": 32
        }
      ]
    },
    {
      "cell_type": "code",
      "metadata": {
        "colab": {
          "base_uri": "https://localhost:8080/"
        },
        "id": "icvshVngj1Y9",
        "outputId": "f26b5a97-d594-4325-c2c4-8029bb561f13"
      },
      "source": [
        "train_split = int(impersonatedf.shape[0]*0.7)\n",
        "val_split = int(impersonatedf.shape[0]*0.1) + train_split\n",
        "#test is val_split: \n",
        "train_split, val_split"
      ],
      "execution_count": null,
      "outputs": [
        {
          "output_type": "execute_result",
          "data": {
            "text/plain": [
              "(696830, 796377)"
            ]
          },
          "metadata": {
            "tags": []
          },
          "execution_count": 33
        }
      ]
    },
    {
      "cell_type": "code",
      "metadata": {
        "id": "c5nrUyRpj1Y-"
      },
      "source": [
        "series = impersonatedf.to_numpy()\n",
        "series = series[ : , :, np.newaxis] "
      ],
      "execution_count": null,
      "outputs": []
    },
    {
      "cell_type": "code",
      "metadata": {
        "colab": {
          "base_uri": "https://localhost:8080/"
        },
        "id": "fyfyvGfWj1Y_",
        "outputId": "1240a8d3-77a7-4fe2-fc7d-af981cf5b8b2"
      },
      "source": [
        "series.shape"
      ],
      "execution_count": null,
      "outputs": [
        {
          "output_type": "execute_result",
          "data": {
            "text/plain": [
              "(995472, 13, 1)"
            ]
          },
          "metadata": {
            "tags": []
          },
          "execution_count": 36
        }
      ]
    },
    {
      "cell_type": "code",
      "metadata": {
        "id": "tZlHvBybj1ZA"
      },
      "source": [
        "n_features = series.shape[1]\n",
        "\n",
        "X_train, y_train = series[:train_split, :n_features-1], series[:train_split, -1] # -1 references the last column\n",
        "X_valid, y_valid = series[train_split:val_split, :n_features-1], series[train_split:val_split, -1]\n",
        "X_test, y_test = series[val_split:, :n_features-1], series[val_split:, -1]\n"
      ],
      "execution_count": null,
      "outputs": []
    },
    {
      "cell_type": "markdown",
      "metadata": {
        "id": "KaZIJO_ekPQ4"
      },
      "source": [
        "### Vanilla LSTM model "
      ]
    },
    {
      "cell_type": "code",
      "metadata": {
        "id": "IddmZhf3kZXl"
      },
      "source": [
        "tf.keras.backend.clear_session()"
      ],
      "execution_count": null,
      "outputs": []
    },
    {
      "cell_type": "code",
      "metadata": {
        "colab": {
          "base_uri": "https://localhost:8080/"
        },
        "id": "lpBVIONSkZXr",
        "outputId": "52b6bc82-543c-4a39-d7dc-7b9beeab5a5e"
      },
      "source": [
        "rnnIMPmodel = keras.models.Sequential([\n",
        "    keras.layers.LSTM(100,input_shape=[X_train.shape[1],1]),\n",
        "    keras.layers.Flatten(),\n",
        "    keras.layers.Dense(2, activation='relu')\n",
        "])\n",
        "rnnIMPmodel.compile(optimizer='adam',\n",
        "              loss=tf.keras.losses.SparseCategoricalCrossentropy(),\n",
        "              metrics=['accuracy'])\n",
        "print(rnnIMPmodel.summary())"
      ],
      "execution_count": null,
      "outputs": [
        {
          "output_type": "stream",
          "text": [
            "Model: \"sequential\"\n",
            "_________________________________________________________________\n",
            "Layer (type)                 Output Shape              Param #   \n",
            "=================================================================\n",
            "lstm (LSTM)                  (None, 100)               40800     \n",
            "_________________________________________________________________\n",
            "flatten (Flatten)            (None, 100)               0         \n",
            "_________________________________________________________________\n",
            "dense (Dense)                (None, 2)                 202       \n",
            "=================================================================\n",
            "Total params: 41,002\n",
            "Trainable params: 41,002\n",
            "Non-trainable params: 0\n",
            "_________________________________________________________________\n",
            "None\n"
          ],
          "name": "stdout"
        }
      ]
    },
    {
      "cell_type": "code",
      "metadata": {
        "colab": {
          "base_uri": "https://localhost:8080/",
          "height": 422
        },
        "id": "x74TMSfakZXs",
        "outputId": "d6b6141f-ebdc-4d04-c61d-c0db1eb77f16"
      },
      "source": [
        "tf.keras.utils.plot_model(rnnIMPmodel,show_shapes=True)"
      ],
      "execution_count": null,
      "outputs": [
        {
          "output_type": "execute_result",
          "data": {
            "image/png": "[encoded data removed]",
            "text/plain": [
              "<IPython.core.display.Image object>"
            ]
          },
          "metadata": {
            "tags": []
          },
          "execution_count": 64
        }
      ]
    },
    {
      "cell_type": "code",
      "metadata": {
        "colab": {
          "base_uri": "https://localhost:8080/"
        },
        "id": "VdvNLbVMkZXs",
        "outputId": "0d890f44-174b-4e47-e6fe-d4ea1c366cd2"
      },
      "source": [
        "rnnhistory = rnnIMPmodel.fit(X_train,y_train,validation_data=(X_valid,y_valid),epochs=5, batch_size=1028)"
      ],
      "execution_count": null,
      "outputs": [
        {
          "output_type": "stream",
          "text": [
            "Epoch 1/5\n",
            "448/448 [==============================] - 3s 6ms/step - loss: 0.5058 - accuracy: 0.4878 - val_loss: 0.5066 - val_accuracy: 0.5079\n",
            "Epoch 2/5\n",
            "448/448 [==============================] - 2s 5ms/step - loss: 0.5141 - accuracy: 0.4868 - val_loss: 0.5049 - val_accuracy: 0.5079\n",
            "Epoch 3/5\n",
            "448/448 [==============================] - 2s 5ms/step - loss: 0.4921 - accuracy: 0.4868 - val_loss: 0.4676 - val_accuracy: 0.5079\n",
            "Epoch 4/5\n",
            "448/448 [==============================] - 2s 5ms/step - loss: 0.4756 - accuracy: 0.4868 - val_loss: 0.4676 - val_accuracy: 0.5079\n",
            "Epoch 5/5\n",
            "448/448 [==============================] - 2s 5ms/step - loss: 0.4754 - accuracy: 0.4868 - val_loss: 0.4674 - val_accuracy: 0.5079\n"
          ],
          "name": "stdout"
        }
      ]
    },
    {
      "cell_type": "markdown",
      "metadata": {
        "id": "78KWPXD_koBk"
      },
      "source": [
        "### Evaluation and plotting\r\n",
        "\r\n",
        "Here we evaluate the vanilla LSTM model on the test dataset and plot the error, evaluation and a subset of the predictions to try to interpret the output of the model corresponding to the dataset and hyperparameters."
      ]
    },
    {
      "cell_type": "code",
      "metadata": {
        "colab": {
          "base_uri": "https://localhost:8080/"
        },
        "id": "tcYnqRdIkZXt",
        "outputId": "35d7041e-4311-491f-fa37-da0bb5fb89c9"
      },
      "source": [
        "scores = rnnIMPmodel.evaluate(X_test,y_test)\n",
        "print(f\"Accuracy: {scores[1]}\")"
      ],
      "execution_count": null,
      "outputs": [
        {
          "output_type": "stream",
          "text": [
            "4104/4104 [==============================] - 10s 3ms/step - loss: 0.4772 - accuracy: 0.4864\n",
            "Accuracy: 0.4863879084587097\n"
          ],
          "name": "stdout"
        }
      ]
    },
    {
      "cell_type": "code",
      "metadata": {
        "colab": {
          "base_uri": "https://localhost:8080/"
        },
        "id": "Cu1NZgNakZXt",
        "outputId": "abbd2ecc-757b-4922-fe5c-a7ee089d7ae2"
      },
      "source": [
        "scores"
      ],
      "execution_count": null,
      "outputs": [
        {
          "output_type": "execute_result",
          "data": {
            "text/plain": [
              "[0.4742295742034912, 0.4863879084587097]"
            ]
          },
          "metadata": {
            "tags": []
          },
          "execution_count": 70
        }
      ]
    },
    {
      "cell_type": "code",
      "metadata": {
        "id": "z0A2iLQIkZXt"
      },
      "source": [
        "y_pred = rnnIMPmodel.predict(X_test)"
      ],
      "execution_count": null,
      "outputs": []
    },
    {
      "cell_type": "code",
      "metadata": {
        "colab": {
          "base_uri": "https://localhost:8080/",
          "height": 323
        },
        "id": "peUvHAcokZXt",
        "outputId": "c9dcb753-5059-4595-e6e1-b2129f044b35"
      },
      "source": [
        "plt.subplot(1,2,1)\n",
        "plt.plot(rnnhistory.history[\"loss\"])\n",
        "plt.plot(rnnhistory.history[\"val_loss\"])\n",
        "plt.legend(('loss','val_loss'))\n",
        "plt.subplot(1,2,2)\n",
        "plt.plot(rnnhistory.history[\"accuracy\"])\n",
        "plt.plot(rnnhistory.history[\"val_accuracy\"])\n",
        "plt.legend(('acc','val_acc'))\n",
        "\n",
        "\n",
        "plt.gcf().set_size_inches((10,5))\n",
        "plt.show()"
      ],
      "execution_count": null,
      "outputs": [
        {
          "output_type": "display_data",
          "data": {
            "image/png": "[encoded data removed]",
            "text/plain": [
              "<Figure size 720x360 with 2 Axes>"
            ]
          },
          "metadata": {
            "tags": [],
            "needs_background": "light"
          }
        }
      ]
    },
    {
      "cell_type": "code",
      "metadata": {
        "colab": {
          "base_uri": "https://localhost:8080/"
        },
        "id": "g35j_vzlkZXu",
        "outputId": "0f114e18-ef9f-4099-a86a-e2353b37eb1b"
      },
      "source": [
        "rnnhistory.history"
      ],
      "execution_count": null,
      "outputs": [
        {
          "output_type": "execute_result",
          "data": {
            "text/plain": [
              "{'accuracy': [0.9828983545303345,\n",
              "  0.9999760389328003,\n",
              "  0.9999869465827942,\n",
              "  0.5450963377952576,\n",
              "  0.4867984354496002,\n",
              "  0.4867984354496002,\n",
              "  0.4867984354496002,\n",
              "  0.4867984354496002,\n",
              "  0.4867984354496002,\n",
              "  0.4867984354496002],\n",
              " 'loss': [0.06529616564512253,\n",
              "  0.00019853905541822314,\n",
              "  0.0001799893652787432,\n",
              "  0.5845282673835754,\n",
              "  0.6129899024963379,\n",
              "  0.529574990272522,\n",
              "  0.5196287631988525,\n",
              "  0.5196101665496826,\n",
              "  0.51960289478302,\n",
              "  0.5174219608306885],\n",
              " 'val_accuracy': [1.0,\n",
              "  1.0,\n",
              "  1.0,\n",
              "  0.5079275369644165,\n",
              "  0.5079275369644165,\n",
              "  0.5079275369644165,\n",
              "  0.5079275369644165,\n",
              "  0.5079275369644165,\n",
              "  0.5079275369644165,\n",
              "  0.5079275369644165],\n",
              " 'val_loss': [0.008958266116678715,\n",
              "  2.9518807309614203e-07,\n",
              "  3.7851489196327748e-06,\n",
              "  0.6153626441955566,\n",
              "  0.5906066298484802,\n",
              "  0.5161788463592529,\n",
              "  0.5161681771278381,\n",
              "  0.5161576271057129,\n",
              "  0.5161470770835876,\n",
              "  0.5111324191093445]}"
            ]
          },
          "metadata": {
            "tags": []
          },
          "execution_count": 51
        }
      ]
    },
    {
      "cell_type": "code",
      "metadata": {
        "colab": {
          "base_uri": "https://localhost:8080/",
          "height": 517
        },
        "id": "qsRRBinSkZXv",
        "outputId": "4712c45b-d182-4829-b87a-786bb7f3e8fa"
      },
      "source": [
        "plot_min=0\r\n",
        "plot_max =60\r\n",
        "plt.scatter(range(len(y_test[plot_min:plot_max])),y_test[plot_min:plot_max])\r\n",
        "plt.scatter(range(plot_max-plot_min),[y_pred[i].argmax()+0.02 for i in range(len(y_pred[plot_min:plot_max]))],c=['r'])\r\n",
        "plt.legend(('test val','predicted val'))\r\n",
        "plt.xlabel('timestamp index')\r\n",
        "plt.ylabel('class (1 = normal, 2 = anomaly)')\r\n",
        "plt.xticks(ticks=range(plot_min, plot_max))\r\n",
        "plt.gcf().set_size_inches((20,10))\r\n",
        "# plt.gcf().autofmt_xdate()\r\n",
        "plt.show()"
      ],
      "execution_count": null,
      "outputs": [
        {
          "output_type": "display_data",
          "data": {
            "image/png": "[encoded data removed]",
            "text/plain": [
              "<Figure size 1440x720 with 1 Axes>"
            ]
          },
          "metadata": {
            "tags": [],
            "needs_background": "light"
          }
        }
      ]
    },
    {
      "cell_type": "code",
      "metadata": {
        "id": "EqwnFHy5X9ER"
      },
      "source": [
        ""
      ],
      "execution_count": null,
      "outputs": []
    },
    {
      "cell_type": "markdown",
      "metadata": {
        "id": "M92_JFGElPyd"
      },
      "source": [
        "# Ablation study\r\n",
        "\r\n",
        "**Dataset chosen for these experiments:** Attack-free + Dos  dataset, wherever it is not explicitly mentioned otherwise."
      ]
    },
    {
      "cell_type": "markdown",
      "metadata": {
        "id": "FLwYzDg7laDI"
      },
      "source": [
        "# Effect of Model Size and Layers"
      ]
    },
    {
      "cell_type": "markdown",
      "metadata": {
        "id": "u2eszxCPl7Av"
      },
      "source": [
        "In this section we experiment with ranges of 4 values of different hyper parameters to see their effect on accuracy on the Impersonation Attack Dataset.\r\n",
        "\r\n",
        "## Number of cells\r\n"
      ]
    },
    {
      "cell_type": "code",
      "metadata": {
        "id": "qx-_fK_Dmr4B"
      },
      "source": [
        ""
      ],
      "execution_count": null,
      "outputs": []
    },
    {
      "cell_type": "markdown",
      "metadata": {
        "id": "clKHS4hBml_f"
      },
      "source": [
        "## Activation function"
      ]
    },
    {
      "cell_type": "code",
      "metadata": {
        "id": "O4xlcffBmliY"
      },
      "source": [
        ""
      ],
      "execution_count": null,
      "outputs": []
    },
    {
      "cell_type": "markdown",
      "metadata": {
        "id": "12fs9HiBmqXx"
      },
      "source": [
        "## Learning Rate"
      ]
    },
    {
      "cell_type": "code",
      "metadata": {
        "id": "RVHhac9imsxB"
      },
      "source": [
        ""
      ],
      "execution_count": null,
      "outputs": []
    },
    {
      "cell_type": "markdown",
      "metadata": {
        "id": "ayKeQP-klRVO"
      },
      "source": [
        "# Effect of features"
      ]
    },
    {
      "cell_type": "markdown",
      "metadata": {
        "id": "Eda4CAucY742"
      },
      "source": [
        "## Without timestamp feature\n",
        "\n",
        "giving this byte data to the network, it is an interesting experiment to see what the effect is."
      ]
    },
    {
      "cell_type": "code",
      "metadata": {
        "colab": {
          "base_uri": "https://localhost:8080/",
          "height": 402
        },
        "id": "1N2ND7IQZ6ci",
        "outputId": "877b9760-088d-4dcd-c711-745c19a01a68"
      },
      "source": [
        "newdf = df.drop(columns=['Timestamp'])\n",
        "newdf"
      ],
      "execution_count": null,
      "outputs": [
        {
          "output_type": "execute_result",
          "data": {
            "text/html": [
              "<div>\n",
              "<style scoped>\n",
              "    .dataframe tbody tr th:only-of-type {\n",
              "        vertical-align: middle;\n",
              "    }\n",
              "\n",
              "    .dataframe tbody tr th {\n",
              "        vertical-align: top;\n",
              "    }\n",
              "\n",
              "    .dataframe thead th {\n",
              "        text-align: right;\n",
              "    }\n",
              "</style>\n",
              "<table border=\"1\" class=\"dataframe\">\n",
              "  <thead>\n",
              "    <tr style=\"text-align: right;\">\n",
              "      <th></th>\n",
              "      <th>CAN ID</th>\n",
              "      <th>RTR</th>\n",
              "      <th>DLC</th>\n",
              "      <th>Data1</th>\n",
              "      <th>Data2</th>\n",
              "      <th>Data3</th>\n",
              "      <th>Data4</th>\n",
              "      <th>Data5</th>\n",
              "      <th>Data6</th>\n",
              "      <th>Data7</th>\n",
              "      <th>Data8</th>\n",
              "      <th>label</th>\n",
              "    </tr>\n",
              "  </thead>\n",
              "  <tbody>\n",
              "    <tr>\n",
              "      <th>0</th>\n",
              "      <td>790</td>\n",
              "      <td>0</td>\n",
              "      <td>8</td>\n",
              "      <td>5</td>\n",
              "      <td>32</td>\n",
              "      <td>234</td>\n",
              "      <td>10</td>\n",
              "      <td>32</td>\n",
              "      <td>26</td>\n",
              "      <td>0</td>\n",
              "      <td>127</td>\n",
              "      <td>1</td>\n",
              "    </tr>\n",
              "    <tr>\n",
              "      <th>1</th>\n",
              "      <td>809</td>\n",
              "      <td>0</td>\n",
              "      <td>8</td>\n",
              "      <td>215</td>\n",
              "      <td>167</td>\n",
              "      <td>127</td>\n",
              "      <td>140</td>\n",
              "      <td>17</td>\n",
              "      <td>47</td>\n",
              "      <td>0</td>\n",
              "      <td>16</td>\n",
              "      <td>1</td>\n",
              "    </tr>\n",
              "    <tr>\n",
              "      <th>2</th>\n",
              "      <td>128</td>\n",
              "      <td>0</td>\n",
              "      <td>8</td>\n",
              "      <td>0</td>\n",
              "      <td>23</td>\n",
              "      <td>234</td>\n",
              "      <td>10</td>\n",
              "      <td>32</td>\n",
              "      <td>26</td>\n",
              "      <td>32</td>\n",
              "      <td>67</td>\n",
              "      <td>1</td>\n",
              "    </tr>\n",
              "    <tr>\n",
              "      <th>3</th>\n",
              "      <td>129</td>\n",
              "      <td>0</td>\n",
              "      <td>8</td>\n",
              "      <td>127</td>\n",
              "      <td>132</td>\n",
              "      <td>96</td>\n",
              "      <td>0</td>\n",
              "      <td>0</td>\n",
              "      <td>0</td>\n",
              "      <td>0</td>\n",
              "      <td>83</td>\n",
              "      <td>1</td>\n",
              "    </tr>\n",
              "    <tr>\n",
              "      <th>4</th>\n",
              "      <td>288</td>\n",
              "      <td>0</td>\n",
              "      <td>4</td>\n",
              "      <td>0</td>\n",
              "      <td>0</td>\n",
              "      <td>0</td>\n",
              "      <td>0</td>\n",
              "      <td>0</td>\n",
              "      <td>0</td>\n",
              "      <td>0</td>\n",
              "      <td>0</td>\n",
              "      <td>1</td>\n",
              "    </tr>\n",
              "    <tr>\n",
              "      <th>...</th>\n",
              "      <td>...</td>\n",
              "      <td>...</td>\n",
              "      <td>...</td>\n",
              "      <td>...</td>\n",
              "      <td>...</td>\n",
              "      <td>...</td>\n",
              "      <td>...</td>\n",
              "      <td>...</td>\n",
              "      <td>...</td>\n",
              "      <td>...</td>\n",
              "      <td>...</td>\n",
              "      <td>...</td>\n",
              "    </tr>\n",
              "    <tr>\n",
              "      <th>2369393</th>\n",
              "      <td>68</td>\n",
              "      <td>0</td>\n",
              "      <td>8</td>\n",
              "      <td>0</td>\n",
              "      <td>0</td>\n",
              "      <td>0</td>\n",
              "      <td>255</td>\n",
              "      <td>111</td>\n",
              "      <td>0</td>\n",
              "      <td>0</td>\n",
              "      <td>0</td>\n",
              "      <td>1</td>\n",
              "    </tr>\n",
              "    <tr>\n",
              "      <th>2369394</th>\n",
              "      <td>357</td>\n",
              "      <td>0</td>\n",
              "      <td>8</td>\n",
              "      <td>17</td>\n",
              "      <td>232</td>\n",
              "      <td>127</td>\n",
              "      <td>0</td>\n",
              "      <td>0</td>\n",
              "      <td>0</td>\n",
              "      <td>12</td>\n",
              "      <td>138</td>\n",
              "      <td>1</td>\n",
              "    </tr>\n",
              "    <tr>\n",
              "      <th>2369395</th>\n",
              "      <td>688</td>\n",
              "      <td>0</td>\n",
              "      <td>5</td>\n",
              "      <td>35</td>\n",
              "      <td>0</td>\n",
              "      <td>0</td>\n",
              "      <td>7</td>\n",
              "      <td>172</td>\n",
              "      <td>0</td>\n",
              "      <td>0</td>\n",
              "      <td>0</td>\n",
              "      <td>1</td>\n",
              "    </tr>\n",
              "    <tr>\n",
              "      <th>2369396</th>\n",
              "      <td>1200</td>\n",
              "      <td>0</td>\n",
              "      <td>8</td>\n",
              "      <td>0</td>\n",
              "      <td>0</td>\n",
              "      <td>0</td>\n",
              "      <td>0</td>\n",
              "      <td>0</td>\n",
              "      <td>0</td>\n",
              "      <td>0</td>\n",
              "      <td>0</td>\n",
              "      <td>1</td>\n",
              "    </tr>\n",
              "    <tr>\n",
              "      <th>2369397</th>\n",
              "      <td>356</td>\n",
              "      <td>0</td>\n",
              "      <td>8</td>\n",
              "      <td>0</td>\n",
              "      <td>8</td>\n",
              "      <td>0</td>\n",
              "      <td>0</td>\n",
              "      <td>0</td>\n",
              "      <td>0</td>\n",
              "      <td>8</td>\n",
              "      <td>0</td>\n",
              "      <td>1</td>\n",
              "    </tr>\n",
              "  </tbody>\n",
              "</table>\n",
              "<p>2369398 rows × 12 columns</p>\n",
              "</div>"
            ],
            "text/plain": [
              "         CAN ID  RTR  DLC  Data1  Data2  ...  Data5  Data6  Data7  Data8  label\n",
              "0           790    0    8      5     32  ...     32     26      0    127      1\n",
              "1           809    0    8    215    167  ...     17     47      0     16      1\n",
              "2           128    0    8      0     23  ...     32     26     32     67      1\n",
              "3           129    0    8    127    132  ...      0      0      0     83      1\n",
              "4           288    0    4      0      0  ...      0      0      0      0      1\n",
              "...         ...  ...  ...    ...    ...  ...    ...    ...    ...    ...    ...\n",
              "2369393      68    0    8      0      0  ...    111      0      0      0      1\n",
              "2369394     357    0    8     17    232  ...      0      0     12    138      1\n",
              "2369395     688    0    5     35      0  ...    172      0      0      0      1\n",
              "2369396    1200    0    8      0      0  ...      0      0      0      0      1\n",
              "2369397     356    0    8      0      8  ...      0      0      8      0      1\n",
              "\n",
              "[2369398 rows x 12 columns]"
            ]
          },
          "metadata": {
            "tags": []
          },
          "execution_count": 52
        }
      ]
    },
    {
      "cell_type": "code",
      "metadata": {
        "id": "Dgtl9ZPTaQqh"
      },
      "source": [
        "noTimestamp_series = newdf.to_numpy()\n",
        "noTimestamp_series = noTimestamp_series[ : , :, np.newaxis] "
      ],
      "execution_count": null,
      "outputs": []
    },
    {
      "cell_type": "code",
      "metadata": {
        "colab": {
          "base_uri": "https://localhost:8080/"
        },
        "id": "9iGCp4SvaQqi",
        "outputId": "20dac54e-446f-49a7-adb9-9f038b9ae46c"
      },
      "source": [
        "n_features = noTimestamp_series.shape[1]\n",
        "train_split = int(noTimestamp_series.shape[0]*0.8)\n",
        "val_split = int(noTimestamp_series.shape[0]*0.1) + train_split\n",
        "print(f'train split : {train_split}, val split: {val_split}')\n",
        "\n",
        "X_train, y_train = noTimestamp_series[:train_split, :n_features-1], noTimestamp_series[:train_split, -1] # -1 references the last column\n",
        "X_valid, y_valid = noTimestamp_series[train_split:val_split, :n_features-1], noTimestamp_series[train_split:val_split, -1]\n",
        "X_test, y_test = noTimestamp_series[val_split:, :n_features-1], noTimestamp_series[val_split:, -1]\n"
      ],
      "execution_count": null,
      "outputs": [
        {
          "output_type": "stream",
          "text": [
            "train split : 1895518, val split: 2132457\n"
          ],
          "name": "stdout"
        }
      ]
    },
    {
      "cell_type": "code",
      "metadata": {
        "colab": {
          "base_uri": "https://localhost:8080/"
        },
        "id": "MJKoBcviruGO",
        "outputId": "3cfcf0ff-3529-4b48-9070-c66edcdf9985"
      },
      "source": [
        "X_train.shape, y_train.shape"
      ],
      "execution_count": null,
      "outputs": [
        {
          "output_type": "execute_result",
          "data": {
            "text/plain": [
              "((1895518, 11, 1), (1895518, 1))"
            ]
          },
          "metadata": {
            "tags": []
          },
          "execution_count": 59
        }
      ]
    },
    {
      "cell_type": "code",
      "metadata": {
        "colab": {
          "base_uri": "https://localhost:8080/"
        },
        "id": "Ut7wRepDruGO",
        "outputId": "cfadbb4c-73be-4469-8c8d-a6f0808fb6ee"
      },
      "source": [
        "X_valid.shape,y_valid.shape"
      ],
      "execution_count": null,
      "outputs": [
        {
          "output_type": "execute_result",
          "data": {
            "text/plain": [
              "((236939, 11, 1), (236939, 1))"
            ]
          },
          "metadata": {
            "tags": []
          },
          "execution_count": 60
        }
      ]
    },
    {
      "cell_type": "code",
      "metadata": {
        "colab": {
          "base_uri": "https://localhost:8080/"
        },
        "id": "01e0scyDruGP",
        "outputId": "880a18ce-7e89-4222-b35b-40359d8126d4"
      },
      "source": [
        "X_test.shape, y_test.shape"
      ],
      "execution_count": null,
      "outputs": [
        {
          "output_type": "execute_result",
          "data": {
            "text/plain": [
              "((236941, 11, 1), (236941, 1))"
            ]
          },
          "metadata": {
            "tags": []
          },
          "execution_count": 61
        }
      ]
    },
    {
      "cell_type": "code",
      "metadata": {
        "colab": {
          "base_uri": "https://localhost:8080/"
        },
        "id": "1rvw4cZuqPIv",
        "outputId": "e5e1bfde-d631-4ee8-96d3-6f5b94d35fd9"
      },
      "source": [
        "y_train"
      ],
      "execution_count": null,
      "outputs": [
        {
          "output_type": "execute_result",
          "data": {
            "text/plain": [
              "array([[1],\n",
              "       [1],\n",
              "       [1],\n",
              "       ...,\n",
              "       [1],\n",
              "       [1],\n",
              "       [1]])"
            ]
          },
          "metadata": {
            "tags": []
          },
          "execution_count": 62
        }
      ]
    },
    {
      "cell_type": "code",
      "metadata": {
        "colab": {
          "base_uri": "https://localhost:8080/"
        },
        "id": "FceU68oZaQqi",
        "outputId": "977ee4e2-4d62-4c70-e241-6cf783a462ac"
      },
      "source": [
        "noTimestamp_series.shape, X_train.shape, y_train.shape"
      ],
      "execution_count": null,
      "outputs": [
        {
          "output_type": "execute_result",
          "data": {
            "text/plain": [
              "((2369398, 12, 1), (1895518, 11, 1), (1895518, 1))"
            ]
          },
          "metadata": {
            "tags": []
          },
          "execution_count": 63
        }
      ]
    },
    {
      "cell_type": "code",
      "metadata": {
        "colab": {
          "base_uri": "https://localhost:8080/"
        },
        "id": "X1pR8aruanAO",
        "outputId": "9d7f625b-dc36-4b1f-f741-8f5ecd891178"
      },
      "source": [
        "noTimestamp_rnnmodel = keras.models.Sequential([\n",
        "    keras.layers.LSTM(100,input_shape=[X_train.shape[1],1]),\n",
        "    keras.layers.Flatten(),\n",
        "    keras.layers.Dense(2, activation='relu')\n",
        "])\n",
        "noTimestamp_rnnmodel.compile(optimizer='adam',\n",
        "              loss=tf.keras.losses.SparseCategoricalCrossentropy(),\n",
        "              metrics=['accuracy'])\n",
        "print(noTimestamp_rnnmodel.summary())"
      ],
      "execution_count": null,
      "outputs": [
        {
          "output_type": "stream",
          "text": [
            "Model: \"sequential_9\"\n",
            "_________________________________________________________________\n",
            "Layer (type)                 Output Shape              Param #   \n",
            "=================================================================\n",
            "lstm_9 (LSTM)                (None, 100)               40800     \n",
            "_________________________________________________________________\n",
            "flatten_9 (Flatten)          (None, 100)               0         \n",
            "_________________________________________________________________\n",
            "dense_9 (Dense)              (None, 2)                 202       \n",
            "=================================================================\n",
            "Total params: 41,002\n",
            "Trainable params: 41,002\n",
            "Non-trainable params: 0\n",
            "_________________________________________________________________\n",
            "None\n"
          ],
          "name": "stdout"
        }
      ]
    },
    {
      "cell_type": "code",
      "metadata": {
        "colab": {
          "base_uri": "https://localhost:8080/"
        },
        "id": "fI_Rz9uZanAO",
        "outputId": "2ffb5d8d-7e29-4fa2-e42e-bd506d2ac55e"
      },
      "source": [
        "noTimestamp_rnnhistory = noTimestamp_rnnmodel.fit(X_train,y_train,validation_data=(X_valid,y_valid),epochs=5, batch_size=1028)"
      ],
      "execution_count": null,
      "outputs": [
        {
          "output_type": "stream",
          "text": [
            "Epoch 1/5\n",
            "1844/1844 [==============================] - 9s 5ms/step - loss: 0.0020 - accuracy: 0.9988 - val_loss: 1.2025e-07 - val_accuracy: 1.0000\n",
            "Epoch 2/5\n",
            "1844/1844 [==============================] - 9s 5ms/step - loss: 1.2025e-07 - accuracy: 1.0000 - val_loss: 1.2025e-07 - val_accuracy: 1.0000\n",
            "Epoch 3/5\n",
            "1844/1844 [==============================] - 9s 5ms/step - loss: 1.2025e-07 - accuracy: 1.0000 - val_loss: 1.2025e-07 - val_accuracy: 1.0000\n",
            "Epoch 4/5\n",
            "1844/1844 [==============================] - 9s 5ms/step - loss: 1.1974e-07 - accuracy: 1.0000 - val_loss: 1.1973e-07 - val_accuracy: 1.0000\n",
            "Epoch 5/5\n",
            "1844/1844 [==============================] - 9s 5ms/step - loss: 1.1968e-07 - accuracy: 1.0000 - val_loss: 1.1947e-07 - val_accuracy: 1.0000\n"
          ],
          "name": "stdout"
        }
      ]
    },
    {
      "cell_type": "code",
      "metadata": {
        "colab": {
          "base_uri": "https://localhost:8080/"
        },
        "id": "MlQnJ3BBanAO",
        "outputId": "2de7c660-9205-40c2-8a3c-971c53871618"
      },
      "source": [
        "scores = noTimestamp_rnnmodel.evaluate(X_test,y_test)\n",
        "print(f\"Accuracy: {scores[1]}\")"
      ],
      "execution_count": null,
      "outputs": [
        {
          "output_type": "stream",
          "text": [
            "7405/7405 [==============================] - 16s 2ms/step - loss: 1.1947e-07 - accuracy: 1.0000\n",
            "Accuracy: 1.0\n"
          ],
          "name": "stdout"
        }
      ]
    },
    {
      "cell_type": "code",
      "metadata": {
        "colab": {
          "base_uri": "https://localhost:8080/",
          "height": 268
        },
        "id": "lWNDp8Q4anAO",
        "outputId": "50fab63f-dd00-451d-da4c-04ad9128eddb"
      },
      "source": [
        "plt.subplot(1,2,1)\n",
        "plt.plot(noTimestamp_rnnhistory.history[\"loss\"])\n",
        "plt.plot(noTimestamp_rnnhistory.history[\"val_loss\"])\n",
        "plt.legend(('loss','val_loss'))\n",
        "plt.subplot(1,2,2)\n",
        "plt.plot(noTimestamp_rnnhistory.history[\"accuracy\"])\n",
        "plt.plot(noTimestamp_rnnhistory.history[\"val_accuracy\"])\n",
        "plt.legend(('acc','val_acc'))\n",
        "\n",
        "\n",
        "plt.gcf().set_size_inches((10,5))\n",
        "plt.show()"
      ],
      "execution_count": null,
      "outputs": [
        {
          "output_type": "display_data",
          "data": {
            "image/png": "[encoded data removed]",
            "text/plain": [
              "<Figure size 432x288 with 1 Axes>"
            ]
          },
          "metadata": {
            "tags": [],
            "needs_background": "light"
          }
        }
      ]
    },
    {
      "cell_type": "code",
      "metadata": {
        "id": "YmPiL2zWanAO"
      },
      "source": [
        "y_pred = noTimestamp_rnnmodel.predict(X_test)\n",
        "# plot_series(X_test[15, :, 0], y_test[15, 0], y_pred[15, 0])\n",
        "# plt.show()"
      ],
      "execution_count": null,
      "outputs": []
    },
    {
      "cell_type": "code",
      "metadata": {
        "colab": {
          "base_uri": "https://localhost:8080/"
        },
        "id": "2ikXo7SSiZHt",
        "outputId": "fa473012-ce56-46a2-e2b8-3c3365dff4df"
      },
      "source": [
        "predlist = np.array([np.argmax(y_pred[i]) for i in range(len(y_pred))])\n",
        "predlist = predlist.reshape((predlist.shape[0],1))\n",
        "y_test.shape, y_pred.shape, predlist.shape"
      ],
      "execution_count": null,
      "outputs": [
        {
          "output_type": "execute_result",
          "data": {
            "text/plain": [
              "((236941, 1), (236941, 2), (236941, 1))"
            ]
          },
          "metadata": {
            "tags": []
          },
          "execution_count": 72
        }
      ]
    },
    {
      "cell_type": "code",
      "metadata": {
        "colab": {
          "base_uri": "https://localhost:8080/",
          "height": 402
        },
        "id": "lfSYLdIDj6Tg",
        "outputId": "cd0de240-938a-4cc6-aa22-20e7a9134dcf"
      },
      "source": [
        "compdf = pd.DataFrame(predlist)\n",
        "compdf['real'] = y_test\n",
        "compdf = compdf.rename(columns={0:'pred'})\n",
        "compdf['right label'] = np.where(compdf['pred'] == compdf['real'],True, False)\n",
        "compdf"
      ],
      "execution_count": null,
      "outputs": [
        {
          "output_type": "execute_result",
          "data": {
            "text/html": [
              "<div>\n",
              "<style scoped>\n",
              "    .dataframe tbody tr th:only-of-type {\n",
              "        vertical-align: middle;\n",
              "    }\n",
              "\n",
              "    .dataframe tbody tr th {\n",
              "        vertical-align: top;\n",
              "    }\n",
              "\n",
              "    .dataframe thead th {\n",
              "        text-align: right;\n",
              "    }\n",
              "</style>\n",
              "<table border=\"1\" class=\"dataframe\">\n",
              "  <thead>\n",
              "    <tr style=\"text-align: right;\">\n",
              "      <th></th>\n",
              "      <th>pred</th>\n",
              "      <th>real</th>\n",
              "      <th>right label</th>\n",
              "    </tr>\n",
              "  </thead>\n",
              "  <tbody>\n",
              "    <tr>\n",
              "      <th>0</th>\n",
              "      <td>1</td>\n",
              "      <td>1</td>\n",
              "      <td>True</td>\n",
              "    </tr>\n",
              "    <tr>\n",
              "      <th>1</th>\n",
              "      <td>1</td>\n",
              "      <td>1</td>\n",
              "      <td>True</td>\n",
              "    </tr>\n",
              "    <tr>\n",
              "      <th>2</th>\n",
              "      <td>1</td>\n",
              "      <td>1</td>\n",
              "      <td>True</td>\n",
              "    </tr>\n",
              "    <tr>\n",
              "      <th>3</th>\n",
              "      <td>1</td>\n",
              "      <td>1</td>\n",
              "      <td>True</td>\n",
              "    </tr>\n",
              "    <tr>\n",
              "      <th>4</th>\n",
              "      <td>1</td>\n",
              "      <td>1</td>\n",
              "      <td>True</td>\n",
              "    </tr>\n",
              "    <tr>\n",
              "      <th>...</th>\n",
              "      <td>...</td>\n",
              "      <td>...</td>\n",
              "      <td>...</td>\n",
              "    </tr>\n",
              "    <tr>\n",
              "      <th>236936</th>\n",
              "      <td>1</td>\n",
              "      <td>1</td>\n",
              "      <td>True</td>\n",
              "    </tr>\n",
              "    <tr>\n",
              "      <th>236937</th>\n",
              "      <td>1</td>\n",
              "      <td>1</td>\n",
              "      <td>True</td>\n",
              "    </tr>\n",
              "    <tr>\n",
              "      <th>236938</th>\n",
              "      <td>1</td>\n",
              "      <td>1</td>\n",
              "      <td>True</td>\n",
              "    </tr>\n",
              "    <tr>\n",
              "      <th>236939</th>\n",
              "      <td>1</td>\n",
              "      <td>1</td>\n",
              "      <td>True</td>\n",
              "    </tr>\n",
              "    <tr>\n",
              "      <th>236940</th>\n",
              "      <td>1</td>\n",
              "      <td>1</td>\n",
              "      <td>True</td>\n",
              "    </tr>\n",
              "  </tbody>\n",
              "</table>\n",
              "<p>236941 rows × 3 columns</p>\n",
              "</div>"
            ],
            "text/plain": [
              "        pred  real  right label\n",
              "0          1     1         True\n",
              "1          1     1         True\n",
              "2          1     1         True\n",
              "3          1     1         True\n",
              "4          1     1         True\n",
              "...      ...   ...          ...\n",
              "236936     1     1         True\n",
              "236937     1     1         True\n",
              "236938     1     1         True\n",
              "236939     1     1         True\n",
              "236940     1     1         True\n",
              "\n",
              "[236941 rows x 3 columns]"
            ]
          },
          "metadata": {
            "tags": []
          },
          "execution_count": 73
        }
      ]
    },
    {
      "cell_type": "markdown",
      "metadata": {
        "id": "83GfNKP_lTBu"
      },
      "source": [
        "# Effect of Combining Datasets"
      ]
    },
    {
      "cell_type": "markdown",
      "metadata": {
        "id": "jvSYpwDUPA-9"
      },
      "source": [
        "## Attack-free + DoS datasets \r\n",
        " Here we concatentate the Attack-Free and DoS Datasets to get one smooth, evenly biased and well distributed dataset to train and test on."
      ]
    },
    {
      "cell_type": "code",
      "metadata": {
        "id": "gOdwFcP6PHOq",
        "colab": {
          "base_uri": "https://localhost:8080/",
          "height": 402
        },
        "outputId": "3301611e-e2c0-4302-b0e4-312b10a15770"
      },
      "source": [
        "dosdf = pd.read_csv('/content/drive/My Drive/Colab Notebooks/CS581/project-data/DoS_attack_dataset.csv')\n",
        "dosdf['label'] = np.where(dosdf['CAN ID'] == 0,1,0)\n",
        "dosdf = dosdf.drop(labels=['Timestamp'],axis=1)\n",
        "dosdf"
      ],
      "execution_count": 19,
      "outputs": [
        {
          "output_type": "execute_result",
          "data": {
            "text/html": [
              "<div>\n",
              "<style scoped>\n",
              "    .dataframe tbody tr th:only-of-type {\n",
              "        vertical-align: middle;\n",
              "    }\n",
              "\n",
              "    .dataframe tbody tr th {\n",
              "        vertical-align: top;\n",
              "    }\n",
              "\n",
              "    .dataframe thead th {\n",
              "        text-align: right;\n",
              "    }\n",
              "</style>\n",
              "<table border=\"1\" class=\"dataframe\">\n",
              "  <thead>\n",
              "    <tr style=\"text-align: right;\">\n",
              "      <th></th>\n",
              "      <th>CAN ID</th>\n",
              "      <th>RTR</th>\n",
              "      <th>DLC</th>\n",
              "      <th>Data1</th>\n",
              "      <th>Data2</th>\n",
              "      <th>Data3</th>\n",
              "      <th>Data4</th>\n",
              "      <th>Data5</th>\n",
              "      <th>Data6</th>\n",
              "      <th>Data7</th>\n",
              "      <th>Data8</th>\n",
              "      <th>label</th>\n",
              "    </tr>\n",
              "  </thead>\n",
              "  <tbody>\n",
              "    <tr>\n",
              "      <th>0</th>\n",
              "      <td>0</td>\n",
              "      <td>0</td>\n",
              "      <td>8</td>\n",
              "      <td>0</td>\n",
              "      <td>0</td>\n",
              "      <td>0</td>\n",
              "      <td>0</td>\n",
              "      <td>0</td>\n",
              "      <td>0</td>\n",
              "      <td>0</td>\n",
              "      <td>0</td>\n",
              "      <td>1</td>\n",
              "    </tr>\n",
              "    <tr>\n",
              "      <th>1</th>\n",
              "      <td>128</td>\n",
              "      <td>0</td>\n",
              "      <td>8</td>\n",
              "      <td>0</td>\n",
              "      <td>23</td>\n",
              "      <td>220</td>\n",
              "      <td>9</td>\n",
              "      <td>22</td>\n",
              "      <td>17</td>\n",
              "      <td>22</td>\n",
              "      <td>187</td>\n",
              "      <td>0</td>\n",
              "    </tr>\n",
              "    <tr>\n",
              "      <th>2</th>\n",
              "      <td>0</td>\n",
              "      <td>0</td>\n",
              "      <td>8</td>\n",
              "      <td>0</td>\n",
              "      <td>0</td>\n",
              "      <td>0</td>\n",
              "      <td>0</td>\n",
              "      <td>0</td>\n",
              "      <td>0</td>\n",
              "      <td>0</td>\n",
              "      <td>0</td>\n",
              "      <td>1</td>\n",
              "    </tr>\n",
              "    <tr>\n",
              "      <th>3</th>\n",
              "      <td>129</td>\n",
              "      <td>0</td>\n",
              "      <td>8</td>\n",
              "      <td>64</td>\n",
              "      <td>132</td>\n",
              "      <td>135</td>\n",
              "      <td>0</td>\n",
              "      <td>0</td>\n",
              "      <td>0</td>\n",
              "      <td>0</td>\n",
              "      <td>107</td>\n",
              "      <td>0</td>\n",
              "    </tr>\n",
              "    <tr>\n",
              "      <th>4</th>\n",
              "      <td>0</td>\n",
              "      <td>0</td>\n",
              "      <td>8</td>\n",
              "      <td>0</td>\n",
              "      <td>0</td>\n",
              "      <td>0</td>\n",
              "      <td>0</td>\n",
              "      <td>0</td>\n",
              "      <td>0</td>\n",
              "      <td>0</td>\n",
              "      <td>0</td>\n",
              "      <td>1</td>\n",
              "    </tr>\n",
              "    <tr>\n",
              "      <th>...</th>\n",
              "      <td>...</td>\n",
              "      <td>...</td>\n",
              "      <td>...</td>\n",
              "      <td>...</td>\n",
              "      <td>...</td>\n",
              "      <td>...</td>\n",
              "      <td>...</td>\n",
              "      <td>...</td>\n",
              "      <td>...</td>\n",
              "      <td>...</td>\n",
              "      <td>...</td>\n",
              "      <td>...</td>\n",
              "    </tr>\n",
              "    <tr>\n",
              "      <th>656574</th>\n",
              "      <td>0</td>\n",
              "      <td>0</td>\n",
              "      <td>8</td>\n",
              "      <td>0</td>\n",
              "      <td>0</td>\n",
              "      <td>0</td>\n",
              "      <td>0</td>\n",
              "      <td>0</td>\n",
              "      <td>0</td>\n",
              "      <td>0</td>\n",
              "      <td>0</td>\n",
              "      <td>1</td>\n",
              "    </tr>\n",
              "    <tr>\n",
              "      <th>656575</th>\n",
              "      <td>129</td>\n",
              "      <td>0</td>\n",
              "      <td>8</td>\n",
              "      <td>64</td>\n",
              "      <td>132</td>\n",
              "      <td>137</td>\n",
              "      <td>0</td>\n",
              "      <td>0</td>\n",
              "      <td>0</td>\n",
              "      <td>0</td>\n",
              "      <td>240</td>\n",
              "      <td>0</td>\n",
              "    </tr>\n",
              "    <tr>\n",
              "      <th>656576</th>\n",
              "      <td>0</td>\n",
              "      <td>0</td>\n",
              "      <td>8</td>\n",
              "      <td>0</td>\n",
              "      <td>0</td>\n",
              "      <td>0</td>\n",
              "      <td>0</td>\n",
              "      <td>0</td>\n",
              "      <td>0</td>\n",
              "      <td>0</td>\n",
              "      <td>0</td>\n",
              "      <td>1</td>\n",
              "    </tr>\n",
              "    <tr>\n",
              "      <th>656577</th>\n",
              "      <td>399</td>\n",
              "      <td>0</td>\n",
              "      <td>8</td>\n",
              "      <td>0</td>\n",
              "      <td>59</td>\n",
              "      <td>24</td>\n",
              "      <td>0</td>\n",
              "      <td>0</td>\n",
              "      <td>63</td>\n",
              "      <td>0</td>\n",
              "      <td>0</td>\n",
              "      <td>0</td>\n",
              "    </tr>\n",
              "    <tr>\n",
              "      <th>656578</th>\n",
              "      <td>0</td>\n",
              "      <td>0</td>\n",
              "      <td>8</td>\n",
              "      <td>0</td>\n",
              "      <td>0</td>\n",
              "      <td>0</td>\n",
              "      <td>0</td>\n",
              "      <td>0</td>\n",
              "      <td>0</td>\n",
              "      <td>0</td>\n",
              "      <td>0</td>\n",
              "      <td>1</td>\n",
              "    </tr>\n",
              "  </tbody>\n",
              "</table>\n",
              "<p>656579 rows × 12 columns</p>\n",
              "</div>"
            ],
            "text/plain": [
              "        CAN ID  RTR  DLC  Data1  Data2  ...  Data5  Data6  Data7  Data8  label\n",
              "0            0    0    8      0      0  ...      0      0      0      0      1\n",
              "1          128    0    8      0     23  ...     22     17     22    187      0\n",
              "2            0    0    8      0      0  ...      0      0      0      0      1\n",
              "3          129    0    8     64    132  ...      0      0      0    107      0\n",
              "4            0    0    8      0      0  ...      0      0      0      0      1\n",
              "...        ...  ...  ...    ...    ...  ...    ...    ...    ...    ...    ...\n",
              "656574       0    0    8      0      0  ...      0      0      0      0      1\n",
              "656575     129    0    8     64    132  ...      0      0      0    240      0\n",
              "656576       0    0    8      0      0  ...      0      0      0      0      1\n",
              "656577     399    0    8      0     59  ...      0     63      0      0      0\n",
              "656578       0    0    8      0      0  ...      0      0      0      0      1\n",
              "\n",
              "[656579 rows x 12 columns]"
            ]
          },
          "metadata": {
            "tags": []
          },
          "execution_count": 19
        }
      ]
    },
    {
      "cell_type": "code",
      "metadata": {
        "id": "8Ehz3HtDPXyz",
        "colab": {
          "base_uri": "https://localhost:8080/",
          "height": 402
        },
        "outputId": "8ca173a6-035c-4b66-f283-0c10bea1943d"
      },
      "source": [
        "df = pd.read_csv('/content/drive/My Drive/Colab Notebooks/CS581/project-data/Attack_free_dataset.csv')\n",
        "df['label'] = 0\n",
        "df = df.drop(columns=['Timestamp'])\n",
        "df"
      ],
      "execution_count": 20,
      "outputs": [
        {
          "output_type": "execute_result",
          "data": {
            "text/html": [
              "<div>\n",
              "<style scoped>\n",
              "    .dataframe tbody tr th:only-of-type {\n",
              "        vertical-align: middle;\n",
              "    }\n",
              "\n",
              "    .dataframe tbody tr th {\n",
              "        vertical-align: top;\n",
              "    }\n",
              "\n",
              "    .dataframe thead th {\n",
              "        text-align: right;\n",
              "    }\n",
              "</style>\n",
              "<table border=\"1\" class=\"dataframe\">\n",
              "  <thead>\n",
              "    <tr style=\"text-align: right;\">\n",
              "      <th></th>\n",
              "      <th>CAN ID</th>\n",
              "      <th>RTR</th>\n",
              "      <th>DLC</th>\n",
              "      <th>Data1</th>\n",
              "      <th>Data2</th>\n",
              "      <th>Data3</th>\n",
              "      <th>Data4</th>\n",
              "      <th>Data5</th>\n",
              "      <th>Data6</th>\n",
              "      <th>Data7</th>\n",
              "      <th>Data8</th>\n",
              "      <th>label</th>\n",
              "    </tr>\n",
              "  </thead>\n",
              "  <tbody>\n",
              "    <tr>\n",
              "      <th>0</th>\n",
              "      <td>790</td>\n",
              "      <td>0</td>\n",
              "      <td>8</td>\n",
              "      <td>5</td>\n",
              "      <td>32</td>\n",
              "      <td>234</td>\n",
              "      <td>10</td>\n",
              "      <td>32</td>\n",
              "      <td>26</td>\n",
              "      <td>0</td>\n",
              "      <td>127</td>\n",
              "      <td>0</td>\n",
              "    </tr>\n",
              "    <tr>\n",
              "      <th>1</th>\n",
              "      <td>809</td>\n",
              "      <td>0</td>\n",
              "      <td>8</td>\n",
              "      <td>215</td>\n",
              "      <td>167</td>\n",
              "      <td>127</td>\n",
              "      <td>140</td>\n",
              "      <td>17</td>\n",
              "      <td>47</td>\n",
              "      <td>0</td>\n",
              "      <td>16</td>\n",
              "      <td>0</td>\n",
              "    </tr>\n",
              "    <tr>\n",
              "      <th>2</th>\n",
              "      <td>128</td>\n",
              "      <td>0</td>\n",
              "      <td>8</td>\n",
              "      <td>0</td>\n",
              "      <td>23</td>\n",
              "      <td>234</td>\n",
              "      <td>10</td>\n",
              "      <td>32</td>\n",
              "      <td>26</td>\n",
              "      <td>32</td>\n",
              "      <td>67</td>\n",
              "      <td>0</td>\n",
              "    </tr>\n",
              "    <tr>\n",
              "      <th>3</th>\n",
              "      <td>129</td>\n",
              "      <td>0</td>\n",
              "      <td>8</td>\n",
              "      <td>127</td>\n",
              "      <td>132</td>\n",
              "      <td>96</td>\n",
              "      <td>0</td>\n",
              "      <td>0</td>\n",
              "      <td>0</td>\n",
              "      <td>0</td>\n",
              "      <td>83</td>\n",
              "      <td>0</td>\n",
              "    </tr>\n",
              "    <tr>\n",
              "      <th>4</th>\n",
              "      <td>288</td>\n",
              "      <td>0</td>\n",
              "      <td>4</td>\n",
              "      <td>0</td>\n",
              "      <td>0</td>\n",
              "      <td>0</td>\n",
              "      <td>0</td>\n",
              "      <td>0</td>\n",
              "      <td>0</td>\n",
              "      <td>0</td>\n",
              "      <td>0</td>\n",
              "      <td>0</td>\n",
              "    </tr>\n",
              "    <tr>\n",
              "      <th>...</th>\n",
              "      <td>...</td>\n",
              "      <td>...</td>\n",
              "      <td>...</td>\n",
              "      <td>...</td>\n",
              "      <td>...</td>\n",
              "      <td>...</td>\n",
              "      <td>...</td>\n",
              "      <td>...</td>\n",
              "      <td>...</td>\n",
              "      <td>...</td>\n",
              "      <td>...</td>\n",
              "      <td>...</td>\n",
              "    </tr>\n",
              "    <tr>\n",
              "      <th>2369393</th>\n",
              "      <td>68</td>\n",
              "      <td>0</td>\n",
              "      <td>8</td>\n",
              "      <td>0</td>\n",
              "      <td>0</td>\n",
              "      <td>0</td>\n",
              "      <td>255</td>\n",
              "      <td>111</td>\n",
              "      <td>0</td>\n",
              "      <td>0</td>\n",
              "      <td>0</td>\n",
              "      <td>0</td>\n",
              "    </tr>\n",
              "    <tr>\n",
              "      <th>2369394</th>\n",
              "      <td>357</td>\n",
              "      <td>0</td>\n",
              "      <td>8</td>\n",
              "      <td>17</td>\n",
              "      <td>232</td>\n",
              "      <td>127</td>\n",
              "      <td>0</td>\n",
              "      <td>0</td>\n",
              "      <td>0</td>\n",
              "      <td>12</td>\n",
              "      <td>138</td>\n",
              "      <td>0</td>\n",
              "    </tr>\n",
              "    <tr>\n",
              "      <th>2369395</th>\n",
              "      <td>688</td>\n",
              "      <td>0</td>\n",
              "      <td>5</td>\n",
              "      <td>35</td>\n",
              "      <td>0</td>\n",
              "      <td>0</td>\n",
              "      <td>7</td>\n",
              "      <td>172</td>\n",
              "      <td>0</td>\n",
              "      <td>0</td>\n",
              "      <td>0</td>\n",
              "      <td>0</td>\n",
              "    </tr>\n",
              "    <tr>\n",
              "      <th>2369396</th>\n",
              "      <td>1200</td>\n",
              "      <td>0</td>\n",
              "      <td>8</td>\n",
              "      <td>0</td>\n",
              "      <td>0</td>\n",
              "      <td>0</td>\n",
              "      <td>0</td>\n",
              "      <td>0</td>\n",
              "      <td>0</td>\n",
              "      <td>0</td>\n",
              "      <td>0</td>\n",
              "      <td>0</td>\n",
              "    </tr>\n",
              "    <tr>\n",
              "      <th>2369397</th>\n",
              "      <td>356</td>\n",
              "      <td>0</td>\n",
              "      <td>8</td>\n",
              "      <td>0</td>\n",
              "      <td>8</td>\n",
              "      <td>0</td>\n",
              "      <td>0</td>\n",
              "      <td>0</td>\n",
              "      <td>0</td>\n",
              "      <td>8</td>\n",
              "      <td>0</td>\n",
              "      <td>0</td>\n",
              "    </tr>\n",
              "  </tbody>\n",
              "</table>\n",
              "<p>2369398 rows × 12 columns</p>\n",
              "</div>"
            ],
            "text/plain": [
              "         CAN ID  RTR  DLC  Data1  Data2  ...  Data5  Data6  Data7  Data8  label\n",
              "0           790    0    8      5     32  ...     32     26      0    127      0\n",
              "1           809    0    8    215    167  ...     17     47      0     16      0\n",
              "2           128    0    8      0     23  ...     32     26     32     67      0\n",
              "3           129    0    8    127    132  ...      0      0      0     83      0\n",
              "4           288    0    4      0      0  ...      0      0      0      0      0\n",
              "...         ...  ...  ...    ...    ...  ...    ...    ...    ...    ...    ...\n",
              "2369393      68    0    8      0      0  ...    111      0      0      0      0\n",
              "2369394     357    0    8     17    232  ...      0      0     12    138      0\n",
              "2369395     688    0    5     35      0  ...    172      0      0      0      0\n",
              "2369396    1200    0    8      0      0  ...      0      0      0      0      0\n",
              "2369397     356    0    8      0      8  ...      0      0      8      0      0\n",
              "\n",
              "[2369398 rows x 12 columns]"
            ]
          },
          "metadata": {
            "tags": []
          },
          "execution_count": 20
        }
      ]
    },
    {
      "cell_type": "markdown",
      "metadata": {
        "id": "0nsmRk_HX9zh"
      },
      "source": [
        "* Here we toss out the timestamp column as in this approach it is not informative about the nature of the outlier.\n",
        "* It also helps us balance out the problems encountered in the previous attack-free and Dos attack experiments.\n",
        "\n",
        "* in the attack free dataset - all the packets were normal data and so had to be labelled with only one value, training a model on single class data does not means it learns anything.\n",
        "\n",
        "* in the Dos Attack experiment, every second message is a dos attack message, leaving the dataset evenly split 50:50 on anomalies/normal network data, but there is not enough contiguous network data for it to learn normal state nor attack state, and as a result it's accuracy is averaging around 50%"
      ]
    },
    {
      "cell_type": "code",
      "metadata": {
        "colab": {
          "base_uri": "https://localhost:8080/",
          "height": 402
        },
        "id": "xSrz-9IfAXPf",
        "outputId": "986a7a90-b8e8-4212-ef69-82f9c35f5a7c"
      },
      "source": [
        "newdf = df.append(dosdf)\r\n",
        "newdf"
      ],
      "execution_count": 21,
      "outputs": [
        {
          "output_type": "execute_result",
          "data": {
            "text/html": [
              "<div>\n",
              "<style scoped>\n",
              "    .dataframe tbody tr th:only-of-type {\n",
              "        vertical-align: middle;\n",
              "    }\n",
              "\n",
              "    .dataframe tbody tr th {\n",
              "        vertical-align: top;\n",
              "    }\n",
              "\n",
              "    .dataframe thead th {\n",
              "        text-align: right;\n",
              "    }\n",
              "</style>\n",
              "<table border=\"1\" class=\"dataframe\">\n",
              "  <thead>\n",
              "    <tr style=\"text-align: right;\">\n",
              "      <th></th>\n",
              "      <th>CAN ID</th>\n",
              "      <th>RTR</th>\n",
              "      <th>DLC</th>\n",
              "      <th>Data1</th>\n",
              "      <th>Data2</th>\n",
              "      <th>Data3</th>\n",
              "      <th>Data4</th>\n",
              "      <th>Data5</th>\n",
              "      <th>Data6</th>\n",
              "      <th>Data7</th>\n",
              "      <th>Data8</th>\n",
              "      <th>label</th>\n",
              "    </tr>\n",
              "  </thead>\n",
              "  <tbody>\n",
              "    <tr>\n",
              "      <th>0</th>\n",
              "      <td>790</td>\n",
              "      <td>0</td>\n",
              "      <td>8</td>\n",
              "      <td>5</td>\n",
              "      <td>32</td>\n",
              "      <td>234</td>\n",
              "      <td>10</td>\n",
              "      <td>32</td>\n",
              "      <td>26</td>\n",
              "      <td>0</td>\n",
              "      <td>127</td>\n",
              "      <td>0</td>\n",
              "    </tr>\n",
              "    <tr>\n",
              "      <th>1</th>\n",
              "      <td>809</td>\n",
              "      <td>0</td>\n",
              "      <td>8</td>\n",
              "      <td>215</td>\n",
              "      <td>167</td>\n",
              "      <td>127</td>\n",
              "      <td>140</td>\n",
              "      <td>17</td>\n",
              "      <td>47</td>\n",
              "      <td>0</td>\n",
              "      <td>16</td>\n",
              "      <td>0</td>\n",
              "    </tr>\n",
              "    <tr>\n",
              "      <th>2</th>\n",
              "      <td>128</td>\n",
              "      <td>0</td>\n",
              "      <td>8</td>\n",
              "      <td>0</td>\n",
              "      <td>23</td>\n",
              "      <td>234</td>\n",
              "      <td>10</td>\n",
              "      <td>32</td>\n",
              "      <td>26</td>\n",
              "      <td>32</td>\n",
              "      <td>67</td>\n",
              "      <td>0</td>\n",
              "    </tr>\n",
              "    <tr>\n",
              "      <th>3</th>\n",
              "      <td>129</td>\n",
              "      <td>0</td>\n",
              "      <td>8</td>\n",
              "      <td>127</td>\n",
              "      <td>132</td>\n",
              "      <td>96</td>\n",
              "      <td>0</td>\n",
              "      <td>0</td>\n",
              "      <td>0</td>\n",
              "      <td>0</td>\n",
              "      <td>83</td>\n",
              "      <td>0</td>\n",
              "    </tr>\n",
              "    <tr>\n",
              "      <th>4</th>\n",
              "      <td>288</td>\n",
              "      <td>0</td>\n",
              "      <td>4</td>\n",
              "      <td>0</td>\n",
              "      <td>0</td>\n",
              "      <td>0</td>\n",
              "      <td>0</td>\n",
              "      <td>0</td>\n",
              "      <td>0</td>\n",
              "      <td>0</td>\n",
              "      <td>0</td>\n",
              "      <td>0</td>\n",
              "    </tr>\n",
              "    <tr>\n",
              "      <th>...</th>\n",
              "      <td>...</td>\n",
              "      <td>...</td>\n",
              "      <td>...</td>\n",
              "      <td>...</td>\n",
              "      <td>...</td>\n",
              "      <td>...</td>\n",
              "      <td>...</td>\n",
              "      <td>...</td>\n",
              "      <td>...</td>\n",
              "      <td>...</td>\n",
              "      <td>...</td>\n",
              "      <td>...</td>\n",
              "    </tr>\n",
              "    <tr>\n",
              "      <th>656574</th>\n",
              "      <td>0</td>\n",
              "      <td>0</td>\n",
              "      <td>8</td>\n",
              "      <td>0</td>\n",
              "      <td>0</td>\n",
              "      <td>0</td>\n",
              "      <td>0</td>\n",
              "      <td>0</td>\n",
              "      <td>0</td>\n",
              "      <td>0</td>\n",
              "      <td>0</td>\n",
              "      <td>1</td>\n",
              "    </tr>\n",
              "    <tr>\n",
              "      <th>656575</th>\n",
              "      <td>129</td>\n",
              "      <td>0</td>\n",
              "      <td>8</td>\n",
              "      <td>64</td>\n",
              "      <td>132</td>\n",
              "      <td>137</td>\n",
              "      <td>0</td>\n",
              "      <td>0</td>\n",
              "      <td>0</td>\n",
              "      <td>0</td>\n",
              "      <td>240</td>\n",
              "      <td>0</td>\n",
              "    </tr>\n",
              "    <tr>\n",
              "      <th>656576</th>\n",
              "      <td>0</td>\n",
              "      <td>0</td>\n",
              "      <td>8</td>\n",
              "      <td>0</td>\n",
              "      <td>0</td>\n",
              "      <td>0</td>\n",
              "      <td>0</td>\n",
              "      <td>0</td>\n",
              "      <td>0</td>\n",
              "      <td>0</td>\n",
              "      <td>0</td>\n",
              "      <td>1</td>\n",
              "    </tr>\n",
              "    <tr>\n",
              "      <th>656577</th>\n",
              "      <td>399</td>\n",
              "      <td>0</td>\n",
              "      <td>8</td>\n",
              "      <td>0</td>\n",
              "      <td>59</td>\n",
              "      <td>24</td>\n",
              "      <td>0</td>\n",
              "      <td>0</td>\n",
              "      <td>63</td>\n",
              "      <td>0</td>\n",
              "      <td>0</td>\n",
              "      <td>0</td>\n",
              "    </tr>\n",
              "    <tr>\n",
              "      <th>656578</th>\n",
              "      <td>0</td>\n",
              "      <td>0</td>\n",
              "      <td>8</td>\n",
              "      <td>0</td>\n",
              "      <td>0</td>\n",
              "      <td>0</td>\n",
              "      <td>0</td>\n",
              "      <td>0</td>\n",
              "      <td>0</td>\n",
              "      <td>0</td>\n",
              "      <td>0</td>\n",
              "      <td>1</td>\n",
              "    </tr>\n",
              "  </tbody>\n",
              "</table>\n",
              "<p>3025977 rows × 12 columns</p>\n",
              "</div>"
            ],
            "text/plain": [
              "        CAN ID  RTR  DLC  Data1  Data2  ...  Data5  Data6  Data7  Data8  label\n",
              "0          790    0    8      5     32  ...     32     26      0    127      0\n",
              "1          809    0    8    215    167  ...     17     47      0     16      0\n",
              "2          128    0    8      0     23  ...     32     26     32     67      0\n",
              "3          129    0    8    127    132  ...      0      0      0     83      0\n",
              "4          288    0    4      0      0  ...      0      0      0      0      0\n",
              "...        ...  ...  ...    ...    ...  ...    ...    ...    ...    ...    ...\n",
              "656574       0    0    8      0      0  ...      0      0      0      0      1\n",
              "656575     129    0    8     64    132  ...      0      0      0    240      0\n",
              "656576       0    0    8      0      0  ...      0      0      0      0      1\n",
              "656577     399    0    8      0     59  ...      0     63      0      0      0\n",
              "656578       0    0    8      0      0  ...      0      0      0      0      1\n",
              "\n",
              "[3025977 rows x 12 columns]"
            ]
          },
          "metadata": {
            "tags": []
          },
          "execution_count": 21
        }
      ]
    },
    {
      "cell_type": "code",
      "metadata": {
        "colab": {
          "base_uri": "https://localhost:8080/",
          "height": 136
        },
        "id": "snE3lrDjSwcm",
        "outputId": "60fd4943-31d4-49cd-dfeb-be9cfbdaee68"
      },
      "source": [
        "newdf.groupby('label').count()"
      ],
      "execution_count": 22,
      "outputs": [
        {
          "output_type": "execute_result",
          "data": {
            "text/html": [
              "<div>\n",
              "<style scoped>\n",
              "    .dataframe tbody tr th:only-of-type {\n",
              "        vertical-align: middle;\n",
              "    }\n",
              "\n",
              "    .dataframe tbody tr th {\n",
              "        vertical-align: top;\n",
              "    }\n",
              "\n",
              "    .dataframe thead th {\n",
              "        text-align: right;\n",
              "    }\n",
              "</style>\n",
              "<table border=\"1\" class=\"dataframe\">\n",
              "  <thead>\n",
              "    <tr style=\"text-align: right;\">\n",
              "      <th></th>\n",
              "      <th>CAN ID</th>\n",
              "      <th>RTR</th>\n",
              "      <th>DLC</th>\n",
              "      <th>Data1</th>\n",
              "      <th>Data2</th>\n",
              "      <th>Data3</th>\n",
              "      <th>Data4</th>\n",
              "      <th>Data5</th>\n",
              "      <th>Data6</th>\n",
              "      <th>Data7</th>\n",
              "      <th>Data8</th>\n",
              "    </tr>\n",
              "    <tr>\n",
              "      <th>label</th>\n",
              "      <th></th>\n",
              "      <th></th>\n",
              "      <th></th>\n",
              "      <th></th>\n",
              "      <th></th>\n",
              "      <th></th>\n",
              "      <th></th>\n",
              "      <th></th>\n",
              "      <th></th>\n",
              "      <th></th>\n",
              "      <th></th>\n",
              "    </tr>\n",
              "  </thead>\n",
              "  <tbody>\n",
              "    <tr>\n",
              "      <th>0</th>\n",
              "      <td>2690353</td>\n",
              "      <td>2690353</td>\n",
              "      <td>2690353</td>\n",
              "      <td>2690353</td>\n",
              "      <td>2690353</td>\n",
              "      <td>2690353</td>\n",
              "      <td>2690353</td>\n",
              "      <td>2690353</td>\n",
              "      <td>2690353</td>\n",
              "      <td>2690353</td>\n",
              "      <td>2690353</td>\n",
              "    </tr>\n",
              "    <tr>\n",
              "      <th>1</th>\n",
              "      <td>335624</td>\n",
              "      <td>335624</td>\n",
              "      <td>335624</td>\n",
              "      <td>335624</td>\n",
              "      <td>335624</td>\n",
              "      <td>335624</td>\n",
              "      <td>335624</td>\n",
              "      <td>335624</td>\n",
              "      <td>335624</td>\n",
              "      <td>335624</td>\n",
              "      <td>335624</td>\n",
              "    </tr>\n",
              "  </tbody>\n",
              "</table>\n",
              "</div>"
            ],
            "text/plain": [
              "        CAN ID      RTR      DLC    Data1  ...    Data5    Data6    Data7    Data8\n",
              "label                                      ...                                    \n",
              "0      2690353  2690353  2690353  2690353  ...  2690353  2690353  2690353  2690353\n",
              "1       335624   335624   335624   335624  ...   335624   335624   335624   335624\n",
              "\n",
              "[2 rows x 11 columns]"
            ]
          },
          "metadata": {
            "tags": []
          },
          "execution_count": 22
        }
      ]
    },
    {
      "cell_type": "code",
      "metadata": {
        "colab": {
          "base_uri": "https://localhost:8080/"
        },
        "id": "e8VcGP7ES1qJ",
        "outputId": "2b74aa77-4108-474e-d34e-d56a4c30a54b"
      },
      "source": [
        "335624/2690353"
      ],
      "execution_count": 23,
      "outputs": [
        {
          "output_type": "execute_result",
          "data": {
            "text/plain": [
              "0.1247509155861703"
            ]
          },
          "metadata": {
            "tags": []
          },
          "execution_count": 23
        }
      ]
    },
    {
      "cell_type": "markdown",
      "metadata": {
        "id": "B_m80mpPBLmm"
      },
      "source": [
        "### Train-test-split\r\n",
        "\r\n"
      ]
    },
    {
      "cell_type": "code",
      "metadata": {
        "colab": {
          "base_uri": "https://localhost:8080/"
        },
        "id": "hOu1uoDEBQ90",
        "outputId": "d5ee49cf-861b-44aa-a7ff-74ed5318ea85"
      },
      "source": [
        "newdf=newdf.sample(frac=1,random_state=200) #random state is a seed value 200 \r\n",
        "\r\n",
        "series = newdf.to_numpy()\r\n",
        "series = series[ : , :, np.newaxis] \r\n",
        "print(series.shape)\r\n",
        "\r\n",
        "n_features = series.shape[1]\r\n",
        "train_split = int(series.shape[0]*0.7)\r\n",
        "print(f'train split : {train_split}')\r\n",
        "\r\n",
        "val_split = int(series.shape[0]*0.8)\r\n",
        "\r\n",
        "X_train, y_train = series[:train_split, :n_features-1], series[:train_split, -1] # -1 references the last column\r\n",
        "X_valid, y_valid = series[train_split:val_split, :n_features-1], series[train_split:val_split, -1]\r\n",
        "X_test, y_test = series[val_split:, :n_features-1], series[val_split:, -1]\r\n"
      ],
      "execution_count": 50,
      "outputs": [
        {
          "output_type": "stream",
          "text": [
            "(3025977, 12, 1)\n",
            "train split : 2118183\n"
          ],
          "name": "stdout"
        }
      ]
    },
    {
      "cell_type": "code",
      "metadata": {
        "colab": {
          "base_uri": "https://localhost:8080/",
          "height": 136
        },
        "id": "7Vcp8k7RCmv4",
        "outputId": "03d14ba4-92f2-44c9-ec21-800334cb341b"
      },
      "source": [
        "#X_train stats\r\n",
        "newdf[:train_split].groupby('label').count()"
      ],
      "execution_count": 53,
      "outputs": [
        {
          "output_type": "execute_result",
          "data": {
            "text/html": [
              "<div>\n",
              "<style scoped>\n",
              "    .dataframe tbody tr th:only-of-type {\n",
              "        vertical-align: middle;\n",
              "    }\n",
              "\n",
              "    .dataframe tbody tr th {\n",
              "        vertical-align: top;\n",
              "    }\n",
              "\n",
              "    .dataframe thead th {\n",
              "        text-align: right;\n",
              "    }\n",
              "</style>\n",
              "<table border=\"1\" class=\"dataframe\">\n",
              "  <thead>\n",
              "    <tr style=\"text-align: right;\">\n",
              "      <th></th>\n",
              "      <th>CAN ID</th>\n",
              "      <th>RTR</th>\n",
              "      <th>DLC</th>\n",
              "      <th>Data1</th>\n",
              "      <th>Data2</th>\n",
              "      <th>Data3</th>\n",
              "      <th>Data4</th>\n",
              "      <th>Data5</th>\n",
              "      <th>Data6</th>\n",
              "      <th>Data7</th>\n",
              "      <th>Data8</th>\n",
              "    </tr>\n",
              "    <tr>\n",
              "      <th>label</th>\n",
              "      <th></th>\n",
              "      <th></th>\n",
              "      <th></th>\n",
              "      <th></th>\n",
              "      <th></th>\n",
              "      <th></th>\n",
              "      <th></th>\n",
              "      <th></th>\n",
              "      <th></th>\n",
              "      <th></th>\n",
              "      <th></th>\n",
              "    </tr>\n",
              "  </thead>\n",
              "  <tbody>\n",
              "    <tr>\n",
              "      <th>0</th>\n",
              "      <td>1883438</td>\n",
              "      <td>1883438</td>\n",
              "      <td>1883438</td>\n",
              "      <td>1883438</td>\n",
              "      <td>1883438</td>\n",
              "      <td>1883438</td>\n",
              "      <td>1883438</td>\n",
              "      <td>1883438</td>\n",
              "      <td>1883438</td>\n",
              "      <td>1883438</td>\n",
              "      <td>1883438</td>\n",
              "    </tr>\n",
              "    <tr>\n",
              "      <th>1</th>\n",
              "      <td>234745</td>\n",
              "      <td>234745</td>\n",
              "      <td>234745</td>\n",
              "      <td>234745</td>\n",
              "      <td>234745</td>\n",
              "      <td>234745</td>\n",
              "      <td>234745</td>\n",
              "      <td>234745</td>\n",
              "      <td>234745</td>\n",
              "      <td>234745</td>\n",
              "      <td>234745</td>\n",
              "    </tr>\n",
              "  </tbody>\n",
              "</table>\n",
              "</div>"
            ],
            "text/plain": [
              "        CAN ID      RTR      DLC    Data1  ...    Data5    Data6    Data7    Data8\n",
              "label                                      ...                                    \n",
              "0      1883438  1883438  1883438  1883438  ...  1883438  1883438  1883438  1883438\n",
              "1       234745   234745   234745   234745  ...   234745   234745   234745   234745\n",
              "\n",
              "[2 rows x 11 columns]"
            ]
          },
          "metadata": {
            "tags": []
          },
          "execution_count": 53
        }
      ]
    },
    {
      "cell_type": "code",
      "metadata": {
        "colab": {
          "base_uri": "https://localhost:8080/",
          "height": 136
        },
        "id": "4nfqMnmT832U",
        "outputId": "8775217c-2077-4b0e-e204-8b9e03110e39"
      },
      "source": [
        "#X_valid split\r\n",
        "newdf[train_split:val_split].groupby('label').count()"
      ],
      "execution_count": 55,
      "outputs": [
        {
          "output_type": "execute_result",
          "data": {
            "text/html": [
              "<div>\n",
              "<style scoped>\n",
              "    .dataframe tbody tr th:only-of-type {\n",
              "        vertical-align: middle;\n",
              "    }\n",
              "\n",
              "    .dataframe tbody tr th {\n",
              "        vertical-align: top;\n",
              "    }\n",
              "\n",
              "    .dataframe thead th {\n",
              "        text-align: right;\n",
              "    }\n",
              "</style>\n",
              "<table border=\"1\" class=\"dataframe\">\n",
              "  <thead>\n",
              "    <tr style=\"text-align: right;\">\n",
              "      <th></th>\n",
              "      <th>CAN ID</th>\n",
              "      <th>RTR</th>\n",
              "      <th>DLC</th>\n",
              "      <th>Data1</th>\n",
              "      <th>Data2</th>\n",
              "      <th>Data3</th>\n",
              "      <th>Data4</th>\n",
              "      <th>Data5</th>\n",
              "      <th>Data6</th>\n",
              "      <th>Data7</th>\n",
              "      <th>Data8</th>\n",
              "    </tr>\n",
              "    <tr>\n",
              "      <th>label</th>\n",
              "      <th></th>\n",
              "      <th></th>\n",
              "      <th></th>\n",
              "      <th></th>\n",
              "      <th></th>\n",
              "      <th></th>\n",
              "      <th></th>\n",
              "      <th></th>\n",
              "      <th></th>\n",
              "      <th></th>\n",
              "      <th></th>\n",
              "    </tr>\n",
              "  </thead>\n",
              "  <tbody>\n",
              "    <tr>\n",
              "      <th>0</th>\n",
              "      <td>269110</td>\n",
              "      <td>269110</td>\n",
              "      <td>269110</td>\n",
              "      <td>269110</td>\n",
              "      <td>269110</td>\n",
              "      <td>269110</td>\n",
              "      <td>269110</td>\n",
              "      <td>269110</td>\n",
              "      <td>269110</td>\n",
              "      <td>269110</td>\n",
              "      <td>269110</td>\n",
              "    </tr>\n",
              "    <tr>\n",
              "      <th>1</th>\n",
              "      <td>33488</td>\n",
              "      <td>33488</td>\n",
              "      <td>33488</td>\n",
              "      <td>33488</td>\n",
              "      <td>33488</td>\n",
              "      <td>33488</td>\n",
              "      <td>33488</td>\n",
              "      <td>33488</td>\n",
              "      <td>33488</td>\n",
              "      <td>33488</td>\n",
              "      <td>33488</td>\n",
              "    </tr>\n",
              "  </tbody>\n",
              "</table>\n",
              "</div>"
            ],
            "text/plain": [
              "       CAN ID     RTR     DLC   Data1  ...   Data5   Data6   Data7   Data8\n",
              "label                                  ...                                \n",
              "0      269110  269110  269110  269110  ...  269110  269110  269110  269110\n",
              "1       33488   33488   33488   33488  ...   33488   33488   33488   33488\n",
              "\n",
              "[2 rows x 11 columns]"
            ]
          },
          "metadata": {
            "tags": []
          },
          "execution_count": 55
        }
      ]
    },
    {
      "cell_type": "code",
      "metadata": {
        "colab": {
          "base_uri": "https://localhost:8080/",
          "height": 136
        },
        "id": "pCMxK-IjJdjf",
        "outputId": "4df17ee3-757b-42de-ff95-2bdcf4fa282e"
      },
      "source": [
        "#X_test\r\n",
        "newdf[val_split:].groupby('label').count()"
      ],
      "execution_count": 56,
      "outputs": [
        {
          "output_type": "execute_result",
          "data": {
            "text/html": [
              "<div>\n",
              "<style scoped>\n",
              "    .dataframe tbody tr th:only-of-type {\n",
              "        vertical-align: middle;\n",
              "    }\n",
              "\n",
              "    .dataframe tbody tr th {\n",
              "        vertical-align: top;\n",
              "    }\n",
              "\n",
              "    .dataframe thead th {\n",
              "        text-align: right;\n",
              "    }\n",
              "</style>\n",
              "<table border=\"1\" class=\"dataframe\">\n",
              "  <thead>\n",
              "    <tr style=\"text-align: right;\">\n",
              "      <th></th>\n",
              "      <th>CAN ID</th>\n",
              "      <th>RTR</th>\n",
              "      <th>DLC</th>\n",
              "      <th>Data1</th>\n",
              "      <th>Data2</th>\n",
              "      <th>Data3</th>\n",
              "      <th>Data4</th>\n",
              "      <th>Data5</th>\n",
              "      <th>Data6</th>\n",
              "      <th>Data7</th>\n",
              "      <th>Data8</th>\n",
              "    </tr>\n",
              "    <tr>\n",
              "      <th>label</th>\n",
              "      <th></th>\n",
              "      <th></th>\n",
              "      <th></th>\n",
              "      <th></th>\n",
              "      <th></th>\n",
              "      <th></th>\n",
              "      <th></th>\n",
              "      <th></th>\n",
              "      <th></th>\n",
              "      <th></th>\n",
              "      <th></th>\n",
              "    </tr>\n",
              "  </thead>\n",
              "  <tbody>\n",
              "    <tr>\n",
              "      <th>0</th>\n",
              "      <td>537805</td>\n",
              "      <td>537805</td>\n",
              "      <td>537805</td>\n",
              "      <td>537805</td>\n",
              "      <td>537805</td>\n",
              "      <td>537805</td>\n",
              "      <td>537805</td>\n",
              "      <td>537805</td>\n",
              "      <td>537805</td>\n",
              "      <td>537805</td>\n",
              "      <td>537805</td>\n",
              "    </tr>\n",
              "    <tr>\n",
              "      <th>1</th>\n",
              "      <td>67391</td>\n",
              "      <td>67391</td>\n",
              "      <td>67391</td>\n",
              "      <td>67391</td>\n",
              "      <td>67391</td>\n",
              "      <td>67391</td>\n",
              "      <td>67391</td>\n",
              "      <td>67391</td>\n",
              "      <td>67391</td>\n",
              "      <td>67391</td>\n",
              "      <td>67391</td>\n",
              "    </tr>\n",
              "  </tbody>\n",
              "</table>\n",
              "</div>"
            ],
            "text/plain": [
              "       CAN ID     RTR     DLC   Data1  ...   Data5   Data6   Data7   Data8\n",
              "label                                  ...                                \n",
              "0      537805  537805  537805  537805  ...  537805  537805  537805  537805\n",
              "1       67391   67391   67391   67391  ...   67391   67391   67391   67391\n",
              "\n",
              "[2 rows x 11 columns]"
            ]
          },
          "metadata": {
            "tags": []
          },
          "execution_count": 56
        }
      ]
    },
    {
      "cell_type": "code",
      "metadata": {
        "colab": {
          "base_uri": "https://localhost:8080/"
        },
        "id": "NP3lwXt_UHXG",
        "outputId": "a7c2546f-7e41-4d69-a6b7-8fed79b4b6b8"
      },
      "source": [
        "13446/380976"
      ],
      "execution_count": 57,
      "outputs": [
        {
          "output_type": "execute_result",
          "data": {
            "text/plain": [
              "0.035293561799168455"
            ]
          },
          "metadata": {
            "tags": []
          },
          "execution_count": 57
        }
      ]
    },
    {
      "cell_type": "code",
      "metadata": {
        "id": "q6rLf0vdNcS9"
      },
      "source": [
        "def threedimensionalize(dataframe):\r\n",
        "    tempdf = dataframe.to_numpy()\r\n",
        "    if(len(dataframe.shape) == 2):\r\n",
        "        return tempdf[:,:,np.newaxis]\r\n",
        "    if(len(dataframe.shape) == 1):\r\n",
        "        return tempdf[:,np.newaxis]"
      ],
      "execution_count": 58,
      "outputs": []
    },
    {
      "cell_type": "code",
      "metadata": {
        "id": "ifh8yuKjNeB9"
      },
      "source": [
        "# X_train = threedimensionalize(X_train)\r\n",
        "# y_train = threedimensionalize(y_train)\r\n",
        "# X_test = threedimensionalize(X_test)\r\n",
        "# y_test = threedimensionalize(y_test)"
      ],
      "execution_count": 59,
      "outputs": []
    },
    {
      "cell_type": "code",
      "metadata": {
        "colab": {
          "base_uri": "https://localhost:8080/"
        },
        "id": "0IWRneaKKefp",
        "outputId": "aa5bed2b-c78f-4757-f062-886083d49cf6"
      },
      "source": [
        "X_train.shape, y_train.shape, X_test.shape, y_test.shape"
      ],
      "execution_count": 60,
      "outputs": [
        {
          "output_type": "execute_result",
          "data": {
            "text/plain": [
              "((2118183, 11, 1), (2118183, 1), (605196, 11, 1), (605196, 1))"
            ]
          },
          "metadata": {
            "tags": []
          },
          "execution_count": 60
        }
      ]
    },
    {
      "cell_type": "markdown",
      "metadata": {
        "id": "p2lPIAP0KJnf"
      },
      "source": [
        "### Vanilla LSTM Model"
      ]
    },
    {
      "cell_type": "code",
      "metadata": {
        "colab": {
          "base_uri": "https://localhost:8080/"
        },
        "id": "CbQ3S0qvK3bz",
        "outputId": "0802b6ef-ed14-4ea0-e56c-5a3d1e6c2984"
      },
      "source": [
        "rnnmodel = keras.models.Sequential([\n",
        "    keras.layers.LSTM(100,input_shape=[X_train.shape[1],1]),\n",
        "    keras.layers.Flatten(),\n",
        "    keras.layers.Dense(2, activation='relu')\n",
        "])\n",
        "rnnmodel.compile(optimizer='adam',\n",
        "              loss=tf.keras.losses.SparseCategoricalCrossentropy(),\n",
        "              metrics=['accuracy'])\n",
        "print(rnnmodel.summary())"
      ],
      "execution_count": 61,
      "outputs": [
        {
          "output_type": "stream",
          "text": [
            "Model: \"sequential_1\"\n",
            "_________________________________________________________________\n",
            "Layer (type)                 Output Shape              Param #   \n",
            "=================================================================\n",
            "lstm_1 (LSTM)                (None, 100)               40800     \n",
            "_________________________________________________________________\n",
            "flatten_1 (Flatten)          (None, 100)               0         \n",
            "_________________________________________________________________\n",
            "dense_1 (Dense)              (None, 2)                 202       \n",
            "=================================================================\n",
            "Total params: 41,002\n",
            "Trainable params: 41,002\n",
            "Non-trainable params: 0\n",
            "_________________________________________________________________\n",
            "None\n"
          ],
          "name": "stdout"
        }
      ]
    },
    {
      "cell_type": "code",
      "metadata": {
        "colab": {
          "base_uri": "https://localhost:8080/",
          "height": 422
        },
        "id": "NeevQ4j1K3cC",
        "outputId": "58746651-8043-4991-cdec-a78b92ea1ace"
      },
      "source": [
        "tf.keras.utils.plot_model(rnnmodel,show_shapes=True)"
      ],
      "execution_count": 62,
      "outputs": [
        {
          "output_type": "execute_result",
          "data": {
            "image/png": "[encoded data removed]",
            "text/plain": [
              "<IPython.core.display.Image object>"
            ]
          },
          "metadata": {
            "tags": []
          },
          "execution_count": 62
        }
      ]
    },
    {
      "cell_type": "code",
      "metadata": {
        "colab": {
          "base_uri": "https://localhost:8080/"
        },
        "id": "AswaA9urKHOy",
        "outputId": "53af2d6e-c639-48dc-84bf-968264e32aba"
      },
      "source": [
        "early_stop=keras.callbacks.EarlyStopping(monitor='loss',patience=10)\r\n",
        "\r\n",
        "rnnhistory = rnnmodel.fit(X_train,y_train,\r\n",
        "                          epochs=5,\r\n",
        "                          batch_size=1028,\r\n",
        "                          validation_data=(X_valid,y_valid),\r\n",
        "                          callbacks=[early_stop])"
      ],
      "execution_count": 63,
      "outputs": [
        {
          "output_type": "stream",
          "text": [
            "Epoch 1/5\n",
            "2061/2061 [==============================] - 11s 5ms/step - loss: 0.0085 - accuracy: 0.9980 - val_loss: 1.8753e-07 - val_accuracy: 1.0000\n",
            "Epoch 2/5\n",
            "2061/2061 [==============================] - 10s 5ms/step - loss: 1.8714e-07 - accuracy: 1.0000 - val_loss: 1.8753e-07 - val_accuracy: 1.0000\n",
            "Epoch 3/5\n",
            "2061/2061 [==============================] - 10s 5ms/step - loss: 1.8712e-07 - accuracy: 1.0000 - val_loss: 1.8742e-07 - val_accuracy: 1.0000\n",
            "Epoch 4/5\n",
            "2061/2061 [==============================] - 10s 5ms/step - loss: 1.8700e-07 - accuracy: 1.0000 - val_loss: 1.8734e-07 - val_accuracy: 1.0000\n",
            "Epoch 5/5\n",
            "2061/2061 [==============================] - 10s 5ms/step - loss: 1.7631e-07 - accuracy: 1.0000 - val_loss: 1.6003e-07 - val_accuracy: 1.0000\n"
          ],
          "name": "stdout"
        }
      ]
    },
    {
      "cell_type": "markdown",
      "metadata": {
        "id": "0g9wY-iOKHO4"
      },
      "source": [
        "### Evaluation and plotting\r\n"
      ]
    },
    {
      "cell_type": "code",
      "metadata": {
        "colab": {
          "base_uri": "https://localhost:8080/"
        },
        "id": "m8E0f4vZKHO4",
        "outputId": "34dd98a4-eba0-48b4-a6fe-72e16b3c7fe6"
      },
      "source": [
        "scores = rnnmodel.evaluate(X_test,y_test)\n",
        "print(f\"Accuracy: {scores[1]}\")"
      ],
      "execution_count": 64,
      "outputs": [
        {
          "output_type": "stream",
          "text": [
            "18913/18913 [==============================] - 45s 2ms/step - loss: 1.5987e-07 - accuracy: 1.0000\n",
            "Accuracy: 1.0\n"
          ],
          "name": "stdout"
        }
      ]
    },
    {
      "cell_type": "markdown",
      "metadata": {
        "id": "zqByFwJPn24G"
      },
      "source": [
        "## Bias Dataset Learning effect\r\n",
        "\r\n",
        "this is perfectly explainable as the classifier only learning one class, the normal class and not the anomaly class as the proportion of normal to anomaly is 96.5 : 3.5 and that is exactly our accuracy. \r\n",
        "\r\n",
        "We try to solve this below by over sampling the dataset using SMOTE from sklearn in hopes of augmenting the dataset to balance it out better."
      ]
    },
    {
      "cell_type": "code",
      "metadata": {
        "colab": {
          "base_uri": "https://localhost:8080/",
          "height": 323
        },
        "id": "4OrjJU4zKHO4",
        "outputId": "90a0d108-1911-4dab-a318-1ff02cf058a4"
      },
      "source": [
        "plt.subplot(1,2,1)\n",
        "plt.plot(rnnhistory.history[\"loss\"])\n",
        "plt.plot(rnnhistory.history[\"val_loss\"])\n",
        "plt.legend(('loss','val_loss'))\n",
        "plt.subplot(1,2,2)\n",
        "plt.plot(rnnhistory.history[\"accuracy\"])\n",
        "plt.plot(rnnhistory.history[\"val_accuracy\"])\n",
        "plt.legend(('acc','val_acc'))\n",
        "\n",
        "plt.gcf().set_size_inches((10,5))\n",
        "plt.show()"
      ],
      "execution_count": 65,
      "outputs": [
        {
          "output_type": "display_data",
          "data": {
            "image/png": "[encoded data removed]",
            "text/plain": [
              "<Figure size 720x360 with 2 Axes>"
            ]
          },
          "metadata": {
            "tags": [],
            "needs_background": "light"
          }
        }
      ]
    },
    {
      "cell_type": "code",
      "metadata": {
        "colab": {
          "base_uri": "https://localhost:8080/"
        },
        "id": "pyrI8_afKHO5",
        "outputId": "21f0ab2c-d84d-4ca4-a6a2-2dfe328813cd"
      },
      "source": [
        "y_pred = rnnmodel.predict(X_test)\r\n",
        "y_pred"
      ],
      "execution_count": 66,
      "outputs": [
        {
          "output_type": "execute_result",
          "data": {
            "text/plain": [
              "array([[1.693617 , 0.       ],\n",
              "       [1.3252966, 0.       ],\n",
              "       [1.6726537, 0.       ],\n",
              "       ...,\n",
              "       [1.6594574, 0.       ],\n",
              "       [1.7043512, 0.       ],\n",
              "       [1.4681766, 0.       ]], dtype=float32)"
            ]
          },
          "metadata": {
            "tags": []
          },
          "execution_count": 66
        }
      ]
    },
    {
      "cell_type": "code",
      "metadata": {
        "colab": {
          "base_uri": "https://localhost:8080/"
        },
        "id": "01B4JEqhR_6Y",
        "outputId": "bfe97c92-4837-46e2-8b17-69586de1a8cc"
      },
      "source": [
        "classes = [np.argmax(i) for i in y_pred]\r\n",
        "classes[:20]"
      ],
      "execution_count": 67,
      "outputs": [
        {
          "output_type": "execute_result",
          "data": {
            "text/plain": [
              "[0,\n",
              " 0,\n",
              " 0,\n",
              " 0,\n",
              " 1,\n",
              " 1,\n",
              " 0,\n",
              " 0,\n",
              " 0,\n",
              " 0,\n",
              " 0,\n",
              " 0,\n",
              " 0,\n",
              " 0,\n",
              " 0,\n",
              " 0,\n",
              " 1,\n",
              " 0,\n",
              " 0,\n",
              " 0,\n",
              " 0,\n",
              " 0,\n",
              " 0,\n",
              " 0,\n",
              " 0,\n",
              " 0,\n",
              " 0,\n",
              " 0,\n",
              " 0,\n",
              " 0]"
            ]
          },
          "metadata": {
            "tags": []
          },
          "execution_count": 67
        }
      ]
    },
    {
      "cell_type": "code",
      "metadata": {
        "colab": {
          "base_uri": "https://localhost:8080/"
        },
        "id": "hLX3ip-LS-J4",
        "outputId": "e05d939c-8d15-49ed-a678-5330c8e1eaf4"
      },
      "source": [
        "np.unique(classes)"
      ],
      "execution_count": 68,
      "outputs": [
        {
          "output_type": "execute_result",
          "data": {
            "text/plain": [
              "array([0, 1])"
            ]
          },
          "metadata": {
            "tags": []
          },
          "execution_count": 68
        }
      ]
    },
    {
      "cell_type": "code",
      "metadata": {
        "colab": {
          "base_uri": "https://localhost:8080/"
        },
        "id": "XjhFqIKQKHO5",
        "outputId": "262e8062-bfe6-4d9e-e8f3-79e58bfecdc4"
      },
      "source": [
        "X_test[30],y_test[30], np.argmax(y_pred[30])"
      ],
      "execution_count": 69,
      "outputs": [
        {
          "output_type": "execute_result",
          "data": {
            "text/plain": [
              "(array([[357],\n",
              "        [  0],\n",
              "        [  8],\n",
              "        [  8],\n",
              "        [  8],\n",
              "        [128],\n",
              "        [  0],\n",
              "        [  0],\n",
              "        [  0],\n",
              "        [  7],\n",
              "        [135]]), array([0]), 0)"
            ]
          },
          "metadata": {
            "tags": []
          },
          "execution_count": 69
        }
      ]
    },
    {
      "cell_type": "code",
      "metadata": {
        "colab": {
          "base_uri": "https://localhost:8080/"
        },
        "id": "O6lksornA4Ti",
        "outputId": "8a5ec8e0-5c19-4e62-8d20-b2754afda778"
      },
      "source": [
        "recall_score(y_test,classes)"
      ],
      "execution_count": 75,
      "outputs": [
        {
          "output_type": "execute_result",
          "data": {
            "text/plain": [
              "1.0"
            ]
          },
          "metadata": {
            "tags": []
          },
          "execution_count": 75
        }
      ]
    },
    {
      "cell_type": "markdown",
      "metadata": {
        "id": "5jCd8ZNpKHO5"
      },
      "source": [
        "### Saving and Checking the size of the Model"
      ]
    },
    {
      "cell_type": "code",
      "metadata": {
        "colab": {
          "base_uri": "https://localhost:8080/"
        },
        "id": "UjG-rFVRKHO5",
        "outputId": "a503fff1-6b5a-4779-9c91-66a8b8c8eec8"
      },
      "source": [
        "saved_model_dir = '/content/drive/MyDrive/Colab Notebooks/CS581/project-data/'\r\n",
        "rnnmodel.save(saved_model_dir + \"lstm-combinedmodel.h5\",include_optimizer=False)\r\n",
        "print(f\"Saving Model to: {saved_model_dir}lstm-combinedmodel.h5\")"
      ],
      "execution_count": 73,
      "outputs": [
        {
          "output_type": "stream",
          "text": [
            "Saving Model to: /content/drive/MyDrive/Colab Notebooks/CS581/project-data/lstm-combinedmodel.h5\n"
          ],
          "name": "stdout"
        }
      ]
    },
    {
      "cell_type": "code",
      "metadata": {
        "colab": {
          "base_uri": "https://localhost:8080/"
        },
        "id": "2GlTD-CFKHO5",
        "outputId": "a6986f0e-2a6b-4ef0-846c-8f03d6d52d3c"
      },
      "source": [
        "print(f'Size of the model without compression: {os.path.getsize(saved_model_dir + \"lstm-combinedmodel.h5\")/float(2**20)} Mb')"
      ],
      "execution_count": 74,
      "outputs": [
        {
          "output_type": "stream",
          "text": [
            "Size of the model without compression: 0.17336273193359375 Mb\n"
          ],
          "name": "stdout"
        }
      ]
    },
    {
      "cell_type": "markdown",
      "metadata": {
        "id": "NHIeKFC9oSxT"
      },
      "source": [
        "### Oversampling the biased dataset for balanced anomaly-outlier classes\r\n"
      ]
    },
    {
      "cell_type": "code",
      "metadata": {
        "id": "t6yT8mri1Tyh"
      },
      "source": [
        "from sklearn.metrics import recall_score\r\n",
        "from imblearn.over_sampling import SMOTE"
      ],
      "execution_count": 72,
      "outputs": []
    },
    {
      "cell_type": "code",
      "metadata": {
        "colab": {
          "base_uri": "https://localhost:8080/"
        },
        "id": "Ioo8iVU17rxs",
        "outputId": "24cfe3b8-3991-429d-d6a8-e7326d39b7ac"
      },
      "source": [
        "y_pred = rnnmodel.predict(X_test)\r\n",
        "y_pred"
      ],
      "execution_count": 46,
      "outputs": [
        {
          "output_type": "execute_result",
          "data": {
            "text/plain": [
              "array([[1.7454925 , 0.        ],\n",
              "       [1.4188201 , 0.        ],\n",
              "       [1.53548   , 0.        ],\n",
              "       ...,\n",
              "       [1.2776093 , 0.        ],\n",
              "       [0.29287118, 0.        ],\n",
              "       [1.7911564 , 0.        ]], dtype=float32)"
            ]
          },
          "metadata": {
            "tags": []
          },
          "execution_count": 46
        }
      ]
    },
    {
      "cell_type": "code",
      "metadata": {
        "colab": {
          "base_uri": "https://localhost:8080/"
        },
        "id": "vosZBrzP7rxv",
        "outputId": "87d1b67a-0006-4cd7-aa0a-24b6e86f40eb"
      },
      "source": [
        "classes = [np.argmax(i) for i in y_pred]\r\n",
        "classes[:30]"
      ],
      "execution_count": 47,
      "outputs": [
        {
          "output_type": "execute_result",
          "data": {
            "text/plain": [
              "[0,\n",
              " 0,\n",
              " 0,\n",
              " 0,\n",
              " 0,\n",
              " 0,\n",
              " 0,\n",
              " 0,\n",
              " 0,\n",
              " 0,\n",
              " 0,\n",
              " 0,\n",
              " 0,\n",
              " 0,\n",
              " 0,\n",
              " 0,\n",
              " 0,\n",
              " 0,\n",
              " 0,\n",
              " 0,\n",
              " 0,\n",
              " 0,\n",
              " 0,\n",
              " 0,\n",
              " 0,\n",
              " 0,\n",
              " 0,\n",
              " 0,\n",
              " 0,\n",
              " 0]"
            ]
          },
          "metadata": {
            "tags": []
          },
          "execution_count": 47
        }
      ]
    },
    {
      "cell_type": "code",
      "metadata": {
        "colab": {
          "base_uri": "https://localhost:8080/"
        },
        "id": "7FfkaBUs1Var",
        "outputId": "e7c4c22c-4a41-42c4-a8b4-6f587e117cb2"
      },
      "source": [
        "recall_score(y_test, classes)"
      ],
      "execution_count": 48,
      "outputs": [
        {
          "output_type": "execute_result",
          "data": {
            "text/plain": [
              "0.0"
            ]
          },
          "metadata": {
            "tags": []
          },
          "execution_count": 48
        }
      ]
    },
    {
      "cell_type": "code",
      "metadata": {
        "colab": {
          "base_uri": "https://localhost:8080/"
        },
        "id": "EfbOz4uj7le6",
        "outputId": "2367ad03-cabc-489b-94e7-3999a5597b64"
      },
      "source": [
        "y_pred = rnnmodel.predict(X_train)\r\n",
        "classes = [np.argmax(i) for i in y_pred]\r\n",
        "recall_score(y_train,classes)"
      ],
      "execution_count": 49,
      "outputs": [
        {
          "output_type": "execute_result",
          "data": {
            "text/plain": [
              "0.0"
            ]
          },
          "metadata": {
            "tags": []
          },
          "execution_count": 49
        }
      ]
    },
    {
      "cell_type": "code",
      "metadata": {
        "id": "BbkEryF_8KdD"
      },
      "source": [
        "sm = SMOTE(random_state=12, ratio = 1.0)\r\n",
        "x_train_res, y_train_res = sm.fit_sample(x_train, y_train)"
      ],
      "execution_count": null,
      "outputs": []
    },
    {
      "cell_type": "markdown",
      "metadata": {
        "id": "wJVhVfuHm-qu"
      },
      "source": [
        "## Attack-free + Impersonation Dataset"
      ]
    },
    {
      "cell_type": "code",
      "metadata": {
        "id": "9jaOsopdnCBK"
      },
      "source": [
        ""
      ],
      "execution_count": null,
      "outputs": []
    },
    {
      "cell_type": "markdown",
      "metadata": {
        "id": "HzOnDPG0nCWZ"
      },
      "source": [
        "## Attack-free + Impersonation + DoS datasets"
      ]
    },
    {
      "cell_type": "markdown",
      "metadata": {
        "id": "hUfvDmSInHXP"
      },
      "source": [
        ""
      ]
    },
    {
      "cell_type": "markdown",
      "metadata": {
        "id": "MBsNbnHnO-uL"
      },
      "source": [
        "# END"
      ]
    },
    {
      "cell_type": "code",
      "metadata": {
        "id": "NxF0uhQlO_Xv"
      },
      "source": [
        ""
      ],
      "execution_count": null,
      "outputs": []
    }
  ]
}