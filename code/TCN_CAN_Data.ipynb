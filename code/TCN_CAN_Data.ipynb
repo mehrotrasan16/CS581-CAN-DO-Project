{
  "nbformat": 4,
  "nbformat_minor": 0,
  "metadata": {
    "colab": {
      "name": "TCN - CAN Data.ipynb",
      "provenance": [],
      "collapsed_sections": [
        "FeHnTf8MtHZx"
      ],
      "toc_visible": true,
      "include_colab_link": true
    },
    "kernelspec": {
      "display_name": "Python 3",
      "name": "python3"
    }
  },
  "cells": [
    {
      "cell_type": "markdown",
      "metadata": {
        "id": "view-in-github",
        "colab_type": "text"
      },
      "source": [
        "<a href=\"https://colab.research.google.com/github/mehrotrasan16/CS581-CAN-DO-Project/blob/tcn-baseline/code/TCN_CAN_Data.ipynb\" target=\"_parent\"><img src=\"https://colab.research.google.com/assets/colab-badge.svg\" alt=\"Open In Colab\"/></a>"
      ]
    },
    {
      "cell_type": "markdown",
      "metadata": {
        "id": "E_dRMZNqKWIo"
      },
      "source": [
        "# Imports"
      ]
    },
    {
      "cell_type": "code",
      "metadata": {
        "colab": {
          "base_uri": "https://localhost:8080/"
        },
        "id": "2F5LZZsFjjJD",
        "outputId": "ce714f91-adce-4ad7-d5df-dc3ddcbd1db9"
      },
      "source": [
        "from google.colab import drive\n",
        "drive.mount('/content/drive')"
      ],
      "execution_count": 1,
      "outputs": [
        {
          "output_type": "stream",
          "text": [
            "Mounted at /content/drive\n"
          ],
          "name": "stdout"
        }
      ]
    },
    {
      "cell_type": "code",
      "metadata": {
        "id": "2U6L8DYYKZDF",
        "colab": {
          "base_uri": "https://localhost:8080/"
        },
        "outputId": "bb0dea82-0e42-4b02-894f-dade0b1d3696"
      },
      "source": [
        "import sys\r\n",
        "import sklearn\r\n",
        "import tensorflow as tf\r\n",
        "from tensorflow import keras\r\n",
        "\r\n",
        "import numpy as np\r\n",
        "import pandas as pd\r\n",
        "from numpy import load\r\n",
        "import os\r\n",
        "from sklearn.metrics import recall_score,f1_score\r\n",
        "from imblearn.over_sampling import SMOTE\r\n",
        "\r\n",
        "# to make this notebook's output stable across runs\r\n",
        "np.random.seed(42)\r\n",
        "tf.random.set_seed(42)\r\n",
        "\r\n",
        "# To plot pretty figures\r\n",
        "%matplotlib inline\r\n",
        "import matplotlib as mpl\r\n",
        "import matplotlib.pyplot as plt\r\n",
        "mpl.rc('axes', labelsize=14)\r\n",
        "mpl.rc('xtick', labelsize=12)\r\n",
        "mpl.rc('ytick', labelsize=12)\r\n"
      ],
      "execution_count": 94,
      "outputs": [
        {
          "output_type": "stream",
          "text": [
            "/usr/local/lib/python3.6/dist-packages/sklearn/externals/six.py:31: FutureWarning: The module is deprecated in version 0.21 and will be removed in version 0.23 since we've dropped support for Python 2.7. Please rely on the official version of six (https://pypi.org/project/six/).\n",
            "  \"(https://pypi.org/project/six/).\", FutureWarning)\n",
            "/usr/local/lib/python3.6/dist-packages/sklearn/utils/deprecation.py:144: FutureWarning: The sklearn.neighbors.base module is  deprecated in version 0.22 and will be removed in version 0.24. The corresponding classes / functions should instead be imported from sklearn.neighbors. Anything that cannot be imported from sklearn.neighbors is now part of the private API.\n",
            "  warnings.warn(message, FutureWarning)\n"
          ],
          "name": "stderr"
        }
      ]
    },
    {
      "cell_type": "markdown",
      "metadata": {
        "id": "2oIT-Y4fJ1N7"
      },
      "source": [
        "# Load Datasets"
      ]
    },
    {
      "cell_type": "code",
      "metadata": {
        "colab": {
          "base_uri": "https://localhost:8080/",
          "height": 402
        },
        "id": "NNzE1_NYJlYH",
        "outputId": "fc0b8bd7-8895-4279-eca0-64be22091593"
      },
      "source": [
        "freedf = pd.read_csv('/content/drive/My Drive/Colab Notebooks/CS581/project-data/Attack_free_dataset.csv')\r\n",
        "freedf['label'] = 0\r\n",
        "freedf"
      ],
      "execution_count": 3,
      "outputs": [
        {
          "output_type": "execute_result",
          "data": {
            "text/html": [
              "<div>\n",
              "<style scoped>\n",
              "    .dataframe tbody tr th:only-of-type {\n",
              "        vertical-align: middle;\n",
              "    }\n",
              "\n",
              "    .dataframe tbody tr th {\n",
              "        vertical-align: top;\n",
              "    }\n",
              "\n",
              "    .dataframe thead th {\n",
              "        text-align: right;\n",
              "    }\n",
              "</style>\n",
              "<table border=\"1\" class=\"dataframe\">\n",
              "  <thead>\n",
              "    <tr style=\"text-align: right;\">\n",
              "      <th></th>\n",
              "      <th>Timestamp</th>\n",
              "      <th>CAN ID</th>\n",
              "      <th>RTR</th>\n",
              "      <th>DLC</th>\n",
              "      <th>Data1</th>\n",
              "      <th>Data2</th>\n",
              "      <th>Data3</th>\n",
              "      <th>Data4</th>\n",
              "      <th>Data5</th>\n",
              "      <th>Data6</th>\n",
              "      <th>Data7</th>\n",
              "      <th>Data8</th>\n",
              "      <th>label</th>\n",
              "    </tr>\n",
              "  </thead>\n",
              "  <tbody>\n",
              "    <tr>\n",
              "      <th>0</th>\n",
              "      <td>0.000000</td>\n",
              "      <td>790</td>\n",
              "      <td>0</td>\n",
              "      <td>8</td>\n",
              "      <td>5</td>\n",
              "      <td>32</td>\n",
              "      <td>234</td>\n",
              "      <td>10</td>\n",
              "      <td>32</td>\n",
              "      <td>26</td>\n",
              "      <td>0</td>\n",
              "      <td>127</td>\n",
              "      <td>1</td>\n",
              "    </tr>\n",
              "    <tr>\n",
              "      <th>1</th>\n",
              "      <td>0.000224</td>\n",
              "      <td>809</td>\n",
              "      <td>0</td>\n",
              "      <td>8</td>\n",
              "      <td>215</td>\n",
              "      <td>167</td>\n",
              "      <td>127</td>\n",
              "      <td>140</td>\n",
              "      <td>17</td>\n",
              "      <td>47</td>\n",
              "      <td>0</td>\n",
              "      <td>16</td>\n",
              "      <td>1</td>\n",
              "    </tr>\n",
              "    <tr>\n",
              "      <th>2</th>\n",
              "      <td>0.000462</td>\n",
              "      <td>128</td>\n",
              "      <td>0</td>\n",
              "      <td>8</td>\n",
              "      <td>0</td>\n",
              "      <td>23</td>\n",
              "      <td>234</td>\n",
              "      <td>10</td>\n",
              "      <td>32</td>\n",
              "      <td>26</td>\n",
              "      <td>32</td>\n",
              "      <td>67</td>\n",
              "      <td>1</td>\n",
              "    </tr>\n",
              "    <tr>\n",
              "      <th>3</th>\n",
              "      <td>0.000704</td>\n",
              "      <td>129</td>\n",
              "      <td>0</td>\n",
              "      <td>8</td>\n",
              "      <td>127</td>\n",
              "      <td>132</td>\n",
              "      <td>96</td>\n",
              "      <td>0</td>\n",
              "      <td>0</td>\n",
              "      <td>0</td>\n",
              "      <td>0</td>\n",
              "      <td>83</td>\n",
              "      <td>1</td>\n",
              "    </tr>\n",
              "    <tr>\n",
              "      <th>4</th>\n",
              "      <td>0.000878</td>\n",
              "      <td>288</td>\n",
              "      <td>0</td>\n",
              "      <td>4</td>\n",
              "      <td>0</td>\n",
              "      <td>0</td>\n",
              "      <td>0</td>\n",
              "      <td>0</td>\n",
              "      <td>0</td>\n",
              "      <td>0</td>\n",
              "      <td>0</td>\n",
              "      <td>0</td>\n",
              "      <td>1</td>\n",
              "    </tr>\n",
              "    <tr>\n",
              "      <th>...</th>\n",
              "      <td>...</td>\n",
              "      <td>...</td>\n",
              "      <td>...</td>\n",
              "      <td>...</td>\n",
              "      <td>...</td>\n",
              "      <td>...</td>\n",
              "      <td>...</td>\n",
              "      <td>...</td>\n",
              "      <td>...</td>\n",
              "      <td>...</td>\n",
              "      <td>...</td>\n",
              "      <td>...</td>\n",
              "      <td>...</td>\n",
              "    </tr>\n",
              "    <tr>\n",
              "      <th>2369393</th>\n",
              "      <td>1037.589395</td>\n",
              "      <td>68</td>\n",
              "      <td>0</td>\n",
              "      <td>8</td>\n",
              "      <td>0</td>\n",
              "      <td>0</td>\n",
              "      <td>0</td>\n",
              "      <td>255</td>\n",
              "      <td>111</td>\n",
              "      <td>0</td>\n",
              "      <td>0</td>\n",
              "      <td>0</td>\n",
              "      <td>1</td>\n",
              "    </tr>\n",
              "    <tr>\n",
              "      <th>2369394</th>\n",
              "      <td>1037.589628</td>\n",
              "      <td>357</td>\n",
              "      <td>0</td>\n",
              "      <td>8</td>\n",
              "      <td>17</td>\n",
              "      <td>232</td>\n",
              "      <td>127</td>\n",
              "      <td>0</td>\n",
              "      <td>0</td>\n",
              "      <td>0</td>\n",
              "      <td>12</td>\n",
              "      <td>138</td>\n",
              "      <td>1</td>\n",
              "    </tr>\n",
              "    <tr>\n",
              "      <th>2369395</th>\n",
              "      <td>1037.589812</td>\n",
              "      <td>688</td>\n",
              "      <td>0</td>\n",
              "      <td>5</td>\n",
              "      <td>35</td>\n",
              "      <td>0</td>\n",
              "      <td>0</td>\n",
              "      <td>7</td>\n",
              "      <td>172</td>\n",
              "      <td>0</td>\n",
              "      <td>0</td>\n",
              "      <td>0</td>\n",
              "      <td>1</td>\n",
              "    </tr>\n",
              "    <tr>\n",
              "      <th>2369396</th>\n",
              "      <td>1037.590065</td>\n",
              "      <td>1200</td>\n",
              "      <td>0</td>\n",
              "      <td>8</td>\n",
              "      <td>0</td>\n",
              "      <td>0</td>\n",
              "      <td>0</td>\n",
              "      <td>0</td>\n",
              "      <td>0</td>\n",
              "      <td>0</td>\n",
              "      <td>0</td>\n",
              "      <td>0</td>\n",
              "      <td>1</td>\n",
              "    </tr>\n",
              "    <tr>\n",
              "      <th>2369397</th>\n",
              "      <td>1037.590316</td>\n",
              "      <td>356</td>\n",
              "      <td>0</td>\n",
              "      <td>8</td>\n",
              "      <td>0</td>\n",
              "      <td>8</td>\n",
              "      <td>0</td>\n",
              "      <td>0</td>\n",
              "      <td>0</td>\n",
              "      <td>0</td>\n",
              "      <td>8</td>\n",
              "      <td>0</td>\n",
              "      <td>1</td>\n",
              "    </tr>\n",
              "  </tbody>\n",
              "</table>\n",
              "<p>2369398 rows × 13 columns</p>\n",
              "</div>"
            ],
            "text/plain": [
              "           Timestamp  CAN ID  RTR  DLC  ...  Data6  Data7  Data8  label\n",
              "0           0.000000     790    0    8  ...     26      0    127      1\n",
              "1           0.000224     809    0    8  ...     47      0     16      1\n",
              "2           0.000462     128    0    8  ...     26     32     67      1\n",
              "3           0.000704     129    0    8  ...      0      0     83      1\n",
              "4           0.000878     288    0    4  ...      0      0      0      1\n",
              "...              ...     ...  ...  ...  ...    ...    ...    ...    ...\n",
              "2369393  1037.589395      68    0    8  ...      0      0      0      1\n",
              "2369394  1037.589628     357    0    8  ...      0     12    138      1\n",
              "2369395  1037.589812     688    0    5  ...      0      0      0      1\n",
              "2369396  1037.590065    1200    0    8  ...      0      0      0      1\n",
              "2369397  1037.590316     356    0    8  ...      0      8      0      1\n",
              "\n",
              "[2369398 rows x 13 columns]"
            ]
          },
          "metadata": {
            "tags": []
          },
          "execution_count": 3
        }
      ]
    },
    {
      "cell_type": "code",
      "metadata": {
        "colab": {
          "base_uri": "https://localhost:8080/",
          "height": 106
        },
        "id": "2oQWSOZVLiUF",
        "outputId": "7e0b8d36-07a1-406a-f036-f00351efd2b4"
      },
      "source": [
        "freedf.groupby('label').count()"
      ],
      "execution_count": 4,
      "outputs": [
        {
          "output_type": "execute_result",
          "data": {
            "text/html": [
              "<div>\n",
              "<style scoped>\n",
              "    .dataframe tbody tr th:only-of-type {\n",
              "        vertical-align: middle;\n",
              "    }\n",
              "\n",
              "    .dataframe tbody tr th {\n",
              "        vertical-align: top;\n",
              "    }\n",
              "\n",
              "    .dataframe thead th {\n",
              "        text-align: right;\n",
              "    }\n",
              "</style>\n",
              "<table border=\"1\" class=\"dataframe\">\n",
              "  <thead>\n",
              "    <tr style=\"text-align: right;\">\n",
              "      <th></th>\n",
              "      <th>Timestamp</th>\n",
              "      <th>CAN ID</th>\n",
              "      <th>RTR</th>\n",
              "      <th>DLC</th>\n",
              "      <th>Data1</th>\n",
              "      <th>Data2</th>\n",
              "      <th>Data3</th>\n",
              "      <th>Data4</th>\n",
              "      <th>Data5</th>\n",
              "      <th>Data6</th>\n",
              "      <th>Data7</th>\n",
              "      <th>Data8</th>\n",
              "    </tr>\n",
              "    <tr>\n",
              "      <th>label</th>\n",
              "      <th></th>\n",
              "      <th></th>\n",
              "      <th></th>\n",
              "      <th></th>\n",
              "      <th></th>\n",
              "      <th></th>\n",
              "      <th></th>\n",
              "      <th></th>\n",
              "      <th></th>\n",
              "      <th></th>\n",
              "      <th></th>\n",
              "      <th></th>\n",
              "    </tr>\n",
              "  </thead>\n",
              "  <tbody>\n",
              "    <tr>\n",
              "      <th>1</th>\n",
              "      <td>2369398</td>\n",
              "      <td>2369398</td>\n",
              "      <td>2369398</td>\n",
              "      <td>2369398</td>\n",
              "      <td>2369398</td>\n",
              "      <td>2369398</td>\n",
              "      <td>2369398</td>\n",
              "      <td>2369398</td>\n",
              "      <td>2369398</td>\n",
              "      <td>2369398</td>\n",
              "      <td>2369398</td>\n",
              "      <td>2369398</td>\n",
              "    </tr>\n",
              "  </tbody>\n",
              "</table>\n",
              "</div>"
            ],
            "text/plain": [
              "       Timestamp   CAN ID      RTR      DLC  ...    Data5    Data6    Data7    Data8\n",
              "label                                        ...                                    \n",
              "1        2369398  2369398  2369398  2369398  ...  2369398  2369398  2369398  2369398\n",
              "\n",
              "[1 rows x 12 columns]"
            ]
          },
          "metadata": {
            "tags": []
          },
          "execution_count": 4
        }
      ]
    },
    {
      "cell_type": "code",
      "metadata": {
        "colab": {
          "base_uri": "https://localhost:8080/",
          "height": 402
        },
        "id": "3JKhAGAeKJ7O",
        "outputId": "1678840b-8e7d-4437-e5da-e1b496faa727"
      },
      "source": [
        "dosdf = pd.read_csv('/content/drive/My Drive/Colab Notebooks/CS581/project-data/DoS_attack_dataset.csv')\r\n",
        "dosdf['label'] = np.where(dosdf['CAN ID'] == 0,1,0) #np.where(df['Set']=='Z', 'green', 'red')\r\n",
        "dosdf"
      ],
      "execution_count": 5,
      "outputs": [
        {
          "output_type": "execute_result",
          "data": {
            "text/html": [
              "<div>\n",
              "<style scoped>\n",
              "    .dataframe tbody tr th:only-of-type {\n",
              "        vertical-align: middle;\n",
              "    }\n",
              "\n",
              "    .dataframe tbody tr th {\n",
              "        vertical-align: top;\n",
              "    }\n",
              "\n",
              "    .dataframe thead th {\n",
              "        text-align: right;\n",
              "    }\n",
              "</style>\n",
              "<table border=\"1\" class=\"dataframe\">\n",
              "  <thead>\n",
              "    <tr style=\"text-align: right;\">\n",
              "      <th></th>\n",
              "      <th>Timestamp</th>\n",
              "      <th>CAN ID</th>\n",
              "      <th>RTR</th>\n",
              "      <th>DLC</th>\n",
              "      <th>Data1</th>\n",
              "      <th>Data2</th>\n",
              "      <th>Data3</th>\n",
              "      <th>Data4</th>\n",
              "      <th>Data5</th>\n",
              "      <th>Data6</th>\n",
              "      <th>Data7</th>\n",
              "      <th>Data8</th>\n",
              "      <th>label</th>\n",
              "    </tr>\n",
              "  </thead>\n",
              "  <tbody>\n",
              "    <tr>\n",
              "      <th>0</th>\n",
              "      <td>0.000000</td>\n",
              "      <td>0</td>\n",
              "      <td>0</td>\n",
              "      <td>8</td>\n",
              "      <td>0</td>\n",
              "      <td>0</td>\n",
              "      <td>0</td>\n",
              "      <td>0</td>\n",
              "      <td>0</td>\n",
              "      <td>0</td>\n",
              "      <td>0</td>\n",
              "      <td>0</td>\n",
              "      <td>2</td>\n",
              "    </tr>\n",
              "    <tr>\n",
              "      <th>1</th>\n",
              "      <td>0.000271</td>\n",
              "      <td>128</td>\n",
              "      <td>0</td>\n",
              "      <td>8</td>\n",
              "      <td>0</td>\n",
              "      <td>23</td>\n",
              "      <td>220</td>\n",
              "      <td>9</td>\n",
              "      <td>22</td>\n",
              "      <td>17</td>\n",
              "      <td>22</td>\n",
              "      <td>187</td>\n",
              "      <td>1</td>\n",
              "    </tr>\n",
              "    <tr>\n",
              "      <th>2</th>\n",
              "      <td>0.000495</td>\n",
              "      <td>0</td>\n",
              "      <td>0</td>\n",
              "      <td>8</td>\n",
              "      <td>0</td>\n",
              "      <td>0</td>\n",
              "      <td>0</td>\n",
              "      <td>0</td>\n",
              "      <td>0</td>\n",
              "      <td>0</td>\n",
              "      <td>0</td>\n",
              "      <td>0</td>\n",
              "      <td>2</td>\n",
              "    </tr>\n",
              "    <tr>\n",
              "      <th>3</th>\n",
              "      <td>0.000736</td>\n",
              "      <td>129</td>\n",
              "      <td>0</td>\n",
              "      <td>8</td>\n",
              "      <td>64</td>\n",
              "      <td>132</td>\n",
              "      <td>135</td>\n",
              "      <td>0</td>\n",
              "      <td>0</td>\n",
              "      <td>0</td>\n",
              "      <td>0</td>\n",
              "      <td>107</td>\n",
              "      <td>1</td>\n",
              "    </tr>\n",
              "    <tr>\n",
              "      <th>4</th>\n",
              "      <td>0.000983</td>\n",
              "      <td>0</td>\n",
              "      <td>0</td>\n",
              "      <td>8</td>\n",
              "      <td>0</td>\n",
              "      <td>0</td>\n",
              "      <td>0</td>\n",
              "      <td>0</td>\n",
              "      <td>0</td>\n",
              "      <td>0</td>\n",
              "      <td>0</td>\n",
              "      <td>0</td>\n",
              "      <td>2</td>\n",
              "    </tr>\n",
              "    <tr>\n",
              "      <th>...</th>\n",
              "      <td>...</td>\n",
              "      <td>...</td>\n",
              "      <td>...</td>\n",
              "      <td>...</td>\n",
              "      <td>...</td>\n",
              "      <td>...</td>\n",
              "      <td>...</td>\n",
              "      <td>...</td>\n",
              "      <td>...</td>\n",
              "      <td>...</td>\n",
              "      <td>...</td>\n",
              "      <td>...</td>\n",
              "      <td>...</td>\n",
              "    </tr>\n",
              "    <tr>\n",
              "      <th>656574</th>\n",
              "      <td>306.295869</td>\n",
              "      <td>0</td>\n",
              "      <td>0</td>\n",
              "      <td>8</td>\n",
              "      <td>0</td>\n",
              "      <td>0</td>\n",
              "      <td>0</td>\n",
              "      <td>0</td>\n",
              "      <td>0</td>\n",
              "      <td>0</td>\n",
              "      <td>0</td>\n",
              "      <td>0</td>\n",
              "      <td>2</td>\n",
              "    </tr>\n",
              "    <tr>\n",
              "      <th>656575</th>\n",
              "      <td>306.296118</td>\n",
              "      <td>129</td>\n",
              "      <td>0</td>\n",
              "      <td>8</td>\n",
              "      <td>64</td>\n",
              "      <td>132</td>\n",
              "      <td>137</td>\n",
              "      <td>0</td>\n",
              "      <td>0</td>\n",
              "      <td>0</td>\n",
              "      <td>0</td>\n",
              "      <td>240</td>\n",
              "      <td>1</td>\n",
              "    </tr>\n",
              "    <tr>\n",
              "      <th>656576</th>\n",
              "      <td>306.296365</td>\n",
              "      <td>0</td>\n",
              "      <td>0</td>\n",
              "      <td>8</td>\n",
              "      <td>0</td>\n",
              "      <td>0</td>\n",
              "      <td>0</td>\n",
              "      <td>0</td>\n",
              "      <td>0</td>\n",
              "      <td>0</td>\n",
              "      <td>0</td>\n",
              "      <td>0</td>\n",
              "      <td>2</td>\n",
              "    </tr>\n",
              "    <tr>\n",
              "      <th>656577</th>\n",
              "      <td>306.296624</td>\n",
              "      <td>399</td>\n",
              "      <td>0</td>\n",
              "      <td>8</td>\n",
              "      <td>0</td>\n",
              "      <td>59</td>\n",
              "      <td>24</td>\n",
              "      <td>0</td>\n",
              "      <td>0</td>\n",
              "      <td>63</td>\n",
              "      <td>0</td>\n",
              "      <td>0</td>\n",
              "      <td>1</td>\n",
              "    </tr>\n",
              "    <tr>\n",
              "      <th>656578</th>\n",
              "      <td>306.296857</td>\n",
              "      <td>0</td>\n",
              "      <td>0</td>\n",
              "      <td>8</td>\n",
              "      <td>0</td>\n",
              "      <td>0</td>\n",
              "      <td>0</td>\n",
              "      <td>0</td>\n",
              "      <td>0</td>\n",
              "      <td>0</td>\n",
              "      <td>0</td>\n",
              "      <td>0</td>\n",
              "      <td>2</td>\n",
              "    </tr>\n",
              "  </tbody>\n",
              "</table>\n",
              "<p>656579 rows × 13 columns</p>\n",
              "</div>"
            ],
            "text/plain": [
              "         Timestamp  CAN ID  RTR  DLC  Data1  ...  Data5  Data6  Data7  Data8  label\n",
              "0         0.000000       0    0    8      0  ...      0      0      0      0      2\n",
              "1         0.000271     128    0    8      0  ...     22     17     22    187      1\n",
              "2         0.000495       0    0    8      0  ...      0      0      0      0      2\n",
              "3         0.000736     129    0    8     64  ...      0      0      0    107      1\n",
              "4         0.000983       0    0    8      0  ...      0      0      0      0      2\n",
              "...            ...     ...  ...  ...    ...  ...    ...    ...    ...    ...    ...\n",
              "656574  306.295869       0    0    8      0  ...      0      0      0      0      2\n",
              "656575  306.296118     129    0    8     64  ...      0      0      0    240      1\n",
              "656576  306.296365       0    0    8      0  ...      0      0      0      0      2\n",
              "656577  306.296624     399    0    8      0  ...      0     63      0      0      1\n",
              "656578  306.296857       0    0    8      0  ...      0      0      0      0      2\n",
              "\n",
              "[656579 rows x 13 columns]"
            ]
          },
          "metadata": {
            "tags": []
          },
          "execution_count": 5
        }
      ]
    },
    {
      "cell_type": "code",
      "metadata": {
        "colab": {
          "base_uri": "https://localhost:8080/",
          "height": 136
        },
        "id": "SksUn46-LVpu",
        "outputId": "437abc7d-6f76-4669-d85b-30d251660213"
      },
      "source": [
        "dosdf.groupby('label').count()"
      ],
      "execution_count": 6,
      "outputs": [
        {
          "output_type": "execute_result",
          "data": {
            "text/html": [
              "<div>\n",
              "<style scoped>\n",
              "    .dataframe tbody tr th:only-of-type {\n",
              "        vertical-align: middle;\n",
              "    }\n",
              "\n",
              "    .dataframe tbody tr th {\n",
              "        vertical-align: top;\n",
              "    }\n",
              "\n",
              "    .dataframe thead th {\n",
              "        text-align: right;\n",
              "    }\n",
              "</style>\n",
              "<table border=\"1\" class=\"dataframe\">\n",
              "  <thead>\n",
              "    <tr style=\"text-align: right;\">\n",
              "      <th></th>\n",
              "      <th>Timestamp</th>\n",
              "      <th>CAN ID</th>\n",
              "      <th>RTR</th>\n",
              "      <th>DLC</th>\n",
              "      <th>Data1</th>\n",
              "      <th>Data2</th>\n",
              "      <th>Data3</th>\n",
              "      <th>Data4</th>\n",
              "      <th>Data5</th>\n",
              "      <th>Data6</th>\n",
              "      <th>Data7</th>\n",
              "      <th>Data8</th>\n",
              "    </tr>\n",
              "    <tr>\n",
              "      <th>label</th>\n",
              "      <th></th>\n",
              "      <th></th>\n",
              "      <th></th>\n",
              "      <th></th>\n",
              "      <th></th>\n",
              "      <th></th>\n",
              "      <th></th>\n",
              "      <th></th>\n",
              "      <th></th>\n",
              "      <th></th>\n",
              "      <th></th>\n",
              "      <th></th>\n",
              "    </tr>\n",
              "  </thead>\n",
              "  <tbody>\n",
              "    <tr>\n",
              "      <th>1</th>\n",
              "      <td>320955</td>\n",
              "      <td>320955</td>\n",
              "      <td>320955</td>\n",
              "      <td>320955</td>\n",
              "      <td>320955</td>\n",
              "      <td>320955</td>\n",
              "      <td>320955</td>\n",
              "      <td>320955</td>\n",
              "      <td>320955</td>\n",
              "      <td>320955</td>\n",
              "      <td>320955</td>\n",
              "      <td>320955</td>\n",
              "    </tr>\n",
              "    <tr>\n",
              "      <th>2</th>\n",
              "      <td>335624</td>\n",
              "      <td>335624</td>\n",
              "      <td>335624</td>\n",
              "      <td>335624</td>\n",
              "      <td>335624</td>\n",
              "      <td>335624</td>\n",
              "      <td>335624</td>\n",
              "      <td>335624</td>\n",
              "      <td>335624</td>\n",
              "      <td>335624</td>\n",
              "      <td>335624</td>\n",
              "      <td>335624</td>\n",
              "    </tr>\n",
              "  </tbody>\n",
              "</table>\n",
              "</div>"
            ],
            "text/plain": [
              "       Timestamp  CAN ID     RTR     DLC  ...   Data5   Data6   Data7   Data8\n",
              "label                                     ...                                \n",
              "1         320955  320955  320955  320955  ...  320955  320955  320955  320955\n",
              "2         335624  335624  335624  335624  ...  335624  335624  335624  335624\n",
              "\n",
              "[2 rows x 12 columns]"
            ]
          },
          "metadata": {
            "tags": []
          },
          "execution_count": 6
        }
      ]
    },
    {
      "cell_type": "code",
      "metadata": {
        "colab": {
          "base_uri": "https://localhost:8080/",
          "height": 402
        },
        "id": "Qt8NTR8aKt0b",
        "outputId": "65cbb472-1255-4b52-a2cf-f6a42da83b66"
      },
      "source": [
        "fuzzydf = pd.read_csv('/content/drive/My Drive/Colab Notebooks/CS581/project-data/Fuzzy_attack_dataset.csv')\r\n",
        "fuzzydf"
      ],
      "execution_count": 7,
      "outputs": [
        {
          "output_type": "execute_result",
          "data": {
            "text/html": [
              "<div>\n",
              "<style scoped>\n",
              "    .dataframe tbody tr th:only-of-type {\n",
              "        vertical-align: middle;\n",
              "    }\n",
              "\n",
              "    .dataframe tbody tr th {\n",
              "        vertical-align: top;\n",
              "    }\n",
              "\n",
              "    .dataframe thead th {\n",
              "        text-align: right;\n",
              "    }\n",
              "</style>\n",
              "<table border=\"1\" class=\"dataframe\">\n",
              "  <thead>\n",
              "    <tr style=\"text-align: right;\">\n",
              "      <th></th>\n",
              "      <th>Timestamp</th>\n",
              "      <th>CAN ID</th>\n",
              "      <th>RTR</th>\n",
              "      <th>DLC</th>\n",
              "      <th>Data1</th>\n",
              "      <th>Data2</th>\n",
              "      <th>Data3</th>\n",
              "      <th>Data4</th>\n",
              "      <th>Data5</th>\n",
              "      <th>Data6</th>\n",
              "      <th>Data7</th>\n",
              "      <th>Data8</th>\n",
              "    </tr>\n",
              "  </thead>\n",
              "  <tbody>\n",
              "    <tr>\n",
              "      <th>0</th>\n",
              "      <td>0.000000</td>\n",
              "      <td>544</td>\n",
              "      <td>0</td>\n",
              "      <td>8</td>\n",
              "      <td>41</td>\n",
              "      <td>197</td>\n",
              "      <td>38</td>\n",
              "      <td>85</td>\n",
              "      <td>106</td>\n",
              "      <td>103</td>\n",
              "      <td>2</td>\n",
              "      <td>93</td>\n",
              "    </tr>\n",
              "    <tr>\n",
              "      <th>1</th>\n",
              "      <td>0.000868</td>\n",
              "      <td>1201</td>\n",
              "      <td>0</td>\n",
              "      <td>8</td>\n",
              "      <td>94</td>\n",
              "      <td>81</td>\n",
              "      <td>207</td>\n",
              "      <td>183</td>\n",
              "      <td>76</td>\n",
              "      <td>153</td>\n",
              "      <td>170</td>\n",
              "      <td>151</td>\n",
              "    </tr>\n",
              "    <tr>\n",
              "      <th>2</th>\n",
              "      <td>0.001212</td>\n",
              "      <td>688</td>\n",
              "      <td>0</td>\n",
              "      <td>5</td>\n",
              "      <td>58</td>\n",
              "      <td>255</td>\n",
              "      <td>0</td>\n",
              "      <td>7</td>\n",
              "      <td>44</td>\n",
              "      <td>0</td>\n",
              "      <td>0</td>\n",
              "      <td>0</td>\n",
              "    </tr>\n",
              "    <tr>\n",
              "      <th>3</th>\n",
              "      <td>0.001452</td>\n",
              "      <td>357</td>\n",
              "      <td>0</td>\n",
              "      <td>8</td>\n",
              "      <td>0</td>\n",
              "      <td>8</td>\n",
              "      <td>128</td>\n",
              "      <td>2</td>\n",
              "      <td>0</td>\n",
              "      <td>0</td>\n",
              "      <td>12</td>\n",
              "      <td>134</td>\n",
              "    </tr>\n",
              "    <tr>\n",
              "      <th>4</th>\n",
              "      <td>0.001782</td>\n",
              "      <td>544</td>\n",
              "      <td>0</td>\n",
              "      <td>8</td>\n",
              "      <td>212</td>\n",
              "      <td>166</td>\n",
              "      <td>227</td>\n",
              "      <td>169</td>\n",
              "      <td>35</td>\n",
              "      <td>170</td>\n",
              "      <td>211</td>\n",
              "      <td>31</td>\n",
              "    </tr>\n",
              "    <tr>\n",
              "      <th>...</th>\n",
              "      <td>...</td>\n",
              "      <td>...</td>\n",
              "      <td>...</td>\n",
              "      <td>...</td>\n",
              "      <td>...</td>\n",
              "      <td>...</td>\n",
              "      <td>...</td>\n",
              "      <td>...</td>\n",
              "      <td>...</td>\n",
              "      <td>...</td>\n",
              "      <td>...</td>\n",
              "      <td>...</td>\n",
              "    </tr>\n",
              "    <tr>\n",
              "      <th>591985</th>\n",
              "      <td>347.330224</td>\n",
              "      <td>339</td>\n",
              "      <td>0</td>\n",
              "      <td>8</td>\n",
              "      <td>0</td>\n",
              "      <td>161</td>\n",
              "      <td>32</td>\n",
              "      <td>255</td>\n",
              "      <td>0</td>\n",
              "      <td>255</td>\n",
              "      <td>32</td>\n",
              "      <td>223</td>\n",
              "    </tr>\n",
              "    <tr>\n",
              "      <th>591986</th>\n",
              "      <td>347.330461</td>\n",
              "      <td>544</td>\n",
              "      <td>0</td>\n",
              "      <td>8</td>\n",
              "      <td>192</td>\n",
              "      <td>3</td>\n",
              "      <td>245</td>\n",
              "      <td>3</td>\n",
              "      <td>12</td>\n",
              "      <td>0</td>\n",
              "      <td>71</td>\n",
              "      <td>16</td>\n",
              "    </tr>\n",
              "    <tr>\n",
              "      <th>591987</th>\n",
              "      <td>347.330678</td>\n",
              "      <td>1440</td>\n",
              "      <td>0</td>\n",
              "      <td>8</td>\n",
              "      <td>166</td>\n",
              "      <td>32</td>\n",
              "      <td>82</td>\n",
              "      <td>109</td>\n",
              "      <td>167</td>\n",
              "      <td>238</td>\n",
              "      <td>124</td>\n",
              "      <td>226</td>\n",
              "    </tr>\n",
              "    <tr>\n",
              "      <th>591988</th>\n",
              "      <td>347.331050</td>\n",
              "      <td>1442</td>\n",
              "      <td>0</td>\n",
              "      <td>8</td>\n",
              "      <td>238</td>\n",
              "      <td>34</td>\n",
              "      <td>248</td>\n",
              "      <td>11</td>\n",
              "      <td>91</td>\n",
              "      <td>131</td>\n",
              "      <td>153</td>\n",
              "      <td>171</td>\n",
              "    </tr>\n",
              "    <tr>\n",
              "      <th>591989</th>\n",
              "      <td>347.331739</td>\n",
              "      <td>1440</td>\n",
              "      <td>0</td>\n",
              "      <td>8</td>\n",
              "      <td>171</td>\n",
              "      <td>143</td>\n",
              "      <td>126</td>\n",
              "      <td>105</td>\n",
              "      <td>152</td>\n",
              "      <td>85</td>\n",
              "      <td>122</td>\n",
              "      <td>144</td>\n",
              "    </tr>\n",
              "  </tbody>\n",
              "</table>\n",
              "<p>591990 rows × 12 columns</p>\n",
              "</div>"
            ],
            "text/plain": [
              "         Timestamp  CAN ID  RTR  DLC  Data1  ...  Data4  Data5  Data6  Data7  Data8\n",
              "0         0.000000     544    0    8     41  ...     85    106    103      2     93\n",
              "1         0.000868    1201    0    8     94  ...    183     76    153    170    151\n",
              "2         0.001212     688    0    5     58  ...      7     44      0      0      0\n",
              "3         0.001452     357    0    8      0  ...      2      0      0     12    134\n",
              "4         0.001782     544    0    8    212  ...    169     35    170    211     31\n",
              "...            ...     ...  ...  ...    ...  ...    ...    ...    ...    ...    ...\n",
              "591985  347.330224     339    0    8      0  ...    255      0    255     32    223\n",
              "591986  347.330461     544    0    8    192  ...      3     12      0     71     16\n",
              "591987  347.330678    1440    0    8    166  ...    109    167    238    124    226\n",
              "591988  347.331050    1442    0    8    238  ...     11     91    131    153    171\n",
              "591989  347.331739    1440    0    8    171  ...    105    152     85    122    144\n",
              "\n",
              "[591990 rows x 12 columns]"
            ]
          },
          "metadata": {
            "tags": []
          },
          "execution_count": 7
        }
      ]
    },
    {
      "cell_type": "code",
      "metadata": {
        "colab": {
          "base_uri": "https://localhost:8080/",
          "height": 402
        },
        "id": "ZQmTm4lFK_a9",
        "outputId": "bf964478-d5f3-4d48-9ee3-8ca978777f4b"
      },
      "source": [
        "impersonatedf = pd.read_csv('/content/drive/My Drive/Colab Notebooks/CS581/project-data/Impersonation_attack_dataset.csv')\r\n",
        "impersonatedf['label'] = np.where(impersonatedf['CAN ID'] == 356,1,0) \r\n",
        "impersonatedf"
      ],
      "execution_count": 28,
      "outputs": [
        {
          "output_type": "execute_result",
          "data": {
            "text/html": [
              "<div>\n",
              "<style scoped>\n",
              "    .dataframe tbody tr th:only-of-type {\n",
              "        vertical-align: middle;\n",
              "    }\n",
              "\n",
              "    .dataframe tbody tr th {\n",
              "        vertical-align: top;\n",
              "    }\n",
              "\n",
              "    .dataframe thead th {\n",
              "        text-align: right;\n",
              "    }\n",
              "</style>\n",
              "<table border=\"1\" class=\"dataframe\">\n",
              "  <thead>\n",
              "    <tr style=\"text-align: right;\">\n",
              "      <th></th>\n",
              "      <th>Timestamp</th>\n",
              "      <th>CAN ID</th>\n",
              "      <th>RTR</th>\n",
              "      <th>DLC</th>\n",
              "      <th>Data1</th>\n",
              "      <th>Data2</th>\n",
              "      <th>Data3</th>\n",
              "      <th>Data4</th>\n",
              "      <th>Data5</th>\n",
              "      <th>Data6</th>\n",
              "      <th>Data7</th>\n",
              "      <th>Data8</th>\n",
              "      <th>label</th>\n",
              "    </tr>\n",
              "  </thead>\n",
              "  <tbody>\n",
              "    <tr>\n",
              "      <th>0</th>\n",
              "      <td>1.481193e+09</td>\n",
              "      <td>1415</td>\n",
              "      <td>0</td>\n",
              "      <td>8</td>\n",
              "      <td>0</td>\n",
              "      <td>0</td>\n",
              "      <td>0</td>\n",
              "      <td>0</td>\n",
              "      <td>0</td>\n",
              "      <td>0</td>\n",
              "      <td>0</td>\n",
              "      <td>1</td>\n",
              "      <td>0</td>\n",
              "    </tr>\n",
              "    <tr>\n",
              "      <th>1</th>\n",
              "      <td>1.481193e+09</td>\n",
              "      <td>790</td>\n",
              "      <td>0</td>\n",
              "      <td>8</td>\n",
              "      <td>5</td>\n",
              "      <td>28</td>\n",
              "      <td>106</td>\n",
              "      <td>10</td>\n",
              "      <td>28</td>\n",
              "      <td>19</td>\n",
              "      <td>0</td>\n",
              "      <td>127</td>\n",
              "      <td>0</td>\n",
              "    </tr>\n",
              "    <tr>\n",
              "      <th>2</th>\n",
              "      <td>1.481193e+09</td>\n",
              "      <td>399</td>\n",
              "      <td>0</td>\n",
              "      <td>8</td>\n",
              "      <td>0</td>\n",
              "      <td>33</td>\n",
              "      <td>28</td>\n",
              "      <td>0</td>\n",
              "      <td>0</td>\n",
              "      <td>67</td>\n",
              "      <td>0</td>\n",
              "      <td>0</td>\n",
              "      <td>0</td>\n",
              "    </tr>\n",
              "    <tr>\n",
              "      <th>3</th>\n",
              "      <td>1.481193e+09</td>\n",
              "      <td>608</td>\n",
              "      <td>0</td>\n",
              "      <td>8</td>\n",
              "      <td>5</td>\n",
              "      <td>28</td>\n",
              "      <td>0</td>\n",
              "      <td>48</td>\n",
              "      <td>255</td>\n",
              "      <td>147</td>\n",
              "      <td>99</td>\n",
              "      <td>53</td>\n",
              "      <td>0</td>\n",
              "    </tr>\n",
              "    <tr>\n",
              "      <th>4</th>\n",
              "      <td>1.481193e+09</td>\n",
              "      <td>128</td>\n",
              "      <td>0</td>\n",
              "      <td>8</td>\n",
              "      <td>0</td>\n",
              "      <td>23</td>\n",
              "      <td>106</td>\n",
              "      <td>10</td>\n",
              "      <td>28</td>\n",
              "      <td>19</td>\n",
              "      <td>28</td>\n",
              "      <td>31</td>\n",
              "      <td>0</td>\n",
              "    </tr>\n",
              "    <tr>\n",
              "      <th>...</th>\n",
              "      <td>...</td>\n",
              "      <td>...</td>\n",
              "      <td>...</td>\n",
              "      <td>...</td>\n",
              "      <td>...</td>\n",
              "      <td>...</td>\n",
              "      <td>...</td>\n",
              "      <td>...</td>\n",
              "      <td>...</td>\n",
              "      <td>...</td>\n",
              "      <td>...</td>\n",
              "      <td>...</td>\n",
              "      <td>...</td>\n",
              "    </tr>\n",
              "    <tr>\n",
              "      <th>995467</th>\n",
              "      <td>1.481193e+09</td>\n",
              "      <td>1508</td>\n",
              "      <td>0</td>\n",
              "      <td>3</td>\n",
              "      <td>0</td>\n",
              "      <td>2</td>\n",
              "      <td>0</td>\n",
              "      <td>0</td>\n",
              "      <td>0</td>\n",
              "      <td>0</td>\n",
              "      <td>0</td>\n",
              "      <td>0</td>\n",
              "      <td>0</td>\n",
              "    </tr>\n",
              "    <tr>\n",
              "      <th>995468</th>\n",
              "      <td>1.481193e+09</td>\n",
              "      <td>339</td>\n",
              "      <td>0</td>\n",
              "      <td>8</td>\n",
              "      <td>0</td>\n",
              "      <td>128</td>\n",
              "      <td>16</td>\n",
              "      <td>255</td>\n",
              "      <td>0</td>\n",
              "      <td>255</td>\n",
              "      <td>160</td>\n",
              "      <td>46</td>\n",
              "      <td>0</td>\n",
              "    </tr>\n",
              "    <tr>\n",
              "      <th>995469</th>\n",
              "      <td>1.481193e+09</td>\n",
              "      <td>357</td>\n",
              "      <td>0</td>\n",
              "      <td>8</td>\n",
              "      <td>14</td>\n",
              "      <td>216</td>\n",
              "      <td>127</td>\n",
              "      <td>0</td>\n",
              "      <td>0</td>\n",
              "      <td>0</td>\n",
              "      <td>3</td>\n",
              "      <td>170</td>\n",
              "      <td>0</td>\n",
              "    </tr>\n",
              "    <tr>\n",
              "      <th>995470</th>\n",
              "      <td>1.481193e+09</td>\n",
              "      <td>544</td>\n",
              "      <td>0</td>\n",
              "      <td>8</td>\n",
              "      <td>244</td>\n",
              "      <td>3</td>\n",
              "      <td>247</td>\n",
              "      <td>3</td>\n",
              "      <td>12</td>\n",
              "      <td>0</td>\n",
              "      <td>58</td>\n",
              "      <td>16</td>\n",
              "      <td>0</td>\n",
              "    </tr>\n",
              "    <tr>\n",
              "      <th>995471</th>\n",
              "      <td>1.481193e+09</td>\n",
              "      <td>688</td>\n",
              "      <td>0</td>\n",
              "      <td>5</td>\n",
              "      <td>115</td>\n",
              "      <td>0</td>\n",
              "      <td>0</td>\n",
              "      <td>7</td>\n",
              "      <td>3</td>\n",
              "      <td>0</td>\n",
              "      <td>0</td>\n",
              "      <td>0</td>\n",
              "      <td>0</td>\n",
              "    </tr>\n",
              "  </tbody>\n",
              "</table>\n",
              "<p>995472 rows × 13 columns</p>\n",
              "</div>"
            ],
            "text/plain": [
              "           Timestamp  CAN ID  RTR  DLC  ...  Data6  Data7  Data8  label\n",
              "0       1.481193e+09    1415    0    8  ...      0      0      1      0\n",
              "1       1.481193e+09     790    0    8  ...     19      0    127      0\n",
              "2       1.481193e+09     399    0    8  ...     67      0      0      0\n",
              "3       1.481193e+09     608    0    8  ...    147     99     53      0\n",
              "4       1.481193e+09     128    0    8  ...     19     28     31      0\n",
              "...              ...     ...  ...  ...  ...    ...    ...    ...    ...\n",
              "995467  1.481193e+09    1508    0    3  ...      0      0      0      0\n",
              "995468  1.481193e+09     339    0    8  ...    255    160     46      0\n",
              "995469  1.481193e+09     357    0    8  ...      0      3    170      0\n",
              "995470  1.481193e+09     544    0    8  ...      0     58     16      0\n",
              "995471  1.481193e+09     688    0    5  ...      0      0      0      0\n",
              "\n",
              "[995472 rows x 13 columns]"
            ]
          },
          "metadata": {
            "tags": []
          },
          "execution_count": 28
        }
      ]
    },
    {
      "cell_type": "code",
      "metadata": {
        "colab": {
          "base_uri": "https://localhost:8080/",
          "height": 153
        },
        "id": "9JICe22SMbbV",
        "outputId": "d5fe464f-790f-49d0-c0c8-eb493f6ebb52"
      },
      "source": [
        "print(int('0x164',base=16))\r\n",
        "impersonatedf.groupby('label').count()"
      ],
      "execution_count": 29,
      "outputs": [
        {
          "output_type": "stream",
          "text": [
            "356\n"
          ],
          "name": "stdout"
        },
        {
          "output_type": "execute_result",
          "data": {
            "text/html": [
              "<div>\n",
              "<style scoped>\n",
              "    .dataframe tbody tr th:only-of-type {\n",
              "        vertical-align: middle;\n",
              "    }\n",
              "\n",
              "    .dataframe tbody tr th {\n",
              "        vertical-align: top;\n",
              "    }\n",
              "\n",
              "    .dataframe thead th {\n",
              "        text-align: right;\n",
              "    }\n",
              "</style>\n",
              "<table border=\"1\" class=\"dataframe\">\n",
              "  <thead>\n",
              "    <tr style=\"text-align: right;\">\n",
              "      <th></th>\n",
              "      <th>Timestamp</th>\n",
              "      <th>CAN ID</th>\n",
              "      <th>RTR</th>\n",
              "      <th>DLC</th>\n",
              "      <th>Data1</th>\n",
              "      <th>Data2</th>\n",
              "      <th>Data3</th>\n",
              "      <th>Data4</th>\n",
              "      <th>Data5</th>\n",
              "      <th>Data6</th>\n",
              "      <th>Data7</th>\n",
              "      <th>Data8</th>\n",
              "    </tr>\n",
              "    <tr>\n",
              "      <th>label</th>\n",
              "      <th></th>\n",
              "      <th></th>\n",
              "      <th></th>\n",
              "      <th></th>\n",
              "      <th></th>\n",
              "      <th></th>\n",
              "      <th></th>\n",
              "      <th></th>\n",
              "      <th></th>\n",
              "      <th></th>\n",
              "      <th></th>\n",
              "      <th></th>\n",
              "    </tr>\n",
              "  </thead>\n",
              "  <tbody>\n",
              "    <tr>\n",
              "      <th>0</th>\n",
              "      <td>938000</td>\n",
              "      <td>938000</td>\n",
              "      <td>938000</td>\n",
              "      <td>938000</td>\n",
              "      <td>938000</td>\n",
              "      <td>938000</td>\n",
              "      <td>938000</td>\n",
              "      <td>938000</td>\n",
              "      <td>938000</td>\n",
              "      <td>938000</td>\n",
              "      <td>938000</td>\n",
              "      <td>938000</td>\n",
              "    </tr>\n",
              "    <tr>\n",
              "      <th>1</th>\n",
              "      <td>57472</td>\n",
              "      <td>57472</td>\n",
              "      <td>57472</td>\n",
              "      <td>57472</td>\n",
              "      <td>57472</td>\n",
              "      <td>57472</td>\n",
              "      <td>57472</td>\n",
              "      <td>57472</td>\n",
              "      <td>57472</td>\n",
              "      <td>57472</td>\n",
              "      <td>57472</td>\n",
              "      <td>57472</td>\n",
              "    </tr>\n",
              "  </tbody>\n",
              "</table>\n",
              "</div>"
            ],
            "text/plain": [
              "       Timestamp  CAN ID     RTR     DLC  ...   Data5   Data6   Data7   Data8\n",
              "label                                     ...                                \n",
              "0         938000  938000  938000  938000  ...  938000  938000  938000  938000\n",
              "1          57472   57472   57472   57472  ...   57472   57472   57472   57472\n",
              "\n",
              "[2 rows x 12 columns]"
            ]
          },
          "metadata": {
            "tags": []
          },
          "execution_count": 29
        }
      ]
    },
    {
      "cell_type": "markdown",
      "metadata": {
        "id": "QXEsTphkjw4r"
      },
      "source": [
        "IN the above datasets, we have also added labels where possible, to try a supervised learning experiment."
      ]
    },
    {
      "cell_type": "markdown",
      "metadata": {
        "id": "jvSYpwDUPA-9"
      },
      "source": [
        "### Combining Attack-free + DoS datasets \r\n",
        " Here we work with the Attack-Free and DoS Datasets to get one less biased and slightly better distributed dataset to train and test on."
      ]
    },
    {
      "cell_type": "code",
      "metadata": {
        "id": "gOdwFcP6PHOq",
        "colab": {
          "base_uri": "https://localhost:8080/",
          "height": 402
        },
        "outputId": "641d98bd-2afd-4aec-9099-9ef9d0c29742"
      },
      "source": [
        "dosdf = pd.read_csv('/content/drive/My Drive/Colab Notebooks/CS581/project-data/DoS_attack_dataset.csv')\n",
        "dosdf['label'] = np.where(dosdf['CAN ID'] == 0,1,0)\n",
        "dosdf = dosdf.drop(labels=['Timestamp'],axis=1)\n",
        "dosdf"
      ],
      "execution_count": 44,
      "outputs": [
        {
          "output_type": "execute_result",
          "data": {
            "text/html": [
              "<div>\n",
              "<style scoped>\n",
              "    .dataframe tbody tr th:only-of-type {\n",
              "        vertical-align: middle;\n",
              "    }\n",
              "\n",
              "    .dataframe tbody tr th {\n",
              "        vertical-align: top;\n",
              "    }\n",
              "\n",
              "    .dataframe thead th {\n",
              "        text-align: right;\n",
              "    }\n",
              "</style>\n",
              "<table border=\"1\" class=\"dataframe\">\n",
              "  <thead>\n",
              "    <tr style=\"text-align: right;\">\n",
              "      <th></th>\n",
              "      <th>CAN ID</th>\n",
              "      <th>RTR</th>\n",
              "      <th>DLC</th>\n",
              "      <th>Data1</th>\n",
              "      <th>Data2</th>\n",
              "      <th>Data3</th>\n",
              "      <th>Data4</th>\n",
              "      <th>Data5</th>\n",
              "      <th>Data6</th>\n",
              "      <th>Data7</th>\n",
              "      <th>Data8</th>\n",
              "      <th>label</th>\n",
              "    </tr>\n",
              "  </thead>\n",
              "  <tbody>\n",
              "    <tr>\n",
              "      <th>0</th>\n",
              "      <td>0</td>\n",
              "      <td>0</td>\n",
              "      <td>8</td>\n",
              "      <td>0</td>\n",
              "      <td>0</td>\n",
              "      <td>0</td>\n",
              "      <td>0</td>\n",
              "      <td>0</td>\n",
              "      <td>0</td>\n",
              "      <td>0</td>\n",
              "      <td>0</td>\n",
              "      <td>1</td>\n",
              "    </tr>\n",
              "    <tr>\n",
              "      <th>1</th>\n",
              "      <td>128</td>\n",
              "      <td>0</td>\n",
              "      <td>8</td>\n",
              "      <td>0</td>\n",
              "      <td>23</td>\n",
              "      <td>220</td>\n",
              "      <td>9</td>\n",
              "      <td>22</td>\n",
              "      <td>17</td>\n",
              "      <td>22</td>\n",
              "      <td>187</td>\n",
              "      <td>0</td>\n",
              "    </tr>\n",
              "    <tr>\n",
              "      <th>2</th>\n",
              "      <td>0</td>\n",
              "      <td>0</td>\n",
              "      <td>8</td>\n",
              "      <td>0</td>\n",
              "      <td>0</td>\n",
              "      <td>0</td>\n",
              "      <td>0</td>\n",
              "      <td>0</td>\n",
              "      <td>0</td>\n",
              "      <td>0</td>\n",
              "      <td>0</td>\n",
              "      <td>1</td>\n",
              "    </tr>\n",
              "    <tr>\n",
              "      <th>3</th>\n",
              "      <td>129</td>\n",
              "      <td>0</td>\n",
              "      <td>8</td>\n",
              "      <td>64</td>\n",
              "      <td>132</td>\n",
              "      <td>135</td>\n",
              "      <td>0</td>\n",
              "      <td>0</td>\n",
              "      <td>0</td>\n",
              "      <td>0</td>\n",
              "      <td>107</td>\n",
              "      <td>0</td>\n",
              "    </tr>\n",
              "    <tr>\n",
              "      <th>4</th>\n",
              "      <td>0</td>\n",
              "      <td>0</td>\n",
              "      <td>8</td>\n",
              "      <td>0</td>\n",
              "      <td>0</td>\n",
              "      <td>0</td>\n",
              "      <td>0</td>\n",
              "      <td>0</td>\n",
              "      <td>0</td>\n",
              "      <td>0</td>\n",
              "      <td>0</td>\n",
              "      <td>1</td>\n",
              "    </tr>\n",
              "    <tr>\n",
              "      <th>...</th>\n",
              "      <td>...</td>\n",
              "      <td>...</td>\n",
              "      <td>...</td>\n",
              "      <td>...</td>\n",
              "      <td>...</td>\n",
              "      <td>...</td>\n",
              "      <td>...</td>\n",
              "      <td>...</td>\n",
              "      <td>...</td>\n",
              "      <td>...</td>\n",
              "      <td>...</td>\n",
              "      <td>...</td>\n",
              "    </tr>\n",
              "    <tr>\n",
              "      <th>656574</th>\n",
              "      <td>0</td>\n",
              "      <td>0</td>\n",
              "      <td>8</td>\n",
              "      <td>0</td>\n",
              "      <td>0</td>\n",
              "      <td>0</td>\n",
              "      <td>0</td>\n",
              "      <td>0</td>\n",
              "      <td>0</td>\n",
              "      <td>0</td>\n",
              "      <td>0</td>\n",
              "      <td>1</td>\n",
              "    </tr>\n",
              "    <tr>\n",
              "      <th>656575</th>\n",
              "      <td>129</td>\n",
              "      <td>0</td>\n",
              "      <td>8</td>\n",
              "      <td>64</td>\n",
              "      <td>132</td>\n",
              "      <td>137</td>\n",
              "      <td>0</td>\n",
              "      <td>0</td>\n",
              "      <td>0</td>\n",
              "      <td>0</td>\n",
              "      <td>240</td>\n",
              "      <td>0</td>\n",
              "    </tr>\n",
              "    <tr>\n",
              "      <th>656576</th>\n",
              "      <td>0</td>\n",
              "      <td>0</td>\n",
              "      <td>8</td>\n",
              "      <td>0</td>\n",
              "      <td>0</td>\n",
              "      <td>0</td>\n",
              "      <td>0</td>\n",
              "      <td>0</td>\n",
              "      <td>0</td>\n",
              "      <td>0</td>\n",
              "      <td>0</td>\n",
              "      <td>1</td>\n",
              "    </tr>\n",
              "    <tr>\n",
              "      <th>656577</th>\n",
              "      <td>399</td>\n",
              "      <td>0</td>\n",
              "      <td>8</td>\n",
              "      <td>0</td>\n",
              "      <td>59</td>\n",
              "      <td>24</td>\n",
              "      <td>0</td>\n",
              "      <td>0</td>\n",
              "      <td>63</td>\n",
              "      <td>0</td>\n",
              "      <td>0</td>\n",
              "      <td>0</td>\n",
              "    </tr>\n",
              "    <tr>\n",
              "      <th>656578</th>\n",
              "      <td>0</td>\n",
              "      <td>0</td>\n",
              "      <td>8</td>\n",
              "      <td>0</td>\n",
              "      <td>0</td>\n",
              "      <td>0</td>\n",
              "      <td>0</td>\n",
              "      <td>0</td>\n",
              "      <td>0</td>\n",
              "      <td>0</td>\n",
              "      <td>0</td>\n",
              "      <td>1</td>\n",
              "    </tr>\n",
              "  </tbody>\n",
              "</table>\n",
              "<p>656579 rows × 12 columns</p>\n",
              "</div>"
            ],
            "text/plain": [
              "        CAN ID  RTR  DLC  Data1  Data2  ...  Data5  Data6  Data7  Data8  label\n",
              "0            0    0    8      0      0  ...      0      0      0      0      1\n",
              "1          128    0    8      0     23  ...     22     17     22    187      0\n",
              "2            0    0    8      0      0  ...      0      0      0      0      1\n",
              "3          129    0    8     64    132  ...      0      0      0    107      0\n",
              "4            0    0    8      0      0  ...      0      0      0      0      1\n",
              "...        ...  ...  ...    ...    ...  ...    ...    ...    ...    ...    ...\n",
              "656574       0    0    8      0      0  ...      0      0      0      0      1\n",
              "656575     129    0    8     64    132  ...      0      0      0    240      0\n",
              "656576       0    0    8      0      0  ...      0      0      0      0      1\n",
              "656577     399    0    8      0     59  ...      0     63      0      0      0\n",
              "656578       0    0    8      0      0  ...      0      0      0      0      1\n",
              "\n",
              "[656579 rows x 12 columns]"
            ]
          },
          "metadata": {
            "tags": []
          },
          "execution_count": 44
        }
      ]
    },
    {
      "cell_type": "code",
      "metadata": {
        "id": "8Ehz3HtDPXyz",
        "colab": {
          "base_uri": "https://localhost:8080/",
          "height": 402
        },
        "outputId": "6baffa15-254e-446c-b788-3067ef97cb0e"
      },
      "source": [
        "df = pd.read_csv('/content/drive/My Drive/Colab Notebooks/CS581/project-data/Attack_free_dataset.csv')\n",
        "df['label'] = 0\n",
        "df = df.drop(columns=['Timestamp'])\n",
        "df"
      ],
      "execution_count": 45,
      "outputs": [
        {
          "output_type": "execute_result",
          "data": {
            "text/html": [
              "<div>\n",
              "<style scoped>\n",
              "    .dataframe tbody tr th:only-of-type {\n",
              "        vertical-align: middle;\n",
              "    }\n",
              "\n",
              "    .dataframe tbody tr th {\n",
              "        vertical-align: top;\n",
              "    }\n",
              "\n",
              "    .dataframe thead th {\n",
              "        text-align: right;\n",
              "    }\n",
              "</style>\n",
              "<table border=\"1\" class=\"dataframe\">\n",
              "  <thead>\n",
              "    <tr style=\"text-align: right;\">\n",
              "      <th></th>\n",
              "      <th>CAN ID</th>\n",
              "      <th>RTR</th>\n",
              "      <th>DLC</th>\n",
              "      <th>Data1</th>\n",
              "      <th>Data2</th>\n",
              "      <th>Data3</th>\n",
              "      <th>Data4</th>\n",
              "      <th>Data5</th>\n",
              "      <th>Data6</th>\n",
              "      <th>Data7</th>\n",
              "      <th>Data8</th>\n",
              "      <th>label</th>\n",
              "    </tr>\n",
              "  </thead>\n",
              "  <tbody>\n",
              "    <tr>\n",
              "      <th>0</th>\n",
              "      <td>790</td>\n",
              "      <td>0</td>\n",
              "      <td>8</td>\n",
              "      <td>5</td>\n",
              "      <td>32</td>\n",
              "      <td>234</td>\n",
              "      <td>10</td>\n",
              "      <td>32</td>\n",
              "      <td>26</td>\n",
              "      <td>0</td>\n",
              "      <td>127</td>\n",
              "      <td>0</td>\n",
              "    </tr>\n",
              "    <tr>\n",
              "      <th>1</th>\n",
              "      <td>809</td>\n",
              "      <td>0</td>\n",
              "      <td>8</td>\n",
              "      <td>215</td>\n",
              "      <td>167</td>\n",
              "      <td>127</td>\n",
              "      <td>140</td>\n",
              "      <td>17</td>\n",
              "      <td>47</td>\n",
              "      <td>0</td>\n",
              "      <td>16</td>\n",
              "      <td>0</td>\n",
              "    </tr>\n",
              "    <tr>\n",
              "      <th>2</th>\n",
              "      <td>128</td>\n",
              "      <td>0</td>\n",
              "      <td>8</td>\n",
              "      <td>0</td>\n",
              "      <td>23</td>\n",
              "      <td>234</td>\n",
              "      <td>10</td>\n",
              "      <td>32</td>\n",
              "      <td>26</td>\n",
              "      <td>32</td>\n",
              "      <td>67</td>\n",
              "      <td>0</td>\n",
              "    </tr>\n",
              "    <tr>\n",
              "      <th>3</th>\n",
              "      <td>129</td>\n",
              "      <td>0</td>\n",
              "      <td>8</td>\n",
              "      <td>127</td>\n",
              "      <td>132</td>\n",
              "      <td>96</td>\n",
              "      <td>0</td>\n",
              "      <td>0</td>\n",
              "      <td>0</td>\n",
              "      <td>0</td>\n",
              "      <td>83</td>\n",
              "      <td>0</td>\n",
              "    </tr>\n",
              "    <tr>\n",
              "      <th>4</th>\n",
              "      <td>288</td>\n",
              "      <td>0</td>\n",
              "      <td>4</td>\n",
              "      <td>0</td>\n",
              "      <td>0</td>\n",
              "      <td>0</td>\n",
              "      <td>0</td>\n",
              "      <td>0</td>\n",
              "      <td>0</td>\n",
              "      <td>0</td>\n",
              "      <td>0</td>\n",
              "      <td>0</td>\n",
              "    </tr>\n",
              "    <tr>\n",
              "      <th>...</th>\n",
              "      <td>...</td>\n",
              "      <td>...</td>\n",
              "      <td>...</td>\n",
              "      <td>...</td>\n",
              "      <td>...</td>\n",
              "      <td>...</td>\n",
              "      <td>...</td>\n",
              "      <td>...</td>\n",
              "      <td>...</td>\n",
              "      <td>...</td>\n",
              "      <td>...</td>\n",
              "      <td>...</td>\n",
              "    </tr>\n",
              "    <tr>\n",
              "      <th>2369393</th>\n",
              "      <td>68</td>\n",
              "      <td>0</td>\n",
              "      <td>8</td>\n",
              "      <td>0</td>\n",
              "      <td>0</td>\n",
              "      <td>0</td>\n",
              "      <td>255</td>\n",
              "      <td>111</td>\n",
              "      <td>0</td>\n",
              "      <td>0</td>\n",
              "      <td>0</td>\n",
              "      <td>0</td>\n",
              "    </tr>\n",
              "    <tr>\n",
              "      <th>2369394</th>\n",
              "      <td>357</td>\n",
              "      <td>0</td>\n",
              "      <td>8</td>\n",
              "      <td>17</td>\n",
              "      <td>232</td>\n",
              "      <td>127</td>\n",
              "      <td>0</td>\n",
              "      <td>0</td>\n",
              "      <td>0</td>\n",
              "      <td>12</td>\n",
              "      <td>138</td>\n",
              "      <td>0</td>\n",
              "    </tr>\n",
              "    <tr>\n",
              "      <th>2369395</th>\n",
              "      <td>688</td>\n",
              "      <td>0</td>\n",
              "      <td>5</td>\n",
              "      <td>35</td>\n",
              "      <td>0</td>\n",
              "      <td>0</td>\n",
              "      <td>7</td>\n",
              "      <td>172</td>\n",
              "      <td>0</td>\n",
              "      <td>0</td>\n",
              "      <td>0</td>\n",
              "      <td>0</td>\n",
              "    </tr>\n",
              "    <tr>\n",
              "      <th>2369396</th>\n",
              "      <td>1200</td>\n",
              "      <td>0</td>\n",
              "      <td>8</td>\n",
              "      <td>0</td>\n",
              "      <td>0</td>\n",
              "      <td>0</td>\n",
              "      <td>0</td>\n",
              "      <td>0</td>\n",
              "      <td>0</td>\n",
              "      <td>0</td>\n",
              "      <td>0</td>\n",
              "      <td>0</td>\n",
              "    </tr>\n",
              "    <tr>\n",
              "      <th>2369397</th>\n",
              "      <td>356</td>\n",
              "      <td>0</td>\n",
              "      <td>8</td>\n",
              "      <td>0</td>\n",
              "      <td>8</td>\n",
              "      <td>0</td>\n",
              "      <td>0</td>\n",
              "      <td>0</td>\n",
              "      <td>0</td>\n",
              "      <td>8</td>\n",
              "      <td>0</td>\n",
              "      <td>0</td>\n",
              "    </tr>\n",
              "  </tbody>\n",
              "</table>\n",
              "<p>2369398 rows × 12 columns</p>\n",
              "</div>"
            ],
            "text/plain": [
              "         CAN ID  RTR  DLC  Data1  Data2  ...  Data5  Data6  Data7  Data8  label\n",
              "0           790    0    8      5     32  ...     32     26      0    127      0\n",
              "1           809    0    8    215    167  ...     17     47      0     16      0\n",
              "2           128    0    8      0     23  ...     32     26     32     67      0\n",
              "3           129    0    8    127    132  ...      0      0      0     83      0\n",
              "4           288    0    4      0      0  ...      0      0      0      0      0\n",
              "...         ...  ...  ...    ...    ...  ...    ...    ...    ...    ...    ...\n",
              "2369393      68    0    8      0      0  ...    111      0      0      0      0\n",
              "2369394     357    0    8     17    232  ...      0      0     12    138      0\n",
              "2369395     688    0    5     35      0  ...    172      0      0      0      0\n",
              "2369396    1200    0    8      0      0  ...      0      0      0      0      0\n",
              "2369397     356    0    8      0      8  ...      0      0      8      0      0\n",
              "\n",
              "[2369398 rows x 12 columns]"
            ]
          },
          "metadata": {
            "tags": []
          },
          "execution_count": 45
        }
      ]
    },
    {
      "cell_type": "markdown",
      "metadata": {
        "id": "0nsmRk_HX9zh"
      },
      "source": [
        "* Here we toss out the timestamp column as in this approach it is not informative about the nature of the outlier.\n",
        "* It also helps us balance out the problems encountered in the previous attack-free and Dos attack experiments.\n",
        "\n",
        "* in the attack free dataset - all the packets were normal data and so had to be labelled with only one value, training a model on single class data does not means it learns anything.\n",
        "\n",
        "* in the Dos Attack experiment, every second message is a dos attack message, leaving the dataset evenly split 50:50 on anomalies/normal network data, but there is not enough contiguous network data for it to learn normal state nor attack state, and as a result it's accuracy is averaging around 50%"
      ]
    },
    {
      "cell_type": "code",
      "metadata": {
        "colab": {
          "base_uri": "https://localhost:8080/",
          "height": 402
        },
        "id": "xSrz-9IfAXPf",
        "outputId": "7c6369d9-73f8-4c4e-ed04-b7201fbc29b4"
      },
      "source": [
        "newdf = df.append(dosdf)\r\n",
        "newdf"
      ],
      "execution_count": 46,
      "outputs": [
        {
          "output_type": "execute_result",
          "data": {
            "text/html": [
              "<div>\n",
              "<style scoped>\n",
              "    .dataframe tbody tr th:only-of-type {\n",
              "        vertical-align: middle;\n",
              "    }\n",
              "\n",
              "    .dataframe tbody tr th {\n",
              "        vertical-align: top;\n",
              "    }\n",
              "\n",
              "    .dataframe thead th {\n",
              "        text-align: right;\n",
              "    }\n",
              "</style>\n",
              "<table border=\"1\" class=\"dataframe\">\n",
              "  <thead>\n",
              "    <tr style=\"text-align: right;\">\n",
              "      <th></th>\n",
              "      <th>CAN ID</th>\n",
              "      <th>RTR</th>\n",
              "      <th>DLC</th>\n",
              "      <th>Data1</th>\n",
              "      <th>Data2</th>\n",
              "      <th>Data3</th>\n",
              "      <th>Data4</th>\n",
              "      <th>Data5</th>\n",
              "      <th>Data6</th>\n",
              "      <th>Data7</th>\n",
              "      <th>Data8</th>\n",
              "      <th>label</th>\n",
              "    </tr>\n",
              "  </thead>\n",
              "  <tbody>\n",
              "    <tr>\n",
              "      <th>0</th>\n",
              "      <td>790</td>\n",
              "      <td>0</td>\n",
              "      <td>8</td>\n",
              "      <td>5</td>\n",
              "      <td>32</td>\n",
              "      <td>234</td>\n",
              "      <td>10</td>\n",
              "      <td>32</td>\n",
              "      <td>26</td>\n",
              "      <td>0</td>\n",
              "      <td>127</td>\n",
              "      <td>0</td>\n",
              "    </tr>\n",
              "    <tr>\n",
              "      <th>1</th>\n",
              "      <td>809</td>\n",
              "      <td>0</td>\n",
              "      <td>8</td>\n",
              "      <td>215</td>\n",
              "      <td>167</td>\n",
              "      <td>127</td>\n",
              "      <td>140</td>\n",
              "      <td>17</td>\n",
              "      <td>47</td>\n",
              "      <td>0</td>\n",
              "      <td>16</td>\n",
              "      <td>0</td>\n",
              "    </tr>\n",
              "    <tr>\n",
              "      <th>2</th>\n",
              "      <td>128</td>\n",
              "      <td>0</td>\n",
              "      <td>8</td>\n",
              "      <td>0</td>\n",
              "      <td>23</td>\n",
              "      <td>234</td>\n",
              "      <td>10</td>\n",
              "      <td>32</td>\n",
              "      <td>26</td>\n",
              "      <td>32</td>\n",
              "      <td>67</td>\n",
              "      <td>0</td>\n",
              "    </tr>\n",
              "    <tr>\n",
              "      <th>3</th>\n",
              "      <td>129</td>\n",
              "      <td>0</td>\n",
              "      <td>8</td>\n",
              "      <td>127</td>\n",
              "      <td>132</td>\n",
              "      <td>96</td>\n",
              "      <td>0</td>\n",
              "      <td>0</td>\n",
              "      <td>0</td>\n",
              "      <td>0</td>\n",
              "      <td>83</td>\n",
              "      <td>0</td>\n",
              "    </tr>\n",
              "    <tr>\n",
              "      <th>4</th>\n",
              "      <td>288</td>\n",
              "      <td>0</td>\n",
              "      <td>4</td>\n",
              "      <td>0</td>\n",
              "      <td>0</td>\n",
              "      <td>0</td>\n",
              "      <td>0</td>\n",
              "      <td>0</td>\n",
              "      <td>0</td>\n",
              "      <td>0</td>\n",
              "      <td>0</td>\n",
              "      <td>0</td>\n",
              "    </tr>\n",
              "    <tr>\n",
              "      <th>...</th>\n",
              "      <td>...</td>\n",
              "      <td>...</td>\n",
              "      <td>...</td>\n",
              "      <td>...</td>\n",
              "      <td>...</td>\n",
              "      <td>...</td>\n",
              "      <td>...</td>\n",
              "      <td>...</td>\n",
              "      <td>...</td>\n",
              "      <td>...</td>\n",
              "      <td>...</td>\n",
              "      <td>...</td>\n",
              "    </tr>\n",
              "    <tr>\n",
              "      <th>656574</th>\n",
              "      <td>0</td>\n",
              "      <td>0</td>\n",
              "      <td>8</td>\n",
              "      <td>0</td>\n",
              "      <td>0</td>\n",
              "      <td>0</td>\n",
              "      <td>0</td>\n",
              "      <td>0</td>\n",
              "      <td>0</td>\n",
              "      <td>0</td>\n",
              "      <td>0</td>\n",
              "      <td>1</td>\n",
              "    </tr>\n",
              "    <tr>\n",
              "      <th>656575</th>\n",
              "      <td>129</td>\n",
              "      <td>0</td>\n",
              "      <td>8</td>\n",
              "      <td>64</td>\n",
              "      <td>132</td>\n",
              "      <td>137</td>\n",
              "      <td>0</td>\n",
              "      <td>0</td>\n",
              "      <td>0</td>\n",
              "      <td>0</td>\n",
              "      <td>240</td>\n",
              "      <td>0</td>\n",
              "    </tr>\n",
              "    <tr>\n",
              "      <th>656576</th>\n",
              "      <td>0</td>\n",
              "      <td>0</td>\n",
              "      <td>8</td>\n",
              "      <td>0</td>\n",
              "      <td>0</td>\n",
              "      <td>0</td>\n",
              "      <td>0</td>\n",
              "      <td>0</td>\n",
              "      <td>0</td>\n",
              "      <td>0</td>\n",
              "      <td>0</td>\n",
              "      <td>1</td>\n",
              "    </tr>\n",
              "    <tr>\n",
              "      <th>656577</th>\n",
              "      <td>399</td>\n",
              "      <td>0</td>\n",
              "      <td>8</td>\n",
              "      <td>0</td>\n",
              "      <td>59</td>\n",
              "      <td>24</td>\n",
              "      <td>0</td>\n",
              "      <td>0</td>\n",
              "      <td>63</td>\n",
              "      <td>0</td>\n",
              "      <td>0</td>\n",
              "      <td>0</td>\n",
              "    </tr>\n",
              "    <tr>\n",
              "      <th>656578</th>\n",
              "      <td>0</td>\n",
              "      <td>0</td>\n",
              "      <td>8</td>\n",
              "      <td>0</td>\n",
              "      <td>0</td>\n",
              "      <td>0</td>\n",
              "      <td>0</td>\n",
              "      <td>0</td>\n",
              "      <td>0</td>\n",
              "      <td>0</td>\n",
              "      <td>0</td>\n",
              "      <td>1</td>\n",
              "    </tr>\n",
              "  </tbody>\n",
              "</table>\n",
              "<p>3025977 rows × 12 columns</p>\n",
              "</div>"
            ],
            "text/plain": [
              "        CAN ID  RTR  DLC  Data1  Data2  ...  Data5  Data6  Data7  Data8  label\n",
              "0          790    0    8      5     32  ...     32     26      0    127      0\n",
              "1          809    0    8    215    167  ...     17     47      0     16      0\n",
              "2          128    0    8      0     23  ...     32     26     32     67      0\n",
              "3          129    0    8    127    132  ...      0      0      0     83      0\n",
              "4          288    0    4      0      0  ...      0      0      0      0      0\n",
              "...        ...  ...  ...    ...    ...  ...    ...    ...    ...    ...    ...\n",
              "656574       0    0    8      0      0  ...      0      0      0      0      1\n",
              "656575     129    0    8     64    132  ...      0      0      0    240      0\n",
              "656576       0    0    8      0      0  ...      0      0      0      0      1\n",
              "656577     399    0    8      0     59  ...      0     63      0      0      0\n",
              "656578       0    0    8      0      0  ...      0      0      0      0      1\n",
              "\n",
              "[3025977 rows x 12 columns]"
            ]
          },
          "metadata": {
            "tags": []
          },
          "execution_count": 46
        }
      ]
    },
    {
      "cell_type": "code",
      "metadata": {
        "colab": {
          "base_uri": "https://localhost:8080/",
          "height": 136
        },
        "id": "snE3lrDjSwcm",
        "outputId": "fd910404-7958-45c9-f5a7-24961de569bf"
      },
      "source": [
        "newdf.groupby('label').count()"
      ],
      "execution_count": 47,
      "outputs": [
        {
          "output_type": "execute_result",
          "data": {
            "text/html": [
              "<div>\n",
              "<style scoped>\n",
              "    .dataframe tbody tr th:only-of-type {\n",
              "        vertical-align: middle;\n",
              "    }\n",
              "\n",
              "    .dataframe tbody tr th {\n",
              "        vertical-align: top;\n",
              "    }\n",
              "\n",
              "    .dataframe thead th {\n",
              "        text-align: right;\n",
              "    }\n",
              "</style>\n",
              "<table border=\"1\" class=\"dataframe\">\n",
              "  <thead>\n",
              "    <tr style=\"text-align: right;\">\n",
              "      <th></th>\n",
              "      <th>CAN ID</th>\n",
              "      <th>RTR</th>\n",
              "      <th>DLC</th>\n",
              "      <th>Data1</th>\n",
              "      <th>Data2</th>\n",
              "      <th>Data3</th>\n",
              "      <th>Data4</th>\n",
              "      <th>Data5</th>\n",
              "      <th>Data6</th>\n",
              "      <th>Data7</th>\n",
              "      <th>Data8</th>\n",
              "    </tr>\n",
              "    <tr>\n",
              "      <th>label</th>\n",
              "      <th></th>\n",
              "      <th></th>\n",
              "      <th></th>\n",
              "      <th></th>\n",
              "      <th></th>\n",
              "      <th></th>\n",
              "      <th></th>\n",
              "      <th></th>\n",
              "      <th></th>\n",
              "      <th></th>\n",
              "      <th></th>\n",
              "    </tr>\n",
              "  </thead>\n",
              "  <tbody>\n",
              "    <tr>\n",
              "      <th>0</th>\n",
              "      <td>2690353</td>\n",
              "      <td>2690353</td>\n",
              "      <td>2690353</td>\n",
              "      <td>2690353</td>\n",
              "      <td>2690353</td>\n",
              "      <td>2690353</td>\n",
              "      <td>2690353</td>\n",
              "      <td>2690353</td>\n",
              "      <td>2690353</td>\n",
              "      <td>2690353</td>\n",
              "      <td>2690353</td>\n",
              "    </tr>\n",
              "    <tr>\n",
              "      <th>1</th>\n",
              "      <td>335624</td>\n",
              "      <td>335624</td>\n",
              "      <td>335624</td>\n",
              "      <td>335624</td>\n",
              "      <td>335624</td>\n",
              "      <td>335624</td>\n",
              "      <td>335624</td>\n",
              "      <td>335624</td>\n",
              "      <td>335624</td>\n",
              "      <td>335624</td>\n",
              "      <td>335624</td>\n",
              "    </tr>\n",
              "  </tbody>\n",
              "</table>\n",
              "</div>"
            ],
            "text/plain": [
              "        CAN ID      RTR      DLC    Data1  ...    Data5    Data6    Data7    Data8\n",
              "label                                      ...                                    \n",
              "0      2690353  2690353  2690353  2690353  ...  2690353  2690353  2690353  2690353\n",
              "1       335624   335624   335624   335624  ...   335624   335624   335624   335624\n",
              "\n",
              "[2 rows x 11 columns]"
            ]
          },
          "metadata": {
            "tags": []
          },
          "execution_count": 47
        }
      ]
    },
    {
      "cell_type": "code",
      "metadata": {
        "colab": {
          "base_uri": "https://localhost:8080/"
        },
        "id": "e8VcGP7ES1qJ",
        "outputId": "f63fbf00-9e43-4f0d-8979-d82f170ef599"
      },
      "source": [
        "335624/2690353"
      ],
      "execution_count": 48,
      "outputs": [
        {
          "output_type": "execute_result",
          "data": {
            "text/plain": [
              "0.1247509155861703"
            ]
          },
          "metadata": {
            "tags": []
          },
          "execution_count": 48
        }
      ]
    },
    {
      "cell_type": "markdown",
      "metadata": {
        "id": "vf4IhUF-KNmW"
      },
      "source": [
        "# Installing and testing TCNs: Exploring applications"
      ]
    },
    {
      "cell_type": "code",
      "metadata": {
        "colab": {
          "base_uri": "https://localhost:8080/"
        },
        "id": "ZpXEiSYEiIUr",
        "outputId": "d8f21c72-8544-4c34-beb0-8956f671bdac"
      },
      "source": [
        "!pip install keras-tcn"
      ],
      "execution_count": 57,
      "outputs": [
        {
          "output_type": "stream",
          "text": [
            "Requirement already satisfied: keras-tcn in /usr/local/lib/python3.6/dist-packages (3.1.1)\n",
            "Requirement already satisfied: numpy>=1.18.1 in /usr/local/lib/python3.6/dist-packages (from keras-tcn) (1.18.5)\n",
            "Requirement already satisfied: keras==2.3.1 in /usr/local/lib/python3.6/dist-packages (from keras-tcn) (2.3.1)\n",
            "Requirement already satisfied: h5py in /usr/local/lib/python3.6/dist-packages (from keras==2.3.1->keras-tcn) (2.10.0)\n",
            "Requirement already satisfied: six>=1.9.0 in /usr/local/lib/python3.6/dist-packages (from keras==2.3.1->keras-tcn) (1.15.0)\n",
            "Requirement already satisfied: keras-preprocessing>=1.0.5 in /usr/local/lib/python3.6/dist-packages (from keras==2.3.1->keras-tcn) (1.1.2)\n",
            "Requirement already satisfied: scipy>=0.14 in /usr/local/lib/python3.6/dist-packages (from keras==2.3.1->keras-tcn) (1.4.1)\n",
            "Requirement already satisfied: pyyaml in /usr/local/lib/python3.6/dist-packages (from keras==2.3.1->keras-tcn) (3.13)\n",
            "Requirement already satisfied: keras-applications>=1.0.6 in /usr/local/lib/python3.6/dist-packages (from keras==2.3.1->keras-tcn) (1.0.8)\n"
          ],
          "name": "stdout"
        }
      ]
    },
    {
      "cell_type": "code",
      "metadata": {
        "id": "pp1vSaRCiZPX"
      },
      "source": [
        "from tensorflow.keras.layers import Dense\n",
        "from tensorflow.keras import Input, Model\n",
        "\n",
        "from tcn import TCN, tcn_full_summary\n",
        "\n",
        "batch_size, timesteps, input_dim = None, 20, 1"
      ],
      "execution_count": 11,
      "outputs": []
    },
    {
      "cell_type": "code",
      "metadata": {
        "id": "yWKpL2g4o2ee"
      },
      "source": [
        "def get_x_y(size=1000):\n",
        "    import numpy as np\n",
        "    pos_indices = np.random.choice(size, size=int(size // 2), replace=False)\n",
        "    x_train = np.zeros(shape=(size, timesteps, 1))\n",
        "    y_train = np.zeros(shape=(size, 1))\n",
        "    x_train[pos_indices, 0] = 1.0\n",
        "    y_train[pos_indices, 0] = 1.0\n",
        "    return x_train, y_train"
      ],
      "execution_count": 12,
      "outputs": []
    },
    {
      "cell_type": "code",
      "metadata": {
        "colab": {
          "base_uri": "https://localhost:8080/"
        },
        "id": "J6DEfoyFozAD",
        "outputId": "ae530145-78a0-45d2-9a6b-407d28735e19"
      },
      "source": [
        "i = Input(batch_shape=(batch_size, timesteps, input_dim))\n",
        "\n",
        "o = TCN(return_sequences=False)(i)  # The TCN layers are here.\n",
        "o = Dense(1)(o)\n",
        "\n",
        "m = Model(inputs=[i], outputs=[o])\n",
        "m.compile(optimizer='adam', loss='mse')\n",
        "\n",
        "tcn_full_summary(m, expand_residual_blocks=True)\n",
        "\n",
        "x, y = get_x_y()\n",
        "m.fit(x, y, epochs=10, validation_split=0.2)"
      ],
      "execution_count": 13,
      "outputs": [
        {
          "output_type": "stream",
          "text": [
            "Model: \"functional_1\"\n",
            "_________________________________________________________________\n",
            "Layer (type)                 Output Shape              Param #   \n",
            "=================================================================\n",
            "input_1 (InputLayer)         [(None, 20, 1)]           0         \n",
            "_________________________________________________________________\n",
            "matching_conv1D (Conv1D)     (None, 20, 64)            128       \n",
            "_________________________________________________________________\n",
            "activation_2 (Activation)    (None, 20, 64)            0         \n",
            "_________________________________________________________________\n",
            "conv1D_0 (Conv1D)            (None, 20, 64)            192       \n",
            "_________________________________________________________________\n",
            "activation (Activation)      (None, 20, 64)            0         \n",
            "_________________________________________________________________\n",
            "spatial_dropout1d (SpatialDr (None, 20, 64)            0         \n",
            "_________________________________________________________________\n",
            "conv1D_1 (Conv1D)            (None, 20, 64)            8256      \n",
            "_________________________________________________________________\n",
            "activation_1 (Activation)    (None, 20, 64)            0         \n",
            "_________________________________________________________________\n",
            "spatial_dropout1d_1 (Spatial (None, 20, 64)            0         \n",
            "_________________________________________________________________\n",
            "matching_identity (Lambda)   (None, 20, 64)            0         \n",
            "_________________________________________________________________\n",
            "activation_5 (Activation)    (None, 20, 64)            0         \n",
            "_________________________________________________________________\n",
            "conv1D_0 (Conv1D)            (None, 20, 64)            8256      \n",
            "_________________________________________________________________\n",
            "activation_3 (Activation)    (None, 20, 64)            0         \n",
            "_________________________________________________________________\n",
            "spatial_dropout1d_2 (Spatial (None, 20, 64)            0         \n",
            "_________________________________________________________________\n",
            "conv1D_1 (Conv1D)            (None, 20, 64)            8256      \n",
            "_________________________________________________________________\n",
            "activation_4 (Activation)    (None, 20, 64)            0         \n",
            "_________________________________________________________________\n",
            "spatial_dropout1d_3 (Spatial (None, 20, 64)            0         \n",
            "_________________________________________________________________\n",
            "matching_identity (Lambda)   (None, 20, 64)            0         \n",
            "_________________________________________________________________\n",
            "activation_8 (Activation)    (None, 20, 64)            0         \n",
            "_________________________________________________________________\n",
            "conv1D_0 (Conv1D)            (None, 20, 64)            8256      \n",
            "_________________________________________________________________\n",
            "activation_6 (Activation)    (None, 20, 64)            0         \n",
            "_________________________________________________________________\n",
            "spatial_dropout1d_4 (Spatial (None, 20, 64)            0         \n",
            "_________________________________________________________________\n",
            "conv1D_1 (Conv1D)            (None, 20, 64)            8256      \n",
            "_________________________________________________________________\n",
            "activation_7 (Activation)    (None, 20, 64)            0         \n",
            "_________________________________________________________________\n",
            "spatial_dropout1d_5 (Spatial (None, 20, 64)            0         \n",
            "_________________________________________________________________\n",
            "matching_identity (Lambda)   (None, 20, 64)            0         \n",
            "_________________________________________________________________\n",
            "activation_11 (Activation)   (None, 20, 64)            0         \n",
            "_________________________________________________________________\n",
            "conv1D_0 (Conv1D)            (None, 20, 64)            8256      \n",
            "_________________________________________________________________\n",
            "activation_9 (Activation)    (None, 20, 64)            0         \n",
            "_________________________________________________________________\n",
            "spatial_dropout1d_6 (Spatial (None, 20, 64)            0         \n",
            "_________________________________________________________________\n",
            "conv1D_1 (Conv1D)            (None, 20, 64)            8256      \n",
            "_________________________________________________________________\n",
            "activation_10 (Activation)   (None, 20, 64)            0         \n",
            "_________________________________________________________________\n",
            "spatial_dropout1d_7 (Spatial (None, 20, 64)            0         \n",
            "_________________________________________________________________\n",
            "matching_identity (Lambda)   (None, 20, 64)            0         \n",
            "_________________________________________________________________\n",
            "activation_14 (Activation)   (None, 20, 64)            0         \n",
            "_________________________________________________________________\n",
            "conv1D_0 (Conv1D)            (None, 20, 64)            8256      \n",
            "_________________________________________________________________\n",
            "activation_12 (Activation)   (None, 20, 64)            0         \n",
            "_________________________________________________________________\n",
            "spatial_dropout1d_8 (Spatial (None, 20, 64)            0         \n",
            "_________________________________________________________________\n",
            "conv1D_1 (Conv1D)            (None, 20, 64)            8256      \n",
            "_________________________________________________________________\n",
            "activation_13 (Activation)   (None, 20, 64)            0         \n",
            "_________________________________________________________________\n",
            "spatial_dropout1d_9 (Spatial (None, 20, 64)            0         \n",
            "_________________________________________________________________\n",
            "matching_identity (Lambda)   (None, 20, 64)            0         \n",
            "_________________________________________________________________\n",
            "activation_17 (Activation)   (None, 20, 64)            0         \n",
            "_________________________________________________________________\n",
            "conv1D_0 (Conv1D)            (None, 20, 64)            8256      \n",
            "_________________________________________________________________\n",
            "activation_15 (Activation)   (None, 20, 64)            0         \n",
            "_________________________________________________________________\n",
            "spatial_dropout1d_10 (Spatia (None, 20, 64)            0         \n",
            "_________________________________________________________________\n",
            "conv1D_1 (Conv1D)            (None, 20, 64)            8256      \n",
            "_________________________________________________________________\n",
            "activation_16 (Activation)   (None, 20, 64)            0         \n",
            "_________________________________________________________________\n",
            "spatial_dropout1d_11 (Spatia (None, 20, 64)            0         \n",
            "_________________________________________________________________\n",
            "lambda (Lambda)              (None, 64)                0         \n",
            "_________________________________________________________________\n",
            "dense (Dense)                (None, 1)                 65        \n",
            "=================================================================\n",
            "Total params: 91,201\n",
            "Trainable params: 91,201\n",
            "Non-trainable params: 0\n",
            "_________________________________________________________________\n",
            "Epoch 1/10\n",
            "25/25 [==============================] - 1s 26ms/step - loss: 0.7857 - val_loss: 0.0054\n",
            "Epoch 2/10\n",
            "25/25 [==============================] - 0s 7ms/step - loss: 0.0014 - val_loss: 2.7106e-04\n",
            "Epoch 3/10\n",
            "25/25 [==============================] - 0s 6ms/step - loss: 8.1614e-05 - val_loss: 2.9049e-06\n",
            "Epoch 4/10\n",
            "25/25 [==============================] - 0s 6ms/step - loss: 6.1368e-06 - val_loss: 3.0851e-06\n",
            "Epoch 5/10\n",
            "25/25 [==============================] - 0s 6ms/step - loss: 6.9384e-07 - val_loss: 1.5359e-07\n",
            "Epoch 6/10\n",
            "25/25 [==============================] - 0s 6ms/step - loss: 4.9857e-08 - val_loss: 6.8575e-10\n",
            "Epoch 7/10\n",
            "25/25 [==============================] - 0s 6ms/step - loss: 3.9286e-09 - val_loss: 1.5129e-09\n",
            "Epoch 8/10\n",
            "25/25 [==============================] - 0s 6ms/step - loss: 3.0474e-10 - val_loss: 3.3539e-11\n",
            "Epoch 9/10\n",
            "25/25 [==============================] - 0s 6ms/step - loss: 9.1282e-12 - val_loss: 4.7799e-14\n",
            "Epoch 10/10\n",
            "25/25 [==============================] - 0s 6ms/step - loss: 6.4242e-13 - val_loss: 1.6920e-13\n"
          ],
          "name": "stdout"
        },
        {
          "output_type": "execute_result",
          "data": {
            "text/plain": [
              "<tensorflow.python.keras.callbacks.History at 0x7f2a0a647e48>"
            ]
          },
          "metadata": {
            "tags": []
          },
          "execution_count": 13
        }
      ]
    },
    {
      "cell_type": "markdown",
      "metadata": {
        "id": "B5YJl4KTnl6R"
      },
      "source": [
        "# Modifying this for our data and modifying our data for this TCN"
      ]
    },
    {
      "cell_type": "markdown",
      "metadata": {
        "id": "2p1jw_0pdn--"
      },
      "source": [
        "# Baseline TCN"
      ]
    },
    {
      "cell_type": "markdown",
      "metadata": {
        "id": "bgfdBNH-9ZMl"
      },
      "source": [
        "TCNs do not require the 3D input that LSTMs do, the Conv1D layers throw errors when we tried with the same input as the LSTMS, so we change our input data shape to work similar to the example referred to above."
      ]
    },
    {
      "cell_type": "code",
      "metadata": {
        "id": "m1osJRXNnoXm"
      },
      "source": [
        "batch_size, timesteps, input_dim = None, 11, 1"
      ],
      "execution_count": 118,
      "outputs": []
    },
    {
      "cell_type": "code",
      "metadata": {
        "id": "KFraBLZxn-hn"
      },
      "source": [
        "# # my x y training/testing data\r\n",
        "# series = dosdf.to_numpy()\r\n",
        "\r\n",
        "# n_rows = series.shape[0]\r\n",
        "# n_features = series.shape[1]\r\n",
        "\r\n",
        "# train_split = int(series.shape[0]*0.7)\r\n",
        "# val_split = int(series.shape[0]*0.8)\r\n",
        "# print(f'train split : {train_split}, val_split: {val_split}')\r\n",
        "\r\n",
        "# X_train, y_train = series[:train_split, :n_features-1], series[:train_split, -1] # -1 references the last column\r\n",
        "# X_valid, y_valid = series[train_split:val_split, :n_features-1], series[train_split:val_split, -1]\r\n",
        "# X_test, y_test = series[val_split:, :n_features-1], series[val_split:, -1]\r\n",
        "\r\n",
        "# print(f'{X_train.shape,y_train.shape,X_valid.shape, y_valid.shape, X_test.shape,y_test.shape}')"
      ],
      "execution_count": 125,
      "outputs": []
    },
    {
      "cell_type": "code",
      "metadata": {
        "id": "OcsGBGYo8h4D"
      },
      "source": [
        "# X_test[20].shape, y_test[20].shape"
      ],
      "execution_count": 126,
      "outputs": []
    },
    {
      "cell_type": "code",
      "metadata": {
        "id": "k5k7BsHb8owm"
      },
      "source": [
        "# tempx, tempy = get_x_y()\r\n",
        "# tempx[0].shape, tempy[0].shape"
      ],
      "execution_count": 127,
      "outputs": []
    },
    {
      "cell_type": "markdown",
      "metadata": {
        "id": "B_m80mpPBLmm"
      },
      "source": [
        "### Train-test-split\r\n",
        "\r\n"
      ]
    },
    {
      "cell_type": "code",
      "metadata": {
        "colab": {
          "base_uri": "https://localhost:8080/"
        },
        "id": "hOu1uoDEBQ90",
        "outputId": "6e1da424-7c03-46f1-f862-7c5e478fb5c8"
      },
      "source": [
        "#Shuffle the dataset\r\n",
        "newdf=newdf.sample(frac=1,random_state=200) #random state is a seed value 200 \r\n",
        "\r\n",
        "series = newdf.to_numpy()\r\n",
        "# print(series.shape)\r\n",
        "\r\n",
        "n_features = series.shape[1]\r\n",
        "train_split = int(series.shape[0]*0.7)\r\n",
        "print(f'train split : {train_split}')\r\n",
        "\r\n",
        "val_split = int(series.shape[0]*0.8)\r\n",
        "\r\n",
        "X_train, y_train = series[:train_split, :n_features-1], series[:train_split, -1] # -1 references the last column\r\n",
        "X_valid, y_valid = series[train_split:val_split, :n_features-1], series[train_split:val_split, -1]\r\n",
        "X_test, y_test = series[val_split:, :n_features-1], series[val_split:, -1]\r\n",
        "print(f'{X_train.shape,y_train.shape,X_valid.shape, y_valid.shape, X_test.shape,y_test.shape}')"
      ],
      "execution_count": 128,
      "outputs": [
        {
          "output_type": "stream",
          "text": [
            "train split : 2118183\n",
            "((2118183, 11), (2118183,), (302598, 11), (302598,), (605196, 11), (605196,))\n"
          ],
          "name": "stdout"
        }
      ]
    },
    {
      "cell_type": "code",
      "metadata": {
        "colab": {
          "base_uri": "https://localhost:8080/",
          "height": 136
        },
        "id": "7Vcp8k7RCmv4",
        "outputId": "38bc653b-30b3-422a-f5ac-3956ea2fe18c"
      },
      "source": [
        "#X_train stats\r\n",
        "newdf[:train_split].groupby('label').count()"
      ],
      "execution_count": 129,
      "outputs": [
        {
          "output_type": "execute_result",
          "data": {
            "text/html": [
              "<div>\n",
              "<style scoped>\n",
              "    .dataframe tbody tr th:only-of-type {\n",
              "        vertical-align: middle;\n",
              "    }\n",
              "\n",
              "    .dataframe tbody tr th {\n",
              "        vertical-align: top;\n",
              "    }\n",
              "\n",
              "    .dataframe thead th {\n",
              "        text-align: right;\n",
              "    }\n",
              "</style>\n",
              "<table border=\"1\" class=\"dataframe\">\n",
              "  <thead>\n",
              "    <tr style=\"text-align: right;\">\n",
              "      <th></th>\n",
              "      <th>CAN ID</th>\n",
              "      <th>RTR</th>\n",
              "      <th>DLC</th>\n",
              "      <th>Data1</th>\n",
              "      <th>Data2</th>\n",
              "      <th>Data3</th>\n",
              "      <th>Data4</th>\n",
              "      <th>Data5</th>\n",
              "      <th>Data6</th>\n",
              "      <th>Data7</th>\n",
              "      <th>Data8</th>\n",
              "    </tr>\n",
              "    <tr>\n",
              "      <th>label</th>\n",
              "      <th></th>\n",
              "      <th></th>\n",
              "      <th></th>\n",
              "      <th></th>\n",
              "      <th></th>\n",
              "      <th></th>\n",
              "      <th></th>\n",
              "      <th></th>\n",
              "      <th></th>\n",
              "      <th></th>\n",
              "      <th></th>\n",
              "    </tr>\n",
              "  </thead>\n",
              "  <tbody>\n",
              "    <tr>\n",
              "      <th>0</th>\n",
              "      <td>1882701</td>\n",
              "      <td>1882701</td>\n",
              "      <td>1882701</td>\n",
              "      <td>1882701</td>\n",
              "      <td>1882701</td>\n",
              "      <td>1882701</td>\n",
              "      <td>1882701</td>\n",
              "      <td>1882701</td>\n",
              "      <td>1882701</td>\n",
              "      <td>1882701</td>\n",
              "      <td>1882701</td>\n",
              "    </tr>\n",
              "    <tr>\n",
              "      <th>1</th>\n",
              "      <td>235482</td>\n",
              "      <td>235482</td>\n",
              "      <td>235482</td>\n",
              "      <td>235482</td>\n",
              "      <td>235482</td>\n",
              "      <td>235482</td>\n",
              "      <td>235482</td>\n",
              "      <td>235482</td>\n",
              "      <td>235482</td>\n",
              "      <td>235482</td>\n",
              "      <td>235482</td>\n",
              "    </tr>\n",
              "  </tbody>\n",
              "</table>\n",
              "</div>"
            ],
            "text/plain": [
              "        CAN ID      RTR      DLC    Data1  ...    Data5    Data6    Data7    Data8\n",
              "label                                      ...                                    \n",
              "0      1882701  1882701  1882701  1882701  ...  1882701  1882701  1882701  1882701\n",
              "1       235482   235482   235482   235482  ...   235482   235482   235482   235482\n",
              "\n",
              "[2 rows x 11 columns]"
            ]
          },
          "metadata": {
            "tags": []
          },
          "execution_count": 129
        }
      ]
    },
    {
      "cell_type": "code",
      "metadata": {
        "colab": {
          "base_uri": "https://localhost:8080/",
          "height": 136
        },
        "id": "4nfqMnmT832U",
        "outputId": "00e3f319-d6a7-41b4-bb61-fee475e67803"
      },
      "source": [
        "#X_valid split\r\n",
        "newdf[train_split:val_split].groupby('label').count()"
      ],
      "execution_count": 130,
      "outputs": [
        {
          "output_type": "execute_result",
          "data": {
            "text/html": [
              "<div>\n",
              "<style scoped>\n",
              "    .dataframe tbody tr th:only-of-type {\n",
              "        vertical-align: middle;\n",
              "    }\n",
              "\n",
              "    .dataframe tbody tr th {\n",
              "        vertical-align: top;\n",
              "    }\n",
              "\n",
              "    .dataframe thead th {\n",
              "        text-align: right;\n",
              "    }\n",
              "</style>\n",
              "<table border=\"1\" class=\"dataframe\">\n",
              "  <thead>\n",
              "    <tr style=\"text-align: right;\">\n",
              "      <th></th>\n",
              "      <th>CAN ID</th>\n",
              "      <th>RTR</th>\n",
              "      <th>DLC</th>\n",
              "      <th>Data1</th>\n",
              "      <th>Data2</th>\n",
              "      <th>Data3</th>\n",
              "      <th>Data4</th>\n",
              "      <th>Data5</th>\n",
              "      <th>Data6</th>\n",
              "      <th>Data7</th>\n",
              "      <th>Data8</th>\n",
              "    </tr>\n",
              "    <tr>\n",
              "      <th>label</th>\n",
              "      <th></th>\n",
              "      <th></th>\n",
              "      <th></th>\n",
              "      <th></th>\n",
              "      <th></th>\n",
              "      <th></th>\n",
              "      <th></th>\n",
              "      <th></th>\n",
              "      <th></th>\n",
              "      <th></th>\n",
              "      <th></th>\n",
              "    </tr>\n",
              "  </thead>\n",
              "  <tbody>\n",
              "    <tr>\n",
              "      <th>0</th>\n",
              "      <td>269141</td>\n",
              "      <td>269141</td>\n",
              "      <td>269141</td>\n",
              "      <td>269141</td>\n",
              "      <td>269141</td>\n",
              "      <td>269141</td>\n",
              "      <td>269141</td>\n",
              "      <td>269141</td>\n",
              "      <td>269141</td>\n",
              "      <td>269141</td>\n",
              "      <td>269141</td>\n",
              "    </tr>\n",
              "    <tr>\n",
              "      <th>1</th>\n",
              "      <td>33457</td>\n",
              "      <td>33457</td>\n",
              "      <td>33457</td>\n",
              "      <td>33457</td>\n",
              "      <td>33457</td>\n",
              "      <td>33457</td>\n",
              "      <td>33457</td>\n",
              "      <td>33457</td>\n",
              "      <td>33457</td>\n",
              "      <td>33457</td>\n",
              "      <td>33457</td>\n",
              "    </tr>\n",
              "  </tbody>\n",
              "</table>\n",
              "</div>"
            ],
            "text/plain": [
              "       CAN ID     RTR     DLC   Data1  ...   Data5   Data6   Data7   Data8\n",
              "label                                  ...                                \n",
              "0      269141  269141  269141  269141  ...  269141  269141  269141  269141\n",
              "1       33457   33457   33457   33457  ...   33457   33457   33457   33457\n",
              "\n",
              "[2 rows x 11 columns]"
            ]
          },
          "metadata": {
            "tags": []
          },
          "execution_count": 130
        }
      ]
    },
    {
      "cell_type": "code",
      "metadata": {
        "colab": {
          "base_uri": "https://localhost:8080/",
          "height": 136
        },
        "id": "pCMxK-IjJdjf",
        "outputId": "9e0c8042-4636-43ee-bad2-c569fed7fc25"
      },
      "source": [
        "#X_test\r\n",
        "newdf[val_split:].groupby('label').count()"
      ],
      "execution_count": 131,
      "outputs": [
        {
          "output_type": "execute_result",
          "data": {
            "text/html": [
              "<div>\n",
              "<style scoped>\n",
              "    .dataframe tbody tr th:only-of-type {\n",
              "        vertical-align: middle;\n",
              "    }\n",
              "\n",
              "    .dataframe tbody tr th {\n",
              "        vertical-align: top;\n",
              "    }\n",
              "\n",
              "    .dataframe thead th {\n",
              "        text-align: right;\n",
              "    }\n",
              "</style>\n",
              "<table border=\"1\" class=\"dataframe\">\n",
              "  <thead>\n",
              "    <tr style=\"text-align: right;\">\n",
              "      <th></th>\n",
              "      <th>CAN ID</th>\n",
              "      <th>RTR</th>\n",
              "      <th>DLC</th>\n",
              "      <th>Data1</th>\n",
              "      <th>Data2</th>\n",
              "      <th>Data3</th>\n",
              "      <th>Data4</th>\n",
              "      <th>Data5</th>\n",
              "      <th>Data6</th>\n",
              "      <th>Data7</th>\n",
              "      <th>Data8</th>\n",
              "    </tr>\n",
              "    <tr>\n",
              "      <th>label</th>\n",
              "      <th></th>\n",
              "      <th></th>\n",
              "      <th></th>\n",
              "      <th></th>\n",
              "      <th></th>\n",
              "      <th></th>\n",
              "      <th></th>\n",
              "      <th></th>\n",
              "      <th></th>\n",
              "      <th></th>\n",
              "      <th></th>\n",
              "    </tr>\n",
              "  </thead>\n",
              "  <tbody>\n",
              "    <tr>\n",
              "      <th>0</th>\n",
              "      <td>538511</td>\n",
              "      <td>538511</td>\n",
              "      <td>538511</td>\n",
              "      <td>538511</td>\n",
              "      <td>538511</td>\n",
              "      <td>538511</td>\n",
              "      <td>538511</td>\n",
              "      <td>538511</td>\n",
              "      <td>538511</td>\n",
              "      <td>538511</td>\n",
              "      <td>538511</td>\n",
              "    </tr>\n",
              "    <tr>\n",
              "      <th>1</th>\n",
              "      <td>66685</td>\n",
              "      <td>66685</td>\n",
              "      <td>66685</td>\n",
              "      <td>66685</td>\n",
              "      <td>66685</td>\n",
              "      <td>66685</td>\n",
              "      <td>66685</td>\n",
              "      <td>66685</td>\n",
              "      <td>66685</td>\n",
              "      <td>66685</td>\n",
              "      <td>66685</td>\n",
              "    </tr>\n",
              "  </tbody>\n",
              "</table>\n",
              "</div>"
            ],
            "text/plain": [
              "       CAN ID     RTR     DLC   Data1  ...   Data5   Data6   Data7   Data8\n",
              "label                                  ...                                \n",
              "0      538511  538511  538511  538511  ...  538511  538511  538511  538511\n",
              "1       66685   66685   66685   66685  ...   66685   66685   66685   66685\n",
              "\n",
              "[2 rows x 11 columns]"
            ]
          },
          "metadata": {
            "tags": []
          },
          "execution_count": 131
        }
      ]
    },
    {
      "cell_type": "code",
      "metadata": {
        "colab": {
          "base_uri": "https://localhost:8080/"
        },
        "id": "rQ7ia0A8dzfk",
        "outputId": "8e911a6f-98e2-4756-e55f-4e29cb69981c"
      },
      "source": [
        "1 - (66685/538511)"
      ],
      "execution_count": 132,
      "outputs": [
        {
          "output_type": "execute_result",
          "data": {
            "text/plain": [
              "0.876167803443198"
            ]
          },
          "metadata": {
            "tags": []
          },
          "execution_count": 132
        }
      ]
    },
    {
      "cell_type": "code",
      "metadata": {
        "colab": {
          "base_uri": "https://localhost:8080/"
        },
        "id": "DQHzAdwkhjRD",
        "outputId": "4b36132a-0ea0-4411-f3cb-5c8afad9ec6a"
      },
      "source": [
        "testdf = pd.Series(y_test)\r\n",
        "testdf.value_counts()"
      ],
      "execution_count": 143,
      "outputs": [
        {
          "output_type": "execute_result",
          "data": {
            "text/plain": [
              "0    538511\n",
              "1     66685\n",
              "dtype: int64"
            ]
          },
          "metadata": {
            "tags": []
          },
          "execution_count": 143
        }
      ]
    },
    {
      "cell_type": "markdown",
      "metadata": {
        "id": "IBWAo74fF82t"
      },
      "source": [
        "### Baseline TCN Model"
      ]
    },
    {
      "cell_type": "code",
      "metadata": {
        "id": "uBt0v5fiQjw2"
      },
      "source": [
        "tf.keras.backend.clear_session()"
      ],
      "execution_count": 188,
      "outputs": []
    },
    {
      "cell_type": "code",
      "metadata": {
        "colab": {
          "base_uri": "https://localhost:8080/",
          "height": 1000
        },
        "id": "GgpOxa3yn0uI",
        "outputId": "e9b638d5-7079-471b-c92f-1875f916c180"
      },
      "source": [
        "i = Input(batch_shape=(batch_size, timesteps, input_dim))\r\n",
        "\r\n",
        "o = TCN(return_sequences=False,\r\n",
        "        nb_filters=64,\r\n",
        "        kernel_size=2,\r\n",
        "        nb_stacks=1,\r\n",
        "        padding='same',\r\n",
        "        use_skip_connections=False,\r\n",
        "        dropout_rate=0.0,\r\n",
        "        activation='relu',\r\n",
        "        kernel_initializer='he_normal',\r\n",
        "        use_batch_norm=True)(i)  # The TCN layers are here.\r\n",
        "o = Dense(1)(o)\r\n",
        "\r\n",
        "m = Model(inputs=[i], outputs=[o])\r\n",
        "m.compile(optimizer='adam',\r\n",
        "          loss='mse',\r\n",
        "          metrics=['accuracy'])\r\n",
        "\r\n",
        "tcn_full_summary(m, expand_residual_blocks=True)\r\n",
        "\r\n",
        "early_stop=keras.callbacks.EarlyStopping(monitor='val_loss',patience=10)\r\n",
        "history = m.fit(X_train, y_train,\r\n",
        "      validation_data=(X_valid,y_valid),\r\n",
        "      epochs=5,\r\n",
        "      batch_size=128,\r\n",
        "      callbacks=[early_stop])"
      ],
      "execution_count": 189,
      "outputs": [
        {
          "output_type": "stream",
          "text": [
            "Model: \"functional_1\"\n",
            "_________________________________________________________________\n",
            "Layer (type)                 Output Shape              Param #   \n",
            "=================================================================\n",
            "input_1 (InputLayer)         [(None, 11, 1)]           0         \n",
            "_________________________________________________________________\n",
            "matching_conv1D (Conv1D)     (None, 11, 64)            128       \n",
            "_________________________________________________________________\n",
            "activation_2 (Activation)    (None, 11, 64)            0         \n",
            "_________________________________________________________________\n",
            "conv1D_0 (Conv1D)            (None, 11, 64)            192       \n",
            "_________________________________________________________________\n",
            "batch_normalization (BatchNo (None, 11, 64)            256       \n",
            "_________________________________________________________________\n",
            "activation (Activation)      (None, 11, 64)            0         \n",
            "_________________________________________________________________\n",
            "spatial_dropout1d (SpatialDr (None, 11, 64)            0         \n",
            "_________________________________________________________________\n",
            "conv1D_1 (Conv1D)            (None, 11, 64)            8256      \n",
            "_________________________________________________________________\n",
            "batch_normalization_1 (Batch (None, 11, 64)            256       \n",
            "_________________________________________________________________\n",
            "activation_1 (Activation)    (None, 11, 64)            0         \n",
            "_________________________________________________________________\n",
            "spatial_dropout1d_1 (Spatial (None, 11, 64)            0         \n",
            "_________________________________________________________________\n",
            "matching_identity (Lambda)   (None, 11, 64)            0         \n",
            "_________________________________________________________________\n",
            "activation_5 (Activation)    (None, 11, 64)            0         \n",
            "_________________________________________________________________\n",
            "conv1D_0 (Conv1D)            (None, 11, 64)            8256      \n",
            "_________________________________________________________________\n",
            "batch_normalization_2 (Batch (None, 11, 64)            256       \n",
            "_________________________________________________________________\n",
            "activation_3 (Activation)    (None, 11, 64)            0         \n",
            "_________________________________________________________________\n",
            "spatial_dropout1d_2 (Spatial (None, 11, 64)            0         \n",
            "_________________________________________________________________\n",
            "conv1D_1 (Conv1D)            (None, 11, 64)            8256      \n",
            "_________________________________________________________________\n",
            "batch_normalization_3 (Batch (None, 11, 64)            256       \n",
            "_________________________________________________________________\n",
            "activation_4 (Activation)    (None, 11, 64)            0         \n",
            "_________________________________________________________________\n",
            "spatial_dropout1d_3 (Spatial (None, 11, 64)            0         \n",
            "_________________________________________________________________\n",
            "matching_identity (Lambda)   (None, 11, 64)            0         \n",
            "_________________________________________________________________\n",
            "activation_8 (Activation)    (None, 11, 64)            0         \n",
            "_________________________________________________________________\n",
            "conv1D_0 (Conv1D)            (None, 11, 64)            8256      \n",
            "_________________________________________________________________\n",
            "batch_normalization_4 (Batch (None, 11, 64)            256       \n",
            "_________________________________________________________________\n",
            "activation_6 (Activation)    (None, 11, 64)            0         \n",
            "_________________________________________________________________\n",
            "spatial_dropout1d_4 (Spatial (None, 11, 64)            0         \n",
            "_________________________________________________________________\n",
            "conv1D_1 (Conv1D)            (None, 11, 64)            8256      \n",
            "_________________________________________________________________\n",
            "batch_normalization_5 (Batch (None, 11, 64)            256       \n",
            "_________________________________________________________________\n",
            "activation_7 (Activation)    (None, 11, 64)            0         \n",
            "_________________________________________________________________\n",
            "spatial_dropout1d_5 (Spatial (None, 11, 64)            0         \n",
            "_________________________________________________________________\n",
            "matching_identity (Lambda)   (None, 11, 64)            0         \n",
            "_________________________________________________________________\n",
            "activation_11 (Activation)   (None, 11, 64)            0         \n",
            "_________________________________________________________________\n",
            "conv1D_0 (Conv1D)            (None, 11, 64)            8256      \n",
            "_________________________________________________________________\n",
            "batch_normalization_6 (Batch (None, 11, 64)            256       \n",
            "_________________________________________________________________\n",
            "activation_9 (Activation)    (None, 11, 64)            0         \n",
            "_________________________________________________________________\n",
            "spatial_dropout1d_6 (Spatial (None, 11, 64)            0         \n",
            "_________________________________________________________________\n",
            "conv1D_1 (Conv1D)            (None, 11, 64)            8256      \n",
            "_________________________________________________________________\n",
            "batch_normalization_7 (Batch (None, 11, 64)            256       \n",
            "_________________________________________________________________\n",
            "activation_10 (Activation)   (None, 11, 64)            0         \n",
            "_________________________________________________________________\n",
            "spatial_dropout1d_7 (Spatial (None, 11, 64)            0         \n",
            "_________________________________________________________________\n",
            "matching_identity (Lambda)   (None, 11, 64)            0         \n",
            "_________________________________________________________________\n",
            "activation_14 (Activation)   (None, 11, 64)            0         \n",
            "_________________________________________________________________\n",
            "conv1D_0 (Conv1D)            (None, 11, 64)            8256      \n",
            "_________________________________________________________________\n",
            "batch_normalization_8 (Batch (None, 11, 64)            256       \n",
            "_________________________________________________________________\n",
            "activation_12 (Activation)   (None, 11, 64)            0         \n",
            "_________________________________________________________________\n",
            "spatial_dropout1d_8 (Spatial (None, 11, 64)            0         \n",
            "_________________________________________________________________\n",
            "conv1D_1 (Conv1D)            (None, 11, 64)            8256      \n",
            "_________________________________________________________________\n",
            "batch_normalization_9 (Batch (None, 11, 64)            256       \n",
            "_________________________________________________________________\n",
            "activation_13 (Activation)   (None, 11, 64)            0         \n",
            "_________________________________________________________________\n",
            "spatial_dropout1d_9 (Spatial (None, 11, 64)            0         \n",
            "_________________________________________________________________\n",
            "matching_identity (Lambda)   (None, 11, 64)            0         \n",
            "_________________________________________________________________\n",
            "activation_17 (Activation)   (None, 11, 64)            0         \n",
            "_________________________________________________________________\n",
            "conv1D_0 (Conv1D)            (None, 11, 64)            8256      \n",
            "_________________________________________________________________\n",
            "batch_normalization_10 (Batc (None, 11, 64)            256       \n",
            "_________________________________________________________________\n",
            "activation_15 (Activation)   (None, 11, 64)            0         \n",
            "_________________________________________________________________\n",
            "spatial_dropout1d_10 (Spatia (None, 11, 64)            0         \n",
            "_________________________________________________________________\n",
            "conv1D_1 (Conv1D)            (None, 11, 64)            8256      \n",
            "_________________________________________________________________\n",
            "batch_normalization_11 (Batc (None, 11, 64)            256       \n",
            "_________________________________________________________________\n",
            "activation_16 (Activation)   (None, 11, 64)            0         \n",
            "_________________________________________________________________\n",
            "spatial_dropout1d_11 (Spatia (None, 11, 64)            0         \n",
            "_________________________________________________________________\n",
            "lambda (Lambda)              (None, 64)                0         \n",
            "_________________________________________________________________\n",
            "dense (Dense)                (None, 1)                 65        \n",
            "=================================================================\n",
            "Total params: 94,273\n",
            "Trainable params: 92,737\n",
            "Non-trainable params: 1,536\n",
            "_________________________________________________________________\n",
            "Epoch 1/10\n",
            "16549/16549 [==============================] - 241s 15ms/step - loss: 0.0996 - accuracy: 0.9168 - val_loss: 0.0420 - val_accuracy: 0.9371\n",
            "Epoch 2/10\n",
            "16549/16549 [==============================] - 240s 14ms/step - loss: 0.0652 - accuracy: 0.9309 - val_loss: 0.0715 - val_accuracy: 0.9391\n",
            "Epoch 3/10\n",
            "16549/16549 [==============================] - 246s 15ms/step - loss: 0.0610 - accuracy: 0.9305 - val_loss: 0.0844 - val_accuracy: 0.9391\n",
            "Epoch 4/10\n",
            "16549/16549 [==============================] - 245s 15ms/step - loss: 0.0607 - accuracy: 0.9315 - val_loss: 0.0436 - val_accuracy: 0.9386\n",
            "Epoch 5/10\n",
            "16549/16549 [==============================] - 240s 14ms/step - loss: 0.0592 - accuracy: 0.9312 - val_loss: 0.0405 - val_accuracy: 0.9391\n",
            "Epoch 6/10\n",
            " 1130/16549 [=>............................] - ETA: 3:38 - loss: 0.0604 - accuracy: 0.9274"
          ],
          "name": "stdout"
        },
        {
          "output_type": "error",
          "ename": "KeyboardInterrupt",
          "evalue": "ignored",
          "traceback": [
            "\u001b[0;31m---------------------------------------------------------------------------\u001b[0m",
            "\u001b[0;31mKeyboardInterrupt\u001b[0m                         Traceback (most recent call last)",
            "\u001b[0;32m<ipython-input-189-b929dd85a07b>\u001b[0m in \u001b[0;36m<module>\u001b[0;34m()\u001b[0m\n\u001b[1;32m     25\u001b[0m       \u001b[0mepochs\u001b[0m\u001b[0;34m=\u001b[0m\u001b[0;36m10\u001b[0m\u001b[0;34m,\u001b[0m\u001b[0;34m\u001b[0m\u001b[0;34m\u001b[0m\u001b[0m\n\u001b[1;32m     26\u001b[0m       \u001b[0mbatch_size\u001b[0m\u001b[0;34m=\u001b[0m\u001b[0;36m128\u001b[0m\u001b[0;34m,\u001b[0m\u001b[0;34m\u001b[0m\u001b[0;34m\u001b[0m\u001b[0m\n\u001b[0;32m---> 27\u001b[0;31m       callbacks=[early_stop])\n\u001b[0m",
            "\u001b[0;32m/usr/local/lib/python3.6/dist-packages/tensorflow/python/keras/engine/training.py\u001b[0m in \u001b[0;36m_method_wrapper\u001b[0;34m(self, *args, **kwargs)\u001b[0m\n\u001b[1;32m    106\u001b[0m   \u001b[0;32mdef\u001b[0m \u001b[0m_method_wrapper\u001b[0m\u001b[0;34m(\u001b[0m\u001b[0mself\u001b[0m\u001b[0;34m,\u001b[0m \u001b[0;34m*\u001b[0m\u001b[0margs\u001b[0m\u001b[0;34m,\u001b[0m \u001b[0;34m**\u001b[0m\u001b[0mkwargs\u001b[0m\u001b[0;34m)\u001b[0m\u001b[0;34m:\u001b[0m\u001b[0;34m\u001b[0m\u001b[0;34m\u001b[0m\u001b[0m\n\u001b[1;32m    107\u001b[0m     \u001b[0;32mif\u001b[0m \u001b[0;32mnot\u001b[0m \u001b[0mself\u001b[0m\u001b[0;34m.\u001b[0m\u001b[0m_in_multi_worker_mode\u001b[0m\u001b[0;34m(\u001b[0m\u001b[0;34m)\u001b[0m\u001b[0;34m:\u001b[0m  \u001b[0;31m# pylint: disable=protected-access\u001b[0m\u001b[0;34m\u001b[0m\u001b[0;34m\u001b[0m\u001b[0m\n\u001b[0;32m--> 108\u001b[0;31m       \u001b[0;32mreturn\u001b[0m \u001b[0mmethod\u001b[0m\u001b[0;34m(\u001b[0m\u001b[0mself\u001b[0m\u001b[0;34m,\u001b[0m \u001b[0;34m*\u001b[0m\u001b[0margs\u001b[0m\u001b[0;34m,\u001b[0m \u001b[0;34m**\u001b[0m\u001b[0mkwargs\u001b[0m\u001b[0;34m)\u001b[0m\u001b[0;34m\u001b[0m\u001b[0;34m\u001b[0m\u001b[0m\n\u001b[0m\u001b[1;32m    109\u001b[0m \u001b[0;34m\u001b[0m\u001b[0m\n\u001b[1;32m    110\u001b[0m     \u001b[0;31m# Running inside `run_distribute_coordinator` already.\u001b[0m\u001b[0;34m\u001b[0m\u001b[0;34m\u001b[0m\u001b[0;34m\u001b[0m\u001b[0m\n",
            "\u001b[0;32m/usr/local/lib/python3.6/dist-packages/tensorflow/python/keras/engine/training.py\u001b[0m in \u001b[0;36mfit\u001b[0;34m(self, x, y, batch_size, epochs, verbose, callbacks, validation_split, validation_data, shuffle, class_weight, sample_weight, initial_epoch, steps_per_epoch, validation_steps, validation_batch_size, validation_freq, max_queue_size, workers, use_multiprocessing)\u001b[0m\n\u001b[1;32m   1101\u001b[0m               \u001b[0mlogs\u001b[0m \u001b[0;34m=\u001b[0m \u001b[0mtmp_logs\u001b[0m  \u001b[0;31m# No error, now safe to assign to logs.\u001b[0m\u001b[0;34m\u001b[0m\u001b[0;34m\u001b[0m\u001b[0m\n\u001b[1;32m   1102\u001b[0m               \u001b[0mend_step\u001b[0m \u001b[0;34m=\u001b[0m \u001b[0mstep\u001b[0m \u001b[0;34m+\u001b[0m \u001b[0mdata_handler\u001b[0m\u001b[0;34m.\u001b[0m\u001b[0mstep_increment\u001b[0m\u001b[0;34m\u001b[0m\u001b[0;34m\u001b[0m\u001b[0m\n\u001b[0;32m-> 1103\u001b[0;31m               \u001b[0mcallbacks\u001b[0m\u001b[0;34m.\u001b[0m\u001b[0mon_train_batch_end\u001b[0m\u001b[0;34m(\u001b[0m\u001b[0mend_step\u001b[0m\u001b[0;34m,\u001b[0m \u001b[0mlogs\u001b[0m\u001b[0;34m)\u001b[0m\u001b[0;34m\u001b[0m\u001b[0;34m\u001b[0m\u001b[0m\n\u001b[0m\u001b[1;32m   1104\u001b[0m         \u001b[0mepoch_logs\u001b[0m \u001b[0;34m=\u001b[0m \u001b[0mcopy\u001b[0m\u001b[0;34m.\u001b[0m\u001b[0mcopy\u001b[0m\u001b[0;34m(\u001b[0m\u001b[0mlogs\u001b[0m\u001b[0;34m)\u001b[0m\u001b[0;34m\u001b[0m\u001b[0;34m\u001b[0m\u001b[0m\n\u001b[1;32m   1105\u001b[0m \u001b[0;34m\u001b[0m\u001b[0m\n",
            "\u001b[0;32m/usr/local/lib/python3.6/dist-packages/tensorflow/python/keras/callbacks.py\u001b[0m in \u001b[0;36mon_train_batch_end\u001b[0;34m(self, batch, logs)\u001b[0m\n\u001b[1;32m    438\u001b[0m     \"\"\"\n\u001b[1;32m    439\u001b[0m     \u001b[0;32mif\u001b[0m \u001b[0mself\u001b[0m\u001b[0;34m.\u001b[0m\u001b[0m_should_call_train_batch_hooks\u001b[0m\u001b[0;34m:\u001b[0m\u001b[0;34m\u001b[0m\u001b[0;34m\u001b[0m\u001b[0m\n\u001b[0;32m--> 440\u001b[0;31m       \u001b[0mself\u001b[0m\u001b[0;34m.\u001b[0m\u001b[0m_call_batch_hook\u001b[0m\u001b[0;34m(\u001b[0m\u001b[0mModeKeys\u001b[0m\u001b[0;34m.\u001b[0m\u001b[0mTRAIN\u001b[0m\u001b[0;34m,\u001b[0m \u001b[0;34m'end'\u001b[0m\u001b[0;34m,\u001b[0m \u001b[0mbatch\u001b[0m\u001b[0;34m,\u001b[0m \u001b[0mlogs\u001b[0m\u001b[0;34m=\u001b[0m\u001b[0mlogs\u001b[0m\u001b[0;34m)\u001b[0m\u001b[0;34m\u001b[0m\u001b[0;34m\u001b[0m\u001b[0m\n\u001b[0m\u001b[1;32m    441\u001b[0m \u001b[0;34m\u001b[0m\u001b[0m\n\u001b[1;32m    442\u001b[0m   \u001b[0;32mdef\u001b[0m \u001b[0mon_test_batch_begin\u001b[0m\u001b[0;34m(\u001b[0m\u001b[0mself\u001b[0m\u001b[0;34m,\u001b[0m \u001b[0mbatch\u001b[0m\u001b[0;34m,\u001b[0m \u001b[0mlogs\u001b[0m\u001b[0;34m=\u001b[0m\u001b[0;32mNone\u001b[0m\u001b[0;34m)\u001b[0m\u001b[0;34m:\u001b[0m\u001b[0;34m\u001b[0m\u001b[0;34m\u001b[0m\u001b[0m\n",
            "\u001b[0;32m/usr/local/lib/python3.6/dist-packages/tensorflow/python/keras/callbacks.py\u001b[0m in \u001b[0;36m_call_batch_hook\u001b[0;34m(self, mode, hook, batch, logs)\u001b[0m\n\u001b[1;32m    287\u001b[0m       \u001b[0mself\u001b[0m\u001b[0;34m.\u001b[0m\u001b[0m_call_batch_begin_hook\u001b[0m\u001b[0;34m(\u001b[0m\u001b[0mmode\u001b[0m\u001b[0;34m,\u001b[0m \u001b[0mbatch\u001b[0m\u001b[0;34m,\u001b[0m \u001b[0mlogs\u001b[0m\u001b[0;34m)\u001b[0m\u001b[0;34m\u001b[0m\u001b[0;34m\u001b[0m\u001b[0m\n\u001b[1;32m    288\u001b[0m     \u001b[0;32melif\u001b[0m \u001b[0mhook\u001b[0m \u001b[0;34m==\u001b[0m \u001b[0;34m'end'\u001b[0m\u001b[0;34m:\u001b[0m\u001b[0;34m\u001b[0m\u001b[0;34m\u001b[0m\u001b[0m\n\u001b[0;32m--> 289\u001b[0;31m       \u001b[0mself\u001b[0m\u001b[0;34m.\u001b[0m\u001b[0m_call_batch_end_hook\u001b[0m\u001b[0;34m(\u001b[0m\u001b[0mmode\u001b[0m\u001b[0;34m,\u001b[0m \u001b[0mbatch\u001b[0m\u001b[0;34m,\u001b[0m \u001b[0mlogs\u001b[0m\u001b[0;34m)\u001b[0m\u001b[0;34m\u001b[0m\u001b[0;34m\u001b[0m\u001b[0m\n\u001b[0m\u001b[1;32m    290\u001b[0m     \u001b[0;32melse\u001b[0m\u001b[0;34m:\u001b[0m\u001b[0;34m\u001b[0m\u001b[0;34m\u001b[0m\u001b[0m\n\u001b[1;32m    291\u001b[0m       \u001b[0;32mraise\u001b[0m \u001b[0mValueError\u001b[0m\u001b[0;34m(\u001b[0m\u001b[0;34m'Unrecognized hook: {}'\u001b[0m\u001b[0;34m.\u001b[0m\u001b[0mformat\u001b[0m\u001b[0;34m(\u001b[0m\u001b[0mhook\u001b[0m\u001b[0;34m)\u001b[0m\u001b[0;34m)\u001b[0m\u001b[0;34m\u001b[0m\u001b[0;34m\u001b[0m\u001b[0m\n",
            "\u001b[0;32m/usr/local/lib/python3.6/dist-packages/tensorflow/python/keras/callbacks.py\u001b[0m in \u001b[0;36m_call_batch_end_hook\u001b[0;34m(self, mode, batch, logs)\u001b[0m\n\u001b[1;32m    307\u001b[0m       \u001b[0mbatch_time\u001b[0m \u001b[0;34m=\u001b[0m \u001b[0mtime\u001b[0m\u001b[0;34m.\u001b[0m\u001b[0mtime\u001b[0m\u001b[0;34m(\u001b[0m\u001b[0;34m)\u001b[0m \u001b[0;34m-\u001b[0m \u001b[0mself\u001b[0m\u001b[0;34m.\u001b[0m\u001b[0m_batch_start_time\u001b[0m\u001b[0;34m\u001b[0m\u001b[0;34m\u001b[0m\u001b[0m\n\u001b[1;32m    308\u001b[0m \u001b[0;34m\u001b[0m\u001b[0m\n\u001b[0;32m--> 309\u001b[0;31m     \u001b[0mself\u001b[0m\u001b[0;34m.\u001b[0m\u001b[0m_call_batch_hook_helper\u001b[0m\u001b[0;34m(\u001b[0m\u001b[0mhook_name\u001b[0m\u001b[0;34m,\u001b[0m \u001b[0mbatch\u001b[0m\u001b[0;34m,\u001b[0m \u001b[0mlogs\u001b[0m\u001b[0;34m)\u001b[0m\u001b[0;34m\u001b[0m\u001b[0;34m\u001b[0m\u001b[0m\n\u001b[0m\u001b[1;32m    310\u001b[0m \u001b[0;34m\u001b[0m\u001b[0m\n\u001b[1;32m    311\u001b[0m     \u001b[0;32mif\u001b[0m \u001b[0mself\u001b[0m\u001b[0;34m.\u001b[0m\u001b[0m_check_timing\u001b[0m\u001b[0;34m:\u001b[0m\u001b[0;34m\u001b[0m\u001b[0;34m\u001b[0m\u001b[0m\n",
            "\u001b[0;32m/usr/local/lib/python3.6/dist-packages/tensorflow/python/keras/callbacks.py\u001b[0m in \u001b[0;36m_call_batch_hook_helper\u001b[0;34m(self, hook_name, batch, logs)\u001b[0m\n\u001b[1;32m    343\u001b[0m       \u001b[0;32melse\u001b[0m\u001b[0;34m:\u001b[0m\u001b[0;34m\u001b[0m\u001b[0;34m\u001b[0m\u001b[0m\n\u001b[1;32m    344\u001b[0m         \u001b[0;32mif\u001b[0m \u001b[0mnumpy_logs\u001b[0m \u001b[0;32mis\u001b[0m \u001b[0;32mNone\u001b[0m\u001b[0;34m:\u001b[0m  \u001b[0;31m# Only convert once.\u001b[0m\u001b[0;34m\u001b[0m\u001b[0;34m\u001b[0m\u001b[0m\n\u001b[0;32m--> 345\u001b[0;31m           \u001b[0mnumpy_logs\u001b[0m \u001b[0;34m=\u001b[0m \u001b[0mtf_utils\u001b[0m\u001b[0;34m.\u001b[0m\u001b[0mto_numpy_or_python_type\u001b[0m\u001b[0;34m(\u001b[0m\u001b[0mlogs\u001b[0m\u001b[0;34m)\u001b[0m\u001b[0;34m\u001b[0m\u001b[0;34m\u001b[0m\u001b[0m\n\u001b[0m\u001b[1;32m    346\u001b[0m         \u001b[0mhook\u001b[0m\u001b[0;34m(\u001b[0m\u001b[0mbatch\u001b[0m\u001b[0;34m,\u001b[0m \u001b[0mnumpy_logs\u001b[0m\u001b[0;34m)\u001b[0m\u001b[0;34m\u001b[0m\u001b[0;34m\u001b[0m\u001b[0m\n\u001b[1;32m    347\u001b[0m \u001b[0;34m\u001b[0m\u001b[0m\n",
            "\u001b[0;32m/usr/local/lib/python3.6/dist-packages/tensorflow/python/keras/utils/tf_utils.py\u001b[0m in \u001b[0;36mto_numpy_or_python_type\u001b[0;34m(tensors)\u001b[0m\n\u001b[1;32m    535\u001b[0m     \u001b[0;32mreturn\u001b[0m \u001b[0mt\u001b[0m  \u001b[0;31m# Don't turn ragged or sparse tensors to NumPy.\u001b[0m\u001b[0;34m\u001b[0m\u001b[0;34m\u001b[0m\u001b[0m\n\u001b[1;32m    536\u001b[0m \u001b[0;34m\u001b[0m\u001b[0m\n\u001b[0;32m--> 537\u001b[0;31m   \u001b[0;32mreturn\u001b[0m \u001b[0mnest\u001b[0m\u001b[0;34m.\u001b[0m\u001b[0mmap_structure\u001b[0m\u001b[0;34m(\u001b[0m\u001b[0m_to_single_numpy_or_python_type\u001b[0m\u001b[0;34m,\u001b[0m \u001b[0mtensors\u001b[0m\u001b[0;34m)\u001b[0m\u001b[0;34m\u001b[0m\u001b[0;34m\u001b[0m\u001b[0m\n\u001b[0m\u001b[1;32m    538\u001b[0m \u001b[0;34m\u001b[0m\u001b[0m\n\u001b[1;32m    539\u001b[0m \u001b[0;34m\u001b[0m\u001b[0m\n",
            "\u001b[0;32m/usr/local/lib/python3.6/dist-packages/tensorflow/python/util/nest.py\u001b[0m in \u001b[0;36mmap_structure\u001b[0;34m(func, *structure, **kwargs)\u001b[0m\n\u001b[1;32m    633\u001b[0m \u001b[0;34m\u001b[0m\u001b[0m\n\u001b[1;32m    634\u001b[0m   return pack_sequence_as(\n\u001b[0;32m--> 635\u001b[0;31m       \u001b[0mstructure\u001b[0m\u001b[0;34m[\u001b[0m\u001b[0;36m0\u001b[0m\u001b[0;34m]\u001b[0m\u001b[0;34m,\u001b[0m \u001b[0;34m[\u001b[0m\u001b[0mfunc\u001b[0m\u001b[0;34m(\u001b[0m\u001b[0;34m*\u001b[0m\u001b[0mx\u001b[0m\u001b[0;34m)\u001b[0m \u001b[0;32mfor\u001b[0m \u001b[0mx\u001b[0m \u001b[0;32min\u001b[0m \u001b[0mentries\u001b[0m\u001b[0;34m]\u001b[0m\u001b[0;34m,\u001b[0m\u001b[0;34m\u001b[0m\u001b[0;34m\u001b[0m\u001b[0m\n\u001b[0m\u001b[1;32m    636\u001b[0m       expand_composites=expand_composites)\n\u001b[1;32m    637\u001b[0m \u001b[0;34m\u001b[0m\u001b[0m\n",
            "\u001b[0;32m/usr/local/lib/python3.6/dist-packages/tensorflow/python/util/nest.py\u001b[0m in \u001b[0;36m<listcomp>\u001b[0;34m(.0)\u001b[0m\n\u001b[1;32m    633\u001b[0m \u001b[0;34m\u001b[0m\u001b[0m\n\u001b[1;32m    634\u001b[0m   return pack_sequence_as(\n\u001b[0;32m--> 635\u001b[0;31m       \u001b[0mstructure\u001b[0m\u001b[0;34m[\u001b[0m\u001b[0;36m0\u001b[0m\u001b[0;34m]\u001b[0m\u001b[0;34m,\u001b[0m \u001b[0;34m[\u001b[0m\u001b[0mfunc\u001b[0m\u001b[0;34m(\u001b[0m\u001b[0;34m*\u001b[0m\u001b[0mx\u001b[0m\u001b[0;34m)\u001b[0m \u001b[0;32mfor\u001b[0m \u001b[0mx\u001b[0m \u001b[0;32min\u001b[0m \u001b[0mentries\u001b[0m\u001b[0;34m]\u001b[0m\u001b[0;34m,\u001b[0m\u001b[0;34m\u001b[0m\u001b[0;34m\u001b[0m\u001b[0m\n\u001b[0m\u001b[1;32m    636\u001b[0m       expand_composites=expand_composites)\n\u001b[1;32m    637\u001b[0m \u001b[0;34m\u001b[0m\u001b[0m\n",
            "\u001b[0;32m/usr/local/lib/python3.6/dist-packages/tensorflow/python/keras/utils/tf_utils.py\u001b[0m in \u001b[0;36m_to_single_numpy_or_python_type\u001b[0;34m(t)\u001b[0m\n\u001b[1;32m    531\u001b[0m   \u001b[0;32mdef\u001b[0m \u001b[0m_to_single_numpy_or_python_type\u001b[0m\u001b[0;34m(\u001b[0m\u001b[0mt\u001b[0m\u001b[0;34m)\u001b[0m\u001b[0;34m:\u001b[0m\u001b[0;34m\u001b[0m\u001b[0;34m\u001b[0m\u001b[0m\n\u001b[1;32m    532\u001b[0m     \u001b[0;32mif\u001b[0m \u001b[0misinstance\u001b[0m\u001b[0;34m(\u001b[0m\u001b[0mt\u001b[0m\u001b[0;34m,\u001b[0m \u001b[0mops\u001b[0m\u001b[0;34m.\u001b[0m\u001b[0mTensor\u001b[0m\u001b[0;34m)\u001b[0m\u001b[0;34m:\u001b[0m\u001b[0;34m\u001b[0m\u001b[0;34m\u001b[0m\u001b[0m\n\u001b[0;32m--> 533\u001b[0;31m       \u001b[0mx\u001b[0m \u001b[0;34m=\u001b[0m \u001b[0mt\u001b[0m\u001b[0;34m.\u001b[0m\u001b[0mnumpy\u001b[0m\u001b[0;34m(\u001b[0m\u001b[0;34m)\u001b[0m\u001b[0;34m\u001b[0m\u001b[0;34m\u001b[0m\u001b[0m\n\u001b[0m\u001b[1;32m    534\u001b[0m       \u001b[0;32mreturn\u001b[0m \u001b[0mx\u001b[0m\u001b[0;34m.\u001b[0m\u001b[0mitem\u001b[0m\u001b[0;34m(\u001b[0m\u001b[0;34m)\u001b[0m \u001b[0;32mif\u001b[0m \u001b[0mnp\u001b[0m\u001b[0;34m.\u001b[0m\u001b[0mndim\u001b[0m\u001b[0;34m(\u001b[0m\u001b[0mx\u001b[0m\u001b[0;34m)\u001b[0m \u001b[0;34m==\u001b[0m \u001b[0;36m0\u001b[0m \u001b[0;32melse\u001b[0m \u001b[0mx\u001b[0m\u001b[0;34m\u001b[0m\u001b[0;34m\u001b[0m\u001b[0m\n\u001b[1;32m    535\u001b[0m     \u001b[0;32mreturn\u001b[0m \u001b[0mt\u001b[0m  \u001b[0;31m# Don't turn ragged or sparse tensors to NumPy.\u001b[0m\u001b[0;34m\u001b[0m\u001b[0;34m\u001b[0m\u001b[0m\n",
            "\u001b[0;32m/usr/local/lib/python3.6/dist-packages/tensorflow/python/framework/ops.py\u001b[0m in \u001b[0;36mnumpy\u001b[0;34m(self)\u001b[0m\n\u001b[1;32m   1061\u001b[0m     \"\"\"\n\u001b[1;32m   1062\u001b[0m     \u001b[0;31m# TODO(slebedev): Consider avoiding a copy for non-CPU or remote tensors.\u001b[0m\u001b[0;34m\u001b[0m\u001b[0;34m\u001b[0m\u001b[0;34m\u001b[0m\u001b[0m\n\u001b[0;32m-> 1063\u001b[0;31m     \u001b[0mmaybe_arr\u001b[0m \u001b[0;34m=\u001b[0m \u001b[0mself\u001b[0m\u001b[0;34m.\u001b[0m\u001b[0m_numpy\u001b[0m\u001b[0;34m(\u001b[0m\u001b[0;34m)\u001b[0m  \u001b[0;31m# pylint: disable=protected-access\u001b[0m\u001b[0;34m\u001b[0m\u001b[0;34m\u001b[0m\u001b[0m\n\u001b[0m\u001b[1;32m   1064\u001b[0m     \u001b[0;32mreturn\u001b[0m \u001b[0mmaybe_arr\u001b[0m\u001b[0;34m.\u001b[0m\u001b[0mcopy\u001b[0m\u001b[0;34m(\u001b[0m\u001b[0;34m)\u001b[0m \u001b[0;32mif\u001b[0m \u001b[0misinstance\u001b[0m\u001b[0;34m(\u001b[0m\u001b[0mmaybe_arr\u001b[0m\u001b[0;34m,\u001b[0m \u001b[0mnp\u001b[0m\u001b[0;34m.\u001b[0m\u001b[0mndarray\u001b[0m\u001b[0;34m)\u001b[0m \u001b[0;32melse\u001b[0m \u001b[0mmaybe_arr\u001b[0m\u001b[0;34m\u001b[0m\u001b[0;34m\u001b[0m\u001b[0m\n\u001b[1;32m   1065\u001b[0m \u001b[0;34m\u001b[0m\u001b[0m\n",
            "\u001b[0;32m/usr/local/lib/python3.6/dist-packages/tensorflow/python/framework/ops.py\u001b[0m in \u001b[0;36m_numpy\u001b[0;34m(self)\u001b[0m\n\u001b[1;32m   1027\u001b[0m   \u001b[0;32mdef\u001b[0m \u001b[0m_numpy\u001b[0m\u001b[0;34m(\u001b[0m\u001b[0mself\u001b[0m\u001b[0;34m)\u001b[0m\u001b[0;34m:\u001b[0m\u001b[0;34m\u001b[0m\u001b[0;34m\u001b[0m\u001b[0m\n\u001b[1;32m   1028\u001b[0m     \u001b[0;32mtry\u001b[0m\u001b[0;34m:\u001b[0m\u001b[0;34m\u001b[0m\u001b[0;34m\u001b[0m\u001b[0m\n\u001b[0;32m-> 1029\u001b[0;31m       \u001b[0;32mreturn\u001b[0m \u001b[0mself\u001b[0m\u001b[0;34m.\u001b[0m\u001b[0m_numpy_internal\u001b[0m\u001b[0;34m(\u001b[0m\u001b[0;34m)\u001b[0m\u001b[0;34m\u001b[0m\u001b[0;34m\u001b[0m\u001b[0m\n\u001b[0m\u001b[1;32m   1030\u001b[0m     \u001b[0;32mexcept\u001b[0m \u001b[0mcore\u001b[0m\u001b[0;34m.\u001b[0m\u001b[0m_NotOkStatusException\u001b[0m \u001b[0;32mas\u001b[0m \u001b[0me\u001b[0m\u001b[0;34m:\u001b[0m  \u001b[0;31m# pylint: disable=protected-access\u001b[0m\u001b[0;34m\u001b[0m\u001b[0;34m\u001b[0m\u001b[0m\n\u001b[1;32m   1031\u001b[0m       \u001b[0msix\u001b[0m\u001b[0;34m.\u001b[0m\u001b[0mraise_from\u001b[0m\u001b[0;34m(\u001b[0m\u001b[0mcore\u001b[0m\u001b[0;34m.\u001b[0m\u001b[0m_status_to_exception\u001b[0m\u001b[0;34m(\u001b[0m\u001b[0me\u001b[0m\u001b[0;34m.\u001b[0m\u001b[0mcode\u001b[0m\u001b[0;34m,\u001b[0m \u001b[0me\u001b[0m\u001b[0;34m.\u001b[0m\u001b[0mmessage\u001b[0m\u001b[0;34m)\u001b[0m\u001b[0;34m,\u001b[0m \u001b[0;32mNone\u001b[0m\u001b[0;34m)\u001b[0m  \u001b[0;31m# pylint: disable=protected-access\u001b[0m\u001b[0;34m\u001b[0m\u001b[0;34m\u001b[0m\u001b[0m\n",
            "\u001b[0;31mKeyboardInterrupt\u001b[0m: "
          ]
        }
      ]
    },
    {
      "cell_type": "code",
      "metadata": {
        "colab": {
          "base_uri": "https://localhost:8080/",
          "height": 312
        },
        "id": "8UECl3FHWVVm",
        "outputId": "ca8caaf6-a8d7-4fdc-afc1-739f27a854c4"
      },
      "source": [
        "tf.keras.utils.plot_model(m,show_shapes=True)"
      ],
      "execution_count": 190,
      "outputs": [
        {
          "output_type": "execute_result",
          "data": {
            "image/png": "[encoded data removed]",
            "text/plain": [
              "<IPython.core.display.Image object>"
            ]
          },
          "metadata": {
            "tags": []
          },
          "execution_count": 190
        }
      ]
    },
    {
      "cell_type": "markdown",
      "metadata": {
        "id": "UQWD7ITmF1pP"
      },
      "source": [
        "### Evaluation and Plotting"
      ]
    },
    {
      "cell_type": "code",
      "metadata": {
        "colab": {
          "base_uri": "https://localhost:8080/"
        },
        "id": "YcbtyZO7nvfh",
        "outputId": "03d4fde1-c854-4627-f747-9e703917b7aa"
      },
      "source": [
        "scores = m.evaluate(X_test,y_test)\r\n",
        "print(f\"Loss, Accuracy: {scores}\")"
      ],
      "execution_count": 257,
      "outputs": [
        {
          "output_type": "stream",
          "text": [
            "2365/2365 [==============================] - 9s 4ms/step - loss: 0.0402 - accuracy: 0.9391\n",
            "Loss, Accuracy: [0.040159717202186584, 0.9391205310821533]\n"
          ],
          "name": "stdout"
        }
      ]
    },
    {
      "cell_type": "code",
      "metadata": {
        "id": "I-dz0b9mN3rd",
        "colab": {
          "base_uri": "https://localhost:8080/",
          "height": 325
        },
        "outputId": "59c8e895-7427-4c9e-9a15-7223e73a8905"
      },
      "source": [
        "plt.subplot(1,2,1)\n",
        "plt.plot(history.history[\"loss\"])\n",
        "plt.plot(history.history[\"val_loss\"])\n",
        "plt.legend(('loss','val_loss'))\n",
        "plt.subplot(1,2,2)\n",
        "plt.plot(history.history[\"accuracy\"])\n",
        "plt.plot(history.history[\"val_accuracy\"])\n",
        "plt.legend(('acc','val_acc'))\n",
        "\n",
        "plt.gcf().set_size_inches((10,5))\n",
        "plt.show()"
      ],
      "execution_count": 192,
      "outputs": [
        {
          "output_type": "display_data",
          "data": {
            "image/png": "[encoded data removed]",
            "text/plain": [
              "<Figure size 720x360 with 2 Axes>"
            ]
          },
          "metadata": {
            "tags": [],
            "needs_background": "light"
          }
        }
      ]
    },
    {
      "cell_type": "code",
      "metadata": {
        "id": "5kGktS-TDagM"
      },
      "source": [
        "y_pred = m.predict(X_test, )"
      ],
      "execution_count": 193,
      "outputs": []
    },
    {
      "cell_type": "code",
      "metadata": {
        "colab": {
          "base_uri": "https://localhost:8080/"
        },
        "id": "pCJ9CsNzztQu",
        "outputId": "352226c5-1180-42f7-b107-fbf7363f9a5b"
      },
      "source": [
        "X_test[30],y_test[30], np.argmax(y_pred[30])"
      ],
      "execution_count": 194,
      "outputs": [
        {
          "output_type": "execute_result",
          "data": {
            "text/plain": [
              "(array([880,   0,   8, 255,  32,   0, 128, 255,   0,   0, 100]), 0, 0)"
            ]
          },
          "metadata": {
            "tags": []
          },
          "execution_count": 194
        }
      ]
    },
    {
      "cell_type": "code",
      "metadata": {
        "colab": {
          "base_uri": "https://localhost:8080/"
        },
        "id": "Nf2ANdveeB_F",
        "outputId": "57e909e3-8172-4611-8676-0b7b0bf40336"
      },
      "source": [
        "classes = np.array([np.argmax(i) for i in y_pred])\r\n",
        "np.unique(classes), classes[:20]"
      ],
      "execution_count": 195,
      "outputs": [
        {
          "output_type": "execute_result",
          "data": {
            "text/plain": [
              "(array([0]),\n",
              " array([0, 0, 0, 0, 0, 0, 0, 0, 0, 0, 0, 0, 0, 0, 0, 0, 0, 0, 0, 0]))"
            ]
          },
          "metadata": {
            "tags": []
          },
          "execution_count": 195
        }
      ]
    },
    {
      "cell_type": "code",
      "metadata": {
        "colab": {
          "base_uri": "https://localhost:8080/"
        },
        "id": "M0HML9SaehxK",
        "outputId": "bebc6617-01bc-4555-b5f5-521d10f0b871"
      },
      "source": [
        "recall_score(y_test,classes)"
      ],
      "execution_count": 196,
      "outputs": [
        {
          "output_type": "execute_result",
          "data": {
            "text/plain": [
              "0.0"
            ]
          },
          "metadata": {
            "tags": []
          },
          "execution_count": 196
        }
      ]
    },
    {
      "cell_type": "code",
      "metadata": {
        "colab": {
          "base_uri": "https://localhost:8080/"
        },
        "id": "2ikXo7SSiZHt",
        "outputId": "3b94300f-86c9-4e60-acf8-f2937d9a9a4b"
      },
      "source": [
        "predlist = classes.reshape((classes.shape[0],1))\n",
        "y_test.shape, y_pred.shape, predlist.shape"
      ],
      "execution_count": 197,
      "outputs": [
        {
          "output_type": "execute_result",
          "data": {
            "text/plain": [
              "((605196,), (605196, 1), (605196, 1))"
            ]
          },
          "metadata": {
            "tags": []
          },
          "execution_count": 197
        }
      ]
    },
    {
      "cell_type": "code",
      "metadata": {
        "colab": {
          "base_uri": "https://localhost:8080/",
          "height": 402
        },
        "id": "lfSYLdIDj6Tg",
        "outputId": "24d2c738-05c2-4ce7-fbf5-a75dfa50c4df"
      },
      "source": [
        "compdf = pd.DataFrame(predlist)\n",
        "compdf['real'] = y_test\n",
        "compdf = compdf.rename(columns={0:'pred'})\n",
        "compdf['T/F Prediction'] = np.where(compdf['pred'] == compdf['real'],True, False)\n",
        "compdf"
      ],
      "execution_count": 198,
      "outputs": [
        {
          "output_type": "execute_result",
          "data": {
            "text/html": [
              "<div>\n",
              "<style scoped>\n",
              "    .dataframe tbody tr th:only-of-type {\n",
              "        vertical-align: middle;\n",
              "    }\n",
              "\n",
              "    .dataframe tbody tr th {\n",
              "        vertical-align: top;\n",
              "    }\n",
              "\n",
              "    .dataframe thead th {\n",
              "        text-align: right;\n",
              "    }\n",
              "</style>\n",
              "<table border=\"1\" class=\"dataframe\">\n",
              "  <thead>\n",
              "    <tr style=\"text-align: right;\">\n",
              "      <th></th>\n",
              "      <th>pred</th>\n",
              "      <th>real</th>\n",
              "      <th>T/F Prediction</th>\n",
              "    </tr>\n",
              "  </thead>\n",
              "  <tbody>\n",
              "    <tr>\n",
              "      <th>0</th>\n",
              "      <td>0</td>\n",
              "      <td>0</td>\n",
              "      <td>True</td>\n",
              "    </tr>\n",
              "    <tr>\n",
              "      <th>1</th>\n",
              "      <td>0</td>\n",
              "      <td>0</td>\n",
              "      <td>True</td>\n",
              "    </tr>\n",
              "    <tr>\n",
              "      <th>2</th>\n",
              "      <td>0</td>\n",
              "      <td>0</td>\n",
              "      <td>True</td>\n",
              "    </tr>\n",
              "    <tr>\n",
              "      <th>3</th>\n",
              "      <td>0</td>\n",
              "      <td>0</td>\n",
              "      <td>True</td>\n",
              "    </tr>\n",
              "    <tr>\n",
              "      <th>4</th>\n",
              "      <td>0</td>\n",
              "      <td>0</td>\n",
              "      <td>True</td>\n",
              "    </tr>\n",
              "    <tr>\n",
              "      <th>...</th>\n",
              "      <td>...</td>\n",
              "      <td>...</td>\n",
              "      <td>...</td>\n",
              "    </tr>\n",
              "    <tr>\n",
              "      <th>605191</th>\n",
              "      <td>0</td>\n",
              "      <td>0</td>\n",
              "      <td>True</td>\n",
              "    </tr>\n",
              "    <tr>\n",
              "      <th>605192</th>\n",
              "      <td>0</td>\n",
              "      <td>0</td>\n",
              "      <td>True</td>\n",
              "    </tr>\n",
              "    <tr>\n",
              "      <th>605193</th>\n",
              "      <td>0</td>\n",
              "      <td>0</td>\n",
              "      <td>True</td>\n",
              "    </tr>\n",
              "    <tr>\n",
              "      <th>605194</th>\n",
              "      <td>0</td>\n",
              "      <td>0</td>\n",
              "      <td>True</td>\n",
              "    </tr>\n",
              "    <tr>\n",
              "      <th>605195</th>\n",
              "      <td>0</td>\n",
              "      <td>0</td>\n",
              "      <td>True</td>\n",
              "    </tr>\n",
              "  </tbody>\n",
              "</table>\n",
              "<p>605196 rows × 3 columns</p>\n",
              "</div>"
            ],
            "text/plain": [
              "        pred  real  T/F Prediction\n",
              "0          0     0            True\n",
              "1          0     0            True\n",
              "2          0     0            True\n",
              "3          0     0            True\n",
              "4          0     0            True\n",
              "...      ...   ...             ...\n",
              "605191     0     0            True\n",
              "605192     0     0            True\n",
              "605193     0     0            True\n",
              "605194     0     0            True\n",
              "605195     0     0            True\n",
              "\n",
              "[605196 rows x 3 columns]"
            ]
          },
          "metadata": {
            "tags": []
          },
          "execution_count": 198
        }
      ]
    },
    {
      "cell_type": "code",
      "metadata": {
        "colab": {
          "base_uri": "https://localhost:8080/"
        },
        "id": "EV5PraSuglvY",
        "outputId": "c98c9acb-d00f-49f8-ccd1-8f86adae8362"
      },
      "source": [
        "np.unique(compdf.loc[compdf.real == 1]['T/F Prediction'])"
      ],
      "execution_count": 199,
      "outputs": [
        {
          "output_type": "execute_result",
          "data": {
            "text/plain": [
              "array([False])"
            ]
          },
          "metadata": {
            "tags": []
          },
          "execution_count": 199
        }
      ]
    },
    {
      "cell_type": "code",
      "metadata": {
        "colab": {
          "base_uri": "https://localhost:8080/",
          "height": 582
        },
        "id": "sGvcvS3pe9mW",
        "outputId": "30fac120-1757-4c76-8490-b68e5b07cd60"
      },
      "source": [
        "plot_min=60\r\n",
        "plot_max =120\r\n",
        "plt.scatter(range(plot_min,plot_max),y_test[plot_min:plot_max])\r\n",
        "plt.scatter(range(plot_min,plot_max),[y_pred[i].argmax()+0.02 for i in range(len(y_pred[plot_min:plot_max]))],c=['r'])\r\n",
        "plt.legend(('test class','predicted class'))\r\n",
        "plt.xlabel('timestamp index')\r\n",
        "plt.ylabel('class (0 = normal, 1 = anomaly)')\r\n",
        "plt.xticks(ticks=range(plot_min, plot_max))\r\n",
        "plt.gcf().set_size_inches((20,10))\r\n",
        "# plt.gcf().autofmt_xdate()\r\n",
        "plt.show()"
      ],
      "execution_count": 200,
      "outputs": [
        {
          "output_type": "display_data",
          "data": {
            "image/png": "[encoded data removed]",
            "text/plain": [
              "<Figure size 1440x720 with 1 Axes>"
            ]
          },
          "metadata": {
            "tags": [],
            "needs_background": "light"
          }
        }
      ]
    },
    {
      "cell_type": "markdown",
      "metadata": {
        "id": "W3GQjdkNqwOI"
      },
      "source": [
        "### Saving and Checking the size of the Model"
      ]
    },
    {
      "cell_type": "code",
      "metadata": {
        "id": "goQpm6R7jVAb",
        "colab": {
          "base_uri": "https://localhost:8080/"
        },
        "outputId": "0583528b-e2df-4aa4-b9ac-e047977a9912"
      },
      "source": [
        "saved_model_dir = '/content/drive/MyDrive/Colab Notebooks/CS581/project-data/'\r\n",
        "m.save(saved_model_dir + \"tcn-baseline.h5\",include_optimizer=False)\r\n",
        "print(f\"Saving Model to: {saved_model_dir}tcn-baseline.h5\")"
      ],
      "execution_count": 201,
      "outputs": [
        {
          "output_type": "stream",
          "text": [
            "Saving Model to: /content/drive/MyDrive/Colab Notebooks/CS581/project-data/tcn-baseline.h5\n"
          ],
          "name": "stdout"
        }
      ]
    },
    {
      "cell_type": "code",
      "metadata": {
        "colab": {
          "base_uri": "https://localhost:8080/"
        },
        "id": "LlKmug6yphtL",
        "outputId": "642a78c8-0c99-4aa0-db0b-e4991d174721"
      },
      "source": [
        "print(f'Size of the model without compression: {os.path.getsize(saved_model_dir + \"tcn-baseline.h5\")/float(2**20)} Mb')"
      ],
      "execution_count": 202,
      "outputs": [
        {
          "output_type": "stream",
          "text": [
            "Size of the model without compression: 0.42667388916015625 Mb\n"
          ],
          "name": "stdout"
        }
      ]
    },
    {
      "cell_type": "code",
      "metadata": {
        "id": "7n5JP096Pxsf"
      },
      "source": [
        ""
      ],
      "execution_count": 202,
      "outputs": []
    },
    {
      "cell_type": "markdown",
      "metadata": {
        "id": "ZIL1RnWui1PP"
      },
      "source": [
        "# Resource-Optimized TCN Models"
      ]
    },
    {
      "cell_type": "markdown",
      "metadata": {
        "id": "DGImGjxki9lV"
      },
      "source": [
        "## Convert to TFLite"
      ]
    },
    {
      "cell_type": "code",
      "metadata": {
        "colab": {
          "base_uri": "https://localhost:8080/"
        },
        "id": "ORXaNDdRi82e",
        "outputId": "1bee9f50-a9e8-4f7a-f89e-939b3f411ec6"
      },
      "source": [
        "converter = tf.lite.TFLiteConverter.from_keras_model(m)\r\n",
        "tflite_model = converter.convert()\r\n",
        "tf_lite_model_file = saved_model_dir + 'tcn-baseline.tflite'\r\n",
        "\r\n",
        "with open(tf_lite_model_file,'wb') as f:\r\n",
        "    f.write(tflite_model)"
      ],
      "execution_count": 253,
      "outputs": [
        {
          "output_type": "stream",
          "text": [
            "INFO:tensorflow:Assets written to: /tmp/tmpvi_j1rci/assets\n"
          ],
          "name": "stdout"
        },
        {
          "output_type": "stream",
          "text": [
            "INFO:tensorflow:Assets written to: /tmp/tmpvi_j1rci/assets\n"
          ],
          "name": "stderr"
        }
      ]
    },
    {
      "cell_type": "code",
      "metadata": {
        "colab": {
          "base_uri": "https://localhost:8080/"
        },
        "id": "I5ma51_QjbZ7",
        "outputId": "71aff9e1-f686-4627-db15-a1c8ae1088a4"
      },
      "source": [
        "interpreter = tf.lite.Interpreter(model_path=tf_lite_model_file)\r\n",
        "interpreter.allocate_tensors()\r\n",
        "input_index = interpreter.get_input_details()[0]['index']\r\n",
        "input_index"
      ],
      "execution_count": 254,
      "outputs": [
        {
          "output_type": "execute_result",
          "data": {
            "text/plain": [
              "0"
            ]
          },
          "metadata": {
            "tags": []
          },
          "execution_count": 254
        }
      ]
    },
    {
      "cell_type": "code",
      "metadata": {
        "colab": {
          "base_uri": "https://localhost:8080/"
        },
        "id": "0uqGZ4c_jmd0",
        "outputId": "41890f51-e8c4-4fc6-d2a2-297e53b9b7a3"
      },
      "source": [
        "output_index = interpreter.get_output_details()[0]['index']\r\n",
        "output_index"
      ],
      "execution_count": 206,
      "outputs": [
        {
          "output_type": "execute_result",
          "data": {
            "text/plain": [
              "168"
            ]
          },
          "metadata": {
            "tags": []
          },
          "execution_count": 206
        }
      ]
    },
    {
      "cell_type": "code",
      "metadata": {
        "colab": {
          "base_uri": "https://localhost:8080/"
        },
        "id": "t1H90n4al7fW",
        "outputId": "2bd064da-a84d-4f16-93eb-af40ed949182"
      },
      "source": [
        "interpreter.get_input_details()"
      ],
      "execution_count": 207,
      "outputs": [
        {
          "output_type": "execute_result",
          "data": {
            "text/plain": [
              "[{'dtype': numpy.float32,\n",
              "  'index': 0,\n",
              "  'name': 'input_1',\n",
              "  'quantization': (0.0, 0),\n",
              "  'quantization_parameters': {'quantized_dimension': 0,\n",
              "   'scales': array([], dtype=float32),\n",
              "   'zero_points': array([], dtype=int32)},\n",
              "  'shape': array([ 1, 11,  1], dtype=int32),\n",
              "  'shape_signature': array([-1, 11,  1], dtype=int32),\n",
              "  'sparsity_parameters': {}}]"
            ]
          },
          "metadata": {
            "tags": []
          },
          "execution_count": 207
        }
      ]
    },
    {
      "cell_type": "code",
      "metadata": {
        "colab": {
          "base_uri": "https://localhost:8080/"
        },
        "id": "6yRJpxepmhA6",
        "outputId": "45dd0819-c1d1-4cae-8a95-c52560293abb"
      },
      "source": [
        "interpreter.get_output_details()"
      ],
      "execution_count": 208,
      "outputs": [
        {
          "output_type": "execute_result",
          "data": {
            "text/plain": [
              "[{'dtype': numpy.float32,\n",
              "  'index': 168,\n",
              "  'name': 'Identity',\n",
              "  'quantization': (0.0, 0),\n",
              "  'quantization_parameters': {'quantized_dimension': 0,\n",
              "   'scales': array([], dtype=float32),\n",
              "   'zero_points': array([], dtype=int32)},\n",
              "  'shape': array([1, 1], dtype=int32),\n",
              "  'shape_signature': array([-1,  1], dtype=int32),\n",
              "  'sparsity_parameters': {}}]"
            ]
          },
          "metadata": {
            "tags": []
          },
          "execution_count": 208
        }
      ]
    },
    {
      "cell_type": "code",
      "metadata": {
        "id": "Ymd2mR-mjp3K"
      },
      "source": [
        "def evaluate_model(interpreter):\r\n",
        "    input_index = interpreter.get_input_details()[0][\"index\"]\r\n",
        "    output_index = interpreter.get_output_details()[0]['index']\r\n",
        "    predictions = []\r\n",
        "\r\n",
        "    for img in X_test:\r\n",
        "\r\n",
        "        timg = img[np.newaxis,:,np.newaxis].astype(np.float32)#np.expand_dims(img,axis = 0).astype(np.float32)\r\n",
        "        interpreter.set_tensor(input_index,timg)\r\n",
        "        \r\n",
        "        interpreter.invoke()\r\n",
        "\r\n",
        "        output = interpreter.tensor(output_index)\r\n",
        "        pred = np.argmax(output()[0])\r\n",
        "        predictions.append(pred)\r\n",
        "\r\n",
        "    predictions = np.array(predictions)\r\n",
        "    accuracy= (predictions == y_test).mean()\r\n",
        "    return accuracy    "
      ],
      "execution_count": 209,
      "outputs": []
    },
    {
      "cell_type": "code",
      "metadata": {
        "colab": {
          "base_uri": "https://localhost:8080/"
        },
        "id": "jWFqwo_CmG6k",
        "outputId": "d5d072e9-d99a-407e-9cda-98c01d6ca242"
      },
      "source": [
        "X_test[0].shape"
      ],
      "execution_count": 210,
      "outputs": [
        {
          "output_type": "execute_result",
          "data": {
            "text/plain": [
              "(11,)"
            ]
          },
          "metadata": {
            "tags": []
          },
          "execution_count": 210
        }
      ]
    },
    {
      "cell_type": "markdown",
      "metadata": {
        "id": "16oX3ES29jFs"
      },
      "source": [
        "### TFLite Compression Size"
      ]
    },
    {
      "cell_type": "code",
      "metadata": {
        "colab": {
          "base_uri": "https://localhost:8080/"
        },
        "id": "CBJWPfPvk6ef",
        "outputId": "d9947a9f-7ddb-4e2d-9b1c-55f0c39bc577"
      },
      "source": [
        "print(f'Size of the model after compression: {os.path.getsize(tf_lite_model_file)/float(2**20)} Mb')"
      ],
      "execution_count": 204,
      "outputs": [
        {
          "output_type": "stream",
          "text": [
            "Size of the model after compression: 0.3809165954589844 Mb\n"
          ],
          "name": "stdout"
        }
      ]
    },
    {
      "cell_type": "markdown",
      "metadata": {
        "id": "f-lVeWBt95Sm"
      },
      "source": [
        "### TFLite Compression Accuracy"
      ]
    },
    {
      "cell_type": "code",
      "metadata": {
        "colab": {
          "base_uri": "https://localhost:8080/"
        },
        "id": "LZbp2Q8ojvYJ",
        "outputId": "ff144770-3afa-439f-a95a-4f1407f0f8ab"
      },
      "source": [
        "start_time = datetime.now()\r\n",
        "tflite_test_acc = evaluate_model(interpreter)\r\n",
        "print(f\"Time taken {datetime.now() - start_time}\")"
      ],
      "execution_count": 255,
      "outputs": [
        {
          "output_type": "stream",
          "text": [
            "Time taken 0:01:09.605634\n"
          ],
          "name": "stdout"
        }
      ]
    },
    {
      "cell_type": "code",
      "metadata": {
        "colab": {
          "base_uri": "https://localhost:8080/"
        },
        "id": "QVSVVTf6-ER2",
        "outputId": "51f57ac6-0c24-4e1a-b302-44c7b1711f04"
      },
      "source": [
        "tflite_test_acc"
      ],
      "execution_count": 256,
      "outputs": [
        {
          "output_type": "execute_result",
          "data": {
            "text/plain": [
              "0.8898125565932359"
            ]
          },
          "metadata": {
            "tags": []
          },
          "execution_count": 256
        }
      ]
    },
    {
      "cell_type": "markdown",
      "metadata": {
        "id": "FeHnTf8MtHZx"
      },
      "source": [
        "## Dynamic Quantization TCN model"
      ]
    },
    {
      "cell_type": "code",
      "metadata": {
        "id": "PkX0aBogGGsT",
        "colab": {
          "base_uri": "https://localhost:8080/"
        },
        "outputId": "763c92e2-2d52-4d33-bca7-fd7fe9efcc20"
      },
      "source": [
        "! pip install -q tensorflow-model-optimization\n"
      ],
      "execution_count": 212,
      "outputs": [
        {
          "output_type": "stream",
          "text": [
            "\u001b[?25l\r\u001b[K     |██                              | 10kB 26.4MB/s eta 0:00:01\r\u001b[K     |███▉                            | 20kB 16.2MB/s eta 0:00:01\r\u001b[K     |█████▊                          | 30kB 13.5MB/s eta 0:00:01\r\u001b[K     |███████▋                        | 40kB 12.5MB/s eta 0:00:01\r\u001b[K     |█████████▌                      | 51kB 8.0MB/s eta 0:00:01\r\u001b[K     |███████████▍                    | 61kB 7.5MB/s eta 0:00:01\r\u001b[K     |█████████████▎                  | 71kB 8.6MB/s eta 0:00:01\r\u001b[K     |███████████████▏                | 81kB 9.5MB/s eta 0:00:01\r\u001b[K     |█████████████████               | 92kB 9.1MB/s eta 0:00:01\r\u001b[K     |███████████████████             | 102kB 7.8MB/s eta 0:00:01\r\u001b[K     |████████████████████▉           | 112kB 7.8MB/s eta 0:00:01\r\u001b[K     |██████████████████████▊         | 122kB 7.8MB/s eta 0:00:01\r\u001b[K     |████████████████████████▊       | 133kB 7.8MB/s eta 0:00:01\r\u001b[K     |██████████████████████████▋     | 143kB 7.8MB/s eta 0:00:01\r\u001b[K     |████████████████████████████▌   | 153kB 7.8MB/s eta 0:00:01\r\u001b[K     |██████████████████████████████▍ | 163kB 7.8MB/s eta 0:00:01\r\u001b[K     |████████████████████████████████| 174kB 7.8MB/s \n",
            "\u001b[?25h"
          ],
          "name": "stdout"
        }
      ]
    },
    {
      "cell_type": "code",
      "metadata": {
        "id": "bYVjVQdZ35Fy",
        "colab": {
          "base_uri": "https://localhost:8080/",
          "height": 438
        },
        "outputId": "b05ee0e4-89a0-43f1-e879-1372588353c0"
      },
      "source": [
        "import tensorflow_model_optimization as tfmot\n",
        "\n",
        "quantize_model = tfmot.quantization.keras.quantize_model\n",
        "\n",
        "# q_aware stands for for quantization aware.\n",
        "# with tfmot.quantization.keras.quantize_scope():\n",
        "# #   loaded_model = tf.keras.models.load_model(keras_file)\n",
        "q_aware_model = quantize_model(m)\n",
        "\n",
        "# `quantize_model` requires a recompile.\n",
        "q_aware_model.compile(optimizer='adam',\n",
        "          loss='mse',\n",
        "          metrics=['accuracy'])\n",
        "\n",
        "q_aware_model.summary()"
      ],
      "execution_count": 237,
      "outputs": [
        {
          "output_type": "error",
          "ename": "ValueError",
          "evalue": "ignored",
          "traceback": [
            "\u001b[0;31m---------------------------------------------------------------------------\u001b[0m",
            "\u001b[0;31mValueError\u001b[0m                                Traceback (most recent call last)",
            "\u001b[0;32m/usr/local/lib/python3.6/dist-packages/tensorflow_model_optimization/python/core/quantization/keras/quantize.py\u001b[0m in \u001b[0;36mquantize_apply\u001b[0;34m(model)\u001b[0m\n\u001b[1;32m    382\u001b[0m   \u001b[0;32mtry\u001b[0m\u001b[0;34m:\u001b[0m\u001b[0;34m\u001b[0m\u001b[0;34m\u001b[0m\u001b[0m\n\u001b[0;32m--> 383\u001b[0;31m     \u001b[0mmodel_copy\u001b[0m \u001b[0;34m=\u001b[0m \u001b[0m_clone_model_with_weights\u001b[0m\u001b[0;34m(\u001b[0m\u001b[0mmodel\u001b[0m\u001b[0;34m)\u001b[0m\u001b[0;34m\u001b[0m\u001b[0;34m\u001b[0m\u001b[0m\n\u001b[0m\u001b[1;32m    384\u001b[0m   \u001b[0;32mexcept\u001b[0m \u001b[0mValueError\u001b[0m\u001b[0;34m:\u001b[0m\u001b[0;34m\u001b[0m\u001b[0;34m\u001b[0m\u001b[0m\n",
            "\u001b[0;32m/usr/local/lib/python3.6/dist-packages/tensorflow_model_optimization/python/core/quantization/keras/quantize.py\u001b[0m in \u001b[0;36m_clone_model_with_weights\u001b[0;34m(model_to_clone)\u001b[0m\n\u001b[1;32m    331\u001b[0m   \u001b[0;32mdef\u001b[0m \u001b[0m_clone_model_with_weights\u001b[0m\u001b[0;34m(\u001b[0m\u001b[0mmodel_to_clone\u001b[0m\u001b[0;34m)\u001b[0m\u001b[0;34m:\u001b[0m\u001b[0;34m\u001b[0m\u001b[0;34m\u001b[0m\u001b[0m\n\u001b[0;32m--> 332\u001b[0;31m     \u001b[0mcloned_model\u001b[0m \u001b[0;34m=\u001b[0m \u001b[0mkeras\u001b[0m\u001b[0;34m.\u001b[0m\u001b[0mmodels\u001b[0m\u001b[0;34m.\u001b[0m\u001b[0mclone_model\u001b[0m\u001b[0;34m(\u001b[0m\u001b[0mmodel_to_clone\u001b[0m\u001b[0;34m)\u001b[0m\u001b[0;34m\u001b[0m\u001b[0;34m\u001b[0m\u001b[0m\n\u001b[0m\u001b[1;32m    333\u001b[0m     \u001b[0mcloned_model\u001b[0m\u001b[0;34m.\u001b[0m\u001b[0mset_weights\u001b[0m\u001b[0;34m(\u001b[0m\u001b[0mmodel_to_clone\u001b[0m\u001b[0;34m.\u001b[0m\u001b[0mget_weights\u001b[0m\u001b[0;34m(\u001b[0m\u001b[0;34m)\u001b[0m\u001b[0;34m)\u001b[0m\u001b[0;34m\u001b[0m\u001b[0;34m\u001b[0m\u001b[0m\n",
            "\u001b[0;32m/usr/local/lib/python3.6/dist-packages/tensorflow/python/keras/models.py\u001b[0m in \u001b[0;36mclone_model\u001b[0;34m(model, input_tensors, clone_function)\u001b[0m\n\u001b[1;32m    428\u001b[0m     return _clone_functional_model(\n\u001b[0;32m--> 429\u001b[0;31m         model, input_tensors=input_tensors, layer_fn=clone_function)\n\u001b[0m\u001b[1;32m    430\u001b[0m \u001b[0;34m\u001b[0m\u001b[0m\n",
            "\u001b[0;32m/usr/local/lib/python3.6/dist-packages/tensorflow/python/keras/models.py\u001b[0m in \u001b[0;36m_clone_functional_model\u001b[0;34m(model, input_tensors, layer_fn)\u001b[0m\n\u001b[1;32m    196\u001b[0m   model_configs, created_layers = _clone_layers_and_model_config(\n\u001b[0;32m--> 197\u001b[0;31m       model, new_input_layers, layer_fn)\n\u001b[0m\u001b[1;32m    198\u001b[0m   \u001b[0;31m# Reconstruct model from the config, using the cloned layers.\u001b[0m\u001b[0;34m\u001b[0m\u001b[0;34m\u001b[0m\u001b[0;34m\u001b[0m\u001b[0m\n",
            "\u001b[0;32m/usr/local/lib/python3.6/dist-packages/tensorflow/python/keras/models.py\u001b[0m in \u001b[0;36m_clone_layers_and_model_config\u001b[0;34m(model, input_layers, layer_fn)\u001b[0m\n\u001b[1;32m    247\u001b[0m   config = functional.get_network_config(\n\u001b[0;32m--> 248\u001b[0;31m       model, serialize_layer_fn=_copy_layer)\n\u001b[0m\u001b[1;32m    249\u001b[0m   \u001b[0;32mreturn\u001b[0m \u001b[0mconfig\u001b[0m\u001b[0;34m,\u001b[0m \u001b[0mcreated_layers\u001b[0m\u001b[0;34m\u001b[0m\u001b[0;34m\u001b[0m\u001b[0m\n",
            "\u001b[0;32m/usr/local/lib/python3.6/dist-packages/tensorflow/python/keras/engine/functional.py\u001b[0m in \u001b[0;36mget_network_config\u001b[0;34m(network, serialize_layer_fn)\u001b[0m\n\u001b[1;32m   1277\u001b[0m \u001b[0;34m\u001b[0m\u001b[0m\n\u001b[0;32m-> 1278\u001b[0;31m     \u001b[0mlayer_config\u001b[0m \u001b[0;34m=\u001b[0m \u001b[0mserialize_layer_fn\u001b[0m\u001b[0;34m(\u001b[0m\u001b[0mlayer\u001b[0m\u001b[0;34m)\u001b[0m\u001b[0;34m\u001b[0m\u001b[0;34m\u001b[0m\u001b[0m\n\u001b[0m\u001b[1;32m   1279\u001b[0m     \u001b[0mlayer_config\u001b[0m\u001b[0;34m[\u001b[0m\u001b[0;34m'name'\u001b[0m\u001b[0;34m]\u001b[0m \u001b[0;34m=\u001b[0m \u001b[0mlayer\u001b[0m\u001b[0;34m.\u001b[0m\u001b[0mname\u001b[0m\u001b[0;34m\u001b[0m\u001b[0;34m\u001b[0m\u001b[0m\n",
            "\u001b[0;32m/usr/local/lib/python3.6/dist-packages/tensorflow/python/keras/models.py\u001b[0m in \u001b[0;36m_copy_layer\u001b[0;34m(layer)\u001b[0m\n\u001b[1;32m    243\u001b[0m     \u001b[0;32melse\u001b[0m\u001b[0;34m:\u001b[0m\u001b[0;34m\u001b[0m\u001b[0;34m\u001b[0m\u001b[0m\n\u001b[0;32m--> 244\u001b[0;31m       \u001b[0mcreated_layers\u001b[0m\u001b[0;34m[\u001b[0m\u001b[0mlayer\u001b[0m\u001b[0;34m.\u001b[0m\u001b[0mname\u001b[0m\u001b[0;34m]\u001b[0m \u001b[0;34m=\u001b[0m \u001b[0mlayer_fn\u001b[0m\u001b[0;34m(\u001b[0m\u001b[0mlayer\u001b[0m\u001b[0;34m)\u001b[0m\u001b[0;34m\u001b[0m\u001b[0;34m\u001b[0m\u001b[0m\n\u001b[0m\u001b[1;32m    245\u001b[0m     \u001b[0;32mreturn\u001b[0m \u001b[0;34m{\u001b[0m\u001b[0;34m}\u001b[0m\u001b[0;34m\u001b[0m\u001b[0;34m\u001b[0m\u001b[0m\n",
            "\u001b[0;32m/usr/local/lib/python3.6/dist-packages/tensorflow/python/keras/models.py\u001b[0m in \u001b[0;36m_clone_layer\u001b[0;34m(layer)\u001b[0m\n\u001b[1;32m     60\u001b[0m \u001b[0;32mdef\u001b[0m \u001b[0m_clone_layer\u001b[0m\u001b[0;34m(\u001b[0m\u001b[0mlayer\u001b[0m\u001b[0;34m)\u001b[0m\u001b[0;34m:\u001b[0m\u001b[0;34m\u001b[0m\u001b[0;34m\u001b[0m\u001b[0m\n\u001b[0;32m---> 61\u001b[0;31m   \u001b[0;32mreturn\u001b[0m \u001b[0mlayer\u001b[0m\u001b[0;34m.\u001b[0m\u001b[0m__class__\u001b[0m\u001b[0;34m.\u001b[0m\u001b[0mfrom_config\u001b[0m\u001b[0;34m(\u001b[0m\u001b[0mlayer\u001b[0m\u001b[0;34m.\u001b[0m\u001b[0mget_config\u001b[0m\u001b[0;34m(\u001b[0m\u001b[0;34m)\u001b[0m\u001b[0;34m)\u001b[0m\u001b[0;34m\u001b[0m\u001b[0;34m\u001b[0m\u001b[0m\n\u001b[0m\u001b[1;32m     62\u001b[0m \u001b[0;34m\u001b[0m\u001b[0m\n",
            "\u001b[0;32m/usr/local/lib/python3.6/dist-packages/tensorflow_model_optimization/python/core/quantization/keras/quantize_annotate.py\u001b[0m in \u001b[0;36mfrom_config\u001b[0;34m(cls, config)\u001b[0m\n\u001b[1;32m    106\u001b[0m \u001b[0;34m\u001b[0m\u001b[0m\n\u001b[0;32m--> 107\u001b[0;31m     \u001b[0mlayer\u001b[0m \u001b[0;34m=\u001b[0m \u001b[0mtf\u001b[0m\u001b[0;34m.\u001b[0m\u001b[0mkeras\u001b[0m\u001b[0;34m.\u001b[0m\u001b[0mlayers\u001b[0m\u001b[0;34m.\u001b[0m\u001b[0mdeserialize\u001b[0m\u001b[0;34m(\u001b[0m\u001b[0mconfig\u001b[0m\u001b[0;34m.\u001b[0m\u001b[0mpop\u001b[0m\u001b[0;34m(\u001b[0m\u001b[0;34m'layer'\u001b[0m\u001b[0;34m)\u001b[0m\u001b[0;34m)\u001b[0m\u001b[0;34m\u001b[0m\u001b[0;34m\u001b[0m\u001b[0m\n\u001b[0m\u001b[1;32m    108\u001b[0m \u001b[0;34m\u001b[0m\u001b[0m\n",
            "\u001b[0;32m/usr/local/lib/python3.6/dist-packages/tensorflow/python/keras/layers/serialization.py\u001b[0m in \u001b[0;36mdeserialize\u001b[0;34m(config, custom_objects)\u001b[0m\n\u001b[1;32m    174\u001b[0m       \u001b[0mcustom_objects\u001b[0m\u001b[0;34m=\u001b[0m\u001b[0mcustom_objects\u001b[0m\u001b[0;34m,\u001b[0m\u001b[0;34m\u001b[0m\u001b[0;34m\u001b[0m\u001b[0m\n\u001b[0;32m--> 175\u001b[0;31m       printable_module_name='layer')\n\u001b[0m",
            "\u001b[0;32m/usr/local/lib/python3.6/dist-packages/tensorflow/python/keras/utils/generic_utils.py\u001b[0m in \u001b[0;36mdeserialize_keras_object\u001b[0;34m(identifier, module_objects, custom_objects, printable_module_name)\u001b[0m\n\u001b[1;32m    346\u001b[0m     (cls, cls_config) = class_and_config_for_serialized_keras_object(\n\u001b[0;32m--> 347\u001b[0;31m         config, module_objects, custom_objects, printable_module_name)\n\u001b[0m\u001b[1;32m    348\u001b[0m \u001b[0;34m\u001b[0m\u001b[0m\n",
            "\u001b[0;32m/usr/local/lib/python3.6/dist-packages/tensorflow/python/keras/utils/generic_utils.py\u001b[0m in \u001b[0;36mclass_and_config_for_serialized_keras_object\u001b[0;34m(config, module_objects, custom_objects, printable_module_name)\u001b[0m\n\u001b[1;32m    295\u001b[0m   \u001b[0;32mif\u001b[0m \u001b[0mcls\u001b[0m \u001b[0;32mis\u001b[0m \u001b[0;32mNone\u001b[0m\u001b[0;34m:\u001b[0m\u001b[0;34m\u001b[0m\u001b[0;34m\u001b[0m\u001b[0m\n\u001b[0;32m--> 296\u001b[0;31m     \u001b[0;32mraise\u001b[0m \u001b[0mValueError\u001b[0m\u001b[0;34m(\u001b[0m\u001b[0;34m'Unknown '\u001b[0m \u001b[0;34m+\u001b[0m \u001b[0mprintable_module_name\u001b[0m \u001b[0;34m+\u001b[0m \u001b[0;34m': '\u001b[0m \u001b[0;34m+\u001b[0m \u001b[0mclass_name\u001b[0m\u001b[0;34m)\u001b[0m\u001b[0;34m\u001b[0m\u001b[0;34m\u001b[0m\u001b[0m\n\u001b[0m\u001b[1;32m    297\u001b[0m \u001b[0;34m\u001b[0m\u001b[0m\n",
            "\u001b[0;31mValueError\u001b[0m: Unknown layer: TCN",
            "\nDuring handling of the above exception, another exception occurred:\n",
            "\u001b[0;31mValueError\u001b[0m                                Traceback (most recent call last)",
            "\u001b[0;32m<ipython-input-237-9f8d451600d0>\u001b[0m in \u001b[0;36m<module>\u001b[0;34m()\u001b[0m\n\u001b[1;32m      6\u001b[0m \u001b[0;31m# with tfmot.quantization.keras.quantize_scope():\u001b[0m\u001b[0;34m\u001b[0m\u001b[0;34m\u001b[0m\u001b[0;34m\u001b[0m\u001b[0m\n\u001b[1;32m      7\u001b[0m \u001b[0;31m# #   loaded_model = tf.keras.models.load_model(keras_file)\u001b[0m\u001b[0;34m\u001b[0m\u001b[0;34m\u001b[0m\u001b[0;34m\u001b[0m\u001b[0m\n\u001b[0;32m----> 8\u001b[0;31m \u001b[0mq_aware_model\u001b[0m \u001b[0;34m=\u001b[0m \u001b[0mquantize_model\u001b[0m\u001b[0;34m(\u001b[0m\u001b[0mm\u001b[0m\u001b[0;34m)\u001b[0m\u001b[0;34m\u001b[0m\u001b[0;34m\u001b[0m\u001b[0m\n\u001b[0m\u001b[1;32m      9\u001b[0m \u001b[0;34m\u001b[0m\u001b[0m\n\u001b[1;32m     10\u001b[0m \u001b[0;31m# `quantize_model` requires a recompile.\u001b[0m\u001b[0;34m\u001b[0m\u001b[0;34m\u001b[0m\u001b[0;34m\u001b[0m\u001b[0m\n",
            "\u001b[0;32m/usr/local/lib/python3.6/dist-packages/tensorflow_model_optimization/python/core/quantization/keras/quantize.py\u001b[0m in \u001b[0;36mquantize_model\u001b[0;34m(to_quantize)\u001b[0m\n\u001b[1;32m    136\u001b[0m \u001b[0;34m\u001b[0m\u001b[0m\n\u001b[1;32m    137\u001b[0m   \u001b[0mannotated_model\u001b[0m \u001b[0;34m=\u001b[0m \u001b[0mquantize_annotate_model\u001b[0m\u001b[0;34m(\u001b[0m\u001b[0mto_quantize\u001b[0m\u001b[0;34m)\u001b[0m\u001b[0;34m\u001b[0m\u001b[0;34m\u001b[0m\u001b[0m\n\u001b[0;32m--> 138\u001b[0;31m   \u001b[0;32mreturn\u001b[0m \u001b[0mquantize_apply\u001b[0m\u001b[0;34m(\u001b[0m\u001b[0mannotated_model\u001b[0m\u001b[0;34m)\u001b[0m\u001b[0;34m\u001b[0m\u001b[0;34m\u001b[0m\u001b[0m\n\u001b[0m\u001b[1;32m    139\u001b[0m \u001b[0;34m\u001b[0m\u001b[0m\n\u001b[1;32m    140\u001b[0m \u001b[0;34m\u001b[0m\u001b[0m\n",
            "\u001b[0;32m/usr/local/lib/python3.6/dist-packages/tensorflow_model_optimization/python/core/quantization/keras/quantize.py\u001b[0m in \u001b[0;36mquantize_apply\u001b[0;34m(model)\u001b[0m\n\u001b[1;32m    384\u001b[0m   \u001b[0;32mexcept\u001b[0m \u001b[0mValueError\u001b[0m\u001b[0;34m:\u001b[0m\u001b[0;34m\u001b[0m\u001b[0;34m\u001b[0m\u001b[0m\n\u001b[1;32m    385\u001b[0m     raise ValueError(\n\u001b[0;32m--> 386\u001b[0;31m         \u001b[0;34m'Unable to clone model. This generally happens if you used custom Keras layers or objects '\u001b[0m\u001b[0;34m\u001b[0m\u001b[0;34m\u001b[0m\u001b[0m\n\u001b[0m\u001b[1;32m    387\u001b[0m         \u001b[0;34m'in your model. Please specify them via `quantize_scope` for your calls to `quantize_model` '\u001b[0m\u001b[0;34m\u001b[0m\u001b[0;34m\u001b[0m\u001b[0m\n\u001b[1;32m    388\u001b[0m         \u001b[0;34m'and `quantize_apply`.'\u001b[0m\u001b[0;34m\u001b[0m\u001b[0;34m\u001b[0m\u001b[0m\n",
            "\u001b[0;31mValueError\u001b[0m: Unable to clone model. This generally happens if you used custom Keras layers or objects in your model. Please specify them via `quantize_scope` for your calls to `quantize_model` and `quantize_apply`."
          ]
        }
      ]
    },
    {
      "cell_type": "code",
      "metadata": {
        "colab": {
          "base_uri": "https://localhost:8080/"
        },
        "id": "oXJJDIAwv1mX",
        "outputId": "9966b04e-0c3c-403d-9e8f-25cb3d69568f"
      },
      "source": [
        "dir(m.layers[1]"
      ],
      "execution_count": 231,
      "outputs": [
        {
          "output_type": "execute_result",
          "data": {
            "text/plain": [
              "['_TF_MODULE_IGNORED_PROPERTIES',\n",
              " '__call__',\n",
              " '__class__',\n",
              " '__delattr__',\n",
              " '__dict__',\n",
              " '__dir__',\n",
              " '__doc__',\n",
              " '__eq__',\n",
              " '__format__',\n",
              " '__ge__',\n",
              " '__getattribute__',\n",
              " '__getstate__',\n",
              " '__gt__',\n",
              " '__hash__',\n",
              " '__init__',\n",
              " '__init_subclass__',\n",
              " '__le__',\n",
              " '__lt__',\n",
              " '__module__',\n",
              " '__ne__',\n",
              " '__new__',\n",
              " '__reduce__',\n",
              " '__reduce_ex__',\n",
              " '__repr__',\n",
              " '__setattr__',\n",
              " '__setstate__',\n",
              " '__sizeof__',\n",
              " '__str__',\n",
              " '__subclasshook__',\n",
              " '__weakref__',\n",
              " '_activity_regularizer',\n",
              " '_add_trackable',\n",
              " '_add_variable_with_custom_getter',\n",
              " '_auto_track_sub_layers',\n",
              " '_autocast',\n",
              " '_autographed_call',\n",
              " '_build_input_shape',\n",
              " '_call_accepts_kwargs',\n",
              " '_call_arg_was_passed',\n",
              " '_call_fn_arg_defaults',\n",
              " '_call_fn_arg_positions',\n",
              " '_call_fn_args',\n",
              " '_call_full_argspec',\n",
              " '_callable_losses',\n",
              " '_cast_single_input',\n",
              " '_checkpoint_dependencies',\n",
              " '_clear_losses',\n",
              " '_compute_dtype',\n",
              " '_compute_dtype_object',\n",
              " '_dedup_weights',\n",
              " '_default_training_arg',\n",
              " '_deferred_dependencies',\n",
              " '_dtype',\n",
              " '_dtype_defaulted_to_floatx',\n",
              " '_dtype_policy',\n",
              " '_dynamic',\n",
              " '_eager_losses',\n",
              " '_expects_mask_arg',\n",
              " '_expects_training_arg',\n",
              " '_flatten',\n",
              " '_flatten_layers',\n",
              " '_functional_construction_call',\n",
              " '_gather_children_attribute',\n",
              " '_gather_saveables_for_checkpoint',\n",
              " '_get_call_arg_value',\n",
              " '_get_existing_metric',\n",
              " '_get_input_masks',\n",
              " '_get_node_attribute_at_index',\n",
              " '_get_save_spec',\n",
              " '_get_trainable_state',\n",
              " '_handle_activity_regularization',\n",
              " '_handle_deferred_dependencies',\n",
              " '_handle_weight_regularization',\n",
              " '_inbound_nodes',\n",
              " '_infer_output_signature',\n",
              " '_init_call_fn_args',\n",
              " '_init_set_name',\n",
              " '_initial_weights',\n",
              " '_input_spec',\n",
              " '_is_layer',\n",
              " '_keras_api_names',\n",
              " '_keras_api_names_v1',\n",
              " '_keras_tensor_symbolic_call',\n",
              " '_layers',\n",
              " '_list_extra_dependencies_for_serialization',\n",
              " '_list_functions_for_serialization',\n",
              " '_lookup_dependency',\n",
              " '_losses',\n",
              " '_map_resources',\n",
              " '_maybe_build',\n",
              " '_maybe_cast_inputs',\n",
              " '_maybe_create_attribute',\n",
              " '_maybe_initialize_trackable',\n",
              " '_metrics',\n",
              " '_metrics_lock',\n",
              " '_must_restore_from_config',\n",
              " '_name',\n",
              " '_name_based_attribute_restore',\n",
              " '_name_based_restores',\n",
              " '_name_scope',\n",
              " '_no_dependency',\n",
              " '_non_trainable_weights',\n",
              " '_obj_reference_counts',\n",
              " '_obj_reference_counts_dict',\n",
              " '_object_identifier',\n",
              " '_outbound_nodes',\n",
              " '_preload_simple_restoration',\n",
              " '_restore_from_checkpoint_position',\n",
              " '_saved_model_inputs_spec',\n",
              " '_self_name_based_restores',\n",
              " '_self_saveable_object_factories',\n",
              " '_self_setattr_tracking',\n",
              " '_self_unconditional_checkpoint_dependencies',\n",
              " '_self_unconditional_deferred_dependencies',\n",
              " '_self_unconditional_dependency_names',\n",
              " '_self_update_uid',\n",
              " '_set_call_arg_value',\n",
              " '_set_connectivity_metadata',\n",
              " '_set_dtype_policy',\n",
              " '_set_mask_keras_history_checked',\n",
              " '_set_mask_metadata',\n",
              " '_set_save_spec',\n",
              " '_set_trainable_state',\n",
              " '_set_training_mode',\n",
              " '_setattr_tracking',\n",
              " '_should_cast_single_input',\n",
              " '_single_restoration_from_checkpoint_position',\n",
              " '_split_out_first_arg',\n",
              " '_stateful',\n",
              " '_supports_masking',\n",
              " '_symbolic_call',\n",
              " '_tf_api_names',\n",
              " '_tf_api_names_v1',\n",
              " '_thread_local',\n",
              " '_track_trackable',\n",
              " '_trackable_saved_model_saver',\n",
              " '_tracking_metadata',\n",
              " '_trainable',\n",
              " '_trainable_weights',\n",
              " '_unconditional_checkpoint_dependencies',\n",
              " '_unconditional_dependency_names',\n",
              " '_update_uid',\n",
              " '_updates',\n",
              " '_warn_about_input_casting',\n",
              " 'activation',\n",
              " 'activity_regularizer',\n",
              " 'add_loss',\n",
              " 'add_metric',\n",
              " 'add_update',\n",
              " 'add_variable',\n",
              " 'add_weight',\n",
              " 'apply',\n",
              " 'build',\n",
              " 'build_output_shape',\n",
              " 'built',\n",
              " 'call',\n",
              " 'compute_mask',\n",
              " 'compute_output_shape',\n",
              " 'compute_output_signature',\n",
              " 'count_params',\n",
              " 'dilations',\n",
              " 'dropout_rate',\n",
              " 'dtype',\n",
              " 'dynamic',\n",
              " 'from_config',\n",
              " 'get_config',\n",
              " 'get_input_at',\n",
              " 'get_input_mask_at',\n",
              " 'get_input_shape_at',\n",
              " 'get_losses_for',\n",
              " 'get_output_at',\n",
              " 'get_output_mask_at',\n",
              " 'get_output_shape_at',\n",
              " 'get_updates_for',\n",
              " 'get_weights',\n",
              " 'inbound_nodes',\n",
              " 'input',\n",
              " 'input_mask',\n",
              " 'input_shape',\n",
              " 'input_spec',\n",
              " 'kernel_initializer',\n",
              " 'kernel_size',\n",
              " 'layers_outputs',\n",
              " 'losses',\n",
              " 'metrics',\n",
              " 'name',\n",
              " 'name_scope',\n",
              " 'nb_filters',\n",
              " 'nb_stacks',\n",
              " 'non_trainable_variables',\n",
              " 'non_trainable_weights',\n",
              " 'outbound_nodes',\n",
              " 'output',\n",
              " 'output_mask',\n",
              " 'output_shape',\n",
              " 'output_slice_index',\n",
              " 'padding',\n",
              " 'padding_same_and_time_dim_unknown',\n",
              " 'receptive_field',\n",
              " 'residual_block_0',\n",
              " 'residual_block_1',\n",
              " 'residual_block_2',\n",
              " 'residual_block_3',\n",
              " 'residual_block_4',\n",
              " 'residual_block_5',\n",
              " 'residual_blocks',\n",
              " 'return_sequences',\n",
              " 'set_weights',\n",
              " 'skip_connections',\n",
              " 'slicer_layer',\n",
              " 'stateful',\n",
              " 'submodules',\n",
              " 'supports_masking',\n",
              " 'trainable',\n",
              " 'trainable_variables',\n",
              " 'trainable_weights',\n",
              " 'updates',\n",
              " 'use_batch_norm',\n",
              " 'use_layer_norm',\n",
              " 'use_skip_connections',\n",
              " 'variables',\n",
              " 'weights',\n",
              " 'with_name_scope']"
            ]
          },
          "metadata": {
            "tags": []
          },
          "execution_count": 231
        }
      ]
    },
    {
      "cell_type": "code",
      "metadata": {
        "colab": {
          "base_uri": "https://localhost:8080/"
        },
        "id": "fwZEAEZv0p-o",
        "outputId": "9e912bcf-730b-47e3-c47e-f9e66a311341"
      },
      "source": [
        "dir(m.layers[1].residual_block_0.conv1D_0)"
      ],
      "execution_count": 234,
      "outputs": [
        {
          "output_type": "execute_result",
          "data": {
            "text/plain": [
              "['_TF_MODULE_IGNORED_PROPERTIES',\n",
              " '__call__',\n",
              " '__class__',\n",
              " '__delattr__',\n",
              " '__dict__',\n",
              " '__dir__',\n",
              " '__doc__',\n",
              " '__eq__',\n",
              " '__format__',\n",
              " '__ge__',\n",
              " '__getattribute__',\n",
              " '__getstate__',\n",
              " '__gt__',\n",
              " '__hash__',\n",
              " '__init__',\n",
              " '__init_subclass__',\n",
              " '__le__',\n",
              " '__lt__',\n",
              " '__module__',\n",
              " '__ne__',\n",
              " '__new__',\n",
              " '__reduce__',\n",
              " '__reduce_ex__',\n",
              " '__repr__',\n",
              " '__setattr__',\n",
              " '__setstate__',\n",
              " '__sizeof__',\n",
              " '__str__',\n",
              " '__subclasshook__',\n",
              " '__weakref__',\n",
              " '_activity_regularizer',\n",
              " '_add_trackable',\n",
              " '_add_variable_with_custom_getter',\n",
              " '_auto_track_sub_layers',\n",
              " '_autocast',\n",
              " '_autographed_call',\n",
              " '_build_input_shape',\n",
              " '_call_accepts_kwargs',\n",
              " '_call_arg_was_passed',\n",
              " '_call_fn_arg_defaults',\n",
              " '_call_fn_arg_positions',\n",
              " '_call_fn_args',\n",
              " '_call_full_argspec',\n",
              " '_callable_losses',\n",
              " '_cast_single_input',\n",
              " '_channels_first',\n",
              " '_checkpoint_dependencies',\n",
              " '_clear_losses',\n",
              " '_compute_causal_padding',\n",
              " '_compute_dtype',\n",
              " '_compute_dtype_object',\n",
              " '_convolution_op',\n",
              " '_dedup_weights',\n",
              " '_default_training_arg',\n",
              " '_deferred_dependencies',\n",
              " '_dtype',\n",
              " '_dtype_defaulted_to_floatx',\n",
              " '_dtype_policy',\n",
              " '_dynamic',\n",
              " '_eager_losses',\n",
              " '_expects_mask_arg',\n",
              " '_expects_training_arg',\n",
              " '_flatten',\n",
              " '_flatten_layers',\n",
              " '_functional_construction_call',\n",
              " '_gather_children_attribute',\n",
              " '_gather_saveables_for_checkpoint',\n",
              " '_get_call_arg_value',\n",
              " '_get_channel_axis',\n",
              " '_get_existing_metric',\n",
              " '_get_input_channel',\n",
              " '_get_input_masks',\n",
              " '_get_node_attribute_at_index',\n",
              " '_get_padding_op',\n",
              " '_get_save_spec',\n",
              " '_get_trainable_state',\n",
              " '_handle_activity_regularization',\n",
              " '_handle_deferred_dependencies',\n",
              " '_handle_weight_regularization',\n",
              " '_inbound_nodes',\n",
              " '_infer_output_signature',\n",
              " '_init_call_fn_args',\n",
              " '_init_set_name',\n",
              " '_initial_weights',\n",
              " '_input_spec',\n",
              " '_is_causal',\n",
              " '_is_layer',\n",
              " '_keras_api_names',\n",
              " '_keras_api_names_v1',\n",
              " '_keras_tensor_symbolic_call',\n",
              " '_layers',\n",
              " '_list_extra_dependencies_for_serialization',\n",
              " '_list_functions_for_serialization',\n",
              " '_lookup_dependency',\n",
              " '_losses',\n",
              " '_map_resources',\n",
              " '_maybe_build',\n",
              " '_maybe_cast_inputs',\n",
              " '_maybe_create_attribute',\n",
              " '_maybe_initialize_trackable',\n",
              " '_metrics',\n",
              " '_metrics_lock',\n",
              " '_must_restore_from_config',\n",
              " '_name',\n",
              " '_name_based_attribute_restore',\n",
              " '_name_based_restores',\n",
              " '_name_scope',\n",
              " '_no_dependency',\n",
              " '_non_trainable_weights',\n",
              " '_obj_reference_counts',\n",
              " '_obj_reference_counts_dict',\n",
              " '_object_identifier',\n",
              " '_outbound_nodes',\n",
              " '_preload_simple_restoration',\n",
              " '_recreate_conv_op',\n",
              " '_restore_from_checkpoint_position',\n",
              " '_saved_model_inputs_spec',\n",
              " '_self_name_based_restores',\n",
              " '_self_saveable_object_factories',\n",
              " '_self_setattr_tracking',\n",
              " '_self_unconditional_checkpoint_dependencies',\n",
              " '_self_unconditional_deferred_dependencies',\n",
              " '_self_unconditional_dependency_names',\n",
              " '_self_update_uid',\n",
              " '_set_call_arg_value',\n",
              " '_set_connectivity_metadata',\n",
              " '_set_dtype_policy',\n",
              " '_set_mask_keras_history_checked',\n",
              " '_set_mask_metadata',\n",
              " '_set_save_spec',\n",
              " '_set_trainable_state',\n",
              " '_set_training_mode',\n",
              " '_setattr_tracking',\n",
              " '_should_cast_single_input',\n",
              " '_single_restoration_from_checkpoint_position',\n",
              " '_spatial_output_shape',\n",
              " '_split_out_first_arg',\n",
              " '_stateful',\n",
              " '_supports_masking',\n",
              " '_symbolic_call',\n",
              " '_tf_api_names',\n",
              " '_tf_api_names_v1',\n",
              " '_tf_data_format',\n",
              " '_thread_local',\n",
              " '_track_trackable',\n",
              " '_trackable_saved_model_saver',\n",
              " '_tracking_metadata',\n",
              " '_trainable',\n",
              " '_trainable_weights',\n",
              " '_unconditional_checkpoint_dependencies',\n",
              " '_unconditional_dependency_names',\n",
              " '_update_uid',\n",
              " '_updates',\n",
              " '_validate_init',\n",
              " '_warn_about_input_casting',\n",
              " 'activation',\n",
              " 'activity_regularizer',\n",
              " 'add_loss',\n",
              " 'add_metric',\n",
              " 'add_update',\n",
              " 'add_variable',\n",
              " 'add_weight',\n",
              " 'apply',\n",
              " 'bias',\n",
              " 'bias_constraint',\n",
              " 'bias_initializer',\n",
              " 'bias_regularizer',\n",
              " 'build',\n",
              " 'built',\n",
              " 'call',\n",
              " 'compute_mask',\n",
              " 'compute_output_shape',\n",
              " 'compute_output_signature',\n",
              " 'count_params',\n",
              " 'data_format',\n",
              " 'dilation_rate',\n",
              " 'dtype',\n",
              " 'dynamic',\n",
              " 'filters',\n",
              " 'from_config',\n",
              " 'get_config',\n",
              " 'get_input_at',\n",
              " 'get_input_mask_at',\n",
              " 'get_input_shape_at',\n",
              " 'get_losses_for',\n",
              " 'get_output_at',\n",
              " 'get_output_mask_at',\n",
              " 'get_output_shape_at',\n",
              " 'get_updates_for',\n",
              " 'get_weights',\n",
              " 'groups',\n",
              " 'inbound_nodes',\n",
              " 'input',\n",
              " 'input_mask',\n",
              " 'input_shape',\n",
              " 'input_spec',\n",
              " 'kernel',\n",
              " 'kernel_constraint',\n",
              " 'kernel_initializer',\n",
              " 'kernel_regularizer',\n",
              " 'kernel_size',\n",
              " 'losses',\n",
              " 'metrics',\n",
              " 'name',\n",
              " 'name_scope',\n",
              " 'non_trainable_variables',\n",
              " 'non_trainable_weights',\n",
              " 'outbound_nodes',\n",
              " 'output',\n",
              " 'output_mask',\n",
              " 'output_shape',\n",
              " 'padding',\n",
              " 'rank',\n",
              " 'set_weights',\n",
              " 'stateful',\n",
              " 'strides',\n",
              " 'submodules',\n",
              " 'supports_masking',\n",
              " 'trainable',\n",
              " 'trainable_variables',\n",
              " 'trainable_weights',\n",
              " 'updates',\n",
              " 'use_bias',\n",
              " 'variables',\n",
              " 'weights',\n",
              " 'with_name_scope']"
            ]
          },
          "metadata": {
            "tags": []
          },
          "execution_count": 234
        }
      ]
    },
    {
      "cell_type": "markdown",
      "metadata": {
        "id": "oB01-No2D6s5"
      },
      "source": [
        "## Dynamic Range Optimization"
      ]
    },
    {
      "cell_type": "code",
      "metadata": {
        "id": "vaN2xVxoD9QR",
        "colab": {
          "base_uri": "https://localhost:8080/"
        },
        "outputId": "a822438a-6ace-4558-cc8b-4f3281773503"
      },
      "source": [
        "converter = tf.lite.TFLiteConverter.from_keras_model(m)\n",
        "converter.optimizations = [tf.lite.Optimize.DEFAULT]\n",
        "\n",
        "tflite_model_quant_dyn = converter.convert()"
      ],
      "execution_count": 238,
      "outputs": [
        {
          "output_type": "stream",
          "text": [
            "INFO:tensorflow:Assets written to: /tmp/tmp992ty2jx/assets\n"
          ],
          "name": "stdout"
        },
        {
          "output_type": "stream",
          "text": [
            "INFO:tensorflow:Assets written to: /tmp/tmp992ty2jx/assets\n"
          ],
          "name": "stderr"
        }
      ]
    },
    {
      "cell_type": "code",
      "metadata": {
        "id": "KtWPd3ZZoXMF",
        "colab": {
          "base_uri": "https://localhost:8080/"
        },
        "outputId": "4d060ab4-0923-4007-a739-4d41d6ce8d6a"
      },
      "source": [
        "tflite_dyn_model = converter.convert()\n",
        "tflite_dyn_file = saved_model_dir + 'tcn_model_quant_dyn.tflite'\n",
        "with open(tflite_dyn_file,'wb') as f:\n",
        "    f.write(tflite_dyn_model)"
      ],
      "execution_count": 239,
      "outputs": [
        {
          "output_type": "stream",
          "text": [
            "INFO:tensorflow:Assets written to: /tmp/tmplmv2rhua/assets\n"
          ],
          "name": "stdout"
        },
        {
          "output_type": "stream",
          "text": [
            "INFO:tensorflow:Assets written to: /tmp/tmplmv2rhua/assets\n"
          ],
          "name": "stderr"
        }
      ]
    },
    {
      "cell_type": "markdown",
      "metadata": {
        "id": "BBt2-4ttqzdO"
      },
      "source": [
        "### Dynamic Optimization Size"
      ]
    },
    {
      "cell_type": "code",
      "metadata": {
        "colab": {
          "base_uri": "https://localhost:8080/"
        },
        "id": "O0MfXx-X4_tq",
        "outputId": "3833ece4-4179-4fd4-c54c-ab0a254a74fc"
      },
      "source": [
        "print(f'Size of the model after dynamic optimization: {os.path.getsize(tflite_dyn_file)/float(2**20)} Mb')"
      ],
      "execution_count": 241,
      "outputs": [
        {
          "output_type": "stream",
          "text": [
            "Size of the model after dynamic optimization: 0.125396728515625 Mb\n"
          ],
          "name": "stdout"
        }
      ]
    },
    {
      "cell_type": "markdown",
      "metadata": {
        "id": "K6je1Jk0q3OP"
      },
      "source": [
        "### Dynamic Optimization Accuracy"
      ]
    },
    {
      "cell_type": "code",
      "metadata": {
        "id": "T_chrMWDp7P3"
      },
      "source": [
        "interpreter_dyn = tf.lite.Interpreter(model_path=tflite_dyn_file)\n",
        "interpreter_dyn.allocate_tensors()"
      ],
      "execution_count": 242,
      "outputs": []
    },
    {
      "cell_type": "code",
      "metadata": {
        "id": "FguZw0nurzJB",
        "colab": {
          "base_uri": "https://localhost:8080/"
        },
        "outputId": "e6f36be7-2da1-46b2-a0cf-ee644bd33da9"
      },
      "source": [
        "from datetime import datetime\n",
        "start_time = datetime.now()\n",
        "tflite_dyn_test_acc = evaluate_model(interpreter_dyn)\n",
        "print(f'Time Taken {datetime.now() - start_time}')\n",
        "tflite_dyn_test_acc"
      ],
      "execution_count": 244,
      "outputs": [
        {
          "output_type": "stream",
          "text": [
            "Time Taken 0:02:19.171906\n"
          ],
          "name": "stdout"
        },
        {
          "output_type": "execute_result",
          "data": {
            "text/plain": [
              "0.8898125565932359"
            ]
          },
          "metadata": {
            "tags": []
          },
          "execution_count": 244
        }
      ]
    },
    {
      "cell_type": "markdown",
      "metadata": {
        "id": "1TM_QsVK1kCd"
      },
      "source": [
        "## 16-bit float TCN Model"
      ]
    },
    {
      "cell_type": "code",
      "metadata": {
        "id": "xieSDY55I6LU"
      },
      "source": [
        "converter = tf.lite.TFLiteConverter.from_keras_model(m)\n",
        "converter.optimizations = [tf.lite.Optimize.DEFAULT]\n",
        "converter.target_spec.supported_types = [tf.float16]"
      ],
      "execution_count": 247,
      "outputs": []
    },
    {
      "cell_type": "code",
      "metadata": {
        "id": "kum56nYqJXWz",
        "colab": {
          "base_uri": "https://localhost:8080/"
        },
        "outputId": "c0c83070-2cec-4e67-d0b9-40af56253bd3"
      },
      "source": [
        "tflite_fp16_model = converter.convert()\n",
        "tflite_fp16_file = saved_model_dir + 'tcn_model_quant_f16.tflite'\n",
        "with open(tflite_fp16_file,'wb') as f:\n",
        "    f.write(tflite_fp16_model)"
      ],
      "execution_count": 248,
      "outputs": [
        {
          "output_type": "stream",
          "text": [
            "INFO:tensorflow:Assets written to: /tmp/tmpdrbvk646/assets\n"
          ],
          "name": "stdout"
        },
        {
          "output_type": "stream",
          "text": [
            "INFO:tensorflow:Assets written to: /tmp/tmpdrbvk646/assets\n"
          ],
          "name": "stderr"
        }
      ]
    },
    {
      "cell_type": "markdown",
      "metadata": {
        "id": "-blQxSqmIsJF"
      },
      "source": [
        "### TFLite float16 optimization size"
      ]
    },
    {
      "cell_type": "code",
      "metadata": {
        "id": "yhk995FIM1P0",
        "colab": {
          "base_uri": "https://localhost:8080/"
        },
        "outputId": "1366cabd-19b4-41ab-aaac-2307e81cb319"
      },
      "source": [
        "print(f'Size of the model after float-16 weight optimization: {os.path.getsize(tflite_fp16_file)/float(2**20)} Mb')"
      ],
      "execution_count": 249,
      "outputs": [
        {
          "output_type": "stream",
          "text": [
            "Size of the model after float-16 weight optimization: 0.2132415771484375 Mb\n"
          ],
          "name": "stdout"
        }
      ]
    },
    {
      "cell_type": "markdown",
      "metadata": {
        "id": "B6LmsHcnIwx7"
      },
      "source": [
        "### TFLite float16 optimization accuracy"
      ]
    },
    {
      "cell_type": "code",
      "metadata": {
        "id": "xzPpUDTnNZ_F"
      },
      "source": [
        "interpreter_f16= tf.lite.Interpreter(model_path=tflite_fp16_file)\n",
        "interpreter_f16.allocate_tensors()"
      ],
      "execution_count": 250,
      "outputs": []
    },
    {
      "cell_type": "code",
      "metadata": {
        "id": "fIWxe_SiI6M-",
        "colab": {
          "base_uri": "https://localhost:8080/"
        },
        "outputId": "0aa671f2-da1b-47b7-c50b-644ea4dfa441"
      },
      "source": [
        "start_time = datetime.now()\n",
        "tflite_f16_test_acc = evaluate_model(interpreter_f16)\n",
        "print(f\"Time taken {datetime.now() - start_time}\")\n",
        "tflite_f16_test_acc"
      ],
      "execution_count": 251,
      "outputs": [
        {
          "output_type": "stream",
          "text": [
            "Time taken 0:01:13.088631\n"
          ],
          "name": "stdout"
        },
        {
          "output_type": "execute_result",
          "data": {
            "text/plain": [
              "0.8898125565932359"
            ]
          },
          "metadata": {
            "tags": []
          },
          "execution_count": 251
        }
      ]
    },
    {
      "cell_type": "markdown",
      "metadata": {
        "id": "BDxFE2IY-Sc-"
      },
      "source": [
        "## Comparison Table"
      ]
    },
    {
      "cell_type": "markdown",
      "metadata": {
        "id": "wlFW5C0M8j6-"
      },
      "source": [
        "| Metric\\Model | Baseline | Baseline TFLite | float16 optimized | Dynamic Range Optimization|\r\n",
        "|---|---|---|---|---|\r\n",
        "|Size(MB)|0.42|0.38|0.21|0.125|\r\n",
        "|Accuracy(%)|0.9391|0.8898|0.8898|0.8898|\r\n",
        "|Total Params|94,273|94,273|94,273|94,273|\r\n",
        "|Inference Time(sec)|10|69|73|139|"
      ]
    },
    {
      "cell_type": "markdown",
      "metadata": {
        "id": "pqGvCw4jAFKL"
      },
      "source": [
        "# Ablation Study"
      ]
    },
    {
      "cell_type": "markdown",
      "metadata": {
        "id": "OJxp--TwAW8b"
      },
      "source": [
        "\r\n",
        "TCNs are an incredibly complex network consisting of attention layers, conv-1D layers and a combination of Batch Normalization and Spatial Dropout layers. Our baseline model consists of 6 of these blocks, each block consisting of conv1D layers with differnt levels of dilations.\r\n",
        "\r\n",
        "Thankfully this implementation of the TCN exposes many hyperparameters of the TCN that we can tweak to experiment with performance. Some of these are seen below. \r\n",
        "\r\n",
        "From https://github.com/philipperemy/keras-tcn#arguments\r\n",
        "![image.png](data:image/png;base64,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)"
      ]
    },
    {
      "cell_type": "markdown",
      "metadata": {
        "id": "UBy4jFrzAW8T"
      },
      "source": [
        "### Train-test-split\r\n",
        "\r\n"
      ]
    },
    {
      "cell_type": "code",
      "metadata": {
        "colab": {
          "base_uri": "https://localhost:8080/"
        },
        "id": "p3f5PwH8AW8Y",
        "outputId": "c681cc49-7a86-4db6-b4a0-b647a85beff1"
      },
      "source": [
        "#Shuffle the dataset\r\n",
        "newdf=newdf.sample(frac=1,random_state=200) #random state is a seed value 200 \r\n",
        "\r\n",
        "series = newdf.to_numpy()\r\n",
        "# print(series.shape)\r\n",
        "\r\n",
        "n_features = series.shape[1]\r\n",
        "train_split = int(series.shape[0]*0.7)\r\n",
        "print(f'train split : {train_split}')\r\n",
        "\r\n",
        "val_split = int(series.shape[0]*0.8)\r\n",
        "\r\n",
        "X_train, y_train = series[:train_split, :n_features-1], series[:train_split, -1] # -1 references the last column\r\n",
        "X_valid, y_valid = series[train_split:val_split, :n_features-1], series[train_split:val_split, -1]\r\n",
        "X_test, y_test = series[val_split:, :n_features-1], series[val_split:, -1]\r\n",
        "print(f'{X_train.shape,y_train.shape,X_valid.shape, y_valid.shape, X_test.shape,y_test.shape}')"
      ],
      "execution_count": 258,
      "outputs": [
        {
          "output_type": "stream",
          "text": [
            "train split : 2118183\n",
            "((2118183, 11), (2118183,), (302598, 11), (302598,), (605196, 11), (605196,))\n"
          ],
          "name": "stdout"
        }
      ]
    },
    {
      "cell_type": "code",
      "metadata": {
        "colab": {
          "base_uri": "https://localhost:8080/",
          "height": 136
        },
        "id": "_PF_OxH-AW8Z",
        "outputId": "cc018acc-5385-4c18-dbb4-13de8c699ca8"
      },
      "source": [
        "#X_train stats\r\n",
        "newdf[:train_split].groupby('label').count()"
      ],
      "execution_count": 259,
      "outputs": [
        {
          "output_type": "execute_result",
          "data": {
            "text/html": [
              "<div>\n",
              "<style scoped>\n",
              "    .dataframe tbody tr th:only-of-type {\n",
              "        vertical-align: middle;\n",
              "    }\n",
              "\n",
              "    .dataframe tbody tr th {\n",
              "        vertical-align: top;\n",
              "    }\n",
              "\n",
              "    .dataframe thead th {\n",
              "        text-align: right;\n",
              "    }\n",
              "</style>\n",
              "<table border=\"1\" class=\"dataframe\">\n",
              "  <thead>\n",
              "    <tr style=\"text-align: right;\">\n",
              "      <th></th>\n",
              "      <th>CAN ID</th>\n",
              "      <th>RTR</th>\n",
              "      <th>DLC</th>\n",
              "      <th>Data1</th>\n",
              "      <th>Data2</th>\n",
              "      <th>Data3</th>\n",
              "      <th>Data4</th>\n",
              "      <th>Data5</th>\n",
              "      <th>Data6</th>\n",
              "      <th>Data7</th>\n",
              "      <th>Data8</th>\n",
              "    </tr>\n",
              "    <tr>\n",
              "      <th>label</th>\n",
              "      <th></th>\n",
              "      <th></th>\n",
              "      <th></th>\n",
              "      <th></th>\n",
              "      <th></th>\n",
              "      <th></th>\n",
              "      <th></th>\n",
              "      <th></th>\n",
              "      <th></th>\n",
              "      <th></th>\n",
              "      <th></th>\n",
              "    </tr>\n",
              "  </thead>\n",
              "  <tbody>\n",
              "    <tr>\n",
              "      <th>0</th>\n",
              "      <td>1883247</td>\n",
              "      <td>1883247</td>\n",
              "      <td>1883247</td>\n",
              "      <td>1883247</td>\n",
              "      <td>1883247</td>\n",
              "      <td>1883247</td>\n",
              "      <td>1883247</td>\n",
              "      <td>1883247</td>\n",
              "      <td>1883247</td>\n",
              "      <td>1883247</td>\n",
              "      <td>1883247</td>\n",
              "    </tr>\n",
              "    <tr>\n",
              "      <th>1</th>\n",
              "      <td>234936</td>\n",
              "      <td>234936</td>\n",
              "      <td>234936</td>\n",
              "      <td>234936</td>\n",
              "      <td>234936</td>\n",
              "      <td>234936</td>\n",
              "      <td>234936</td>\n",
              "      <td>234936</td>\n",
              "      <td>234936</td>\n",
              "      <td>234936</td>\n",
              "      <td>234936</td>\n",
              "    </tr>\n",
              "  </tbody>\n",
              "</table>\n",
              "</div>"
            ],
            "text/plain": [
              "        CAN ID      RTR      DLC    Data1  ...    Data5    Data6    Data7    Data8\n",
              "label                                      ...                                    \n",
              "0      1883247  1883247  1883247  1883247  ...  1883247  1883247  1883247  1883247\n",
              "1       234936   234936   234936   234936  ...   234936   234936   234936   234936\n",
              "\n",
              "[2 rows x 11 columns]"
            ]
          },
          "metadata": {
            "tags": []
          },
          "execution_count": 259
        }
      ]
    },
    {
      "cell_type": "code",
      "metadata": {
        "colab": {
          "base_uri": "https://localhost:8080/"
        },
        "id": "81B8enY2P_yF",
        "outputId": "5bdcb4a6-d275-4dc1-81fc-a730421dbfb6"
      },
      "source": [
        "1-(234936/1883247)"
      ],
      "execution_count": 280,
      "outputs": [
        {
          "output_type": "execute_result",
          "data": {
            "text/plain": [
              "0.8752495025878178"
            ]
          },
          "metadata": {
            "tags": []
          },
          "execution_count": 280
        }
      ]
    },
    {
      "cell_type": "code",
      "metadata": {
        "colab": {
          "base_uri": "https://localhost:8080/",
          "height": 136
        },
        "id": "INDYS_RKAW8a",
        "outputId": "1d227dfa-1de3-4e55-9b9d-88747dc070d2"
      },
      "source": [
        "#X_valid split\r\n",
        "newdf[train_split:val_split].groupby('label').count()"
      ],
      "execution_count": 260,
      "outputs": [
        {
          "output_type": "execute_result",
          "data": {
            "text/html": [
              "<div>\n",
              "<style scoped>\n",
              "    .dataframe tbody tr th:only-of-type {\n",
              "        vertical-align: middle;\n",
              "    }\n",
              "\n",
              "    .dataframe tbody tr th {\n",
              "        vertical-align: top;\n",
              "    }\n",
              "\n",
              "    .dataframe thead th {\n",
              "        text-align: right;\n",
              "    }\n",
              "</style>\n",
              "<table border=\"1\" class=\"dataframe\">\n",
              "  <thead>\n",
              "    <tr style=\"text-align: right;\">\n",
              "      <th></th>\n",
              "      <th>CAN ID</th>\n",
              "      <th>RTR</th>\n",
              "      <th>DLC</th>\n",
              "      <th>Data1</th>\n",
              "      <th>Data2</th>\n",
              "      <th>Data3</th>\n",
              "      <th>Data4</th>\n",
              "      <th>Data5</th>\n",
              "      <th>Data6</th>\n",
              "      <th>Data7</th>\n",
              "      <th>Data8</th>\n",
              "    </tr>\n",
              "    <tr>\n",
              "      <th>label</th>\n",
              "      <th></th>\n",
              "      <th></th>\n",
              "      <th></th>\n",
              "      <th></th>\n",
              "      <th></th>\n",
              "      <th></th>\n",
              "      <th></th>\n",
              "      <th></th>\n",
              "      <th></th>\n",
              "      <th></th>\n",
              "      <th></th>\n",
              "    </tr>\n",
              "  </thead>\n",
              "  <tbody>\n",
              "    <tr>\n",
              "      <th>0</th>\n",
              "      <td>269042</td>\n",
              "      <td>269042</td>\n",
              "      <td>269042</td>\n",
              "      <td>269042</td>\n",
              "      <td>269042</td>\n",
              "      <td>269042</td>\n",
              "      <td>269042</td>\n",
              "      <td>269042</td>\n",
              "      <td>269042</td>\n",
              "      <td>269042</td>\n",
              "      <td>269042</td>\n",
              "    </tr>\n",
              "    <tr>\n",
              "      <th>1</th>\n",
              "      <td>33556</td>\n",
              "      <td>33556</td>\n",
              "      <td>33556</td>\n",
              "      <td>33556</td>\n",
              "      <td>33556</td>\n",
              "      <td>33556</td>\n",
              "      <td>33556</td>\n",
              "      <td>33556</td>\n",
              "      <td>33556</td>\n",
              "      <td>33556</td>\n",
              "      <td>33556</td>\n",
              "    </tr>\n",
              "  </tbody>\n",
              "</table>\n",
              "</div>"
            ],
            "text/plain": [
              "       CAN ID     RTR     DLC   Data1  ...   Data5   Data6   Data7   Data8\n",
              "label                                  ...                                \n",
              "0      269042  269042  269042  269042  ...  269042  269042  269042  269042\n",
              "1       33556   33556   33556   33556  ...   33556   33556   33556   33556\n",
              "\n",
              "[2 rows x 11 columns]"
            ]
          },
          "metadata": {
            "tags": []
          },
          "execution_count": 260
        }
      ]
    },
    {
      "cell_type": "code",
      "metadata": {
        "colab": {
          "base_uri": "https://localhost:8080/"
        },
        "id": "J2k8YVdKP7Ve",
        "outputId": "663a30bd-067d-4257-bae3-f78631b207a5"
      },
      "source": [
        "1 - (33556/269042)"
      ],
      "execution_count": 279,
      "outputs": [
        {
          "output_type": "execute_result",
          "data": {
            "text/plain": [
              "0.8752759792151411"
            ]
          },
          "metadata": {
            "tags": []
          },
          "execution_count": 279
        }
      ]
    },
    {
      "cell_type": "code",
      "metadata": {
        "colab": {
          "base_uri": "https://localhost:8080/",
          "height": 136
        },
        "id": "rrx2L6rvAW8a",
        "outputId": "84222992-f640-4ae7-b171-44f6b71aeea5"
      },
      "source": [
        "#X_test\r\n",
        "newdf[val_split:].groupby('label').count()"
      ],
      "execution_count": 261,
      "outputs": [
        {
          "output_type": "execute_result",
          "data": {
            "text/html": [
              "<div>\n",
              "<style scoped>\n",
              "    .dataframe tbody tr th:only-of-type {\n",
              "        vertical-align: middle;\n",
              "    }\n",
              "\n",
              "    .dataframe tbody tr th {\n",
              "        vertical-align: top;\n",
              "    }\n",
              "\n",
              "    .dataframe thead th {\n",
              "        text-align: right;\n",
              "    }\n",
              "</style>\n",
              "<table border=\"1\" class=\"dataframe\">\n",
              "  <thead>\n",
              "    <tr style=\"text-align: right;\">\n",
              "      <th></th>\n",
              "      <th>CAN ID</th>\n",
              "      <th>RTR</th>\n",
              "      <th>DLC</th>\n",
              "      <th>Data1</th>\n",
              "      <th>Data2</th>\n",
              "      <th>Data3</th>\n",
              "      <th>Data4</th>\n",
              "      <th>Data5</th>\n",
              "      <th>Data6</th>\n",
              "      <th>Data7</th>\n",
              "      <th>Data8</th>\n",
              "    </tr>\n",
              "    <tr>\n",
              "      <th>label</th>\n",
              "      <th></th>\n",
              "      <th></th>\n",
              "      <th></th>\n",
              "      <th></th>\n",
              "      <th></th>\n",
              "      <th></th>\n",
              "      <th></th>\n",
              "      <th></th>\n",
              "      <th></th>\n",
              "      <th></th>\n",
              "      <th></th>\n",
              "    </tr>\n",
              "  </thead>\n",
              "  <tbody>\n",
              "    <tr>\n",
              "      <th>0</th>\n",
              "      <td>538064</td>\n",
              "      <td>538064</td>\n",
              "      <td>538064</td>\n",
              "      <td>538064</td>\n",
              "      <td>538064</td>\n",
              "      <td>538064</td>\n",
              "      <td>538064</td>\n",
              "      <td>538064</td>\n",
              "      <td>538064</td>\n",
              "      <td>538064</td>\n",
              "      <td>538064</td>\n",
              "    </tr>\n",
              "    <tr>\n",
              "      <th>1</th>\n",
              "      <td>67132</td>\n",
              "      <td>67132</td>\n",
              "      <td>67132</td>\n",
              "      <td>67132</td>\n",
              "      <td>67132</td>\n",
              "      <td>67132</td>\n",
              "      <td>67132</td>\n",
              "      <td>67132</td>\n",
              "      <td>67132</td>\n",
              "      <td>67132</td>\n",
              "      <td>67132</td>\n",
              "    </tr>\n",
              "  </tbody>\n",
              "</table>\n",
              "</div>"
            ],
            "text/plain": [
              "       CAN ID     RTR     DLC   Data1  ...   Data5   Data6   Data7   Data8\n",
              "label                                  ...                                \n",
              "0      538064  538064  538064  538064  ...  538064  538064  538064  538064\n",
              "1       67132   67132   67132   67132  ...   67132   67132   67132   67132\n",
              "\n",
              "[2 rows x 11 columns]"
            ]
          },
          "metadata": {
            "tags": []
          },
          "execution_count": 261
        }
      ]
    },
    {
      "cell_type": "code",
      "metadata": {
        "colab": {
          "base_uri": "https://localhost:8080/"
        },
        "id": "ReNQl_luAW8a",
        "outputId": "414ea91f-6d7b-431e-a2e1-3de138fa16a9"
      },
      "source": [
        "1 - (66685/538511)"
      ],
      "execution_count": 262,
      "outputs": [
        {
          "output_type": "execute_result",
          "data": {
            "text/plain": [
              "0.876167803443198"
            ]
          },
          "metadata": {
            "tags": []
          },
          "execution_count": 262
        }
      ]
    },
    {
      "cell_type": "code",
      "metadata": {
        "colab": {
          "base_uri": "https://localhost:8080/"
        },
        "id": "PYWDjrheAW8a",
        "outputId": "e72bd8b7-3d04-4272-ac74-d1ba15487564"
      },
      "source": [
        "testdf = pd.Series(y_test)\r\n",
        "testdf.value_counts()"
      ],
      "execution_count": 263,
      "outputs": [
        {
          "output_type": "execute_result",
          "data": {
            "text/plain": [
              "0    538064\n",
              "1     67132\n",
              "dtype: int64"
            ]
          },
          "metadata": {
            "tags": []
          },
          "execution_count": 263
        }
      ]
    },
    {
      "cell_type": "code",
      "metadata": {
        "id": "LEzMd8ToAW8b"
      },
      "source": [
        " tf.keras.backend.clear_session()"
      ],
      "execution_count": 264,
      "outputs": []
    },
    {
      "cell_type": "code",
      "metadata": {
        "colab": {
          "base_uri": "https://localhost:8080/",
          "height": 312
        },
        "id": "bPSsg4xKAW8b",
        "outputId": "ca8caaf6-a8d7-4fdc-afc1-739f27a854c4"
      },
      "source": [
        "tf.keras.utils.plot_model(m,show_shapes=True)"
      ],
      "execution_count": null,
      "outputs": [
        {
          "output_type": "execute_result",
          "data": {
            "image/png": "[encoded data removed]",
            "text/plain": [
              "<IPython.core.display.Image object>"
            ]
          },
          "metadata": {
            "tags": []
          },
          "execution_count": 190
        }
      ]
    },
    {
      "cell_type": "markdown",
      "metadata": {
        "id": "HSAHq4o4AJb5"
      },
      "source": [
        "## Hyperparameters and Model Size"
      ]
    },
    {
      "cell_type": "markdown",
      "metadata": {
        "id": "0r2l6JEhJppz"
      },
      "source": [
        "### Number of filters = 24"
      ]
    },
    {
      "cell_type": "code",
      "metadata": {
        "id": "PK-lL45sKiTe"
      },
      "source": [
        "tf.keras.backend.clear_session()"
      ],
      "execution_count": null,
      "outputs": []
    },
    {
      "cell_type": "code",
      "metadata": {
        "colab": {
          "base_uri": "https://localhost:8080/"
        },
        "id": "BzpwqKVCAW8b",
        "outputId": "c79a167b-2e5f-464a-b1a2-fe119694829f"
      },
      "source": [
        "i = Input(batch_shape=(batch_size, timesteps, input_dim))\r\n",
        "\r\n",
        "o = TCN(return_sequences=False,\r\n",
        "        nb_filters=24,\r\n",
        "        kernel_size=2,\r\n",
        "        nb_stacks=1,\r\n",
        "        # dilations=[1,2,4,8],\r\n",
        "        padding='same',\r\n",
        "        use_skip_connections=False,\r\n",
        "        dropout_rate=0.0,\r\n",
        "        activation='relu',\r\n",
        "        kernel_initializer='he_normal',\r\n",
        "        use_batch_norm=True)(i)  # The TCN layers are here.\r\n",
        "o = Dense(1)(o)\r\n",
        "\r\n",
        "m = Model(inputs=[i], outputs=[o])\r\n",
        "m.compile(optimizer='adam',\r\n",
        "          loss='mse',\r\n",
        "          metrics=['accuracy'])\r\n",
        "\r\n",
        "tcn_full_summary(m, expand_residual_blocks=True)\r\n",
        "\r\n",
        "early_stop=keras.callbacks.EarlyStopping(monitor='val_loss',patience=10)\r\n",
        "history = m.fit(X_train, y_train,\r\n",
        "      validation_data=(X_valid,y_valid),\r\n",
        "      epochs=5,\r\n",
        "      batch_size=128,\r\n",
        "      callbacks=[early_stop])"
      ],
      "execution_count": 265,
      "outputs": [
        {
          "output_type": "stream",
          "text": [
            "Model: \"functional_1\"\n",
            "_________________________________________________________________\n",
            "Layer (type)                 Output Shape              Param #   \n",
            "=================================================================\n",
            "input_1 (InputLayer)         [(None, 11, 1)]           0         \n",
            "_________________________________________________________________\n",
            "matching_conv1D (Conv1D)     (None, 11, 24)            48        \n",
            "_________________________________________________________________\n",
            "activation_2 (Activation)    (None, 11, 24)            0         \n",
            "_________________________________________________________________\n",
            "conv1D_0 (Conv1D)            (None, 11, 24)            72        \n",
            "_________________________________________________________________\n",
            "batch_normalization (BatchNo (None, 11, 24)            96        \n",
            "_________________________________________________________________\n",
            "activation (Activation)      (None, 11, 24)            0         \n",
            "_________________________________________________________________\n",
            "spatial_dropout1d (SpatialDr (None, 11, 24)            0         \n",
            "_________________________________________________________________\n",
            "conv1D_1 (Conv1D)            (None, 11, 24)            1176      \n",
            "_________________________________________________________________\n",
            "batch_normalization_1 (Batch (None, 11, 24)            96        \n",
            "_________________________________________________________________\n",
            "activation_1 (Activation)    (None, 11, 24)            0         \n",
            "_________________________________________________________________\n",
            "spatial_dropout1d_1 (Spatial (None, 11, 24)            0         \n",
            "_________________________________________________________________\n",
            "matching_identity (Lambda)   (None, 11, 24)            0         \n",
            "_________________________________________________________________\n",
            "activation_5 (Activation)    (None, 11, 24)            0         \n",
            "_________________________________________________________________\n",
            "conv1D_0 (Conv1D)            (None, 11, 24)            1176      \n",
            "_________________________________________________________________\n",
            "batch_normalization_2 (Batch (None, 11, 24)            96        \n",
            "_________________________________________________________________\n",
            "activation_3 (Activation)    (None, 11, 24)            0         \n",
            "_________________________________________________________________\n",
            "spatial_dropout1d_2 (Spatial (None, 11, 24)            0         \n",
            "_________________________________________________________________\n",
            "conv1D_1 (Conv1D)            (None, 11, 24)            1176      \n",
            "_________________________________________________________________\n",
            "batch_normalization_3 (Batch (None, 11, 24)            96        \n",
            "_________________________________________________________________\n",
            "activation_4 (Activation)    (None, 11, 24)            0         \n",
            "_________________________________________________________________\n",
            "spatial_dropout1d_3 (Spatial (None, 11, 24)            0         \n",
            "_________________________________________________________________\n",
            "matching_identity (Lambda)   (None, 11, 24)            0         \n",
            "_________________________________________________________________\n",
            "activation_8 (Activation)    (None, 11, 24)            0         \n",
            "_________________________________________________________________\n",
            "conv1D_0 (Conv1D)            (None, 11, 24)            1176      \n",
            "_________________________________________________________________\n",
            "batch_normalization_4 (Batch (None, 11, 24)            96        \n",
            "_________________________________________________________________\n",
            "activation_6 (Activation)    (None, 11, 24)            0         \n",
            "_________________________________________________________________\n",
            "spatial_dropout1d_4 (Spatial (None, 11, 24)            0         \n",
            "_________________________________________________________________\n",
            "conv1D_1 (Conv1D)            (None, 11, 24)            1176      \n",
            "_________________________________________________________________\n",
            "batch_normalization_5 (Batch (None, 11, 24)            96        \n",
            "_________________________________________________________________\n",
            "activation_7 (Activation)    (None, 11, 24)            0         \n",
            "_________________________________________________________________\n",
            "spatial_dropout1d_5 (Spatial (None, 11, 24)            0         \n",
            "_________________________________________________________________\n",
            "matching_identity (Lambda)   (None, 11, 24)            0         \n",
            "_________________________________________________________________\n",
            "activation_11 (Activation)   (None, 11, 24)            0         \n",
            "_________________________________________________________________\n",
            "conv1D_0 (Conv1D)            (None, 11, 24)            1176      \n",
            "_________________________________________________________________\n",
            "batch_normalization_6 (Batch (None, 11, 24)            96        \n",
            "_________________________________________________________________\n",
            "activation_9 (Activation)    (None, 11, 24)            0         \n",
            "_________________________________________________________________\n",
            "spatial_dropout1d_6 (Spatial (None, 11, 24)            0         \n",
            "_________________________________________________________________\n",
            "conv1D_1 (Conv1D)            (None, 11, 24)            1176      \n",
            "_________________________________________________________________\n",
            "batch_normalization_7 (Batch (None, 11, 24)            96        \n",
            "_________________________________________________________________\n",
            "activation_10 (Activation)   (None, 11, 24)            0         \n",
            "_________________________________________________________________\n",
            "spatial_dropout1d_7 (Spatial (None, 11, 24)            0         \n",
            "_________________________________________________________________\n",
            "matching_identity (Lambda)   (None, 11, 24)            0         \n",
            "_________________________________________________________________\n",
            "activation_14 (Activation)   (None, 11, 24)            0         \n",
            "_________________________________________________________________\n",
            "conv1D_0 (Conv1D)            (None, 11, 24)            1176      \n",
            "_________________________________________________________________\n",
            "batch_normalization_8 (Batch (None, 11, 24)            96        \n",
            "_________________________________________________________________\n",
            "activation_12 (Activation)   (None, 11, 24)            0         \n",
            "_________________________________________________________________\n",
            "spatial_dropout1d_8 (Spatial (None, 11, 24)            0         \n",
            "_________________________________________________________________\n",
            "conv1D_1 (Conv1D)            (None, 11, 24)            1176      \n",
            "_________________________________________________________________\n",
            "batch_normalization_9 (Batch (None, 11, 24)            96        \n",
            "_________________________________________________________________\n",
            "activation_13 (Activation)   (None, 11, 24)            0         \n",
            "_________________________________________________________________\n",
            "spatial_dropout1d_9 (Spatial (None, 11, 24)            0         \n",
            "_________________________________________________________________\n",
            "matching_identity (Lambda)   (None, 11, 24)            0         \n",
            "_________________________________________________________________\n",
            "activation_17 (Activation)   (None, 11, 24)            0         \n",
            "_________________________________________________________________\n",
            "conv1D_0 (Conv1D)            (None, 11, 24)            1176      \n",
            "_________________________________________________________________\n",
            "batch_normalization_10 (Batc (None, 11, 24)            96        \n",
            "_________________________________________________________________\n",
            "activation_15 (Activation)   (None, 11, 24)            0         \n",
            "_________________________________________________________________\n",
            "spatial_dropout1d_10 (Spatia (None, 11, 24)            0         \n",
            "_________________________________________________________________\n",
            "conv1D_1 (Conv1D)            (None, 11, 24)            1176      \n",
            "_________________________________________________________________\n",
            "batch_normalization_11 (Batc (None, 11, 24)            96        \n",
            "_________________________________________________________________\n",
            "activation_16 (Activation)   (None, 11, 24)            0         \n",
            "_________________________________________________________________\n",
            "spatial_dropout1d_11 (Spatia (None, 11, 24)            0         \n",
            "_________________________________________________________________\n",
            "lambda (Lambda)              (None, 24)                0         \n",
            "_________________________________________________________________\n",
            "dense (Dense)                (None, 1)                 25        \n",
            "=================================================================\n",
            "Total params: 14,233\n",
            "Trainable params: 13,657\n",
            "Non-trainable params: 576\n",
            "_________________________________________________________________\n",
            "Epoch 1/5\n",
            "16549/16549 [==============================] - 245s 15ms/step - loss: 8.5970 - accuracy: 0.9109 - val_loss: 0.0509 - val_accuracy: 0.9361\n",
            "Epoch 2/5\n",
            "16549/16549 [==============================] - 253s 15ms/step - loss: 0.0433 - accuracy: 0.9381 - val_loss: 0.0403 - val_accuracy: 0.9397\n",
            "Epoch 3/5\n",
            "16549/16549 [==============================] - 250s 15ms/step - loss: 0.0417 - accuracy: 0.9389 - val_loss: 0.0546 - val_accuracy: 0.9397\n",
            "Epoch 4/5\n",
            "16549/16549 [==============================] - 242s 15ms/step - loss: 0.0414 - accuracy: 0.9392 - val_loss: 0.0391 - val_accuracy: 0.9397\n",
            "Epoch 5/5\n",
            "16549/16549 [==============================] - 241s 15ms/step - loss: 0.0411 - accuracy: 0.9392 - val_loss: 0.0421 - val_accuracy: 0.9397\n"
          ],
          "name": "stdout"
        }
      ]
    },
    {
      "cell_type": "markdown",
      "metadata": {
        "id": "TP-nATJKAW8c"
      },
      "source": [
        "#### Evaluation and Plotting"
      ]
    },
    {
      "cell_type": "code",
      "metadata": {
        "colab": {
          "base_uri": "https://localhost:8080/"
        },
        "id": "j5cqcydPAW8c",
        "outputId": "0f5c1790-0a08-4165-afd4-e5b206eb47db"
      },
      "source": [
        "scores = m.evaluate(X_test,y_test)\r\n",
        "print(f\"Loss, Accuracy: {scores}\")"
      ],
      "execution_count": 266,
      "outputs": [
        {
          "output_type": "stream",
          "text": [
            "18913/18913 [==============================] - 68s 4ms/step - loss: 0.0422 - accuracy: 0.9395\n",
            "Loss, Accuracy: [0.04219415411353111, 0.9395039081573486]\n"
          ],
          "name": "stdout"
        }
      ]
    },
    {
      "cell_type": "code",
      "metadata": {
        "colab": {
          "base_uri": "https://localhost:8080/",
          "height": 323
        },
        "id": "KV61U1TPAW8c",
        "outputId": "6db09f0b-fc40-472e-eeff-cf73b7d26825"
      },
      "source": [
        "plt.subplot(1,2,1)\n",
        "plt.plot(history.history[\"loss\"])\n",
        "plt.plot(history.history[\"val_loss\"])\n",
        "plt.legend(('loss','val_loss'))\n",
        "plt.subplot(1,2,2)\n",
        "plt.plot(history.history[\"accuracy\"])\n",
        "plt.plot(history.history[\"val_accuracy\"])\n",
        "plt.legend(('acc','val_acc'))\n",
        "\n",
        "plt.gcf().set_size_inches((10,5))\n",
        "plt.show()"
      ],
      "execution_count": 267,
      "outputs": [
        {
          "output_type": "display_data",
          "data": {
            "image/png": "[encoded data removed]",
            "text/plain": [
              "<Figure size 720x360 with 2 Axes>"
            ]
          },
          "metadata": {
            "tags": [],
            "needs_background": "light"
          }
        }
      ]
    },
    {
      "cell_type": "code",
      "metadata": {
        "id": "Bhmo9fvnAW8c"
      },
      "source": [
        "y_pred = m.predict(X_test, )"
      ],
      "execution_count": 268,
      "outputs": []
    },
    {
      "cell_type": "code",
      "metadata": {
        "colab": {
          "base_uri": "https://localhost:8080/"
        },
        "id": "xMozecEoAW8c",
        "outputId": "90e633c2-a0d7-406a-dc53-8fb90953653e"
      },
      "source": [
        "X_test[30],y_test[30], np.argmax(y_pred[30])"
      ],
      "execution_count": 269,
      "outputs": [
        {
          "output_type": "execute_result",
          "data": {
            "text/plain": [
              "(array([399,   0,   8,   0,  44,  24,   0,   0,  63,   0,   0]), 0, 0)"
            ]
          },
          "metadata": {
            "tags": []
          },
          "execution_count": 269
        }
      ]
    },
    {
      "cell_type": "code",
      "metadata": {
        "colab": {
          "base_uri": "https://localhost:8080/"
        },
        "id": "Zv3H6Zm8AW8c",
        "outputId": "3851ff97-d4d8-4327-f6ac-fe6874ab0482"
      },
      "source": [
        "classes = np.array([np.argmax(i) for i in y_pred])\r\n",
        "np.unique(classes), classes[:20]"
      ],
      "execution_count": 270,
      "outputs": [
        {
          "output_type": "execute_result",
          "data": {
            "text/plain": [
              "(array([0]),\n",
              " array([0, 0, 0, 0, 0, 0, 0, 0, 0, 0, 0, 0, 0, 0, 0, 0, 0, 0, 0, 0]))"
            ]
          },
          "metadata": {
            "tags": []
          },
          "execution_count": 270
        }
      ]
    },
    {
      "cell_type": "code",
      "metadata": {
        "colab": {
          "base_uri": "https://localhost:8080/"
        },
        "id": "UQ52aIx8AW8d",
        "outputId": "c07dfe41-948d-4321-c662-db4046a2ff5f"
      },
      "source": [
        "recall_score(y_test,classes)"
      ],
      "execution_count": 271,
      "outputs": [
        {
          "output_type": "execute_result",
          "data": {
            "text/plain": [
              "0.0"
            ]
          },
          "metadata": {
            "tags": []
          },
          "execution_count": 271
        }
      ]
    },
    {
      "cell_type": "code",
      "metadata": {
        "colab": {
          "base_uri": "https://localhost:8080/"
        },
        "id": "evA8WQfwAW8d",
        "outputId": "7a149907-4f74-4c18-a9f6-a17068cff7d4"
      },
      "source": [
        "predlist = classes.reshape((classes.shape[0],1))\n",
        "y_test.shape, y_pred.shape, predlist.shape"
      ],
      "execution_count": 272,
      "outputs": [
        {
          "output_type": "execute_result",
          "data": {
            "text/plain": [
              "((605196,), (605196, 1), (605196, 1))"
            ]
          },
          "metadata": {
            "tags": []
          },
          "execution_count": 272
        }
      ]
    },
    {
      "cell_type": "code",
      "metadata": {
        "colab": {
          "base_uri": "https://localhost:8080/",
          "height": 402
        },
        "id": "H6QC2k4LAW8d",
        "outputId": "58c13c70-4a0f-456f-c033-40e5bdd501bb"
      },
      "source": [
        "compdf = pd.DataFrame(predlist)\n",
        "compdf['real'] = y_test\n",
        "compdf = compdf.rename(columns={0:'pred'})\n",
        "compdf['T/F Prediction'] = np.where(compdf['pred'] == compdf['real'],True, False)\n",
        "compdf"
      ],
      "execution_count": 273,
      "outputs": [
        {
          "output_type": "execute_result",
          "data": {
            "text/html": [
              "<div>\n",
              "<style scoped>\n",
              "    .dataframe tbody tr th:only-of-type {\n",
              "        vertical-align: middle;\n",
              "    }\n",
              "\n",
              "    .dataframe tbody tr th {\n",
              "        vertical-align: top;\n",
              "    }\n",
              "\n",
              "    .dataframe thead th {\n",
              "        text-align: right;\n",
              "    }\n",
              "</style>\n",
              "<table border=\"1\" class=\"dataframe\">\n",
              "  <thead>\n",
              "    <tr style=\"text-align: right;\">\n",
              "      <th></th>\n",
              "      <th>pred</th>\n",
              "      <th>real</th>\n",
              "      <th>T/F Prediction</th>\n",
              "    </tr>\n",
              "  </thead>\n",
              "  <tbody>\n",
              "    <tr>\n",
              "      <th>0</th>\n",
              "      <td>0</td>\n",
              "      <td>0</td>\n",
              "      <td>True</td>\n",
              "    </tr>\n",
              "    <tr>\n",
              "      <th>1</th>\n",
              "      <td>0</td>\n",
              "      <td>0</td>\n",
              "      <td>True</td>\n",
              "    </tr>\n",
              "    <tr>\n",
              "      <th>2</th>\n",
              "      <td>0</td>\n",
              "      <td>0</td>\n",
              "      <td>True</td>\n",
              "    </tr>\n",
              "    <tr>\n",
              "      <th>3</th>\n",
              "      <td>0</td>\n",
              "      <td>1</td>\n",
              "      <td>False</td>\n",
              "    </tr>\n",
              "    <tr>\n",
              "      <th>4</th>\n",
              "      <td>0</td>\n",
              "      <td>0</td>\n",
              "      <td>True</td>\n",
              "    </tr>\n",
              "    <tr>\n",
              "      <th>...</th>\n",
              "      <td>...</td>\n",
              "      <td>...</td>\n",
              "      <td>...</td>\n",
              "    </tr>\n",
              "    <tr>\n",
              "      <th>605191</th>\n",
              "      <td>0</td>\n",
              "      <td>0</td>\n",
              "      <td>True</td>\n",
              "    </tr>\n",
              "    <tr>\n",
              "      <th>605192</th>\n",
              "      <td>0</td>\n",
              "      <td>0</td>\n",
              "      <td>True</td>\n",
              "    </tr>\n",
              "    <tr>\n",
              "      <th>605193</th>\n",
              "      <td>0</td>\n",
              "      <td>0</td>\n",
              "      <td>True</td>\n",
              "    </tr>\n",
              "    <tr>\n",
              "      <th>605194</th>\n",
              "      <td>0</td>\n",
              "      <td>0</td>\n",
              "      <td>True</td>\n",
              "    </tr>\n",
              "    <tr>\n",
              "      <th>605195</th>\n",
              "      <td>0</td>\n",
              "      <td>0</td>\n",
              "      <td>True</td>\n",
              "    </tr>\n",
              "  </tbody>\n",
              "</table>\n",
              "<p>605196 rows × 3 columns</p>\n",
              "</div>"
            ],
            "text/plain": [
              "        pred  real  T/F Prediction\n",
              "0          0     0            True\n",
              "1          0     0            True\n",
              "2          0     0            True\n",
              "3          0     1           False\n",
              "4          0     0            True\n",
              "...      ...   ...             ...\n",
              "605191     0     0            True\n",
              "605192     0     0            True\n",
              "605193     0     0            True\n",
              "605194     0     0            True\n",
              "605195     0     0            True\n",
              "\n",
              "[605196 rows x 3 columns]"
            ]
          },
          "metadata": {
            "tags": []
          },
          "execution_count": 273
        }
      ]
    },
    {
      "cell_type": "code",
      "metadata": {
        "colab": {
          "base_uri": "https://localhost:8080/"
        },
        "id": "QnRCMKh8AW8d",
        "outputId": "56187d8d-76e9-4ddc-d2f0-18fda91a954a"
      },
      "source": [
        "np.unique(compdf.loc[compdf.real == 1]['T/F Prediction'])"
      ],
      "execution_count": 274,
      "outputs": [
        {
          "output_type": "execute_result",
          "data": {
            "text/plain": [
              "array([False])"
            ]
          },
          "metadata": {
            "tags": []
          },
          "execution_count": 274
        }
      ]
    },
    {
      "cell_type": "code",
      "metadata": {
        "colab": {
          "base_uri": "https://localhost:8080/"
        },
        "id": "eHcMSK0uPyRE",
        "outputId": "6a081f33-50f2-4bbf-fe8c-ff2cef483f1d"
      },
      "source": [
        "np.unique(compdf['pred'])"
      ],
      "execution_count": 278,
      "outputs": [
        {
          "output_type": "execute_result",
          "data": {
            "text/plain": [
              "array([0])"
            ]
          },
          "metadata": {
            "tags": []
          },
          "execution_count": 278
        }
      ]
    },
    {
      "cell_type": "code",
      "metadata": {
        "colab": {
          "base_uri": "https://localhost:8080/",
          "height": 582
        },
        "id": "8VN1xHOnAW8e",
        "outputId": "cf4be8c1-dc39-4892-aab0-95b73c2991c1"
      },
      "source": [
        "plot_min=60\r\n",
        "plot_max =120\r\n",
        "plt.scatter(range(plot_min,plot_max),y_test[plot_min:plot_max])\r\n",
        "plt.scatter(range(plot_min,plot_max),[y_pred[i].argmax()+0.02 for i in range(len(y_pred[plot_min:plot_max]))],c=['r'])\r\n",
        "plt.legend(('test class','predicted class'))\r\n",
        "plt.xlabel('timestamp index')\r\n",
        "plt.ylabel('class (0 = normal, 1 = anomaly)')\r\n",
        "plt.xticks(ticks=range(plot_min, plot_max))\r\n",
        "plt.gcf().set_size_inches((20,10))\r\n",
        "# plt.gcf().autofmt_xdate()\r\n",
        "plt.show()"
      ],
      "execution_count": 275,
      "outputs": [
        {
          "output_type": "display_data",
          "data": {
            "image/png": "[encoded data removed]",
            "text/plain": [
              "<Figure size 1440x720 with 1 Axes>"
            ]
          },
          "metadata": {
            "tags": [],
            "needs_background": "light"
          }
        }
      ]
    },
    {
      "cell_type": "markdown",
      "metadata": {
        "id": "Ga3hFg3GAW8f"
      },
      "source": [
        "#### Saving and Checking the size of the Model"
      ]
    },
    {
      "cell_type": "code",
      "metadata": {
        "colab": {
          "base_uri": "https://localhost:8080/"
        },
        "id": "Nwya5ZMOAW8f",
        "outputId": "fadd65e8-1415-441e-aa5a-840aac3d4402"
      },
      "source": [
        "saved_model_dir = '/content/drive/MyDrive/Colab Notebooks/CS581/project-data/'\r\n",
        "m.save(saved_model_dir + \"tcn-24filter.h5\",include_optimizer=False)\r\n",
        "print(f\"Saving Model to: {saved_model_dir}tcn-24filter.h5\")"
      ],
      "execution_count": 276,
      "outputs": [
        {
          "output_type": "stream",
          "text": [
            "Saving Model to: /content/drive/MyDrive/Colab Notebooks/CS581/project-data/tcn-24filter.h5\n"
          ],
          "name": "stdout"
        }
      ]
    },
    {
      "cell_type": "code",
      "metadata": {
        "colab": {
          "base_uri": "https://localhost:8080/"
        },
        "id": "JHYt-zEyAW8f",
        "outputId": "5c765609-88ea-45f1-a3e2-31e7aa7c109e"
      },
      "source": [
        "print(f'Size of the model without compression: {os.path.getsize(saved_model_dir + \"tcn-24filter.h5\")/float(2**20)} Mb')"
      ],
      "execution_count": 277,
      "outputs": [
        {
          "output_type": "stream",
          "text": [
            "Size of the model without compression: 0.1211700439453125 Mb\n"
          ],
          "name": "stdout"
        }
      ]
    },
    {
      "cell_type": "code",
      "metadata": {
        "id": "UcsnpFjnAW8f"
      },
      "source": [
        ""
      ],
      "execution_count": null,
      "outputs": []
    },
    {
      "cell_type": "markdown",
      "metadata": {
        "id": "DBOtyneCMEYc"
      },
      "source": [
        "### Number of filters = 128"
      ]
    },
    {
      "cell_type": "code",
      "metadata": {
        "id": "jK1H-2a-MEYk"
      },
      "source": [
        "tf.keras.backend.clear_session()"
      ],
      "execution_count": 281,
      "outputs": []
    },
    {
      "cell_type": "code",
      "metadata": {
        "colab": {
          "base_uri": "https://localhost:8080/"
        },
        "id": "TlmI-3Q7MEYk",
        "outputId": "720cc566-2da3-4f6e-9f2a-84f30bca07d8"
      },
      "source": [
        "i = Input(batch_shape=(batch_size, timesteps, input_dim))\r\n",
        "\r\n",
        "o = TCN(return_sequences=False,\r\n",
        "        nb_filters=128,\r\n",
        "        kernel_size=2,\r\n",
        "        nb_stacks=1,\r\n",
        "        # dilations=[1,2,4,8],\r\n",
        "        padding='same',\r\n",
        "        use_skip_connections=False,\r\n",
        "        dropout_rate=0.0,\r\n",
        "        activation='relu',\r\n",
        "        kernel_initializer='he_normal',\r\n",
        "        use_batch_norm=True)(i)  # The TCN layers are here.\r\n",
        "o = Dense(1)(o)\r\n",
        "\r\n",
        "m = Model(inputs=[i], outputs=[o])\r\n",
        "m.compile(optimizer='adam',\r\n",
        "          loss='mse',\r\n",
        "          metrics=['accuracy'])\r\n",
        "\r\n",
        "tcn_full_summary(m, expand_residual_blocks=True)\r\n",
        "\r\n",
        "early_stop=keras.callbacks.EarlyStopping(monitor='val_loss',patience=10)\r\n",
        "history = m.fit(X_train, y_train,\r\n",
        "      validation_data=(X_valid,y_valid),\r\n",
        "      epochs=5,\r\n",
        "      batch_size=128,\r\n",
        "      callbacks=[early_stop])"
      ],
      "execution_count": 282,
      "outputs": [
        {
          "output_type": "stream",
          "text": [
            "Model: \"functional_1\"\n",
            "_________________________________________________________________\n",
            "Layer (type)                 Output Shape              Param #   \n",
            "=================================================================\n",
            "input_1 (InputLayer)         [(None, 11, 1)]           0         \n",
            "_________________________________________________________________\n",
            "matching_conv1D (Conv1D)     (None, 11, 128)           256       \n",
            "_________________________________________________________________\n",
            "activation_2 (Activation)    (None, 11, 128)           0         \n",
            "_________________________________________________________________\n",
            "conv1D_0 (Conv1D)            (None, 11, 128)           384       \n",
            "_________________________________________________________________\n",
            "batch_normalization (BatchNo (None, 11, 128)           512       \n",
            "_________________________________________________________________\n",
            "activation (Activation)      (None, 11, 128)           0         \n",
            "_________________________________________________________________\n",
            "spatial_dropout1d (SpatialDr (None, 11, 128)           0         \n",
            "_________________________________________________________________\n",
            "conv1D_1 (Conv1D)            (None, 11, 128)           32896     \n",
            "_________________________________________________________________\n",
            "batch_normalization_1 (Batch (None, 11, 128)           512       \n",
            "_________________________________________________________________\n",
            "activation_1 (Activation)    (None, 11, 128)           0         \n",
            "_________________________________________________________________\n",
            "spatial_dropout1d_1 (Spatial (None, 11, 128)           0         \n",
            "_________________________________________________________________\n",
            "matching_identity (Lambda)   (None, 11, 128)           0         \n",
            "_________________________________________________________________\n",
            "activation_5 (Activation)    (None, 11, 128)           0         \n",
            "_________________________________________________________________\n",
            "conv1D_0 (Conv1D)            (None, 11, 128)           32896     \n",
            "_________________________________________________________________\n",
            "batch_normalization_2 (Batch (None, 11, 128)           512       \n",
            "_________________________________________________________________\n",
            "activation_3 (Activation)    (None, 11, 128)           0         \n",
            "_________________________________________________________________\n",
            "spatial_dropout1d_2 (Spatial (None, 11, 128)           0         \n",
            "_________________________________________________________________\n",
            "conv1D_1 (Conv1D)            (None, 11, 128)           32896     \n",
            "_________________________________________________________________\n",
            "batch_normalization_3 (Batch (None, 11, 128)           512       \n",
            "_________________________________________________________________\n",
            "activation_4 (Activation)    (None, 11, 128)           0         \n",
            "_________________________________________________________________\n",
            "spatial_dropout1d_3 (Spatial (None, 11, 128)           0         \n",
            "_________________________________________________________________\n",
            "matching_identity (Lambda)   (None, 11, 128)           0         \n",
            "_________________________________________________________________\n",
            "activation_8 (Activation)    (None, 11, 128)           0         \n",
            "_________________________________________________________________\n",
            "conv1D_0 (Conv1D)            (None, 11, 128)           32896     \n",
            "_________________________________________________________________\n",
            "batch_normalization_4 (Batch (None, 11, 128)           512       \n",
            "_________________________________________________________________\n",
            "activation_6 (Activation)    (None, 11, 128)           0         \n",
            "_________________________________________________________________\n",
            "spatial_dropout1d_4 (Spatial (None, 11, 128)           0         \n",
            "_________________________________________________________________\n",
            "conv1D_1 (Conv1D)            (None, 11, 128)           32896     \n",
            "_________________________________________________________________\n",
            "batch_normalization_5 (Batch (None, 11, 128)           512       \n",
            "_________________________________________________________________\n",
            "activation_7 (Activation)    (None, 11, 128)           0         \n",
            "_________________________________________________________________\n",
            "spatial_dropout1d_5 (Spatial (None, 11, 128)           0         \n",
            "_________________________________________________________________\n",
            "matching_identity (Lambda)   (None, 11, 128)           0         \n",
            "_________________________________________________________________\n",
            "activation_11 (Activation)   (None, 11, 128)           0         \n",
            "_________________________________________________________________\n",
            "conv1D_0 (Conv1D)            (None, 11, 128)           32896     \n",
            "_________________________________________________________________\n",
            "batch_normalization_6 (Batch (None, 11, 128)           512       \n",
            "_________________________________________________________________\n",
            "activation_9 (Activation)    (None, 11, 128)           0         \n",
            "_________________________________________________________________\n",
            "spatial_dropout1d_6 (Spatial (None, 11, 128)           0         \n",
            "_________________________________________________________________\n",
            "conv1D_1 (Conv1D)            (None, 11, 128)           32896     \n",
            "_________________________________________________________________\n",
            "batch_normalization_7 (Batch (None, 11, 128)           512       \n",
            "_________________________________________________________________\n",
            "activation_10 (Activation)   (None, 11, 128)           0         \n",
            "_________________________________________________________________\n",
            "spatial_dropout1d_7 (Spatial (None, 11, 128)           0         \n",
            "_________________________________________________________________\n",
            "matching_identity (Lambda)   (None, 11, 128)           0         \n",
            "_________________________________________________________________\n",
            "activation_14 (Activation)   (None, 11, 128)           0         \n",
            "_________________________________________________________________\n",
            "conv1D_0 (Conv1D)            (None, 11, 128)           32896     \n",
            "_________________________________________________________________\n",
            "batch_normalization_8 (Batch (None, 11, 128)           512       \n",
            "_________________________________________________________________\n",
            "activation_12 (Activation)   (None, 11, 128)           0         \n",
            "_________________________________________________________________\n",
            "spatial_dropout1d_8 (Spatial (None, 11, 128)           0         \n",
            "_________________________________________________________________\n",
            "conv1D_1 (Conv1D)            (None, 11, 128)           32896     \n",
            "_________________________________________________________________\n",
            "batch_normalization_9 (Batch (None, 11, 128)           512       \n",
            "_________________________________________________________________\n",
            "activation_13 (Activation)   (None, 11, 128)           0         \n",
            "_________________________________________________________________\n",
            "spatial_dropout1d_9 (Spatial (None, 11, 128)           0         \n",
            "_________________________________________________________________\n",
            "matching_identity (Lambda)   (None, 11, 128)           0         \n",
            "_________________________________________________________________\n",
            "activation_17 (Activation)   (None, 11, 128)           0         \n",
            "_________________________________________________________________\n",
            "conv1D_0 (Conv1D)            (None, 11, 128)           32896     \n",
            "_________________________________________________________________\n",
            "batch_normalization_10 (Batc (None, 11, 128)           512       \n",
            "_________________________________________________________________\n",
            "activation_15 (Activation)   (None, 11, 128)           0         \n",
            "_________________________________________________________________\n",
            "spatial_dropout1d_10 (Spatia (None, 11, 128)           0         \n",
            "_________________________________________________________________\n",
            "conv1D_1 (Conv1D)            (None, 11, 128)           32896     \n",
            "_________________________________________________________________\n",
            "batch_normalization_11 (Batc (None, 11, 128)           512       \n",
            "_________________________________________________________________\n",
            "activation_16 (Activation)   (None, 11, 128)           0         \n",
            "_________________________________________________________________\n",
            "spatial_dropout1d_11 (Spatia (None, 11, 128)           0         \n",
            "_________________________________________________________________\n",
            "lambda (Lambda)              (None, 128)               0         \n",
            "_________________________________________________________________\n",
            "dense (Dense)                (None, 1)                 129       \n",
            "=================================================================\n",
            "Total params: 368,769\n",
            "Trainable params: 365,697\n",
            "Non-trainable params: 3,072\n",
            "_________________________________________________________________\n",
            "Epoch 1/5\n",
            "16549/16549 [==============================] - 255s 15ms/step - loss: 8.5846 - accuracy: 0.8869 - val_loss: 0.0640 - val_accuracy: 0.8891\n",
            "Epoch 2/5\n",
            "16549/16549 [==============================] - 253s 15ms/step - loss: 0.1358 - accuracy: 0.9136 - val_loss: 0.0407 - val_accuracy: 0.9397\n",
            "Epoch 3/5\n",
            "16549/16549 [==============================] - 257s 16ms/step - loss: 0.1401 - accuracy: 0.9195 - val_loss: 0.0498 - val_accuracy: 0.9375\n",
            "Epoch 4/5\n",
            "16549/16549 [==============================] - 255s 15ms/step - loss: 0.1322 - accuracy: 0.9175 - val_loss: 0.0406 - val_accuracy: 0.9375\n",
            "Epoch 5/5\n",
            "16549/16549 [==============================] - 257s 16ms/step - loss: 0.1241 - accuracy: 0.9164 - val_loss: 0.0404 - val_accuracy: 0.9375\n"
          ],
          "name": "stdout"
        }
      ]
    },
    {
      "cell_type": "markdown",
      "metadata": {
        "id": "VanQ0jtfMEYl"
      },
      "source": [
        "#### Evaluation and Plotting"
      ]
    },
    {
      "cell_type": "code",
      "metadata": {
        "colab": {
          "base_uri": "https://localhost:8080/"
        },
        "id": "WUCJIpr_MEYl",
        "outputId": "585c2703-be2f-4cfe-f979-84118c98cebb"
      },
      "source": [
        "scores = m.evaluate(X_test,y_test)\r\n",
        "print(f\"Loss, Accuracy: {scores}\")"
      ],
      "execution_count": 283,
      "outputs": [
        {
          "output_type": "stream",
          "text": [
            "18913/18913 [==============================] - 71s 4ms/step - loss: 0.0405 - accuracy: 0.9373\n",
            "Loss, Accuracy: [0.040526796132326126, 0.9372566938400269]\n"
          ],
          "name": "stdout"
        }
      ]
    },
    {
      "cell_type": "code",
      "metadata": {
        "colab": {
          "base_uri": "https://localhost:8080/",
          "height": 323
        },
        "id": "pBufj2VFMEYm",
        "outputId": "80605921-daff-4c66-a0b5-7d575387198e"
      },
      "source": [
        "plt.subplot(1,2,1)\n",
        "plt.plot(history.history[\"loss\"])\n",
        "plt.plot(history.history[\"val_loss\"])\n",
        "plt.legend(('loss','val_loss'))\n",
        "plt.subplot(1,2,2)\n",
        "plt.plot(history.history[\"accuracy\"])\n",
        "plt.plot(history.history[\"val_accuracy\"])\n",
        "plt.legend(('acc','val_acc'))\n",
        "\n",
        "plt.gcf().set_size_inches((10,5))\n",
        "plt.show()"
      ],
      "execution_count": 284,
      "outputs": [
        {
          "output_type": "display_data",
          "data": {
            "image/png": "[encoded data removed]",
            "text/plain": [
              "<Figure size 720x360 with 2 Axes>"
            ]
          },
          "metadata": {
            "tags": [],
            "needs_background": "light"
          }
        }
      ]
    },
    {
      "cell_type": "code",
      "metadata": {
        "id": "7CsgdKHhMEYm"
      },
      "source": [
        "y_pred = m.predict(X_test, )"
      ],
      "execution_count": 285,
      "outputs": []
    },
    {
      "cell_type": "code",
      "metadata": {
        "colab": {
          "base_uri": "https://localhost:8080/"
        },
        "id": "O0by05k1MEYm",
        "outputId": "e36aa7a8-71aa-4ca5-cdb6-cf1304b7d13a"
      },
      "source": [
        "X_test[30],y_test[30], np.argmax(y_pred[30])"
      ],
      "execution_count": 286,
      "outputs": [
        {
          "output_type": "execute_result",
          "data": {
            "text/plain": [
              "(array([399,   0,   8,   0,  44,  24,   0,   0,  63,   0,   0]), 0, 0)"
            ]
          },
          "metadata": {
            "tags": []
          },
          "execution_count": 286
        }
      ]
    },
    {
      "cell_type": "code",
      "metadata": {
        "colab": {
          "base_uri": "https://localhost:8080/"
        },
        "id": "ZmYvD5FCMEYn",
        "outputId": "fbe52c75-62d4-4c40-f0b6-bacc1f6df3ab"
      },
      "source": [
        "classes = np.array([np.argmax(i) for i in y_pred])\r\n",
        "np.unique(classes), classes[:20]"
      ],
      "execution_count": 287,
      "outputs": [
        {
          "output_type": "execute_result",
          "data": {
            "text/plain": [
              "(array([0]),\n",
              " array([0, 0, 0, 0, 0, 0, 0, 0, 0, 0, 0, 0, 0, 0, 0, 0, 0, 0, 0, 0]))"
            ]
          },
          "metadata": {
            "tags": []
          },
          "execution_count": 287
        }
      ]
    },
    {
      "cell_type": "code",
      "metadata": {
        "colab": {
          "base_uri": "https://localhost:8080/"
        },
        "id": "FsXznvfaMEYn",
        "outputId": "7a98121e-7aa2-4288-d2d7-9037710eb088"
      },
      "source": [
        "recall_score(y_test,classes)"
      ],
      "execution_count": 288,
      "outputs": [
        {
          "output_type": "execute_result",
          "data": {
            "text/plain": [
              "0.0"
            ]
          },
          "metadata": {
            "tags": []
          },
          "execution_count": 288
        }
      ]
    },
    {
      "cell_type": "code",
      "metadata": {
        "colab": {
          "base_uri": "https://localhost:8080/"
        },
        "id": "vNcfi3-vMEYn",
        "outputId": "03b4dc84-0ffe-45ee-94f6-5150596e137b"
      },
      "source": [
        "predlist = classes.reshape((classes.shape[0],1))\n",
        "y_test.shape, y_pred.shape, predlist.shape"
      ],
      "execution_count": 289,
      "outputs": [
        {
          "output_type": "execute_result",
          "data": {
            "text/plain": [
              "((605196,), (605196, 1), (605196, 1))"
            ]
          },
          "metadata": {
            "tags": []
          },
          "execution_count": 289
        }
      ]
    },
    {
      "cell_type": "code",
      "metadata": {
        "colab": {
          "base_uri": "https://localhost:8080/",
          "height": 402
        },
        "id": "g-S7uWT7MEYn",
        "outputId": "0d868dca-281d-42c0-8b0e-5d97986f58a5"
      },
      "source": [
        "compdf = pd.DataFrame(predlist)\n",
        "compdf['real'] = y_test\n",
        "compdf = compdf.rename(columns={0:'pred'})\n",
        "compdf['T/F Prediction'] = np.where(compdf['pred'] == compdf['real'],True, False)\n",
        "compdf"
      ],
      "execution_count": 290,
      "outputs": [
        {
          "output_type": "execute_result",
          "data": {
            "text/html": [
              "<div>\n",
              "<style scoped>\n",
              "    .dataframe tbody tr th:only-of-type {\n",
              "        vertical-align: middle;\n",
              "    }\n",
              "\n",
              "    .dataframe tbody tr th {\n",
              "        vertical-align: top;\n",
              "    }\n",
              "\n",
              "    .dataframe thead th {\n",
              "        text-align: right;\n",
              "    }\n",
              "</style>\n",
              "<table border=\"1\" class=\"dataframe\">\n",
              "  <thead>\n",
              "    <tr style=\"text-align: right;\">\n",
              "      <th></th>\n",
              "      <th>pred</th>\n",
              "      <th>real</th>\n",
              "      <th>T/F Prediction</th>\n",
              "    </tr>\n",
              "  </thead>\n",
              "  <tbody>\n",
              "    <tr>\n",
              "      <th>0</th>\n",
              "      <td>0</td>\n",
              "      <td>0</td>\n",
              "      <td>True</td>\n",
              "    </tr>\n",
              "    <tr>\n",
              "      <th>1</th>\n",
              "      <td>0</td>\n",
              "      <td>0</td>\n",
              "      <td>True</td>\n",
              "    </tr>\n",
              "    <tr>\n",
              "      <th>2</th>\n",
              "      <td>0</td>\n",
              "      <td>0</td>\n",
              "      <td>True</td>\n",
              "    </tr>\n",
              "    <tr>\n",
              "      <th>3</th>\n",
              "      <td>0</td>\n",
              "      <td>1</td>\n",
              "      <td>False</td>\n",
              "    </tr>\n",
              "    <tr>\n",
              "      <th>4</th>\n",
              "      <td>0</td>\n",
              "      <td>0</td>\n",
              "      <td>True</td>\n",
              "    </tr>\n",
              "    <tr>\n",
              "      <th>...</th>\n",
              "      <td>...</td>\n",
              "      <td>...</td>\n",
              "      <td>...</td>\n",
              "    </tr>\n",
              "    <tr>\n",
              "      <th>605191</th>\n",
              "      <td>0</td>\n",
              "      <td>0</td>\n",
              "      <td>True</td>\n",
              "    </tr>\n",
              "    <tr>\n",
              "      <th>605192</th>\n",
              "      <td>0</td>\n",
              "      <td>0</td>\n",
              "      <td>True</td>\n",
              "    </tr>\n",
              "    <tr>\n",
              "      <th>605193</th>\n",
              "      <td>0</td>\n",
              "      <td>0</td>\n",
              "      <td>True</td>\n",
              "    </tr>\n",
              "    <tr>\n",
              "      <th>605194</th>\n",
              "      <td>0</td>\n",
              "      <td>0</td>\n",
              "      <td>True</td>\n",
              "    </tr>\n",
              "    <tr>\n",
              "      <th>605195</th>\n",
              "      <td>0</td>\n",
              "      <td>0</td>\n",
              "      <td>True</td>\n",
              "    </tr>\n",
              "  </tbody>\n",
              "</table>\n",
              "<p>605196 rows × 3 columns</p>\n",
              "</div>"
            ],
            "text/plain": [
              "        pred  real  T/F Prediction\n",
              "0          0     0            True\n",
              "1          0     0            True\n",
              "2          0     0            True\n",
              "3          0     1           False\n",
              "4          0     0            True\n",
              "...      ...   ...             ...\n",
              "605191     0     0            True\n",
              "605192     0     0            True\n",
              "605193     0     0            True\n",
              "605194     0     0            True\n",
              "605195     0     0            True\n",
              "\n",
              "[605196 rows x 3 columns]"
            ]
          },
          "metadata": {
            "tags": []
          },
          "execution_count": 290
        }
      ]
    },
    {
      "cell_type": "code",
      "metadata": {
        "colab": {
          "base_uri": "https://localhost:8080/"
        },
        "id": "QvdkbsheMEYo",
        "outputId": "0b396ecb-72b1-4903-f4dd-99f642156a7f"
      },
      "source": [
        "np.unique(compdf.loc[compdf.real == 1]['T/F Prediction'])"
      ],
      "execution_count": 291,
      "outputs": [
        {
          "output_type": "execute_result",
          "data": {
            "text/plain": [
              "array([False])"
            ]
          },
          "metadata": {
            "tags": []
          },
          "execution_count": 291
        }
      ]
    },
    {
      "cell_type": "code",
      "metadata": {
        "colab": {
          "base_uri": "https://localhost:8080/",
          "height": 582
        },
        "id": "MXeXvVDtMEYo",
        "outputId": "8d3a2e42-89b0-455f-b640-2225ba5d7bbb"
      },
      "source": [
        "plot_min=60\r\n",
        "plot_max =120\r\n",
        "plt.scatter(range(plot_min,plot_max),y_test[plot_min:plot_max])\r\n",
        "plt.scatter(range(plot_min,plot_max),[y_pred[i].argmax()+0.02 for i in range(len(y_pred[plot_min:plot_max]))],c=['r'])\r\n",
        "plt.legend(('test class','predicted class'))\r\n",
        "plt.xlabel('timestamp index')\r\n",
        "plt.ylabel('class (0 = normal, 1 = anomaly)')\r\n",
        "plt.xticks(ticks=range(plot_min, plot_max))\r\n",
        "plt.gcf().set_size_inches((20,10))\r\n",
        "# plt.gcf().autofmt_xdate()\r\n",
        "plt.show()"
      ],
      "execution_count": 292,
      "outputs": [
        {
          "output_type": "display_data",
          "data": {
            "image/png": "[encoded data removed]",
            "text/plain": [
              "<Figure size 1440x720 with 1 Axes>"
            ]
          },
          "metadata": {
            "tags": [],
            "needs_background": "light"
          }
        }
      ]
    },
    {
      "cell_type": "markdown",
      "metadata": {
        "id": "SekbzQnmMEYo"
      },
      "source": [
        "#### Saving and Checking the size of the Model"
      ]
    },
    {
      "cell_type": "code",
      "metadata": {
        "colab": {
          "base_uri": "https://localhost:8080/"
        },
        "id": "FEX00U8sMEYo",
        "outputId": "97bafa44-19ce-498e-bc55-69223a2b00a2"
      },
      "source": [
        "saved_model_dir = '/content/drive/MyDrive/Colab Notebooks/CS581/project-data/'\r\n",
        "m.save(saved_model_dir + \"tcn-128filter.h5\",include_optimizer=False)\r\n",
        "print(f\"Saving Model to: {saved_model_dir}tcn-24filter.h5\")"
      ],
      "execution_count": 293,
      "outputs": [
        {
          "output_type": "stream",
          "text": [
            "Saving Model to: /content/drive/MyDrive/Colab Notebooks/CS581/project-data/tcn-24filter.h5\n"
          ],
          "name": "stdout"
        }
      ]
    },
    {
      "cell_type": "code",
      "metadata": {
        "colab": {
          "base_uri": "https://localhost:8080/"
        },
        "id": "LrSHo9s1MEYo",
        "outputId": "06d8bf85-1fe5-4084-ac6a-67c049b0e38c"
      },
      "source": [
        "print(f'Size of the model without compression: {os.path.getsize(saved_model_dir + \"tcn-128filter.h5\")/float(2**20)} Mb')"
      ],
      "execution_count": 294,
      "outputs": [
        {
          "output_type": "stream",
          "text": [
            "Size of the model without compression: 1.47320556640625 Mb\n"
          ],
          "name": "stdout"
        }
      ]
    },
    {
      "cell_type": "markdown",
      "metadata": {
        "id": "GocZCtw1MhG0"
      },
      "source": [
        "### Filters Comparison Table"
      ]
    },
    {
      "cell_type": "markdown",
      "metadata": {
        "id": "LjnVWVENMRJQ"
      },
      "source": [
        "| Metric\\Filters | 24 | 64 | 128 |\r\n",
        "|---|---|---|---|\r\n",
        "|Accuracy(%)|0.9395|0.9391|0.9372|\r\n",
        "|Size(MB)|0.1211|0.4266|1.4732|\r\n",
        "|Total Parameters|14,233|94,273|368,769|\r\n",
        "|Inference Time(sec)|68|10|71|"
      ]
    },
    {
      "cell_type": "markdown",
      "metadata": {
        "id": "m_Jz2bg-W8iY"
      },
      "source": [
        "### Dropout\r\n",
        "\r\n",
        "This is an important hyperparameter that can be used to force the model to drop details of what it's learnt and generalize better. Our baseline model worked with 0 dropout, below we introduce drop out layers between the first Conv1D layer. We vary the dropout percentage between 0.5 and 0.8. Both values are ones that have personally given us good values in our previous assignments."
      ]
    },
    {
      "cell_type": "code",
      "metadata": {
        "colab": {
          "base_uri": "https://localhost:8080/",
          "height": 1000
        },
        "id": "MIVdD8kTZKP_",
        "outputId": "6e42eb06-7354-4d6e-e198-ceb50990633c"
      },
      "source": [
        "dropout_vals = [0.5,0.8]\r\n",
        "for dropout_val in dropout_vals:\r\n",
        "    \r\n",
        "    tf.keras.backend.clear_session()\r\n",
        "    ## Creating the model\r\n",
        "    i = Input(batch_shape=(batch_size, timesteps, input_dim))\r\n",
        "\r\n",
        "    o = TCN(return_sequences=False,\r\n",
        "            nb_filters=24,\r\n",
        "            kernel_size=2,\r\n",
        "            nb_stacks=1,\r\n",
        "            # dilations=[1,2,4,8],\r\n",
        "            padding='same',\r\n",
        "            use_skip_connections=False,\r\n",
        "            dropout_rate=dropout_val,\r\n",
        "            activation='relu',\r\n",
        "            kernel_initializer='he_normal',\r\n",
        "            use_batch_norm=True)(i)  # The TCN layers are here.\r\n",
        "    o = Dense(1)(o)\r\n",
        "\r\n",
        "    m = Model(inputs=[i], outputs=[o])\r\n",
        "    m.compile(optimizer='adam',\r\n",
        "            loss='mse',\r\n",
        "            metrics=['accuracy'])\r\n",
        "\r\n",
        "    tcn_full_summary(m, expand_residual_blocks=True)\r\n",
        "\r\n",
        "    early_stop=keras.callbacks.EarlyStopping(monitor='val_loss',patience=10)\r\n",
        "    history = m.fit(X_train, y_train,\r\n",
        "        validation_data=(X_valid,y_valid),\r\n",
        "        epochs=5,\r\n",
        "        batch_size=128,\r\n",
        "        callbacks=[early_stop])\r\n",
        "\r\n",
        "    ## Evaluation and plotting \r\n",
        "\r\n",
        "    scores = m.evaluate(X_test,y_test)\r\n",
        "    print(f\"Loss, Accuracy: {scores}\")\r\n",
        "\r\n",
        "    plt.subplot(1,2,1)\r\n",
        "    plt.plot(history.history[\"loss\"])\r\n",
        "    plt.plot(history.history[\"val_loss\"])\r\n",
        "    plt.legend(('loss','val_loss'))\r\n",
        "    plt.subplot(1,2,2)\r\n",
        "    plt.plot(history.history[\"accuracy\"])\r\n",
        "    plt.plot(history.history[\"val_accuracy\"])\r\n",
        "    plt.legend(('acc','val_acc'))\r\n",
        "\r\n",
        "    plt.gcf().set_size_inches((10,5))\r\n",
        "    plt.show()\r\n",
        "    plt.savefig(saved_model_dir+'dropout_'+str(dropout_val)+\".svg\",dpi=150)\r\n",
        "\r\n",
        "    y_pred = m.predict(X_test)\r\n",
        "\r\n",
        "    plot_min=60\r\n",
        "    plot_max =120\r\n",
        "    plt.scatter(range(plot_min,plot_max),y_test[plot_min:plot_max])\r\n",
        "    plt.scatter(range(plot_min,plot_max),[y_pred[i].argmax()+0.02 for i in range(len(y_pred[plot_min:plot_max]))],c=['r'])\r\n",
        "    plt.legend(('test class','predicted class'))\r\n",
        "    plt.xlabel('timestamp index')\r\n",
        "    plt.ylabel('class (0 = normal, 1 = anomaly)')\r\n",
        "    plt.xticks(ticks=range(plot_min, plot_max))\r\n",
        "    plt.gcf().set_size_inches((20,10))\r\n",
        "    # plt.gcf().autofmt_xdate()\r\n",
        "    plt.show()\r\n",
        "    plt.savefig(saved_model_dir+'predict-dropout_'+str(dropout_val)+\".svg\",dpi=150)\r\n",
        "\r\n",
        "    ##Saving the model and checking its size\r\n",
        "    saved_model_dir = '/content/drive/MyDrive/Colab Notebooks/CS581/project-data/'\r\n",
        "    filename = \"tcn-\"+str(dropout_val)+\"droput.h5\"\r\n",
        "    m.save(saved_model_dir + filename,include_optimizer=False)\r\n",
        "    print(f\"Saving Model to: {saved_model_dir+filename}\")\r\n",
        "    "
      ],
      "execution_count": 296,
      "outputs": [
        {
          "output_type": "stream",
          "text": [
            "Model: \"functional_1\"\n",
            "_________________________________________________________________\n",
            "Layer (type)                 Output Shape              Param #   \n",
            "=================================================================\n",
            "input_1 (InputLayer)         [(None, 11, 1)]           0         \n",
            "_________________________________________________________________\n",
            "matching_conv1D (Conv1D)     (None, 11, 24)            48        \n",
            "_________________________________________________________________\n",
            "activation_2 (Activation)    (None, 11, 24)            0         \n",
            "_________________________________________________________________\n",
            "conv1D_0 (Conv1D)            (None, 11, 24)            72        \n",
            "_________________________________________________________________\n",
            "batch_normalization (BatchNo (None, 11, 24)            96        \n",
            "_________________________________________________________________\n",
            "activation (Activation)      (None, 11, 24)            0         \n",
            "_________________________________________________________________\n",
            "spatial_dropout1d (SpatialDr (None, 11, 24)            0         \n",
            "_________________________________________________________________\n",
            "conv1D_1 (Conv1D)            (None, 11, 24)            1176      \n",
            "_________________________________________________________________\n",
            "batch_normalization_1 (Batch (None, 11, 24)            96        \n",
            "_________________________________________________________________\n",
            "activation_1 (Activation)    (None, 11, 24)            0         \n",
            "_________________________________________________________________\n",
            "spatial_dropout1d_1 (Spatial (None, 11, 24)            0         \n",
            "_________________________________________________________________\n",
            "matching_identity (Lambda)   (None, 11, 24)            0         \n",
            "_________________________________________________________________\n",
            "activation_5 (Activation)    (None, 11, 24)            0         \n",
            "_________________________________________________________________\n",
            "conv1D_0 (Conv1D)            (None, 11, 24)            1176      \n",
            "_________________________________________________________________\n",
            "batch_normalization_2 (Batch (None, 11, 24)            96        \n",
            "_________________________________________________________________\n",
            "activation_3 (Activation)    (None, 11, 24)            0         \n",
            "_________________________________________________________________\n",
            "spatial_dropout1d_2 (Spatial (None, 11, 24)            0         \n",
            "_________________________________________________________________\n",
            "conv1D_1 (Conv1D)            (None, 11, 24)            1176      \n",
            "_________________________________________________________________\n",
            "batch_normalization_3 (Batch (None, 11, 24)            96        \n",
            "_________________________________________________________________\n",
            "activation_4 (Activation)    (None, 11, 24)            0         \n",
            "_________________________________________________________________\n",
            "spatial_dropout1d_3 (Spatial (None, 11, 24)            0         \n",
            "_________________________________________________________________\n",
            "matching_identity (Lambda)   (None, 11, 24)            0         \n",
            "_________________________________________________________________\n",
            "activation_8 (Activation)    (None, 11, 24)            0         \n",
            "_________________________________________________________________\n",
            "conv1D_0 (Conv1D)            (None, 11, 24)            1176      \n",
            "_________________________________________________________________\n",
            "batch_normalization_4 (Batch (None, 11, 24)            96        \n",
            "_________________________________________________________________\n",
            "activation_6 (Activation)    (None, 11, 24)            0         \n",
            "_________________________________________________________________\n",
            "spatial_dropout1d_4 (Spatial (None, 11, 24)            0         \n",
            "_________________________________________________________________\n",
            "conv1D_1 (Conv1D)            (None, 11, 24)            1176      \n",
            "_________________________________________________________________\n",
            "batch_normalization_5 (Batch (None, 11, 24)            96        \n",
            "_________________________________________________________________\n",
            "activation_7 (Activation)    (None, 11, 24)            0         \n",
            "_________________________________________________________________\n",
            "spatial_dropout1d_5 (Spatial (None, 11, 24)            0         \n",
            "_________________________________________________________________\n",
            "matching_identity (Lambda)   (None, 11, 24)            0         \n",
            "_________________________________________________________________\n",
            "activation_11 (Activation)   (None, 11, 24)            0         \n",
            "_________________________________________________________________\n",
            "conv1D_0 (Conv1D)            (None, 11, 24)            1176      \n",
            "_________________________________________________________________\n",
            "batch_normalization_6 (Batch (None, 11, 24)            96        \n",
            "_________________________________________________________________\n",
            "activation_9 (Activation)    (None, 11, 24)            0         \n",
            "_________________________________________________________________\n",
            "spatial_dropout1d_6 (Spatial (None, 11, 24)            0         \n",
            "_________________________________________________________________\n",
            "conv1D_1 (Conv1D)            (None, 11, 24)            1176      \n",
            "_________________________________________________________________\n",
            "batch_normalization_7 (Batch (None, 11, 24)            96        \n",
            "_________________________________________________________________\n",
            "activation_10 (Activation)   (None, 11, 24)            0         \n",
            "_________________________________________________________________\n",
            "spatial_dropout1d_7 (Spatial (None, 11, 24)            0         \n",
            "_________________________________________________________________\n",
            "matching_identity (Lambda)   (None, 11, 24)            0         \n",
            "_________________________________________________________________\n",
            "activation_14 (Activation)   (None, 11, 24)            0         \n",
            "_________________________________________________________________\n",
            "conv1D_0 (Conv1D)            (None, 11, 24)            1176      \n",
            "_________________________________________________________________\n",
            "batch_normalization_8 (Batch (None, 11, 24)            96        \n",
            "_________________________________________________________________\n",
            "activation_12 (Activation)   (None, 11, 24)            0         \n",
            "_________________________________________________________________\n",
            "spatial_dropout1d_8 (Spatial (None, 11, 24)            0         \n",
            "_________________________________________________________________\n",
            "conv1D_1 (Conv1D)            (None, 11, 24)            1176      \n",
            "_________________________________________________________________\n",
            "batch_normalization_9 (Batch (None, 11, 24)            96        \n",
            "_________________________________________________________________\n",
            "activation_13 (Activation)   (None, 11, 24)            0         \n",
            "_________________________________________________________________\n",
            "spatial_dropout1d_9 (Spatial (None, 11, 24)            0         \n",
            "_________________________________________________________________\n",
            "matching_identity (Lambda)   (None, 11, 24)            0         \n",
            "_________________________________________________________________\n",
            "activation_17 (Activation)   (None, 11, 24)            0         \n",
            "_________________________________________________________________\n",
            "conv1D_0 (Conv1D)            (None, 11, 24)            1176      \n",
            "_________________________________________________________________\n",
            "batch_normalization_10 (Batc (None, 11, 24)            96        \n",
            "_________________________________________________________________\n",
            "activation_15 (Activation)   (None, 11, 24)            0         \n",
            "_________________________________________________________________\n",
            "spatial_dropout1d_10 (Spatia (None, 11, 24)            0         \n",
            "_________________________________________________________________\n",
            "conv1D_1 (Conv1D)            (None, 11, 24)            1176      \n",
            "_________________________________________________________________\n",
            "batch_normalization_11 (Batc (None, 11, 24)            96        \n",
            "_________________________________________________________________\n",
            "activation_16 (Activation)   (None, 11, 24)            0         \n",
            "_________________________________________________________________\n",
            "spatial_dropout1d_11 (Spatia (None, 11, 24)            0         \n",
            "_________________________________________________________________\n",
            "lambda (Lambda)              (None, 24)                0         \n",
            "_________________________________________________________________\n",
            "dense (Dense)                (None, 1)                 25        \n",
            "=================================================================\n",
            "Total params: 14,233\n",
            "Trainable params: 13,657\n",
            "Non-trainable params: 576\n",
            "_________________________________________________________________\n",
            "Epoch 1/5\n",
            "16549/16549 [==============================] - 242s 15ms/step - loss: 106.9174 - accuracy: 0.8082 - val_loss: 0.0669 - val_accuracy: 0.8891\n",
            "Epoch 2/5\n",
            "16549/16549 [==============================] - 241s 15ms/step - loss: 0.0640 - accuracy: 0.8974 - val_loss: 0.0470 - val_accuracy: 0.9361\n",
            "Epoch 3/5\n",
            "16549/16549 [==============================] - 244s 15ms/step - loss: 0.0557 - accuracy: 0.9130 - val_loss: 0.0422 - val_accuracy: 0.9361\n",
            "Epoch 4/5\n",
            "16549/16549 [==============================] - 241s 15ms/step - loss: 0.0525 - accuracy: 0.9191 - val_loss: 0.0425 - val_accuracy: 0.9361\n",
            "Epoch 5/5\n",
            "16549/16549 [==============================] - 241s 15ms/step - loss: 0.0512 - accuracy: 0.9219 - val_loss: 0.0414 - val_accuracy: 0.9361\n",
            "18913/18913 [==============================] - 66s 4ms/step - loss: 0.0415 - accuracy: 0.9357\n",
            "Loss, Accuracy: [0.04153226688504219, 0.9357348680496216]\n"
          ],
          "name": "stdout"
        },
        {
          "output_type": "display_data",
          "data": {
            "image/png": "[encoded data removed]",
            "text/plain": [
              "<Figure size 720x360 with 2 Axes>"
            ]
          },
          "metadata": {
            "tags": [],
            "needs_background": "light"
          }
        },
        {
          "output_type": "display_data",
          "data": {
            "image/png": "[encoded data removed]",
            "text/plain": [
              "<Figure size 1440x720 with 1 Axes>"
            ]
          },
          "metadata": {
            "tags": [],
            "needs_background": "light"
          }
        },
        {
          "output_type": "stream",
          "text": [
            "Saving Model to: /content/drive/MyDrive/Colab Notebooks/CS581/project-data/tcn-0.5droput.h5\n",
            "Model: \"functional_1\"\n",
            "_________________________________________________________________\n",
            "Layer (type)                 Output Shape              Param #   \n",
            "=================================================================\n",
            "input_1 (InputLayer)         [(None, 11, 1)]           0         \n",
            "_________________________________________________________________\n",
            "matching_conv1D (Conv1D)     (None, 11, 24)            48        \n",
            "_________________________________________________________________\n",
            "activation_2 (Activation)    (None, 11, 24)            0         \n",
            "_________________________________________________________________\n",
            "conv1D_0 (Conv1D)            (None, 11, 24)            72        \n",
            "_________________________________________________________________\n",
            "batch_normalization (BatchNo (None, 11, 24)            96        \n",
            "_________________________________________________________________\n",
            "activation (Activation)      (None, 11, 24)            0         \n",
            "_________________________________________________________________\n",
            "spatial_dropout1d (SpatialDr (None, 11, 24)            0         \n",
            "_________________________________________________________________\n",
            "conv1D_1 (Conv1D)            (None, 11, 24)            1176      \n",
            "_________________________________________________________________\n",
            "batch_normalization_1 (Batch (None, 11, 24)            96        \n",
            "_________________________________________________________________\n",
            "activation_1 (Activation)    (None, 11, 24)            0         \n",
            "_________________________________________________________________\n",
            "spatial_dropout1d_1 (Spatial (None, 11, 24)            0         \n",
            "_________________________________________________________________\n",
            "matching_identity (Lambda)   (None, 11, 24)            0         \n",
            "_________________________________________________________________\n",
            "activation_5 (Activation)    (None, 11, 24)            0         \n",
            "_________________________________________________________________\n",
            "conv1D_0 (Conv1D)            (None, 11, 24)            1176      \n",
            "_________________________________________________________________\n",
            "batch_normalization_2 (Batch (None, 11, 24)            96        \n",
            "_________________________________________________________________\n",
            "activation_3 (Activation)    (None, 11, 24)            0         \n",
            "_________________________________________________________________\n",
            "spatial_dropout1d_2 (Spatial (None, 11, 24)            0         \n",
            "_________________________________________________________________\n",
            "conv1D_1 (Conv1D)            (None, 11, 24)            1176      \n",
            "_________________________________________________________________\n",
            "batch_normalization_3 (Batch (None, 11, 24)            96        \n",
            "_________________________________________________________________\n",
            "activation_4 (Activation)    (None, 11, 24)            0         \n",
            "_________________________________________________________________\n",
            "spatial_dropout1d_3 (Spatial (None, 11, 24)            0         \n",
            "_________________________________________________________________\n",
            "matching_identity (Lambda)   (None, 11, 24)            0         \n",
            "_________________________________________________________________\n",
            "activation_8 (Activation)    (None, 11, 24)            0         \n",
            "_________________________________________________________________\n",
            "conv1D_0 (Conv1D)            (None, 11, 24)            1176      \n",
            "_________________________________________________________________\n",
            "batch_normalization_4 (Batch (None, 11, 24)            96        \n",
            "_________________________________________________________________\n",
            "activation_6 (Activation)    (None, 11, 24)            0         \n",
            "_________________________________________________________________\n",
            "spatial_dropout1d_4 (Spatial (None, 11, 24)            0         \n",
            "_________________________________________________________________\n",
            "conv1D_1 (Conv1D)            (None, 11, 24)            1176      \n",
            "_________________________________________________________________\n",
            "batch_normalization_5 (Batch (None, 11, 24)            96        \n",
            "_________________________________________________________________\n",
            "activation_7 (Activation)    (None, 11, 24)            0         \n",
            "_________________________________________________________________\n",
            "spatial_dropout1d_5 (Spatial (None, 11, 24)            0         \n",
            "_________________________________________________________________\n",
            "matching_identity (Lambda)   (None, 11, 24)            0         \n",
            "_________________________________________________________________\n",
            "activation_11 (Activation)   (None, 11, 24)            0         \n",
            "_________________________________________________________________\n",
            "conv1D_0 (Conv1D)            (None, 11, 24)            1176      \n",
            "_________________________________________________________________\n",
            "batch_normalization_6 (Batch (None, 11, 24)            96        \n",
            "_________________________________________________________________\n",
            "activation_9 (Activation)    (None, 11, 24)            0         \n",
            "_________________________________________________________________\n",
            "spatial_dropout1d_6 (Spatial (None, 11, 24)            0         \n",
            "_________________________________________________________________\n",
            "conv1D_1 (Conv1D)            (None, 11, 24)            1176      \n",
            "_________________________________________________________________\n",
            "batch_normalization_7 (Batch (None, 11, 24)            96        \n",
            "_________________________________________________________________\n",
            "activation_10 (Activation)   (None, 11, 24)            0         \n",
            "_________________________________________________________________\n",
            "spatial_dropout1d_7 (Spatial (None, 11, 24)            0         \n",
            "_________________________________________________________________\n",
            "matching_identity (Lambda)   (None, 11, 24)            0         \n",
            "_________________________________________________________________\n",
            "activation_14 (Activation)   (None, 11, 24)            0         \n",
            "_________________________________________________________________\n",
            "conv1D_0 (Conv1D)            (None, 11, 24)            1176      \n",
            "_________________________________________________________________\n",
            "batch_normalization_8 (Batch (None, 11, 24)            96        \n",
            "_________________________________________________________________\n",
            "activation_12 (Activation)   (None, 11, 24)            0         \n",
            "_________________________________________________________________\n",
            "spatial_dropout1d_8 (Spatial (None, 11, 24)            0         \n",
            "_________________________________________________________________\n",
            "conv1D_1 (Conv1D)            (None, 11, 24)            1176      \n",
            "_________________________________________________________________\n",
            "batch_normalization_9 (Batch (None, 11, 24)            96        \n",
            "_________________________________________________________________\n",
            "activation_13 (Activation)   (None, 11, 24)            0         \n",
            "_________________________________________________________________\n",
            "spatial_dropout1d_9 (Spatial (None, 11, 24)            0         \n",
            "_________________________________________________________________\n",
            "matching_identity (Lambda)   (None, 11, 24)            0         \n",
            "_________________________________________________________________\n",
            "activation_17 (Activation)   (None, 11, 24)            0         \n",
            "_________________________________________________________________\n",
            "conv1D_0 (Conv1D)            (None, 11, 24)            1176      \n",
            "_________________________________________________________________\n",
            "batch_normalization_10 (Batc (None, 11, 24)            96        \n",
            "_________________________________________________________________\n",
            "activation_15 (Activation)   (None, 11, 24)            0         \n",
            "_________________________________________________________________\n",
            "spatial_dropout1d_10 (Spatia (None, 11, 24)            0         \n",
            "_________________________________________________________________\n",
            "conv1D_1 (Conv1D)            (None, 11, 24)            1176      \n",
            "_________________________________________________________________\n",
            "batch_normalization_11 (Batc (None, 11, 24)            96        \n",
            "_________________________________________________________________\n",
            "activation_16 (Activation)   (None, 11, 24)            0         \n",
            "_________________________________________________________________\n",
            "spatial_dropout1d_11 (Spatia (None, 11, 24)            0         \n",
            "_________________________________________________________________\n",
            "lambda (Lambda)              (None, 24)                0         \n",
            "_________________________________________________________________\n",
            "dense (Dense)                (None, 1)                 25        \n",
            "=================================================================\n",
            "Total params: 14,233\n",
            "Trainable params: 13,657\n",
            "Non-trainable params: 576\n",
            "_________________________________________________________________\n",
            "Epoch 1/5\n",
            "16549/16549 [==============================] - 242s 15ms/step - loss: 17.5175 - accuracy: 0.8473 - val_loss: 0.0739 - val_accuracy: 0.8891\n",
            "Epoch 2/5\n",
            "16549/16549 [==============================] - 244s 15ms/step - loss: 0.0792 - accuracy: 0.8864 - val_loss: 0.0677 - val_accuracy: 0.8891\n",
            "Epoch 3/5\n",
            "16549/16549 [==============================] - 244s 15ms/step - loss: 0.0765 - accuracy: 0.8873 - val_loss: 0.0638 - val_accuracy: 0.8891\n",
            "Epoch 4/5\n",
            "16549/16549 [==============================] - 243s 15ms/step - loss: 0.0743 - accuracy: 0.8887 - val_loss: 0.0617 - val_accuracy: 0.8891\n",
            "Epoch 5/5\n",
            "16549/16549 [==============================] - 246s 15ms/step - loss: 0.0738 - accuracy: 0.8891 - val_loss: 0.0629 - val_accuracy: 0.8891\n",
            "18913/18913 [==============================] - 68s 4ms/step - loss: 0.0630 - accuracy: 0.8891\n",
            "Loss, Accuracy: [0.06295260787010193, 0.8890739679336548]\n"
          ],
          "name": "stdout"
        },
        {
          "output_type": "display_data",
          "data": {
            "image/png": "[encoded data removed]",
            "text/plain": [
              "<Figure size 720x360 with 2 Axes>"
            ]
          },
          "metadata": {
            "tags": [],
            "needs_background": "light"
          }
        },
        {
          "output_type": "display_data",
          "data": {
            "image/png": "[encoded data removed]",
            "text/plain": [
              "<Figure size 1440x720 with 1 Axes>"
            ]
          },
          "metadata": {
            "tags": [],
            "needs_background": "light"
          }
        },
        {
          "output_type": "stream",
          "text": [
            "Saving Model to: /content/drive/MyDrive/Colab Notebooks/CS581/project-data/tcn-0.8droput.h5\n"
          ],
          "name": "stdout"
        },
        {
          "output_type": "display_data",
          "data": {
            "text/plain": [
              "<Figure size 432x288 with 0 Axes>"
            ]
          },
          "metadata": {
            "tags": []
          }
        }
      ]
    },
    {
      "cell_type": "code",
      "metadata": {
        "colab": {
          "base_uri": "https://localhost:8080/"
        },
        "id": "14nvIUHypnnV",
        "outputId": "06445cf5-a1b7-48cf-d6c6-34c8484e12d3"
      },
      "source": [
        "os.path.getsize('/content/drive/MyDrive/Colab Notebooks/CS581/project-data/tcn-0.5droput.h5')/float(2**20)"
      ],
      "execution_count": 308,
      "outputs": [
        {
          "output_type": "execute_result",
          "data": {
            "text/plain": [
              "0.1211700439453125"
            ]
          },
          "metadata": {
            "tags": []
          },
          "execution_count": 308
        }
      ]
    },
    {
      "cell_type": "code",
      "metadata": {
        "colab": {
          "base_uri": "https://localhost:8080/"
        },
        "id": "elsocRWTpsRK",
        "outputId": "9e55e012-8012-4058-d5cf-21bc346a9edb"
      },
      "source": [
        "os.path.getsize('/content/drive/MyDrive/Colab Notebooks/CS581/project-data/tcn-0.8droput.h5')/float(2**20)"
      ],
      "execution_count": 309,
      "outputs": [
        {
          "output_type": "execute_result",
          "data": {
            "text/plain": [
              "0.1211700439453125"
            ]
          },
          "metadata": {
            "tags": []
          },
          "execution_count": 309
        }
      ]
    },
    {
      "cell_type": "markdown",
      "metadata": {
        "id": "a3ZFSsA1hP6y"
      },
      "source": [
        "### Dropout Comparison Table"
      ]
    },
    {
      "cell_type": "markdown",
      "metadata": {
        "id": "tYeDyyBwhP67"
      },
      "source": [
        "| Metric\\Droput | 0 | 0.5 | 0.8 |\r\n",
        "|---|---|---|---|\r\n",
        "|Accuracy(%)|0.9395|0.9357|0.8890|\r\n",
        "|Size(MB)|0.1211|0.1211|0.1211|\r\n",
        "|Total Parameters|14,233|14,233|14,233|\r\n",
        "|Inference Time(sec)|68|66|68|"
      ]
    },
    {
      "cell_type": "markdown",
      "metadata": {
        "id": "cA7WNW2pb3u3"
      },
      "source": [
        "### Layers and Dilations\r\n",
        "This hyperparameter controls the depth and skip-connections used in the Conv1D layers in the network. Our baseline uses the default, which is [1,2,4,8,16,32,64], meaning it contains 7 layers of Conv-1D, each with increasing gaps of 1,2,4 and so on between each kernel convolution step. We noticed that the default layers made our network quite complex, so we decided to drastically simplify the network to see the effect. Looking at our simple input of rows of combinations of 11-12 numeric features, we assumed a simple network to be able to learn just as well as a deep network."
      ]
    },
    {
      "cell_type": "code",
      "metadata": {
        "colab": {
          "base_uri": "https://localhost:8080/",
          "height": 1000
        },
        "id": "DZx9ydYWqCI0",
        "outputId": "8986749d-3ad2-49f6-dec2-cdfd40a811dd"
      },
      "source": [
        "layer_vals = [[1],[1,2,4,8]]\r\n",
        "for layer_val in layer_vals:\r\n",
        "    \r\n",
        "    tf.keras.backend.clear_session()\r\n",
        "    ## Creating the model\r\n",
        "    i = Input(batch_shape=(batch_size, timesteps, input_dim))\r\n",
        "\r\n",
        "    o = TCN(return_sequences=False,\r\n",
        "            nb_filters=24,\r\n",
        "            kernel_size=2,\r\n",
        "            nb_stacks=1,\r\n",
        "            dilations=layer_val,\r\n",
        "            padding='same',\r\n",
        "            use_skip_connections=False,\r\n",
        "            dropout_rate=0,\r\n",
        "            activation='relu',\r\n",
        "            kernel_initializer='he_normal',\r\n",
        "            use_batch_norm=True)(i)  # The TCN layers are here.\r\n",
        "    o = Dense(1)(o)\r\n",
        "\r\n",
        "    m = Model(inputs=[i], outputs=[o])\r\n",
        "    m.compile(optimizer='adam',\r\n",
        "            loss='mse',\r\n",
        "            metrics=['accuracy'])\r\n",
        "\r\n",
        "    tcn_full_summary(m, expand_residual_blocks=True)\r\n",
        "\r\n",
        "    early_stop=keras.callbacks.EarlyStopping(monitor='val_loss',patience=10)\r\n",
        "    history = m.fit(X_train, y_train,\r\n",
        "        validation_data=(X_valid,y_valid),\r\n",
        "        epochs=5,\r\n",
        "        batch_size=128,\r\n",
        "        callbacks=[early_stop])\r\n",
        "\r\n",
        "    ## Evaluation and plotting \r\n",
        "\r\n",
        "    scores = m.evaluate(X_test,y_test)\r\n",
        "    print(f\"Loss, Accuracy: {scores}\")\r\n",
        "\r\n",
        "    plt.subplot(1,2,1)\r\n",
        "    plt.plot(history.history[\"loss\"])\r\n",
        "    plt.plot(history.history[\"val_loss\"])\r\n",
        "    plt.legend(('loss','val_loss'))\r\n",
        "    plt.subplot(1,2,2)\r\n",
        "    plt.plot(history.history[\"accuracy\"])\r\n",
        "    plt.plot(history.history[\"val_accuracy\"])\r\n",
        "    plt.legend(('acc','val_acc'))\r\n",
        "\r\n",
        "    plt.gcf().set_size_inches((10,5))\r\n",
        "    plt.show()\r\n",
        "    plt.savefig(saved_model_dir+'layer_'+str(len(layer_val))+\".svg\",dpi=150)\r\n",
        "\r\n",
        "    y_pred = m.predict(X_test)\r\n",
        "\r\n",
        "    plot_min=60\r\n",
        "    plot_max =120\r\n",
        "    plt.scatter(range(plot_min,plot_max),y_test[plot_min:plot_max])\r\n",
        "    plt.scatter(range(plot_min,plot_max),[y_pred[i].argmax()+0.02 for i in range(len(y_pred[plot_min:plot_max]))],c=['r'])\r\n",
        "    plt.legend(('test class','predicted class'))\r\n",
        "    plt.xlabel('timestamp index')\r\n",
        "    plt.ylabel('class (0 = normal, 1 = anomaly)')\r\n",
        "    plt.xticks(ticks=range(plot_min, plot_max))\r\n",
        "    plt.gcf().set_size_inches((20,10))\r\n",
        "    # plt.gcf().autofmt_xdate()\r\n",
        "    plt.show()\r\n",
        "    plt.savefig(saved_model_dir+'predict-layer_'+str(len(layer_val))+\".svg\",dpi=150)\r\n",
        "\r\n",
        "    ##Saving the model and checking its size\r\n",
        "    saved_model_dir = '/content/drive/MyDrive/Colab Notebooks/CS581/project-data/'\r\n",
        "    filename = \"tcn-\"+str(layer_val)+\"layer.h5\"\r\n",
        "    m.save(saved_model_dir + filename,include_optimizer=False)\r\n",
        "    print(f\"Saving Model to: {saved_model_dir+filename}\")\r\n",
        "    print(f\"Size of {filename} is : {os.path.getsize(saved_model_dir + filename)/float(2**20)}\")\r\n",
        "    "
      ],
      "execution_count": 310,
      "outputs": [
        {
          "output_type": "stream",
          "text": [
            "Model: \"functional_1\"\n",
            "_________________________________________________________________\n",
            "Layer (type)                 Output Shape              Param #   \n",
            "=================================================================\n",
            "input_1 (InputLayer)         [(None, 11, 1)]           0         \n",
            "_________________________________________________________________\n",
            "matching_conv1D (Conv1D)     (None, 11, 24)            48        \n",
            "_________________________________________________________________\n",
            "activation_2 (Activation)    (None, 11, 24)            0         \n",
            "_________________________________________________________________\n",
            "conv1D_0 (Conv1D)            (None, 11, 24)            72        \n",
            "_________________________________________________________________\n",
            "batch_normalization (BatchNo (None, 11, 24)            96        \n",
            "_________________________________________________________________\n",
            "activation (Activation)      (None, 11, 24)            0         \n",
            "_________________________________________________________________\n",
            "spatial_dropout1d (SpatialDr (None, 11, 24)            0         \n",
            "_________________________________________________________________\n",
            "conv1D_1 (Conv1D)            (None, 11, 24)            1176      \n",
            "_________________________________________________________________\n",
            "batch_normalization_1 (Batch (None, 11, 24)            96        \n",
            "_________________________________________________________________\n",
            "activation_1 (Activation)    (None, 11, 24)            0         \n",
            "_________________________________________________________________\n",
            "spatial_dropout1d_1 (Spatial (None, 11, 24)            0         \n",
            "_________________________________________________________________\n",
            "lambda (Lambda)              (None, 24)                0         \n",
            "_________________________________________________________________\n",
            "dense (Dense)                (None, 1)                 25        \n",
            "=================================================================\n",
            "Total params: 1,513\n",
            "Trainable params: 1,417\n",
            "Non-trainable params: 96\n",
            "_________________________________________________________________\n",
            "Epoch 1/5\n",
            "16549/16549 [==============================] - 78s 5ms/step - loss: 19.4746 - accuracy: 0.8843 - val_loss: 0.0733 - val_accuracy: 0.8891\n",
            "Epoch 2/5\n",
            "16549/16549 [==============================] - 77s 5ms/step - loss: 0.0764 - accuracy: 0.8867 - val_loss: 0.0708 - val_accuracy: 0.8891\n",
            "Epoch 3/5\n",
            "16549/16549 [==============================] - 77s 5ms/step - loss: 0.0761 - accuracy: 0.8864 - val_loss: 0.0708 - val_accuracy: 0.8891\n",
            "Epoch 4/5\n",
            "16549/16549 [==============================] - 78s 5ms/step - loss: 0.0766 - accuracy: 0.8862 - val_loss: 0.0707 - val_accuracy: 0.8891\n",
            "Epoch 5/5\n",
            "16549/16549 [==============================] - 78s 5ms/step - loss: 0.0767 - accuracy: 0.8862 - val_loss: 0.0717 - val_accuracy: 0.8891\n",
            "18913/18913 [==============================] - 41s 2ms/step - loss: 0.0718 - accuracy: 0.8891\n",
            "Loss, Accuracy: [0.07178959250450134, 0.8890739679336548]\n"
          ],
          "name": "stdout"
        },
        {
          "output_type": "display_data",
          "data": {
            "image/png": "[encoded data removed]",
            "text/plain": [
              "<Figure size 720x360 with 2 Axes>"
            ]
          },
          "metadata": {
            "tags": [],
            "needs_background": "light"
          }
        },
        {
          "output_type": "display_data",
          "data": {
            "image/png": "[encoded data removed]",
            "text/plain": [
              "<Figure size 1440x720 with 1 Axes>"
            ]
          },
          "metadata": {
            "tags": [],
            "needs_background": "light"
          }
        },
        {
          "output_type": "stream",
          "text": [
            "Saving Model to: /content/drive/MyDrive/Colab Notebooks/CS581/project-data/tcn-[1]layer.h5\n",
            "Size of tcn-[1]layer.h5 is : 0.02852630615234375\n",
            "Model: \"functional_1\"\n",
            "_________________________________________________________________\n",
            "Layer (type)                 Output Shape              Param #   \n",
            "=================================================================\n",
            "input_1 (InputLayer)         [(None, 11, 1)]           0         \n",
            "_________________________________________________________________\n",
            "matching_conv1D (Conv1D)     (None, 11, 24)            48        \n",
            "_________________________________________________________________\n",
            "activation_2 (Activation)    (None, 11, 24)            0         \n",
            "_________________________________________________________________\n",
            "conv1D_0 (Conv1D)            (None, 11, 24)            72        \n",
            "_________________________________________________________________\n",
            "batch_normalization (BatchNo (None, 11, 24)            96        \n",
            "_________________________________________________________________\n",
            "activation (Activation)      (None, 11, 24)            0         \n",
            "_________________________________________________________________\n",
            "spatial_dropout1d (SpatialDr (None, 11, 24)            0         \n",
            "_________________________________________________________________\n",
            "conv1D_1 (Conv1D)            (None, 11, 24)            1176      \n",
            "_________________________________________________________________\n",
            "batch_normalization_1 (Batch (None, 11, 24)            96        \n",
            "_________________________________________________________________\n",
            "activation_1 (Activation)    (None, 11, 24)            0         \n",
            "_________________________________________________________________\n",
            "spatial_dropout1d_1 (Spatial (None, 11, 24)            0         \n",
            "_________________________________________________________________\n",
            "matching_identity (Lambda)   (None, 11, 24)            0         \n",
            "_________________________________________________________________\n",
            "activation_5 (Activation)    (None, 11, 24)            0         \n",
            "_________________________________________________________________\n",
            "conv1D_0 (Conv1D)            (None, 11, 24)            1176      \n",
            "_________________________________________________________________\n",
            "batch_normalization_2 (Batch (None, 11, 24)            96        \n",
            "_________________________________________________________________\n",
            "activation_3 (Activation)    (None, 11, 24)            0         \n",
            "_________________________________________________________________\n",
            "spatial_dropout1d_2 (Spatial (None, 11, 24)            0         \n",
            "_________________________________________________________________\n",
            "conv1D_1 (Conv1D)            (None, 11, 24)            1176      \n",
            "_________________________________________________________________\n",
            "batch_normalization_3 (Batch (None, 11, 24)            96        \n",
            "_________________________________________________________________\n",
            "activation_4 (Activation)    (None, 11, 24)            0         \n",
            "_________________________________________________________________\n",
            "spatial_dropout1d_3 (Spatial (None, 11, 24)            0         \n",
            "_________________________________________________________________\n",
            "matching_identity (Lambda)   (None, 11, 24)            0         \n",
            "_________________________________________________________________\n",
            "activation_8 (Activation)    (None, 11, 24)            0         \n",
            "_________________________________________________________________\n",
            "conv1D_0 (Conv1D)            (None, 11, 24)            1176      \n",
            "_________________________________________________________________\n",
            "batch_normalization_4 (Batch (None, 11, 24)            96        \n",
            "_________________________________________________________________\n",
            "activation_6 (Activation)    (None, 11, 24)            0         \n",
            "_________________________________________________________________\n",
            "spatial_dropout1d_4 (Spatial (None, 11, 24)            0         \n",
            "_________________________________________________________________\n",
            "conv1D_1 (Conv1D)            (None, 11, 24)            1176      \n",
            "_________________________________________________________________\n",
            "batch_normalization_5 (Batch (None, 11, 24)            96        \n",
            "_________________________________________________________________\n",
            "activation_7 (Activation)    (None, 11, 24)            0         \n",
            "_________________________________________________________________\n",
            "spatial_dropout1d_5 (Spatial (None, 11, 24)            0         \n",
            "_________________________________________________________________\n",
            "matching_identity (Lambda)   (None, 11, 24)            0         \n",
            "_________________________________________________________________\n",
            "activation_11 (Activation)   (None, 11, 24)            0         \n",
            "_________________________________________________________________\n",
            "conv1D_0 (Conv1D)            (None, 11, 24)            1176      \n",
            "_________________________________________________________________\n",
            "batch_normalization_6 (Batch (None, 11, 24)            96        \n",
            "_________________________________________________________________\n",
            "activation_9 (Activation)    (None, 11, 24)            0         \n",
            "_________________________________________________________________\n",
            "spatial_dropout1d_6 (Spatial (None, 11, 24)            0         \n",
            "_________________________________________________________________\n",
            "conv1D_1 (Conv1D)            (None, 11, 24)            1176      \n",
            "_________________________________________________________________\n",
            "batch_normalization_7 (Batch (None, 11, 24)            96        \n",
            "_________________________________________________________________\n",
            "activation_10 (Activation)   (None, 11, 24)            0         \n",
            "_________________________________________________________________\n",
            "spatial_dropout1d_7 (Spatial (None, 11, 24)            0         \n",
            "_________________________________________________________________\n",
            "lambda (Lambda)              (None, 24)                0         \n",
            "_________________________________________________________________\n",
            "dense (Dense)                (None, 1)                 25        \n",
            "=================================================================\n",
            "Total params: 9,145\n",
            "Trainable params: 8,761\n",
            "Non-trainable params: 384\n",
            "_________________________________________________________________\n",
            "Epoch 1/5\n",
            "16549/16549 [==============================] - 186s 11ms/step - loss: 6.4237 - accuracy: 0.8979 - val_loss: 0.0449 - val_accuracy: 0.9379\n",
            "Epoch 2/5\n",
            "16549/16549 [==============================] - 188s 11ms/step - loss: 0.0450 - accuracy: 0.9366 - val_loss: 0.0423 - val_accuracy: 0.9397\n",
            "Epoch 3/5\n",
            "16549/16549 [==============================] - 188s 11ms/step - loss: 0.0430 - accuracy: 0.9381 - val_loss: 0.0394 - val_accuracy: 0.9397\n",
            "Epoch 4/5\n",
            "16549/16549 [==============================] - 190s 11ms/step - loss: 0.0429 - accuracy: 0.9378 - val_loss: 0.0393 - val_accuracy: 0.9397\n",
            "Epoch 5/5\n",
            "16549/16549 [==============================] - 188s 11ms/step - loss: 0.0421 - accuracy: 0.9385 - val_loss: 0.0397 - val_accuracy: 0.9397\n",
            "18913/18913 [==============================] - 62s 3ms/step - loss: 0.0398 - accuracy: 0.9395\n",
            "Loss, Accuracy: [0.03983149304986, 0.9395039081573486]\n"
          ],
          "name": "stdout"
        },
        {
          "output_type": "display_data",
          "data": {
            "image/png": "[encoded data removed]",
            "text/plain": [
              "<Figure size 720x360 with 2 Axes>"
            ]
          },
          "metadata": {
            "tags": [],
            "needs_background": "light"
          }
        },
        {
          "output_type": "display_data",
          "data": {
            "image/png": "[encoded data removed]",
            "text/plain": [
              "<Figure size 1440x720 with 1 Axes>"
            ]
          },
          "metadata": {
            "tags": [],
            "needs_background": "light"
          }
        },
        {
          "output_type": "stream",
          "text": [
            "Saving Model to: /content/drive/MyDrive/Colab Notebooks/CS581/project-data/tcn-[1, 2, 4, 8]layer.h5\n",
            "Size of tcn-[1, 2, 4, 8]layer.h5 is : 0.08454132080078125\n"
          ],
          "name": "stdout"
        },
        {
          "output_type": "display_data",
          "data": {
            "text/plain": [
              "<Figure size 432x288 with 0 Axes>"
            ]
          },
          "metadata": {
            "tags": []
          }
        }
      ]
    },
    {
      "cell_type": "markdown",
      "metadata": {
        "id": "fxEch7j0w32p"
      },
      "source": [
        "### Layer Dilation Comparison Table"
      ]
    },
    {
      "cell_type": "markdown",
      "metadata": {
        "id": "YL6gtR2zw32v"
      },
      "source": [
        "| Metric\\Layers | [1] | [1,2,4,8] | [1, 2, 4, 8, 16, 32] |\r\n",
        "|---|---|---|---|\r\n",
        "|Accuracy(%)|0.8890|0.9395|0.9395|\r\n",
        "|Size(MB)|0.0285|0.0845|0.1211|\r\n",
        "|Total Parameters|14,233|14,233|14,233|\r\n",
        "|Inference Time(sec)|41|62|68|"
      ]
    },
    {
      "cell_type": "markdown",
      "metadata": {
        "id": "weFl0ZoznRAW"
      },
      "source": [
        "# End"
      ]
    },
    {
      "cell_type": "code",
      "metadata": {
        "id": "uGNk0IzonRoE"
      },
      "source": [
        ""
      ],
      "execution_count": null,
      "outputs": []
    }
  ]
}