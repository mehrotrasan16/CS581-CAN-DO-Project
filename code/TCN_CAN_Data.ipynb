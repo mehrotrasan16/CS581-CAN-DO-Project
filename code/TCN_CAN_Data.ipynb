{
  "nbformat": 4,
  "nbformat_minor": 0,
  "metadata": {
    "colab": {
      "name": "TCN - CAN Data.ipynb",
      "provenance": [],
      "collapsed_sections": [],
      "toc_visible": true,
      "include_colab_link": true
    },
    "kernelspec": {
      "display_name": "Python 3",
      "name": "python3"
    },
    "accelerator": "GPU"
  },
  "cells": [
    {
      "cell_type": "markdown",
      "metadata": {
        "id": "view-in-github",
        "colab_type": "text"
      },
      "source": [
        "<a href=\"https://colab.research.google.com/github/mehrotrasan16/CS581-CAN-DO-Project/blob/tcn-baseline/code/TCN_CAN_Data.ipynb\" target=\"_parent\"><img src=\"https://colab.research.google.com/assets/colab-badge.svg\" alt=\"Open In Colab\"/></a>"
      ]
    },
    {
      "cell_type": "markdown",
      "metadata": {
        "id": "E_dRMZNqKWIo"
      },
      "source": [
        "# Imports"
      ]
    },
    {
      "cell_type": "code",
      "metadata": {
        "colab": {
          "base_uri": "https://localhost:8080/"
        },
        "id": "2F5LZZsFjjJD",
        "outputId": "ce714f91-adce-4ad7-d5df-dc3ddcbd1db9"
      },
      "source": [
        "from google.colab import drive\n",
        "drive.mount('/content/drive')"
      ],
      "execution_count": 1,
      "outputs": [
        {
          "output_type": "stream",
          "text": [
            "Mounted at /content/drive\n"
          ],
          "name": "stdout"
        }
      ]
    },
    {
      "cell_type": "code",
      "metadata": {
        "id": "2U6L8DYYKZDF",
        "colab": {
          "base_uri": "https://localhost:8080/"
        },
        "outputId": "bb0dea82-0e42-4b02-894f-dade0b1d3696"
      },
      "source": [
        "import sys\r\n",
        "import sklearn\r\n",
        "import tensorflow as tf\r\n",
        "from tensorflow import keras\r\n",
        "\r\n",
        "import numpy as np\r\n",
        "import pandas as pd\r\n",
        "from numpy import load\r\n",
        "import os\r\n",
        "from sklearn.metrics import recall_score,f1_score\r\n",
        "from imblearn.over_sampling import SMOTE\r\n",
        "\r\n",
        "# to make this notebook's output stable across runs\r\n",
        "np.random.seed(42)\r\n",
        "tf.random.set_seed(42)\r\n",
        "\r\n",
        "# To plot pretty figures\r\n",
        "%matplotlib inline\r\n",
        "import matplotlib as mpl\r\n",
        "import matplotlib.pyplot as plt\r\n",
        "mpl.rc('axes', labelsize=14)\r\n",
        "mpl.rc('xtick', labelsize=12)\r\n",
        "mpl.rc('ytick', labelsize=12)\r\n"
      ],
      "execution_count": 94,
      "outputs": [
        {
          "output_type": "stream",
          "text": [
            "/usr/local/lib/python3.6/dist-packages/sklearn/externals/six.py:31: FutureWarning: The module is deprecated in version 0.21 and will be removed in version 0.23 since we've dropped support for Python 2.7. Please rely on the official version of six (https://pypi.org/project/six/).\n",
            "  \"(https://pypi.org/project/six/).\", FutureWarning)\n",
            "/usr/local/lib/python3.6/dist-packages/sklearn/utils/deprecation.py:144: FutureWarning: The sklearn.neighbors.base module is  deprecated in version 0.22 and will be removed in version 0.24. The corresponding classes / functions should instead be imported from sklearn.neighbors. Anything that cannot be imported from sklearn.neighbors is now part of the private API.\n",
            "  warnings.warn(message, FutureWarning)\n"
          ],
          "name": "stderr"
        }
      ]
    },
    {
      "cell_type": "markdown",
      "metadata": {
        "id": "2oIT-Y4fJ1N7"
      },
      "source": [
        "# Load Datasets"
      ]
    },
    {
      "cell_type": "code",
      "metadata": {
        "colab": {
          "base_uri": "https://localhost:8080/",
          "height": 402
        },
        "id": "NNzE1_NYJlYH",
        "outputId": "fc0b8bd7-8895-4279-eca0-64be22091593"
      },
      "source": [
        "freedf = pd.read_csv('/content/drive/My Drive/Colab Notebooks/CS581/project-data/Attack_free_dataset.csv')\r\n",
        "freedf['label'] = 0\r\n",
        "freedf"
      ],
      "execution_count": 3,
      "outputs": [
        {
          "output_type": "execute_result",
          "data": {
            "text/html": [
              "<div>\n",
              "<style scoped>\n",
              "    .dataframe tbody tr th:only-of-type {\n",
              "        vertical-align: middle;\n",
              "    }\n",
              "\n",
              "    .dataframe tbody tr th {\n",
              "        vertical-align: top;\n",
              "    }\n",
              "\n",
              "    .dataframe thead th {\n",
              "        text-align: right;\n",
              "    }\n",
              "</style>\n",
              "<table border=\"1\" class=\"dataframe\">\n",
              "  <thead>\n",
              "    <tr style=\"text-align: right;\">\n",
              "      <th></th>\n",
              "      <th>Timestamp</th>\n",
              "      <th>CAN ID</th>\n",
              "      <th>RTR</th>\n",
              "      <th>DLC</th>\n",
              "      <th>Data1</th>\n",
              "      <th>Data2</th>\n",
              "      <th>Data3</th>\n",
              "      <th>Data4</th>\n",
              "      <th>Data5</th>\n",
              "      <th>Data6</th>\n",
              "      <th>Data7</th>\n",
              "      <th>Data8</th>\n",
              "      <th>label</th>\n",
              "    </tr>\n",
              "  </thead>\n",
              "  <tbody>\n",
              "    <tr>\n",
              "      <th>0</th>\n",
              "      <td>0.000000</td>\n",
              "      <td>790</td>\n",
              "      <td>0</td>\n",
              "      <td>8</td>\n",
              "      <td>5</td>\n",
              "      <td>32</td>\n",
              "      <td>234</td>\n",
              "      <td>10</td>\n",
              "      <td>32</td>\n",
              "      <td>26</td>\n",
              "      <td>0</td>\n",
              "      <td>127</td>\n",
              "      <td>1</td>\n",
              "    </tr>\n",
              "    <tr>\n",
              "      <th>1</th>\n",
              "      <td>0.000224</td>\n",
              "      <td>809</td>\n",
              "      <td>0</td>\n",
              "      <td>8</td>\n",
              "      <td>215</td>\n",
              "      <td>167</td>\n",
              "      <td>127</td>\n",
              "      <td>140</td>\n",
              "      <td>17</td>\n",
              "      <td>47</td>\n",
              "      <td>0</td>\n",
              "      <td>16</td>\n",
              "      <td>1</td>\n",
              "    </tr>\n",
              "    <tr>\n",
              "      <th>2</th>\n",
              "      <td>0.000462</td>\n",
              "      <td>128</td>\n",
              "      <td>0</td>\n",
              "      <td>8</td>\n",
              "      <td>0</td>\n",
              "      <td>23</td>\n",
              "      <td>234</td>\n",
              "      <td>10</td>\n",
              "      <td>32</td>\n",
              "      <td>26</td>\n",
              "      <td>32</td>\n",
              "      <td>67</td>\n",
              "      <td>1</td>\n",
              "    </tr>\n",
              "    <tr>\n",
              "      <th>3</th>\n",
              "      <td>0.000704</td>\n",
              "      <td>129</td>\n",
              "      <td>0</td>\n",
              "      <td>8</td>\n",
              "      <td>127</td>\n",
              "      <td>132</td>\n",
              "      <td>96</td>\n",
              "      <td>0</td>\n",
              "      <td>0</td>\n",
              "      <td>0</td>\n",
              "      <td>0</td>\n",
              "      <td>83</td>\n",
              "      <td>1</td>\n",
              "    </tr>\n",
              "    <tr>\n",
              "      <th>4</th>\n",
              "      <td>0.000878</td>\n",
              "      <td>288</td>\n",
              "      <td>0</td>\n",
              "      <td>4</td>\n",
              "      <td>0</td>\n",
              "      <td>0</td>\n",
              "      <td>0</td>\n",
              "      <td>0</td>\n",
              "      <td>0</td>\n",
              "      <td>0</td>\n",
              "      <td>0</td>\n",
              "      <td>0</td>\n",
              "      <td>1</td>\n",
              "    </tr>\n",
              "    <tr>\n",
              "      <th>...</th>\n",
              "      <td>...</td>\n",
              "      <td>...</td>\n",
              "      <td>...</td>\n",
              "      <td>...</td>\n",
              "      <td>...</td>\n",
              "      <td>...</td>\n",
              "      <td>...</td>\n",
              "      <td>...</td>\n",
              "      <td>...</td>\n",
              "      <td>...</td>\n",
              "      <td>...</td>\n",
              "      <td>...</td>\n",
              "      <td>...</td>\n",
              "    </tr>\n",
              "    <tr>\n",
              "      <th>2369393</th>\n",
              "      <td>1037.589395</td>\n",
              "      <td>68</td>\n",
              "      <td>0</td>\n",
              "      <td>8</td>\n",
              "      <td>0</td>\n",
              "      <td>0</td>\n",
              "      <td>0</td>\n",
              "      <td>255</td>\n",
              "      <td>111</td>\n",
              "      <td>0</td>\n",
              "      <td>0</td>\n",
              "      <td>0</td>\n",
              "      <td>1</td>\n",
              "    </tr>\n",
              "    <tr>\n",
              "      <th>2369394</th>\n",
              "      <td>1037.589628</td>\n",
              "      <td>357</td>\n",
              "      <td>0</td>\n",
              "      <td>8</td>\n",
              "      <td>17</td>\n",
              "      <td>232</td>\n",
              "      <td>127</td>\n",
              "      <td>0</td>\n",
              "      <td>0</td>\n",
              "      <td>0</td>\n",
              "      <td>12</td>\n",
              "      <td>138</td>\n",
              "      <td>1</td>\n",
              "    </tr>\n",
              "    <tr>\n",
              "      <th>2369395</th>\n",
              "      <td>1037.589812</td>\n",
              "      <td>688</td>\n",
              "      <td>0</td>\n",
              "      <td>5</td>\n",
              "      <td>35</td>\n",
              "      <td>0</td>\n",
              "      <td>0</td>\n",
              "      <td>7</td>\n",
              "      <td>172</td>\n",
              "      <td>0</td>\n",
              "      <td>0</td>\n",
              "      <td>0</td>\n",
              "      <td>1</td>\n",
              "    </tr>\n",
              "    <tr>\n",
              "      <th>2369396</th>\n",
              "      <td>1037.590065</td>\n",
              "      <td>1200</td>\n",
              "      <td>0</td>\n",
              "      <td>8</td>\n",
              "      <td>0</td>\n",
              "      <td>0</td>\n",
              "      <td>0</td>\n",
              "      <td>0</td>\n",
              "      <td>0</td>\n",
              "      <td>0</td>\n",
              "      <td>0</td>\n",
              "      <td>0</td>\n",
              "      <td>1</td>\n",
              "    </tr>\n",
              "    <tr>\n",
              "      <th>2369397</th>\n",
              "      <td>1037.590316</td>\n",
              "      <td>356</td>\n",
              "      <td>0</td>\n",
              "      <td>8</td>\n",
              "      <td>0</td>\n",
              "      <td>8</td>\n",
              "      <td>0</td>\n",
              "      <td>0</td>\n",
              "      <td>0</td>\n",
              "      <td>0</td>\n",
              "      <td>8</td>\n",
              "      <td>0</td>\n",
              "      <td>1</td>\n",
              "    </tr>\n",
              "  </tbody>\n",
              "</table>\n",
              "<p>2369398 rows × 13 columns</p>\n",
              "</div>"
            ],
            "text/plain": [
              "           Timestamp  CAN ID  RTR  DLC  ...  Data6  Data7  Data8  label\n",
              "0           0.000000     790    0    8  ...     26      0    127      1\n",
              "1           0.000224     809    0    8  ...     47      0     16      1\n",
              "2           0.000462     128    0    8  ...     26     32     67      1\n",
              "3           0.000704     129    0    8  ...      0      0     83      1\n",
              "4           0.000878     288    0    4  ...      0      0      0      1\n",
              "...              ...     ...  ...  ...  ...    ...    ...    ...    ...\n",
              "2369393  1037.589395      68    0    8  ...      0      0      0      1\n",
              "2369394  1037.589628     357    0    8  ...      0     12    138      1\n",
              "2369395  1037.589812     688    0    5  ...      0      0      0      1\n",
              "2369396  1037.590065    1200    0    8  ...      0      0      0      1\n",
              "2369397  1037.590316     356    0    8  ...      0      8      0      1\n",
              "\n",
              "[2369398 rows x 13 columns]"
            ]
          },
          "metadata": {
            "tags": []
          },
          "execution_count": 3
        }
      ]
    },
    {
      "cell_type": "code",
      "metadata": {
        "colab": {
          "base_uri": "https://localhost:8080/",
          "height": 106
        },
        "id": "2oQWSOZVLiUF",
        "outputId": "7e0b8d36-07a1-406a-f036-f00351efd2b4"
      },
      "source": [
        "freedf.groupby('label').count()"
      ],
      "execution_count": 4,
      "outputs": [
        {
          "output_type": "execute_result",
          "data": {
            "text/html": [
              "<div>\n",
              "<style scoped>\n",
              "    .dataframe tbody tr th:only-of-type {\n",
              "        vertical-align: middle;\n",
              "    }\n",
              "\n",
              "    .dataframe tbody tr th {\n",
              "        vertical-align: top;\n",
              "    }\n",
              "\n",
              "    .dataframe thead th {\n",
              "        text-align: right;\n",
              "    }\n",
              "</style>\n",
              "<table border=\"1\" class=\"dataframe\">\n",
              "  <thead>\n",
              "    <tr style=\"text-align: right;\">\n",
              "      <th></th>\n",
              "      <th>Timestamp</th>\n",
              "      <th>CAN ID</th>\n",
              "      <th>RTR</th>\n",
              "      <th>DLC</th>\n",
              "      <th>Data1</th>\n",
              "      <th>Data2</th>\n",
              "      <th>Data3</th>\n",
              "      <th>Data4</th>\n",
              "      <th>Data5</th>\n",
              "      <th>Data6</th>\n",
              "      <th>Data7</th>\n",
              "      <th>Data8</th>\n",
              "    </tr>\n",
              "    <tr>\n",
              "      <th>label</th>\n",
              "      <th></th>\n",
              "      <th></th>\n",
              "      <th></th>\n",
              "      <th></th>\n",
              "      <th></th>\n",
              "      <th></th>\n",
              "      <th></th>\n",
              "      <th></th>\n",
              "      <th></th>\n",
              "      <th></th>\n",
              "      <th></th>\n",
              "      <th></th>\n",
              "    </tr>\n",
              "  </thead>\n",
              "  <tbody>\n",
              "    <tr>\n",
              "      <th>1</th>\n",
              "      <td>2369398</td>\n",
              "      <td>2369398</td>\n",
              "      <td>2369398</td>\n",
              "      <td>2369398</td>\n",
              "      <td>2369398</td>\n",
              "      <td>2369398</td>\n",
              "      <td>2369398</td>\n",
              "      <td>2369398</td>\n",
              "      <td>2369398</td>\n",
              "      <td>2369398</td>\n",
              "      <td>2369398</td>\n",
              "      <td>2369398</td>\n",
              "    </tr>\n",
              "  </tbody>\n",
              "</table>\n",
              "</div>"
            ],
            "text/plain": [
              "       Timestamp   CAN ID      RTR      DLC  ...    Data5    Data6    Data7    Data8\n",
              "label                                        ...                                    \n",
              "1        2369398  2369398  2369398  2369398  ...  2369398  2369398  2369398  2369398\n",
              "\n",
              "[1 rows x 12 columns]"
            ]
          },
          "metadata": {
            "tags": []
          },
          "execution_count": 4
        }
      ]
    },
    {
      "cell_type": "code",
      "metadata": {
        "colab": {
          "base_uri": "https://localhost:8080/",
          "height": 402
        },
        "id": "3JKhAGAeKJ7O",
        "outputId": "1678840b-8e7d-4437-e5da-e1b496faa727"
      },
      "source": [
        "dosdf = pd.read_csv('/content/drive/My Drive/Colab Notebooks/CS581/project-data/DoS_attack_dataset.csv')\r\n",
        "dosdf['label'] = np.where(dosdf['CAN ID'] == 0,1,0) #np.where(df['Set']=='Z', 'green', 'red')\r\n",
        "dosdf"
      ],
      "execution_count": 5,
      "outputs": [
        {
          "output_type": "execute_result",
          "data": {
            "text/html": [
              "<div>\n",
              "<style scoped>\n",
              "    .dataframe tbody tr th:only-of-type {\n",
              "        vertical-align: middle;\n",
              "    }\n",
              "\n",
              "    .dataframe tbody tr th {\n",
              "        vertical-align: top;\n",
              "    }\n",
              "\n",
              "    .dataframe thead th {\n",
              "        text-align: right;\n",
              "    }\n",
              "</style>\n",
              "<table border=\"1\" class=\"dataframe\">\n",
              "  <thead>\n",
              "    <tr style=\"text-align: right;\">\n",
              "      <th></th>\n",
              "      <th>Timestamp</th>\n",
              "      <th>CAN ID</th>\n",
              "      <th>RTR</th>\n",
              "      <th>DLC</th>\n",
              "      <th>Data1</th>\n",
              "      <th>Data2</th>\n",
              "      <th>Data3</th>\n",
              "      <th>Data4</th>\n",
              "      <th>Data5</th>\n",
              "      <th>Data6</th>\n",
              "      <th>Data7</th>\n",
              "      <th>Data8</th>\n",
              "      <th>label</th>\n",
              "    </tr>\n",
              "  </thead>\n",
              "  <tbody>\n",
              "    <tr>\n",
              "      <th>0</th>\n",
              "      <td>0.000000</td>\n",
              "      <td>0</td>\n",
              "      <td>0</td>\n",
              "      <td>8</td>\n",
              "      <td>0</td>\n",
              "      <td>0</td>\n",
              "      <td>0</td>\n",
              "      <td>0</td>\n",
              "      <td>0</td>\n",
              "      <td>0</td>\n",
              "      <td>0</td>\n",
              "      <td>0</td>\n",
              "      <td>2</td>\n",
              "    </tr>\n",
              "    <tr>\n",
              "      <th>1</th>\n",
              "      <td>0.000271</td>\n",
              "      <td>128</td>\n",
              "      <td>0</td>\n",
              "      <td>8</td>\n",
              "      <td>0</td>\n",
              "      <td>23</td>\n",
              "      <td>220</td>\n",
              "      <td>9</td>\n",
              "      <td>22</td>\n",
              "      <td>17</td>\n",
              "      <td>22</td>\n",
              "      <td>187</td>\n",
              "      <td>1</td>\n",
              "    </tr>\n",
              "    <tr>\n",
              "      <th>2</th>\n",
              "      <td>0.000495</td>\n",
              "      <td>0</td>\n",
              "      <td>0</td>\n",
              "      <td>8</td>\n",
              "      <td>0</td>\n",
              "      <td>0</td>\n",
              "      <td>0</td>\n",
              "      <td>0</td>\n",
              "      <td>0</td>\n",
              "      <td>0</td>\n",
              "      <td>0</td>\n",
              "      <td>0</td>\n",
              "      <td>2</td>\n",
              "    </tr>\n",
              "    <tr>\n",
              "      <th>3</th>\n",
              "      <td>0.000736</td>\n",
              "      <td>129</td>\n",
              "      <td>0</td>\n",
              "      <td>8</td>\n",
              "      <td>64</td>\n",
              "      <td>132</td>\n",
              "      <td>135</td>\n",
              "      <td>0</td>\n",
              "      <td>0</td>\n",
              "      <td>0</td>\n",
              "      <td>0</td>\n",
              "      <td>107</td>\n",
              "      <td>1</td>\n",
              "    </tr>\n",
              "    <tr>\n",
              "      <th>4</th>\n",
              "      <td>0.000983</td>\n",
              "      <td>0</td>\n",
              "      <td>0</td>\n",
              "      <td>8</td>\n",
              "      <td>0</td>\n",
              "      <td>0</td>\n",
              "      <td>0</td>\n",
              "      <td>0</td>\n",
              "      <td>0</td>\n",
              "      <td>0</td>\n",
              "      <td>0</td>\n",
              "      <td>0</td>\n",
              "      <td>2</td>\n",
              "    </tr>\n",
              "    <tr>\n",
              "      <th>...</th>\n",
              "      <td>...</td>\n",
              "      <td>...</td>\n",
              "      <td>...</td>\n",
              "      <td>...</td>\n",
              "      <td>...</td>\n",
              "      <td>...</td>\n",
              "      <td>...</td>\n",
              "      <td>...</td>\n",
              "      <td>...</td>\n",
              "      <td>...</td>\n",
              "      <td>...</td>\n",
              "      <td>...</td>\n",
              "      <td>...</td>\n",
              "    </tr>\n",
              "    <tr>\n",
              "      <th>656574</th>\n",
              "      <td>306.295869</td>\n",
              "      <td>0</td>\n",
              "      <td>0</td>\n",
              "      <td>8</td>\n",
              "      <td>0</td>\n",
              "      <td>0</td>\n",
              "      <td>0</td>\n",
              "      <td>0</td>\n",
              "      <td>0</td>\n",
              "      <td>0</td>\n",
              "      <td>0</td>\n",
              "      <td>0</td>\n",
              "      <td>2</td>\n",
              "    </tr>\n",
              "    <tr>\n",
              "      <th>656575</th>\n",
              "      <td>306.296118</td>\n",
              "      <td>129</td>\n",
              "      <td>0</td>\n",
              "      <td>8</td>\n",
              "      <td>64</td>\n",
              "      <td>132</td>\n",
              "      <td>137</td>\n",
              "      <td>0</td>\n",
              "      <td>0</td>\n",
              "      <td>0</td>\n",
              "      <td>0</td>\n",
              "      <td>240</td>\n",
              "      <td>1</td>\n",
              "    </tr>\n",
              "    <tr>\n",
              "      <th>656576</th>\n",
              "      <td>306.296365</td>\n",
              "      <td>0</td>\n",
              "      <td>0</td>\n",
              "      <td>8</td>\n",
              "      <td>0</td>\n",
              "      <td>0</td>\n",
              "      <td>0</td>\n",
              "      <td>0</td>\n",
              "      <td>0</td>\n",
              "      <td>0</td>\n",
              "      <td>0</td>\n",
              "      <td>0</td>\n",
              "      <td>2</td>\n",
              "    </tr>\n",
              "    <tr>\n",
              "      <th>656577</th>\n",
              "      <td>306.296624</td>\n",
              "      <td>399</td>\n",
              "      <td>0</td>\n",
              "      <td>8</td>\n",
              "      <td>0</td>\n",
              "      <td>59</td>\n",
              "      <td>24</td>\n",
              "      <td>0</td>\n",
              "      <td>0</td>\n",
              "      <td>63</td>\n",
              "      <td>0</td>\n",
              "      <td>0</td>\n",
              "      <td>1</td>\n",
              "    </tr>\n",
              "    <tr>\n",
              "      <th>656578</th>\n",
              "      <td>306.296857</td>\n",
              "      <td>0</td>\n",
              "      <td>0</td>\n",
              "      <td>8</td>\n",
              "      <td>0</td>\n",
              "      <td>0</td>\n",
              "      <td>0</td>\n",
              "      <td>0</td>\n",
              "      <td>0</td>\n",
              "      <td>0</td>\n",
              "      <td>0</td>\n",
              "      <td>0</td>\n",
              "      <td>2</td>\n",
              "    </tr>\n",
              "  </tbody>\n",
              "</table>\n",
              "<p>656579 rows × 13 columns</p>\n",
              "</div>"
            ],
            "text/plain": [
              "         Timestamp  CAN ID  RTR  DLC  Data1  ...  Data5  Data6  Data7  Data8  label\n",
              "0         0.000000       0    0    8      0  ...      0      0      0      0      2\n",
              "1         0.000271     128    0    8      0  ...     22     17     22    187      1\n",
              "2         0.000495       0    0    8      0  ...      0      0      0      0      2\n",
              "3         0.000736     129    0    8     64  ...      0      0      0    107      1\n",
              "4         0.000983       0    0    8      0  ...      0      0      0      0      2\n",
              "...            ...     ...  ...  ...    ...  ...    ...    ...    ...    ...    ...\n",
              "656574  306.295869       0    0    8      0  ...      0      0      0      0      2\n",
              "656575  306.296118     129    0    8     64  ...      0      0      0    240      1\n",
              "656576  306.296365       0    0    8      0  ...      0      0      0      0      2\n",
              "656577  306.296624     399    0    8      0  ...      0     63      0      0      1\n",
              "656578  306.296857       0    0    8      0  ...      0      0      0      0      2\n",
              "\n",
              "[656579 rows x 13 columns]"
            ]
          },
          "metadata": {
            "tags": []
          },
          "execution_count": 5
        }
      ]
    },
    {
      "cell_type": "code",
      "metadata": {
        "colab": {
          "base_uri": "https://localhost:8080/",
          "height": 136
        },
        "id": "SksUn46-LVpu",
        "outputId": "437abc7d-6f76-4669-d85b-30d251660213"
      },
      "source": [
        "dosdf.groupby('label').count()"
      ],
      "execution_count": 6,
      "outputs": [
        {
          "output_type": "execute_result",
          "data": {
            "text/html": [
              "<div>\n",
              "<style scoped>\n",
              "    .dataframe tbody tr th:only-of-type {\n",
              "        vertical-align: middle;\n",
              "    }\n",
              "\n",
              "    .dataframe tbody tr th {\n",
              "        vertical-align: top;\n",
              "    }\n",
              "\n",
              "    .dataframe thead th {\n",
              "        text-align: right;\n",
              "    }\n",
              "</style>\n",
              "<table border=\"1\" class=\"dataframe\">\n",
              "  <thead>\n",
              "    <tr style=\"text-align: right;\">\n",
              "      <th></th>\n",
              "      <th>Timestamp</th>\n",
              "      <th>CAN ID</th>\n",
              "      <th>RTR</th>\n",
              "      <th>DLC</th>\n",
              "      <th>Data1</th>\n",
              "      <th>Data2</th>\n",
              "      <th>Data3</th>\n",
              "      <th>Data4</th>\n",
              "      <th>Data5</th>\n",
              "      <th>Data6</th>\n",
              "      <th>Data7</th>\n",
              "      <th>Data8</th>\n",
              "    </tr>\n",
              "    <tr>\n",
              "      <th>label</th>\n",
              "      <th></th>\n",
              "      <th></th>\n",
              "      <th></th>\n",
              "      <th></th>\n",
              "      <th></th>\n",
              "      <th></th>\n",
              "      <th></th>\n",
              "      <th></th>\n",
              "      <th></th>\n",
              "      <th></th>\n",
              "      <th></th>\n",
              "      <th></th>\n",
              "    </tr>\n",
              "  </thead>\n",
              "  <tbody>\n",
              "    <tr>\n",
              "      <th>1</th>\n",
              "      <td>320955</td>\n",
              "      <td>320955</td>\n",
              "      <td>320955</td>\n",
              "      <td>320955</td>\n",
              "      <td>320955</td>\n",
              "      <td>320955</td>\n",
              "      <td>320955</td>\n",
              "      <td>320955</td>\n",
              "      <td>320955</td>\n",
              "      <td>320955</td>\n",
              "      <td>320955</td>\n",
              "      <td>320955</td>\n",
              "    </tr>\n",
              "    <tr>\n",
              "      <th>2</th>\n",
              "      <td>335624</td>\n",
              "      <td>335624</td>\n",
              "      <td>335624</td>\n",
              "      <td>335624</td>\n",
              "      <td>335624</td>\n",
              "      <td>335624</td>\n",
              "      <td>335624</td>\n",
              "      <td>335624</td>\n",
              "      <td>335624</td>\n",
              "      <td>335624</td>\n",
              "      <td>335624</td>\n",
              "      <td>335624</td>\n",
              "    </tr>\n",
              "  </tbody>\n",
              "</table>\n",
              "</div>"
            ],
            "text/plain": [
              "       Timestamp  CAN ID     RTR     DLC  ...   Data5   Data6   Data7   Data8\n",
              "label                                     ...                                \n",
              "1         320955  320955  320955  320955  ...  320955  320955  320955  320955\n",
              "2         335624  335624  335624  335624  ...  335624  335624  335624  335624\n",
              "\n",
              "[2 rows x 12 columns]"
            ]
          },
          "metadata": {
            "tags": []
          },
          "execution_count": 6
        }
      ]
    },
    {
      "cell_type": "code",
      "metadata": {
        "colab": {
          "base_uri": "https://localhost:8080/",
          "height": 402
        },
        "id": "Qt8NTR8aKt0b",
        "outputId": "65cbb472-1255-4b52-a2cf-f6a42da83b66"
      },
      "source": [
        "fuzzydf = pd.read_csv('/content/drive/My Drive/Colab Notebooks/CS581/project-data/Fuzzy_attack_dataset.csv')\r\n",
        "fuzzydf"
      ],
      "execution_count": 7,
      "outputs": [
        {
          "output_type": "execute_result",
          "data": {
            "text/html": [
              "<div>\n",
              "<style scoped>\n",
              "    .dataframe tbody tr th:only-of-type {\n",
              "        vertical-align: middle;\n",
              "    }\n",
              "\n",
              "    .dataframe tbody tr th {\n",
              "        vertical-align: top;\n",
              "    }\n",
              "\n",
              "    .dataframe thead th {\n",
              "        text-align: right;\n",
              "    }\n",
              "</style>\n",
              "<table border=\"1\" class=\"dataframe\">\n",
              "  <thead>\n",
              "    <tr style=\"text-align: right;\">\n",
              "      <th></th>\n",
              "      <th>Timestamp</th>\n",
              "      <th>CAN ID</th>\n",
              "      <th>RTR</th>\n",
              "      <th>DLC</th>\n",
              "      <th>Data1</th>\n",
              "      <th>Data2</th>\n",
              "      <th>Data3</th>\n",
              "      <th>Data4</th>\n",
              "      <th>Data5</th>\n",
              "      <th>Data6</th>\n",
              "      <th>Data7</th>\n",
              "      <th>Data8</th>\n",
              "    </tr>\n",
              "  </thead>\n",
              "  <tbody>\n",
              "    <tr>\n",
              "      <th>0</th>\n",
              "      <td>0.000000</td>\n",
              "      <td>544</td>\n",
              "      <td>0</td>\n",
              "      <td>8</td>\n",
              "      <td>41</td>\n",
              "      <td>197</td>\n",
              "      <td>38</td>\n",
              "      <td>85</td>\n",
              "      <td>106</td>\n",
              "      <td>103</td>\n",
              "      <td>2</td>\n",
              "      <td>93</td>\n",
              "    </tr>\n",
              "    <tr>\n",
              "      <th>1</th>\n",
              "      <td>0.000868</td>\n",
              "      <td>1201</td>\n",
              "      <td>0</td>\n",
              "      <td>8</td>\n",
              "      <td>94</td>\n",
              "      <td>81</td>\n",
              "      <td>207</td>\n",
              "      <td>183</td>\n",
              "      <td>76</td>\n",
              "      <td>153</td>\n",
              "      <td>170</td>\n",
              "      <td>151</td>\n",
              "    </tr>\n",
              "    <tr>\n",
              "      <th>2</th>\n",
              "      <td>0.001212</td>\n",
              "      <td>688</td>\n",
              "      <td>0</td>\n",
              "      <td>5</td>\n",
              "      <td>58</td>\n",
              "      <td>255</td>\n",
              "      <td>0</td>\n",
              "      <td>7</td>\n",
              "      <td>44</td>\n",
              "      <td>0</td>\n",
              "      <td>0</td>\n",
              "      <td>0</td>\n",
              "    </tr>\n",
              "    <tr>\n",
              "      <th>3</th>\n",
              "      <td>0.001452</td>\n",
              "      <td>357</td>\n",
              "      <td>0</td>\n",
              "      <td>8</td>\n",
              "      <td>0</td>\n",
              "      <td>8</td>\n",
              "      <td>128</td>\n",
              "      <td>2</td>\n",
              "      <td>0</td>\n",
              "      <td>0</td>\n",
              "      <td>12</td>\n",
              "      <td>134</td>\n",
              "    </tr>\n",
              "    <tr>\n",
              "      <th>4</th>\n",
              "      <td>0.001782</td>\n",
              "      <td>544</td>\n",
              "      <td>0</td>\n",
              "      <td>8</td>\n",
              "      <td>212</td>\n",
              "      <td>166</td>\n",
              "      <td>227</td>\n",
              "      <td>169</td>\n",
              "      <td>35</td>\n",
              "      <td>170</td>\n",
              "      <td>211</td>\n",
              "      <td>31</td>\n",
              "    </tr>\n",
              "    <tr>\n",
              "      <th>...</th>\n",
              "      <td>...</td>\n",
              "      <td>...</td>\n",
              "      <td>...</td>\n",
              "      <td>...</td>\n",
              "      <td>...</td>\n",
              "      <td>...</td>\n",
              "      <td>...</td>\n",
              "      <td>...</td>\n",
              "      <td>...</td>\n",
              "      <td>...</td>\n",
              "      <td>...</td>\n",
              "      <td>...</td>\n",
              "    </tr>\n",
              "    <tr>\n",
              "      <th>591985</th>\n",
              "      <td>347.330224</td>\n",
              "      <td>339</td>\n",
              "      <td>0</td>\n",
              "      <td>8</td>\n",
              "      <td>0</td>\n",
              "      <td>161</td>\n",
              "      <td>32</td>\n",
              "      <td>255</td>\n",
              "      <td>0</td>\n",
              "      <td>255</td>\n",
              "      <td>32</td>\n",
              "      <td>223</td>\n",
              "    </tr>\n",
              "    <tr>\n",
              "      <th>591986</th>\n",
              "      <td>347.330461</td>\n",
              "      <td>544</td>\n",
              "      <td>0</td>\n",
              "      <td>8</td>\n",
              "      <td>192</td>\n",
              "      <td>3</td>\n",
              "      <td>245</td>\n",
              "      <td>3</td>\n",
              "      <td>12</td>\n",
              "      <td>0</td>\n",
              "      <td>71</td>\n",
              "      <td>16</td>\n",
              "    </tr>\n",
              "    <tr>\n",
              "      <th>591987</th>\n",
              "      <td>347.330678</td>\n",
              "      <td>1440</td>\n",
              "      <td>0</td>\n",
              "      <td>8</td>\n",
              "      <td>166</td>\n",
              "      <td>32</td>\n",
              "      <td>82</td>\n",
              "      <td>109</td>\n",
              "      <td>167</td>\n",
              "      <td>238</td>\n",
              "      <td>124</td>\n",
              "      <td>226</td>\n",
              "    </tr>\n",
              "    <tr>\n",
              "      <th>591988</th>\n",
              "      <td>347.331050</td>\n",
              "      <td>1442</td>\n",
              "      <td>0</td>\n",
              "      <td>8</td>\n",
              "      <td>238</td>\n",
              "      <td>34</td>\n",
              "      <td>248</td>\n",
              "      <td>11</td>\n",
              "      <td>91</td>\n",
              "      <td>131</td>\n",
              "      <td>153</td>\n",
              "      <td>171</td>\n",
              "    </tr>\n",
              "    <tr>\n",
              "      <th>591989</th>\n",
              "      <td>347.331739</td>\n",
              "      <td>1440</td>\n",
              "      <td>0</td>\n",
              "      <td>8</td>\n",
              "      <td>171</td>\n",
              "      <td>143</td>\n",
              "      <td>126</td>\n",
              "      <td>105</td>\n",
              "      <td>152</td>\n",
              "      <td>85</td>\n",
              "      <td>122</td>\n",
              "      <td>144</td>\n",
              "    </tr>\n",
              "  </tbody>\n",
              "</table>\n",
              "<p>591990 rows × 12 columns</p>\n",
              "</div>"
            ],
            "text/plain": [
              "         Timestamp  CAN ID  RTR  DLC  Data1  ...  Data4  Data5  Data6  Data7  Data8\n",
              "0         0.000000     544    0    8     41  ...     85    106    103      2     93\n",
              "1         0.000868    1201    0    8     94  ...    183     76    153    170    151\n",
              "2         0.001212     688    0    5     58  ...      7     44      0      0      0\n",
              "3         0.001452     357    0    8      0  ...      2      0      0     12    134\n",
              "4         0.001782     544    0    8    212  ...    169     35    170    211     31\n",
              "...            ...     ...  ...  ...    ...  ...    ...    ...    ...    ...    ...\n",
              "591985  347.330224     339    0    8      0  ...    255      0    255     32    223\n",
              "591986  347.330461     544    0    8    192  ...      3     12      0     71     16\n",
              "591987  347.330678    1440    0    8    166  ...    109    167    238    124    226\n",
              "591988  347.331050    1442    0    8    238  ...     11     91    131    153    171\n",
              "591989  347.331739    1440    0    8    171  ...    105    152     85    122    144\n",
              "\n",
              "[591990 rows x 12 columns]"
            ]
          },
          "metadata": {
            "tags": []
          },
          "execution_count": 7
        }
      ]
    },
    {
      "cell_type": "code",
      "metadata": {
        "colab": {
          "base_uri": "https://localhost:8080/",
          "height": 402
        },
        "id": "ZQmTm4lFK_a9",
        "outputId": "bf964478-d5f3-4d48-9ee3-8ca978777f4b"
      },
      "source": [
        "impersonatedf = pd.read_csv('/content/drive/My Drive/Colab Notebooks/CS581/project-data/Impersonation_attack_dataset.csv')\r\n",
        "impersonatedf['label'] = np.where(impersonatedf['CAN ID'] == 356,1,0) \r\n",
        "impersonatedf"
      ],
      "execution_count": 28,
      "outputs": [
        {
          "output_type": "execute_result",
          "data": {
            "text/html": [
              "<div>\n",
              "<style scoped>\n",
              "    .dataframe tbody tr th:only-of-type {\n",
              "        vertical-align: middle;\n",
              "    }\n",
              "\n",
              "    .dataframe tbody tr th {\n",
              "        vertical-align: top;\n",
              "    }\n",
              "\n",
              "    .dataframe thead th {\n",
              "        text-align: right;\n",
              "    }\n",
              "</style>\n",
              "<table border=\"1\" class=\"dataframe\">\n",
              "  <thead>\n",
              "    <tr style=\"text-align: right;\">\n",
              "      <th></th>\n",
              "      <th>Timestamp</th>\n",
              "      <th>CAN ID</th>\n",
              "      <th>RTR</th>\n",
              "      <th>DLC</th>\n",
              "      <th>Data1</th>\n",
              "      <th>Data2</th>\n",
              "      <th>Data3</th>\n",
              "      <th>Data4</th>\n",
              "      <th>Data5</th>\n",
              "      <th>Data6</th>\n",
              "      <th>Data7</th>\n",
              "      <th>Data8</th>\n",
              "      <th>label</th>\n",
              "    </tr>\n",
              "  </thead>\n",
              "  <tbody>\n",
              "    <tr>\n",
              "      <th>0</th>\n",
              "      <td>1.481193e+09</td>\n",
              "      <td>1415</td>\n",
              "      <td>0</td>\n",
              "      <td>8</td>\n",
              "      <td>0</td>\n",
              "      <td>0</td>\n",
              "      <td>0</td>\n",
              "      <td>0</td>\n",
              "      <td>0</td>\n",
              "      <td>0</td>\n",
              "      <td>0</td>\n",
              "      <td>1</td>\n",
              "      <td>0</td>\n",
              "    </tr>\n",
              "    <tr>\n",
              "      <th>1</th>\n",
              "      <td>1.481193e+09</td>\n",
              "      <td>790</td>\n",
              "      <td>0</td>\n",
              "      <td>8</td>\n",
              "      <td>5</td>\n",
              "      <td>28</td>\n",
              "      <td>106</td>\n",
              "      <td>10</td>\n",
              "      <td>28</td>\n",
              "      <td>19</td>\n",
              "      <td>0</td>\n",
              "      <td>127</td>\n",
              "      <td>0</td>\n",
              "    </tr>\n",
              "    <tr>\n",
              "      <th>2</th>\n",
              "      <td>1.481193e+09</td>\n",
              "      <td>399</td>\n",
              "      <td>0</td>\n",
              "      <td>8</td>\n",
              "      <td>0</td>\n",
              "      <td>33</td>\n",
              "      <td>28</td>\n",
              "      <td>0</td>\n",
              "      <td>0</td>\n",
              "      <td>67</td>\n",
              "      <td>0</td>\n",
              "      <td>0</td>\n",
              "      <td>0</td>\n",
              "    </tr>\n",
              "    <tr>\n",
              "      <th>3</th>\n",
              "      <td>1.481193e+09</td>\n",
              "      <td>608</td>\n",
              "      <td>0</td>\n",
              "      <td>8</td>\n",
              "      <td>5</td>\n",
              "      <td>28</td>\n",
              "      <td>0</td>\n",
              "      <td>48</td>\n",
              "      <td>255</td>\n",
              "      <td>147</td>\n",
              "      <td>99</td>\n",
              "      <td>53</td>\n",
              "      <td>0</td>\n",
              "    </tr>\n",
              "    <tr>\n",
              "      <th>4</th>\n",
              "      <td>1.481193e+09</td>\n",
              "      <td>128</td>\n",
              "      <td>0</td>\n",
              "      <td>8</td>\n",
              "      <td>0</td>\n",
              "      <td>23</td>\n",
              "      <td>106</td>\n",
              "      <td>10</td>\n",
              "      <td>28</td>\n",
              "      <td>19</td>\n",
              "      <td>28</td>\n",
              "      <td>31</td>\n",
              "      <td>0</td>\n",
              "    </tr>\n",
              "    <tr>\n",
              "      <th>...</th>\n",
              "      <td>...</td>\n",
              "      <td>...</td>\n",
              "      <td>...</td>\n",
              "      <td>...</td>\n",
              "      <td>...</td>\n",
              "      <td>...</td>\n",
              "      <td>...</td>\n",
              "      <td>...</td>\n",
              "      <td>...</td>\n",
              "      <td>...</td>\n",
              "      <td>...</td>\n",
              "      <td>...</td>\n",
              "      <td>...</td>\n",
              "    </tr>\n",
              "    <tr>\n",
              "      <th>995467</th>\n",
              "      <td>1.481193e+09</td>\n",
              "      <td>1508</td>\n",
              "      <td>0</td>\n",
              "      <td>3</td>\n",
              "      <td>0</td>\n",
              "      <td>2</td>\n",
              "      <td>0</td>\n",
              "      <td>0</td>\n",
              "      <td>0</td>\n",
              "      <td>0</td>\n",
              "      <td>0</td>\n",
              "      <td>0</td>\n",
              "      <td>0</td>\n",
              "    </tr>\n",
              "    <tr>\n",
              "      <th>995468</th>\n",
              "      <td>1.481193e+09</td>\n",
              "      <td>339</td>\n",
              "      <td>0</td>\n",
              "      <td>8</td>\n",
              "      <td>0</td>\n",
              "      <td>128</td>\n",
              "      <td>16</td>\n",
              "      <td>255</td>\n",
              "      <td>0</td>\n",
              "      <td>255</td>\n",
              "      <td>160</td>\n",
              "      <td>46</td>\n",
              "      <td>0</td>\n",
              "    </tr>\n",
              "    <tr>\n",
              "      <th>995469</th>\n",
              "      <td>1.481193e+09</td>\n",
              "      <td>357</td>\n",
              "      <td>0</td>\n",
              "      <td>8</td>\n",
              "      <td>14</td>\n",
              "      <td>216</td>\n",
              "      <td>127</td>\n",
              "      <td>0</td>\n",
              "      <td>0</td>\n",
              "      <td>0</td>\n",
              "      <td>3</td>\n",
              "      <td>170</td>\n",
              "      <td>0</td>\n",
              "    </tr>\n",
              "    <tr>\n",
              "      <th>995470</th>\n",
              "      <td>1.481193e+09</td>\n",
              "      <td>544</td>\n",
              "      <td>0</td>\n",
              "      <td>8</td>\n",
              "      <td>244</td>\n",
              "      <td>3</td>\n",
              "      <td>247</td>\n",
              "      <td>3</td>\n",
              "      <td>12</td>\n",
              "      <td>0</td>\n",
              "      <td>58</td>\n",
              "      <td>16</td>\n",
              "      <td>0</td>\n",
              "    </tr>\n",
              "    <tr>\n",
              "      <th>995471</th>\n",
              "      <td>1.481193e+09</td>\n",
              "      <td>688</td>\n",
              "      <td>0</td>\n",
              "      <td>5</td>\n",
              "      <td>115</td>\n",
              "      <td>0</td>\n",
              "      <td>0</td>\n",
              "      <td>7</td>\n",
              "      <td>3</td>\n",
              "      <td>0</td>\n",
              "      <td>0</td>\n",
              "      <td>0</td>\n",
              "      <td>0</td>\n",
              "    </tr>\n",
              "  </tbody>\n",
              "</table>\n",
              "<p>995472 rows × 13 columns</p>\n",
              "</div>"
            ],
            "text/plain": [
              "           Timestamp  CAN ID  RTR  DLC  ...  Data6  Data7  Data8  label\n",
              "0       1.481193e+09    1415    0    8  ...      0      0      1      0\n",
              "1       1.481193e+09     790    0    8  ...     19      0    127      0\n",
              "2       1.481193e+09     399    0    8  ...     67      0      0      0\n",
              "3       1.481193e+09     608    0    8  ...    147     99     53      0\n",
              "4       1.481193e+09     128    0    8  ...     19     28     31      0\n",
              "...              ...     ...  ...  ...  ...    ...    ...    ...    ...\n",
              "995467  1.481193e+09    1508    0    3  ...      0      0      0      0\n",
              "995468  1.481193e+09     339    0    8  ...    255    160     46      0\n",
              "995469  1.481193e+09     357    0    8  ...      0      3    170      0\n",
              "995470  1.481193e+09     544    0    8  ...      0     58     16      0\n",
              "995471  1.481193e+09     688    0    5  ...      0      0      0      0\n",
              "\n",
              "[995472 rows x 13 columns]"
            ]
          },
          "metadata": {
            "tags": []
          },
          "execution_count": 28
        }
      ]
    },
    {
      "cell_type": "code",
      "metadata": {
        "colab": {
          "base_uri": "https://localhost:8080/",
          "height": 153
        },
        "id": "9JICe22SMbbV",
        "outputId": "d5fe464f-790f-49d0-c0c8-eb493f6ebb52"
      },
      "source": [
        "print(int('0x164',base=16))\r\n",
        "impersonatedf.groupby('label').count()"
      ],
      "execution_count": 29,
      "outputs": [
        {
          "output_type": "stream",
          "text": [
            "356\n"
          ],
          "name": "stdout"
        },
        {
          "output_type": "execute_result",
          "data": {
            "text/html": [
              "<div>\n",
              "<style scoped>\n",
              "    .dataframe tbody tr th:only-of-type {\n",
              "        vertical-align: middle;\n",
              "    }\n",
              "\n",
              "    .dataframe tbody tr th {\n",
              "        vertical-align: top;\n",
              "    }\n",
              "\n",
              "    .dataframe thead th {\n",
              "        text-align: right;\n",
              "    }\n",
              "</style>\n",
              "<table border=\"1\" class=\"dataframe\">\n",
              "  <thead>\n",
              "    <tr style=\"text-align: right;\">\n",
              "      <th></th>\n",
              "      <th>Timestamp</th>\n",
              "      <th>CAN ID</th>\n",
              "      <th>RTR</th>\n",
              "      <th>DLC</th>\n",
              "      <th>Data1</th>\n",
              "      <th>Data2</th>\n",
              "      <th>Data3</th>\n",
              "      <th>Data4</th>\n",
              "      <th>Data5</th>\n",
              "      <th>Data6</th>\n",
              "      <th>Data7</th>\n",
              "      <th>Data8</th>\n",
              "    </tr>\n",
              "    <tr>\n",
              "      <th>label</th>\n",
              "      <th></th>\n",
              "      <th></th>\n",
              "      <th></th>\n",
              "      <th></th>\n",
              "      <th></th>\n",
              "      <th></th>\n",
              "      <th></th>\n",
              "      <th></th>\n",
              "      <th></th>\n",
              "      <th></th>\n",
              "      <th></th>\n",
              "      <th></th>\n",
              "    </tr>\n",
              "  </thead>\n",
              "  <tbody>\n",
              "    <tr>\n",
              "      <th>0</th>\n",
              "      <td>938000</td>\n",
              "      <td>938000</td>\n",
              "      <td>938000</td>\n",
              "      <td>938000</td>\n",
              "      <td>938000</td>\n",
              "      <td>938000</td>\n",
              "      <td>938000</td>\n",
              "      <td>938000</td>\n",
              "      <td>938000</td>\n",
              "      <td>938000</td>\n",
              "      <td>938000</td>\n",
              "      <td>938000</td>\n",
              "    </tr>\n",
              "    <tr>\n",
              "      <th>1</th>\n",
              "      <td>57472</td>\n",
              "      <td>57472</td>\n",
              "      <td>57472</td>\n",
              "      <td>57472</td>\n",
              "      <td>57472</td>\n",
              "      <td>57472</td>\n",
              "      <td>57472</td>\n",
              "      <td>57472</td>\n",
              "      <td>57472</td>\n",
              "      <td>57472</td>\n",
              "      <td>57472</td>\n",
              "      <td>57472</td>\n",
              "    </tr>\n",
              "  </tbody>\n",
              "</table>\n",
              "</div>"
            ],
            "text/plain": [
              "       Timestamp  CAN ID     RTR     DLC  ...   Data5   Data6   Data7   Data8\n",
              "label                                     ...                                \n",
              "0         938000  938000  938000  938000  ...  938000  938000  938000  938000\n",
              "1          57472   57472   57472   57472  ...   57472   57472   57472   57472\n",
              "\n",
              "[2 rows x 12 columns]"
            ]
          },
          "metadata": {
            "tags": []
          },
          "execution_count": 29
        }
      ]
    },
    {
      "cell_type": "markdown",
      "metadata": {
        "id": "QXEsTphkjw4r"
      },
      "source": [
        "IN the above datasets, we have also added labels where possible, to try a supervised learning experiment."
      ]
    },
    {
      "cell_type": "markdown",
      "metadata": {
        "id": "jvSYpwDUPA-9"
      },
      "source": [
        "### Combining Attack-free + DoS datasets \r\n",
        " Here we work with the Attack-Free and DoS Datasets to get one less biased and slightly better distributed dataset to train and test on."
      ]
    },
    {
      "cell_type": "code",
      "metadata": {
        "id": "gOdwFcP6PHOq",
        "colab": {
          "base_uri": "https://localhost:8080/",
          "height": 402
        },
        "outputId": "641d98bd-2afd-4aec-9099-9ef9d0c29742"
      },
      "source": [
        "dosdf = pd.read_csv('/content/drive/My Drive/Colab Notebooks/CS581/project-data/DoS_attack_dataset.csv')\n",
        "dosdf['label'] = np.where(dosdf['CAN ID'] == 0,1,0)\n",
        "dosdf = dosdf.drop(labels=['Timestamp'],axis=1)\n",
        "dosdf"
      ],
      "execution_count": 44,
      "outputs": [
        {
          "output_type": "execute_result",
          "data": {
            "text/html": [
              "<div>\n",
              "<style scoped>\n",
              "    .dataframe tbody tr th:only-of-type {\n",
              "        vertical-align: middle;\n",
              "    }\n",
              "\n",
              "    .dataframe tbody tr th {\n",
              "        vertical-align: top;\n",
              "    }\n",
              "\n",
              "    .dataframe thead th {\n",
              "        text-align: right;\n",
              "    }\n",
              "</style>\n",
              "<table border=\"1\" class=\"dataframe\">\n",
              "  <thead>\n",
              "    <tr style=\"text-align: right;\">\n",
              "      <th></th>\n",
              "      <th>CAN ID</th>\n",
              "      <th>RTR</th>\n",
              "      <th>DLC</th>\n",
              "      <th>Data1</th>\n",
              "      <th>Data2</th>\n",
              "      <th>Data3</th>\n",
              "      <th>Data4</th>\n",
              "      <th>Data5</th>\n",
              "      <th>Data6</th>\n",
              "      <th>Data7</th>\n",
              "      <th>Data8</th>\n",
              "      <th>label</th>\n",
              "    </tr>\n",
              "  </thead>\n",
              "  <tbody>\n",
              "    <tr>\n",
              "      <th>0</th>\n",
              "      <td>0</td>\n",
              "      <td>0</td>\n",
              "      <td>8</td>\n",
              "      <td>0</td>\n",
              "      <td>0</td>\n",
              "      <td>0</td>\n",
              "      <td>0</td>\n",
              "      <td>0</td>\n",
              "      <td>0</td>\n",
              "      <td>0</td>\n",
              "      <td>0</td>\n",
              "      <td>1</td>\n",
              "    </tr>\n",
              "    <tr>\n",
              "      <th>1</th>\n",
              "      <td>128</td>\n",
              "      <td>0</td>\n",
              "      <td>8</td>\n",
              "      <td>0</td>\n",
              "      <td>23</td>\n",
              "      <td>220</td>\n",
              "      <td>9</td>\n",
              "      <td>22</td>\n",
              "      <td>17</td>\n",
              "      <td>22</td>\n",
              "      <td>187</td>\n",
              "      <td>0</td>\n",
              "    </tr>\n",
              "    <tr>\n",
              "      <th>2</th>\n",
              "      <td>0</td>\n",
              "      <td>0</td>\n",
              "      <td>8</td>\n",
              "      <td>0</td>\n",
              "      <td>0</td>\n",
              "      <td>0</td>\n",
              "      <td>0</td>\n",
              "      <td>0</td>\n",
              "      <td>0</td>\n",
              "      <td>0</td>\n",
              "      <td>0</td>\n",
              "      <td>1</td>\n",
              "    </tr>\n",
              "    <tr>\n",
              "      <th>3</th>\n",
              "      <td>129</td>\n",
              "      <td>0</td>\n",
              "      <td>8</td>\n",
              "      <td>64</td>\n",
              "      <td>132</td>\n",
              "      <td>135</td>\n",
              "      <td>0</td>\n",
              "      <td>0</td>\n",
              "      <td>0</td>\n",
              "      <td>0</td>\n",
              "      <td>107</td>\n",
              "      <td>0</td>\n",
              "    </tr>\n",
              "    <tr>\n",
              "      <th>4</th>\n",
              "      <td>0</td>\n",
              "      <td>0</td>\n",
              "      <td>8</td>\n",
              "      <td>0</td>\n",
              "      <td>0</td>\n",
              "      <td>0</td>\n",
              "      <td>0</td>\n",
              "      <td>0</td>\n",
              "      <td>0</td>\n",
              "      <td>0</td>\n",
              "      <td>0</td>\n",
              "      <td>1</td>\n",
              "    </tr>\n",
              "    <tr>\n",
              "      <th>...</th>\n",
              "      <td>...</td>\n",
              "      <td>...</td>\n",
              "      <td>...</td>\n",
              "      <td>...</td>\n",
              "      <td>...</td>\n",
              "      <td>...</td>\n",
              "      <td>...</td>\n",
              "      <td>...</td>\n",
              "      <td>...</td>\n",
              "      <td>...</td>\n",
              "      <td>...</td>\n",
              "      <td>...</td>\n",
              "    </tr>\n",
              "    <tr>\n",
              "      <th>656574</th>\n",
              "      <td>0</td>\n",
              "      <td>0</td>\n",
              "      <td>8</td>\n",
              "      <td>0</td>\n",
              "      <td>0</td>\n",
              "      <td>0</td>\n",
              "      <td>0</td>\n",
              "      <td>0</td>\n",
              "      <td>0</td>\n",
              "      <td>0</td>\n",
              "      <td>0</td>\n",
              "      <td>1</td>\n",
              "    </tr>\n",
              "    <tr>\n",
              "      <th>656575</th>\n",
              "      <td>129</td>\n",
              "      <td>0</td>\n",
              "      <td>8</td>\n",
              "      <td>64</td>\n",
              "      <td>132</td>\n",
              "      <td>137</td>\n",
              "      <td>0</td>\n",
              "      <td>0</td>\n",
              "      <td>0</td>\n",
              "      <td>0</td>\n",
              "      <td>240</td>\n",
              "      <td>0</td>\n",
              "    </tr>\n",
              "    <tr>\n",
              "      <th>656576</th>\n",
              "      <td>0</td>\n",
              "      <td>0</td>\n",
              "      <td>8</td>\n",
              "      <td>0</td>\n",
              "      <td>0</td>\n",
              "      <td>0</td>\n",
              "      <td>0</td>\n",
              "      <td>0</td>\n",
              "      <td>0</td>\n",
              "      <td>0</td>\n",
              "      <td>0</td>\n",
              "      <td>1</td>\n",
              "    </tr>\n",
              "    <tr>\n",
              "      <th>656577</th>\n",
              "      <td>399</td>\n",
              "      <td>0</td>\n",
              "      <td>8</td>\n",
              "      <td>0</td>\n",
              "      <td>59</td>\n",
              "      <td>24</td>\n",
              "      <td>0</td>\n",
              "      <td>0</td>\n",
              "      <td>63</td>\n",
              "      <td>0</td>\n",
              "      <td>0</td>\n",
              "      <td>0</td>\n",
              "    </tr>\n",
              "    <tr>\n",
              "      <th>656578</th>\n",
              "      <td>0</td>\n",
              "      <td>0</td>\n",
              "      <td>8</td>\n",
              "      <td>0</td>\n",
              "      <td>0</td>\n",
              "      <td>0</td>\n",
              "      <td>0</td>\n",
              "      <td>0</td>\n",
              "      <td>0</td>\n",
              "      <td>0</td>\n",
              "      <td>0</td>\n",
              "      <td>1</td>\n",
              "    </tr>\n",
              "  </tbody>\n",
              "</table>\n",
              "<p>656579 rows × 12 columns</p>\n",
              "</div>"
            ],
            "text/plain": [
              "        CAN ID  RTR  DLC  Data1  Data2  ...  Data5  Data6  Data7  Data8  label\n",
              "0            0    0    8      0      0  ...      0      0      0      0      1\n",
              "1          128    0    8      0     23  ...     22     17     22    187      0\n",
              "2            0    0    8      0      0  ...      0      0      0      0      1\n",
              "3          129    0    8     64    132  ...      0      0      0    107      0\n",
              "4            0    0    8      0      0  ...      0      0      0      0      1\n",
              "...        ...  ...  ...    ...    ...  ...    ...    ...    ...    ...    ...\n",
              "656574       0    0    8      0      0  ...      0      0      0      0      1\n",
              "656575     129    0    8     64    132  ...      0      0      0    240      0\n",
              "656576       0    0    8      0      0  ...      0      0      0      0      1\n",
              "656577     399    0    8      0     59  ...      0     63      0      0      0\n",
              "656578       0    0    8      0      0  ...      0      0      0      0      1\n",
              "\n",
              "[656579 rows x 12 columns]"
            ]
          },
          "metadata": {
            "tags": []
          },
          "execution_count": 44
        }
      ]
    },
    {
      "cell_type": "code",
      "metadata": {
        "id": "8Ehz3HtDPXyz",
        "colab": {
          "base_uri": "https://localhost:8080/",
          "height": 402
        },
        "outputId": "6baffa15-254e-446c-b788-3067ef97cb0e"
      },
      "source": [
        "df = pd.read_csv('/content/drive/My Drive/Colab Notebooks/CS581/project-data/Attack_free_dataset.csv')\n",
        "df['label'] = 0\n",
        "df = df.drop(columns=['Timestamp'])\n",
        "df"
      ],
      "execution_count": 45,
      "outputs": [
        {
          "output_type": "execute_result",
          "data": {
            "text/html": [
              "<div>\n",
              "<style scoped>\n",
              "    .dataframe tbody tr th:only-of-type {\n",
              "        vertical-align: middle;\n",
              "    }\n",
              "\n",
              "    .dataframe tbody tr th {\n",
              "        vertical-align: top;\n",
              "    }\n",
              "\n",
              "    .dataframe thead th {\n",
              "        text-align: right;\n",
              "    }\n",
              "</style>\n",
              "<table border=\"1\" class=\"dataframe\">\n",
              "  <thead>\n",
              "    <tr style=\"text-align: right;\">\n",
              "      <th></th>\n",
              "      <th>CAN ID</th>\n",
              "      <th>RTR</th>\n",
              "      <th>DLC</th>\n",
              "      <th>Data1</th>\n",
              "      <th>Data2</th>\n",
              "      <th>Data3</th>\n",
              "      <th>Data4</th>\n",
              "      <th>Data5</th>\n",
              "      <th>Data6</th>\n",
              "      <th>Data7</th>\n",
              "      <th>Data8</th>\n",
              "      <th>label</th>\n",
              "    </tr>\n",
              "  </thead>\n",
              "  <tbody>\n",
              "    <tr>\n",
              "      <th>0</th>\n",
              "      <td>790</td>\n",
              "      <td>0</td>\n",
              "      <td>8</td>\n",
              "      <td>5</td>\n",
              "      <td>32</td>\n",
              "      <td>234</td>\n",
              "      <td>10</td>\n",
              "      <td>32</td>\n",
              "      <td>26</td>\n",
              "      <td>0</td>\n",
              "      <td>127</td>\n",
              "      <td>0</td>\n",
              "    </tr>\n",
              "    <tr>\n",
              "      <th>1</th>\n",
              "      <td>809</td>\n",
              "      <td>0</td>\n",
              "      <td>8</td>\n",
              "      <td>215</td>\n",
              "      <td>167</td>\n",
              "      <td>127</td>\n",
              "      <td>140</td>\n",
              "      <td>17</td>\n",
              "      <td>47</td>\n",
              "      <td>0</td>\n",
              "      <td>16</td>\n",
              "      <td>0</td>\n",
              "    </tr>\n",
              "    <tr>\n",
              "      <th>2</th>\n",
              "      <td>128</td>\n",
              "      <td>0</td>\n",
              "      <td>8</td>\n",
              "      <td>0</td>\n",
              "      <td>23</td>\n",
              "      <td>234</td>\n",
              "      <td>10</td>\n",
              "      <td>32</td>\n",
              "      <td>26</td>\n",
              "      <td>32</td>\n",
              "      <td>67</td>\n",
              "      <td>0</td>\n",
              "    </tr>\n",
              "    <tr>\n",
              "      <th>3</th>\n",
              "      <td>129</td>\n",
              "      <td>0</td>\n",
              "      <td>8</td>\n",
              "      <td>127</td>\n",
              "      <td>132</td>\n",
              "      <td>96</td>\n",
              "      <td>0</td>\n",
              "      <td>0</td>\n",
              "      <td>0</td>\n",
              "      <td>0</td>\n",
              "      <td>83</td>\n",
              "      <td>0</td>\n",
              "    </tr>\n",
              "    <tr>\n",
              "      <th>4</th>\n",
              "      <td>288</td>\n",
              "      <td>0</td>\n",
              "      <td>4</td>\n",
              "      <td>0</td>\n",
              "      <td>0</td>\n",
              "      <td>0</td>\n",
              "      <td>0</td>\n",
              "      <td>0</td>\n",
              "      <td>0</td>\n",
              "      <td>0</td>\n",
              "      <td>0</td>\n",
              "      <td>0</td>\n",
              "    </tr>\n",
              "    <tr>\n",
              "      <th>...</th>\n",
              "      <td>...</td>\n",
              "      <td>...</td>\n",
              "      <td>...</td>\n",
              "      <td>...</td>\n",
              "      <td>...</td>\n",
              "      <td>...</td>\n",
              "      <td>...</td>\n",
              "      <td>...</td>\n",
              "      <td>...</td>\n",
              "      <td>...</td>\n",
              "      <td>...</td>\n",
              "      <td>...</td>\n",
              "    </tr>\n",
              "    <tr>\n",
              "      <th>2369393</th>\n",
              "      <td>68</td>\n",
              "      <td>0</td>\n",
              "      <td>8</td>\n",
              "      <td>0</td>\n",
              "      <td>0</td>\n",
              "      <td>0</td>\n",
              "      <td>255</td>\n",
              "      <td>111</td>\n",
              "      <td>0</td>\n",
              "      <td>0</td>\n",
              "      <td>0</td>\n",
              "      <td>0</td>\n",
              "    </tr>\n",
              "    <tr>\n",
              "      <th>2369394</th>\n",
              "      <td>357</td>\n",
              "      <td>0</td>\n",
              "      <td>8</td>\n",
              "      <td>17</td>\n",
              "      <td>232</td>\n",
              "      <td>127</td>\n",
              "      <td>0</td>\n",
              "      <td>0</td>\n",
              "      <td>0</td>\n",
              "      <td>12</td>\n",
              "      <td>138</td>\n",
              "      <td>0</td>\n",
              "    </tr>\n",
              "    <tr>\n",
              "      <th>2369395</th>\n",
              "      <td>688</td>\n",
              "      <td>0</td>\n",
              "      <td>5</td>\n",
              "      <td>35</td>\n",
              "      <td>0</td>\n",
              "      <td>0</td>\n",
              "      <td>7</td>\n",
              "      <td>172</td>\n",
              "      <td>0</td>\n",
              "      <td>0</td>\n",
              "      <td>0</td>\n",
              "      <td>0</td>\n",
              "    </tr>\n",
              "    <tr>\n",
              "      <th>2369396</th>\n",
              "      <td>1200</td>\n",
              "      <td>0</td>\n",
              "      <td>8</td>\n",
              "      <td>0</td>\n",
              "      <td>0</td>\n",
              "      <td>0</td>\n",
              "      <td>0</td>\n",
              "      <td>0</td>\n",
              "      <td>0</td>\n",
              "      <td>0</td>\n",
              "      <td>0</td>\n",
              "      <td>0</td>\n",
              "    </tr>\n",
              "    <tr>\n",
              "      <th>2369397</th>\n",
              "      <td>356</td>\n",
              "      <td>0</td>\n",
              "      <td>8</td>\n",
              "      <td>0</td>\n",
              "      <td>8</td>\n",
              "      <td>0</td>\n",
              "      <td>0</td>\n",
              "      <td>0</td>\n",
              "      <td>0</td>\n",
              "      <td>8</td>\n",
              "      <td>0</td>\n",
              "      <td>0</td>\n",
              "    </tr>\n",
              "  </tbody>\n",
              "</table>\n",
              "<p>2369398 rows × 12 columns</p>\n",
              "</div>"
            ],
            "text/plain": [
              "         CAN ID  RTR  DLC  Data1  Data2  ...  Data5  Data6  Data7  Data8  label\n",
              "0           790    0    8      5     32  ...     32     26      0    127      0\n",
              "1           809    0    8    215    167  ...     17     47      0     16      0\n",
              "2           128    0    8      0     23  ...     32     26     32     67      0\n",
              "3           129    0    8    127    132  ...      0      0      0     83      0\n",
              "4           288    0    4      0      0  ...      0      0      0      0      0\n",
              "...         ...  ...  ...    ...    ...  ...    ...    ...    ...    ...    ...\n",
              "2369393      68    0    8      0      0  ...    111      0      0      0      0\n",
              "2369394     357    0    8     17    232  ...      0      0     12    138      0\n",
              "2369395     688    0    5     35      0  ...    172      0      0      0      0\n",
              "2369396    1200    0    8      0      0  ...      0      0      0      0      0\n",
              "2369397     356    0    8      0      8  ...      0      0      8      0      0\n",
              "\n",
              "[2369398 rows x 12 columns]"
            ]
          },
          "metadata": {
            "tags": []
          },
          "execution_count": 45
        }
      ]
    },
    {
      "cell_type": "markdown",
      "metadata": {
        "id": "0nsmRk_HX9zh"
      },
      "source": [
        "* Here we toss out the timestamp column as in this approach it is not informative about the nature of the outlier.\n",
        "* It also helps us balance out the problems encountered in the previous attack-free and Dos attack experiments.\n",
        "\n",
        "* in the attack free dataset - all the packets were normal data and so had to be labelled with only one value, training a model on single class data does not means it learns anything.\n",
        "\n",
        "* in the Dos Attack experiment, every second message is a dos attack message, leaving the dataset evenly split 50:50 on anomalies/normal network data, but there is not enough contiguous network data for it to learn normal state nor attack state, and as a result it's accuracy is averaging around 50%"
      ]
    },
    {
      "cell_type": "code",
      "metadata": {
        "colab": {
          "base_uri": "https://localhost:8080/",
          "height": 402
        },
        "id": "xSrz-9IfAXPf",
        "outputId": "7c6369d9-73f8-4c4e-ed04-b7201fbc29b4"
      },
      "source": [
        "newdf = df.append(dosdf)\r\n",
        "newdf"
      ],
      "execution_count": 46,
      "outputs": [
        {
          "output_type": "execute_result",
          "data": {
            "text/html": [
              "<div>\n",
              "<style scoped>\n",
              "    .dataframe tbody tr th:only-of-type {\n",
              "        vertical-align: middle;\n",
              "    }\n",
              "\n",
              "    .dataframe tbody tr th {\n",
              "        vertical-align: top;\n",
              "    }\n",
              "\n",
              "    .dataframe thead th {\n",
              "        text-align: right;\n",
              "    }\n",
              "</style>\n",
              "<table border=\"1\" class=\"dataframe\">\n",
              "  <thead>\n",
              "    <tr style=\"text-align: right;\">\n",
              "      <th></th>\n",
              "      <th>CAN ID</th>\n",
              "      <th>RTR</th>\n",
              "      <th>DLC</th>\n",
              "      <th>Data1</th>\n",
              "      <th>Data2</th>\n",
              "      <th>Data3</th>\n",
              "      <th>Data4</th>\n",
              "      <th>Data5</th>\n",
              "      <th>Data6</th>\n",
              "      <th>Data7</th>\n",
              "      <th>Data8</th>\n",
              "      <th>label</th>\n",
              "    </tr>\n",
              "  </thead>\n",
              "  <tbody>\n",
              "    <tr>\n",
              "      <th>0</th>\n",
              "      <td>790</td>\n",
              "      <td>0</td>\n",
              "      <td>8</td>\n",
              "      <td>5</td>\n",
              "      <td>32</td>\n",
              "      <td>234</td>\n",
              "      <td>10</td>\n",
              "      <td>32</td>\n",
              "      <td>26</td>\n",
              "      <td>0</td>\n",
              "      <td>127</td>\n",
              "      <td>0</td>\n",
              "    </tr>\n",
              "    <tr>\n",
              "      <th>1</th>\n",
              "      <td>809</td>\n",
              "      <td>0</td>\n",
              "      <td>8</td>\n",
              "      <td>215</td>\n",
              "      <td>167</td>\n",
              "      <td>127</td>\n",
              "      <td>140</td>\n",
              "      <td>17</td>\n",
              "      <td>47</td>\n",
              "      <td>0</td>\n",
              "      <td>16</td>\n",
              "      <td>0</td>\n",
              "    </tr>\n",
              "    <tr>\n",
              "      <th>2</th>\n",
              "      <td>128</td>\n",
              "      <td>0</td>\n",
              "      <td>8</td>\n",
              "      <td>0</td>\n",
              "      <td>23</td>\n",
              "      <td>234</td>\n",
              "      <td>10</td>\n",
              "      <td>32</td>\n",
              "      <td>26</td>\n",
              "      <td>32</td>\n",
              "      <td>67</td>\n",
              "      <td>0</td>\n",
              "    </tr>\n",
              "    <tr>\n",
              "      <th>3</th>\n",
              "      <td>129</td>\n",
              "      <td>0</td>\n",
              "      <td>8</td>\n",
              "      <td>127</td>\n",
              "      <td>132</td>\n",
              "      <td>96</td>\n",
              "      <td>0</td>\n",
              "      <td>0</td>\n",
              "      <td>0</td>\n",
              "      <td>0</td>\n",
              "      <td>83</td>\n",
              "      <td>0</td>\n",
              "    </tr>\n",
              "    <tr>\n",
              "      <th>4</th>\n",
              "      <td>288</td>\n",
              "      <td>0</td>\n",
              "      <td>4</td>\n",
              "      <td>0</td>\n",
              "      <td>0</td>\n",
              "      <td>0</td>\n",
              "      <td>0</td>\n",
              "      <td>0</td>\n",
              "      <td>0</td>\n",
              "      <td>0</td>\n",
              "      <td>0</td>\n",
              "      <td>0</td>\n",
              "    </tr>\n",
              "    <tr>\n",
              "      <th>...</th>\n",
              "      <td>...</td>\n",
              "      <td>...</td>\n",
              "      <td>...</td>\n",
              "      <td>...</td>\n",
              "      <td>...</td>\n",
              "      <td>...</td>\n",
              "      <td>...</td>\n",
              "      <td>...</td>\n",
              "      <td>...</td>\n",
              "      <td>...</td>\n",
              "      <td>...</td>\n",
              "      <td>...</td>\n",
              "    </tr>\n",
              "    <tr>\n",
              "      <th>656574</th>\n",
              "      <td>0</td>\n",
              "      <td>0</td>\n",
              "      <td>8</td>\n",
              "      <td>0</td>\n",
              "      <td>0</td>\n",
              "      <td>0</td>\n",
              "      <td>0</td>\n",
              "      <td>0</td>\n",
              "      <td>0</td>\n",
              "      <td>0</td>\n",
              "      <td>0</td>\n",
              "      <td>1</td>\n",
              "    </tr>\n",
              "    <tr>\n",
              "      <th>656575</th>\n",
              "      <td>129</td>\n",
              "      <td>0</td>\n",
              "      <td>8</td>\n",
              "      <td>64</td>\n",
              "      <td>132</td>\n",
              "      <td>137</td>\n",
              "      <td>0</td>\n",
              "      <td>0</td>\n",
              "      <td>0</td>\n",
              "      <td>0</td>\n",
              "      <td>240</td>\n",
              "      <td>0</td>\n",
              "    </tr>\n",
              "    <tr>\n",
              "      <th>656576</th>\n",
              "      <td>0</td>\n",
              "      <td>0</td>\n",
              "      <td>8</td>\n",
              "      <td>0</td>\n",
              "      <td>0</td>\n",
              "      <td>0</td>\n",
              "      <td>0</td>\n",
              "      <td>0</td>\n",
              "      <td>0</td>\n",
              "      <td>0</td>\n",
              "      <td>0</td>\n",
              "      <td>1</td>\n",
              "    </tr>\n",
              "    <tr>\n",
              "      <th>656577</th>\n",
              "      <td>399</td>\n",
              "      <td>0</td>\n",
              "      <td>8</td>\n",
              "      <td>0</td>\n",
              "      <td>59</td>\n",
              "      <td>24</td>\n",
              "      <td>0</td>\n",
              "      <td>0</td>\n",
              "      <td>63</td>\n",
              "      <td>0</td>\n",
              "      <td>0</td>\n",
              "      <td>0</td>\n",
              "    </tr>\n",
              "    <tr>\n",
              "      <th>656578</th>\n",
              "      <td>0</td>\n",
              "      <td>0</td>\n",
              "      <td>8</td>\n",
              "      <td>0</td>\n",
              "      <td>0</td>\n",
              "      <td>0</td>\n",
              "      <td>0</td>\n",
              "      <td>0</td>\n",
              "      <td>0</td>\n",
              "      <td>0</td>\n",
              "      <td>0</td>\n",
              "      <td>1</td>\n",
              "    </tr>\n",
              "  </tbody>\n",
              "</table>\n",
              "<p>3025977 rows × 12 columns</p>\n",
              "</div>"
            ],
            "text/plain": [
              "        CAN ID  RTR  DLC  Data1  Data2  ...  Data5  Data6  Data7  Data8  label\n",
              "0          790    0    8      5     32  ...     32     26      0    127      0\n",
              "1          809    0    8    215    167  ...     17     47      0     16      0\n",
              "2          128    0    8      0     23  ...     32     26     32     67      0\n",
              "3          129    0    8    127    132  ...      0      0      0     83      0\n",
              "4          288    0    4      0      0  ...      0      0      0      0      0\n",
              "...        ...  ...  ...    ...    ...  ...    ...    ...    ...    ...    ...\n",
              "656574       0    0    8      0      0  ...      0      0      0      0      1\n",
              "656575     129    0    8     64    132  ...      0      0      0    240      0\n",
              "656576       0    0    8      0      0  ...      0      0      0      0      1\n",
              "656577     399    0    8      0     59  ...      0     63      0      0      0\n",
              "656578       0    0    8      0      0  ...      0      0      0      0      1\n",
              "\n",
              "[3025977 rows x 12 columns]"
            ]
          },
          "metadata": {
            "tags": []
          },
          "execution_count": 46
        }
      ]
    },
    {
      "cell_type": "code",
      "metadata": {
        "colab": {
          "base_uri": "https://localhost:8080/",
          "height": 136
        },
        "id": "snE3lrDjSwcm",
        "outputId": "fd910404-7958-45c9-f5a7-24961de569bf"
      },
      "source": [
        "newdf.groupby('label').count()"
      ],
      "execution_count": 47,
      "outputs": [
        {
          "output_type": "execute_result",
          "data": {
            "text/html": [
              "<div>\n",
              "<style scoped>\n",
              "    .dataframe tbody tr th:only-of-type {\n",
              "        vertical-align: middle;\n",
              "    }\n",
              "\n",
              "    .dataframe tbody tr th {\n",
              "        vertical-align: top;\n",
              "    }\n",
              "\n",
              "    .dataframe thead th {\n",
              "        text-align: right;\n",
              "    }\n",
              "</style>\n",
              "<table border=\"1\" class=\"dataframe\">\n",
              "  <thead>\n",
              "    <tr style=\"text-align: right;\">\n",
              "      <th></th>\n",
              "      <th>CAN ID</th>\n",
              "      <th>RTR</th>\n",
              "      <th>DLC</th>\n",
              "      <th>Data1</th>\n",
              "      <th>Data2</th>\n",
              "      <th>Data3</th>\n",
              "      <th>Data4</th>\n",
              "      <th>Data5</th>\n",
              "      <th>Data6</th>\n",
              "      <th>Data7</th>\n",
              "      <th>Data8</th>\n",
              "    </tr>\n",
              "    <tr>\n",
              "      <th>label</th>\n",
              "      <th></th>\n",
              "      <th></th>\n",
              "      <th></th>\n",
              "      <th></th>\n",
              "      <th></th>\n",
              "      <th></th>\n",
              "      <th></th>\n",
              "      <th></th>\n",
              "      <th></th>\n",
              "      <th></th>\n",
              "      <th></th>\n",
              "    </tr>\n",
              "  </thead>\n",
              "  <tbody>\n",
              "    <tr>\n",
              "      <th>0</th>\n",
              "      <td>2690353</td>\n",
              "      <td>2690353</td>\n",
              "      <td>2690353</td>\n",
              "      <td>2690353</td>\n",
              "      <td>2690353</td>\n",
              "      <td>2690353</td>\n",
              "      <td>2690353</td>\n",
              "      <td>2690353</td>\n",
              "      <td>2690353</td>\n",
              "      <td>2690353</td>\n",
              "      <td>2690353</td>\n",
              "    </tr>\n",
              "    <tr>\n",
              "      <th>1</th>\n",
              "      <td>335624</td>\n",
              "      <td>335624</td>\n",
              "      <td>335624</td>\n",
              "      <td>335624</td>\n",
              "      <td>335624</td>\n",
              "      <td>335624</td>\n",
              "      <td>335624</td>\n",
              "      <td>335624</td>\n",
              "      <td>335624</td>\n",
              "      <td>335624</td>\n",
              "      <td>335624</td>\n",
              "    </tr>\n",
              "  </tbody>\n",
              "</table>\n",
              "</div>"
            ],
            "text/plain": [
              "        CAN ID      RTR      DLC    Data1  ...    Data5    Data6    Data7    Data8\n",
              "label                                      ...                                    \n",
              "0      2690353  2690353  2690353  2690353  ...  2690353  2690353  2690353  2690353\n",
              "1       335624   335624   335624   335624  ...   335624   335624   335624   335624\n",
              "\n",
              "[2 rows x 11 columns]"
            ]
          },
          "metadata": {
            "tags": []
          },
          "execution_count": 47
        }
      ]
    },
    {
      "cell_type": "code",
      "metadata": {
        "colab": {
          "base_uri": "https://localhost:8080/"
        },
        "id": "e8VcGP7ES1qJ",
        "outputId": "f63fbf00-9e43-4f0d-8979-d82f170ef599"
      },
      "source": [
        "335624/2690353"
      ],
      "execution_count": 48,
      "outputs": [
        {
          "output_type": "execute_result",
          "data": {
            "text/plain": [
              "0.1247509155861703"
            ]
          },
          "metadata": {
            "tags": []
          },
          "execution_count": 48
        }
      ]
    },
    {
      "cell_type": "markdown",
      "metadata": {
        "id": "FLwYzDg7laDI"
      },
      "source": [
        "# Effect of Model Size and Layers"
      ]
    },
    {
      "cell_type": "markdown",
      "metadata": {
        "id": "vf4IhUF-KNmW"
      },
      "source": [
        "# Installing and testing TCNs: Exploring applications"
      ]
    },
    {
      "cell_type": "code",
      "metadata": {
        "colab": {
          "base_uri": "https://localhost:8080/"
        },
        "id": "ZpXEiSYEiIUr",
        "outputId": "d8f21c72-8544-4c34-beb0-8956f671bdac"
      },
      "source": [
        "!pip install keras-tcn"
      ],
      "execution_count": 57,
      "outputs": [
        {
          "output_type": "stream",
          "text": [
            "Requirement already satisfied: keras-tcn in /usr/local/lib/python3.6/dist-packages (3.1.1)\n",
            "Requirement already satisfied: numpy>=1.18.1 in /usr/local/lib/python3.6/dist-packages (from keras-tcn) (1.18.5)\n",
            "Requirement already satisfied: keras==2.3.1 in /usr/local/lib/python3.6/dist-packages (from keras-tcn) (2.3.1)\n",
            "Requirement already satisfied: h5py in /usr/local/lib/python3.6/dist-packages (from keras==2.3.1->keras-tcn) (2.10.0)\n",
            "Requirement already satisfied: six>=1.9.0 in /usr/local/lib/python3.6/dist-packages (from keras==2.3.1->keras-tcn) (1.15.0)\n",
            "Requirement already satisfied: keras-preprocessing>=1.0.5 in /usr/local/lib/python3.6/dist-packages (from keras==2.3.1->keras-tcn) (1.1.2)\n",
            "Requirement already satisfied: scipy>=0.14 in /usr/local/lib/python3.6/dist-packages (from keras==2.3.1->keras-tcn) (1.4.1)\n",
            "Requirement already satisfied: pyyaml in /usr/local/lib/python3.6/dist-packages (from keras==2.3.1->keras-tcn) (3.13)\n",
            "Requirement already satisfied: keras-applications>=1.0.6 in /usr/local/lib/python3.6/dist-packages (from keras==2.3.1->keras-tcn) (1.0.8)\n"
          ],
          "name": "stdout"
        }
      ]
    },
    {
      "cell_type": "code",
      "metadata": {
        "id": "pp1vSaRCiZPX"
      },
      "source": [
        "from tensorflow.keras.layers import Dense\n",
        "from tensorflow.keras import Input, Model\n",
        "\n",
        "from tcn import TCN, tcn_full_summary\n",
        "\n",
        "batch_size, timesteps, input_dim = None, 20, 1"
      ],
      "execution_count": 11,
      "outputs": []
    },
    {
      "cell_type": "code",
      "metadata": {
        "id": "yWKpL2g4o2ee"
      },
      "source": [
        "def get_x_y(size=1000):\n",
        "    import numpy as np\n",
        "    pos_indices = np.random.choice(size, size=int(size // 2), replace=False)\n",
        "    x_train = np.zeros(shape=(size, timesteps, 1))\n",
        "    y_train = np.zeros(shape=(size, 1))\n",
        "    x_train[pos_indices, 0] = 1.0\n",
        "    y_train[pos_indices, 0] = 1.0\n",
        "    return x_train, y_train"
      ],
      "execution_count": 12,
      "outputs": []
    },
    {
      "cell_type": "code",
      "metadata": {
        "colab": {
          "base_uri": "https://localhost:8080/"
        },
        "id": "J6DEfoyFozAD",
        "outputId": "ae530145-78a0-45d2-9a6b-407d28735e19"
      },
      "source": [
        "i = Input(batch_shape=(batch_size, timesteps, input_dim))\n",
        "\n",
        "o = TCN(return_sequences=False)(i)  # The TCN layers are here.\n",
        "o = Dense(1)(o)\n",
        "\n",
        "m = Model(inputs=[i], outputs=[o])\n",
        "m.compile(optimizer='adam', loss='mse')\n",
        "\n",
        "tcn_full_summary(m, expand_residual_blocks=True)\n",
        "\n",
        "x, y = get_x_y()\n",
        "m.fit(x, y, epochs=10, validation_split=0.2)"
      ],
      "execution_count": 13,
      "outputs": [
        {
          "output_type": "stream",
          "text": [
            "Model: \"functional_1\"\n",
            "_________________________________________________________________\n",
            "Layer (type)                 Output Shape              Param #   \n",
            "=================================================================\n",
            "input_1 (InputLayer)         [(None, 20, 1)]           0         \n",
            "_________________________________________________________________\n",
            "matching_conv1D (Conv1D)     (None, 20, 64)            128       \n",
            "_________________________________________________________________\n",
            "activation_2 (Activation)    (None, 20, 64)            0         \n",
            "_________________________________________________________________\n",
            "conv1D_0 (Conv1D)            (None, 20, 64)            192       \n",
            "_________________________________________________________________\n",
            "activation (Activation)      (None, 20, 64)            0         \n",
            "_________________________________________________________________\n",
            "spatial_dropout1d (SpatialDr (None, 20, 64)            0         \n",
            "_________________________________________________________________\n",
            "conv1D_1 (Conv1D)            (None, 20, 64)            8256      \n",
            "_________________________________________________________________\n",
            "activation_1 (Activation)    (None, 20, 64)            0         \n",
            "_________________________________________________________________\n",
            "spatial_dropout1d_1 (Spatial (None, 20, 64)            0         \n",
            "_________________________________________________________________\n",
            "matching_identity (Lambda)   (None, 20, 64)            0         \n",
            "_________________________________________________________________\n",
            "activation_5 (Activation)    (None, 20, 64)            0         \n",
            "_________________________________________________________________\n",
            "conv1D_0 (Conv1D)            (None, 20, 64)            8256      \n",
            "_________________________________________________________________\n",
            "activation_3 (Activation)    (None, 20, 64)            0         \n",
            "_________________________________________________________________\n",
            "spatial_dropout1d_2 (Spatial (None, 20, 64)            0         \n",
            "_________________________________________________________________\n",
            "conv1D_1 (Conv1D)            (None, 20, 64)            8256      \n",
            "_________________________________________________________________\n",
            "activation_4 (Activation)    (None, 20, 64)            0         \n",
            "_________________________________________________________________\n",
            "spatial_dropout1d_3 (Spatial (None, 20, 64)            0         \n",
            "_________________________________________________________________\n",
            "matching_identity (Lambda)   (None, 20, 64)            0         \n",
            "_________________________________________________________________\n",
            "activation_8 (Activation)    (None, 20, 64)            0         \n",
            "_________________________________________________________________\n",
            "conv1D_0 (Conv1D)            (None, 20, 64)            8256      \n",
            "_________________________________________________________________\n",
            "activation_6 (Activation)    (None, 20, 64)            0         \n",
            "_________________________________________________________________\n",
            "spatial_dropout1d_4 (Spatial (None, 20, 64)            0         \n",
            "_________________________________________________________________\n",
            "conv1D_1 (Conv1D)            (None, 20, 64)            8256      \n",
            "_________________________________________________________________\n",
            "activation_7 (Activation)    (None, 20, 64)            0         \n",
            "_________________________________________________________________\n",
            "spatial_dropout1d_5 (Spatial (None, 20, 64)            0         \n",
            "_________________________________________________________________\n",
            "matching_identity (Lambda)   (None, 20, 64)            0         \n",
            "_________________________________________________________________\n",
            "activation_11 (Activation)   (None, 20, 64)            0         \n",
            "_________________________________________________________________\n",
            "conv1D_0 (Conv1D)            (None, 20, 64)            8256      \n",
            "_________________________________________________________________\n",
            "activation_9 (Activation)    (None, 20, 64)            0         \n",
            "_________________________________________________________________\n",
            "spatial_dropout1d_6 (Spatial (None, 20, 64)            0         \n",
            "_________________________________________________________________\n",
            "conv1D_1 (Conv1D)            (None, 20, 64)            8256      \n",
            "_________________________________________________________________\n",
            "activation_10 (Activation)   (None, 20, 64)            0         \n",
            "_________________________________________________________________\n",
            "spatial_dropout1d_7 (Spatial (None, 20, 64)            0         \n",
            "_________________________________________________________________\n",
            "matching_identity (Lambda)   (None, 20, 64)            0         \n",
            "_________________________________________________________________\n",
            "activation_14 (Activation)   (None, 20, 64)            0         \n",
            "_________________________________________________________________\n",
            "conv1D_0 (Conv1D)            (None, 20, 64)            8256      \n",
            "_________________________________________________________________\n",
            "activation_12 (Activation)   (None, 20, 64)            0         \n",
            "_________________________________________________________________\n",
            "spatial_dropout1d_8 (Spatial (None, 20, 64)            0         \n",
            "_________________________________________________________________\n",
            "conv1D_1 (Conv1D)            (None, 20, 64)            8256      \n",
            "_________________________________________________________________\n",
            "activation_13 (Activation)   (None, 20, 64)            0         \n",
            "_________________________________________________________________\n",
            "spatial_dropout1d_9 (Spatial (None, 20, 64)            0         \n",
            "_________________________________________________________________\n",
            "matching_identity (Lambda)   (None, 20, 64)            0         \n",
            "_________________________________________________________________\n",
            "activation_17 (Activation)   (None, 20, 64)            0         \n",
            "_________________________________________________________________\n",
            "conv1D_0 (Conv1D)            (None, 20, 64)            8256      \n",
            "_________________________________________________________________\n",
            "activation_15 (Activation)   (None, 20, 64)            0         \n",
            "_________________________________________________________________\n",
            "spatial_dropout1d_10 (Spatia (None, 20, 64)            0         \n",
            "_________________________________________________________________\n",
            "conv1D_1 (Conv1D)            (None, 20, 64)            8256      \n",
            "_________________________________________________________________\n",
            "activation_16 (Activation)   (None, 20, 64)            0         \n",
            "_________________________________________________________________\n",
            "spatial_dropout1d_11 (Spatia (None, 20, 64)            0         \n",
            "_________________________________________________________________\n",
            "lambda (Lambda)              (None, 64)                0         \n",
            "_________________________________________________________________\n",
            "dense (Dense)                (None, 1)                 65        \n",
            "=================================================================\n",
            "Total params: 91,201\n",
            "Trainable params: 91,201\n",
            "Non-trainable params: 0\n",
            "_________________________________________________________________\n",
            "Epoch 1/10\n",
            "25/25 [==============================] - 1s 26ms/step - loss: 0.7857 - val_loss: 0.0054\n",
            "Epoch 2/10\n",
            "25/25 [==============================] - 0s 7ms/step - loss: 0.0014 - val_loss: 2.7106e-04\n",
            "Epoch 3/10\n",
            "25/25 [==============================] - 0s 6ms/step - loss: 8.1614e-05 - val_loss: 2.9049e-06\n",
            "Epoch 4/10\n",
            "25/25 [==============================] - 0s 6ms/step - loss: 6.1368e-06 - val_loss: 3.0851e-06\n",
            "Epoch 5/10\n",
            "25/25 [==============================] - 0s 6ms/step - loss: 6.9384e-07 - val_loss: 1.5359e-07\n",
            "Epoch 6/10\n",
            "25/25 [==============================] - 0s 6ms/step - loss: 4.9857e-08 - val_loss: 6.8575e-10\n",
            "Epoch 7/10\n",
            "25/25 [==============================] - 0s 6ms/step - loss: 3.9286e-09 - val_loss: 1.5129e-09\n",
            "Epoch 8/10\n",
            "25/25 [==============================] - 0s 6ms/step - loss: 3.0474e-10 - val_loss: 3.3539e-11\n",
            "Epoch 9/10\n",
            "25/25 [==============================] - 0s 6ms/step - loss: 9.1282e-12 - val_loss: 4.7799e-14\n",
            "Epoch 10/10\n",
            "25/25 [==============================] - 0s 6ms/step - loss: 6.4242e-13 - val_loss: 1.6920e-13\n"
          ],
          "name": "stdout"
        },
        {
          "output_type": "execute_result",
          "data": {
            "text/plain": [
              "<tensorflow.python.keras.callbacks.History at 0x7f2a0a647e48>"
            ]
          },
          "metadata": {
            "tags": []
          },
          "execution_count": 13
        }
      ]
    },
    {
      "cell_type": "markdown",
      "metadata": {
        "id": "B5YJl4KTnl6R"
      },
      "source": [
        "# Modifying this for our data and modifying our data for this TCN"
      ]
    },
    {
      "cell_type": "markdown",
      "metadata": {
        "id": "2p1jw_0pdn--"
      },
      "source": [
        "# Baseline TCN"
      ]
    },
    {
      "cell_type": "markdown",
      "metadata": {
        "id": "bgfdBNH-9ZMl"
      },
      "source": [
        "TCNs do not require the 3D input that LSTMs do, the Conv1D layers throw errors when we tried with the same input as the LSTMS, so we change our input data shape to work similar to the example referred to above."
      ]
    },
    {
      "cell_type": "code",
      "metadata": {
        "id": "m1osJRXNnoXm"
      },
      "source": [
        "batch_size, timesteps, input_dim = None, 11, 1"
      ],
      "execution_count": 118,
      "outputs": []
    },
    {
      "cell_type": "code",
      "metadata": {
        "id": "KFraBLZxn-hn"
      },
      "source": [
        "# # my x y training/testing data\r\n",
        "# series = dosdf.to_numpy()\r\n",
        "\r\n",
        "# n_rows = series.shape[0]\r\n",
        "# n_features = series.shape[1]\r\n",
        "\r\n",
        "# train_split = int(series.shape[0]*0.7)\r\n",
        "# val_split = int(series.shape[0]*0.8)\r\n",
        "# print(f'train split : {train_split}, val_split: {val_split}')\r\n",
        "\r\n",
        "# X_train, y_train = series[:train_split, :n_features-1], series[:train_split, -1] # -1 references the last column\r\n",
        "# X_valid, y_valid = series[train_split:val_split, :n_features-1], series[train_split:val_split, -1]\r\n",
        "# X_test, y_test = series[val_split:, :n_features-1], series[val_split:, -1]\r\n",
        "\r\n",
        "# print(f'{X_train.shape,y_train.shape,X_valid.shape, y_valid.shape, X_test.shape,y_test.shape}')"
      ],
      "execution_count": 125,
      "outputs": []
    },
    {
      "cell_type": "code",
      "metadata": {
        "id": "OcsGBGYo8h4D"
      },
      "source": [
        "# X_test[20].shape, y_test[20].shape"
      ],
      "execution_count": 126,
      "outputs": []
    },
    {
      "cell_type": "code",
      "metadata": {
        "id": "k5k7BsHb8owm"
      },
      "source": [
        "# tempx, tempy = get_x_y()\r\n",
        "# tempx[0].shape, tempy[0].shape"
      ],
      "execution_count": 127,
      "outputs": []
    },
    {
      "cell_type": "markdown",
      "metadata": {
        "id": "B_m80mpPBLmm"
      },
      "source": [
        "### Train-test-split\r\n",
        "\r\n"
      ]
    },
    {
      "cell_type": "code",
      "metadata": {
        "colab": {
          "base_uri": "https://localhost:8080/"
        },
        "id": "hOu1uoDEBQ90",
        "outputId": "6e1da424-7c03-46f1-f862-7c5e478fb5c8"
      },
      "source": [
        "#Shuffle the dataset\r\n",
        "newdf=newdf.sample(frac=1,random_state=200) #random state is a seed value 200 \r\n",
        "\r\n",
        "series = newdf.to_numpy()\r\n",
        "# print(series.shape)\r\n",
        "\r\n",
        "n_features = series.shape[1]\r\n",
        "train_split = int(series.shape[0]*0.7)\r\n",
        "print(f'train split : {train_split}')\r\n",
        "\r\n",
        "val_split = int(series.shape[0]*0.8)\r\n",
        "\r\n",
        "X_train, y_train = series[:train_split, :n_features-1], series[:train_split, -1] # -1 references the last column\r\n",
        "X_valid, y_valid = series[train_split:val_split, :n_features-1], series[train_split:val_split, -1]\r\n",
        "X_test, y_test = series[val_split:, :n_features-1], series[val_split:, -1]\r\n",
        "print(f'{X_train.shape,y_train.shape,X_valid.shape, y_valid.shape, X_test.shape,y_test.shape}')"
      ],
      "execution_count": 128,
      "outputs": [
        {
          "output_type": "stream",
          "text": [
            "train split : 2118183\n",
            "((2118183, 11), (2118183,), (302598, 11), (302598,), (605196, 11), (605196,))\n"
          ],
          "name": "stdout"
        }
      ]
    },
    {
      "cell_type": "code",
      "metadata": {
        "colab": {
          "base_uri": "https://localhost:8080/",
          "height": 136
        },
        "id": "7Vcp8k7RCmv4",
        "outputId": "38bc653b-30b3-422a-f5ac-3956ea2fe18c"
      },
      "source": [
        "#X_train stats\r\n",
        "newdf[:train_split].groupby('label').count()"
      ],
      "execution_count": 129,
      "outputs": [
        {
          "output_type": "execute_result",
          "data": {
            "text/html": [
              "<div>\n",
              "<style scoped>\n",
              "    .dataframe tbody tr th:only-of-type {\n",
              "        vertical-align: middle;\n",
              "    }\n",
              "\n",
              "    .dataframe tbody tr th {\n",
              "        vertical-align: top;\n",
              "    }\n",
              "\n",
              "    .dataframe thead th {\n",
              "        text-align: right;\n",
              "    }\n",
              "</style>\n",
              "<table border=\"1\" class=\"dataframe\">\n",
              "  <thead>\n",
              "    <tr style=\"text-align: right;\">\n",
              "      <th></th>\n",
              "      <th>CAN ID</th>\n",
              "      <th>RTR</th>\n",
              "      <th>DLC</th>\n",
              "      <th>Data1</th>\n",
              "      <th>Data2</th>\n",
              "      <th>Data3</th>\n",
              "      <th>Data4</th>\n",
              "      <th>Data5</th>\n",
              "      <th>Data6</th>\n",
              "      <th>Data7</th>\n",
              "      <th>Data8</th>\n",
              "    </tr>\n",
              "    <tr>\n",
              "      <th>label</th>\n",
              "      <th></th>\n",
              "      <th></th>\n",
              "      <th></th>\n",
              "      <th></th>\n",
              "      <th></th>\n",
              "      <th></th>\n",
              "      <th></th>\n",
              "      <th></th>\n",
              "      <th></th>\n",
              "      <th></th>\n",
              "      <th></th>\n",
              "    </tr>\n",
              "  </thead>\n",
              "  <tbody>\n",
              "    <tr>\n",
              "      <th>0</th>\n",
              "      <td>1882701</td>\n",
              "      <td>1882701</td>\n",
              "      <td>1882701</td>\n",
              "      <td>1882701</td>\n",
              "      <td>1882701</td>\n",
              "      <td>1882701</td>\n",
              "      <td>1882701</td>\n",
              "      <td>1882701</td>\n",
              "      <td>1882701</td>\n",
              "      <td>1882701</td>\n",
              "      <td>1882701</td>\n",
              "    </tr>\n",
              "    <tr>\n",
              "      <th>1</th>\n",
              "      <td>235482</td>\n",
              "      <td>235482</td>\n",
              "      <td>235482</td>\n",
              "      <td>235482</td>\n",
              "      <td>235482</td>\n",
              "      <td>235482</td>\n",
              "      <td>235482</td>\n",
              "      <td>235482</td>\n",
              "      <td>235482</td>\n",
              "      <td>235482</td>\n",
              "      <td>235482</td>\n",
              "    </tr>\n",
              "  </tbody>\n",
              "</table>\n",
              "</div>"
            ],
            "text/plain": [
              "        CAN ID      RTR      DLC    Data1  ...    Data5    Data6    Data7    Data8\n",
              "label                                      ...                                    \n",
              "0      1882701  1882701  1882701  1882701  ...  1882701  1882701  1882701  1882701\n",
              "1       235482   235482   235482   235482  ...   235482   235482   235482   235482\n",
              "\n",
              "[2 rows x 11 columns]"
            ]
          },
          "metadata": {
            "tags": []
          },
          "execution_count": 129
        }
      ]
    },
    {
      "cell_type": "code",
      "metadata": {
        "colab": {
          "base_uri": "https://localhost:8080/",
          "height": 136
        },
        "id": "4nfqMnmT832U",
        "outputId": "00e3f319-d6a7-41b4-bb61-fee475e67803"
      },
      "source": [
        "#X_valid split\r\n",
        "newdf[train_split:val_split].groupby('label').count()"
      ],
      "execution_count": 130,
      "outputs": [
        {
          "output_type": "execute_result",
          "data": {
            "text/html": [
              "<div>\n",
              "<style scoped>\n",
              "    .dataframe tbody tr th:only-of-type {\n",
              "        vertical-align: middle;\n",
              "    }\n",
              "\n",
              "    .dataframe tbody tr th {\n",
              "        vertical-align: top;\n",
              "    }\n",
              "\n",
              "    .dataframe thead th {\n",
              "        text-align: right;\n",
              "    }\n",
              "</style>\n",
              "<table border=\"1\" class=\"dataframe\">\n",
              "  <thead>\n",
              "    <tr style=\"text-align: right;\">\n",
              "      <th></th>\n",
              "      <th>CAN ID</th>\n",
              "      <th>RTR</th>\n",
              "      <th>DLC</th>\n",
              "      <th>Data1</th>\n",
              "      <th>Data2</th>\n",
              "      <th>Data3</th>\n",
              "      <th>Data4</th>\n",
              "      <th>Data5</th>\n",
              "      <th>Data6</th>\n",
              "      <th>Data7</th>\n",
              "      <th>Data8</th>\n",
              "    </tr>\n",
              "    <tr>\n",
              "      <th>label</th>\n",
              "      <th></th>\n",
              "      <th></th>\n",
              "      <th></th>\n",
              "      <th></th>\n",
              "      <th></th>\n",
              "      <th></th>\n",
              "      <th></th>\n",
              "      <th></th>\n",
              "      <th></th>\n",
              "      <th></th>\n",
              "      <th></th>\n",
              "    </tr>\n",
              "  </thead>\n",
              "  <tbody>\n",
              "    <tr>\n",
              "      <th>0</th>\n",
              "      <td>269141</td>\n",
              "      <td>269141</td>\n",
              "      <td>269141</td>\n",
              "      <td>269141</td>\n",
              "      <td>269141</td>\n",
              "      <td>269141</td>\n",
              "      <td>269141</td>\n",
              "      <td>269141</td>\n",
              "      <td>269141</td>\n",
              "      <td>269141</td>\n",
              "      <td>269141</td>\n",
              "    </tr>\n",
              "    <tr>\n",
              "      <th>1</th>\n",
              "      <td>33457</td>\n",
              "      <td>33457</td>\n",
              "      <td>33457</td>\n",
              "      <td>33457</td>\n",
              "      <td>33457</td>\n",
              "      <td>33457</td>\n",
              "      <td>33457</td>\n",
              "      <td>33457</td>\n",
              "      <td>33457</td>\n",
              "      <td>33457</td>\n",
              "      <td>33457</td>\n",
              "    </tr>\n",
              "  </tbody>\n",
              "</table>\n",
              "</div>"
            ],
            "text/plain": [
              "       CAN ID     RTR     DLC   Data1  ...   Data5   Data6   Data7   Data8\n",
              "label                                  ...                                \n",
              "0      269141  269141  269141  269141  ...  269141  269141  269141  269141\n",
              "1       33457   33457   33457   33457  ...   33457   33457   33457   33457\n",
              "\n",
              "[2 rows x 11 columns]"
            ]
          },
          "metadata": {
            "tags": []
          },
          "execution_count": 130
        }
      ]
    },
    {
      "cell_type": "code",
      "metadata": {
        "colab": {
          "base_uri": "https://localhost:8080/",
          "height": 136
        },
        "id": "pCMxK-IjJdjf",
        "outputId": "9e0c8042-4636-43ee-bad2-c569fed7fc25"
      },
      "source": [
        "#X_test\r\n",
        "newdf[val_split:].groupby('label').count()"
      ],
      "execution_count": 131,
      "outputs": [
        {
          "output_type": "execute_result",
          "data": {
            "text/html": [
              "<div>\n",
              "<style scoped>\n",
              "    .dataframe tbody tr th:only-of-type {\n",
              "        vertical-align: middle;\n",
              "    }\n",
              "\n",
              "    .dataframe tbody tr th {\n",
              "        vertical-align: top;\n",
              "    }\n",
              "\n",
              "    .dataframe thead th {\n",
              "        text-align: right;\n",
              "    }\n",
              "</style>\n",
              "<table border=\"1\" class=\"dataframe\">\n",
              "  <thead>\n",
              "    <tr style=\"text-align: right;\">\n",
              "      <th></th>\n",
              "      <th>CAN ID</th>\n",
              "      <th>RTR</th>\n",
              "      <th>DLC</th>\n",
              "      <th>Data1</th>\n",
              "      <th>Data2</th>\n",
              "      <th>Data3</th>\n",
              "      <th>Data4</th>\n",
              "      <th>Data5</th>\n",
              "      <th>Data6</th>\n",
              "      <th>Data7</th>\n",
              "      <th>Data8</th>\n",
              "    </tr>\n",
              "    <tr>\n",
              "      <th>label</th>\n",
              "      <th></th>\n",
              "      <th></th>\n",
              "      <th></th>\n",
              "      <th></th>\n",
              "      <th></th>\n",
              "      <th></th>\n",
              "      <th></th>\n",
              "      <th></th>\n",
              "      <th></th>\n",
              "      <th></th>\n",
              "      <th></th>\n",
              "    </tr>\n",
              "  </thead>\n",
              "  <tbody>\n",
              "    <tr>\n",
              "      <th>0</th>\n",
              "      <td>538511</td>\n",
              "      <td>538511</td>\n",
              "      <td>538511</td>\n",
              "      <td>538511</td>\n",
              "      <td>538511</td>\n",
              "      <td>538511</td>\n",
              "      <td>538511</td>\n",
              "      <td>538511</td>\n",
              "      <td>538511</td>\n",
              "      <td>538511</td>\n",
              "      <td>538511</td>\n",
              "    </tr>\n",
              "    <tr>\n",
              "      <th>1</th>\n",
              "      <td>66685</td>\n",
              "      <td>66685</td>\n",
              "      <td>66685</td>\n",
              "      <td>66685</td>\n",
              "      <td>66685</td>\n",
              "      <td>66685</td>\n",
              "      <td>66685</td>\n",
              "      <td>66685</td>\n",
              "      <td>66685</td>\n",
              "      <td>66685</td>\n",
              "      <td>66685</td>\n",
              "    </tr>\n",
              "  </tbody>\n",
              "</table>\n",
              "</div>"
            ],
            "text/plain": [
              "       CAN ID     RTR     DLC   Data1  ...   Data5   Data6   Data7   Data8\n",
              "label                                  ...                                \n",
              "0      538511  538511  538511  538511  ...  538511  538511  538511  538511\n",
              "1       66685   66685   66685   66685  ...   66685   66685   66685   66685\n",
              "\n",
              "[2 rows x 11 columns]"
            ]
          },
          "metadata": {
            "tags": []
          },
          "execution_count": 131
        }
      ]
    },
    {
      "cell_type": "code",
      "metadata": {
        "colab": {
          "base_uri": "https://localhost:8080/"
        },
        "id": "rQ7ia0A8dzfk",
        "outputId": "8e911a6f-98e2-4756-e55f-4e29cb69981c"
      },
      "source": [
        "1 - (66685/538511)"
      ],
      "execution_count": 132,
      "outputs": [
        {
          "output_type": "execute_result",
          "data": {
            "text/plain": [
              "0.876167803443198"
            ]
          },
          "metadata": {
            "tags": []
          },
          "execution_count": 132
        }
      ]
    },
    {
      "cell_type": "code",
      "metadata": {
        "colab": {
          "base_uri": "https://localhost:8080/"
        },
        "id": "DQHzAdwkhjRD",
        "outputId": "4b36132a-0ea0-4411-f3cb-5c8afad9ec6a"
      },
      "source": [
        "testdf = pd.Series(y_test)\r\n",
        "testdf.value_counts()"
      ],
      "execution_count": 143,
      "outputs": [
        {
          "output_type": "execute_result",
          "data": {
            "text/plain": [
              "0    538511\n",
              "1     66685\n",
              "dtype: int64"
            ]
          },
          "metadata": {
            "tags": []
          },
          "execution_count": 143
        }
      ]
    },
    {
      "cell_type": "markdown",
      "metadata": {
        "id": "IBWAo74fF82t"
      },
      "source": [
        "### Baseline TCN Model"
      ]
    },
    {
      "cell_type": "code",
      "metadata": {
        "id": "uBt0v5fiQjw2"
      },
      "source": [
        "tf.keras.backend.clear_session()"
      ],
      "execution_count": 188,
      "outputs": []
    },
    {
      "cell_type": "code",
      "metadata": {
        "colab": {
          "base_uri": "https://localhost:8080/",
          "height": 1000
        },
        "id": "GgpOxa3yn0uI",
        "outputId": "e9b638d5-7079-471b-c92f-1875f916c180"
      },
      "source": [
        "i = Input(batch_shape=(batch_size, timesteps, input_dim))\r\n",
        "\r\n",
        "o = TCN(return_sequences=False,\r\n",
        "        nb_filters=64,\r\n",
        "        kernel_size=2,\r\n",
        "        nb_stacks=1,\r\n",
        "        padding='same',\r\n",
        "        use_skip_connections=False,\r\n",
        "        dropout_rate=0.0,\r\n",
        "        activation='relu',\r\n",
        "        kernel_initializer='he_normal',\r\n",
        "        use_batch_norm=True)(i)  # The TCN layers are here.\r\n",
        "o = Dense(1)(o)\r\n",
        "\r\n",
        "m = Model(inputs=[i], outputs=[o])\r\n",
        "m.compile(optimizer='adam',\r\n",
        "          loss='mse',\r\n",
        "          metrics=['accuracy'])\r\n",
        "\r\n",
        "tcn_full_summary(m, expand_residual_blocks=True)\r\n",
        "\r\n",
        "early_stop=keras.callbacks.EarlyStopping(monitor='val_loss',patience=10)\r\n",
        "history = m.fit(X_train, y_train,\r\n",
        "      validation_data=(X_valid,y_valid),\r\n",
        "      epochs=5,\r\n",
        "      batch_size=128,\r\n",
        "      callbacks=[early_stop])"
      ],
      "execution_count": 189,
      "outputs": [
        {
          "output_type": "stream",
          "text": [
            "Model: \"functional_1\"\n",
            "_________________________________________________________________\n",
            "Layer (type)                 Output Shape              Param #   \n",
            "=================================================================\n",
            "input_1 (InputLayer)         [(None, 11, 1)]           0         \n",
            "_________________________________________________________________\n",
            "matching_conv1D (Conv1D)     (None, 11, 64)            128       \n",
            "_________________________________________________________________\n",
            "activation_2 (Activation)    (None, 11, 64)            0         \n",
            "_________________________________________________________________\n",
            "conv1D_0 (Conv1D)            (None, 11, 64)            192       \n",
            "_________________________________________________________________\n",
            "batch_normalization (BatchNo (None, 11, 64)            256       \n",
            "_________________________________________________________________\n",
            "activation (Activation)      (None, 11, 64)            0         \n",
            "_________________________________________________________________\n",
            "spatial_dropout1d (SpatialDr (None, 11, 64)            0         \n",
            "_________________________________________________________________\n",
            "conv1D_1 (Conv1D)            (None, 11, 64)            8256      \n",
            "_________________________________________________________________\n",
            "batch_normalization_1 (Batch (None, 11, 64)            256       \n",
            "_________________________________________________________________\n",
            "activation_1 (Activation)    (None, 11, 64)            0         \n",
            "_________________________________________________________________\n",
            "spatial_dropout1d_1 (Spatial (None, 11, 64)            0         \n",
            "_________________________________________________________________\n",
            "matching_identity (Lambda)   (None, 11, 64)            0         \n",
            "_________________________________________________________________\n",
            "activation_5 (Activation)    (None, 11, 64)            0         \n",
            "_________________________________________________________________\n",
            "conv1D_0 (Conv1D)            (None, 11, 64)            8256      \n",
            "_________________________________________________________________\n",
            "batch_normalization_2 (Batch (None, 11, 64)            256       \n",
            "_________________________________________________________________\n",
            "activation_3 (Activation)    (None, 11, 64)            0         \n",
            "_________________________________________________________________\n",
            "spatial_dropout1d_2 (Spatial (None, 11, 64)            0         \n",
            "_________________________________________________________________\n",
            "conv1D_1 (Conv1D)            (None, 11, 64)            8256      \n",
            "_________________________________________________________________\n",
            "batch_normalization_3 (Batch (None, 11, 64)            256       \n",
            "_________________________________________________________________\n",
            "activation_4 (Activation)    (None, 11, 64)            0         \n",
            "_________________________________________________________________\n",
            "spatial_dropout1d_3 (Spatial (None, 11, 64)            0         \n",
            "_________________________________________________________________\n",
            "matching_identity (Lambda)   (None, 11, 64)            0         \n",
            "_________________________________________________________________\n",
            "activation_8 (Activation)    (None, 11, 64)            0         \n",
            "_________________________________________________________________\n",
            "conv1D_0 (Conv1D)            (None, 11, 64)            8256      \n",
            "_________________________________________________________________\n",
            "batch_normalization_4 (Batch (None, 11, 64)            256       \n",
            "_________________________________________________________________\n",
            "activation_6 (Activation)    (None, 11, 64)            0         \n",
            "_________________________________________________________________\n",
            "spatial_dropout1d_4 (Spatial (None, 11, 64)            0         \n",
            "_________________________________________________________________\n",
            "conv1D_1 (Conv1D)            (None, 11, 64)            8256      \n",
            "_________________________________________________________________\n",
            "batch_normalization_5 (Batch (None, 11, 64)            256       \n",
            "_________________________________________________________________\n",
            "activation_7 (Activation)    (None, 11, 64)            0         \n",
            "_________________________________________________________________\n",
            "spatial_dropout1d_5 (Spatial (None, 11, 64)            0         \n",
            "_________________________________________________________________\n",
            "matching_identity (Lambda)   (None, 11, 64)            0         \n",
            "_________________________________________________________________\n",
            "activation_11 (Activation)   (None, 11, 64)            0         \n",
            "_________________________________________________________________\n",
            "conv1D_0 (Conv1D)            (None, 11, 64)            8256      \n",
            "_________________________________________________________________\n",
            "batch_normalization_6 (Batch (None, 11, 64)            256       \n",
            "_________________________________________________________________\n",
            "activation_9 (Activation)    (None, 11, 64)            0         \n",
            "_________________________________________________________________\n",
            "spatial_dropout1d_6 (Spatial (None, 11, 64)            0         \n",
            "_________________________________________________________________\n",
            "conv1D_1 (Conv1D)            (None, 11, 64)            8256      \n",
            "_________________________________________________________________\n",
            "batch_normalization_7 (Batch (None, 11, 64)            256       \n",
            "_________________________________________________________________\n",
            "activation_10 (Activation)   (None, 11, 64)            0         \n",
            "_________________________________________________________________\n",
            "spatial_dropout1d_7 (Spatial (None, 11, 64)            0         \n",
            "_________________________________________________________________\n",
            "matching_identity (Lambda)   (None, 11, 64)            0         \n",
            "_________________________________________________________________\n",
            "activation_14 (Activation)   (None, 11, 64)            0         \n",
            "_________________________________________________________________\n",
            "conv1D_0 (Conv1D)            (None, 11, 64)            8256      \n",
            "_________________________________________________________________\n",
            "batch_normalization_8 (Batch (None, 11, 64)            256       \n",
            "_________________________________________________________________\n",
            "activation_12 (Activation)   (None, 11, 64)            0         \n",
            "_________________________________________________________________\n",
            "spatial_dropout1d_8 (Spatial (None, 11, 64)            0         \n",
            "_________________________________________________________________\n",
            "conv1D_1 (Conv1D)            (None, 11, 64)            8256      \n",
            "_________________________________________________________________\n",
            "batch_normalization_9 (Batch (None, 11, 64)            256       \n",
            "_________________________________________________________________\n",
            "activation_13 (Activation)   (None, 11, 64)            0         \n",
            "_________________________________________________________________\n",
            "spatial_dropout1d_9 (Spatial (None, 11, 64)            0         \n",
            "_________________________________________________________________\n",
            "matching_identity (Lambda)   (None, 11, 64)            0         \n",
            "_________________________________________________________________\n",
            "activation_17 (Activation)   (None, 11, 64)            0         \n",
            "_________________________________________________________________\n",
            "conv1D_0 (Conv1D)            (None, 11, 64)            8256      \n",
            "_________________________________________________________________\n",
            "batch_normalization_10 (Batc (None, 11, 64)            256       \n",
            "_________________________________________________________________\n",
            "activation_15 (Activation)   (None, 11, 64)            0         \n",
            "_________________________________________________________________\n",
            "spatial_dropout1d_10 (Spatia (None, 11, 64)            0         \n",
            "_________________________________________________________________\n",
            "conv1D_1 (Conv1D)            (None, 11, 64)            8256      \n",
            "_________________________________________________________________\n",
            "batch_normalization_11 (Batc (None, 11, 64)            256       \n",
            "_________________________________________________________________\n",
            "activation_16 (Activation)   (None, 11, 64)            0         \n",
            "_________________________________________________________________\n",
            "spatial_dropout1d_11 (Spatia (None, 11, 64)            0         \n",
            "_________________________________________________________________\n",
            "lambda (Lambda)              (None, 64)                0         \n",
            "_________________________________________________________________\n",
            "dense (Dense)                (None, 1)                 65        \n",
            "=================================================================\n",
            "Total params: 94,273\n",
            "Trainable params: 92,737\n",
            "Non-trainable params: 1,536\n",
            "_________________________________________________________________\n",
            "Epoch 1/10\n",
            "16549/16549 [==============================] - 241s 15ms/step - loss: 0.0996 - accuracy: 0.9168 - val_loss: 0.0420 - val_accuracy: 0.9371\n",
            "Epoch 2/10\n",
            "16549/16549 [==============================] - 240s 14ms/step - loss: 0.0652 - accuracy: 0.9309 - val_loss: 0.0715 - val_accuracy: 0.9391\n",
            "Epoch 3/10\n",
            "16549/16549 [==============================] - 246s 15ms/step - loss: 0.0610 - accuracy: 0.9305 - val_loss: 0.0844 - val_accuracy: 0.9391\n",
            "Epoch 4/10\n",
            "16549/16549 [==============================] - 245s 15ms/step - loss: 0.0607 - accuracy: 0.9315 - val_loss: 0.0436 - val_accuracy: 0.9386\n",
            "Epoch 5/10\n",
            "16549/16549 [==============================] - 240s 14ms/step - loss: 0.0592 - accuracy: 0.9312 - val_loss: 0.0405 - val_accuracy: 0.9391\n",
            "Epoch 6/10\n",
            " 1130/16549 [=>............................] - ETA: 3:38 - loss: 0.0604 - accuracy: 0.9274"
          ],
          "name": "stdout"
        },
        {
          "output_type": "error",
          "ename": "KeyboardInterrupt",
          "evalue": "ignored",
          "traceback": [
            "\u001b[0;31m---------------------------------------------------------------------------\u001b[0m",
            "\u001b[0;31mKeyboardInterrupt\u001b[0m                         Traceback (most recent call last)",
            "\u001b[0;32m<ipython-input-189-b929dd85a07b>\u001b[0m in \u001b[0;36m<module>\u001b[0;34m()\u001b[0m\n\u001b[1;32m     25\u001b[0m       \u001b[0mepochs\u001b[0m\u001b[0;34m=\u001b[0m\u001b[0;36m10\u001b[0m\u001b[0;34m,\u001b[0m\u001b[0;34m\u001b[0m\u001b[0;34m\u001b[0m\u001b[0m\n\u001b[1;32m     26\u001b[0m       \u001b[0mbatch_size\u001b[0m\u001b[0;34m=\u001b[0m\u001b[0;36m128\u001b[0m\u001b[0;34m,\u001b[0m\u001b[0;34m\u001b[0m\u001b[0;34m\u001b[0m\u001b[0m\n\u001b[0;32m---> 27\u001b[0;31m       callbacks=[early_stop])\n\u001b[0m",
            "\u001b[0;32m/usr/local/lib/python3.6/dist-packages/tensorflow/python/keras/engine/training.py\u001b[0m in \u001b[0;36m_method_wrapper\u001b[0;34m(self, *args, **kwargs)\u001b[0m\n\u001b[1;32m    106\u001b[0m   \u001b[0;32mdef\u001b[0m \u001b[0m_method_wrapper\u001b[0m\u001b[0;34m(\u001b[0m\u001b[0mself\u001b[0m\u001b[0;34m,\u001b[0m \u001b[0;34m*\u001b[0m\u001b[0margs\u001b[0m\u001b[0;34m,\u001b[0m \u001b[0;34m**\u001b[0m\u001b[0mkwargs\u001b[0m\u001b[0;34m)\u001b[0m\u001b[0;34m:\u001b[0m\u001b[0;34m\u001b[0m\u001b[0;34m\u001b[0m\u001b[0m\n\u001b[1;32m    107\u001b[0m     \u001b[0;32mif\u001b[0m \u001b[0;32mnot\u001b[0m \u001b[0mself\u001b[0m\u001b[0;34m.\u001b[0m\u001b[0m_in_multi_worker_mode\u001b[0m\u001b[0;34m(\u001b[0m\u001b[0;34m)\u001b[0m\u001b[0;34m:\u001b[0m  \u001b[0;31m# pylint: disable=protected-access\u001b[0m\u001b[0;34m\u001b[0m\u001b[0;34m\u001b[0m\u001b[0m\n\u001b[0;32m--> 108\u001b[0;31m       \u001b[0;32mreturn\u001b[0m \u001b[0mmethod\u001b[0m\u001b[0;34m(\u001b[0m\u001b[0mself\u001b[0m\u001b[0;34m,\u001b[0m \u001b[0;34m*\u001b[0m\u001b[0margs\u001b[0m\u001b[0;34m,\u001b[0m \u001b[0;34m**\u001b[0m\u001b[0mkwargs\u001b[0m\u001b[0;34m)\u001b[0m\u001b[0;34m\u001b[0m\u001b[0;34m\u001b[0m\u001b[0m\n\u001b[0m\u001b[1;32m    109\u001b[0m \u001b[0;34m\u001b[0m\u001b[0m\n\u001b[1;32m    110\u001b[0m     \u001b[0;31m# Running inside `run_distribute_coordinator` already.\u001b[0m\u001b[0;34m\u001b[0m\u001b[0;34m\u001b[0m\u001b[0;34m\u001b[0m\u001b[0m\n",
            "\u001b[0;32m/usr/local/lib/python3.6/dist-packages/tensorflow/python/keras/engine/training.py\u001b[0m in \u001b[0;36mfit\u001b[0;34m(self, x, y, batch_size, epochs, verbose, callbacks, validation_split, validation_data, shuffle, class_weight, sample_weight, initial_epoch, steps_per_epoch, validation_steps, validation_batch_size, validation_freq, max_queue_size, workers, use_multiprocessing)\u001b[0m\n\u001b[1;32m   1101\u001b[0m               \u001b[0mlogs\u001b[0m \u001b[0;34m=\u001b[0m \u001b[0mtmp_logs\u001b[0m  \u001b[0;31m# No error, now safe to assign to logs.\u001b[0m\u001b[0;34m\u001b[0m\u001b[0;34m\u001b[0m\u001b[0m\n\u001b[1;32m   1102\u001b[0m               \u001b[0mend_step\u001b[0m \u001b[0;34m=\u001b[0m \u001b[0mstep\u001b[0m \u001b[0;34m+\u001b[0m \u001b[0mdata_handler\u001b[0m\u001b[0;34m.\u001b[0m\u001b[0mstep_increment\u001b[0m\u001b[0;34m\u001b[0m\u001b[0;34m\u001b[0m\u001b[0m\n\u001b[0;32m-> 1103\u001b[0;31m               \u001b[0mcallbacks\u001b[0m\u001b[0;34m.\u001b[0m\u001b[0mon_train_batch_end\u001b[0m\u001b[0;34m(\u001b[0m\u001b[0mend_step\u001b[0m\u001b[0;34m,\u001b[0m \u001b[0mlogs\u001b[0m\u001b[0;34m)\u001b[0m\u001b[0;34m\u001b[0m\u001b[0;34m\u001b[0m\u001b[0m\n\u001b[0m\u001b[1;32m   1104\u001b[0m         \u001b[0mepoch_logs\u001b[0m \u001b[0;34m=\u001b[0m \u001b[0mcopy\u001b[0m\u001b[0;34m.\u001b[0m\u001b[0mcopy\u001b[0m\u001b[0;34m(\u001b[0m\u001b[0mlogs\u001b[0m\u001b[0;34m)\u001b[0m\u001b[0;34m\u001b[0m\u001b[0;34m\u001b[0m\u001b[0m\n\u001b[1;32m   1105\u001b[0m \u001b[0;34m\u001b[0m\u001b[0m\n",
            "\u001b[0;32m/usr/local/lib/python3.6/dist-packages/tensorflow/python/keras/callbacks.py\u001b[0m in \u001b[0;36mon_train_batch_end\u001b[0;34m(self, batch, logs)\u001b[0m\n\u001b[1;32m    438\u001b[0m     \"\"\"\n\u001b[1;32m    439\u001b[0m     \u001b[0;32mif\u001b[0m \u001b[0mself\u001b[0m\u001b[0;34m.\u001b[0m\u001b[0m_should_call_train_batch_hooks\u001b[0m\u001b[0;34m:\u001b[0m\u001b[0;34m\u001b[0m\u001b[0;34m\u001b[0m\u001b[0m\n\u001b[0;32m--> 440\u001b[0;31m       \u001b[0mself\u001b[0m\u001b[0;34m.\u001b[0m\u001b[0m_call_batch_hook\u001b[0m\u001b[0;34m(\u001b[0m\u001b[0mModeKeys\u001b[0m\u001b[0;34m.\u001b[0m\u001b[0mTRAIN\u001b[0m\u001b[0;34m,\u001b[0m \u001b[0;34m'end'\u001b[0m\u001b[0;34m,\u001b[0m \u001b[0mbatch\u001b[0m\u001b[0;34m,\u001b[0m \u001b[0mlogs\u001b[0m\u001b[0;34m=\u001b[0m\u001b[0mlogs\u001b[0m\u001b[0;34m)\u001b[0m\u001b[0;34m\u001b[0m\u001b[0;34m\u001b[0m\u001b[0m\n\u001b[0m\u001b[1;32m    441\u001b[0m \u001b[0;34m\u001b[0m\u001b[0m\n\u001b[1;32m    442\u001b[0m   \u001b[0;32mdef\u001b[0m \u001b[0mon_test_batch_begin\u001b[0m\u001b[0;34m(\u001b[0m\u001b[0mself\u001b[0m\u001b[0;34m,\u001b[0m \u001b[0mbatch\u001b[0m\u001b[0;34m,\u001b[0m \u001b[0mlogs\u001b[0m\u001b[0;34m=\u001b[0m\u001b[0;32mNone\u001b[0m\u001b[0;34m)\u001b[0m\u001b[0;34m:\u001b[0m\u001b[0;34m\u001b[0m\u001b[0;34m\u001b[0m\u001b[0m\n",
            "\u001b[0;32m/usr/local/lib/python3.6/dist-packages/tensorflow/python/keras/callbacks.py\u001b[0m in \u001b[0;36m_call_batch_hook\u001b[0;34m(self, mode, hook, batch, logs)\u001b[0m\n\u001b[1;32m    287\u001b[0m       \u001b[0mself\u001b[0m\u001b[0;34m.\u001b[0m\u001b[0m_call_batch_begin_hook\u001b[0m\u001b[0;34m(\u001b[0m\u001b[0mmode\u001b[0m\u001b[0;34m,\u001b[0m \u001b[0mbatch\u001b[0m\u001b[0;34m,\u001b[0m \u001b[0mlogs\u001b[0m\u001b[0;34m)\u001b[0m\u001b[0;34m\u001b[0m\u001b[0;34m\u001b[0m\u001b[0m\n\u001b[1;32m    288\u001b[0m     \u001b[0;32melif\u001b[0m \u001b[0mhook\u001b[0m \u001b[0;34m==\u001b[0m \u001b[0;34m'end'\u001b[0m\u001b[0;34m:\u001b[0m\u001b[0;34m\u001b[0m\u001b[0;34m\u001b[0m\u001b[0m\n\u001b[0;32m--> 289\u001b[0;31m       \u001b[0mself\u001b[0m\u001b[0;34m.\u001b[0m\u001b[0m_call_batch_end_hook\u001b[0m\u001b[0;34m(\u001b[0m\u001b[0mmode\u001b[0m\u001b[0;34m,\u001b[0m \u001b[0mbatch\u001b[0m\u001b[0;34m,\u001b[0m \u001b[0mlogs\u001b[0m\u001b[0;34m)\u001b[0m\u001b[0;34m\u001b[0m\u001b[0;34m\u001b[0m\u001b[0m\n\u001b[0m\u001b[1;32m    290\u001b[0m     \u001b[0;32melse\u001b[0m\u001b[0;34m:\u001b[0m\u001b[0;34m\u001b[0m\u001b[0;34m\u001b[0m\u001b[0m\n\u001b[1;32m    291\u001b[0m       \u001b[0;32mraise\u001b[0m \u001b[0mValueError\u001b[0m\u001b[0;34m(\u001b[0m\u001b[0;34m'Unrecognized hook: {}'\u001b[0m\u001b[0;34m.\u001b[0m\u001b[0mformat\u001b[0m\u001b[0;34m(\u001b[0m\u001b[0mhook\u001b[0m\u001b[0;34m)\u001b[0m\u001b[0;34m)\u001b[0m\u001b[0;34m\u001b[0m\u001b[0;34m\u001b[0m\u001b[0m\n",
            "\u001b[0;32m/usr/local/lib/python3.6/dist-packages/tensorflow/python/keras/callbacks.py\u001b[0m in \u001b[0;36m_call_batch_end_hook\u001b[0;34m(self, mode, batch, logs)\u001b[0m\n\u001b[1;32m    307\u001b[0m       \u001b[0mbatch_time\u001b[0m \u001b[0;34m=\u001b[0m \u001b[0mtime\u001b[0m\u001b[0;34m.\u001b[0m\u001b[0mtime\u001b[0m\u001b[0;34m(\u001b[0m\u001b[0;34m)\u001b[0m \u001b[0;34m-\u001b[0m \u001b[0mself\u001b[0m\u001b[0;34m.\u001b[0m\u001b[0m_batch_start_time\u001b[0m\u001b[0;34m\u001b[0m\u001b[0;34m\u001b[0m\u001b[0m\n\u001b[1;32m    308\u001b[0m \u001b[0;34m\u001b[0m\u001b[0m\n\u001b[0;32m--> 309\u001b[0;31m     \u001b[0mself\u001b[0m\u001b[0;34m.\u001b[0m\u001b[0m_call_batch_hook_helper\u001b[0m\u001b[0;34m(\u001b[0m\u001b[0mhook_name\u001b[0m\u001b[0;34m,\u001b[0m \u001b[0mbatch\u001b[0m\u001b[0;34m,\u001b[0m \u001b[0mlogs\u001b[0m\u001b[0;34m)\u001b[0m\u001b[0;34m\u001b[0m\u001b[0;34m\u001b[0m\u001b[0m\n\u001b[0m\u001b[1;32m    310\u001b[0m \u001b[0;34m\u001b[0m\u001b[0m\n\u001b[1;32m    311\u001b[0m     \u001b[0;32mif\u001b[0m \u001b[0mself\u001b[0m\u001b[0;34m.\u001b[0m\u001b[0m_check_timing\u001b[0m\u001b[0;34m:\u001b[0m\u001b[0;34m\u001b[0m\u001b[0;34m\u001b[0m\u001b[0m\n",
            "\u001b[0;32m/usr/local/lib/python3.6/dist-packages/tensorflow/python/keras/callbacks.py\u001b[0m in \u001b[0;36m_call_batch_hook_helper\u001b[0;34m(self, hook_name, batch, logs)\u001b[0m\n\u001b[1;32m    343\u001b[0m       \u001b[0;32melse\u001b[0m\u001b[0;34m:\u001b[0m\u001b[0;34m\u001b[0m\u001b[0;34m\u001b[0m\u001b[0m\n\u001b[1;32m    344\u001b[0m         \u001b[0;32mif\u001b[0m \u001b[0mnumpy_logs\u001b[0m \u001b[0;32mis\u001b[0m \u001b[0;32mNone\u001b[0m\u001b[0;34m:\u001b[0m  \u001b[0;31m# Only convert once.\u001b[0m\u001b[0;34m\u001b[0m\u001b[0;34m\u001b[0m\u001b[0m\n\u001b[0;32m--> 345\u001b[0;31m           \u001b[0mnumpy_logs\u001b[0m \u001b[0;34m=\u001b[0m \u001b[0mtf_utils\u001b[0m\u001b[0;34m.\u001b[0m\u001b[0mto_numpy_or_python_type\u001b[0m\u001b[0;34m(\u001b[0m\u001b[0mlogs\u001b[0m\u001b[0;34m)\u001b[0m\u001b[0;34m\u001b[0m\u001b[0;34m\u001b[0m\u001b[0m\n\u001b[0m\u001b[1;32m    346\u001b[0m         \u001b[0mhook\u001b[0m\u001b[0;34m(\u001b[0m\u001b[0mbatch\u001b[0m\u001b[0;34m,\u001b[0m \u001b[0mnumpy_logs\u001b[0m\u001b[0;34m)\u001b[0m\u001b[0;34m\u001b[0m\u001b[0;34m\u001b[0m\u001b[0m\n\u001b[1;32m    347\u001b[0m \u001b[0;34m\u001b[0m\u001b[0m\n",
            "\u001b[0;32m/usr/local/lib/python3.6/dist-packages/tensorflow/python/keras/utils/tf_utils.py\u001b[0m in \u001b[0;36mto_numpy_or_python_type\u001b[0;34m(tensors)\u001b[0m\n\u001b[1;32m    535\u001b[0m     \u001b[0;32mreturn\u001b[0m \u001b[0mt\u001b[0m  \u001b[0;31m# Don't turn ragged or sparse tensors to NumPy.\u001b[0m\u001b[0;34m\u001b[0m\u001b[0;34m\u001b[0m\u001b[0m\n\u001b[1;32m    536\u001b[0m \u001b[0;34m\u001b[0m\u001b[0m\n\u001b[0;32m--> 537\u001b[0;31m   \u001b[0;32mreturn\u001b[0m \u001b[0mnest\u001b[0m\u001b[0;34m.\u001b[0m\u001b[0mmap_structure\u001b[0m\u001b[0;34m(\u001b[0m\u001b[0m_to_single_numpy_or_python_type\u001b[0m\u001b[0;34m,\u001b[0m \u001b[0mtensors\u001b[0m\u001b[0;34m)\u001b[0m\u001b[0;34m\u001b[0m\u001b[0;34m\u001b[0m\u001b[0m\n\u001b[0m\u001b[1;32m    538\u001b[0m \u001b[0;34m\u001b[0m\u001b[0m\n\u001b[1;32m    539\u001b[0m \u001b[0;34m\u001b[0m\u001b[0m\n",
            "\u001b[0;32m/usr/local/lib/python3.6/dist-packages/tensorflow/python/util/nest.py\u001b[0m in \u001b[0;36mmap_structure\u001b[0;34m(func, *structure, **kwargs)\u001b[0m\n\u001b[1;32m    633\u001b[0m \u001b[0;34m\u001b[0m\u001b[0m\n\u001b[1;32m    634\u001b[0m   return pack_sequence_as(\n\u001b[0;32m--> 635\u001b[0;31m       \u001b[0mstructure\u001b[0m\u001b[0;34m[\u001b[0m\u001b[0;36m0\u001b[0m\u001b[0;34m]\u001b[0m\u001b[0;34m,\u001b[0m \u001b[0;34m[\u001b[0m\u001b[0mfunc\u001b[0m\u001b[0;34m(\u001b[0m\u001b[0;34m*\u001b[0m\u001b[0mx\u001b[0m\u001b[0;34m)\u001b[0m \u001b[0;32mfor\u001b[0m \u001b[0mx\u001b[0m \u001b[0;32min\u001b[0m \u001b[0mentries\u001b[0m\u001b[0;34m]\u001b[0m\u001b[0;34m,\u001b[0m\u001b[0;34m\u001b[0m\u001b[0;34m\u001b[0m\u001b[0m\n\u001b[0m\u001b[1;32m    636\u001b[0m       expand_composites=expand_composites)\n\u001b[1;32m    637\u001b[0m \u001b[0;34m\u001b[0m\u001b[0m\n",
            "\u001b[0;32m/usr/local/lib/python3.6/dist-packages/tensorflow/python/util/nest.py\u001b[0m in \u001b[0;36m<listcomp>\u001b[0;34m(.0)\u001b[0m\n\u001b[1;32m    633\u001b[0m \u001b[0;34m\u001b[0m\u001b[0m\n\u001b[1;32m    634\u001b[0m   return pack_sequence_as(\n\u001b[0;32m--> 635\u001b[0;31m       \u001b[0mstructure\u001b[0m\u001b[0;34m[\u001b[0m\u001b[0;36m0\u001b[0m\u001b[0;34m]\u001b[0m\u001b[0;34m,\u001b[0m \u001b[0;34m[\u001b[0m\u001b[0mfunc\u001b[0m\u001b[0;34m(\u001b[0m\u001b[0;34m*\u001b[0m\u001b[0mx\u001b[0m\u001b[0;34m)\u001b[0m \u001b[0;32mfor\u001b[0m \u001b[0mx\u001b[0m \u001b[0;32min\u001b[0m \u001b[0mentries\u001b[0m\u001b[0;34m]\u001b[0m\u001b[0;34m,\u001b[0m\u001b[0;34m\u001b[0m\u001b[0;34m\u001b[0m\u001b[0m\n\u001b[0m\u001b[1;32m    636\u001b[0m       expand_composites=expand_composites)\n\u001b[1;32m    637\u001b[0m \u001b[0;34m\u001b[0m\u001b[0m\n",
            "\u001b[0;32m/usr/local/lib/python3.6/dist-packages/tensorflow/python/keras/utils/tf_utils.py\u001b[0m in \u001b[0;36m_to_single_numpy_or_python_type\u001b[0;34m(t)\u001b[0m\n\u001b[1;32m    531\u001b[0m   \u001b[0;32mdef\u001b[0m \u001b[0m_to_single_numpy_or_python_type\u001b[0m\u001b[0;34m(\u001b[0m\u001b[0mt\u001b[0m\u001b[0;34m)\u001b[0m\u001b[0;34m:\u001b[0m\u001b[0;34m\u001b[0m\u001b[0;34m\u001b[0m\u001b[0m\n\u001b[1;32m    532\u001b[0m     \u001b[0;32mif\u001b[0m \u001b[0misinstance\u001b[0m\u001b[0;34m(\u001b[0m\u001b[0mt\u001b[0m\u001b[0;34m,\u001b[0m \u001b[0mops\u001b[0m\u001b[0;34m.\u001b[0m\u001b[0mTensor\u001b[0m\u001b[0;34m)\u001b[0m\u001b[0;34m:\u001b[0m\u001b[0;34m\u001b[0m\u001b[0;34m\u001b[0m\u001b[0m\n\u001b[0;32m--> 533\u001b[0;31m       \u001b[0mx\u001b[0m \u001b[0;34m=\u001b[0m \u001b[0mt\u001b[0m\u001b[0;34m.\u001b[0m\u001b[0mnumpy\u001b[0m\u001b[0;34m(\u001b[0m\u001b[0;34m)\u001b[0m\u001b[0;34m\u001b[0m\u001b[0;34m\u001b[0m\u001b[0m\n\u001b[0m\u001b[1;32m    534\u001b[0m       \u001b[0;32mreturn\u001b[0m \u001b[0mx\u001b[0m\u001b[0;34m.\u001b[0m\u001b[0mitem\u001b[0m\u001b[0;34m(\u001b[0m\u001b[0;34m)\u001b[0m \u001b[0;32mif\u001b[0m \u001b[0mnp\u001b[0m\u001b[0;34m.\u001b[0m\u001b[0mndim\u001b[0m\u001b[0;34m(\u001b[0m\u001b[0mx\u001b[0m\u001b[0;34m)\u001b[0m \u001b[0;34m==\u001b[0m \u001b[0;36m0\u001b[0m \u001b[0;32melse\u001b[0m \u001b[0mx\u001b[0m\u001b[0;34m\u001b[0m\u001b[0;34m\u001b[0m\u001b[0m\n\u001b[1;32m    535\u001b[0m     \u001b[0;32mreturn\u001b[0m \u001b[0mt\u001b[0m  \u001b[0;31m# Don't turn ragged or sparse tensors to NumPy.\u001b[0m\u001b[0;34m\u001b[0m\u001b[0;34m\u001b[0m\u001b[0m\n",
            "\u001b[0;32m/usr/local/lib/python3.6/dist-packages/tensorflow/python/framework/ops.py\u001b[0m in \u001b[0;36mnumpy\u001b[0;34m(self)\u001b[0m\n\u001b[1;32m   1061\u001b[0m     \"\"\"\n\u001b[1;32m   1062\u001b[0m     \u001b[0;31m# TODO(slebedev): Consider avoiding a copy for non-CPU or remote tensors.\u001b[0m\u001b[0;34m\u001b[0m\u001b[0;34m\u001b[0m\u001b[0;34m\u001b[0m\u001b[0m\n\u001b[0;32m-> 1063\u001b[0;31m     \u001b[0mmaybe_arr\u001b[0m \u001b[0;34m=\u001b[0m \u001b[0mself\u001b[0m\u001b[0;34m.\u001b[0m\u001b[0m_numpy\u001b[0m\u001b[0;34m(\u001b[0m\u001b[0;34m)\u001b[0m  \u001b[0;31m# pylint: disable=protected-access\u001b[0m\u001b[0;34m\u001b[0m\u001b[0;34m\u001b[0m\u001b[0m\n\u001b[0m\u001b[1;32m   1064\u001b[0m     \u001b[0;32mreturn\u001b[0m \u001b[0mmaybe_arr\u001b[0m\u001b[0;34m.\u001b[0m\u001b[0mcopy\u001b[0m\u001b[0;34m(\u001b[0m\u001b[0;34m)\u001b[0m \u001b[0;32mif\u001b[0m \u001b[0misinstance\u001b[0m\u001b[0;34m(\u001b[0m\u001b[0mmaybe_arr\u001b[0m\u001b[0;34m,\u001b[0m \u001b[0mnp\u001b[0m\u001b[0;34m.\u001b[0m\u001b[0mndarray\u001b[0m\u001b[0;34m)\u001b[0m \u001b[0;32melse\u001b[0m \u001b[0mmaybe_arr\u001b[0m\u001b[0;34m\u001b[0m\u001b[0;34m\u001b[0m\u001b[0m\n\u001b[1;32m   1065\u001b[0m \u001b[0;34m\u001b[0m\u001b[0m\n",
            "\u001b[0;32m/usr/local/lib/python3.6/dist-packages/tensorflow/python/framework/ops.py\u001b[0m in \u001b[0;36m_numpy\u001b[0;34m(self)\u001b[0m\n\u001b[1;32m   1027\u001b[0m   \u001b[0;32mdef\u001b[0m \u001b[0m_numpy\u001b[0m\u001b[0;34m(\u001b[0m\u001b[0mself\u001b[0m\u001b[0;34m)\u001b[0m\u001b[0;34m:\u001b[0m\u001b[0;34m\u001b[0m\u001b[0;34m\u001b[0m\u001b[0m\n\u001b[1;32m   1028\u001b[0m     \u001b[0;32mtry\u001b[0m\u001b[0;34m:\u001b[0m\u001b[0;34m\u001b[0m\u001b[0;34m\u001b[0m\u001b[0m\n\u001b[0;32m-> 1029\u001b[0;31m       \u001b[0;32mreturn\u001b[0m \u001b[0mself\u001b[0m\u001b[0;34m.\u001b[0m\u001b[0m_numpy_internal\u001b[0m\u001b[0;34m(\u001b[0m\u001b[0;34m)\u001b[0m\u001b[0;34m\u001b[0m\u001b[0;34m\u001b[0m\u001b[0m\n\u001b[0m\u001b[1;32m   1030\u001b[0m     \u001b[0;32mexcept\u001b[0m \u001b[0mcore\u001b[0m\u001b[0;34m.\u001b[0m\u001b[0m_NotOkStatusException\u001b[0m \u001b[0;32mas\u001b[0m \u001b[0me\u001b[0m\u001b[0;34m:\u001b[0m  \u001b[0;31m# pylint: disable=protected-access\u001b[0m\u001b[0;34m\u001b[0m\u001b[0;34m\u001b[0m\u001b[0m\n\u001b[1;32m   1031\u001b[0m       \u001b[0msix\u001b[0m\u001b[0;34m.\u001b[0m\u001b[0mraise_from\u001b[0m\u001b[0;34m(\u001b[0m\u001b[0mcore\u001b[0m\u001b[0;34m.\u001b[0m\u001b[0m_status_to_exception\u001b[0m\u001b[0;34m(\u001b[0m\u001b[0me\u001b[0m\u001b[0;34m.\u001b[0m\u001b[0mcode\u001b[0m\u001b[0;34m,\u001b[0m \u001b[0me\u001b[0m\u001b[0;34m.\u001b[0m\u001b[0mmessage\u001b[0m\u001b[0;34m)\u001b[0m\u001b[0;34m,\u001b[0m \u001b[0;32mNone\u001b[0m\u001b[0;34m)\u001b[0m  \u001b[0;31m# pylint: disable=protected-access\u001b[0m\u001b[0;34m\u001b[0m\u001b[0;34m\u001b[0m\u001b[0m\n",
            "\u001b[0;31mKeyboardInterrupt\u001b[0m: "
          ]
        }
      ]
    },
    {
      "cell_type": "code",
      "metadata": {
        "colab": {
          "base_uri": "https://localhost:8080/",
          "height": 312
        },
        "id": "8UECl3FHWVVm",
        "outputId": "ca8caaf6-a8d7-4fdc-afc1-739f27a854c4"
      },
      "source": [
        "tf.keras.utils.plot_model(m,show_shapes=True)"
      ],
      "execution_count": 190,
      "outputs": [
        {
          "output_type": "execute_result",
          "data": {
            "image/png": "[encoded data removed]",
            "text/plain": [
              "<IPython.core.display.Image object>"
            ]
          },
          "metadata": {
            "tags": []
          },
          "execution_count": 190
        }
      ]
    },
    {
      "cell_type": "markdown",
      "metadata": {
        "id": "UQWD7ITmF1pP"
      },
      "source": [
        "### Evaluation and Plotting"
      ]
    },
    {
      "cell_type": "code",
      "metadata": {
        "colab": {
          "base_uri": "https://localhost:8080/"
        },
        "id": "YcbtyZO7nvfh",
        "outputId": "bb365e5e-55fc-4321-b276-6de08c632fec"
      },
      "source": [
        "scores = m.evaluate(X_test,y_test)\r\n",
        "print(f\"Loss, Accuracy: {scores}\")"
      ],
      "execution_count": 191,
      "outputs": [
        {
          "output_type": "stream",
          "text": [
            "2365/2365 [==============================] - 9s 4ms/step - loss: 0.0402 - accuracy: 0.9391\n",
            "Loss, Accuracy: [0.040159717202186584, 0.9391205310821533]\n"
          ],
          "name": "stdout"
        }
      ]
    },
    {
      "cell_type": "code",
      "metadata": {
        "id": "I-dz0b9mN3rd",
        "colab": {
          "base_uri": "https://localhost:8080/",
          "height": 325
        },
        "outputId": "59c8e895-7427-4c9e-9a15-7223e73a8905"
      },
      "source": [
        "plt.subplot(1,2,1)\n",
        "plt.plot(history.history[\"loss\"])\n",
        "plt.plot(history.history[\"val_loss\"])\n",
        "plt.legend(('loss','val_loss'))\n",
        "plt.subplot(1,2,2)\n",
        "plt.plot(history.history[\"accuracy\"])\n",
        "plt.plot(history.history[\"val_accuracy\"])\n",
        "plt.legend(('acc','val_acc'))\n",
        "\n",
        "plt.gcf().set_size_inches((10,5))\n",
        "plt.show()"
      ],
      "execution_count": 192,
      "outputs": [
        {
          "output_type": "display_data",
          "data": {
            "image/png": "[encoded data removed]",
            "text/plain": [
              "<Figure size 720x360 with 2 Axes>"
            ]
          },
          "metadata": {
            "tags": [],
            "needs_background": "light"
          }
        }
      ]
    },
    {
      "cell_type": "code",
      "metadata": {
        "id": "5kGktS-TDagM"
      },
      "source": [
        "y_pred = m.predict(X_test, )"
      ],
      "execution_count": null,
      "outputs": []
    },
    {
      "cell_type": "code",
      "metadata": {
        "id": "pCJ9CsNzztQu"
      },
      "source": [
        "X_test[30],y_test[30], np.argmax(y_pred[30])"
      ],
      "execution_count": null,
      "outputs": []
    },
    {
      "cell_type": "code",
      "metadata": {
        "colab": {
          "base_uri": "https://localhost:8080/"
        },
        "id": "Nf2ANdveeB_F",
        "outputId": "d27f7685-9781-4de3-bf66-ac3a1b265f9f"
      },
      "source": [
        "classes = np.array([np.argmax(i) for i in y_pred])\r\n",
        "np.unique(classes), classes[:20]"
      ],
      "execution_count": 105,
      "outputs": [
        {
          "output_type": "execute_result",
          "data": {
            "text/plain": [
              "(array([0]),\n",
              " array([0, 0, 0, 0, 0, 0, 0, 0, 0, 0, 0, 0, 0, 0, 0, 0, 0, 0, 0, 0]))"
            ]
          },
          "metadata": {
            "tags": []
          },
          "execution_count": 105
        }
      ]
    },
    {
      "cell_type": "code",
      "metadata": {
        "colab": {
          "base_uri": "https://localhost:8080/"
        },
        "id": "M0HML9SaehxK",
        "outputId": "b43edf3e-1720-4a09-c9ea-c15603db7c6c"
      },
      "source": [
        "recall_score(y_test,classes)"
      ],
      "execution_count": 95,
      "outputs": [
        {
          "output_type": "execute_result",
          "data": {
            "text/plain": [
              "0.0"
            ]
          },
          "metadata": {
            "tags": []
          },
          "execution_count": 95
        }
      ]
    },
    {
      "cell_type": "code",
      "metadata": {
        "colab": {
          "base_uri": "https://localhost:8080/"
        },
        "id": "2ikXo7SSiZHt",
        "outputId": "247a1ff5-9035-48d7-a143-177eb6822f88"
      },
      "source": [
        "predlist = classes.reshape((classes.shape[0],1))\n",
        "y_test.shape, y_pred.shape, predlist.shape"
      ],
      "execution_count": 106,
      "outputs": [
        {
          "output_type": "execute_result",
          "data": {
            "text/plain": [
              "((605196,), (605196, 1), (605196, 1))"
            ]
          },
          "metadata": {
            "tags": []
          },
          "execution_count": 106
        }
      ]
    },
    {
      "cell_type": "code",
      "metadata": {
        "colab": {
          "base_uri": "https://localhost:8080/",
          "height": 402
        },
        "id": "lfSYLdIDj6Tg",
        "outputId": "fca21b6f-68fd-4b5f-d85f-1bbd5f29376b"
      },
      "source": [
        "compdf = pd.DataFrame(predlist)\n",
        "compdf['real'] = y_test\n",
        "compdf = compdf.rename(columns={0:'pred'})\n",
        "compdf['T/F Prediction'] = np.where(compdf['pred'] == compdf['real'],True, False)\n",
        "compdf"
      ],
      "execution_count": 107,
      "outputs": [
        {
          "output_type": "execute_result",
          "data": {
            "text/html": [
              "<div>\n",
              "<style scoped>\n",
              "    .dataframe tbody tr th:only-of-type {\n",
              "        vertical-align: middle;\n",
              "    }\n",
              "\n",
              "    .dataframe tbody tr th {\n",
              "        vertical-align: top;\n",
              "    }\n",
              "\n",
              "    .dataframe thead th {\n",
              "        text-align: right;\n",
              "    }\n",
              "</style>\n",
              "<table border=\"1\" class=\"dataframe\">\n",
              "  <thead>\n",
              "    <tr style=\"text-align: right;\">\n",
              "      <th></th>\n",
              "      <th>pred</th>\n",
              "      <th>real</th>\n",
              "      <th>T/F Prediction</th>\n",
              "    </tr>\n",
              "  </thead>\n",
              "  <tbody>\n",
              "    <tr>\n",
              "      <th>0</th>\n",
              "      <td>0</td>\n",
              "      <td>0</td>\n",
              "      <td>True</td>\n",
              "    </tr>\n",
              "    <tr>\n",
              "      <th>1</th>\n",
              "      <td>0</td>\n",
              "      <td>0</td>\n",
              "      <td>True</td>\n",
              "    </tr>\n",
              "    <tr>\n",
              "      <th>2</th>\n",
              "      <td>0</td>\n",
              "      <td>0</td>\n",
              "      <td>True</td>\n",
              "    </tr>\n",
              "    <tr>\n",
              "      <th>3</th>\n",
              "      <td>0</td>\n",
              "      <td>0</td>\n",
              "      <td>True</td>\n",
              "    </tr>\n",
              "    <tr>\n",
              "      <th>4</th>\n",
              "      <td>0</td>\n",
              "      <td>0</td>\n",
              "      <td>True</td>\n",
              "    </tr>\n",
              "    <tr>\n",
              "      <th>...</th>\n",
              "      <td>...</td>\n",
              "      <td>...</td>\n",
              "      <td>...</td>\n",
              "    </tr>\n",
              "    <tr>\n",
              "      <th>605191</th>\n",
              "      <td>0</td>\n",
              "      <td>0</td>\n",
              "      <td>True</td>\n",
              "    </tr>\n",
              "    <tr>\n",
              "      <th>605192</th>\n",
              "      <td>0</td>\n",
              "      <td>0</td>\n",
              "      <td>True</td>\n",
              "    </tr>\n",
              "    <tr>\n",
              "      <th>605193</th>\n",
              "      <td>0</td>\n",
              "      <td>0</td>\n",
              "      <td>True</td>\n",
              "    </tr>\n",
              "    <tr>\n",
              "      <th>605194</th>\n",
              "      <td>0</td>\n",
              "      <td>0</td>\n",
              "      <td>True</td>\n",
              "    </tr>\n",
              "    <tr>\n",
              "      <th>605195</th>\n",
              "      <td>0</td>\n",
              "      <td>0</td>\n",
              "      <td>True</td>\n",
              "    </tr>\n",
              "  </tbody>\n",
              "</table>\n",
              "<p>605196 rows × 3 columns</p>\n",
              "</div>"
            ],
            "text/plain": [
              "        pred  real  T/F Prediction\n",
              "0          0     0            True\n",
              "1          0     0            True\n",
              "2          0     0            True\n",
              "3          0     0            True\n",
              "4          0     0            True\n",
              "...      ...   ...             ...\n",
              "605191     0     0            True\n",
              "605192     0     0            True\n",
              "605193     0     0            True\n",
              "605194     0     0            True\n",
              "605195     0     0            True\n",
              "\n",
              "[605196 rows x 3 columns]"
            ]
          },
          "metadata": {
            "tags": []
          },
          "execution_count": 107
        }
      ]
    },
    {
      "cell_type": "code",
      "metadata": {
        "colab": {
          "base_uri": "https://localhost:8080/"
        },
        "id": "EV5PraSuglvY",
        "outputId": "aa42feb5-42aa-43b3-bb0a-40b55e1aece4"
      },
      "source": [
        "np.unique(compdf.loc[compdf.real == 1]['T/F Prediction'])"
      ],
      "execution_count": 117,
      "outputs": [
        {
          "output_type": "execute_result",
          "data": {
            "text/plain": [
              "array([False])"
            ]
          },
          "metadata": {
            "tags": []
          },
          "execution_count": 117
        }
      ]
    },
    {
      "cell_type": "code",
      "metadata": {
        "colab": {
          "base_uri": "https://localhost:8080/",
          "height": 582
        },
        "id": "sGvcvS3pe9mW",
        "outputId": "f2d38245-81dc-44b3-b673-9d03131f66da"
      },
      "source": [
        "plot_min=60\r\n",
        "plot_max =120\r\n",
        "plt.scatter(range(plot_min,plot_max),y_test[plot_min:plot_max])\r\n",
        "plt.scatter(range(plot_min,plot_max),[y_pred[i].argmax()+0.02 for i in range(len(y_pred[plot_min:plot_max]))],c=['r'])\r\n",
        "plt.legend(('test class','predicted class'))\r\n",
        "plt.xlabel('timestamp index')\r\n",
        "plt.ylabel('class (0 = normal, 1 = anomaly)')\r\n",
        "plt.xticks(ticks=range(plot_min, plot_max))\r\n",
        "plt.gcf().set_size_inches((20,10))\r\n",
        "# plt.gcf().autofmt_xdate()\r\n",
        "plt.show()"
      ],
      "execution_count": 112,
      "outputs": [
        {
          "output_type": "display_data",
          "data": {
            "image/png": "[encoded data removed]",
            "text/plain": [
              "<Figure size 1440x720 with 1 Axes>"
            ]
          },
          "metadata": {
            "tags": [],
            "needs_background": "light"
          }
        }
      ]
    },
    {
      "cell_type": "markdown",
      "metadata": {
        "id": "W3GQjdkNqwOI"
      },
      "source": [
        "### Saving and Checking the size of the Model"
      ]
    },
    {
      "cell_type": "code",
      "metadata": {
        "id": "goQpm6R7jVAb",
        "colab": {
          "base_uri": "https://localhost:8080/"
        },
        "outputId": "4268aa79-4874-45bb-ed04-93382af7c4c7"
      },
      "source": [
        "saved_model_dir = '/content/drive/MyDrive/Colab Notebooks/CS581/project-data/'\r\n",
        "m.save(saved_model_dir + \"tcn-baseline.h5\",include_optimizer=False)\r\n",
        "print(f\"Saving Model to: {saved_model_dir}tcn-baseline.h5\")"
      ],
      "execution_count": 98,
      "outputs": [
        {
          "output_type": "stream",
          "text": [
            "Saving Model to: /content/drive/MyDrive/Colab Notebooks/CS581/project-data/tcn-baseline.h5\n"
          ],
          "name": "stdout"
        }
      ]
    },
    {
      "cell_type": "code",
      "metadata": {
        "colab": {
          "base_uri": "https://localhost:8080/"
        },
        "id": "LlKmug6yphtL",
        "outputId": "955f24de-aa04-45c0-9cb3-d9a7c52aea51"
      },
      "source": [
        "print(f'Size of the model without compression: {os.path.getsize(saved_model_dir + \"tcn-baseline.h5\")/float(2**20)} Mb')"
      ],
      "execution_count": 99,
      "outputs": [
        {
          "output_type": "stream",
          "text": [
            "Size of the model without compression: 0.42667388916015625 Mb\n"
          ],
          "name": "stdout"
        }
      ]
    },
    {
      "cell_type": "code",
      "metadata": {
        "id": "7n5JP096Pxsf"
      },
      "source": [
        ""
      ],
      "execution_count": null,
      "outputs": []
    },
    {
      "cell_type": "markdown",
      "metadata": {
        "id": "ZIL1RnWui1PP"
      },
      "source": [
        "# Optimized TCN"
      ]
    },
    {
      "cell_type": "markdown",
      "metadata": {
        "id": "DGImGjxki9lV"
      },
      "source": [
        "## Convert to TFLite"
      ]
    },
    {
      "cell_type": "code",
      "metadata": {
        "colab": {
          "base_uri": "https://localhost:8080/"
        },
        "id": "ORXaNDdRi82e",
        "outputId": "81d19c70-0a9f-4a71-a457-54731332e603"
      },
      "source": [
        "converter = tf.lite.TFLiteConverter.from_keras_model(m)\r\n",
        "tflite_model = converter.convert()\r\n",
        "tf_lite_model_file = saved_model_dir + 'tcn-baseline.tflite'\r\n",
        "\r\n",
        "with open(tf_lite_model_file,'wb') as f:\r\n",
        "    f.write(tflite_model)"
      ],
      "execution_count": 144,
      "outputs": [
        {
          "output_type": "stream",
          "text": [
            "WARNING:tensorflow:From /usr/local/lib/python3.6/dist-packages/tensorflow/python/training/tracking/tracking.py:111: Model.state_updates (from tensorflow.python.keras.engine.training) is deprecated and will be removed in a future version.\n",
            "Instructions for updating:\n",
            "This property should not be used in TensorFlow 2.0, as updates are applied automatically.\n",
            "WARNING:tensorflow:From /usr/local/lib/python3.6/dist-packages/tensorflow/python/training/tracking/tracking.py:111: Layer.updates (from tensorflow.python.keras.engine.base_layer) is deprecated and will be removed in a future version.\n",
            "Instructions for updating:\n",
            "This property should not be used in TensorFlow 2.0, as updates are applied automatically.\n",
            "INFO:tensorflow:Assets written to: /tmp/tmph7z1955n/assets\n"
          ],
          "name": "stdout"
        }
      ]
    },
    {
      "cell_type": "code",
      "metadata": {
        "colab": {
          "base_uri": "https://localhost:8080/"
        },
        "id": "CBJWPfPvk6ef",
        "outputId": "67e2cdfd-9a64-45be-8fa6-ed54f90b2975"
      },
      "source": [
        "print(f'Size of the model after compression: {os.path.getsize(tf_lite_model_file)/float(2**20)} Mb')"
      ],
      "execution_count": 156,
      "outputs": [
        {
          "output_type": "stream",
          "text": [
            "Size of the model after compression: 0.3809165954589844 Mb\n"
          ],
          "name": "stdout"
        }
      ]
    },
    {
      "cell_type": "code",
      "metadata": {
        "colab": {
          "base_uri": "https://localhost:8080/"
        },
        "id": "I5ma51_QjbZ7",
        "outputId": "5450dea5-da5d-4614-9d40-c6f6365af510"
      },
      "source": [
        "interpreter = tf.lite.Interpreter(model_path=tf_lite_model_file)\r\n",
        "interpreter.allocate_tensors()\r\n",
        "input_index = interpreter.get_input_details()[0]['index']\r\n",
        "input_index"
      ],
      "execution_count": 145,
      "outputs": [
        {
          "output_type": "execute_result",
          "data": {
            "text/plain": [
              "0"
            ]
          },
          "metadata": {
            "tags": []
          },
          "execution_count": 145
        }
      ]
    },
    {
      "cell_type": "code",
      "metadata": {
        "colab": {
          "base_uri": "https://localhost:8080/"
        },
        "id": "0uqGZ4c_jmd0",
        "outputId": "1d4d95bd-64d4-4af8-cf08-834cbcda8260"
      },
      "source": [
        "output_index = interpreter.get_output_details()[0]['index']\r\n",
        "output_index"
      ],
      "execution_count": 146,
      "outputs": [
        {
          "output_type": "execute_result",
          "data": {
            "text/plain": [
              "168"
            ]
          },
          "metadata": {
            "tags": []
          },
          "execution_count": 146
        }
      ]
    },
    {
      "cell_type": "code",
      "metadata": {
        "colab": {
          "base_uri": "https://localhost:8080/"
        },
        "id": "t1H90n4al7fW",
        "outputId": "a29ccbe9-b27d-4f7c-88db-fec7728feab8"
      },
      "source": [
        "interpreter.get_input_details()"
      ],
      "execution_count": 170,
      "outputs": [
        {
          "output_type": "execute_result",
          "data": {
            "text/plain": [
              "[{'dtype': numpy.float32,\n",
              "  'index': 0,\n",
              "  'name': 'input_1',\n",
              "  'quantization': (0.0, 0),\n",
              "  'quantization_parameters': {'quantized_dimension': 0,\n",
              "   'scales': array([], dtype=float32),\n",
              "   'zero_points': array([], dtype=int32)},\n",
              "  'shape': array([ 1, 11,  1], dtype=int32),\n",
              "  'shape_signature': array([-1, 11,  1], dtype=int32),\n",
              "  'sparsity_parameters': {}}]"
            ]
          },
          "metadata": {
            "tags": []
          },
          "execution_count": 170
        }
      ]
    },
    {
      "cell_type": "code",
      "metadata": {
        "id": "6yRJpxepmhA6"
      },
      "source": [
        "interpreter.get_output_details()"
      ],
      "execution_count": null,
      "outputs": []
    },
    {
      "cell_type": "code",
      "metadata": {
        "id": "Ymd2mR-mjp3K"
      },
      "source": [
        "def evaluate_model(interpreter):\r\n",
        "    input_index = interpreter.get_input_details()[0][\"index\"]\r\n",
        "    output_index = interpreter.get_output_details()[0]['index']\r\n",
        "    predictions = []\r\n",
        "\r\n",
        "    for img in X_test:\r\n",
        "\r\n",
        "        timg = img[np.newaxis,:,np.newaxis].astype(np.float32)#np.expand_dims(img,axis = 0).astype(np.float32)\r\n",
        "        interpreter.set_tensor(input_index,timg)\r\n",
        "        \r\n",
        "        interpreter.invoke()\r\n",
        "\r\n",
        "        output = interpreter.tensor(output_index)\r\n",
        "        pred = np.argmax(output()[0])\r\n",
        "        predictions.append(pred)\r\n",
        "\r\n",
        "    predictions = np.array(predictions)\r\n",
        "    accuracy= (predictions == y_test).mean()\r\n",
        "    return accuracy    "
      ],
      "execution_count": 183,
      "outputs": []
    },
    {
      "cell_type": "code",
      "metadata": {
        "colab": {
          "base_uri": "https://localhost:8080/"
        },
        "id": "jWFqwo_CmG6k",
        "outputId": "23207a92-f3b0-48e4-a1ba-de881dbb3400"
      },
      "source": [
        "X_test[0].shape"
      ],
      "execution_count": 184,
      "outputs": [
        {
          "output_type": "execute_result",
          "data": {
            "text/plain": [
              "(11,)"
            ]
          },
          "metadata": {
            "tags": []
          },
          "execution_count": 184
        }
      ]
    },
    {
      "cell_type": "code",
      "metadata": {
        "colab": {
          "base_uri": "https://localhost:8080/",
          "height": 303
        },
        "id": "LZbp2Q8ojvYJ",
        "outputId": "41785e1e-c215-4fe8-87b7-e9203074ce67"
      },
      "source": [
        "print(evaluate_model(interpreter))"
      ],
      "execution_count": 185,
      "outputs": [
        {
          "output_type": "error",
          "ename": "KeyboardInterrupt",
          "evalue": "ignored",
          "traceback": [
            "\u001b[0;31m---------------------------------------------------------------------------\u001b[0m",
            "\u001b[0;31mKeyboardInterrupt\u001b[0m                         Traceback (most recent call last)",
            "\u001b[0;32m<ipython-input-185-193eaa8ff644>\u001b[0m in \u001b[0;36m<module>\u001b[0;34m()\u001b[0m\n\u001b[0;32m----> 1\u001b[0;31m \u001b[0mprint\u001b[0m\u001b[0;34m(\u001b[0m\u001b[0mevaluate_model\u001b[0m\u001b[0;34m(\u001b[0m\u001b[0minterpreter\u001b[0m\u001b[0;34m)\u001b[0m\u001b[0;34m)\u001b[0m\u001b[0;34m\u001b[0m\u001b[0;34m\u001b[0m\u001b[0m\n\u001b[0m",
            "\u001b[0;32m<ipython-input-183-daca2f21f8b4>\u001b[0m in \u001b[0;36mevaluate_model\u001b[0;34m(interpreter)\u001b[0m\n\u001b[1;32m      9\u001b[0m         \u001b[0minterpreter\u001b[0m\u001b[0;34m.\u001b[0m\u001b[0mset_tensor\u001b[0m\u001b[0;34m(\u001b[0m\u001b[0minput_index\u001b[0m\u001b[0;34m,\u001b[0m\u001b[0mtimg\u001b[0m\u001b[0;34m)\u001b[0m\u001b[0;34m\u001b[0m\u001b[0;34m\u001b[0m\u001b[0m\n\u001b[1;32m     10\u001b[0m \u001b[0;34m\u001b[0m\u001b[0m\n\u001b[0;32m---> 11\u001b[0;31m         \u001b[0minterpreter\u001b[0m\u001b[0;34m.\u001b[0m\u001b[0minvoke\u001b[0m\u001b[0;34m(\u001b[0m\u001b[0;34m)\u001b[0m\u001b[0;34m\u001b[0m\u001b[0;34m\u001b[0m\u001b[0m\n\u001b[0m\u001b[1;32m     12\u001b[0m \u001b[0;34m\u001b[0m\u001b[0m\n\u001b[1;32m     13\u001b[0m         \u001b[0moutput\u001b[0m \u001b[0;34m=\u001b[0m \u001b[0minterpreter\u001b[0m\u001b[0;34m.\u001b[0m\u001b[0mtensor\u001b[0m\u001b[0;34m(\u001b[0m\u001b[0moutput_index\u001b[0m\u001b[0;34m)\u001b[0m\u001b[0;34m\u001b[0m\u001b[0;34m\u001b[0m\u001b[0m\n",
            "\u001b[0;32m/usr/local/lib/python3.6/dist-packages/tensorflow/lite/python/interpreter.py\u001b[0m in \u001b[0;36minvoke\u001b[0;34m(self)\u001b[0m\n\u001b[1;32m    522\u001b[0m     \"\"\"\n\u001b[1;32m    523\u001b[0m     \u001b[0mself\u001b[0m\u001b[0;34m.\u001b[0m\u001b[0m_ensure_safe\u001b[0m\u001b[0;34m(\u001b[0m\u001b[0;34m)\u001b[0m\u001b[0;34m\u001b[0m\u001b[0;34m\u001b[0m\u001b[0m\n\u001b[0;32m--> 524\u001b[0;31m     \u001b[0mself\u001b[0m\u001b[0;34m.\u001b[0m\u001b[0m_interpreter\u001b[0m\u001b[0;34m.\u001b[0m\u001b[0mInvoke\u001b[0m\u001b[0;34m(\u001b[0m\u001b[0;34m)\u001b[0m\u001b[0;34m\u001b[0m\u001b[0;34m\u001b[0m\u001b[0m\n\u001b[0m\u001b[1;32m    525\u001b[0m \u001b[0;34m\u001b[0m\u001b[0m\n\u001b[1;32m    526\u001b[0m   \u001b[0;32mdef\u001b[0m \u001b[0mreset_all_variables\u001b[0m\u001b[0;34m(\u001b[0m\u001b[0mself\u001b[0m\u001b[0;34m)\u001b[0m\u001b[0;34m:\u001b[0m\u001b[0;34m\u001b[0m\u001b[0;34m\u001b[0m\u001b[0m\n",
            "\u001b[0;31mKeyboardInterrupt\u001b[0m: "
          ]
        }
      ]
    },
    {
      "cell_type": "markdown",
      "metadata": {
        "id": "weFl0ZoznRAW"
      },
      "source": [
        "# End"
      ]
    },
    {
      "cell_type": "code",
      "metadata": {
        "id": "uGNk0IzonRoE"
      },
      "source": [
        ""
      ],
      "execution_count": null,
      "outputs": []
    }
  ]
}