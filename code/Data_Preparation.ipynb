{
  "nbformat": 4,
  "nbformat_minor": 0,
  "metadata": {
    "colab": {
      "name": "Data Preparation.ipynb",
      "provenance": [],
      "collapsed_sections": [],
      "toc_visible": true,
      "mount_file_id": "1OwFW9-Z2slGejzbIrcysgmqBN90Rq7Yp",
      "authorship_tag": "ABX9TyOTAouE2em3AXsdTp9i8V+U",
      "include_colab_link": true
    },
    "kernelspec": {
      "name": "python3",
      "display_name": "Python 3"
    }
  },
  "cells": [
    {
      "cell_type": "markdown",
      "metadata": {
        "id": "view-in-github",
        "colab_type": "text"
      },
      "source": [
        "<a href=\"https://colab.research.google.com/github/mehrotrasan16/CS581-CAN-DO-Project/blob/sanketm-datapreparation/code/Data_Preparation.ipynb\" target=\"_parent\"><img src=\"https://colab.research.google.com/assets/colab-badge.svg\" alt=\"Open In Colab\"/></a>"
      ]
    },
    {
      "cell_type": "markdown",
      "metadata": {
        "id": "aHMeffM68COa"
      },
      "source": [
        "# Data Exploration\n",
        "\n",
        "As we know, knowing our data and understanding how it changes is a key factor in successfully analysing it. In this notebook, we explore the CAN messages dataset that we got from Korea University researchers on the CAN of a Kia Soul being attacked using different kinds of known attacks. "
      ]
    },
    {
      "cell_type": "code",
      "metadata": {
        "id": "cMPiwwZv7-iL"
      },
      "source": [
        "import os\n",
        "import pandas as pd"
      ],
      "execution_count": null,
      "outputs": []
    },
    {
      "cell_type": "code",
      "metadata": {
        "id": "cIukFD7P6pL5"
      },
      "source": [
        "df = pd.read_csv('/content/drive/My Drive/Colab Notebooks/CS581-TestResults/project-data/Attack_free_dataset.txt')"
      ],
      "execution_count": null,
      "outputs": []
    },
    {
      "cell_type": "code",
      "metadata": {
        "id": "1fpM_P_t61hC",
        "outputId": "4bd5dc61-6855-4c64-b4d9-e3b266898a43",
        "colab": {
          "base_uri": "https://localhost:8080/"
        }
      },
      "source": [
        "df.columns"
      ],
      "execution_count": null,
      "outputs": [
        {
          "output_type": "execute_result",
          "data": {
            "text/plain": [
              "Index(['Timestamp:          0.000000        ID: 0316    000    DLC: 8    05 20 ea 0a 20 1a 00 7f'], dtype='object')"
            ]
          },
          "metadata": {
            "tags": []
          },
          "execution_count": 5
        }
      ]
    },
    {
      "cell_type": "code",
      "metadata": {
        "id": "mfdAQILf63QL"
      },
      "source": [
        "df1 = pd.read_csv('/content/drive/My Drive/Colab Notebooks/CS581-TestResults/project-data/DoS_attack_dataset.txt')"
      ],
      "execution_count": null,
      "outputs": []
    },
    {
      "cell_type": "code",
      "metadata": {
        "id": "wTDQJBe07BF5",
        "outputId": "f736e8c1-a214-4970-c7e3-ddc63f9f2b39",
        "colab": {
          "base_uri": "https://localhost:8080/",
          "height": 404
        }
      },
      "source": [
        "df1"
      ],
      "execution_count": null,
      "outputs": [
        {
          "output_type": "execute_result",
          "data": {
            "text/html": [
              "<div>\n",
              "<style scoped>\n",
              "    .dataframe tbody tr th:only-of-type {\n",
              "        vertical-align: middle;\n",
              "    }\n",
              "\n",
              "    .dataframe tbody tr th {\n",
              "        vertical-align: top;\n",
              "    }\n",
              "\n",
              "    .dataframe thead th {\n",
              "        text-align: right;\n",
              "    }\n",
              "</style>\n",
              "<table border=\"1\" class=\"dataframe\">\n",
              "  <thead>\n",
              "    <tr style=\"text-align: right;\">\n",
              "      <th></th>\n",
              "      <th>Timestamp:          0.000000        ID: 0000    000    DLC: 8    00 00 00 00 00 00 00 00</th>\n",
              "    </tr>\n",
              "  </thead>\n",
              "  <tbody>\n",
              "    <tr>\n",
              "      <th>0</th>\n",
              "      <td>Timestamp:          0.000271        ID: 0080  ...</td>\n",
              "    </tr>\n",
              "    <tr>\n",
              "      <th>1</th>\n",
              "      <td>Timestamp:          0.000495        ID: 0000  ...</td>\n",
              "    </tr>\n",
              "    <tr>\n",
              "      <th>2</th>\n",
              "      <td>Timestamp:          0.000736        ID: 0081  ...</td>\n",
              "    </tr>\n",
              "    <tr>\n",
              "      <th>3</th>\n",
              "      <td>Timestamp:          0.000983        ID: 0000  ...</td>\n",
              "    </tr>\n",
              "    <tr>\n",
              "      <th>4</th>\n",
              "      <td>Timestamp:          0.001239        ID: 0165  ...</td>\n",
              "    </tr>\n",
              "    <tr>\n",
              "      <th>...</th>\n",
              "      <td>...</td>\n",
              "    </tr>\n",
              "    <tr>\n",
              "      <th>656573</th>\n",
              "      <td>Timestamp:        306.295869        ID: 0000  ...</td>\n",
              "    </tr>\n",
              "    <tr>\n",
              "      <th>656574</th>\n",
              "      <td>Timestamp:        306.296118        ID: 0081  ...</td>\n",
              "    </tr>\n",
              "    <tr>\n",
              "      <th>656575</th>\n",
              "      <td>Timestamp:        306.296365        ID: 0000  ...</td>\n",
              "    </tr>\n",
              "    <tr>\n",
              "      <th>656576</th>\n",
              "      <td>Timestamp:        306.296624        ID: 018f  ...</td>\n",
              "    </tr>\n",
              "    <tr>\n",
              "      <th>656577</th>\n",
              "      <td>Timestamp:        306.296857        ID: 0000  ...</td>\n",
              "    </tr>\n",
              "  </tbody>\n",
              "</table>\n",
              "<p>656578 rows × 1 columns</p>\n",
              "</div>"
            ],
            "text/plain": [
              "       Timestamp:          0.000000        ID: 0000    000    DLC: 8    00 00 00 00 00 00 00 00\n",
              "0       Timestamp:          0.000271        ID: 0080  ...                                      \n",
              "1       Timestamp:          0.000495        ID: 0000  ...                                      \n",
              "2       Timestamp:          0.000736        ID: 0081  ...                                      \n",
              "3       Timestamp:          0.000983        ID: 0000  ...                                      \n",
              "4       Timestamp:          0.001239        ID: 0165  ...                                      \n",
              "...                                                   ...                                      \n",
              "656573  Timestamp:        306.295869        ID: 0000  ...                                      \n",
              "656574  Timestamp:        306.296118        ID: 0081  ...                                      \n",
              "656575  Timestamp:        306.296365        ID: 0000  ...                                      \n",
              "656576  Timestamp:        306.296624        ID: 018f  ...                                      \n",
              "656577  Timestamp:        306.296857        ID: 0000  ...                                      \n",
              "\n",
              "[656578 rows x 1 columns]"
            ]
          },
          "metadata": {
            "tags": []
          },
          "execution_count": 7
        }
      ]
    },
    {
      "cell_type": "markdown",
      "metadata": {
        "id": "gWagX6y0By2Q"
      },
      "source": [
        "this doesn't look right, let's try opening it as a normal text file and see what's up"
      ]
    },
    {
      "cell_type": "code",
      "metadata": {
        "id": "3pvv9iY9aeQl",
        "outputId": "3b280ae6-d540-490f-a691-5565b32a9c3b",
        "colab": {
          "base_uri": "https://localhost:8080/"
        }
      },
      "source": [
        "with open('/content/drive/My Drive/Colab Notebooks/CS581-TestResults/project-data/DoS_attack_dataset.txt','r') as file:\n",
        "    for line in file.readlines(1080):\n",
        "        print(line)"
      ],
      "execution_count": 36,
      "outputs": [
        {
          "output_type": "stream",
          "text": [
            "Timestamp:          0.000000        ID: 0000    000    DLC: 8    00 00 00 00 00 00 00 00\n",
            "\n",
            "Timestamp:          0.000271        ID: 0080    000    DLC: 8    00 17 dc 09 16 11 16 bb\n",
            "\n",
            "Timestamp:          0.000495        ID: 0000    000    DLC: 8    00 00 00 00 00 00 00 00\n",
            "\n",
            "Timestamp:          0.000736        ID: 0081    000    DLC: 8    40 84 87 00 00 00 00 6b\n",
            "\n",
            "Timestamp:          0.000983        ID: 0000    000    DLC: 8    00 00 00 00 00 00 00 00\n",
            "\n",
            "Timestamp:          0.001239        ID: 0165    000    DLC: 8    00 08 80 00 00 00 08 80\n",
            "\n",
            "Timestamp:          0.001484        ID: 0000    000    DLC: 8    00 00 00 00 00 00 00 00\n",
            "\n",
            "Timestamp:          0.001736        ID: 018f    000    DLC: 8    00 3f 16 00 00 3f 00 00\n",
            "\n",
            "Timestamp:          0.001984        ID: 0000    000    DLC: 8    00 00 00 00 00 00 00 00\n",
            "\n",
            "Timestamp:          0.002229        ID: 02a0    000    DLC: 8    62 00 87 9d bc 0c b7 02\n",
            "\n",
            "Timestamp:          0.002465        ID: 0000    000    DLC: 8    00 00 00 00 00 00 00 00\n",
            "\n",
            "Timestamp:          0.002654        ID: 02b0    000    DLC: 5    3a ff 00 07 68\n",
            "\n",
            "Timestamp:          0.002915        ID: 0000    000    DLC: 8    00 00 00 00 00 00 00 00\n",
            "\n"
          ],
          "name": "stdout"
        }
      ]
    },
    {
      "cell_type": "markdown",
      "metadata": {
        "id": "cT39DaQZyitv"
      },
      "source": [
        "## DoS attack Dataset"
      ]
    },
    {
      "cell_type": "code",
      "metadata": {
        "id": "D8r08SMTdqpP",
        "outputId": "7619d20f-03c5-44fa-e33e-915863bda91d",
        "colab": {
          "base_uri": "https://localhost:8080/"
        }
      },
      "source": [
        "count = len(open('/content/drive/My Drive/Colab Notebooks/CS581-TestResults/project-data/DoS_attack_dataset.txt','r').readlines())\n",
        "count"
      ],
      "execution_count": 56,
      "outputs": [
        {
          "output_type": "execute_result",
          "data": {
            "text/plain": [
              "656579"
            ]
          },
          "metadata": {
            "tags": []
          },
          "execution_count": 56
        }
      ]
    },
    {
      "cell_type": "code",
      "metadata": {
        "id": "mUy9vD8oYA55"
      },
      "source": [
        "dfdict = {}"
      ],
      "execution_count": 46,
      "outputs": []
    },
    {
      "cell_type": "code",
      "metadata": {
        "id": "cwLWZ2U67Bs-"
      },
      "source": [
        "with open('/content/drive/My Drive/Colab Notebooks/CS581-TestResults/project-data/DoS_attack_dataset.txt','r') as file:\n",
        "    for line in file.readlines():\n",
        "        line = line.split()\n",
        "        line.remove('Timestamp:')\n",
        "        line.remove('ID:')\n",
        "        line.remove('DLC:')\n",
        "        if len(line) > 4:\n",
        "            line[4] = line[4:]\n",
        "            line = line[:5]            \n",
        "        dfdict[float(line[0])] = line[1:]\n",
        "        # print(line)"
      ],
      "execution_count": 48,
      "outputs": []
    },
    {
      "cell_type": "markdown",
      "metadata": {
        "id": "bZZFieHHCl3z"
      },
      "source": [
        "That's ugly, I'll just clean it up in excel with a little reference from: https://ocslab.hksecurity.net/Dataset/CAN-intrusion-dataset"
      ]
    },
    {
      "cell_type": "code",
      "metadata": {
        "id": "7xapJmyLVgn5"
      },
      "source": [
        "df = pd.DataFrame(dict([ (k,pd.Series(v)) for k,v in dfdict.items() ]))\n",
        "df = df.T"
      ],
      "execution_count": 49,
      "outputs": []
    },
    {
      "cell_type": "code",
      "metadata": {
        "id": "dzV114k_ZazJ",
        "outputId": "bbf933c8-514b-48e2-8247-8d96d087367c",
        "colab": {
          "base_uri": "https://localhost:8080/",
          "height": 402
        }
      },
      "source": [
        "df"
      ],
      "execution_count": 50,
      "outputs": [
        {
          "output_type": "execute_result",
          "data": {
            "text/html": [
              "<div>\n",
              "<style scoped>\n",
              "    .dataframe tbody tr th:only-of-type {\n",
              "        vertical-align: middle;\n",
              "    }\n",
              "\n",
              "    .dataframe tbody tr th {\n",
              "        vertical-align: top;\n",
              "    }\n",
              "\n",
              "    .dataframe thead th {\n",
              "        text-align: right;\n",
              "    }\n",
              "</style>\n",
              "<table border=\"1\" class=\"dataframe\">\n",
              "  <thead>\n",
              "    <tr style=\"text-align: right;\">\n",
              "      <th></th>\n",
              "      <th>0</th>\n",
              "      <th>1</th>\n",
              "      <th>2</th>\n",
              "      <th>3</th>\n",
              "    </tr>\n",
              "  </thead>\n",
              "  <tbody>\n",
              "    <tr>\n",
              "      <th>0.000000</th>\n",
              "      <td>0000</td>\n",
              "      <td>000</td>\n",
              "      <td>8</td>\n",
              "      <td>[00, 00, 00, 00, 00, 00, 00, 00]</td>\n",
              "    </tr>\n",
              "    <tr>\n",
              "      <th>0.000271</th>\n",
              "      <td>0080</td>\n",
              "      <td>000</td>\n",
              "      <td>8</td>\n",
              "      <td>[00, 17, dc, 09, 16, 11, 16, bb]</td>\n",
              "    </tr>\n",
              "    <tr>\n",
              "      <th>0.000495</th>\n",
              "      <td>0000</td>\n",
              "      <td>000</td>\n",
              "      <td>8</td>\n",
              "      <td>[00, 00, 00, 00, 00, 00, 00, 00]</td>\n",
              "    </tr>\n",
              "    <tr>\n",
              "      <th>0.000736</th>\n",
              "      <td>0081</td>\n",
              "      <td>000</td>\n",
              "      <td>8</td>\n",
              "      <td>[40, 84, 87, 00, 00, 00, 00, 6b]</td>\n",
              "    </tr>\n",
              "    <tr>\n",
              "      <th>0.000983</th>\n",
              "      <td>0000</td>\n",
              "      <td>000</td>\n",
              "      <td>8</td>\n",
              "      <td>[00, 00, 00, 00, 00, 00, 00, 00]</td>\n",
              "    </tr>\n",
              "    <tr>\n",
              "      <th>...</th>\n",
              "      <td>...</td>\n",
              "      <td>...</td>\n",
              "      <td>...</td>\n",
              "      <td>...</td>\n",
              "    </tr>\n",
              "    <tr>\n",
              "      <th>306.295869</th>\n",
              "      <td>0000</td>\n",
              "      <td>000</td>\n",
              "      <td>8</td>\n",
              "      <td>[00, 00, 00, 00, 00, 00, 00, 00]</td>\n",
              "    </tr>\n",
              "    <tr>\n",
              "      <th>306.296118</th>\n",
              "      <td>0081</td>\n",
              "      <td>000</td>\n",
              "      <td>8</td>\n",
              "      <td>[40, 84, 89, 00, 00, 00, 00, f0]</td>\n",
              "    </tr>\n",
              "    <tr>\n",
              "      <th>306.296365</th>\n",
              "      <td>0000</td>\n",
              "      <td>000</td>\n",
              "      <td>8</td>\n",
              "      <td>[00, 00, 00, 00, 00, 00, 00, 00]</td>\n",
              "    </tr>\n",
              "    <tr>\n",
              "      <th>306.296624</th>\n",
              "      <td>018f</td>\n",
              "      <td>000</td>\n",
              "      <td>8</td>\n",
              "      <td>[00, 3b, 18, 00, 00, 3f, 00, 00]</td>\n",
              "    </tr>\n",
              "    <tr>\n",
              "      <th>306.296857</th>\n",
              "      <td>0000</td>\n",
              "      <td>000</td>\n",
              "      <td>8</td>\n",
              "      <td>[00, 00, 00, 00, 00, 00, 00, 00]</td>\n",
              "    </tr>\n",
              "  </tbody>\n",
              "</table>\n",
              "<p>656579 rows × 4 columns</p>\n",
              "</div>"
            ],
            "text/plain": [
              "               0    1  2                                 3\n",
              "0.000000    0000  000  8  [00, 00, 00, 00, 00, 00, 00, 00]\n",
              "0.000271    0080  000  8  [00, 17, dc, 09, 16, 11, 16, bb]\n",
              "0.000495    0000  000  8  [00, 00, 00, 00, 00, 00, 00, 00]\n",
              "0.000736    0081  000  8  [40, 84, 87, 00, 00, 00, 00, 6b]\n",
              "0.000983    0000  000  8  [00, 00, 00, 00, 00, 00, 00, 00]\n",
              "...          ...  ... ..                               ...\n",
              "306.295869  0000  000  8  [00, 00, 00, 00, 00, 00, 00, 00]\n",
              "306.296118  0081  000  8  [40, 84, 89, 00, 00, 00, 00, f0]\n",
              "306.296365  0000  000  8  [00, 00, 00, 00, 00, 00, 00, 00]\n",
              "306.296624  018f  000  8  [00, 3b, 18, 00, 00, 3f, 00, 00]\n",
              "306.296857  0000  000  8  [00, 00, 00, 00, 00, 00, 00, 00]\n",
              "\n",
              "[656579 rows x 4 columns]"
            ]
          },
          "metadata": {
            "tags": []
          },
          "execution_count": 50
        }
      ]
    },
    {
      "cell_type": "code",
      "metadata": {
        "id": "PThZ5BKybZXg"
      },
      "source": [
        "df.columns = ['ID','RTR','DLC','Data'] \n",
        "df.index = df.index.rename('Timestamp')"
      ],
      "execution_count": 52,
      "outputs": []
    },
    {
      "cell_type": "code",
      "metadata": {
        "id": "RbqHslp1dNqt",
        "outputId": "d4264793-2e74-47fa-e2cd-ec4d24429ccc",
        "colab": {
          "base_uri": "https://localhost:8080/",
          "height": 431
        }
      },
      "source": [
        "df"
      ],
      "execution_count": 53,
      "outputs": [
        {
          "output_type": "execute_result",
          "data": {
            "text/html": [
              "<div>\n",
              "<style scoped>\n",
              "    .dataframe tbody tr th:only-of-type {\n",
              "        vertical-align: middle;\n",
              "    }\n",
              "\n",
              "    .dataframe tbody tr th {\n",
              "        vertical-align: top;\n",
              "    }\n",
              "\n",
              "    .dataframe thead th {\n",
              "        text-align: right;\n",
              "    }\n",
              "</style>\n",
              "<table border=\"1\" class=\"dataframe\">\n",
              "  <thead>\n",
              "    <tr style=\"text-align: right;\">\n",
              "      <th></th>\n",
              "      <th>ID</th>\n",
              "      <th>RTR</th>\n",
              "      <th>DLC</th>\n",
              "      <th>Data</th>\n",
              "    </tr>\n",
              "    <tr>\n",
              "      <th>Timestamp</th>\n",
              "      <th></th>\n",
              "      <th></th>\n",
              "      <th></th>\n",
              "      <th></th>\n",
              "    </tr>\n",
              "  </thead>\n",
              "  <tbody>\n",
              "    <tr>\n",
              "      <th>0.000000</th>\n",
              "      <td>0000</td>\n",
              "      <td>000</td>\n",
              "      <td>8</td>\n",
              "      <td>[00, 00, 00, 00, 00, 00, 00, 00]</td>\n",
              "    </tr>\n",
              "    <tr>\n",
              "      <th>0.000271</th>\n",
              "      <td>0080</td>\n",
              "      <td>000</td>\n",
              "      <td>8</td>\n",
              "      <td>[00, 17, dc, 09, 16, 11, 16, bb]</td>\n",
              "    </tr>\n",
              "    <tr>\n",
              "      <th>0.000495</th>\n",
              "      <td>0000</td>\n",
              "      <td>000</td>\n",
              "      <td>8</td>\n",
              "      <td>[00, 00, 00, 00, 00, 00, 00, 00]</td>\n",
              "    </tr>\n",
              "    <tr>\n",
              "      <th>0.000736</th>\n",
              "      <td>0081</td>\n",
              "      <td>000</td>\n",
              "      <td>8</td>\n",
              "      <td>[40, 84, 87, 00, 00, 00, 00, 6b]</td>\n",
              "    </tr>\n",
              "    <tr>\n",
              "      <th>0.000983</th>\n",
              "      <td>0000</td>\n",
              "      <td>000</td>\n",
              "      <td>8</td>\n",
              "      <td>[00, 00, 00, 00, 00, 00, 00, 00]</td>\n",
              "    </tr>\n",
              "    <tr>\n",
              "      <th>...</th>\n",
              "      <td>...</td>\n",
              "      <td>...</td>\n",
              "      <td>...</td>\n",
              "      <td>...</td>\n",
              "    </tr>\n",
              "    <tr>\n",
              "      <th>306.295869</th>\n",
              "      <td>0000</td>\n",
              "      <td>000</td>\n",
              "      <td>8</td>\n",
              "      <td>[00, 00, 00, 00, 00, 00, 00, 00]</td>\n",
              "    </tr>\n",
              "    <tr>\n",
              "      <th>306.296118</th>\n",
              "      <td>0081</td>\n",
              "      <td>000</td>\n",
              "      <td>8</td>\n",
              "      <td>[40, 84, 89, 00, 00, 00, 00, f0]</td>\n",
              "    </tr>\n",
              "    <tr>\n",
              "      <th>306.296365</th>\n",
              "      <td>0000</td>\n",
              "      <td>000</td>\n",
              "      <td>8</td>\n",
              "      <td>[00, 00, 00, 00, 00, 00, 00, 00]</td>\n",
              "    </tr>\n",
              "    <tr>\n",
              "      <th>306.296624</th>\n",
              "      <td>018f</td>\n",
              "      <td>000</td>\n",
              "      <td>8</td>\n",
              "      <td>[00, 3b, 18, 00, 00, 3f, 00, 00]</td>\n",
              "    </tr>\n",
              "    <tr>\n",
              "      <th>306.296857</th>\n",
              "      <td>0000</td>\n",
              "      <td>000</td>\n",
              "      <td>8</td>\n",
              "      <td>[00, 00, 00, 00, 00, 00, 00, 00]</td>\n",
              "    </tr>\n",
              "  </tbody>\n",
              "</table>\n",
              "<p>656579 rows × 4 columns</p>\n",
              "</div>"
            ],
            "text/plain": [
              "              ID  RTR DLC                              Data\n",
              "Timestamp                                                  \n",
              "0.000000    0000  000   8  [00, 00, 00, 00, 00, 00, 00, 00]\n",
              "0.000271    0080  000   8  [00, 17, dc, 09, 16, 11, 16, bb]\n",
              "0.000495    0000  000   8  [00, 00, 00, 00, 00, 00, 00, 00]\n",
              "0.000736    0081  000   8  [40, 84, 87, 00, 00, 00, 00, 6b]\n",
              "0.000983    0000  000   8  [00, 00, 00, 00, 00, 00, 00, 00]\n",
              "...          ...  ...  ..                               ...\n",
              "306.295869  0000  000   8  [00, 00, 00, 00, 00, 00, 00, 00]\n",
              "306.296118  0081  000   8  [40, 84, 89, 00, 00, 00, 00, f0]\n",
              "306.296365  0000  000   8  [00, 00, 00, 00, 00, 00, 00, 00]\n",
              "306.296624  018f  000   8  [00, 3b, 18, 00, 00, 3f, 00, 00]\n",
              "306.296857  0000  000   8  [00, 00, 00, 00, 00, 00, 00, 00]\n",
              "\n",
              "[656579 rows x 4 columns]"
            ]
          },
          "metadata": {
            "tags": []
          },
          "execution_count": 53
        }
      ]
    },
    {
      "cell_type": "code",
      "metadata": {
        "id": "9yaBRkOOdQE9",
        "outputId": "cd3f2814-8ee5-43e3-a093-6cb062986b75",
        "colab": {
          "base_uri": "https://localhost:8080/"
        }
      },
      "source": [
        "df.index.max()"
      ],
      "execution_count": 58,
      "outputs": [
        {
          "output_type": "execute_result",
          "data": {
            "text/plain": [
              "306.296857"
            ]
          },
          "metadata": {
            "tags": []
          },
          "execution_count": 58
        }
      ]
    },
    {
      "cell_type": "code",
      "metadata": {
        "id": "_sUp435peKHq"
      },
      "source": [
        "df.to_csv('/content/drive/My Drive/Colab Notebooks/CS581-TestResults/project-data/DoS_attack_dataset.csv')"
      ],
      "execution_count": 59,
      "outputs": []
    },
    {
      "cell_type": "code",
      "metadata": {
        "id": "h4xdP_XSeX_q"
      },
      "source": [
        "deviceids = df['ID'].unique()"
      ],
      "execution_count": 62,
      "outputs": []
    },
    {
      "cell_type": "code",
      "metadata": {
        "id": "nXQNZwbTeh3y",
        "outputId": "5258b94d-bf63-4015-a35b-3e689b5af5bc",
        "colab": {
          "base_uri": "https://localhost:8080/",
          "height": 1000
        }
      },
      "source": [
        "df.groupby('ID').count()"
      ],
      "execution_count": 66,
      "outputs": [
        {
          "output_type": "execute_result",
          "data": {
            "text/html": [
              "<div>\n",
              "<style scoped>\n",
              "    .dataframe tbody tr th:only-of-type {\n",
              "        vertical-align: middle;\n",
              "    }\n",
              "\n",
              "    .dataframe tbody tr th {\n",
              "        vertical-align: top;\n",
              "    }\n",
              "\n",
              "    .dataframe thead th {\n",
              "        text-align: right;\n",
              "    }\n",
              "</style>\n",
              "<table border=\"1\" class=\"dataframe\">\n",
              "  <thead>\n",
              "    <tr style=\"text-align: right;\">\n",
              "      <th></th>\n",
              "      <th>RTR</th>\n",
              "      <th>DLC</th>\n",
              "      <th>Data</th>\n",
              "    </tr>\n",
              "    <tr>\n",
              "      <th>ID</th>\n",
              "      <th></th>\n",
              "      <th></th>\n",
              "      <th></th>\n",
              "    </tr>\n",
              "  </thead>\n",
              "  <tbody>\n",
              "    <tr>\n",
              "      <th>0000</th>\n",
              "      <td>335624</td>\n",
              "      <td>335624</td>\n",
              "      <td>335624</td>\n",
              "    </tr>\n",
              "    <tr>\n",
              "      <th>0018</th>\n",
              "      <td>820</td>\n",
              "      <td>820</td>\n",
              "      <td>820</td>\n",
              "    </tr>\n",
              "    <tr>\n",
              "      <th>0034</th>\n",
              "      <td>163</td>\n",
              "      <td>163</td>\n",
              "      <td>163</td>\n",
              "    </tr>\n",
              "    <tr>\n",
              "      <th>0042</th>\n",
              "      <td>163</td>\n",
              "      <td>163</td>\n",
              "      <td>163</td>\n",
              "    </tr>\n",
              "    <tr>\n",
              "      <th>0043</th>\n",
              "      <td>158</td>\n",
              "      <td>158</td>\n",
              "      <td>158</td>\n",
              "    </tr>\n",
              "    <tr>\n",
              "      <th>0044</th>\n",
              "      <td>151</td>\n",
              "      <td>151</td>\n",
              "      <td>151</td>\n",
              "    </tr>\n",
              "    <tr>\n",
              "      <th>0050</th>\n",
              "      <td>664</td>\n",
              "      <td>664</td>\n",
              "      <td>664</td>\n",
              "    </tr>\n",
              "    <tr>\n",
              "      <th>0080</th>\n",
              "      <td>15612</td>\n",
              "      <td>15612</td>\n",
              "      <td>15612</td>\n",
              "    </tr>\n",
              "    <tr>\n",
              "      <th>0081</th>\n",
              "      <td>15700</td>\n",
              "      <td>15700</td>\n",
              "      <td>15700</td>\n",
              "    </tr>\n",
              "    <tr>\n",
              "      <th>00a0</th>\n",
              "      <td>1523</td>\n",
              "      <td>1523</td>\n",
              "      <td>1523</td>\n",
              "    </tr>\n",
              "    <tr>\n",
              "      <th>00a1</th>\n",
              "      <td>1551</td>\n",
              "      <td>1551</td>\n",
              "      <td>1551</td>\n",
              "    </tr>\n",
              "    <tr>\n",
              "      <th>0110</th>\n",
              "      <td>1552</td>\n",
              "      <td>1552</td>\n",
              "      <td>1552</td>\n",
              "    </tr>\n",
              "    <tr>\n",
              "      <th>0120</th>\n",
              "      <td>685</td>\n",
              "      <td>685</td>\n",
              "      <td>685</td>\n",
              "    </tr>\n",
              "    <tr>\n",
              "      <th>0153</th>\n",
              "      <td>18401</td>\n",
              "      <td>18401</td>\n",
              "      <td>17225</td>\n",
              "    </tr>\n",
              "    <tr>\n",
              "      <th>0164</th>\n",
              "      <td>17271</td>\n",
              "      <td>17271</td>\n",
              "      <td>16040</td>\n",
              "    </tr>\n",
              "    <tr>\n",
              "      <th>0165</th>\n",
              "      <td>15792</td>\n",
              "      <td>15792</td>\n",
              "      <td>15792</td>\n",
              "    </tr>\n",
              "    <tr>\n",
              "      <th>018f</th>\n",
              "      <td>15849</td>\n",
              "      <td>15849</td>\n",
              "      <td>15849</td>\n",
              "    </tr>\n",
              "    <tr>\n",
              "      <th>01f1</th>\n",
              "      <td>10858</td>\n",
              "      <td>10858</td>\n",
              "      <td>9596</td>\n",
              "    </tr>\n",
              "    <tr>\n",
              "      <th>0220</th>\n",
              "      <td>18274</td>\n",
              "      <td>18274</td>\n",
              "      <td>17062</td>\n",
              "    </tr>\n",
              "    <tr>\n",
              "      <th>0260</th>\n",
              "      <td>15444</td>\n",
              "      <td>15444</td>\n",
              "      <td>15444</td>\n",
              "    </tr>\n",
              "    <tr>\n",
              "      <th>02a0</th>\n",
              "      <td>15355</td>\n",
              "      <td>15355</td>\n",
              "      <td>15355</td>\n",
              "    </tr>\n",
              "    <tr>\n",
              "      <th>02b0</th>\n",
              "      <td>14001</td>\n",
              "      <td>14001</td>\n",
              "      <td>14001</td>\n",
              "    </tr>\n",
              "    <tr>\n",
              "      <th>02c0</th>\n",
              "      <td>4343</td>\n",
              "      <td>4343</td>\n",
              "      <td>3199</td>\n",
              "    </tr>\n",
              "    <tr>\n",
              "      <th>0316</th>\n",
              "      <td>15520</td>\n",
              "      <td>15520</td>\n",
              "      <td>15520</td>\n",
              "    </tr>\n",
              "    <tr>\n",
              "      <th>0329</th>\n",
              "      <td>15383</td>\n",
              "      <td>15383</td>\n",
              "      <td>15383</td>\n",
              "    </tr>\n",
              "    <tr>\n",
              "      <th>0350</th>\n",
              "      <td>7764</td>\n",
              "      <td>7764</td>\n",
              "      <td>7764</td>\n",
              "    </tr>\n",
              "    <tr>\n",
              "      <th>0370</th>\n",
              "      <td>15349</td>\n",
              "      <td>15349</td>\n",
              "      <td>15349</td>\n",
              "    </tr>\n",
              "    <tr>\n",
              "      <th>0382</th>\n",
              "      <td>7789</td>\n",
              "      <td>7789</td>\n",
              "      <td>7789</td>\n",
              "    </tr>\n",
              "    <tr>\n",
              "      <th>043f</th>\n",
              "      <td>15041</td>\n",
              "      <td>15041</td>\n",
              "      <td>15041</td>\n",
              "    </tr>\n",
              "    <tr>\n",
              "      <th>0440</th>\n",
              "      <td>15093</td>\n",
              "      <td>15093</td>\n",
              "      <td>15093</td>\n",
              "    </tr>\n",
              "    <tr>\n",
              "      <th>04b0</th>\n",
              "      <td>10690</td>\n",
              "      <td>10690</td>\n",
              "      <td>9508</td>\n",
              "    </tr>\n",
              "    <tr>\n",
              "      <th>04b1</th>\n",
              "      <td>10472</td>\n",
              "      <td>10472</td>\n",
              "      <td>9310</td>\n",
              "    </tr>\n",
              "    <tr>\n",
              "      <th>04f0</th>\n",
              "      <td>1184</td>\n",
              "      <td>1184</td>\n",
              "      <td>1184</td>\n",
              "    </tr>\n",
              "    <tr>\n",
              "      <th>04f1</th>\n",
              "      <td>453</td>\n",
              "      <td>453</td>\n",
              "      <td>453</td>\n",
              "    </tr>\n",
              "    <tr>\n",
              "      <th>04f2</th>\n",
              "      <td>840</td>\n",
              "      <td>840</td>\n",
              "      <td>840</td>\n",
              "    </tr>\n",
              "    <tr>\n",
              "      <th>0510</th>\n",
              "      <td>1585</td>\n",
              "      <td>1585</td>\n",
              "      <td>1585</td>\n",
              "    </tr>\n",
              "    <tr>\n",
              "      <th>0517</th>\n",
              "      <td>758</td>\n",
              "      <td>758</td>\n",
              "      <td>758</td>\n",
              "    </tr>\n",
              "    <tr>\n",
              "      <th>051a</th>\n",
              "      <td>329</td>\n",
              "      <td>329</td>\n",
              "      <td>329</td>\n",
              "    </tr>\n",
              "    <tr>\n",
              "      <th>0545</th>\n",
              "      <td>8493</td>\n",
              "      <td>8493</td>\n",
              "      <td>8493</td>\n",
              "    </tr>\n",
              "    <tr>\n",
              "      <th>0587</th>\n",
              "      <td>1548</td>\n",
              "      <td>1548</td>\n",
              "      <td>1548</td>\n",
              "    </tr>\n",
              "    <tr>\n",
              "      <th>059b</th>\n",
              "      <td>1485</td>\n",
              "      <td>1485</td>\n",
              "      <td>1485</td>\n",
              "    </tr>\n",
              "    <tr>\n",
              "      <th>05a0</th>\n",
              "      <td>2968</td>\n",
              "      <td>2968</td>\n",
              "      <td>1765</td>\n",
              "    </tr>\n",
              "    <tr>\n",
              "      <th>05a2</th>\n",
              "      <td>2602</td>\n",
              "      <td>2602</td>\n",
              "      <td>1380</td>\n",
              "    </tr>\n",
              "    <tr>\n",
              "      <th>05e4</th>\n",
              "      <td>570</td>\n",
              "      <td>570</td>\n",
              "      <td>570</td>\n",
              "    </tr>\n",
              "    <tr>\n",
              "      <th>05f0</th>\n",
              "      <td>330</td>\n",
              "      <td>330</td>\n",
              "      <td>330</td>\n",
              "    </tr>\n",
              "    <tr>\n",
              "      <th>0690</th>\n",
              "      <td>379</td>\n",
              "      <td>379</td>\n",
              "      <td>379</td>\n",
              "    </tr>\n",
              "  </tbody>\n",
              "</table>\n",
              "</div>"
            ],
            "text/plain": [
              "         RTR     DLC    Data\n",
              "ID                          \n",
              "0000  335624  335624  335624\n",
              "0018     820     820     820\n",
              "0034     163     163     163\n",
              "0042     163     163     163\n",
              "0043     158     158     158\n",
              "0044     151     151     151\n",
              "0050     664     664     664\n",
              "0080   15612   15612   15612\n",
              "0081   15700   15700   15700\n",
              "00a0    1523    1523    1523\n",
              "00a1    1551    1551    1551\n",
              "0110    1552    1552    1552\n",
              "0120     685     685     685\n",
              "0153   18401   18401   17225\n",
              "0164   17271   17271   16040\n",
              "0165   15792   15792   15792\n",
              "018f   15849   15849   15849\n",
              "01f1   10858   10858    9596\n",
              "0220   18274   18274   17062\n",
              "0260   15444   15444   15444\n",
              "02a0   15355   15355   15355\n",
              "02b0   14001   14001   14001\n",
              "02c0    4343    4343    3199\n",
              "0316   15520   15520   15520\n",
              "0329   15383   15383   15383\n",
              "0350    7764    7764    7764\n",
              "0370   15349   15349   15349\n",
              "0382    7789    7789    7789\n",
              "043f   15041   15041   15041\n",
              "0440   15093   15093   15093\n",
              "04b0   10690   10690    9508\n",
              "04b1   10472   10472    9310\n",
              "04f0    1184    1184    1184\n",
              "04f1     453     453     453\n",
              "04f2     840     840     840\n",
              "0510    1585    1585    1585\n",
              "0517     758     758     758\n",
              "051a     329     329     329\n",
              "0545    8493    8493    8493\n",
              "0587    1548    1548    1548\n",
              "059b    1485    1485    1485\n",
              "05a0    2968    2968    1765\n",
              "05a2    2602    2602    1380\n",
              "05e4     570     570     570\n",
              "05f0     330     330     330\n",
              "0690     379     379     379"
            ]
          },
          "metadata": {
            "tags": []
          },
          "execution_count": 66
        }
      ]
    },
    {
      "cell_type": "markdown",
      "metadata": {
        "id": "Z9C5TMz_yrPu"
      },
      "source": [
        "## Fuzzy Attack Dataset"
      ]
    },
    {
      "cell_type": "markdown",
      "metadata": {
        "id": "Hx4tdHZSz4Yl"
      },
      "source": [
        "Now exploring the format of the other datasets, we see that we have a uniform formatting, and thus can apply the same transformations to get a csv file that we can use for further processing. We have a nice pipeline established."
      ]
    },
    {
      "cell_type": "code",
      "metadata": {
        "id": "JtLPtYBEyuLU",
        "outputId": "c097cd23-f52b-418d-d9be-450e177cc6d2",
        "colab": {
          "base_uri": "https://localhost:8080/"
        }
      },
      "source": [
        "count = len(open('/content/drive/My Drive/Colab Notebooks/CS581-TestResults/project-data/Fuzzy_attack_dataset.txt','r').readlines())\n",
        "count"
      ],
      "execution_count": 67,
      "outputs": [
        {
          "output_type": "execute_result",
          "data": {
            "text/plain": [
              "591990"
            ]
          },
          "metadata": {
            "tags": []
          },
          "execution_count": 67
        }
      ]
    },
    {
      "cell_type": "code",
      "metadata": {
        "id": "GO9wsGWnyuLY"
      },
      "source": [
        "dfdict2 = {}"
      ],
      "execution_count": 70,
      "outputs": []
    },
    {
      "cell_type": "code",
      "metadata": {
        "id": "bkWHLhyYyuLb"
      },
      "source": [
        "with open('/content/drive/My Drive/Colab Notebooks/CS581-TestResults/project-data/Fuzzy_attack_dataset.txt','r') as file:\n",
        "    for line in file.readlines():\n",
        "        line = line.split()\n",
        "        line.remove('Timestamp:')\n",
        "        line.remove('ID:')\n",
        "        line.remove('DLC:')\n",
        "        if len(line) > 4:\n",
        "            line[4] = line[4:]\n",
        "            line = line[:5]            \n",
        "        dfdict2[float(line[0])] = line[1:]\n",
        "        # print(line)"
      ],
      "execution_count": 71,
      "outputs": []
    },
    {
      "cell_type": "code",
      "metadata": {
        "id": "PPnwxTZuy49x",
        "outputId": "4bd6eed4-dc63-409e-eef9-ab2909d6d804",
        "colab": {
          "base_uri": "https://localhost:8080/",
          "height": 431
        }
      },
      "source": [
        "df2 = pd.DataFrame(dict([ (k,pd.Series(v)) for k,v in dfdict2.items() ]))\n",
        "df2 = df2.T\n",
        "df2.columns = ['ID','RTR','DLC','Data'] \n",
        "df2.index = df2.index.rename('Timestamp')\n",
        "df2"
      ],
      "execution_count": 72,
      "outputs": [
        {
          "output_type": "execute_result",
          "data": {
            "text/html": [
              "<div>\n",
              "<style scoped>\n",
              "    .dataframe tbody tr th:only-of-type {\n",
              "        vertical-align: middle;\n",
              "    }\n",
              "\n",
              "    .dataframe tbody tr th {\n",
              "        vertical-align: top;\n",
              "    }\n",
              "\n",
              "    .dataframe thead th {\n",
              "        text-align: right;\n",
              "    }\n",
              "</style>\n",
              "<table border=\"1\" class=\"dataframe\">\n",
              "  <thead>\n",
              "    <tr style=\"text-align: right;\">\n",
              "      <th></th>\n",
              "      <th>ID</th>\n",
              "      <th>RTR</th>\n",
              "      <th>DLC</th>\n",
              "      <th>Data</th>\n",
              "    </tr>\n",
              "    <tr>\n",
              "      <th>Timestamp</th>\n",
              "      <th></th>\n",
              "      <th></th>\n",
              "      <th></th>\n",
              "      <th></th>\n",
              "    </tr>\n",
              "  </thead>\n",
              "  <tbody>\n",
              "    <tr>\n",
              "      <th>0.000000</th>\n",
              "      <td>0220</td>\n",
              "      <td>000</td>\n",
              "      <td>8</td>\n",
              "      <td>[29, c5, 26, 55, 6a, 67, 02, 5d]</td>\n",
              "    </tr>\n",
              "    <tr>\n",
              "      <th>0.000868</th>\n",
              "      <td>04b1</td>\n",
              "      <td>000</td>\n",
              "      <td>8</td>\n",
              "      <td>[5e, 51, cf, b7, 4c, 99, aa, 97]</td>\n",
              "    </tr>\n",
              "    <tr>\n",
              "      <th>0.001212</th>\n",
              "      <td>02b0</td>\n",
              "      <td>000</td>\n",
              "      <td>5</td>\n",
              "      <td>[3a, ff, 00, 07, 2c]</td>\n",
              "    </tr>\n",
              "    <tr>\n",
              "      <th>0.001452</th>\n",
              "      <td>0165</td>\n",
              "      <td>000</td>\n",
              "      <td>8</td>\n",
              "      <td>[00, 08, 80, 02, 00, 00, 0c, 86]</td>\n",
              "    </tr>\n",
              "    <tr>\n",
              "      <th>0.001782</th>\n",
              "      <td>0220</td>\n",
              "      <td>000</td>\n",
              "      <td>8</td>\n",
              "      <td>[d4, a6, e3, a9, 23, aa, d3, 1f]</td>\n",
              "    </tr>\n",
              "    <tr>\n",
              "      <th>...</th>\n",
              "      <td>...</td>\n",
              "      <td>...</td>\n",
              "      <td>...</td>\n",
              "      <td>...</td>\n",
              "    </tr>\n",
              "    <tr>\n",
              "      <th>347.330224</th>\n",
              "      <td>0153</td>\n",
              "      <td>000</td>\n",
              "      <td>8</td>\n",
              "      <td>[00, a1, 20, ff, 00, ff, 20, df]</td>\n",
              "    </tr>\n",
              "    <tr>\n",
              "      <th>347.330461</th>\n",
              "      <td>0220</td>\n",
              "      <td>000</td>\n",
              "      <td>8</td>\n",
              "      <td>[c0, 03, f5, 03, 0c, 00, 47, 10]</td>\n",
              "    </tr>\n",
              "    <tr>\n",
              "      <th>347.330678</th>\n",
              "      <td>05a0</td>\n",
              "      <td>000</td>\n",
              "      <td>8</td>\n",
              "      <td>[a6, 20, 52, 6d, a7, ee, 7c, e2]</td>\n",
              "    </tr>\n",
              "    <tr>\n",
              "      <th>347.331050</th>\n",
              "      <td>05a2</td>\n",
              "      <td>000</td>\n",
              "      <td>8</td>\n",
              "      <td>[ee, 22, f8, 0b, 5b, 83, 99, ab]</td>\n",
              "    </tr>\n",
              "    <tr>\n",
              "      <th>347.331739</th>\n",
              "      <td>05a0</td>\n",
              "      <td>000</td>\n",
              "      <td>8</td>\n",
              "      <td>[ab, 8f, 7e, 69, 98, 55, 7a, 90]</td>\n",
              "    </tr>\n",
              "  </tbody>\n",
              "</table>\n",
              "<p>591990 rows × 4 columns</p>\n",
              "</div>"
            ],
            "text/plain": [
              "              ID  RTR DLC                              Data\n",
              "Timestamp                                                  \n",
              "0.000000    0220  000   8  [29, c5, 26, 55, 6a, 67, 02, 5d]\n",
              "0.000868    04b1  000   8  [5e, 51, cf, b7, 4c, 99, aa, 97]\n",
              "0.001212    02b0  000   5              [3a, ff, 00, 07, 2c]\n",
              "0.001452    0165  000   8  [00, 08, 80, 02, 00, 00, 0c, 86]\n",
              "0.001782    0220  000   8  [d4, a6, e3, a9, 23, aa, d3, 1f]\n",
              "...          ...  ...  ..                               ...\n",
              "347.330224  0153  000   8  [00, a1, 20, ff, 00, ff, 20, df]\n",
              "347.330461  0220  000   8  [c0, 03, f5, 03, 0c, 00, 47, 10]\n",
              "347.330678  05a0  000   8  [a6, 20, 52, 6d, a7, ee, 7c, e2]\n",
              "347.331050  05a2  000   8  [ee, 22, f8, 0b, 5b, 83, 99, ab]\n",
              "347.331739  05a0  000   8  [ab, 8f, 7e, 69, 98, 55, 7a, 90]\n",
              "\n",
              "[591990 rows x 4 columns]"
            ]
          },
          "metadata": {
            "tags": []
          },
          "execution_count": 72
        }
      ]
    },
    {
      "cell_type": "code",
      "metadata": {
        "id": "E5cUU8dRzNQR",
        "outputId": "085469fe-ad19-4ee2-a0d7-77325b02eae3",
        "colab": {
          "base_uri": "https://localhost:8080/"
        }
      },
      "source": [
        "df2.index.max()"
      ],
      "execution_count": 73,
      "outputs": [
        {
          "output_type": "execute_result",
          "data": {
            "text/plain": [
              "347.331739"
            ]
          },
          "metadata": {
            "tags": []
          },
          "execution_count": 73
        }
      ]
    },
    {
      "cell_type": "code",
      "metadata": {
        "id": "IuqPadSzzNQV"
      },
      "source": [
        "df2.to_csv('/content/drive/My Drive/Colab Notebooks/CS581-TestResults/project-data/Fuzzy_attack_dataset.csv')"
      ],
      "execution_count": 74,
      "outputs": []
    },
    {
      "cell_type": "code",
      "metadata": {
        "id": "WgZHJntjzNQX"
      },
      "source": [
        "deviceids = df2['ID'].unique()"
      ],
      "execution_count": 75,
      "outputs": []
    },
    {
      "cell_type": "code",
      "metadata": {
        "id": "-1nq_htQzNQY",
        "outputId": "94e55d43-a6a2-407c-c96a-72f7c5d4d222",
        "colab": {
          "base_uri": "https://localhost:8080/",
          "height": 1000
        }
      },
      "source": [
        "df2.groupby('ID').count()"
      ],
      "execution_count": 76,
      "outputs": [
        {
          "output_type": "execute_result",
          "data": {
            "text/html": [
              "<div>\n",
              "<style scoped>\n",
              "    .dataframe tbody tr th:only-of-type {\n",
              "        vertical-align: middle;\n",
              "    }\n",
              "\n",
              "    .dataframe tbody tr th {\n",
              "        vertical-align: top;\n",
              "    }\n",
              "\n",
              "    .dataframe thead th {\n",
              "        text-align: right;\n",
              "    }\n",
              "</style>\n",
              "<table border=\"1\" class=\"dataframe\">\n",
              "  <thead>\n",
              "    <tr style=\"text-align: right;\">\n",
              "      <th></th>\n",
              "      <th>RTR</th>\n",
              "      <th>DLC</th>\n",
              "      <th>Data</th>\n",
              "    </tr>\n",
              "    <tr>\n",
              "      <th>ID</th>\n",
              "      <th></th>\n",
              "      <th></th>\n",
              "      <th></th>\n",
              "    </tr>\n",
              "  </thead>\n",
              "  <tbody>\n",
              "    <tr>\n",
              "      <th>0018</th>\n",
              "      <td>3051</td>\n",
              "      <td>3051</td>\n",
              "      <td>3051</td>\n",
              "    </tr>\n",
              "    <tr>\n",
              "      <th>0034</th>\n",
              "      <td>173</td>\n",
              "      <td>173</td>\n",
              "      <td>173</td>\n",
              "    </tr>\n",
              "    <tr>\n",
              "      <th>0042</th>\n",
              "      <td>158</td>\n",
              "      <td>158</td>\n",
              "      <td>158</td>\n",
              "    </tr>\n",
              "    <tr>\n",
              "      <th>0043</th>\n",
              "      <td>161</td>\n",
              "      <td>161</td>\n",
              "      <td>161</td>\n",
              "    </tr>\n",
              "    <tr>\n",
              "      <th>0044</th>\n",
              "      <td>162</td>\n",
              "      <td>162</td>\n",
              "      <td>162</td>\n",
              "    </tr>\n",
              "    <tr>\n",
              "      <th>0050</th>\n",
              "      <td>731</td>\n",
              "      <td>731</td>\n",
              "      <td>731</td>\n",
              "    </tr>\n",
              "    <tr>\n",
              "      <th>0080</th>\n",
              "      <td>16395</td>\n",
              "      <td>16395</td>\n",
              "      <td>16395</td>\n",
              "    </tr>\n",
              "    <tr>\n",
              "      <th>0081</th>\n",
              "      <td>16627</td>\n",
              "      <td>16627</td>\n",
              "      <td>16627</td>\n",
              "    </tr>\n",
              "    <tr>\n",
              "      <th>00a0</th>\n",
              "      <td>1638</td>\n",
              "      <td>1638</td>\n",
              "      <td>1638</td>\n",
              "    </tr>\n",
              "    <tr>\n",
              "      <th>00a1</th>\n",
              "      <td>1560</td>\n",
              "      <td>1560</td>\n",
              "      <td>1560</td>\n",
              "    </tr>\n",
              "    <tr>\n",
              "      <th>0110</th>\n",
              "      <td>5091</td>\n",
              "      <td>5091</td>\n",
              "      <td>5091</td>\n",
              "    </tr>\n",
              "    <tr>\n",
              "      <th>0120</th>\n",
              "      <td>698</td>\n",
              "      <td>698</td>\n",
              "      <td>698</td>\n",
              "    </tr>\n",
              "    <tr>\n",
              "      <th>0153</th>\n",
              "      <td>42704</td>\n",
              "      <td>42704</td>\n",
              "      <td>41333</td>\n",
              "    </tr>\n",
              "    <tr>\n",
              "      <th>0164</th>\n",
              "      <td>41590</td>\n",
              "      <td>41590</td>\n",
              "      <td>40214</td>\n",
              "    </tr>\n",
              "    <tr>\n",
              "      <th>0165</th>\n",
              "      <td>14442</td>\n",
              "      <td>14442</td>\n",
              "      <td>14442</td>\n",
              "    </tr>\n",
              "    <tr>\n",
              "      <th>018f</th>\n",
              "      <td>16568</td>\n",
              "      <td>16568</td>\n",
              "      <td>16568</td>\n",
              "    </tr>\n",
              "    <tr>\n",
              "      <th>01f1</th>\n",
              "      <td>36333</td>\n",
              "      <td>36333</td>\n",
              "      <td>34942</td>\n",
              "    </tr>\n",
              "    <tr>\n",
              "      <th>0220</th>\n",
              "      <td>41538</td>\n",
              "      <td>41538</td>\n",
              "      <td>40175</td>\n",
              "    </tr>\n",
              "    <tr>\n",
              "      <th>0260</th>\n",
              "      <td>16556</td>\n",
              "      <td>16556</td>\n",
              "      <td>16556</td>\n",
              "    </tr>\n",
              "    <tr>\n",
              "      <th>02a0</th>\n",
              "      <td>16151</td>\n",
              "      <td>16151</td>\n",
              "      <td>16151</td>\n",
              "    </tr>\n",
              "    <tr>\n",
              "      <th>02b0</th>\n",
              "      <td>13620</td>\n",
              "      <td>13620</td>\n",
              "      <td>13620</td>\n",
              "    </tr>\n",
              "    <tr>\n",
              "      <th>02c0</th>\n",
              "      <td>31645</td>\n",
              "      <td>31645</td>\n",
              "      <td>30320</td>\n",
              "    </tr>\n",
              "    <tr>\n",
              "      <th>0316</th>\n",
              "      <td>19758</td>\n",
              "      <td>19758</td>\n",
              "      <td>19758</td>\n",
              "    </tr>\n",
              "    <tr>\n",
              "      <th>0329</th>\n",
              "      <td>15886</td>\n",
              "      <td>15886</td>\n",
              "      <td>15886</td>\n",
              "    </tr>\n",
              "    <tr>\n",
              "      <th>0350</th>\n",
              "      <td>7968</td>\n",
              "      <td>7968</td>\n",
              "      <td>7968</td>\n",
              "    </tr>\n",
              "    <tr>\n",
              "      <th>0370</th>\n",
              "      <td>16016</td>\n",
              "      <td>16016</td>\n",
              "      <td>16016</td>\n",
              "    </tr>\n",
              "    <tr>\n",
              "      <th>0382</th>\n",
              "      <td>8152</td>\n",
              "      <td>8152</td>\n",
              "      <td>8152</td>\n",
              "    </tr>\n",
              "    <tr>\n",
              "      <th>043f</th>\n",
              "      <td>16684</td>\n",
              "      <td>16684</td>\n",
              "      <td>16684</td>\n",
              "    </tr>\n",
              "    <tr>\n",
              "      <th>0440</th>\n",
              "      <td>15831</td>\n",
              "      <td>15831</td>\n",
              "      <td>15831</td>\n",
              "    </tr>\n",
              "    <tr>\n",
              "      <th>04b0</th>\n",
              "      <td>35834</td>\n",
              "      <td>35834</td>\n",
              "      <td>34496</td>\n",
              "    </tr>\n",
              "    <tr>\n",
              "      <th>04b1</th>\n",
              "      <td>36043</td>\n",
              "      <td>36043</td>\n",
              "      <td>34744</td>\n",
              "    </tr>\n",
              "    <tr>\n",
              "      <th>04f0</th>\n",
              "      <td>7857</td>\n",
              "      <td>7857</td>\n",
              "      <td>7857</td>\n",
              "    </tr>\n",
              "    <tr>\n",
              "      <th>04f1</th>\n",
              "      <td>1535</td>\n",
              "      <td>1535</td>\n",
              "      <td>1535</td>\n",
              "    </tr>\n",
              "    <tr>\n",
              "      <th>04f2</th>\n",
              "      <td>8469</td>\n",
              "      <td>8469</td>\n",
              "      <td>8469</td>\n",
              "    </tr>\n",
              "    <tr>\n",
              "      <th>0510</th>\n",
              "      <td>1641</td>\n",
              "      <td>1641</td>\n",
              "      <td>1641</td>\n",
              "    </tr>\n",
              "    <tr>\n",
              "      <th>0517</th>\n",
              "      <td>761</td>\n",
              "      <td>761</td>\n",
              "      <td>761</td>\n",
              "    </tr>\n",
              "    <tr>\n",
              "      <th>051a</th>\n",
              "      <td>782</td>\n",
              "      <td>782</td>\n",
              "      <td>782</td>\n",
              "    </tr>\n",
              "    <tr>\n",
              "      <th>0545</th>\n",
              "      <td>15293</td>\n",
              "      <td>15293</td>\n",
              "      <td>15293</td>\n",
              "    </tr>\n",
              "    <tr>\n",
              "      <th>0587</th>\n",
              "      <td>1663</td>\n",
              "      <td>1663</td>\n",
              "      <td>1663</td>\n",
              "    </tr>\n",
              "    <tr>\n",
              "      <th>059b</th>\n",
              "      <td>1537</td>\n",
              "      <td>1537</td>\n",
              "      <td>1537</td>\n",
              "    </tr>\n",
              "    <tr>\n",
              "      <th>05a0</th>\n",
              "      <td>29891</td>\n",
              "      <td>29891</td>\n",
              "      <td>28568</td>\n",
              "    </tr>\n",
              "    <tr>\n",
              "      <th>05a2</th>\n",
              "      <td>29368</td>\n",
              "      <td>29368</td>\n",
              "      <td>28073</td>\n",
              "    </tr>\n",
              "    <tr>\n",
              "      <th>05e4</th>\n",
              "      <td>1330</td>\n",
              "      <td>1330</td>\n",
              "      <td>1330</td>\n",
              "    </tr>\n",
              "    <tr>\n",
              "      <th>05f0</th>\n",
              "      <td>688</td>\n",
              "      <td>688</td>\n",
              "      <td>688</td>\n",
              "    </tr>\n",
              "    <tr>\n",
              "      <th>0690</th>\n",
              "      <td>1411</td>\n",
              "      <td>1411</td>\n",
              "      <td>1411</td>\n",
              "    </tr>\n",
              "  </tbody>\n",
              "</table>\n",
              "</div>"
            ],
            "text/plain": [
              "        RTR    DLC   Data\n",
              "ID                       \n",
              "0018   3051   3051   3051\n",
              "0034    173    173    173\n",
              "0042    158    158    158\n",
              "0043    161    161    161\n",
              "0044    162    162    162\n",
              "0050    731    731    731\n",
              "0080  16395  16395  16395\n",
              "0081  16627  16627  16627\n",
              "00a0   1638   1638   1638\n",
              "00a1   1560   1560   1560\n",
              "0110   5091   5091   5091\n",
              "0120    698    698    698\n",
              "0153  42704  42704  41333\n",
              "0164  41590  41590  40214\n",
              "0165  14442  14442  14442\n",
              "018f  16568  16568  16568\n",
              "01f1  36333  36333  34942\n",
              "0220  41538  41538  40175\n",
              "0260  16556  16556  16556\n",
              "02a0  16151  16151  16151\n",
              "02b0  13620  13620  13620\n",
              "02c0  31645  31645  30320\n",
              "0316  19758  19758  19758\n",
              "0329  15886  15886  15886\n",
              "0350   7968   7968   7968\n",
              "0370  16016  16016  16016\n",
              "0382   8152   8152   8152\n",
              "043f  16684  16684  16684\n",
              "0440  15831  15831  15831\n",
              "04b0  35834  35834  34496\n",
              "04b1  36043  36043  34744\n",
              "04f0   7857   7857   7857\n",
              "04f1   1535   1535   1535\n",
              "04f2   8469   8469   8469\n",
              "0510   1641   1641   1641\n",
              "0517    761    761    761\n",
              "051a    782    782    782\n",
              "0545  15293  15293  15293\n",
              "0587   1663   1663   1663\n",
              "059b   1537   1537   1537\n",
              "05a0  29891  29891  28568\n",
              "05a2  29368  29368  28073\n",
              "05e4   1330   1330   1330\n",
              "05f0    688    688    688\n",
              "0690   1411   1411   1411"
            ]
          },
          "metadata": {
            "tags": []
          },
          "execution_count": 76
        }
      ]
    },
    {
      "cell_type": "markdown",
      "metadata": {
        "id": "ZEUzpTz8zhy5"
      },
      "source": [
        "## Attack Free Dataset"
      ]
    },
    {
      "cell_type": "code",
      "metadata": {
        "id": "ecQSWtzEzW5r",
        "outputId": "b162cdb3-22de-4709-ae85-e9f1b565cc3e",
        "colab": {
          "base_uri": "https://localhost:8080/"
        }
      },
      "source": [
        "count = len(open('/content/drive/My Drive/Colab Notebooks/CS581-TestResults/project-data/Attack_free_dataset.txt','r').readlines())\n",
        "count"
      ],
      "execution_count": 77,
      "outputs": [
        {
          "output_type": "execute_result",
          "data": {
            "text/plain": [
              "2369398"
            ]
          },
          "metadata": {
            "tags": []
          },
          "execution_count": 77
        }
      ]
    },
    {
      "cell_type": "code",
      "metadata": {
        "id": "fa1wtNOL0Vwp"
      },
      "source": [
        "dfdict3 = {}"
      ],
      "execution_count": 81,
      "outputs": []
    },
    {
      "cell_type": "code",
      "metadata": {
        "id": "eg4FLaCI0Vws"
      },
      "source": [
        "with open('/content/drive/My Drive/Colab Notebooks/CS581-TestResults/project-data/Attack_free_dataset.txt','r') as file:\n",
        "    for line in file.readlines():\n",
        "        line = line.split()\n",
        "        line.remove('Timestamp:')\n",
        "        line.remove('ID:')\n",
        "        line.remove('DLC:')\n",
        "        if len(line) > 4:\n",
        "            line[4] = line[4:]\n",
        "            line = line[:5]            \n",
        "        dfdict3[float(line[0])] = line[1:]\n",
        "        # print(line)"
      ],
      "execution_count": 82,
      "outputs": []
    },
    {
      "cell_type": "code",
      "metadata": {
        "id": "DstmJEcW0Vwu",
        "outputId": "f885c2b4-f218-49f7-dcdb-c23c7323444e",
        "colab": {
          "base_uri": "https://localhost:8080/",
          "height": 431
        }
      },
      "source": [
        "df3 = pd.DataFrame(dict([ (k,pd.Series(v)) for k,v in dfdict3.items() ]))\n",
        "df3 = df3.T\n",
        "df3.columns = ['ID','RTR','DLC','Data'] \n",
        "df3.index = df3.index.rename('Timestamp')\n",
        "df3"
      ],
      "execution_count": 83,
      "outputs": [
        {
          "output_type": "execute_result",
          "data": {
            "text/html": [
              "<div>\n",
              "<style scoped>\n",
              "    .dataframe tbody tr th:only-of-type {\n",
              "        vertical-align: middle;\n",
              "    }\n",
              "\n",
              "    .dataframe tbody tr th {\n",
              "        vertical-align: top;\n",
              "    }\n",
              "\n",
              "    .dataframe thead th {\n",
              "        text-align: right;\n",
              "    }\n",
              "</style>\n",
              "<table border=\"1\" class=\"dataframe\">\n",
              "  <thead>\n",
              "    <tr style=\"text-align: right;\">\n",
              "      <th></th>\n",
              "      <th>ID</th>\n",
              "      <th>RTR</th>\n",
              "      <th>DLC</th>\n",
              "      <th>Data</th>\n",
              "    </tr>\n",
              "    <tr>\n",
              "      <th>Timestamp</th>\n",
              "      <th></th>\n",
              "      <th></th>\n",
              "      <th></th>\n",
              "      <th></th>\n",
              "    </tr>\n",
              "  </thead>\n",
              "  <tbody>\n",
              "    <tr>\n",
              "      <th>0.000000</th>\n",
              "      <td>0316</td>\n",
              "      <td>000</td>\n",
              "      <td>8</td>\n",
              "      <td>[05, 20, ea, 0a, 20, 1a, 00, 7f]</td>\n",
              "    </tr>\n",
              "    <tr>\n",
              "      <th>0.000224</th>\n",
              "      <td>0329</td>\n",
              "      <td>000</td>\n",
              "      <td>8</td>\n",
              "      <td>[d7, a7, 7f, 8c, 11, 2f, 00, 10]</td>\n",
              "    </tr>\n",
              "    <tr>\n",
              "      <th>0.000462</th>\n",
              "      <td>0080</td>\n",
              "      <td>000</td>\n",
              "      <td>8</td>\n",
              "      <td>[00, 17, ea, 0a, 20, 1a, 20, 43]</td>\n",
              "    </tr>\n",
              "    <tr>\n",
              "      <th>0.000704</th>\n",
              "      <td>0081</td>\n",
              "      <td>000</td>\n",
              "      <td>8</td>\n",
              "      <td>[7f, 84, 60, 00, 00, 00, 00, 53]</td>\n",
              "    </tr>\n",
              "    <tr>\n",
              "      <th>0.000878</th>\n",
              "      <td>0120</td>\n",
              "      <td>000</td>\n",
              "      <td>4</td>\n",
              "      <td>[00, 00, 00, 00]</td>\n",
              "    </tr>\n",
              "    <tr>\n",
              "      <th>...</th>\n",
              "      <td>...</td>\n",
              "      <td>...</td>\n",
              "      <td>...</td>\n",
              "      <td>...</td>\n",
              "    </tr>\n",
              "    <tr>\n",
              "      <th>1037.589395</th>\n",
              "      <td>0044</td>\n",
              "      <td>000</td>\n",
              "      <td>8</td>\n",
              "      <td>[00, 00, 00, ff, 6f, 00, 00, 00]</td>\n",
              "    </tr>\n",
              "    <tr>\n",
              "      <th>1037.589628</th>\n",
              "      <td>0165</td>\n",
              "      <td>000</td>\n",
              "      <td>8</td>\n",
              "      <td>[11, e8, 7f, 00, 00, 00, 0c, 8a]</td>\n",
              "    </tr>\n",
              "    <tr>\n",
              "      <th>1037.589812</th>\n",
              "      <td>02b0</td>\n",
              "      <td>000</td>\n",
              "      <td>5</td>\n",
              "      <td>[23, 00, 00, 07, ac]</td>\n",
              "    </tr>\n",
              "    <tr>\n",
              "      <th>1037.590065</th>\n",
              "      <td>04b0</td>\n",
              "      <td>000</td>\n",
              "      <td>8</td>\n",
              "      <td>[00, 00, 00, 00, 00, 00, 00, 00]</td>\n",
              "    </tr>\n",
              "    <tr>\n",
              "      <th>1037.590316</th>\n",
              "      <td>0164</td>\n",
              "      <td>000</td>\n",
              "      <td>8</td>\n",
              "      <td>[00, 08, 00, 00, 00, 00, 08, 00]</td>\n",
              "    </tr>\n",
              "  </tbody>\n",
              "</table>\n",
              "<p>2369398 rows × 4 columns</p>\n",
              "</div>"
            ],
            "text/plain": [
              "               ID  RTR DLC                              Data\n",
              "Timestamp                                                   \n",
              "0.000000     0316  000   8  [05, 20, ea, 0a, 20, 1a, 00, 7f]\n",
              "0.000224     0329  000   8  [d7, a7, 7f, 8c, 11, 2f, 00, 10]\n",
              "0.000462     0080  000   8  [00, 17, ea, 0a, 20, 1a, 20, 43]\n",
              "0.000704     0081  000   8  [7f, 84, 60, 00, 00, 00, 00, 53]\n",
              "0.000878     0120  000   4                  [00, 00, 00, 00]\n",
              "...           ...  ...  ..                               ...\n",
              "1037.589395  0044  000   8  [00, 00, 00, ff, 6f, 00, 00, 00]\n",
              "1037.589628  0165  000   8  [11, e8, 7f, 00, 00, 00, 0c, 8a]\n",
              "1037.589812  02b0  000   5              [23, 00, 00, 07, ac]\n",
              "1037.590065  04b0  000   8  [00, 00, 00, 00, 00, 00, 00, 00]\n",
              "1037.590316  0164  000   8  [00, 08, 00, 00, 00, 00, 08, 00]\n",
              "\n",
              "[2369398 rows x 4 columns]"
            ]
          },
          "metadata": {
            "tags": []
          },
          "execution_count": 83
        }
      ]
    },
    {
      "cell_type": "code",
      "metadata": {
        "id": "iJw9Ug030Vww",
        "outputId": "f517e830-db04-42d2-9518-ae6f1899726c",
        "colab": {
          "base_uri": "https://localhost:8080/"
        }
      },
      "source": [
        "df3.index.max()"
      ],
      "execution_count": 84,
      "outputs": [
        {
          "output_type": "execute_result",
          "data": {
            "text/plain": [
              "1037.590316"
            ]
          },
          "metadata": {
            "tags": []
          },
          "execution_count": 84
        }
      ]
    },
    {
      "cell_type": "code",
      "metadata": {
        "id": "ZtkQ56_F0Vwy"
      },
      "source": [
        "df3.to_csv('/content/drive/My Drive/Colab Notebooks/CS581-TestResults/project-data/Attack_free_dataset.csv')"
      ],
      "execution_count": 85,
      "outputs": []
    },
    {
      "cell_type": "code",
      "metadata": {
        "id": "i3p9A20t0Pdb"
      },
      "source": [
        ""
      ],
      "execution_count": null,
      "outputs": []
    },
    {
      "cell_type": "markdown",
      "metadata": {
        "id": "GFHwCsSLzpua"
      },
      "source": [
        "## Impersonation Attack Dataset"
      ]
    },
    {
      "cell_type": "code",
      "metadata": {
        "id": "ICF5i2xxzsNr",
        "outputId": "be0a5b7f-9a1d-439d-ba3a-373338017c29",
        "colab": {
          "base_uri": "https://localhost:8080/"
        }
      },
      "source": [
        "count = len(open('/content/drive/My Drive/Colab Notebooks/CS581-TestResults/project-data/Impersonation_attack_dataset.txt','r').readlines())\n",
        "count"
      ],
      "execution_count": 86,
      "outputs": [
        {
          "output_type": "execute_result",
          "data": {
            "text/plain": [
              "995472"
            ]
          },
          "metadata": {
            "tags": []
          },
          "execution_count": 86
        }
      ]
    },
    {
      "cell_type": "code",
      "metadata": {
        "id": "oSpQvxoL0vtx"
      },
      "source": [
        "dfdict4 = {}"
      ],
      "execution_count": 87,
      "outputs": []
    },
    {
      "cell_type": "code",
      "metadata": {
        "id": "LOo4lZva0vt0"
      },
      "source": [
        "with open('/content/drive/My Drive/Colab Notebooks/CS581-TestResults/project-data/Impersonation_attack_dataset.txt','r') as file:\n",
        "    for line in file.readlines():\n",
        "        line = line.split()\n",
        "        line.remove('Timestamp:')\n",
        "        line.remove('ID:')\n",
        "        line.remove('DLC:')\n",
        "        if len(line) > 4:\n",
        "            line[4] = line[4:]\n",
        "            line = line[:5]            \n",
        "        dfdict4[float(line[0])] = line[1:]\n",
        "        # print(line)"
      ],
      "execution_count": 88,
      "outputs": []
    },
    {
      "cell_type": "code",
      "metadata": {
        "id": "3bolQ4ST0vt2",
        "outputId": "e4ae6e48-39d3-47c4-ebd2-a09a7ed37f3e",
        "colab": {
          "base_uri": "https://localhost:8080/",
          "height": 431
        }
      },
      "source": [
        "df4 = pd.DataFrame(dict([ (k,pd.Series(v)) for k,v in dfdict4.items() ]))\n",
        "df4 = df4.T\n",
        "df4.columns = ['ID','RTR','DLC','Data'] \n",
        "df4.index = df4.index.rename('Timestamp')\n",
        "df4"
      ],
      "execution_count": 89,
      "outputs": [
        {
          "output_type": "execute_result",
          "data": {
            "text/html": [
              "<div>\n",
              "<style scoped>\n",
              "    .dataframe tbody tr th:only-of-type {\n",
              "        vertical-align: middle;\n",
              "    }\n",
              "\n",
              "    .dataframe tbody tr th {\n",
              "        vertical-align: top;\n",
              "    }\n",
              "\n",
              "    .dataframe thead th {\n",
              "        text-align: right;\n",
              "    }\n",
              "</style>\n",
              "<table border=\"1\" class=\"dataframe\">\n",
              "  <thead>\n",
              "    <tr style=\"text-align: right;\">\n",
              "      <th></th>\n",
              "      <th>ID</th>\n",
              "      <th>RTR</th>\n",
              "      <th>DLC</th>\n",
              "      <th>Data</th>\n",
              "    </tr>\n",
              "    <tr>\n",
              "      <th>Timestamp</th>\n",
              "      <th></th>\n",
              "      <th></th>\n",
              "      <th></th>\n",
              "      <th></th>\n",
              "    </tr>\n",
              "  </thead>\n",
              "  <tbody>\n",
              "    <tr>\n",
              "      <th>1.481193e+09</th>\n",
              "      <td>0587</td>\n",
              "      <td>000</td>\n",
              "      <td>8</td>\n",
              "      <td>[00, 00, 00, 00, 00, 00, 00, 01]</td>\n",
              "    </tr>\n",
              "    <tr>\n",
              "      <th>1.481193e+09</th>\n",
              "      <td>0316</td>\n",
              "      <td>000</td>\n",
              "      <td>8</td>\n",
              "      <td>[05, 1c, 6a, 0a, 1c, 13, 00, 7f]</td>\n",
              "    </tr>\n",
              "    <tr>\n",
              "      <th>1.481193e+09</th>\n",
              "      <td>018f</td>\n",
              "      <td>000</td>\n",
              "      <td>8</td>\n",
              "      <td>[00, 21, 1c, 00, 00, 43, 00, 00]</td>\n",
              "    </tr>\n",
              "    <tr>\n",
              "      <th>1.481193e+09</th>\n",
              "      <td>0260</td>\n",
              "      <td>000</td>\n",
              "      <td>8</td>\n",
              "      <td>[05, 1c, 00, 30, ff, 93, 63, 35]</td>\n",
              "    </tr>\n",
              "    <tr>\n",
              "      <th>1.481193e+09</th>\n",
              "      <td>0080</td>\n",
              "      <td>000</td>\n",
              "      <td>8</td>\n",
              "      <td>[00, 17, 6a, 0a, 1c, 13, 1c, 1f]</td>\n",
              "    </tr>\n",
              "    <tr>\n",
              "      <th>...</th>\n",
              "      <td>...</td>\n",
              "      <td>...</td>\n",
              "      <td>...</td>\n",
              "      <td>...</td>\n",
              "    </tr>\n",
              "    <tr>\n",
              "      <th>1.481193e+09</th>\n",
              "      <td>05e4</td>\n",
              "      <td>000</td>\n",
              "      <td>3</td>\n",
              "      <td>[00, 02, 00]</td>\n",
              "    </tr>\n",
              "    <tr>\n",
              "      <th>1.481193e+09</th>\n",
              "      <td>0153</td>\n",
              "      <td>000</td>\n",
              "      <td>8</td>\n",
              "      <td>[00, 80, 10, ff, 00, ff, a0, 2e]</td>\n",
              "    </tr>\n",
              "    <tr>\n",
              "      <th>1.481193e+09</th>\n",
              "      <td>0165</td>\n",
              "      <td>000</td>\n",
              "      <td>8</td>\n",
              "      <td>[0e, d8, 7f, 00, 00, 00, 03, aa]</td>\n",
              "    </tr>\n",
              "    <tr>\n",
              "      <th>1.481193e+09</th>\n",
              "      <td>0220</td>\n",
              "      <td>000</td>\n",
              "      <td>8</td>\n",
              "      <td>[f4, 03, f7, 03, 0c, 00, 3a, 10]</td>\n",
              "    </tr>\n",
              "    <tr>\n",
              "      <th>1.481193e+09</th>\n",
              "      <td>02b0</td>\n",
              "      <td>000</td>\n",
              "      <td>5</td>\n",
              "      <td>[73, 00, 00, 07, 03]</td>\n",
              "    </tr>\n",
              "  </tbody>\n",
              "</table>\n",
              "<p>995472 rows × 4 columns</p>\n",
              "</div>"
            ],
            "text/plain": [
              "                ID  RTR DLC                              Data\n",
              "Timestamp                                                    \n",
              "1.481193e+09  0587  000   8  [00, 00, 00, 00, 00, 00, 00, 01]\n",
              "1.481193e+09  0316  000   8  [05, 1c, 6a, 0a, 1c, 13, 00, 7f]\n",
              "1.481193e+09  018f  000   8  [00, 21, 1c, 00, 00, 43, 00, 00]\n",
              "1.481193e+09  0260  000   8  [05, 1c, 00, 30, ff, 93, 63, 35]\n",
              "1.481193e+09  0080  000   8  [00, 17, 6a, 0a, 1c, 13, 1c, 1f]\n",
              "...            ...  ...  ..                               ...\n",
              "1.481193e+09  05e4  000   3                      [00, 02, 00]\n",
              "1.481193e+09  0153  000   8  [00, 80, 10, ff, 00, ff, a0, 2e]\n",
              "1.481193e+09  0165  000   8  [0e, d8, 7f, 00, 00, 00, 03, aa]\n",
              "1.481193e+09  0220  000   8  [f4, 03, f7, 03, 0c, 00, 3a, 10]\n",
              "1.481193e+09  02b0  000   5              [73, 00, 00, 07, 03]\n",
              "\n",
              "[995472 rows x 4 columns]"
            ]
          },
          "metadata": {
            "tags": []
          },
          "execution_count": 89
        }
      ]
    },
    {
      "cell_type": "code",
      "metadata": {
        "id": "lB101Xqj0vt4",
        "outputId": "7d9ccacd-f980-4fa6-a377-fed364c33329",
        "colab": {
          "base_uri": "https://localhost:8080/"
        }
      },
      "source": [
        "df4.index.max()"
      ],
      "execution_count": 90,
      "outputs": [
        {
          "output_type": "execute_result",
          "data": {
            "text/plain": [
              "1481193380.725113"
            ]
          },
          "metadata": {
            "tags": []
          },
          "execution_count": 90
        }
      ]
    },
    {
      "cell_type": "code",
      "metadata": {
        "id": "uTDFfaF90vt6"
      },
      "source": [
        "df4.to_csv('/content/drive/My Drive/Colab Notebooks/CS581-TestResults/project-data/Impersonation_attack_dataset.csv')"
      ],
      "execution_count": 91,
      "outputs": []
    },
    {
      "cell_type": "code",
      "metadata": {
        "id": "-pucH5wJz0dB"
      },
      "source": [
        ""
      ],
      "execution_count": null,
      "outputs": []
    }
  ]
}